{
 "cells": [
  {
   "cell_type": "code",
   "execution_count": null,
   "metadata": {
    "colab": {
     "base_uri": "https://localhost:8080/",
     "height": 349
    },
    "executionInfo": {
     "elapsed": 132,
     "status": "error",
     "timestamp": 1740694150108,
     "user": {
      "displayName": "Vinit Singh",
      "userId": "08885898808014521859"
     },
     "user_tz": 300
    },
    "id": "P1YXgOsxX4_J",
    "outputId": "48984414-8b75-471e-f6bc-f48de2b83a62"
   },
   "outputs": [],
   "source": [
    "from RBM_surrogate import *\n",
    "from New_MCMC_Proposal import *\n",
    "#from Mixed_RBM import *"
   ]
  },
  {
   "cell_type": "code",
   "execution_count": 2,
   "metadata": {
    "id": "OA_Xgbn5Vuil"
   },
   "outputs": [
    {
     "name": "stderr",
     "output_type": "stream",
     "text": [
      "2025-02-27 22:16:57.752613: I tensorflow/core/util/port.cc:153] oneDNN custom operations are on. You may see slightly different numerical results due to floating-point round-off errors from different computation orders. To turn them off, set the environment variable `TF_ENABLE_ONEDNN_OPTS=0`.\n",
      "2025-02-27 22:16:57.942938: E external/local_xla/xla/stream_executor/cuda/cuda_fft.cc:477] Unable to register cuFFT factory: Attempting to register factory for plugin cuFFT when one has already been registered\n",
      "WARNING: All log messages before absl::InitializeLog() is called are written to STDERR\n",
      "E0000 00:00:1740694617.999936    7199 cuda_dnn.cc:8310] Unable to register cuDNN factory: Attempting to register factory for plugin cuDNN when one has already been registered\n",
      "E0000 00:00:1740694618.015480    7199 cuda_blas.cc:1418] Unable to register cuBLAS factory: Attempting to register factory for plugin cuBLAS when one has already been registered\n",
      "2025-02-27 22:16:58.144797: I tensorflow/core/platform/cpu_feature_guard.cc:210] This TensorFlow binary is optimized to use available CPU instructions in performance-critical operations.\n",
      "To enable the following instructions: AVX2 AVX_VNNI FMA, in other operations, rebuild TensorFlow with the appropriate compiler flags.\n"
     ]
    }
   ],
   "source": [
    "import numpy as np\n",
    "import numpy.linalg as la\n",
    "import time\n",
    "import matplotlib.pyplot as plt\n",
    "\n",
    "import pickle\n",
    "import tensorflow as tf"
   ]
  },
  {
   "cell_type": "code",
   "execution_count": 3,
   "metadata": {
    "id": "Z0DuGMLtNQ8-"
   },
   "outputs": [],
   "source": [
    "N=1\n",
    "M=1\n",
    "D=0\n",
    "beta=1"
   ]
  },
  {
   "cell_type": "code",
   "execution_count": 4,
   "metadata": {
    "id": "Y_oio6ljN3yB"
   },
   "outputs": [],
   "source": [
    "def init(seed=1, vv=False, complex=True, a=[], b=[], w=[]):\n",
    "  np.random.seed(seed)\n",
    "  if complex==True:\n",
    "    X=np.random.randn(N+M+N*M+N*D+D+N*N)+1j*np.random.randn(N+M+N*M+N*D+D+N*N)\n",
    "  else:\n",
    "    X=np.random.randn(N+M+N*M+N*D+D+N*N)\n",
    "\n",
    "  if vv==False:\n",
    "    X[-N*N:] = np.zeros(N*N)\n",
    "  else:\n",
    "    c=np.reshape(X[-N*N:],(N,N))\n",
    "    np.fill_diagonal(c,0)\n",
    "    X[-N*N:] = np.reshape(c,-1)\n",
    "\n",
    "  if len(a)!=0:\n",
    "    X[:N] = a\n",
    "  if len(b)!=0:\n",
    "    X[N:N+M] = b\n",
    "  if len(w)!=0:\n",
    "    X[N+M:N+M+N*M] = np.reshape(w,-1)\n",
    "\n",
    "  X=np.concatenate((np.real(X),np.imag(X)))\n",
    "  return X"
   ]
  },
  {
   "cell_type": "code",
   "execution_count": 5,
   "metadata": {
    "id": "y9ja_Tl_SSla"
   },
   "outputs": [],
   "source": [
    "def get_params(x):\n",
    "  a=x[:N] +1j*x[N:2*N]\n",
    "  b=x[2*N:2*N+M] + 1j*x[2*N+M:2*(N+M)]\n",
    "  #w=np.reshape(x[N+M:],(N,M))\n",
    "  w=np.reshape(x[2*(N+M):2*(N+M)+N*M]+1j*x[2*(N+M)+N*M:],(N,M))\n",
    "  u=np.zeros((N,D))\n",
    "  d=np.zeros(D)\n",
    "  c=np.zeros((N,N))\n",
    "  return a,b,w,u,d,c\n",
    "\n",
    "\n",
    "def fun(x):\n",
    "  E_smpl = smpl.Energy_sampling(H,prob_dist)\n",
    "  return E_smpl\n",
    "\n",
    "def get_grad_params(X):\n",
    "  l = len(X)//2\n",
    "\n",
    "  a=X[:N]+1j*X[l:l+N]\n",
    "  b=X[N:N+M]+1j*X[l+N:l+N+M]\n",
    "  w=np.reshape(X[N+M:N+M+N*M]+1j*X[l+N+M:l+N+M+N*M],(N,M))\n",
    "  u=np.reshape(X[N+M+N*M:N+M+N*M+N*D]+1j*X[l+N+M+N*M:l+N+M+N*M+N*D],(N,D))\n",
    "  d=X[N+M+N*M+N*D:N+M+N*M+N*D+D]+1j*X[l+N+M+N*M+N*D:l+N+M+N*M+N*D+D]\n",
    "  c=np.reshape(X[N+M+N*M+N*D+D:l]+1j*X[l+N+M+N*M+N*D+D:],(N,N))\n",
    "  return a,b,w,u,d,c\n",
    "\n",
    "def jac(x,exact_comp=False):\n",
    "  grad = smpl.grad_Sampling(H,prob_dist)\n",
    "  grad_hist.append(grad)\n",
    "  da, db, dw, _, _, _ = get_grad_params(grad)\n",
    "\n",
    "  '''with open(file+\"grad_smpl_N=\"+str(N)+\"_g=\"+str(g)+\"_seed=\"+str(seed)+\".txt\", \"ab\") as f:\n",
    "    np.savetxt(f, np.reshape(grad,(1,-1)))'''\n",
    "\n",
    "  if exact_comp == True:\n",
    "    grad_exact = smpl.grad_exact(H)\n",
    "    grad_err_hist.append(la.norm(grad - grad_exact))\n",
    "    print(\"Gradient Norm: \", la.norm(grad_exact), \"\\t +/- \\t\", la.norm(grad - grad_exact))\n",
    "    '''with open(file+\"grad_N=\"+str(N)+\"_g=\"+str(g)+\"_seed=\"+str(seed)+\".txt\", \"ab\") as f:\n",
    "      np.savetxt(f, np.reshape(grad_exact,(1,-1)))'''\n",
    "\n",
    "    #grad_hist.append(grad_exact)\n",
    "    #da, db, dw, _, _, _ = get_grad_params(grad_exact)\n",
    "    #return np.concatenate((da,db,np.reshape(dw,-1)))\n",
    "\n",
    "  return np.concatenate((np.real(da),np.imag(da),np.real(db),np.imag(db),np.reshape(np.real(dw),-1),np.reshape(np.imag(dw),-1)))\n",
    "  #return np.concatenate((da,db,np.reshape(dw,-1)))"
   ]
  },
  {
   "cell_type": "code",
   "execution_count": 6,
   "metadata": {
    "id": "mtlrsP0q4QZq"
   },
   "outputs": [],
   "source": [
    "def Sampling(Proposal_object, Transition_matrix, sample_size=10000, burn=1000, method='Quantum', init_config=None):\n",
    "  prob_dist = np.zeros(2**N)\n",
    "\n",
    "  exact_dist = np.exp(-beta * Proposal_object.Energy_array)\n",
    "  exact_dist = exact_dist / np.sum(exact_dist)\n",
    "\n",
    "  #err_hist = []\n",
    "  key_list = []\n",
    "\n",
    "  if init_config==None:\n",
    "    s = np.random.choice([1,-1],size=N)\n",
    "  else: s = init_config\n",
    "\n",
    "  for k in range(burn):\n",
    "    s = Proposal_object.generate_MCMC_trajectories(Transition_matrix, s)\n",
    "\n",
    "  for k in range(sample_size):\n",
    "    s = Proposal_object.generate_MCMC_trajectories(Transition_matrix, s)\n",
    "    key = Proposal_object.get_spinconfig_to_int(s)\n",
    "    prob_dist[key] +=1\n",
    "    key_list.append(key)\n",
    "\n",
    "    #if k%1000 == 999: err_hist.append(np.linalg.norm(exact_dist - prob_dist/np.sum(prob_dist)))\n",
    "\n",
    "  return np.flip(prob_dist/np.sum(prob_dist)), key_list     #This flip is required to make peace with the difference in the convention.\n",
    "  #err_hist"
   ]
  },
  {
   "cell_type": "code",
   "execution_count": null,
   "metadata": {
    "id": "bJVgIymc4S4z"
   },
   "outputs": [],
   "source": []
  },
  {
   "cell_type": "code",
   "execution_count": 7,
   "metadata": {
    "id": "T0n8eOWh4VJU"
   },
   "outputs": [],
   "source": [
    "# Adam optimizer hyperparameters\n",
    "learning_rate = 0.01\n",
    "beta1 = 0.9\n",
    "beta2 = 0.999\n",
    "epsilon = 1e-8"
   ]
  },
  {
   "cell_type": "code",
   "execution_count": 16,
   "metadata": {
    "id": "OE65XSEx4Xfx"
   },
   "outputs": [
    {
     "data": {
      "text/plain": [
       "'/home/cudaq/Quantum-Sampling/Archive'"
      ]
     },
     "execution_count": 16,
     "metadata": {},
     "output_type": "execute_result"
    }
   ],
   "source": [
    "pwd"
   ]
  },
  {
   "cell_type": "code",
   "execution_count": null,
   "metadata": {
    "id": "zkjJjIiEXCOE"
   },
   "outputs": [],
   "source": []
  },
  {
   "cell_type": "code",
   "execution_count": null,
   "metadata": {
    "colab": {
     "base_uri": "https://localhost:8080/"
    },
    "id": "vJFsYo5OiuPf",
    "outputId": "f489d875-017d-4982-d5d9-8936c9ea8896"
   },
   "outputs": [],
   "source": [
    "Ham = np.load(\"graphene_hamiltonian.npy\")\n",
    "\n",
    "exact_energy = []\n",
    "\n",
    "for i in range(len(Ham)):\n",
    "    H = Ham[i]\n",
    "    lmbd,eigvec=np.linalg.eigh(H)\n",
    "    exact_energy.append(lmbd[0])\n",
    "\n",
    "    sample_size = 20000\n",
    "\n",
    "    seed = 0\n",
    "\n",
    "    E_hist=[]\n",
    "    E_err_hist=[]\n",
    "    grad_hist=[]\n",
    "    grad_err_hist=[]\n",
    "\n",
    "    X=init(seed, complex=True)/100\n",
    "\n",
    "    smpl = Sampling_Quantum_vectorized(X,N,M,D,beta=beta)\n",
    "    a,b,w,_,_,_ = smpl.get_params()\n",
    "\n",
    "    x0=np.concatenate((np.real(a),np.imag(a),np.real(b),np.imag(b),np.reshape(np.real(w),-1),np.reshape(np.imag(w),-1)))\n",
    "\n",
    "    tm=time.time()\n",
    "\n",
    "    x = tf.Variable(x0)\n",
    "    optimizer = tf.keras.optimizers.Adam(learning_rate=learning_rate, beta_1=beta1, beta_2=beta2, epsilon=epsilon)\n",
    "\n",
    "    for epoch in range(40):\n",
    "    X = x.numpy()\n",
    "\n",
    "    a,b,w,u,d,c = get_params(X)\n",
    "    X=np.concatenate((a,b,np.reshape(w,-1),np.reshape(u,-1),d,np.reshape(c,-1)))\n",
    "    X=np.concatenate((np.real(X),np.imag(X)))\n",
    "\n",
    "    smpl = Sampling_Quantum_vectorized(X,N,M,D,beta=beta)\n",
    "\n",
    "    one_body_coeffs = -smpl.poly[1:1+N]     #np.random.rand(n)\n",
    "    two_body_coeffs = -smpl.poly[1+N:]      #np.random.rand(n**2)\n",
    "\n",
    "    E = smpl.Energy_exact(H)\n",
    "\n",
    "    Proposal_object = All_proposals(inverse_temp=beta, one_body_coeffs=one_body_coeffs,\n",
    "                two_body_coeffs = two_body_coeffs)\n",
    "\n",
    "    Proposal_matrix = Proposal_object.get_quantum_circuit_proposal_matrix(mode=\"Trotter error/no Sampling error\")\n",
    "    Proposal_matrix_exact = Proposal_object.get_quantum_circuit_proposal_matrix(mode=\"Exact-no Trotter error/no Sampling error\")\n",
    "\n",
    "    proposal_norm = np.linalg.norm(Proposal_matrix_exact)\n",
    "    trotter_error = np.linalg.norm(Proposal_matrix_exact - Proposal_matrix)\n",
    "\n",
    "    Proposal_object.get_energy_array().Energy_array\n",
    "    Transition_matrix = np.real(Proposal_object.get_transition_matrix_from_proposal(Proposal_matrix, acceptance_criteria='metropolis'))\n",
    "\n",
    "    prob_dist, sample_list = Sampling(Proposal_object, Transition_matrix, sample_size, burn=sample_size//10)\n",
    "\n",
    "    E_smpl = fun(x)\n",
    "    print(\"Energy: \", E, \"\\t +/- \\t\", np.abs(E_smpl - E))\n",
    "    grad = jac(x)\n",
    "\n",
    "    optimizer.apply_gradients([(grad, x)])\n",
    "\n",
    "    E_hist.append(E_smpl)\n",
    "    E_err_hist.append(np.abs(E_smpl - E))\n",
    "\n",
    "    #Calculating quantities\n",
    "    s = smpl.enum(N)\n",
    "    local_energies = smpl.local_energy(H,s)\n",
    "    kernels = smpl.kernel(s)\n",
    "    phi = smpl.prob(s)\n",
    "\n",
    "    derivative_op_diag = np.zeros((12,2**N),dtype=complex)\n",
    "    local_gradients = np.zeros((12,2**N),dtype=complex)\n",
    "    s_vec = np.reshape(s, (len(s),1,N))\n",
    "\n",
    "    da,db,dw,du,dd,dc = get_params(grad)\n",
    "    dw = np.reshape(dw,-1)\n",
    "\n",
    "    idx_list = np.array([np.argmin(np.abs(da)), np.argmax(np.abs(da)), N+np.argmin(np.abs(db)), N+np.argmax(np.abs(db)), N+M+np.argmin(np.abs(dw)), N+M+np.argmax(np.abs(dw))])\n",
    "    idx_list = np.concatenate((idx_list,idx_list+N+M+N*M+N*D+D+N*N))\n",
    "\n",
    "    for i in range(12):\n",
    "        idx = idx_list[i]\n",
    "        var, _, _ = smpl.map_idx_to_var(idx)\n",
    "        local_gradients[i] = smpl.local_gradient(H,s,idx)\n",
    "        derivative_op_diag[i] = smpl.derivative_operator(s,s_vec,idx)[:,0]\n",
    "\n",
    "    print(\"\\n\\n\\nEnergy: \",fun(x),\"\\n Time\",time.time()-tm, lmbd[0])\n",
    "\n",
    "    #ya, iter = smpl.median_filter(np.real(E_hist))\n",
    "    ya = np.real(E_hist)\n",
    "    xa = np.arange(len(ya))\n",
    "    ci = np.array(E_err_hist) #[iter]\n",
    "    fig, ax = plt.subplots()\n",
    "    ax.plot(ya)\n",
    "    ax.fill_between(xa, (ya-ci), (ya+ci), color='r', alpha=.5)\n",
    "    ax.set_ylabel(\"Energy\")\n",
    "    ax.set_xlabel(\"Epochs\")\n",
    "    plt.hlines(lmbd[0],0,len(xa)-1,color='r',linestyles='dashed')\n",
    "    plt.show()\n",
    "\n"
   ]
  },
  {
   "cell_type": "code",
   "execution_count": null,
   "metadata": {},
   "outputs": [
    {
     "data": {
      "text/plain": [
       "[<matplotlib.lines.Line2D at 0x7f3563ebf550>]"
      ]
     },
     "execution_count": 26,
     "metadata": {},
     "output_type": "execute_result"
    },
    {
     "data": {
      "image/png": "[encoded data removed]",
      "text/plain": [
       "<Figure size 640x480 with 1 Axes>"
      ]
     },
     "metadata": {},
     "output_type": "display_data"
    }
   ],
   "source": [
    "plt.plot(exact_energy)"
   ]
  },
  {
   "cell_type": "code",
   "execution_count": null,
   "metadata": {
    "id": "J9lflB94G9IN"
   },
   "outputs": [],
   "source": []
  },
  {
   "cell_type": "code",
   "execution_count": null,
   "metadata": {
    "colab": {
     "base_uri": "https://localhost:8080/",
     "height": 1000
    },
    "id": "rN69xCxS4YA5",
    "outputId": "81a38c42-f805-4974-9c63-a423274e6ec0"
   },
   "outputs": [
    {
     "name": "stdout",
     "output_type": "stream",
     "text": [
      "Energy:  -4.100454402577146 \t +/- \t 0.0007375702178142873\n",
      "Energy:  -4.202368561090254 \t +/- \t 0.0004200618384047061\n",
      "Energy:  -4.302645035351745 \t +/- \t 0.0003138016415498157\n",
      "Energy:  -4.40359516967076 \t +/- \t 0.0001286055210236725\n",
      "Energy:  -4.505084103608776 \t +/- \t 9.690941355167126e-05\n",
      "Energy:  -4.606988136154948 \t +/- \t 0.0002392683904677284\n",
      "Energy:  -4.709195412703962 \t +/- \t 0.00014255595781609287\n",
      "Energy:  -4.811891917922267 \t +/- \t 0.0002438298565126118\n",
      "Energy:  -4.91517652283823 \t +/- \t 0.00022654200033844774\n",
      "Energy:  -5.01862219579243 \t +/- \t 0.0004426495753557802\n",
      "Energy:  -5.121913749889038 \t +/- \t 0.000154344202981882\n",
      "Energy:  -5.225049228372572 \t +/- \t 0.0003040196553811825\n",
      "Energy:  -5.328010667855314 \t +/- \t 0.00035954100692681124\n",
      "Energy:  -5.430911410106502 \t +/- \t 0.0002495772202344426\n",
      "Energy:  -5.53367032362218 \t +/- \t 4.3478786341033526e-05\n",
      "Energy:  -5.636435267232023 \t +/- \t 7.244032725584049e-05\n",
      "Energy:  -5.739300883611631 \t +/- \t 0.0004990762410841398\n",
      "Energy:  -5.84198911118528 \t +/- \t 0.0008515773886568212\n",
      "Energy:  -5.944233633099453 \t +/- \t 0.0025602782394056334\n",
      "Energy:  -6.045398965596569 \t +/- \t 0.000897183187063888\n",
      "Energy:  -6.146064029925254 \t +/- \t 1.976424427674317e-05\n",
      "Energy:  -6.246033383603264 \t +/- \t 0.0018972589032406617\n",
      "Energy:  -6.344558891834284 \t +/- \t 0.0003055986884676898\n",
      "Energy:  -6.441425434917908 \t +/- \t 0.0008944783725608474\n",
      "Energy:  -6.535807416102782 \t +/- \t 0.0019981897418492878\n",
      "Energy:  -6.627244399521131 \t +/- \t 1.6106203597487934e-06\n",
      "Energy:  -6.714381668309792 \t +/- \t 0.0006553354114577914\n",
      "Energy:  -6.796300041423003 \t +/- \t 3.057643271020538e-06\n",
      "Energy:  -6.872793695345956 \t +/- \t 0.0003904055807399942\n",
      "Energy:  -6.943149327755396 \t +/- \t 0.00019583530463851417\n",
      "Energy:  -7.0067660402216845 \t +/- \t 0.00076708424527272\n",
      "Energy:  -7.0633378173195425 \t +/- \t 0.0014656062747206988\n",
      "Energy:  -7.112141341230208 \t +/- \t 2.527336723012752e-06\n",
      "Energy:  -7.153139696068234 \t +/- \t 0.0018030635298771358\n",
      "Energy:  -7.1858989801561295 \t +/- \t 0.0020368500424163827\n",
      "Energy:  -7.211190688745416 \t +/- \t 0.0013586548910158314\n",
      "Energy:  -7.228649644063979 \t +/- \t 0.0004837334495766399\n",
      "Energy:  -7.23911072942791 \t +/- \t 0.0006499346729489375\n",
      "Energy:  -7.243066612273378 \t +/- \t 0.0002413303328649974\n",
      "Energy:  -7.241648912411474 \t +/- \t 0.0009795135284278444\n",
      "\n",
      "\n",
      "\n",
      "Energy:  -7.240669398883046 \n",
      " Time 11.51474642753601 -7.243578180641155\n"
     ]
    },
    {
     "data": {
      "image/png": "[encoded data removed]",
      "text/plain": [
       "<Figure size 640x480 with 1 Axes>"
      ]
     },
     "metadata": {},
     "output_type": "display_data"
    },
    {
     "name": "stdout",
     "output_type": "stream",
     "text": [
      "dictionary saved successfully to file\n"
     ]
    }
   ],
   "source": []
  },
  {
   "cell_type": "code",
   "execution_count": null,
   "metadata": {
    "id": "8qiKNF57QoI0"
   },
   "outputs": [],
   "source": []
  }
 ],
 "metadata": {
  "colab": {
   "provenance": []
  },
  "kernelspec": {
   "display_name": "Python 3",
   "language": "python",
   "name": "python3"
  },
  "language_info": {
   "codemirror_mode": {
    "name": "ipython",
    "version": 3
   },
   "file_extension": ".py",
   "mimetype": "text/x-python",
   "name": "python",
   "nbconvert_exporter": "python",
   "pygments_lexer": "ipython3",
   "version": "3.10.12"
  }
 },
 "nbformat": 4,
 "nbformat_minor": 0
}
