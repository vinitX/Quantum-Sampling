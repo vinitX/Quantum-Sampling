{
 "cells": [
  {
   "cell_type": "code",
   "execution_count": 22,
   "metadata": {},
   "outputs": [],
   "source": [
    "import quimb as qu\n",
    "import quimb.tensor as qtn\n",
    "import numpy as np"
   ]
  },
  {
   "cell_type": "code",
   "execution_count": 204,
   "metadata": {},
   "outputs": [],
   "source": [
    "def build_circuit(n_qubits, depth, gate_params):\n",
    "    \"\"\"Build a quantum circuit and convert it to an MPO.\"\"\"\n",
    "    # Initialize the quantum circuit\n",
    "    circuit = qtn.Circuit(n_qubits)\n",
    "\n",
    "    for layer in range(depth):\n",
    "        # Apply single-qubit RX rotations\n",
    "        for i in range(n_qubits):\n",
    "            theta = gate_params['single'][layer, i]\n",
    "            circuit.apply_gate('rx', theta, i)\n",
    "\n",
    "        # Apply two-qubit RZZ gates (nearest neighbors)\n",
    "        for i in range(n_qubits - 1):\n",
    "            for j in range(i+1, n_qubits):\n",
    "                angle = gate_params['rzz'][layer, i, j]\n",
    "                circuit.apply_gate('rzz', angle, i, j)\n",
    "\n",
    "    for i in range(n_qubits):\n",
    "        theta = gate_params['single'][depth-1, i]\n",
    "        circuit.apply_gate('rx', depth-1, i)\n",
    "\n",
    "    # Convert the circuit to an MPO\n",
    "    #mpo = circuit.to_mpo()\n",
    "    return circuit\n"
   ]
  },
  {
   "cell_type": "code",
   "execution_count": 205,
   "metadata": {},
   "outputs": [
    {
     "data": {
      "text/plain": [
       "(<Figure size 800x100 with 1 Axes>, <Axes: >)"
      ]
     },
     "execution_count": 205,
     "metadata": {},
     "output_type": "execute_result"
    },
    {
     "data": {
      "image/png": "[encoded data removed]",
      "text/plain": [
       "<Figure size 800x100 with 1 Axes>"
      ]
     },
     "metadata": {
      "needs_background": "light"
     },
     "output_type": "display_data"
    }
   ],
   "source": [
    "n_qubits = 6\n",
    "depth = 2\n",
    "params = {\n",
    "    'single': np.random.uniform(0, 2*np.pi, (depth+1, n_qubits)),\n",
    "    'rzz': np.random.uniform(0, 2*np.pi, (depth, n_qubits, n_qubits))\n",
    "}\n",
    "\n",
    "circuit = build_circuit(n_qubits, depth, params)\n",
    "circuit.draw()"
   ]
  },
  {
   "cell_type": "code",
   "execution_count": null,
   "metadata": {},
   "outputs": [],
   "source": [
    "def Singular_values(mpo,i):\n",
    "    #Returns singular values of an MPO at i'th site\n",
    "    A = mpo[i].data\n",
    "    chi = A.shape[1]  #Bond Dimension\n",
    "    A = np.transpose(A, (0,2,3,1))\n",
    "    A = np.reshape(A, (-1,chi))\n",
    "\n",
    "    B = mpo[i+1].data\n",
    "    B = np.reshape(B, (chi,-1))\n",
    "\n",
    "    S = np.linalg.svd(A@B, compute_uv=False)\n",
    "    return S"
   ]
  },
  {
   "cell_type": "code",
   "execution_count": null,
   "metadata": {},
   "outputs": [],
   "source": [
    "import quimb as qu\n",
    "import quimb.tensor as qtn\n",
    "import numpy as np\n",
    "\n",
    "def swap_gate():\n",
    "    \"\"\"Returns the SWAP gate as a (2,2,2,2) tensor.\"\"\"\n",
    "    SWAP = np.array([[1, 0, 0, 0], \n",
    "                     [0, 0, 1, 0], \n",
    "                     [0, 1, 0, 0], \n",
    "                     [0, 0, 0, 1]])\n",
    "    return SWAP\n",
    "\n",
    "def rzz(theta):\n",
    "    \"\"\"Create the RZZ gate matrix.\"\"\"\n",
    "    ZZ = np.kron(qu.pauli('Z'), qu.pauli('Z'))\n",
    "    return qu.expm(-1j * theta / 2 * ZZ)\n",
    "\n",
    "\n",
    "def rx(theta):\n",
    "    return qu.expm(-1j * theta / 2 * qu.pauli('X'))\n",
    "\n",
    "def u3(angles):\n",
    "    theta, phi, lam = angles\n",
    "    return np.array([\n",
    "        [np.cos(theta / 2), -np.exp(1j * lam) * np.sin(theta / 2)],\n",
    "        [np.exp(1j * phi) * np.sin(theta / 2), np.exp(1j * (phi + lam)) * np.cos(theta / 2)]], dtype=complex)\n",
    "\n",
    "\n",
    "def decompose_two_qubit_gate(gate, cutoff=1e-14):\n",
    "    gate = np.reshape(gate, (2,2,2,2))\n",
    "    gate = np.transpose(gate, (0,2,1,3))\n",
    "    gate = np.reshape(gate, (4,4))\n",
    "\n",
    "    U, S, Vh = np.linalg.svd(gate)  \n",
    "    S_diag = np.diag(S)  \n",
    "    print(\"singular values: \", S)\n",
    "    bd = np.sum(S>cutoff)\n",
    "    print(\"Bond Dimension: \", bd)\n",
    "\n",
    "    # Absorb sqrt(S) into U and Vh to get two-site tensors\n",
    "    U_new = U @ np.sqrt(S_diag)\n",
    "    Vh_new = np.sqrt(S_diag) @ Vh\n",
    "\n",
    "    U_new = U_new[:,:bd]\n",
    "    Vh_new = Vh_new[:bd,:]\n",
    "\n",
    "    U_new = (U_new.T).reshape(1, -1, 2, 2)\n",
    "    Vh_new = Vh_new.reshape(-1, 1, 2, 2)\n",
    "\n",
    "    return U_new, Vh_new, bd\n",
    "\n",
    "\n",
    "def create_non_local_gate_mpo(gate, i, j, N):\n",
    "    assert i < j\n",
    "    assert i >= 0\n",
    "    assert j < N\n",
    "    \n",
    "    tensors = []\n",
    "    for _ in range(i):\n",
    "        tensors.append(np.reshape(np.eye(2),(1,1,2,2)))\n",
    "    \n",
    "    U, V, bd = decompose_two_qubit_gate(gate)\n",
    "\n",
    "    #if i==0: tensors.append(U.reshape((-1,2,2)))\n",
    "    #else: \n",
    "    tensors.append(U)\n",
    "\n",
    "    delta_ij = np.eye(bd)\n",
    "    delta_ab = np.eye(2)\n",
    "    I = np.einsum('ij,ab->ijab', delta_ij, delta_ab)\n",
    "\n",
    "    for _ in range(i+1,j):\n",
    "        tensors.append(I)\n",
    "\n",
    "    #if j==N-1: tensors.append(V.reshape((-1,2,2)))\n",
    "    #else: \n",
    "    tensors.append(V)\n",
    "\n",
    "    for _ in range(j+1,N):\n",
    "        tensors.append(np.reshape(np.eye(2),(1,1,2,2)))\n",
    "\n",
    "    print([itm.shape for itm in tensors])\n",
    "    mpo = qtn.MatrixProductOperator(tensors)\n",
    "    print(mpo.show())\n",
    "\n",
    "    return mpo\n",
    "\n",
    "\n",
    "def U3_layer_mpo(angles, N):\n",
    "    tensors = []\n",
    "    for i in range(N):\n",
    "        gate = u3(angles[3*i:3*(i+1)])\n",
    "        #if i==0 or i==N-1: tensors.append(gate.reshape(1,2,2))\n",
    "        #else: \n",
    "        tensors.append(gate.reshape(1,1,2,2))\n",
    "\n",
    "    mpo = qtn.MatrixProductOperator(tensors)\n",
    "    return mpo"
   ]
  },
  {
   "cell_type": "code",
   "execution_count": 252,
   "metadata": {},
   "outputs": [
    {
     "name": "stdout",
     "output_type": "stream",
     "text": [
      "singular values:  [2.08343298 2.07725107 0.82511461 0.36591692]\n",
      "Bond Dimension:  4\n",
      "[(1, 1, 2, 2), (1, 1, 2, 2), (1, 1, 2, 2), (1, 1, 2, 2), (1, 1, 2, 2), (1, 4, 2, 2), (4, 1, 2, 2)]\n",
      " 1│1│1│1│1│1│4│1 \n",
      "+─●─●─●─●─●─●─●─+\n",
      "  │ │ │ │ │ │ │  \n",
      "None\n"
     ]
    },
    {
     "data": {
      "text/html": [
       "<samp style='font-size: 12px;'><details><summary><b style=\"color: #b4d24a;\">MatrixProductOperator</b>(tensors=7, indices=21, L=7, max_bond=4)</summary><samp style='font-size: 12px;'><details><summary><b style=\"color: #e55471;\">Tensor</b>(shape=(<b style=\"color: #45ce3d;\">1</b>, <b style=\"color: #45ce3d;\">1</b>, <b style=\"color: #828fdd;\">2</b>, <b style=\"color: #828fdd;\">2</b>), inds=[<b style=\"color: #d38c9b;\">_61417fAABKQ</b>, <b style=\"color: #77d964;\">_61417fAABKR</b>, <b style=\"color: #b1dc61;\">k0</b>, <b style=\"color: #e06fe0;\">b0</b>], tags={<b style=\"color: #d2b137;\">I0</b>}),</summary>backend=<b style=\"color: #7fdd73;\">numpy</b>, dtype=<b style=\"color: #75d2c6;\">float64</b>, data=array([[[[1., 0.],\n",
       "         [0., 1.]]]])</details></samp><samp style='font-size: 12px;'><details><summary><b style=\"color: #e55471;\">Tensor</b>(shape=(<b style=\"color: #45ce3d;\">1</b>, <b style=\"color: #45ce3d;\">1</b>, <b style=\"color: #828fdd;\">2</b>, <b style=\"color: #828fdd;\">2</b>), inds=[<b style=\"color: #77d964;\">_61417fAABKR</b>, <b style=\"color: #a058d5;\">_61417fAABKS</b>, <b style=\"color: #8aa5db;\">k1</b>, <b style=\"color: #c757cc;\">b1</b>], tags={<b style=\"color: #d19b78;\">I1</b>}),</summary>backend=<b style=\"color: #7fdd73;\">numpy</b>, dtype=<b style=\"color: #75d2c6;\">float64</b>, data=array([[[[1., 0.],\n",
       "         [0., 1.]]]])</details></samp><samp style='font-size: 12px;'><details><summary><b style=\"color: #e55471;\">Tensor</b>(shape=(<b style=\"color: #45ce3d;\">1</b>, <b style=\"color: #45ce3d;\">1</b>, <b style=\"color: #828fdd;\">2</b>, <b style=\"color: #828fdd;\">2</b>), inds=[<b style=\"color: #a058d5;\">_61417fAABKS</b>, <b style=\"color: #daac53;\">_61417fAABKT</b>, <b style=\"color: #df546d;\">k2</b>, <b style=\"color: #50e1e1;\">b2</b>], tags={<b style=\"color: #dd5dd7;\">I2</b>}),</summary>backend=<b style=\"color: #7fdd73;\">numpy</b>, dtype=<b style=\"color: #75d2c6;\">float64</b>, data=array([[[[1., 0.],\n",
       "         [0., 1.]]]])</details></samp><samp style='font-size: 12px;'><details><summary><b style=\"color: #e55471;\">Tensor</b>(shape=(<b style=\"color: #45ce3d;\">1</b>, <b style=\"color: #45ce3d;\">1</b>, <b style=\"color: #828fdd;\">2</b>, <b style=\"color: #828fdd;\">2</b>), inds=[<b style=\"color: #daac53;\">_61417fAABKT</b>, <b style=\"color: #6aabcd;\">_61417fAABKU</b>, <b style=\"color: #4c7be1;\">k3</b>, <b style=\"color: #e48733;\">b3</b>], tags={<b style=\"color: #dd65d9;\">I3</b>}),</summary>backend=<b style=\"color: #7fdd73;\">numpy</b>, dtype=<b style=\"color: #75d2c6;\">float64</b>, data=array([[[[1., 0.],\n",
       "         [0., 1.]]]])</details></samp><samp style='font-size: 12px;'><details><summary><b style=\"color: #e55471;\">Tensor</b>(shape=(<b style=\"color: #45ce3d;\">1</b>, <b style=\"color: #45ce3d;\">1</b>, <b style=\"color: #828fdd;\">2</b>, <b style=\"color: #828fdd;\">2</b>), inds=[<b style=\"color: #6aabcd;\">_61417fAABKU</b>, <b style=\"color: #4fde89;\">_61417fAABKV</b>, <b style=\"color: #462edc;\">k4</b>, <b style=\"color: #d85349;\">b4</b>], tags={<b style=\"color: #998ad1;\">I4</b>}),</summary>backend=<b style=\"color: #7fdd73;\">numpy</b>, dtype=<b style=\"color: #75d2c6;\">float64</b>, data=array([[[[1., 0.],\n",
       "         [0., 1.]]]])</details></samp><samp style='font-size: 12px;'><details><summary><b style=\"color: #e55471;\">Tensor</b>(shape=(<b style=\"color: #45ce3d;\">1</b>, <b style=\"color: #80d749;\">4</b>, <b style=\"color: #828fdd;\">2</b>, <b style=\"color: #828fdd;\">2</b>), inds=[<b style=\"color: #4fde89;\">_61417fAABKV</b>, <b style=\"color: #e55db4;\">_61417fAABKW</b>, <b style=\"color: #85dfdf;\">k5</b>, <b style=\"color: #be4ee5;\">b5</b>], tags={<b style=\"color: #97dddc;\">I5</b>}),</summary>backend=<b style=\"color: #7fdd73;\">numpy</b>, dtype=<b style=\"color: #75d2c6;\">float64</b>, data=array([[[[ 0.06460462,  0.26768927],\n",
       "         [-1.40036807,  0.21580303]],\n",
       "\n",
       "        [[ 0.54575503, -0.02385767],\n",
       "         [ 0.22325111,  1.3149115 ]],\n",
       "\n",
       "        [[ 0.02742283,  0.89193036],\n",
       "         [ 0.16810481, -0.02374027]],\n",
       "\n",
       "        [[ 0.55891237, -0.02073814],\n",
       "         [-0.01362943, -0.23003922]]]])</details></samp><samp style='font-size: 12px;'><details><summary><b style=\"color: #e55471;\">Tensor</b>(shape=(<b style=\"color: #80d749;\">4</b>, <b style=\"color: #45ce3d;\">1</b>, <b style=\"color: #828fdd;\">2</b>, <b style=\"color: #828fdd;\">2</b>), inds=[<b style=\"color: #e55db4;\">_61417fAABKW</b>, <b style=\"color: #d38c9b;\">_61417fAABKQ</b>, <b style=\"color: #2cb7d3;\">k6</b>, <b style=\"color: #62e49f;\">b6</b>], tags={<b style=\"color: #b2de5f;\">I6</b>}),</summary>backend=<b style=\"color: #7fdd73;\">numpy</b>, dtype=<b style=\"color: #75d2c6;\">float64</b>, data=array([[[[ 0.4970743 , -0.28553258],\n",
       "         [ 0.0866706 , -1.32185834]]],\n",
       "\n",
       "\n",
       "       [[[ 0.38729148, -1.16880299],\n",
       "         [-0.65972368,  0.35485294]]],\n",
       "\n",
       "\n",
       "       [[[ 0.6644666 ,  0.47255157],\n",
       "         [-0.38106729,  0.12280671]]],\n",
       "\n",
       "\n",
       "       [[[ 0.31669904, -0.10919384],\n",
       "         [ 0.47279077,  0.17367853]]]])</details></samp></details></samp>"
      ],
      "text/plain": [
       "MatrixProductOperator(tensors=7, indices=21, L=7, max_bond=4)"
      ]
     },
     "execution_count": 252,
     "metadata": {},
     "output_type": "execute_result"
    }
   ],
   "source": [
    "mpo = create_non_local_gate_mpo(np.random.randn(4,4),5,6,6)\n",
    "mpo"
   ]
  },
  {
   "cell_type": "code",
   "execution_count": 239,
   "metadata": {},
   "outputs": [
    {
     "data": {
      "text/html": [
       "<samp style='font-size: 12px;'><details><summary><b style=\"color: #b4d24a;\">MatrixProductOperator</b>(tensors=6, indices=18, L=6, max_bond=1)</summary><samp style='font-size: 12px;'><details><summary><b style=\"color: #e55471;\">Tensor</b>(shape=(<b style=\"color: #45ce3d;\">1</b>, <b style=\"color: #45ce3d;\">1</b>, <b style=\"color: #828fdd;\">2</b>, <b style=\"color: #828fdd;\">2</b>), inds=[<b style=\"color: #59da2c;\">_61417fAABIj</b>, <b style=\"color: #dfdc56;\">_61417fAABIk</b>, <b style=\"color: #b1dc61;\">k0</b>, <b style=\"color: #e06fe0;\">b0</b>], tags={<b style=\"color: #d2b137;\">I0</b>}),</summary>backend=<b style=\"color: #7fdd73;\">numpy</b>, dtype=<b style=\"color: #443ce1;\">complex128</b>, data=array([[[[ 0.98942404+0.j        , -0.08282381-0.11908104j],\n",
       "         [ 0.14265172-0.02627856j,  0.70276302+0.69647977j]]]])</details></samp><samp style='font-size: 12px;'><details><summary><b style=\"color: #e55471;\">Tensor</b>(shape=(<b style=\"color: #45ce3d;\">1</b>, <b style=\"color: #45ce3d;\">1</b>, <b style=\"color: #828fdd;\">2</b>, <b style=\"color: #828fdd;\">2</b>), inds=[<b style=\"color: #dfdc56;\">_61417fAABIk</b>, <b style=\"color: #8b95d2;\">_61417fAABIl</b>, <b style=\"color: #8aa5db;\">k1</b>, <b style=\"color: #c757cc;\">b1</b>], tags={<b style=\"color: #d19b78;\">I1</b>}),</summary>backend=<b style=\"color: #7fdd73;\">numpy</b>, dtype=<b style=\"color: #443ce1;\">complex128</b>, data=array([[[[ 0.99991806+0.j        , -0.01147496+0.00567524j],\n",
       "         [ 0.01277395-0.00084209j,  0.86518972-0.50128122j]]]])</details></samp><samp style='font-size: 12px;'><details><summary><b style=\"color: #e55471;\">Tensor</b>(shape=(<b style=\"color: #45ce3d;\">1</b>, <b style=\"color: #45ce3d;\">1</b>, <b style=\"color: #828fdd;\">2</b>, <b style=\"color: #828fdd;\">2</b>), inds=[<b style=\"color: #8b95d2;\">_61417fAABIl</b>, <b style=\"color: #d8d386;\">_61417fAABIm</b>, <b style=\"color: #df546d;\">k2</b>, <b style=\"color: #50e1e1;\">b2</b>], tags={<b style=\"color: #dd5dd7;\">I2</b>}),</summary>backend=<b style=\"color: #7fdd73;\">numpy</b>, dtype=<b style=\"color: #443ce1;\">complex128</b>, data=array([[[[ 0.94649074+0.j        , -0.12404407-0.29794018j],\n",
       "         [ 0.27510488+0.16873822j, -0.14674875+0.9350452j ]]]])</details></samp><samp style='font-size: 12px;'><details><summary><b style=\"color: #e55471;\">Tensor</b>(shape=(<b style=\"color: #45ce3d;\">1</b>, <b style=\"color: #45ce3d;\">1</b>, <b style=\"color: #828fdd;\">2</b>, <b style=\"color: #828fdd;\">2</b>), inds=[<b style=\"color: #d8d386;\">_61417fAABIm</b>, <b style=\"color: #82e486;\">_61417fAABIn</b>, <b style=\"color: #4c7be1;\">k3</b>, <b style=\"color: #e48733;\">b3</b>], tags={<b style=\"color: #dd65d9;\">I3</b>}),</summary>backend=<b style=\"color: #7fdd73;\">numpy</b>, dtype=<b style=\"color: #443ce1;\">complex128</b>, data=array([[[[ 0.93696475+0.j        , -0.32747078-0.12190138j],\n",
       "         [ 0.34808777-0.03052799j,  0.9032986 +0.24890677j]]]])</details></samp><samp style='font-size: 12px;'><details><summary><b style=\"color: #e55471;\">Tensor</b>(shape=(<b style=\"color: #45ce3d;\">1</b>, <b style=\"color: #45ce3d;\">1</b>, <b style=\"color: #828fdd;\">2</b>, <b style=\"color: #828fdd;\">2</b>), inds=[<b style=\"color: #82e486;\">_61417fAABIn</b>, <b style=\"color: #d63bac;\">_61417fAABIo</b>, <b style=\"color: #462edc;\">k4</b>, <b style=\"color: #d85349;\">b4</b>], tags={<b style=\"color: #998ad1;\">I4</b>}),</summary>backend=<b style=\"color: #7fdd73;\">numpy</b>, dtype=<b style=\"color: #443ce1;\">complex128</b>, data=array([[[[ 0.87080916+0.j        ,  0.30067251+0.38895688j],\n",
       "         [-0.43899711+0.22129833j,  0.78570123+0.37547591j]]]])</details></samp><samp style='font-size: 12px;'><details><summary><b style=\"color: #e55471;\">Tensor</b>(shape=(<b style=\"color: #45ce3d;\">1</b>, <b style=\"color: #45ce3d;\">1</b>, <b style=\"color: #828fdd;\">2</b>, <b style=\"color: #828fdd;\">2</b>), inds=[<b style=\"color: #d63bac;\">_61417fAABIo</b>, <b style=\"color: #59da2c;\">_61417fAABIj</b>, <b style=\"color: #85dfdf;\">k5</b>, <b style=\"color: #be4ee5;\">b5</b>], tags={<b style=\"color: #97dddc;\">I5</b>}),</summary>backend=<b style=\"color: #7fdd73;\">numpy</b>, dtype=<b style=\"color: #443ce1;\">complex128</b>, data=array([[[[ 0.95718444+0.j        ,  0.26593335-0.11435644j],\n",
       "         [-0.17646589+0.22947272j,  0.23629196-0.92756033j]]]])</details></samp></details></samp>"
      ],
      "text/plain": [
       "MatrixProductOperator(tensors=6, indices=18, L=6, max_bond=1)"
      ]
     },
     "execution_count": 239,
     "metadata": {},
     "output_type": "execute_result"
    }
   ],
   "source": [
    "mpo = U3_layer_mpo(np.random.randn(18),6)\n",
    "mpo"
   ]
  },
  {
   "cell_type": "markdown",
   "metadata": {},
   "source": []
  },
  {
   "cell_type": "code",
   "execution_count": null,
   "metadata": {},
   "outputs": [
    {
     "name": "stdout",
     "output_type": "stream",
     "text": [
      "singular values:  [1.93887619e+00 4.90672108e-01 9.24446373e-33 5.37150428e-65]\n",
      "Bond Dimension:  2\n"
     ]
    },
    {
     "ename": "ValueError",
     "evalue": "axes don't match array",
     "output_type": "error",
     "traceback": [
      "\u001b[0;31m---------------------------------------------------------------------------\u001b[0m",
      "\u001b[0;31mValueError\u001b[0m                                Traceback (most recent call last)",
      "Cell \u001b[0;32mIn[242], line 32\u001b[0m\n\u001b[1;32m     26\u001b[0m depth \u001b[38;5;241m=\u001b[39m \u001b[38;5;241m2\u001b[39m\n\u001b[1;32m     27\u001b[0m params \u001b[38;5;241m=\u001b[39m {\n\u001b[1;32m     28\u001b[0m     \u001b[38;5;124m'\u001b[39m\u001b[38;5;124mu3\u001b[39m\u001b[38;5;124m'\u001b[39m: np\u001b[38;5;241m.\u001b[39mrandom\u001b[38;5;241m.\u001b[39muniform(\u001b[38;5;241m0\u001b[39m, \u001b[38;5;241m2\u001b[39m\u001b[38;5;241m*\u001b[39mnp\u001b[38;5;241m.\u001b[39mpi, (depth\u001b[38;5;241m+\u001b[39m\u001b[38;5;241m1\u001b[39m, \u001b[38;5;241m3\u001b[39m\u001b[38;5;241m*\u001b[39mn_qubits)),\n\u001b[1;32m     29\u001b[0m     \u001b[38;5;124m'\u001b[39m\u001b[38;5;124mzz\u001b[39m\u001b[38;5;124m'\u001b[39m: np\u001b[38;5;241m.\u001b[39mrandom\u001b[38;5;241m.\u001b[39muniform(\u001b[38;5;241m0\u001b[39m, \u001b[38;5;241m2\u001b[39m\u001b[38;5;241m*\u001b[39mnp\u001b[38;5;241m.\u001b[39mpi, (depth, n_qubits, n_qubits))\n\u001b[1;32m     30\u001b[0m }\n\u001b[0;32m---> 32\u001b[0m mpo \u001b[38;5;241m=\u001b[39m \u001b[43mbuild_mpo\u001b[49m\u001b[43m(\u001b[49m\u001b[43mn_qubits\u001b[49m\u001b[43m,\u001b[49m\u001b[43m \u001b[49m\u001b[43mdepth\u001b[49m\u001b[43m,\u001b[49m\u001b[43m \u001b[49m\u001b[43mparams\u001b[49m\u001b[43m)\u001b[49m\n\u001b[1;32m     33\u001b[0m mpo\n",
      "Cell \u001b[0;32mIn[242], line 14\u001b[0m, in \u001b[0;36mbuild_mpo\u001b[0;34m(n_qubits, depth, params)\u001b[0m\n\u001b[1;32m     12\u001b[0m theta \u001b[38;5;241m=\u001b[39m params[\u001b[38;5;124m'\u001b[39m\u001b[38;5;124mzz\u001b[39m\u001b[38;5;124m'\u001b[39m][layer, i, j]\n\u001b[1;32m     13\u001b[0m gate_matrix \u001b[38;5;241m=\u001b[39m rzz(theta)\n\u001b[0;32m---> 14\u001b[0m gate_mpo \u001b[38;5;241m=\u001b[39m \u001b[43mcreate_non_local_gate_mpo\u001b[49m\u001b[43m(\u001b[49m\u001b[43mgate_matrix\u001b[49m\u001b[43m,\u001b[49m\u001b[43m \u001b[49m\u001b[43mi\u001b[49m\u001b[43m,\u001b[49m\u001b[43m \u001b[49m\u001b[43mj\u001b[49m\u001b[43m,\u001b[49m\u001b[43m \u001b[49m\u001b[43mn_qubits\u001b[49m\u001b[43m)\u001b[49m\n\u001b[1;32m     16\u001b[0m \u001b[38;5;66;03m#mpo._apply_mpo(gate_mpo, compress = True) \u001b[39;00m\n\u001b[1;32m     17\u001b[0m mpo\u001b[38;5;241m.\u001b[39mapply(gate_mpo, compress\u001b[38;5;241m=\u001b[39m\u001b[38;5;28;01mTrue\u001b[39;00m)\n",
      "Cell \u001b[0;32mIn[234], line 75\u001b[0m, in \u001b[0;36mcreate_non_local_gate_mpo\u001b[0;34m(gate, i, j, N)\u001b[0m\n\u001b[1;32m     71\u001b[0m \u001b[38;5;28;01mfor\u001b[39;00m _ \u001b[38;5;129;01min\u001b[39;00m \u001b[38;5;28mrange\u001b[39m(j\u001b[38;5;241m+\u001b[39m\u001b[38;5;241m1\u001b[39m,N):\n\u001b[1;32m     72\u001b[0m     tensors\u001b[38;5;241m.\u001b[39mappend(np\u001b[38;5;241m.\u001b[39mreshape(np\u001b[38;5;241m.\u001b[39meye(\u001b[38;5;241m2\u001b[39m),(\u001b[38;5;241m1\u001b[39m,\u001b[38;5;241m1\u001b[39m,\u001b[38;5;241m2\u001b[39m,\u001b[38;5;241m2\u001b[39m)))\n\u001b[0;32m---> 75\u001b[0m mpo \u001b[38;5;241m=\u001b[39m \u001b[43mqtn\u001b[49m\u001b[38;5;241;43m.\u001b[39;49m\u001b[43mMatrixProductOperator\u001b[49m\u001b[43m(\u001b[49m\u001b[43mtensors\u001b[49m\u001b[43m)\u001b[49m\n\u001b[1;32m     77\u001b[0m \u001b[38;5;28;01mreturn\u001b[39;00m mpo\n",
      "File \u001b[0;32m~/.local/lib/python3.10/site-packages/quimb/tensor/tensor_1d.py:3786\u001b[0m, in \u001b[0;36mMatrixProductOperator.__init__\u001b[0;34m(self, arrays, sites, L, shape, tags, upper_ind_id, lower_ind_id, site_tag_id, **tn_opts)\u001b[0m\n\u001b[1;32m   3781\u001b[0m     inds\u001b[38;5;241m.\u001b[39mappend(upper_ind_id\u001b[38;5;241m.\u001b[39mformat(site))\n\u001b[1;32m   3782\u001b[0m     inds\u001b[38;5;241m.\u001b[39mappend(lower_ind_id\u001b[38;5;241m.\u001b[39mformat(site))\n\u001b[1;32m   3784\u001b[0m     tensors\u001b[38;5;241m.\u001b[39mappend(\n\u001b[1;32m   3785\u001b[0m         Tensor(\n\u001b[0;32m-> 3786\u001b[0m             data\u001b[38;5;241m=\u001b[39m\u001b[43mtranspose\u001b[49m\u001b[43m(\u001b[49m\u001b[43marray\u001b[49m\u001b[43m,\u001b[49m\u001b[43m \u001b[49m\u001b[43morder\u001b[49m\u001b[43m)\u001b[49m,\n\u001b[1;32m   3787\u001b[0m             inds\u001b[38;5;241m=\u001b[39minds,\n\u001b[1;32m   3788\u001b[0m             tags\u001b[38;5;241m=\u001b[39mtags \u001b[38;5;241m|\u001b[39m oset([site_tag_id\u001b[38;5;241m.\u001b[39mformat(site)]),\n\u001b[1;32m   3789\u001b[0m         )\n\u001b[1;32m   3790\u001b[0m     )\n\u001b[1;32m   3792\u001b[0m \u001b[38;5;28msuper\u001b[39m()\u001b[38;5;241m.\u001b[39m\u001b[38;5;21m__init__\u001b[39m(tensors, virtual\u001b[38;5;241m=\u001b[39m\u001b[38;5;28;01mTrue\u001b[39;00m, \u001b[38;5;241m*\u001b[39m\u001b[38;5;241m*\u001b[39mtn_opts)\n",
      "File \u001b[0;32m~/.local/lib/python3.10/site-packages/autoray/autoray.py:1056\u001b[0m, in \u001b[0;36mtranspose\u001b[0;34m(x, *args)\u001b[0m\n\u001b[1;32m   1054\u001b[0m \u001b[38;5;28;01mdef\u001b[39;00m\u001b[38;5;250m \u001b[39m\u001b[38;5;21mtranspose\u001b[39m(x, \u001b[38;5;241m*\u001b[39margs):\n\u001b[1;32m   1055\u001b[0m \u001b[38;5;250m    \u001b[39m\u001b[38;5;124;03m\"\"\"Array transpose.\"\"\"\u001b[39;00m\n\u001b[0;32m-> 1056\u001b[0m     \u001b[38;5;28;01mreturn\u001b[39;00m \u001b[43mdo\u001b[49m\u001b[43m(\u001b[49m\u001b[38;5;124;43m\"\u001b[39;49m\u001b[38;5;124;43mtranspose\u001b[39;49m\u001b[38;5;124;43m\"\u001b[39;49m\u001b[43m,\u001b[49m\u001b[43m \u001b[49m\u001b[43mx\u001b[49m\u001b[43m,\u001b[49m\u001b[43m \u001b[49m\u001b[38;5;241;43m*\u001b[39;49m\u001b[43margs\u001b[49m\u001b[43m)\u001b[49m\n",
      "File \u001b[0;32m~/.local/lib/python3.10/site-packages/autoray/autoray.py:81\u001b[0m, in \u001b[0;36mdo\u001b[0;34m(fn, like, *args, **kwargs)\u001b[0m\n\u001b[1;32m     79\u001b[0m backend \u001b[38;5;241m=\u001b[39m _choose_backend(fn, args, kwargs, like\u001b[38;5;241m=\u001b[39mlike)\n\u001b[1;32m     80\u001b[0m func \u001b[38;5;241m=\u001b[39m get_lib_fn(backend, fn)\n\u001b[0;32m---> 81\u001b[0m \u001b[38;5;28;01mreturn\u001b[39;00m \u001b[43mfunc\u001b[49m\u001b[43m(\u001b[49m\u001b[38;5;241;43m*\u001b[39;49m\u001b[43margs\u001b[49m\u001b[43m,\u001b[49m\u001b[43m \u001b[49m\u001b[38;5;241;43m*\u001b[39;49m\u001b[38;5;241;43m*\u001b[39;49m\u001b[43mkwargs\u001b[49m\u001b[43m)\u001b[49m\n",
      "File \u001b[0;32m/usr/local/lib/python3.10/dist-packages/numpy/core/fromnumeric.py:655\u001b[0m, in \u001b[0;36mtranspose\u001b[0;34m(a, axes)\u001b[0m\n\u001b[1;32m    588\u001b[0m \u001b[38;5;129m@array_function_dispatch\u001b[39m(_transpose_dispatcher)\n\u001b[1;32m    589\u001b[0m \u001b[38;5;28;01mdef\u001b[39;00m\u001b[38;5;250m \u001b[39m\u001b[38;5;21mtranspose\u001b[39m(a, axes\u001b[38;5;241m=\u001b[39m\u001b[38;5;28;01mNone\u001b[39;00m):\n\u001b[1;32m    590\u001b[0m \u001b[38;5;250m    \u001b[39m\u001b[38;5;124;03m\"\"\"\u001b[39;00m\n\u001b[1;32m    591\u001b[0m \u001b[38;5;124;03m    Returns an array with axes transposed.\u001b[39;00m\n\u001b[1;32m    592\u001b[0m \n\u001b[0;32m   (...)\u001b[0m\n\u001b[1;32m    653\u001b[0m \n\u001b[1;32m    654\u001b[0m \u001b[38;5;124;03m    \"\"\"\u001b[39;00m\n\u001b[0;32m--> 655\u001b[0m     \u001b[38;5;28;01mreturn\u001b[39;00m \u001b[43m_wrapfunc\u001b[49m\u001b[43m(\u001b[49m\u001b[43ma\u001b[49m\u001b[43m,\u001b[49m\u001b[43m \u001b[49m\u001b[38;5;124;43m'\u001b[39;49m\u001b[38;5;124;43mtranspose\u001b[39;49m\u001b[38;5;124;43m'\u001b[39;49m\u001b[43m,\u001b[49m\u001b[43m \u001b[49m\u001b[43maxes\u001b[49m\u001b[43m)\u001b[49m\n",
      "File \u001b[0;32m/usr/local/lib/python3.10/dist-packages/numpy/core/fromnumeric.py:59\u001b[0m, in \u001b[0;36m_wrapfunc\u001b[0;34m(obj, method, *args, **kwds)\u001b[0m\n\u001b[1;32m     56\u001b[0m     \u001b[38;5;28;01mreturn\u001b[39;00m _wrapit(obj, method, \u001b[38;5;241m*\u001b[39margs, \u001b[38;5;241m*\u001b[39m\u001b[38;5;241m*\u001b[39mkwds)\n\u001b[1;32m     58\u001b[0m \u001b[38;5;28;01mtry\u001b[39;00m:\n\u001b[0;32m---> 59\u001b[0m     \u001b[38;5;28;01mreturn\u001b[39;00m \u001b[43mbound\u001b[49m\u001b[43m(\u001b[49m\u001b[38;5;241;43m*\u001b[39;49m\u001b[43margs\u001b[49m\u001b[43m,\u001b[49m\u001b[43m \u001b[49m\u001b[38;5;241;43m*\u001b[39;49m\u001b[38;5;241;43m*\u001b[39;49m\u001b[43mkwds\u001b[49m\u001b[43m)\u001b[49m\n\u001b[1;32m     60\u001b[0m \u001b[38;5;28;01mexcept\u001b[39;00m \u001b[38;5;167;01mTypeError\u001b[39;00m:\n\u001b[1;32m     61\u001b[0m     \u001b[38;5;66;03m# A TypeError occurs if the object does have such a method in its\u001b[39;00m\n\u001b[1;32m     62\u001b[0m     \u001b[38;5;66;03m# class, but its signature is not identical to that of NumPy's. This\u001b[39;00m\n\u001b[0;32m   (...)\u001b[0m\n\u001b[1;32m     66\u001b[0m     \u001b[38;5;66;03m# Call _wrapit from within the except clause to ensure a potential\u001b[39;00m\n\u001b[1;32m     67\u001b[0m     \u001b[38;5;66;03m# exception has a traceback chain.\u001b[39;00m\n\u001b[1;32m     68\u001b[0m     \u001b[38;5;28;01mreturn\u001b[39;00m _wrapit(obj, method, \u001b[38;5;241m*\u001b[39margs, \u001b[38;5;241m*\u001b[39m\u001b[38;5;241m*\u001b[39mkwds)\n",
      "\u001b[0;31mValueError\u001b[0m: axes don't match array"
     ]
    }
   ],
   "source": [
    "\n",
    "def build_mpo(n_qubits, depth, params):\n",
    "    \"\"\"Build compressed MPO with explicit gate tensors\"\"\"\n",
    "\n",
    "    mpo = qtn.MPO_identity(n_qubits, dtype='complex64')\n",
    "    \n",
    "    for layer in range(depth):\n",
    "        u3_mpo = U3_layer_mpo(params['u3'][layer],n_qubits)\n",
    "        mpo.apply(u3_mpo, compress=True)\n",
    "\n",
    "        for i in range(n_qubits):\n",
    "            for j in range(i+1, n_qubits):\n",
    "                theta = params['zz'][layer, i, j]\n",
    "                gate_matrix = rzz(theta)\n",
    "                gate_mpo = create_non_local_gate_mpo(gate_matrix, i, j, n_qubits)\n",
    "\n",
    "                #mpo._apply_mpo(gate_mpo, compress = True) \n",
    "                mpo.apply(gate_mpo, compress=True)\n",
    "\n",
    "    u3_mpo = U3_layer_mpo(params['u3'][depth],n_qubits)\n",
    "    mpo.apply(u3_mpo, compress=True)\n",
    "\n",
    "    return mpo\n",
    "\n",
    "n_qubits = 6\n",
    "depth = 2\n",
    "params = {\n",
    "    'u3': np.random.uniform(0, 2*np.pi, (depth+1, 3*n_qubits)),\n",
    "    'zz': np.random.uniform(0, 2*np.pi, (depth, n_qubits, n_qubits))\n",
    "}\n",
    "\n",
    "mpo = build_mpo(n_qubits, depth, params)\n",
    "mpo"
   ]
  },
  {
   "cell_type": "code",
   "execution_count": null,
   "metadata": {},
   "outputs": [],
   "source": [
    "def apply_mpo_to_state(mpo, initial_state):\n",
    "    \"\"\"Apply the MPO to an initial state represented as an MPS.\"\"\"\n",
    "    # Create MPS from the initial computational basis state\n",
    "    mps = qtn.MPS_computational_state(initial_state)\n",
    "    # Apply the MPO to the MPS\n",
    "    result_mps = mpo @ mps\n",
    "    return result_mps"
   ]
  },
  {
   "cell_type": "code",
   "execution_count": null,
   "metadata": {},
   "outputs": [],
   "source": []
  },
  {
   "cell_type": "code",
   "execution_count": null,
   "metadata": {},
   "outputs": [],
   "source": []
  },
  {
   "cell_type": "code",
   "execution_count": null,
   "metadata": {},
   "outputs": [],
   "source": []
  },
  {
   "cell_type": "code",
   "execution_count": null,
   "metadata": {},
   "outputs": [],
   "source": []
  },
  {
   "cell_type": "code",
   "execution_count": null,
   "metadata": {},
   "outputs": [],
   "source": []
  },
  {
   "cell_type": "code",
   "execution_count": null,
   "metadata": {},
   "outputs": [],
   "source": []
  },
  {
   "cell_type": "code",
   "execution_count": null,
   "metadata": {},
   "outputs": [],
   "source": []
  },
  {
   "cell_type": "code",
   "execution_count": null,
   "metadata": {},
   "outputs": [],
   "source": []
  },
  {
   "cell_type": "code",
   "execution_count": 171,
   "metadata": {},
   "outputs": [
    {
     "data": {
      "text/plain": [
       "-517.8616254103656"
      ]
     },
     "execution_count": 171,
     "metadata": {},
     "output_type": "execute_result"
    }
   ],
   "source": [
    "mpo.trace()"
   ]
  },
  {
   "cell_type": "code",
   "execution_count": null,
   "metadata": {},
   "outputs": [],
   "source": []
  },
  {
   "cell_type": "code",
   "execution_count": 175,
   "metadata": {},
   "outputs": [
    {
     "data": {
      "text/plain": [
       "[<matplotlib.lines.Line2D at 0x7fc5f5d61090>]"
      ]
     },
     "execution_count": 175,
     "metadata": {},
     "output_type": "execute_result"
    },
    {
     "data": {
      "image/png": "[encoded data removed]",
      "text/plain": [
       "<Figure size 640x480 with 1 Axes>"
      ]
     },
     "metadata": {},
     "output_type": "display_data"
    }
   ],
   "source": [
    "import matplotlib.pyplot as plt\n",
    "plt.semilogy(Singular_values(mpo, 3))"
   ]
  },
  {
   "cell_type": "code",
   "execution_count": 87,
   "metadata": {},
   "outputs": [],
   "source": [
    "id_mpo = qtn.MPO_identity(n)"
   ]
  },
  {
   "cell_type": "code",
   "execution_count": 89,
   "metadata": {},
   "outputs": [
    {
     "name": "stdout",
     "output_type": "stream",
     "text": [
      "│1│1│1│1│1│\n",
      "●─●─●─●─●─●\n",
      "│ │ │ │ │ │\n"
     ]
    }
   ],
   "source": [
    "id_mpo.show()"
   ]
  },
  {
   "cell_type": "code",
   "execution_count": null,
   "metadata": {},
   "outputs": [],
   "source": [
    "id_mpo[0] = "
   ]
  }
 ],
 "metadata": {
  "kernelspec": {
   "display_name": "Python 3",
   "language": "python",
   "name": "python3"
  },
  "language_info": {
   "codemirror_mode": {
    "name": "ipython",
    "version": 3
   },
   "file_extension": ".py",
   "mimetype": "text/x-python",
   "name": "python",
   "nbconvert_exporter": "python",
   "pygments_lexer": "ipython3",
   "version": "3.10.12"
  }
 },
 "nbformat": 4,
 "nbformat_minor": 2
}
