{
 "cells": [
  {
   "cell_type": "code",
   "execution_count": 1,
   "metadata": {},
   "outputs": [
    {
     "name": "stderr",
     "output_type": "stream",
     "text": [
      "/home/cudaq/.local/lib/python3.10/site-packages/cotengra/hyperoptimizers/hyper.py:57: UserWarning: Couldn't find `optuna`, `cmaes`, or `nevergrad` so will use completely random sampling in place of hyper-optimization.\n",
      "  warnings.warn(\n",
      "/home/cudaq/.local/lib/python3.10/site-packages/cotengra/hyperoptimizers/hyper.py:39: UserWarning: Couldn't import `kahypar` - skipping from default hyper optimizer and using basic `labels` method instead.\n",
      "  warnings.warn(\n",
      "/home/cudaq/.local/lib/python3.10/site-packages/cotengra/hyperoptimizers/hyper.py:76: UserWarning: Couldn't find `optuna`, `cmaes`, or `nevergrad` so will use completely random sampling in place of hyper-optimization.\n",
      "  warnings.warn(\n"
     ]
    }
   ],
   "source": [
    "import quimb as qu\n",
    "import quimb.tensor as qtn\n",
    "import numpy as np\n",
    "import time\n",
    "import matplotlib.pyplot as plt"
   ]
  },
  {
   "cell_type": "code",
   "execution_count": 2,
   "metadata": {},
   "outputs": [],
   "source": [
    "def build_circuit(n_qubits, depth, gate_params):\n",
    "    \"\"\"Build a quantum circuit and convert it to an MPO.\"\"\"\n",
    "    # Initialize the quantum circuit\n",
    "    circuit = qtn.Circuit(n_qubits)\n",
    "\n",
    "    for layer in range(depth):\n",
    "        # Apply single-qubit RX rotations\n",
    "        for i in range(n_qubits):\n",
    "            theta = gate_params['single'][layer, i]\n",
    "            circuit.apply_gate('rx', theta, i)\n",
    "\n",
    "        # Apply two-qubit RZZ gates (nearest neighbors)\n",
    "        for i in range(n_qubits - 1):\n",
    "            for j in range(i+1, n_qubits):\n",
    "                angle = gate_params['rzz'][layer, i, j]\n",
    "                circuit.apply_gate('rzz', angle, i, j)\n",
    "\n",
    "    for i in range(n_qubits):\n",
    "        theta = gate_params['single'][depth-1, i]\n",
    "        circuit.apply_gate('rx', depth-1, i)\n",
    "\n",
    "    # Convert the circuit to an MPO\n",
    "    #mpo = circuit.to_mpo()\n",
    "    return circuit\n"
   ]
  },
  {
   "cell_type": "code",
   "execution_count": 3,
   "metadata": {},
   "outputs": [
    {
     "data": {
      "text/plain": [
       "(<Figure size 800x100 with 1 Axes>, <Axes: >)"
      ]
     },
     "execution_count": 3,
     "metadata": {},
     "output_type": "execute_result"
    },
    {
     "data": {
      "image/png": "[encoded data removed]",
      "text/plain": [
       "<Figure size 800x100 with 1 Axes>"
      ]
     },
     "metadata": {
      "needs_background": "light"
     },
     "output_type": "display_data"
    }
   ],
   "source": [
    "n_qubits = 6\n",
    "depth = 2\n",
    "params = {\n",
    "    'single': np.random.uniform(0, 2*np.pi, (depth+1, n_qubits)),\n",
    "    'rzz': np.random.uniform(0, 2*np.pi, (depth, n_qubits, n_qubits))\n",
    "}\n",
    "\n",
    "circuit = build_circuit(n_qubits, depth, params)\n",
    "circuit.draw()"
   ]
  },
  {
   "cell_type": "code",
   "execution_count": 4,
   "metadata": {},
   "outputs": [],
   "source": [
    "def Singular_values(mpo,i):\n",
    "    #Returns singular values of an MPO at i'th site\n",
    "    #Requires MPO to be canonicalized at i'th index\n",
    "    mpo = mpo.canonicalize(i)\n",
    "\n",
    "    A = mpo[i].data\n",
    "    chi = A.shape[1]  #Bond Dimension\n",
    "    A = np.transpose(A, (0,2,3,1))\n",
    "    A = np.reshape(A, (-1,chi))\n",
    "\n",
    "    B = mpo[i+1].data\n",
    "    B = np.reshape(B, (chi,-1))\n",
    "\n",
    "    S = np.linalg.svd(A@B, compute_uv=False)\n",
    "\n",
    "    return S"
   ]
  },
  {
   "cell_type": "code",
   "execution_count": 18,
   "metadata": {},
   "outputs": [],
   "source": [
    "import quimb as qu\n",
    "import quimb.tensor as qtn\n",
    "import numpy as np\n",
    "\n",
    "def swap_gate():\n",
    "    \"\"\"Returns the SWAP gate as a (2,2,2,2) tensor.\"\"\"\n",
    "    SWAP = np.array([[1, 0, 0, 0], \n",
    "                     [0, 0, 1, 0], \n",
    "                     [0, 1, 0, 0], \n",
    "                     [0, 0, 0, 1]])\n",
    "    return SWAP\n",
    "\n",
    "def rzz(theta):\n",
    "    \"\"\"Create the RZZ gate matrix.\"\"\"\n",
    "    ZZ = np.kron(qu.pauli('Z'), qu.pauli('Z'))\n",
    "    return qu.expm(-1j * theta / 2 * ZZ)\n",
    "\n",
    "\n",
    "def rx(theta):\n",
    "    return qu.expm(-1j * theta / 2 * qu.pauli('X'))\n",
    "\n",
    "def u3(angles):\n",
    "    theta, phi, lam = angles\n",
    "    return np.array([\n",
    "        [np.cos(theta / 2), -np.exp(1j * lam) * np.sin(theta / 2)],\n",
    "        [np.exp(1j * phi) * np.sin(theta / 2), np.exp(1j * (phi + lam)) * np.cos(theta / 2)]], dtype=complex)\n",
    "\n",
    "\n",
    "def decompose_two_qubit_gate(gate, cutoff=1e-14):\n",
    "    gate = np.reshape(gate, (2,2,2,2))\n",
    "    gate = np.transpose(gate, (0,2,1,3))\n",
    "    gate = np.reshape(gate, (4,4))\n",
    "\n",
    "    U, S, Vh = np.linalg.svd(gate)  \n",
    "    S_diag = np.diag(S)  \n",
    "    #print(\"singular values: \", S)\n",
    "    bd = np.sum(S>cutoff)\n",
    "    #print(\"Bond Dimension: \", bd)\n",
    "\n",
    "    # Absorb sqrt(S) into U and Vh to get two-site tensors\n",
    "    U_new = U @ np.sqrt(S_diag)\n",
    "    Vh_new = np.sqrt(S_diag) @ Vh\n",
    "\n",
    "    U_new = U_new[:,:bd]\n",
    "    Vh_new = Vh_new[:bd,:]\n",
    "\n",
    "    U_new = (U_new.T).reshape(1, -1, 2, 2)\n",
    "    Vh_new = Vh_new.reshape(-1, 1, 2, 2)\n",
    "\n",
    "    return U_new, Vh_new, bd\n",
    "\n",
    "\n",
    "def create_non_local_gate_mpo(gate, i, j, N):\n",
    "    assert i < j\n",
    "    assert i >= 0\n",
    "    assert j < N\n",
    "\n",
    "    tensors = []\n",
    "    for _ in range(i):\n",
    "        tensors.append(np.reshape(np.eye(2),(1,1,2,2)))\n",
    "    \n",
    "    U, V, bd = decompose_two_qubit_gate(gate)\n",
    "\n",
    "    tensors.append(U)\n",
    "\n",
    "    delta_ij = np.eye(bd)\n",
    "    delta_ab = np.eye(2)\n",
    "    I = np.einsum('ij,ab->ijab', delta_ij, delta_ab)\n",
    "\n",
    "    for _ in range(i+1,j):\n",
    "        tensors.append(I)\n",
    " \n",
    "    tensors.append(V)\n",
    "\n",
    "    for _ in range(j+1,N):\n",
    "        tensors.append(np.reshape(np.eye(2),(1,1,2,2)))\n",
    "\n",
    "    mpo = qtn.MatrixProductOperator(tensors)\n",
    "    #mpo.show()\n",
    "\n",
    "    return mpo\n",
    "\n",
    "\n",
    "def U3_layer_mpo(angles, N):\n",
    "    tensors = []\n",
    "    for i in range(N-1,-1,-1):  #Following the little-endian notation for CudaQ\n",
    "        gate = u3([angles[i], angles[i+N], angles[i+2*N]])\n",
    "        #if i==0 or i==N-1: tensors.append(gate.reshape(1,2,2))\n",
    "        #else: \n",
    "        tensors.append(gate.reshape(1,1,2,2))\n",
    "\n",
    "    mpo = qtn.MatrixProductOperator(tensors)\n",
    "    return mpo\n",
    "\n",
    "\n",
    "def RZZ_layer_mpo(theta, N, max_bond=None):\n",
    "    mpo = qtn.MPO_identity(N, dtype='complex64')\n",
    "\n",
    "    for i in range(N):\n",
    "        for j in range(i+1, N):\n",
    "            #Following the little-endian notation for CudaQ\n",
    "            rzz_mpo = create_non_local_gate_mpo(rzz(theta[N-i-1,N-j-1]), i, j, N)\n",
    "            mpo = mpo.apply(rzz_mpo, compress=True, max_bond=max_bond)\n",
    "            \n",
    "    return mpo"
   ]
  },
  {
   "cell_type": "code",
   "execution_count": 19,
   "metadata": {},
   "outputs": [],
   "source": [
    "# rzz_mpo = RZZ_layer_mpo(params['zz'], n_qubits)\n",
    "# plt.semilogy(Singular_values(rzz_mpo, n_qubits//2-1))"
   ]
  },
  {
   "cell_type": "code",
   "execution_count": 31,
   "metadata": {},
   "outputs": [],
   "source": [
    "def build_mpo(n_qubits, depth, params, max_bond=None, rzz_max_bond=None):\n",
    "    \"\"\"Build compressed MPO with explicit gate tensors\"\"\"\n",
    "\n",
    "    mpo = qtn.MPO_identity(n_qubits, dtype='complex64')\n",
    "\n",
    "    u3_mpo = U3_layer_mpo(params['u3'],n_qubits)\n",
    "\n",
    "    tm = time.time()\n",
    "    rzz_mpo = RZZ_layer_mpo(params['zz'], n_qubits, max_bond=rzz_max_bond)\n",
    "    #rzz_mpo.show()\n",
    "\n",
    "    tm = time.time()\n",
    "    #The apply function follows the reverse order of application than usual quantum circuits. That's why RZZ is applied first. \n",
    "    for _ in range(depth):\n",
    "        mpo = mpo.apply(rzz_mpo, compress=True, max_bond=max_bond,)\n",
    "        mpo = mpo.apply(u3_mpo, compress=True)   \n",
    "        #mpo.show()\n",
    " \n",
    "    print(\"Circuit creation time: \", time.time()-tm)\n",
    "\n",
    "    return mpo"
   ]
  },
  {
   "cell_type": "code",
   "execution_count": null,
   "metadata": {},
   "outputs": [],
   "source": [
    "from RBM_surrogate import *\n",
    "from Sampling_Quantum import *\n",
    "from functools import partial\n",
    "\n",
    "N = 4\n",
    "M = 3\n",
    "tot_time = 1.5\n",
    "time_delta = 0.5\n",
    "gamma = 0.42\n",
    "rbm = RBM_surrogate(N,M)\n",
    "rbm.build_surrogate()\n",
    "\n",
    "\n",
    "angles_u3, angles_2q = compute_angles(rbm.poly, N, time_delta, gamma)\n",
    "k = int(tot_time / time_delta)\n",
    "\n",
    "params = {\n",
    "    'u3': angles_u3,\n",
    "    'zz': angles_2q + angles_2q.T\n",
    "}"
   ]
  },
  {
   "cell_type": "code",
   "execution_count": 34,
   "metadata": {},
   "outputs": [
    {
     "name": "stdout",
     "output_type": "stream",
     "text": [
      "Circuit creation time:  0.026639938354492188\n",
      " 1│4│16│4│1 \n",
      "+─●─●──●─●─+\n",
      "  │ │  │ │  \n"
     ]
    }
   ],
   "source": [
    "mpo = build_mpo(n_qubits=N, depth=k, params=params, max_bond=32, rzz_max_bond=16)\n",
    "mpo.show()"
   ]
  },
  {
   "cell_type": "code",
   "execution_count": 30,
   "metadata": {},
   "outputs": [],
   "source": [
    "U_t = np.zeros((2**N, 2**N), dtype=np.complex128)\n",
    "\n",
    "for key in range(2**N):\n",
    "    s = key_to_spin_nv(key, N)\n",
    "    angles_ry = np.flip(np.pi*(1-s)/2)\n",
    "\n",
    "    U_t[:, key] = (np.array(cudaq.get_state(\n",
    "                Trotter_circuit, N, k, angles_ry, angles_u3, np.reshape(angles_2q,-1)), copy=False))\n"
   ]
  },
  {
   "cell_type": "code",
   "execution_count": 24,
   "metadata": {},
   "outputs": [],
   "source": [
    "def apply_mpo_to_state(mpo, initial_state):\n",
    "    \"\"\"Apply the MPO to an initial state represented as an MPS.\"\"\"\n",
    "    # Create MPS from the initial computational basis state\n",
    "    mps = qtn.MPS_computational_state(initial_state)\n",
    "    # Apply the MPO to the MPS\n",
    "    result_mps = mpo @ mps\n",
    "    return result_mps"
   ]
  },
  {
   "cell_type": "code",
   "execution_count": 14,
   "metadata": {},
   "outputs": [
    {
     "data": {
      "text/html": [
       "<samp style='font-size: 12px;'><details><summary><b style=\"color: #b4d24a;\">MatrixProductOperator</b>(tensors=4, indices=12, L=4, max_bond=16)</summary><samp style='font-size: 12px;'><details><summary><b style=\"color: #e55471;\">Tensor</b>(shape=(<b style=\"color: #45ce3d;\">1</b>, <b style=\"color: #80d749;\">4</b>, <b style=\"color: #828fdd;\">2</b>, <b style=\"color: #828fdd;\">2</b>), inds=[<b style=\"color: #5ac3d0;\">_7d85dcAAACH</b>, <b style=\"color: #68de83;\">_7d85dcAAACI</b>, <b style=\"color: #e06fe0;\">b0</b>, <b style=\"color: #b1dc61;\">k0</b>], tags={<b style=\"color: #d2b137;\">I0</b>}),</summary>backend=<b style=\"color: #7fdd73;\">numpy</b>, dtype=<b style=\"color: #443ce1;\">complex128</b>, data=array([[[[ 2.50018538e+00+2.80130142e-01j,\n",
       "          -1.20152810e+00-4.26576698e-01j],\n",
       "         [-1.20218829e+00-4.24712577e-01j,\n",
       "          -2.11921171e+00-1.35585455e+00j]],\n",
       "\n",
       "        [[-1.20565726e-01-1.64288044e-01j,\n",
       "          -5.05762670e-02-1.96481445e-02j],\n",
       "         [-3.08125732e-02+4.46608743e-02j,\n",
       "           7.49170540e-03-2.03643143e-01j]],\n",
       "\n",
       "        [[ 7.64822991e-04+4.40225232e-03j,\n",
       "           2.09647560e-02+5.08875910e-03j],\n",
       "         [-1.80198712e-02+1.18617328e-02j,\n",
       "          -7.64822991e-04-4.40225232e-03j]],\n",
       "\n",
       "        [[ 4.90077561e-04+1.13447371e-03j,\n",
       "          -1.79320935e-03+1.38345424e-03j],\n",
       "         [ 1.32145941e-04+2.26099157e-03j,\n",
       "           1.17775095e-03-3.74311795e-04j]]]])</details></samp><samp style='font-size: 12px;'><details><summary><b style=\"color: #e55471;\">Tensor</b>(shape=(<b style=\"color: #80d749;\">4</b>, <b style=\"color: #96b5d9;\">16</b>, <b style=\"color: #828fdd;\">2</b>, <b style=\"color: #828fdd;\">2</b>), inds=[<b style=\"color: #68de83;\">_7d85dcAAACI</b>, <b style=\"color: #e289b8;\">_7d85dcAAACJ</b>, <b style=\"color: #c757cc;\">b1</b>, <b style=\"color: #8aa5db;\">k1</b>], tags={<b style=\"color: #d19b78;\">I1</b>}),</summary>backend=<b style=\"color: #7fdd73;\">numpy</b>, dtype=<b style=\"color: #443ce1;\">complex128</b>, data=...</details></samp><samp style='font-size: 12px;'><details><summary><b style=\"color: #e55471;\">Tensor</b>(shape=(<b style=\"color: #96b5d9;\">16</b>, <b style=\"color: #80d749;\">4</b>, <b style=\"color: #828fdd;\">2</b>, <b style=\"color: #828fdd;\">2</b>), inds=[<b style=\"color: #e289b8;\">_7d85dcAAACJ</b>, <b style=\"color: #82de54;\">_7d85dcAAACK</b>, <b style=\"color: #50e1e1;\">b2</b>, <b style=\"color: #df546d;\">k2</b>], tags={<b style=\"color: #dd5dd7;\">I2</b>}),</summary>backend=<b style=\"color: #7fdd73;\">numpy</b>, dtype=<b style=\"color: #443ce1;\">complex128</b>, data=...</details></samp><samp style='font-size: 12px;'><details><summary><b style=\"color: #e55471;\">Tensor</b>(shape=(<b style=\"color: #80d749;\">4</b>, <b style=\"color: #45ce3d;\">1</b>, <b style=\"color: #828fdd;\">2</b>, <b style=\"color: #828fdd;\">2</b>), inds=[<b style=\"color: #82de54;\">_7d85dcAAACK</b>, <b style=\"color: #5ac3d0;\">_7d85dcAAACH</b>, <b style=\"color: #e48733;\">b3</b>, <b style=\"color: #4c7be1;\">k3</b>], tags={<b style=\"color: #dd65d9;\">I3</b>}),</summary>backend=<b style=\"color: #7fdd73;\">numpy</b>, dtype=<b style=\"color: #443ce1;\">complex128</b>, data=array([[[[-0.61109763+0.00000000e+00j, -0.31091353+1.72894353e-01j],\n",
       "         [-0.31102962+1.72685433e-01j,  0.32277287-5.18900752e-01j]]],\n",
       "\n",
       "\n",
       "       [[[ 0.68573583+0.00000000e+00j, -0.17065921-2.53339849e-02j],\n",
       "         [ 0.03561203-1.68813982e-01j,  0.2385336 -6.42911615e-01j]]],\n",
       "\n",
       "\n",
       "       [[[ 0.14496076+0.00000000e+00j, -0.21788457-6.56896256e-01j],\n",
       "         [-0.21788457+6.56896256e-01j, -0.14496076+3.21964677e-15j]]],\n",
       "\n",
       "\n",
       "       [[[ 0.36784839+0.00000000e+00j, -0.11251015+5.93320343e-01j],\n",
       "         [-0.49722983+3.42709870e-01j,  0.14867083+3.36466080e-01j]]]])</details></samp></details></samp>"
      ],
      "text/plain": [
       "MatrixProductOperator(tensors=4, indices=12, L=4, max_bond=16)"
      ]
     },
     "execution_count": 14,
     "metadata": {},
     "output_type": "execute_result"
    }
   ],
   "source": [
    "mpo"
   ]
  },
  {
   "cell_type": "markdown",
   "metadata": {},
   "source": [
    "### Testing"
   ]
  },
  {
   "cell_type": "code",
   "execution_count": 25,
   "metadata": {},
   "outputs": [],
   "source": [
    "#np.round(mpo.to_dense() - U_t, 5)"
   ]
  },
  {
   "cell_type": "code",
   "execution_count": 26,
   "metadata": {},
   "outputs": [],
   "source": [
    "#np.round(mpo.to_dense() @ (U_t.conj().T),6)"
   ]
  },
  {
   "cell_type": "code",
   "execution_count": 17,
   "metadata": {},
   "outputs": [
    {
     "data": {
      "text/plain": [
       "<matplotlib.colorbar.Colorbar at 0x7f1a30b3b3d0>"
      ]
     },
     "execution_count": 17,
     "metadata": {},
     "output_type": "execute_result"
    },
    {
     "data": {
      "image/png": "[encoded data removed]",
      "text/plain": [
       "<Figure size 640x480 with 2 Axes>"
      ]
     },
     "metadata": {},
     "output_type": "display_data"
    }
   ],
   "source": [
    "plt.imshow(np.real(mpo.to_dense() @ (U_t.conj().T)) - np.eye(2**N))\n",
    "plt.colorbar()"
   ]
  },
  {
   "cell_type": "code",
   "execution_count": null,
   "metadata": {},
   "outputs": [],
   "source": []
  },
  {
   "cell_type": "code",
   "execution_count": null,
   "metadata": {},
   "outputs": [],
   "source": []
  },
  {
   "cell_type": "code",
   "execution_count": null,
   "metadata": {},
   "outputs": [],
   "source": []
  }
 ],
 "metadata": {
  "kernelspec": {
   "display_name": "Python 3",
   "language": "python",
   "name": "python3"
  },
  "language_info": {
   "codemirror_mode": {
    "name": "ipython",
    "version": 3
   },
   "file_extension": ".py",
   "mimetype": "text/x-python",
   "name": "python",
   "nbconvert_exporter": "python",
   "pygments_lexer": "ipython3",
   "version": "3.10.12"
  }
 },
 "nbformat": 4,
 "nbformat_minor": 2
}
