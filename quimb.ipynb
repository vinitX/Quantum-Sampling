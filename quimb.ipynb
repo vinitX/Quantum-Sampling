{
 "cells": [
  {
   "cell_type": "code",
   "execution_count": 1,
   "metadata": {},
   "outputs": [
    {
     "name": "stderr",
     "output_type": "stream",
     "text": [
      "/home/cudaq/.local/lib/python3.10/site-packages/cotengra/hyperoptimizers/hyper.py:57: UserWarning: Couldn't find `optuna`, `cmaes`, or `nevergrad` so will use completely random sampling in place of hyper-optimization.\n",
      "  warnings.warn(\n",
      "/home/cudaq/.local/lib/python3.10/site-packages/cotengra/hyperoptimizers/hyper.py:39: UserWarning: Couldn't import `kahypar` - skipping from default hyper optimizer and using basic `labels` method instead.\n",
      "  warnings.warn(\n",
      "/home/cudaq/.local/lib/python3.10/site-packages/cotengra/hyperoptimizers/hyper.py:76: UserWarning: Couldn't find `optuna`, `cmaes`, or `nevergrad` so will use completely random sampling in place of hyper-optimization.\n",
      "  warnings.warn(\n"
     ]
    }
   ],
   "source": [
    "import quimb as qu\n",
    "import quimb.tensor as qtn\n",
    "import numpy as np\n",
    "import time\n",
    "import matplotlib.pyplot as plt"
   ]
  },
  {
   "cell_type": "code",
   "execution_count": 2,
   "metadata": {},
   "outputs": [],
   "source": [
    "def build_circuit(n_qubits, depth, gate_params):\n",
    "    \"\"\"Build a quantum circuit and convert it to an MPO.\"\"\"\n",
    "    # Initialize the quantum circuit\n",
    "    circuit = qtn.Circuit(n_qubits)\n",
    "\n",
    "    for layer in range(depth):\n",
    "        # Apply single-qubit RX rotations\n",
    "        for i in range(n_qubits):\n",
    "            theta = gate_params['single'][layer, i]\n",
    "            circuit.apply_gate('rx', theta, i)\n",
    "\n",
    "        # Apply two-qubit RZZ gates (nearest neighbors)\n",
    "        for i in range(n_qubits - 1):\n",
    "            for j in range(i+1, n_qubits):\n",
    "                angle = gate_params['rzz'][layer, i, j]\n",
    "                circuit.apply_gate('rzz', angle, i, j)\n",
    "\n",
    "    for i in range(n_qubits):\n",
    "        theta = gate_params['single'][depth-1, i]\n",
    "        circuit.apply_gate('rx', depth-1, i)\n",
    "\n",
    "    # Convert the circuit to an MPO\n",
    "    #mpo = circuit.to_mpo()\n",
    "    return circuit\n"
   ]
  },
  {
   "cell_type": "code",
   "execution_count": 3,
   "metadata": {},
   "outputs": [
    {
     "data": {
      "text/plain": [
       "(<Figure size 800x100 with 1 Axes>, <Axes: >)"
      ]
     },
     "execution_count": 3,
     "metadata": {},
     "output_type": "execute_result"
    },
    {
     "data": {
      "image/png": "[encoded data removed]",
      "text/plain": [
       "<Figure size 800x100 with 1 Axes>"
      ]
     },
     "metadata": {
      "needs_background": "light"
     },
     "output_type": "display_data"
    }
   ],
   "source": [
    "n_qubits = 6\n",
    "depth = 2\n",
    "params = {\n",
    "    'single': np.random.uniform(0, 2*np.pi, (depth+1, n_qubits)),\n",
    "    'rzz': np.random.uniform(0, 2*np.pi, (depth, n_qubits, n_qubits))\n",
    "}\n",
    "\n",
    "circuit = build_circuit(n_qubits, depth, params)\n",
    "circuit.draw()"
   ]
  },
  {
   "cell_type": "code",
   "execution_count": 4,
   "metadata": {},
   "outputs": [],
   "source": [
    "def Singular_values(mpo,i):\n",
    "    #Returns singular values of an MPO at i'th site\n",
    "    #Requires MPO to be canonicalized at i'th index\n",
    "    mpo = mpo.canonicalize(i)\n",
    "\n",
    "    A = mpo[i].data\n",
    "    chi = A.shape[1]  #Bond Dimension\n",
    "    A = np.transpose(A, (0,2,3,1))\n",
    "    A = np.reshape(A, (-1,chi))\n",
    "\n",
    "    B = mpo[i+1].data\n",
    "    B = np.reshape(B, (chi,-1))\n",
    "\n",
    "    S = np.linalg.svd(A@B, compute_uv=False)\n",
    "\n",
    "    return S"
   ]
  },
  {
   "cell_type": "code",
   "execution_count": 5,
   "metadata": {},
   "outputs": [],
   "source": [
    "import quimb as qu\n",
    "import quimb.tensor as qtn\n",
    "import numpy as np\n",
    "\n",
    "def swap_gate():\n",
    "    \"\"\"Returns the SWAP gate as a (2,2,2,2) tensor.\"\"\"\n",
    "    SWAP = np.array([[1, 0, 0, 0], \n",
    "                     [0, 0, 1, 0], \n",
    "                     [0, 1, 0, 0], \n",
    "                     [0, 0, 0, 1]])\n",
    "    return SWAP\n",
    "\n",
    "def rzz(theta):\n",
    "    \"\"\"Create the RZZ gate matrix.\"\"\"\n",
    "    ZZ = np.kron(qu.pauli('Z'), qu.pauli('Z'))\n",
    "    return qu.expm(-1j * theta / 2 * ZZ)\n",
    "\n",
    "\n",
    "def rx(theta):\n",
    "    return qu.expm(-1j * theta / 2 * qu.pauli('X'))\n",
    "\n",
    "def u3(angles):\n",
    "    theta, phi, lam = angles\n",
    "    return np.array([\n",
    "        [np.cos(theta / 2), -np.exp(1j * lam) * np.sin(theta / 2)],\n",
    "        [np.exp(1j * phi) * np.sin(theta / 2), np.exp(1j * (phi + lam)) * np.cos(theta / 2)]], dtype=complex)\n",
    "\n",
    "\n",
    "def decompose_two_qubit_gate(gate, cutoff=1e-14):\n",
    "    gate = np.reshape(gate, (2,2,2,2))\n",
    "    gate = np.transpose(gate, (0,2,1,3))\n",
    "    gate = np.reshape(gate, (4,4))\n",
    "\n",
    "    U, S, Vh = np.linalg.svd(gate)  \n",
    "    S_diag = np.diag(S)  \n",
    "    #print(\"singular values: \", S)\n",
    "    bd = np.sum(S>cutoff)\n",
    "    #print(\"Bond Dimension: \", bd)\n",
    "\n",
    "    # Absorb sqrt(S) into U and Vh to get two-site tensors\n",
    "    U_new = U @ np.sqrt(S_diag)\n",
    "    Vh_new = np.sqrt(S_diag) @ Vh\n",
    "\n",
    "    U_new = U_new[:,:bd]\n",
    "    Vh_new = Vh_new[:bd,:]\n",
    "\n",
    "    U_new = (U_new.T).reshape(1, -1, 2, 2)\n",
    "    Vh_new = Vh_new.reshape(-1, 1, 2, 2)\n",
    "\n",
    "    return U_new, Vh_new, bd\n",
    "\n",
    "\n",
    "def create_non_local_gate_mpo(gate, i, j, N):\n",
    "    assert i < j\n",
    "    assert i >= 0\n",
    "    assert j < N\n",
    "\n",
    "    tensors = []\n",
    "    for _ in range(i):\n",
    "        tensors.append(np.reshape(np.eye(2),(1,1,2,2)))\n",
    "    \n",
    "    U, V, bd = decompose_two_qubit_gate(gate)\n",
    "\n",
    "    tensors.append(U)\n",
    "\n",
    "    delta_ij = np.eye(bd)\n",
    "    delta_ab = np.eye(2)\n",
    "    I = np.einsum('ij,ab->ijab', delta_ij, delta_ab)\n",
    "\n",
    "    for _ in range(i+1,j):\n",
    "        tensors.append(I)\n",
    " \n",
    "    tensors.append(V)\n",
    "\n",
    "    for _ in range(j+1,N):\n",
    "        tensors.append(np.reshape(np.eye(2),(1,1,2,2)))\n",
    "\n",
    "    mpo = qtn.MatrixProductOperator(tensors)\n",
    "    #mpo.show()\n",
    "\n",
    "    return mpo\n",
    "\n",
    "\n",
    "def U3_layer_mpo(angles, N):\n",
    "    tensors = []\n",
    "    for i in range(N):\n",
    "        gate = u3(angles[3*i:3*(i+1)])\n",
    "        #if i==0 or i==N-1: tensors.append(gate.reshape(1,2,2))\n",
    "        #else: \n",
    "        tensors.append(gate.reshape(1,1,2,2))\n",
    "\n",
    "    mpo = qtn.MatrixProductOperator(tensors)\n",
    "    return mpo\n",
    "\n",
    "\n",
    "def RZZ_layer_mpo(theta, N, max_bond=None):\n",
    "    mpo = qtn.MPO_identity(N, dtype='complex64')\n",
    "\n",
    "    for i in range(N):\n",
    "        for j in range(i+1, N):\n",
    "            rzz_mpo = create_non_local_gate_mpo(rzz(theta[i,j]), i, j, n_qubits)\n",
    "            mpo = mpo.apply(rzz_mpo, compress=True, max_bond=max_bond)\n",
    "            \n",
    "    return mpo"
   ]
  },
  {
   "cell_type": "code",
   "execution_count": 6,
   "metadata": {},
   "outputs": [],
   "source": [
    "# rzz_mpo = RZZ_layer_mpo(params['zz'], n_qubits)\n",
    "# plt.semilogy(Singular_values(rzz_mpo, n_qubits//2-1))"
   ]
  },
  {
   "cell_type": "code",
   "execution_count": 10,
   "metadata": {},
   "outputs": [
    {
     "name": "stdout",
     "output_type": "stream",
     "text": [
      " 1│2│4│8│16│16│16│16│16│16│16│8│4│2│1 \n",
      "+─●─●─●─●──●──●──●──●──●──●──●─●─●─●─+\n",
      "  │ │ │ │  │  │  │  │  │  │  │ │ │ │  \n",
      "RZZ layer creation time:  2.0038249492645264\n",
      "Circuit creation time:  9.451594829559326\n"
     ]
    },
    {
     "data": {
      "text/html": [
       "<samp style='font-size: 12px;'><details><summary><b style=\"color: #b4d24a;\">MatrixProductOperator</b>(tensors=14, indices=42, L=14, max_bond=32)</summary><samp style='font-size: 12px;'><details><summary><b style=\"color: #e55471;\">Tensor</b>(shape=(<b style=\"color: #45ce3d;\">1</b>, <b style=\"color: #80d749;\">4</b>, <b style=\"color: #828fdd;\">2</b>, <b style=\"color: #828fdd;\">2</b>), inds=[<b style=\"color: #3888e2;\">_4aafe4AABeP</b>, <b style=\"color: #b9e48c;\">_4aafe4AABeQ</b>, <b style=\"color: #e06fe0;\">b0</b>, <b style=\"color: #b1dc61;\">k0</b>], tags={<b style=\"color: #d2b137;\">I0</b>}),</summary>backend=<b style=\"color: #7fdd73;\">numpy</b>, dtype=<b style=\"color: #443ce1;\">complex128</b>, data=array([[[[ 7.29645239e-04-4.31755070e-04j,\n",
       "          -1.26069285e-03+3.07053125e-04j],\n",
       "         [-5.74003280e-04-1.43435303e-04j,\n",
       "          -2.56909166e-04+1.57928127e-04j]],\n",
       "\n",
       "        [[-2.29407913e-04+1.36875053e-05j,\n",
       "          -5.93407396e-04+3.16162223e-04j],\n",
       "         [ 1.16544997e-03+9.38695515e-05j,\n",
       "          -3.63481892e-04-5.24495145e-04j]],\n",
       "\n",
       "        [[ 7.19942223e-05+1.60820693e-04j,\n",
       "          -1.04772165e-04+3.37962630e-04j],\n",
       "         [-8.55931886e-05-4.29564882e-04j,\n",
       "           9.11967315e-04-6.04109429e-04j]],\n",
       "\n",
       "        [[ 2.48664384e-04-7.79529152e-04j,\n",
       "           2.24776405e-04-2.67720685e-04j],\n",
       "         [ 2.70576884e-04-2.68687789e-04j,\n",
       "           1.00912962e-04-6.15836994e-05j]]]])</details></samp><samp style='font-size: 12px;'><details><summary><b style=\"color: #e55471;\">Tensor</b>(shape=(<b style=\"color: #80d749;\">4</b>, <b style=\"color: #96b5d9;\">16</b>, <b style=\"color: #828fdd;\">2</b>, <b style=\"color: #828fdd;\">2</b>), inds=[<b style=\"color: #b9e48c;\">_4aafe4AABeQ</b>, <b style=\"color: #9460ce;\">_4aafe4AABeR</b>, <b style=\"color: #c757cc;\">b1</b>, <b style=\"color: #8aa5db;\">k1</b>], tags={<b style=\"color: #d19b78;\">I1</b>}),</summary>backend=<b style=\"color: #7fdd73;\">numpy</b>, dtype=<b style=\"color: #443ce1;\">complex128</b>, data=...</details></samp><samp style='font-size: 12px;'><details><summary><b style=\"color: #e55471;\">Tensor</b>(shape=(<b style=\"color: #96b5d9;\">16</b>, <b style=\"color: #6faee5;\">32</b>, <b style=\"color: #828fdd;\">2</b>, <b style=\"color: #828fdd;\">2</b>), inds=[<b style=\"color: #9460ce;\">_4aafe4AABeR</b>, <b style=\"color: #cdde8f;\">_4aafe4AABeS</b>, <b style=\"color: #50e1e1;\">b2</b>, <b style=\"color: #df546d;\">k2</b>], tags={<b style=\"color: #dd5dd7;\">I2</b>}),</summary>backend=<b style=\"color: #7fdd73;\">numpy</b>, dtype=<b style=\"color: #443ce1;\">complex128</b>, data=...</details></samp><samp style='font-size: 12px;'><details><summary><b style=\"color: #e55471;\">Tensor</b>(shape=(<b style=\"color: #6faee5;\">32</b>, <b style=\"color: #6faee5;\">32</b>, <b style=\"color: #828fdd;\">2</b>, <b style=\"color: #828fdd;\">2</b>), inds=[<b style=\"color: #cdde8f;\">_4aafe4AABeS</b>, <b style=\"color: #7bd07f;\">_4aafe4AABeT</b>, <b style=\"color: #e48733;\">b3</b>, <b style=\"color: #4c7be1;\">k3</b>], tags={<b style=\"color: #dd65d9;\">I3</b>}),</summary>backend=<b style=\"color: #7fdd73;\">numpy</b>, dtype=<b style=\"color: #443ce1;\">complex128</b>, data=...</details></samp><samp style='font-size: 12px;'><details><summary><b style=\"color: #e55471;\">Tensor</b>(shape=(<b style=\"color: #6faee5;\">32</b>, <b style=\"color: #6faee5;\">32</b>, <b style=\"color: #828fdd;\">2</b>, <b style=\"color: #828fdd;\">2</b>), inds=[<b style=\"color: #7bd07f;\">_4aafe4AABeT</b>, <b style=\"color: #cd578b;\">_4aafe4AABeU</b>, <b style=\"color: #d85349;\">b4</b>, <b style=\"color: #462edc;\">k4</b>], tags={<b style=\"color: #998ad1;\">I4</b>}),</summary>backend=<b style=\"color: #7fdd73;\">numpy</b>, dtype=<b style=\"color: #443ce1;\">complex128</b>, data=...</details></samp><samp style='font-size: 12px;'><details><summary><b style=\"color: #e55471;\">Tensor</b>(shape=(<b style=\"color: #6faee5;\">32</b>, <b style=\"color: #6faee5;\">32</b>, <b style=\"color: #828fdd;\">2</b>, <b style=\"color: #828fdd;\">2</b>), inds=[<b style=\"color: #cd578b;\">_4aafe4AABeU</b>, <b style=\"color: #aade50;\">_4aafe4AABeV</b>, <b style=\"color: #be4ee5;\">b5</b>, <b style=\"color: #85dfdf;\">k5</b>], tags={<b style=\"color: #97dddc;\">I5</b>}),</summary>backend=<b style=\"color: #7fdd73;\">numpy</b>, dtype=<b style=\"color: #443ce1;\">complex128</b>, data=...</details></samp><samp style='font-size: 12px;'><details><summary><b style=\"color: #e55471;\">Tensor</b>(shape=(<b style=\"color: #6faee5;\">32</b>, <b style=\"color: #6faee5;\">32</b>, <b style=\"color: #828fdd;\">2</b>, <b style=\"color: #828fdd;\">2</b>), inds=[<b style=\"color: #aade50;\">_4aafe4AABeV</b>, <b style=\"color: #9bdb5c;\">_4aafe4AABeW</b>, <b style=\"color: #62e49f;\">b6</b>, <b style=\"color: #2cb7d3;\">k6</b>], tags={<b style=\"color: #b2de5f;\">I6</b>}),</summary>backend=<b style=\"color: #7fdd73;\">numpy</b>, dtype=<b style=\"color: #443ce1;\">complex128</b>, data=...</details></samp><samp style='font-size: 12px;'><details><summary><b style=\"color: #e55471;\">Tensor</b>(shape=(<b style=\"color: #6faee5;\">32</b>, <b style=\"color: #6faee5;\">32</b>, <b style=\"color: #828fdd;\">2</b>, <b style=\"color: #828fdd;\">2</b>), inds=[<b style=\"color: #9bdb5c;\">_4aafe4AABeW</b>, <b style=\"color: #d3c96c;\">_4aafe4AABeX</b>, <b style=\"color: #2a3dd0;\">b7</b>, <b style=\"color: #53e08f;\">k7</b>], tags={<b style=\"color: #5582d6;\">I7</b>}),</summary>backend=<b style=\"color: #7fdd73;\">numpy</b>, dtype=<b style=\"color: #443ce1;\">complex128</b>, data=...</details></samp><samp style='font-size: 12px;'><details><summary><b style=\"color: #e55471;\">Tensor</b>(shape=(<b style=\"color: #6faee5;\">32</b>, <b style=\"color: #6faee5;\">32</b>, <b style=\"color: #828fdd;\">2</b>, <b style=\"color: #828fdd;\">2</b>), inds=[<b style=\"color: #d3c96c;\">_4aafe4AABeX</b>, <b style=\"color: #e0b977;\">_4aafe4AABeY</b>, <b style=\"color: #d23b71;\">b8</b>, <b style=\"color: #7bcd9f;\">k8</b>], tags={<b style=\"color: #8a3dd8;\">I8</b>}),</summary>backend=<b style=\"color: #7fdd73;\">numpy</b>, dtype=<b style=\"color: #443ce1;\">complex128</b>, data=...</details></samp><samp style='font-size: 12px;'><details><summary><b style=\"color: #e55471;\">Tensor</b>(shape=(<b style=\"color: #6faee5;\">32</b>, <b style=\"color: #6faee5;\">32</b>, <b style=\"color: #828fdd;\">2</b>, <b style=\"color: #828fdd;\">2</b>), inds=[<b style=\"color: #e0b977;\">_4aafe4AABeY</b>, <b style=\"color: #8bd35d;\">_4aafe4AABeZ</b>, <b style=\"color: #da543c;\">b9</b>, <b style=\"color: #cc70c1;\">k9</b>], tags={<b style=\"color: #d74979;\">I9</b>}),</summary>backend=<b style=\"color: #7fdd73;\">numpy</b>, dtype=<b style=\"color: #443ce1;\">complex128</b>, data=...</details></samp><samp style='font-size: 12px;'><details><summary><b style=\"color: #e55471;\">Tensor</b>(shape=(<b style=\"color: #6faee5;\">32</b>, <b style=\"color: #6faee5;\">32</b>, <b style=\"color: #828fdd;\">2</b>, <b style=\"color: #828fdd;\">2</b>), inds=[<b style=\"color: #8bd35d;\">_4aafe4AABeZ</b>, <b style=\"color: #d1d657;\">_4aafe4AABea</b>, <b style=\"color: #8ee491;\">b10</b>, <b style=\"color: #3fcf58;\">k10</b>], tags={<b style=\"color: #4e2bd3;\">I10</b>}),</summary>backend=<b style=\"color: #7fdd73;\">numpy</b>, dtype=<b style=\"color: #443ce1;\">complex128</b>, data=...</details></samp><samp style='font-size: 12px;'><details><summary><b style=\"color: #e55471;\">Tensor</b>(shape=(<b style=\"color: #6faee5;\">32</b>, <b style=\"color: #96b5d9;\">16</b>, <b style=\"color: #828fdd;\">2</b>, <b style=\"color: #828fdd;\">2</b>), inds=[<b style=\"color: #d1d657;\">_4aafe4AABea</b>, <b style=\"color: #42bcdb;\">_4aafe4AABeb</b>, <b style=\"color: #e568dc;\">b11</b>, <b style=\"color: #6d6fcf;\">k11</b>], tags={<b style=\"color: #cc3988;\">I11</b>}),</summary>backend=<b style=\"color: #7fdd73;\">numpy</b>, dtype=<b style=\"color: #443ce1;\">complex128</b>, data=...</details></samp><samp style='font-size: 12px;'><details><summary><b style=\"color: #e55471;\">Tensor</b>(shape=(<b style=\"color: #96b5d9;\">16</b>, <b style=\"color: #80d749;\">4</b>, <b style=\"color: #828fdd;\">2</b>, <b style=\"color: #828fdd;\">2</b>), inds=[<b style=\"color: #42bcdb;\">_4aafe4AABeb</b>, <b style=\"color: #ded84f;\">_4aafe4AABec</b>, <b style=\"color: #943ed2;\">b12</b>, <b style=\"color: #70c0d6;\">k12</b>], tags={<b style=\"color: #30a0d2;\">I12</b>}),</summary>backend=<b style=\"color: #7fdd73;\">numpy</b>, dtype=<b style=\"color: #443ce1;\">complex128</b>, data=...</details></samp><samp style='font-size: 12px;'><details><summary><b style=\"color: #e55471;\">Tensor</b>(shape=(<b style=\"color: #80d749;\">4</b>, <b style=\"color: #45ce3d;\">1</b>, <b style=\"color: #828fdd;\">2</b>, <b style=\"color: #828fdd;\">2</b>), inds=[<b style=\"color: #ded84f;\">_4aafe4AABec</b>, <b style=\"color: #3888e2;\">_4aafe4AABeP</b>, <b style=\"color: #dc8374;\">b13</b>, <b style=\"color: #67b9df;\">k13</b>], tags={<b style=\"color: #59aad4;\">I13</b>}),</summary>backend=<b style=\"color: #7fdd73;\">numpy</b>, dtype=<b style=\"color: #443ce1;\">complex128</b>, data=array([[[[ 0.2505365 +0.j        ,  0.03953686+0.03425354j],\n",
       "         [ 0.67943311-0.63460763j, -0.18067625+0.19363597j]]],\n",
       "\n",
       "\n",
       "       [[[ 0.22890115+0.j        ,  0.91709719-0.14273615j],\n",
       "         [-0.09773141+0.13530255j, -0.18343566+0.15702403j]]],\n",
       "\n",
       "\n",
       "       [[[ 0.924699  +0.j        , -0.26767505-0.01046617j],\n",
       "         [-0.19950958+0.12165907j, -0.07663685-0.11266803j]]],\n",
       "\n",
       "\n",
       "       [[[-0.1725326 +0.j        , -0.16048461-0.19572398j],\n",
       "         [-0.21233293-0.089974j  , -0.91646825-0.11434452j]]]])</details></samp></details></samp>"
      ],
      "text/plain": [
       "MatrixProductOperator(tensors=14, indices=42, L=14, max_bond=32)"
      ]
     },
     "execution_count": 10,
     "metadata": {},
     "output_type": "execute_result"
    }
   ],
   "source": [
    "\n",
    "def build_mpo(n_qubits, depth, params, max_bond=None, rzz_max_bond=None):\n",
    "    \"\"\"Build compressed MPO with explicit gate tensors\"\"\"\n",
    "\n",
    "    mpo = qtn.MPO_identity(n_qubits, dtype='complex64')\n",
    "\n",
    "    u3_mpo = U3_layer_mpo(params['u3'],n_qubits)\n",
    "\n",
    "    tm = time.time()\n",
    "    rzz_mpo = RZZ_layer_mpo(params['zz'], n_qubits, max_bond=rzz_max_bond)\n",
    "    rzz_mpo.show()\n",
    "    print(\"RZZ layer creation time: \", time.time()-tm)\n",
    "    \n",
    "    tm = time.time()\n",
    "    for _ in range(depth):\n",
    "        mpo = mpo.apply(u3_mpo, compress=True)   \n",
    "        mpo = mpo.apply(rzz_mpo, compress=True, max_bond=max_bond)\n",
    "\n",
    "    mpo = mpo.apply(u3_mpo, compress=True)\n",
    "\n",
    "    print(\"Circuit creation time: \", time.time()-tm)\n",
    "\n",
    "    return mpo\n",
    "\n",
    "n_qubits = 14\n",
    "depth = 6\n",
    "params = {\n",
    "    'u3': np.random.uniform(0, 2*np.pi, (3*n_qubits)),\n",
    "    'zz': np.random.uniform(0, 2*np.pi, (n_qubits, n_qubits))\n",
    "}\n",
    "\n",
    "mpo = build_mpo(n_qubits, depth, params, max_bond=32, rzz_max_bond=16)\n",
    "mpo"
   ]
  },
  {
   "cell_type": "code",
   "execution_count": 8,
   "metadata": {},
   "outputs": [
    {
     "name": "stdout",
     "output_type": "stream",
     "text": [
      " 1│4│16│64│128│128│128│128│128│128│128│64│16│4│1 \n",
      "+─●─●──●──●━━━●━━━●━━━●━━━●━━━●━━━●━━━●──●──●─●─+\n",
      "  │ │  │  │   │   │   │   │   │   │   │  │  │ │  \n"
     ]
    }
   ],
   "source": [
    "mpo.show()"
   ]
  },
  {
   "cell_type": "code",
   "execution_count": 9,
   "metadata": {},
   "outputs": [],
   "source": [
    "def apply_mpo_to_state(mpo, initial_state):\n",
    "    \"\"\"Apply the MPO to an initial state represented as an MPS.\"\"\"\n",
    "    # Create MPS from the initial computational basis state\n",
    "    mps = qtn.MPS_computational_state(initial_state)\n",
    "    # Apply the MPO to the MPS\n",
    "    result_mps = mpo @ mps\n",
    "    return result_mps"
   ]
  },
  {
   "cell_type": "code",
   "execution_count": null,
   "metadata": {},
   "outputs": [],
   "source": []
  }
 ],
 "metadata": {
  "kernelspec": {
   "display_name": "Python 3",
   "language": "python",
   "name": "python3"
  },
  "language_info": {
   "codemirror_mode": {
    "name": "ipython",
    "version": 3
   },
   "file_extension": ".py",
   "mimetype": "text/x-python",
   "name": "python",
   "nbconvert_exporter": "python",
   "pygments_lexer": "ipython3",
   "version": "2.7.undefined"
  }
 },
 "nbformat": 4,
 "nbformat_minor": 2
}
