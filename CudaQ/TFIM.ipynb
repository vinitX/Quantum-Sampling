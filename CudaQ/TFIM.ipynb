{
 "cells": [
  {
   "cell_type": "code",
   "execution_count": 11,
   "id": "abfe4e97",
   "metadata": {},
   "outputs": [],
   "source": [
    "import cudaq\n",
    "from cudaq import spin"
   ]
  },
  {
   "cell_type": "code",
   "execution_count": 12,
   "id": "f0edc880",
   "metadata": {},
   "outputs": [],
   "source": [
    "from RBM_surrogate import *\n",
    "from Sampling import *"
   ]
  },
  {
   "cell_type": "code",
   "execution_count": 13,
   "id": "5b20b27d",
   "metadata": {},
   "outputs": [],
   "source": [
    "import os\n",
    "import numpy as np\n",
    "#import netket as nk\n",
    "import scipy as sp\n",
    "import numpy.linalg as la\n",
    "import scipy.linalg as spla\n",
    "import time\n",
    "import matplotlib.pyplot as plt\n",
    "import json"
   ]
  },
  {
   "cell_type": "code",
   "execution_count": 14,
   "id": "c427931c",
   "metadata": {},
   "outputs": [],
   "source": [
    "N=4\n",
    "M=4\n",
    "D=0\n",
    "beta=1\n",
    "\n",
    "g=0.5"
   ]
  },
  {
   "cell_type": "code",
   "execution_count": 15,
   "id": "4d42c898",
   "metadata": {},
   "outputs": [],
   "source": [
    "def TFIM(N,g):\n",
    "    hamiltonian = 0\n",
    "    for i in range(N-1):\n",
    "        hamiltonian -= spin.z(i) * spin.z(i+1)\n",
    "\n",
    "    for i in range(N):\n",
    "        hamiltonian -= g*spin.x(i)\n",
    "    return hamiltonian"
   ]
  },
  {
   "cell_type": "code",
   "execution_count": 16,
   "id": "dbc7bd0a",
   "metadata": {},
   "outputs": [],
   "source": [
    "Ham = TFIM(N,g)"
   ]
  },
  {
   "cell_type": "code",
   "execution_count": 17,
   "id": "7f502279",
   "metadata": {},
   "outputs": [
    {
     "name": "stdout",
     "output_type": "stream",
     "text": [
      "8\n"
     ]
    }
   ],
   "source": [
    "print(Ham.get_term_count())"
   ]
  },
  {
   "cell_type": "code",
   "execution_count": 18,
   "id": "639d05e0",
   "metadata": {},
   "outputs": [],
   "source": [
    "# Adam optimizer hyperparameters\n",
    "learning_rate = 0.01\n",
    "beta1 = 0.9\n",
    "beta2 = 0.999\n",
    "epsilon = 1e-8"
   ]
  },
  {
   "cell_type": "code",
   "execution_count": 19,
   "id": "233643bc",
   "metadata": {},
   "outputs": [],
   "source": [
    "file = \"Data/TFIM/\""
   ]
  },
  {
   "cell_type": "code",
   "execution_count": 20,
   "id": "9e112236",
   "metadata": {},
   "outputs": [
    {
     "name": "stdout",
     "output_type": "stream",
     "text": [
      "Smallest eigenvalue: [-3.42703409]\n"
     ]
    }
   ],
   "source": [
    "from scipy.sparse import csr_array, coo_matrix\n",
    "from scipy.sparse.linalg import eigsh\n",
    "\n",
    "Ham_sp = Ham.to_sparse_matrix()\n",
    "data, row, col = Ham_sp\n",
    "Ham_coo = coo_matrix((data, (row, col)), shape=(2**8, 2**8))\n",
    "Ham_csr = csr_array(Ham_coo)\n",
    "\n",
    "lmbd, _ = eigsh(Ham_csr, k=1, which='SA')\n",
    "\n",
    "print(\"Ground State:\", lmbd)"
   ]
  },
  {
   "cell_type": "code",
   "execution_count": null,
   "id": "defa4cb1",
   "metadata": {},
   "outputs": [],
   "source": []
  },
  {
   "cell_type": "code",
   "execution_count": 21,
   "id": "a4348d75",
   "metadata": {},
   "outputs": [],
   "source": [
    "def plot_log(E_hist, E_smpl_hist):\n",
    "    #ya, iter = smpl.median_filter(np.real(E_hist))\n",
    "    ya = np.real(E_hist)\n",
    "    xa = np.arange(len(ya))\n",
    "    ci = np.abs(np.array(E_smpl_hist) - ya)\n",
    "    fig, ax = plt.subplots()\n",
    "    ax.plot(ya)\n",
    "    ax.fill_between(xa, (ya-ci), (ya+ci), color='r', alpha=.5)\n",
    "    ax.set_ylabel(\"Energy\")\n",
    "    ax.set_xlabel(\"Epochs\")\n",
    "    plt.hlines(lmbd[0],0,len(xa)-1,color='r',linestyles='dashed')\n",
    "    plt.show()"
   ]
  },
  {
   "cell_type": "code",
   "execution_count": 22,
   "id": "86849d2b",
   "metadata": {},
   "outputs": [],
   "source": [
    "def save_data(X,poly,g,seed,E,E_smpl,prob_dist,sample_list=[]):\n",
    "  with open(file+\"X_N=\"+str(N)+\"_g=\"+str(g)+\"_seed=\"+str(seed)+\".txt\", \"ab\") as f:\n",
    "    np.savetxt(f, np.reshape(X,(1,-1)))\n",
    "  with open(file+\"Poly_N=\"+str(N)+\"_g=\"+str(g)+\"_seed=\"+str(seed)+\".txt\", \"ab\") as f:\n",
    "    np.savetxt(f, np.reshape(poly,(1,-1)))\n",
    "  with open(file+\"E_N=\"+str(N)+\"_g=\"+str(g)+\"_seed=\"+str(seed)+\".txt\", \"ab\") as f:\n",
    "    np.savetxt(f, [E])\n",
    "  with open(file+\"E_smpl_N=\"+str(N)+\"_g=\"+str(g)+\"_seed=\"+str(seed)+\".txt\", \"ab\") as f:\n",
    "    np.savetxt(f, [E_smpl])\n",
    "  with open(file+\"prob_dist_N=\"+str(N)+\"_g=\"+str(g)+\"_seed=\"+str(seed)+\".txt\", \"ab\") as f:\n",
    "    np.savetxt(f, np.reshape(prob_dist,(1,-1)))\n",
    "  with open(file+\"prob_dist_N=\"+str(N)+\"_g=\"+str(g)+\"_seed=\"+str(seed)+\".txt\", \"ab\") as f:\n",
    "    np.savetxt(f, np.reshape(sample_list,(1,-1)))"
   ]
  },
  {
   "cell_type": "code",
   "execution_count": null,
   "id": "1f9df4d9",
   "metadata": {},
   "outputs": [],
   "source": []
  },
  {
   "cell_type": "code",
   "execution_count": 23,
   "id": "0203c0c6",
   "metadata": {},
   "outputs": [
    {
     "name": "stderr",
     "output_type": "stream",
     "text": [
      "2025-04-16 13:53:53.295757: I tensorflow/core/util/port.cc:153] oneDNN custom operations are on. You may see slightly different numerical results due to floating-point round-off errors from different computation orders. To turn them off, set the environment variable `TF_ENABLE_ONEDNN_OPTS=0`.\n",
      "2025-04-16 13:53:53.462922: E external/local_xla/xla/stream_executor/cuda/cuda_fft.cc:477] Unable to register cuFFT factory: Attempting to register factory for plugin cuFFT when one has already been registered\n",
      "WARNING: All log messages before absl::InitializeLog() is called are written to STDERR\n",
      "E0000 00:00:1744811633.554420   14799 cuda_dnn.cc:8310] Unable to register cuDNN factory: Attempting to register factory for plugin cuDNN when one has already been registered\n",
      "E0000 00:00:1744811633.574520   14799 cuda_blas.cc:1418] Unable to register cuBLAS factory: Attempting to register factory for plugin cuBLAS when one has already been registered\n",
      "2025-04-16 13:53:53.716318: I tensorflow/core/platform/cpu_feature_guard.cc:210] This TensorFlow binary is optimized to use available CPU instructions in performance-critical operations.\n",
      "To enable the following instructions: AVX2 AVX_VNNI FMA, in other operations, rebuild TensorFlow with the appropriate compiler flags.\n"
     ]
    }
   ],
   "source": [
    "import tensorflow as tf"
   ]
  },
  {
   "cell_type": "code",
   "execution_count": 27,
   "id": "e336afca",
   "metadata": {},
   "outputs": [
    {
     "name": "stdout",
     "output_type": "stream",
     "text": [
      "0 Energy:  -1.9256509044110524 \t +/- \t 0.016532700834969383\n",
      "1 Energy:  -2.011627507060593 \t +/- \t 0.009197901549597542\n",
      "2 Energy:  -2.093613782274177 \t +/- \t 0.011668498958318008\n",
      "3 Energy:  -2.1738613241715075 \t +/- \t 0.014987085104153142\n",
      "4 Energy:  -2.254458939323505 \t +/- \t 0.02283719368303805\n",
      "5 Energy:  -2.337909296819744 \t +/- \t 0.015825014069190235\n",
      "6 Energy:  -2.42629435760904 \t +/- \t 0.00889628244617402\n",
      "7 Energy:  -2.5205760788247913 \t +/- \t 0.006272579420297575\n",
      "8 Energy:  -2.6206704679235933 \t +/- \t 0.0012580116099032423\n",
      "9 Energy:  -2.7254516714629973 \t +/- \t 0.017562350018965223\n",
      "10 Energy:  -2.8326320089738677 \t +/- \t 0.01976911935225445\n",
      "11 Energy:  -2.9387445177614815 \t +/- \t 0.009150426492860131\n",
      "12 Energy:  -3.0394457462346716 \t +/- \t 0.007052135505812185\n",
      "13 Energy:  -3.1300812435053356 \t +/- \t 0.0169237518696157\n",
      "14 Energy:  -3.20655561994517 \t +/- \t 0.016719830714905903\n",
      "15 Energy:  -3.2665041303260027 \t +/- \t 0.007785912095865655\n",
      "16 Energy:  -3.3097750981929375 \t +/- \t 0.0016990647905812395\n",
      "17 Energy:  -3.3380148321236236 \t +/- \t 0.0022237000783773553\n",
      "18 Energy:  -3.3540355268968387 \t +/- \t 0.0006869849012787199\n",
      "19 Energy:  -3.360973486546288 \t +/- \t 0.0017108861449082191\n",
      "20 Energy:  -3.361774550625046 \t +/- \t 0.0017425771894878928\n",
      "21 Energy:  -3.35880626107353 \t +/- \t 0.004052999871739793\n",
      "22 Energy:  -3.353830921630927 \t +/- \t 0.004925342770353502\n",
      "23 Energy:  -3.3480838875916157 \t +/- \t 0.0042291513675922765\n",
      "24 Energy:  -3.3423861693510917 \t +/- \t 0.0006409756095049346\n",
      "25 Energy:  -3.337269556057051 \t +/- \t 0.0017280142672135845\n",
      "26 Energy:  -3.332999643246074 \t +/- \t 0.004519585432205098\n",
      "27 Energy:  -3.329704213145988 \t +/- \t 0.004074231334997069\n",
      "28 Energy:  -3.327447016571087 \t +/- \t 0.0007616053530958844\n",
      "29 Energy:  -3.3262320049355893 \t +/- \t 0.0018896439863684833\n",
      "30 Energy:  -3.3260109260134025 \t +/- \t 0.00021917656806458297\n",
      "31 Energy:  -3.3267295496973235 \t +/- \t 0.0019456622835329895\n",
      "32 Energy:  -3.3282919138496614 \t +/- \t 0.00028191843526403915\n",
      "33 Energy:  -3.330602068962257 \t +/- \t 0.0017886711201984262\n",
      "34 Energy:  -3.3335514502734847 \t +/- \t 0.003421263985118106\n",
      "35 Energy:  -3.337018109809811 \t +/- \t 0.0025203189187772423\n",
      "36 Energy:  -3.3408483376870572 \t +/- \t 0.0014935096640509293\n",
      "37 Energy:  -3.3448539117305023 \t +/- \t 0.001307797940101274\n",
      "38 Energy:  -3.348880087335099 \t +/- \t 0.0003198001134849804\n",
      "39 Energy:  -3.352768695163307 \t +/- \t 0.0017530880122587078\n",
      "\n",
      "\n",
      "\n",
      "Energy:  -3.352768695163307 \n",
      " Time 24.38481330871582 -3.4270340889080786\n"
     ]
    },
    {
     "data": {
      "image/png": "[encoded data removed]",
      "text/plain": [
       "<Figure size 640x480 with 1 Axes>"
      ]
     },
     "metadata": {},
     "output_type": "display_data"
    }
   ],
   "source": [
    "from functools import partial\n",
    "\n",
    "sample_size = 20000\n",
    "\n",
    "seed = 1\n",
    "\n",
    "E_hist=[]\n",
    "E_smpl_hist=[]\n",
    "\n",
    "rbm = RBM_surrogate(N=N,M=M,seed=seed,)\n",
    "x = tf.Variable(rbm.X)\n",
    "\n",
    "tm=time.time()\n",
    "\n",
    "optimizer = tf.keras.optimizers.Adam(learning_rate=learning_rate, beta_1=beta1, beta_2=beta2, epsilon=epsilon)\n",
    "\n",
    "for epoch in range(40):\n",
    "  rbm = RBM_surrogate(N,M,X=x.numpy())\n",
    "  rbm.build_surrogate()\n",
    "\n",
    "  #tm = time.time()\n",
    "  prob_func = partial(prob_Ising_nv, N=N, poly=rbm.poly, log_rho_max=rbm.log_rho_max)\n",
    "  prob_dist = Sampling(N=N, prob_func=prob_func, sample_size=sample_size, burn=sample_size//10)\n",
    "  #print(\"Sampling Time: \", time.time()-tm)\n",
    "\n",
    "\n",
    "  E = rbm.Energy_exact(Ham)\n",
    "\n",
    "  #tm = time.time()\n",
    "  E_smpl = rbm.Energy_sampling(Ham,prob_mat=prob_dist)\n",
    "  #print(\"Energy Time: \", time.time()-tm)\n",
    "  print(epoch, \"Energy: \", E, \"\\t +/- \\t\", np.abs(E_smpl - E))\n",
    "\n",
    "  #tm = time.time()\n",
    "  #grad_exact = np.real(rbm.grad_exact(Ham))\n",
    "  grad = np.real(rbm.grad_Sampling(Ham,prob_mat=prob_dist))\n",
    "  #print(\"Gradient Time: \", time.time()-tm)\n",
    "\n",
    "  optimizer.apply_gradients([(grad, x)])\n",
    "\n",
    "  E_hist.append(E)\n",
    "  E_smpl_hist.append(E_smpl)\n",
    "\n",
    "print(\"\\n\\n\\nEnergy: \",E,\"\\n Time\",time.time()-tm, lmbd[0])\n",
    "\n",
    "plot_log(E_hist, E_smpl_hist)\n",
    "save_data(rbm.X,rbm.poly,g,seed,E,E_smpl,prob_dist,sample_list=[])"
   ]
  },
  {
   "cell_type": "code",
   "execution_count": 28,
   "id": "b58d1202",
   "metadata": {},
   "outputs": [
    {
     "data": {
      "text/plain": [
       "array([-0.0209428 , -0.19796048, -0.30481155, -0.30226256, -0.09946225,\n",
       "       -0.48172511,  0.37547785, -0.30421908, -0.08689306, -0.22787215,\n",
       "        0.30171643, -0.39795843, -0.22907338, -0.28615423,  0.36225798,\n",
       "       -0.33983588, -0.267143  , -0.30722285,  0.25716354, -0.19530607,\n",
       "       -0.30888255, -0.10432028,  0.19908776, -0.00713847,  0.01708475,\n",
       "        0.18832148, -0.15647368,  0.03652987,  0.11247059,  0.26215283,\n",
       "       -0.03589472, -0.20537435,  0.02102989, -0.20015063, -0.27995892,\n",
       "       -0.09440247, -0.10590066,  0.25883819,  0.36080864, -0.01441756,\n",
       "        0.15404985, -0.27077511, -0.3099548 ,  0.01897262, -0.09294122,\n",
       "        0.11619909,  0.18558005,  0.04758918])"
      ]
     },
     "execution_count": 28,
     "metadata": {},
     "output_type": "execute_result"
    }
   ],
   "source": [
    "rbm.X"
   ]
  },
  {
   "cell_type": "code",
   "execution_count": null,
   "id": "382731b1",
   "metadata": {},
   "outputs": [],
   "source": []
  }
 ],
 "metadata": {
  "kernelspec": {
   "display_name": "Python 3",
   "language": "python",
   "name": "python3"
  },
  "language_info": {
   "codemirror_mode": {
    "name": "ipython",
    "version": 3
   },
   "file_extension": ".py",
   "mimetype": "text/x-python",
   "name": "python",
   "nbconvert_exporter": "python",
   "pygments_lexer": "ipython3",
   "version": "3.10.12"
  }
 },
 "nbformat": 4,
 "nbformat_minor": 5
}
