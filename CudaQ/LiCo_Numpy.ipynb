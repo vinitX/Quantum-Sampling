{
 "cells": [
  {
   "cell_type": "code",
   "execution_count": 2,
   "id": "f0edc880",
   "metadata": {},
   "outputs": [],
   "source": [
    "import sys\n",
    "import os\n",
    "sys.path.append(\"C:/Users/vinit/Downloads/Research/Quantum-Sampling\")\n",
    "from Sampling import *\n",
    "from RBM import *\n",
    "from Adam import Adam"
   ]
  },
  {
   "cell_type": "code",
   "execution_count": 3,
   "id": "5b20b27d",
   "metadata": {},
   "outputs": [],
   "source": [
    "import os\n",
    "import numpy as np\n",
    "import scipy as sp\n",
    "import numpy.linalg as la\n",
    "import scipy.linalg as spla\n",
    "import time\n",
    "import matplotlib.pyplot as plt\n",
    "import json"
   ]
  },
  {
   "cell_type": "code",
   "execution_count": 4,
   "id": "c427931c",
   "metadata": {},
   "outputs": [],
   "source": [
    "N=6\n",
    "M=4\n",
    "D=0\n",
    "beta=1\n",
    "\n",
    "g=0.5"
   ]
  },
  {
   "cell_type": "code",
   "execution_count": 5,
   "id": "dbc7bd0a",
   "metadata": {},
   "outputs": [],
   "source": [
    "import numpy as np\n",
    "import re\n",
    "\n",
    "Ham = np.zeros((2**N,2**N),dtype=complex)\n",
    "\n",
    "with open('gamma_Hk.txt', 'r') as f:\n",
    "    for line in f:\n",
    "        # Match lines like: m= 1 n= 2 Re=0.0000000000 Im=0.0000000000\n",
    "        match = re.match(r\"m=\\s*(\\d+)\\s*n=\\s*(\\d+)\\s*Re=([-\\d\\.]+)\\s*Im=([-\\d\\.]+)\", line)\n",
    "        if match:\n",
    "            m, n, re_val, im_val = match.groups()\n",
    "            Ham[int(m)-1,int(n)-1] = float(re_val) + 1j * float(im_val)\n"
   ]
  },
  {
   "cell_type": "code",
   "execution_count": null,
   "id": "5201d889",
   "metadata": {},
   "outputs": [],
   "source": []
  },
  {
   "cell_type": "code",
   "execution_count": 6,
   "id": "639d05e0",
   "metadata": {},
   "outputs": [],
   "source": [
    "# Adam optimizer hyperparameters\n",
    "learning_rate = 0.01\n",
    "beta1 = 0.9\n",
    "beta2 = 0.999\n",
    "epsilon = 1e-8"
   ]
  },
  {
   "cell_type": "code",
   "execution_count": 7,
   "id": "233643bc",
   "metadata": {},
   "outputs": [],
   "source": [
    "file = \"Data/TFIM/\""
   ]
  },
  {
   "cell_type": "code",
   "execution_count": 9,
   "id": "9e112236",
   "metadata": {},
   "outputs": [
    {
     "name": "stdout",
     "output_type": "stream",
     "text": [
      "Ground State: [4.74230593e-16]\n"
     ]
    }
   ],
   "source": [
    "from scipy.sparse import csr_array, coo_matrix\n",
    "from scipy.sparse.linalg import eigsh\n",
    "\n",
    "Ham_csr = csr_array(Ham)\n",
    "lmbd, _ = eigsh(Ham_csr, k=1, which='SA')\n",
    "\n",
    "print(\"Ground State:\", lmbd)"
   ]
  },
  {
   "cell_type": "code",
   "execution_count": null,
   "id": "defa4cb1",
   "metadata": {},
   "outputs": [],
   "source": []
  },
  {
   "cell_type": "code",
   "execution_count": null,
   "id": "a4348d75",
   "metadata": {},
   "outputs": [],
   "source": [
    "def plot_log(E_hist, E_smpl_hist):\n",
    "    #ya, iter = smpl.median_filter(np.real(E_hist))\n",
    "    ya = np.real(E_hist)\n",
    "    xa = np.arange(len(ya))\n",
    "    ci = np.abs(np.array(E_smpl_hist) - ya)\n",
    "    fig, ax = plt.subplots()\n",
    "    ax.plot(ya)\n",
    "    ax.fill_between(xa, (ya-ci), (ya+ci), color='r', alpha=.5)\n",
    "    ax.set_ylabel(\"Energy\")\n",
    "    ax.set_xlabel(\"Epochs\")\n",
    "    plt.hlines(lmbd[0],0,len(xa)-1,color='r',linestyles='dashed')\n",
    "    plt.show()"
   ]
  },
  {
   "cell_type": "code",
   "execution_count": null,
   "id": "86849d2b",
   "metadata": {},
   "outputs": [],
   "source": [
    "def save_data(X,poly,g,seed,E,E_smpl,prob_dist,sample_list=[]):\n",
    "  with open(file+\"X_N=\"+str(N)+\"_g=\"+str(g)+\"_seed=\"+str(seed)+\".txt\", \"ab\") as f:\n",
    "    np.savetxt(f, np.reshape(X,(1,-1)))\n",
    "  with open(file+\"Poly_N=\"+str(N)+\"_g=\"+str(g)+\"_seed=\"+str(seed)+\".txt\", \"ab\") as f:\n",
    "    np.savetxt(f, np.reshape(poly,(1,-1)))\n",
    "  with open(file+\"E_N=\"+str(N)+\"_g=\"+str(g)+\"_seed=\"+str(seed)+\".txt\", \"ab\") as f:\n",
    "    np.savetxt(f, [E])\n",
    "  with open(file+\"E_smpl_N=\"+str(N)+\"_g=\"+str(g)+\"_seed=\"+str(seed)+\".txt\", \"ab\") as f:\n",
    "    np.savetxt(f, [E_smpl])\n",
    "  with open(file+\"prob_dist_N=\"+str(N)+\"_g=\"+str(g)+\"_seed=\"+str(seed)+\".txt\", \"ab\") as f:\n",
    "    np.savetxt(f, np.reshape(prob_dist,(1,-1)))\n",
    "  with open(file+\"prob_dist_N=\"+str(N)+\"_g=\"+str(g)+\"_seed=\"+str(seed)+\".txt\", \"ab\") as f:\n",
    "    np.savetxt(f, np.reshape(sample_list,(1,-1)))"
   ]
  },
  {
   "cell_type": "code",
   "execution_count": null,
   "id": "1f9df4d9",
   "metadata": {},
   "outputs": [],
   "source": []
  },
  {
   "cell_type": "code",
   "execution_count": 23,
   "id": "e336afca",
   "metadata": {},
   "outputs": [
    {
     "ename": "AttributeError",
     "evalue": "'RBM' object has no attribute 'Energy_exact'",
     "output_type": "error",
     "traceback": [
      "\u001b[1;31m---------------------------------------------------------------------------\u001b[0m",
      "\u001b[1;31mAttributeError\u001b[0m                            Traceback (most recent call last)",
      "Cell \u001b[1;32mIn[23], line 27\u001b[0m\n\u001b[0;32m     23\u001b[0m prob_dist \u001b[38;5;241m=\u001b[39m Sampling(N\u001b[38;5;241m=\u001b[39mN, prob_func\u001b[38;5;241m=\u001b[39mprob_func, sample_size\u001b[38;5;241m=\u001b[39msample_size, burn\u001b[38;5;241m=\u001b[39msample_size\u001b[38;5;241m/\u001b[39m\u001b[38;5;241m/\u001b[39m\u001b[38;5;241m10\u001b[39m)\n\u001b[0;32m     24\u001b[0m \u001b[38;5;66;03m#print(\"Sampling Time: \", time.time()-tm)\u001b[39;00m\n\u001b[1;32m---> 27\u001b[0m E \u001b[38;5;241m=\u001b[39m \u001b[43mrbm\u001b[49m\u001b[38;5;241;43m.\u001b[39;49m\u001b[43mEnergy_exact\u001b[49m(Ham)\n\u001b[0;32m     29\u001b[0m \u001b[38;5;66;03m#tm = time.time()\u001b[39;00m\n\u001b[0;32m     30\u001b[0m E_smpl \u001b[38;5;241m=\u001b[39m rbm\u001b[38;5;241m.\u001b[39mEnergy_sampling(Ham,prob_mat\u001b[38;5;241m=\u001b[39mprob_dist)\n",
      "\u001b[1;31mAttributeError\u001b[0m: 'RBM' object has no attribute 'Energy_exact'"
     ]
    }
   ],
   "source": [
    "from functools import partial\n",
    "\n",
    "sample_size = 20000\n",
    "\n",
    "seed = 1\n",
    "\n",
    "E_hist=[]\n",
    "E_smpl_hist=[]\n",
    "\n",
    "rbm = RBM(N,M,seed=seed)\n",
    "X = rbm.X\n",
    "\n",
    "tm=time.time()\n",
    "\n",
    "optimizer = Adam(learning_rate=learning_rate, beta_1=beta1, beta_2=beta2, epsilon=epsilon)\n",
    "\n",
    "for epoch in range(40):\n",
    "  rbm = RBM(N,M,X=X)\n",
    "\n",
    "  params = [rbm.a, rbm.b, rbm.w]\n",
    "  #tm = time.time()\n",
    "  prob_func = partial(prob_RBM_nv, params=params)\n",
    "  prob_dist = Sampling(N=N, prob_func=prob_func, sample_size=sample_size, burn=sample_size//10)\n",
    "  #print(\"Sampling Time: \", time.time()-tm)\n",
    "\n",
    "\n",
    "  E = rbm.Energy_exact(Ham)\n",
    "\n",
    "  #tm = time.time()\n",
    "  E_smpl = rbm.Energy_sampling(Ham,prob_mat=prob_dist)\n",
    "  #print(\"Energy Time: \", time.time()-tm)\n",
    "  print(epoch, \"Energy: \", E, \"\\t +/- \\t\", np.abs(E_smpl - E))\n",
    "\n",
    "  #tm = time.time()\n",
    "  #grad_exact = np.real(rbm.grad_exact(Ham))\n",
    "  grad = np.real(rbm.grad_Sampling(Ham,prob_mat=prob_dist))\n",
    "  #print(\"Gradient Time: \", time.time()-tm)\n",
    "\n",
    "  optimizer.apply_gradients([(grad, x)])\n",
    "\n",
    "  E_hist.append(E)\n",
    "  E_smpl_hist.append(E_smpl)\n",
    "\n",
    "print(\"\\n\\n\\nEnergy: \",E,\"\\n Time\",time.time()-tm, lmbd[0])\n",
    "\n",
    "plot_log(E_hist, E_smpl_hist)\n",
    "save_data(rbm.X,rbm.poly,g,seed,E,E_smpl,prob_dist,sample_list=[])"
   ]
  },
  {
   "cell_type": "code",
   "execution_count": null,
   "id": "b58d1202",
   "metadata": {},
   "outputs": [],
   "source": []
  },
  {
   "cell_type": "code",
   "execution_count": null,
   "id": "382731b1",
   "metadata": {},
   "outputs": [],
   "source": []
  },
  {
   "cell_type": "code",
   "execution_count": null,
   "id": "ce999fc6",
   "metadata": {},
   "outputs": [],
   "source": []
  }
 ],
 "metadata": {
  "kernelspec": {
   "display_name": "Python 3",
   "language": "python",
   "name": "python3"
  },
  "language_info": {
   "codemirror_mode": {
    "name": "ipython",
    "version": 3
   },
   "file_extension": ".py",
   "mimetype": "text/x-python",
   "name": "python",
   "nbconvert_exporter": "python",
   "pygments_lexer": "ipython3",
   "version": "3.11.9"
  }
 },
 "nbformat": 4,
 "nbformat_minor": 5
}
