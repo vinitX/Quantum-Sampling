{
 "cells": [
  {
   "cell_type": "code",
   "execution_count": 11,
   "id": "f0edc880",
   "metadata": {},
   "outputs": [],
   "source": [
    "import sys\n",
    "sys.path.append(\"C:/Users/vinit/Downloads/Research/Quantum-Sampling\")\n",
    "from Sampling import *\n",
    "from RBM import *\n",
    "from spin_utils import *\n",
    "from Adam import Adam\n",
    "\n",
    "import numpy as np\n",
    "import time\n",
    "import matplotlib.pyplot as plt\n",
    "import json\n",
    "from functools import partial\n",
    "import re\n",
    "import pickle\n"
   ]
  },
  {
   "cell_type": "code",
   "execution_count": null,
   "id": "5b20b27d",
   "metadata": {},
   "outputs": [],
   "source": []
  },
  {
   "cell_type": "code",
   "execution_count": 12,
   "id": "c427931c",
   "metadata": {},
   "outputs": [],
   "source": [
    "N=6\n",
    "M=4\n",
    "D=0\n",
    "beta=1.0"
   ]
  },
  {
   "cell_type": "code",
   "execution_count": 13,
   "id": "dbc7bd0a",
   "metadata": {},
   "outputs": [],
   "source": [
    "\n",
    "Ham = np.zeros((2**N,2**N),dtype=complex)\n",
    "\n",
    "with open('gamma_Hk.txt', 'r') as f:\n",
    "    for line in f:\n",
    "        # Match lines like: m= 1 n= 2 Re=0.0000000000 Im=0.0000000000\n",
    "        match = re.match(r\"m=\\s*(\\d+)\\s*n=\\s*(\\d+)\\s*Re=([-\\d\\.]+)\\s*Im=([-\\d\\.]+)\", line)\n",
    "        if match:\n",
    "            m, n, re_val, im_val = match.groups()\n",
    "            Ham[int(m)-1,int(n)-1] = float(re_val) + 1j * float(im_val)\n"
   ]
  },
  {
   "cell_type": "code",
   "execution_count": 14,
   "id": "5201d889",
   "metadata": {},
   "outputs": [],
   "source": [
    "Ham_Pauli = hamiltonian_matrix_to_pauli_sum(Ham)"
   ]
  },
  {
   "cell_type": "code",
   "execution_count": null,
   "id": "f65f197c",
   "metadata": {},
   "outputs": [],
   "source": []
  },
  {
   "cell_type": "code",
   "execution_count": 15,
   "id": "639d05e0",
   "metadata": {},
   "outputs": [],
   "source": [
    "# Adam optimizer hyperparameters\n",
    "learning_rate = 0.01\n",
    "beta1 = 0.9\n",
    "beta2 = 0.999\n",
    "epsilon = 1e-8"
   ]
  },
  {
   "cell_type": "code",
   "execution_count": 30,
   "id": "233643bc",
   "metadata": {},
   "outputs": [],
   "source": [
    "data_dir = \"Data/LiCoO_k=33/\"\n",
    "\n",
    "# create a folder prob_dict inside the data_directory if it doesn't exist \n"
   ]
  },
  {
   "cell_type": "code",
   "execution_count": 31,
   "id": "9e112236",
   "metadata": {},
   "outputs": [
    {
     "name": "stdout",
     "output_type": "stream",
     "text": [
      "Ground State: [-1.31548292e-15]\n"
     ]
    }
   ],
   "source": [
    "from scipy.sparse import csr_array, coo_matrix\n",
    "from scipy.sparse.linalg import eigsh\n",
    "\n",
    "Ham_csr = csr_array(Ham)\n",
    "lmbd, _ = eigsh(Ham_csr, k=1, which='SA')\n",
    "\n",
    "print(\"Ground State:\", lmbd)"
   ]
  },
  {
   "cell_type": "code",
   "execution_count": null,
   "id": "defa4cb1",
   "metadata": {},
   "outputs": [],
   "source": []
  },
  {
   "cell_type": "code",
   "execution_count": 32,
   "id": "a4348d75",
   "metadata": {},
   "outputs": [],
   "source": [
    "def plot_log(E_hist=[], E_smpl_hist=[], lmbd=None):\n",
    "    if len(E_smpl_hist) == 0:\n",
    "        plt.plot(E_hist)\n",
    "        plt.ylabel(\"Energy\")\n",
    "        plt.xlabel(\"Epochs\")\n",
    "\n",
    "    elif len(E_hist) == 0:\n",
    "        plt.plot(E_smpl_hist)\n",
    "        plt.ylabel(\"Energy\")\n",
    "        plt.xlabel(\"Epochs\")\n",
    "\n",
    "    else: \n",
    "        ya = np.real(E_hist)\n",
    "        xa = np.arange(len(ya))\n",
    "        ci = np.abs(np.array(E_smpl_hist) - ya)\n",
    "        _, ax = plt.subplots()\n",
    "        ax.plot(ya)\n",
    "        ax.fill_between(xa, (ya-ci), (ya+ci), color='r', alpha=.5)\n",
    "        ax.set_ylabel(\"Energy\")\n",
    "        ax.set_xlabel(\"Epochs\")\n",
    "\n",
    "    if lmbd:\n",
    "        plt.hlines(lmbd[0],0,len(E_hist)-1,color='r',linestyles='dashed')"
   ]
  },
  {
   "cell_type": "code",
   "execution_count": 44,
   "id": "86849d2b",
   "metadata": {},
   "outputs": [],
   "source": [
    "def save_data(data_dir,X,E=None,E_smpl=None):\n",
    "  with open(data_dir+\"X.txt\", \"ab\") as f:\n",
    "    np.savetxt(f, np.reshape(X,(1,-1)))\n",
    "  if E is not None:\n",
    "    with open(data_dir+\"E.txt\", \"ab\") as f:\n",
    "      np.savetxt(f, [E])\n",
    "  elif E_smpl is not None:\n",
    "    with open(data_dir+\"E_smpl.txt\", \"ab\") as f:\n",
    "      np.savetxt(f, [E_smpl])"
   ]
  },
  {
   "cell_type": "code",
   "execution_count": null,
   "id": "1f9df4d9",
   "metadata": {},
   "outputs": [],
   "source": []
  },
  {
   "cell_type": "code",
   "execution_count": 45,
   "id": "e336afca",
   "metadata": {},
   "outputs": [
    {
     "name": "stdout",
     "output_type": "stream",
     "text": [
      "0 Energy:  3.6995498837356835\n",
      "1 Energy:  3.3685962723900635\n",
      "2 Energy:  3.0723766668512273\n",
      "3 Energy:  2.7973127579620845\n",
      "\n",
      "\n",
      "\n",
      "Energy:  2.7973127579620845 \n",
      " Time 52.688416957855225 -1.3154829242968974e-15\n"
     ]
    },
    {
     "data": {
      "image/png": "[encoded data removed]",
      "text/plain": [
       "<Figure size 640x480 with 1 Axes>"
      ]
     },
     "metadata": {},
     "output_type": "display_data"
    }
   ],
   "source": [
    "sample_size = 20000\n",
    "method = \"exact\"  # \"exact\" or \"sampling\"\n",
    "\n",
    "seed = 1\n",
    "\n",
    "E_hist=[]\n",
    "E_smpl_hist=[]\n",
    "\n",
    "rbm = RBM(N,M,seed=seed)\n",
    "X = rbm.X\n",
    "\n",
    "tm=time.time()\n",
    "\n",
    "optimizer = Adam(learning_rate=learning_rate, beta_1=beta1, beta_2=beta2, epsilon=epsilon)\n",
    "\n",
    "for epoch in range(4):\n",
    "  rbm = RBM(N,M,X=X)\n",
    "\n",
    "  params = [rbm.a, rbm.b, rbm.w]\n",
    "  #tm = time.time()\n",
    "  prob_func = partial(prob_RBM_nv, params=params)\n",
    "  if method == \"sampling\":\n",
    "    prob_dict = Sampling(N=N, prob_func=prob_func, sample_size=sample_size, burn=sample_size//10)\n",
    "    with open(data_dir+\"prob_dict/epoch_\"+str(epoch)+\".pkl\", \"wb\") as f:\n",
    "      pickle.dump(prob_dict, f)\n",
    "  #print(\"Sampling Time: \", time.time()-tm)\n",
    "\n",
    "  if method == \"exact\":\n",
    "    E = rbm.Energy_exact(Ham_Pauli)\n",
    "    print(epoch, \"Energy: \", E)\n",
    "    grad = np.real(rbm.grad_exact(Ham_Pauli))\n",
    "    E_hist.append(E)\n",
    "    save_data(data_dir,X,E)\n",
    "    \n",
    "\n",
    "  elif method == \"sampling\":\n",
    "    E_smpl = rbm.Energy_sampling(Ham_Pauli,prob_dict=prob_dict)\n",
    "    grad = np.real(rbm.grad_Sampling(Ham_Pauli,prob_dict=prob_dict))\n",
    "    E_smpl_hist.append(E_smpl)\n",
    "\n",
    "    E = None\n",
    "    if N < 10:\n",
    "      E = rbm.Energy_exact(Ham_Pauli)\n",
    "      print(epoch, \"Energy: \", E, \"\\t +/- \\t\", np.abs(E_smpl - E))\n",
    "      E_hist.append(E)\n",
    "    save_data(data_dir,X,E,E_smpl)\n",
    "    \n",
    "\n",
    "  optimizer.apply_gradients([(grad, rbm.X)])\n",
    "\n",
    "if E: \n",
    "  print(\"\\n\\n\\nEnergy: \",E,\"\\n Time\",time.time()-tm, lmbd[0])\n",
    "else: \n",
    "  print(\"\\n\\n\\nEnergy: \",E_smpl,\"\\n Time\",time.time()-tm, lmbd[0])\n",
    "\n",
    "\n",
    "plot_log(E_hist, E_smpl_hist)\n"
   ]
  },
  {
   "cell_type": "code",
   "execution_count": 46,
   "id": "b58d1202",
   "metadata": {},
   "outputs": [
    {
     "data": {
      "image/png": "[encoded data removed]",
      "text/plain": [
       "<Figure size 640x480 with 1 Axes>"
      ]
     },
     "metadata": {},
     "output_type": "display_data"
    }
   ],
   "source": [
    "plot_log(E_hist, E_smpl_hist, lmbd)"
   ]
  },
  {
   "cell_type": "code",
   "execution_count": null,
   "id": "81b55e5c",
   "metadata": {},
   "outputs": [],
   "source": []
  }
 ],
 "metadata": {
  "kernelspec": {
   "display_name": "Python 3",
   "language": "python",
   "name": "python3"
  },
  "language_info": {
   "codemirror_mode": {
    "name": "ipython",
    "version": 3
   },
   "file_extension": ".py",
   "mimetype": "text/x-python",
   "name": "python",
   "nbconvert_exporter": "python",
   "pygments_lexer": "ipython3",
   "version": "3.11.9"
  }
 },
 "nbformat": 4,
 "nbformat_minor": 5
}
