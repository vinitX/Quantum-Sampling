{
  "cells": [
    {
      "cell_type": "code",
      "execution_count": 1,
      "metadata": {
        "id": "P1YXgOsxX4_J"
      },
      "outputs": [],
      "source": [
        "from Sampling_Quantum import *\n",
        "from New_MCMC_Proposal import *\n",
        "from get_conn import get_conn"
      ]
    },
    {
      "cell_type": "code",
      "execution_count": 2,
      "metadata": {},
      "outputs": [],
      "source": [
        "# pip install qiskit"
      ]
    },
    {
      "cell_type": "code",
      "execution_count": 3,
      "metadata": {},
      "outputs": [],
      "source": [
        "# pip install netket"
      ]
    },
    {
      "cell_type": "code",
      "execution_count": 4,
      "metadata": {},
      "outputs": [],
      "source": [
        "import os\n",
        "import numpy as np\n",
        "#import netket as nk\n",
        "import scipy as sp\n",
        "import numpy.linalg as la\n",
        "import scipy.linalg as spla\n",
        "import time\n",
        "import matplotlib.pyplot as plt\n",
        "import json"
      ]
    },
    {
      "cell_type": "code",
      "execution_count": 5,
      "metadata": {
        "id": "wvunvUUhYu7U"
      },
      "outputs": [],
      "source": [
        "import itertools\n",
        "#from qiskit.quantum_info import Pauli, SparsePauliOp\n",
        "from collections import defaultdict"
      ]
    },
    {
      "cell_type": "code",
      "execution_count": 6,
      "metadata": {
        "id": "vwCskumZVvRS"
      },
      "outputs": [],
      "source": [
        "# from netket.operator import LocalOperator\n",
        "# from netket.operator.spin import sigmax, sigmay, sigmaz, identity"
      ]
    },
    {
      "cell_type": "code",
      "execution_count": null,
      "metadata": {},
      "outputs": [],
      "source": []
    },
    {
      "cell_type": "code",
      "execution_count": 7,
      "metadata": {},
      "outputs": [],
      "source": [
        "from cudaq import spin\n",
        "import cudaq\n",
        "\n",
        "def TFIM(N,g):\n",
        "    hamiltonian = 0\n",
        "    for i in range(N-1):\n",
        "        hamiltonian -= spin.z(i) * spin.z(i+1)\n",
        "\n",
        "    for i in range(N):\n",
        "        hamiltonian -= g*spin.x(i)\n",
        "    return hamiltonian"
      ]
    },
    {
      "cell_type": "code",
      "execution_count": 64,
      "metadata": {
        "id": "Z0DuGMLtNQ8-"
      },
      "outputs": [],
      "source": [
        "N=10\n",
        "M=10\n",
        "D=0\n",
        "beta=1"
      ]
    },
    {
      "cell_type": "code",
      "execution_count": null,
      "metadata": {
        "id": "34M6Fs418PUH"
      },
      "outputs": [],
      "source": []
    },
    {
      "cell_type": "code",
      "execution_count": 65,
      "metadata": {
        "id": "Y_oio6ljN3yB"
      },
      "outputs": [],
      "source": [
        "def init(seed=1, vv=False, complex=True, a=[], b=[], w=[]):\n",
        "  np.random.seed(seed)\n",
        "  if complex==True:\n",
        "    X=np.random.randn(N+M+N*M+N*D+D+N*N)+1j*np.random.randn(N+M+N*M+N*D+D+N*N)\n",
        "  else:\n",
        "    X=np.random.randn(N+M+N*M+N*D+D+N*N)\n",
        "\n",
        "  if vv==False:\n",
        "    X[-N*N:] = np.zeros(N*N)\n",
        "  else:\n",
        "    c=np.reshape(X[-N*N:],(N,N))\n",
        "    np.fill_diagonal(c,0)\n",
        "    X[-N*N:] = np.reshape(c,-1)\n",
        "\n",
        "  if len(a)!=0:\n",
        "    X[:N] = a\n",
        "  if len(b)!=0:\n",
        "    X[N:N+M] = b\n",
        "  if len(w)!=0:\n",
        "    X[N+M:N+M+N*M] = np.reshape(w,-1)\n",
        "\n",
        "  X=np.concatenate((np.real(X),np.imag(X)))\n",
        "  return X\n",
        "\n",
        "X=init(seed=1, complex=True)"
      ]
    },
    {
      "cell_type": "code",
      "execution_count": 66,
      "metadata": {
        "id": "y9ja_Tl_SSla"
      },
      "outputs": [],
      "source": [
        "def get_params(x):\n",
        "  a=x[:N] +1j*x[N:2*N]\n",
        "  b=x[2*N:2*N+M] + 1j*x[2*N+M:2*(N+M)]\n",
        "  #w=np.reshape(x[N+M:],(N,M))\n",
        "  w=np.reshape(x[2*(N+M):2*(N+M)+N*M]+1j*x[2*(N+M)+N*M:],(N,M))\n",
        "  u=np.zeros((N,D))\n",
        "  d=np.zeros(D)\n",
        "  c=np.zeros((N,N))\n",
        "  return a,b,w,u,d,c\n",
        "\n",
        "\n",
        "def fun(x,smpl,H,prob_dist):\n",
        "  E_smpl = smpl.Energy_sampling(H,prob_dist)\n",
        "  return E_smpl\n",
        "\n",
        "def get_grad_params(X):\n",
        "  l = len(X)//2\n",
        "\n",
        "  a=X[:N]+1j*X[l:l+N]\n",
        "  b=X[N:N+M]+1j*X[l+N:l+N+M]\n",
        "  w=np.reshape(X[N+M:N+M+N*M]+1j*X[l+N+M:l+N+M+N*M],(N,M))\n",
        "  u=np.reshape(X[N+M+N*M:N+M+N*M+N*D]+1j*X[l+N+M+N*M:l+N+M+N*M+N*D],(N,D))\n",
        "  d=X[N+M+N*M+N*D:N+M+N*M+N*D+D]+1j*X[l+N+M+N*M+N*D:l+N+M+N*M+N*D+D]\n",
        "  c=np.reshape(X[N+M+N*M+N*D+D:l]+1j*X[l+N+M+N*M+N*D+D:],(N,N))\n",
        "  return a,b,w,u,d,c\n",
        "\n",
        "def jac(x,smpl,H,prob_dist,exact_comp=False):\n",
        "  grad = smpl.grad_Sampling(H,prob_dist)\n",
        "  da, db, dw, _, _, _ = get_grad_params(grad)\n",
        "\n",
        "  '''with open(file+\"grad_smpl_N=\"+str(N)+\"_g=\"+str(g)+\"_seed=\"+str(seed)+\".txt\", \"ab\") as f:\n",
        "    np.savetxt(f, np.reshape(grad,(1,-1)))'''\n",
        "\n",
        "  if exact_comp == True:\n",
        "    grad_exact = smpl.grad_exact(H)\n",
        "    print(\"Gradient Norm: \", la.norm(grad_exact), \"\\t +/- \\t\", la.norm(grad - grad_exact))\n",
        "    '''with open(file+\"grad_N=\"+str(N)+\"_g=\"+str(g)+\"_seed=\"+str(seed)+\".txt\", \"ab\") as f:\n",
        "      np.savetxt(f, np.reshape(grad_exact,(1,-1)))'''\n",
        "\n",
        "    #grad_hist.append(grad_exact)\n",
        "    #da, db, dw, _, _, _ = get_grad_params(grad_exact)\n",
        "    #return np.concatenate((da,db,np.reshape(dw,-1)))\n",
        "\n",
        "  return np.concatenate((np.real(da),np.imag(da),np.real(db),np.imag(db),np.reshape(np.real(dw),-1),np.reshape(np.imag(dw),-1)))\n",
        "  #return np.concatenate((da,db,np.reshape(dw,-1)))"
      ]
    },
    {
      "cell_type": "code",
      "execution_count": null,
      "metadata": {
        "id": "mtlrsP0q4QZq"
      },
      "outputs": [],
      "source": [
        "def Sampling(smpl, sample_size, burn=1000, method='Quantum', init_config=None):\n",
        "  one_body_coeffs = -smpl.poly[1:1+N]     #np.random.rand(n)\n",
        "  two_body_coeffs = -smpl.poly[1+N:]      #np.random.rand(n**2)\n",
        "\n",
        "  Proposal_object = All_proposals(inverse_temp=beta, one_body_coeffs=one_body_coeffs,\n",
        "              two_body_coeffs = two_body_coeffs)\n",
        "\n",
        "  Proposal_matrix = Proposal_object.get_quantum_circuit_proposal_matrix(mode=\"Trotter error/no Sampling error\")\n",
        "  #Proposal_matrix_exact = Proposal_object.get_quantum_circuit_proposal_matrix(mode=\"Exact-no Trotter error/no Sampling error\")\n",
        "\n",
        "  #proposal_norm = np.linalg.norm(Proposal_matrix_exact)\n",
        "  #trotter_error = np.linalg.norm(Proposal_matrix_exact - Proposal_matrix)\n",
        "\n",
        "  Proposal_object.get_energy_array().Energy_array\n",
        "  Transition_matrix = np.real(Proposal_object.get_transition_matrix_from_proposal(Proposal_matrix, acceptance_criteria='metropolis'))\n",
        "\n",
        "  #prob_dist = np.zeros(2**N)\n",
        "  prob_dict = {}\n",
        "\n",
        "  exact_dist = np.exp(-beta * Proposal_object.Energy_array)\n",
        "  exact_dist = exact_dist / np.sum(exact_dist)\n",
        "\n",
        "\n",
        "  if init_config==None:\n",
        "    s = np.random.choice([1,-1],size=N)\n",
        "  else: s = init_config\n",
        "\n",
        "  tm = time.time()\n",
        "  for k in range(burn):\n",
        "    s = Proposal_object.generate_MCMC_trajectories(Transition_matrix, s)\n",
        "\n",
        "  for k in range(sample_size):\n",
        "    s = Proposal_object.generate_MCMC_trajectories(Transition_matrix, s)\n",
        "    key = Proposal_object.get_spinconfig_to_int(s)\n",
        "    if key in prob_dict: prob_dict[key] +=1\n",
        "    else: prob_dict[key] = 1\n",
        "\n",
        "\n",
        "  print(\"Sampling Time: \", time.time()-tm)\n",
        "\n",
        "\n",
        "\n",
        "  for k in range(sample_size):\n",
        "\n",
        "   \n",
        "    else: prob_dict[key]=1\n",
        "  \n",
        "  for key in prob_dict.keys():\n",
        "    prob_dict[key] = prob_dict[key] / sample_size\n",
        "\n",
        "\n",
        "\n",
        "\n",
        "  return np.flip(prob_dist/np.sum(prob_dist))     #This flip is required to make peace with the difference in the convention."
      ]
    },
    {
      "cell_type": "code",
      "execution_count": null,
      "metadata": {
        "id": "bJVgIymc4S4z"
      },
      "outputs": [],
      "source": []
    },
    {
      "cell_type": "code",
      "execution_count": 114,
      "metadata": {
        "id": "T0n8eOWh4VJU"
      },
      "outputs": [],
      "source": [
        "# Adam optimizer hyperparameters\n",
        "learning_rate = 0.01\n",
        "beta1 = 0.9\n",
        "beta2 = 0.999\n",
        "epsilon = 1e-8"
      ]
    },
    {
      "cell_type": "code",
      "execution_count": 115,
      "metadata": {
        "id": "OE65XSEx4Xfx"
      },
      "outputs": [],
      "source": [
        "#import tensorflow as tf"
      ]
    },
    {
      "cell_type": "code",
      "execution_count": 116,
      "metadata": {
        "id": "zkjJjIiEXCOE"
      },
      "outputs": [],
      "source": [
        "file = \"Data/\""
      ]
    },
    {
      "cell_type": "code",
      "execution_count": 117,
      "metadata": {
        "colab": {
          "base_uri": "https://localhost:8080/"
        },
        "id": "vJFsYo5OiuPf",
        "outputId": "7f14617f-3800-45d1-f329-b5a9368029b4"
      },
      "outputs": [],
      "source": [
        "# graph = nk.graph.Hypercube(length=N, n_dim=1, pbc=True)\n",
        "# hi = nk.hilbert.Spin(s=0.5, N=N)  #total_sz=0,\n",
        "# g=0\n",
        "# delta = 1\n",
        "\n",
        "# H = nk.operator.LocalOperator(hi, dtype = complex)\n",
        "\n",
        "# for i in range(N):\n",
        "#     H -= nk.operator.spin.sigmax(hi, i) * nk.operator.spin.sigmax(hi, (i + 1) % N)\n",
        "#     H -= nk.operator.spin.sigmay(hi, i) * nk.operator.spin.sigmay(hi, (i + 1) % N)\n",
        "#     H -= delta * nk.operator.spin.sigmaz(hi, i) * nk.operator.spin.sigmaz(hi, (i + 1) % N)\n",
        "#     H -= g * nk.operator.spin.sigmaz(hi, i)\n",
        "\n",
        "# lmbd,eigvec=np.linalg.eigh(H.to_dense())\n",
        "# print(\"Ground State Energy: \",lmbd[0])"
      ]
    },
    {
      "cell_type": "code",
      "execution_count": 118,
      "metadata": {},
      "outputs": [],
      "source": [
        "def plot_log(E_hist, E_err_hist):\n",
        "    #ya, iter = smpl.median_filter(np.real(E_hist))\n",
        "    ya = np.real(E_hist)\n",
        "    xa = np.arange(len(ya))\n",
        "    ci = np.array(E_err_hist) #[iter]\n",
        "    fig, ax = plt.subplots()\n",
        "    ax.plot(ya)\n",
        "    ax.fill_between(xa, (ya-ci), (ya+ci), color='r', alpha=.5)\n",
        "    ax.set_ylabel(\"Energy\")\n",
        "    ax.set_xlabel(\"Epochs\")\n",
        "    plt.hlines(lmbd[0],0,len(xa)-1,color='r',linestyles='dashed')\n",
        "    plt.show()"
      ]
    },
    {
      "cell_type": "code",
      "execution_count": 119,
      "metadata": {},
      "outputs": [],
      "source": [
        "#Calculating quantities\n",
        "def calc_quants(smpl,grad,H):\n",
        "  s = smpl.enum(N)\n",
        "  local_energies = smpl.local_energy(H,s)\n",
        "  kernels = smpl.kernel(s)\n",
        "  phi = smpl.prob(s)\n",
        "\n",
        "  derivative_op_diag = np.zeros((12,2**N),dtype=complex)\n",
        "  local_gradients = np.zeros((12,2**N),dtype=complex)\n",
        "  s_vec = np.reshape(s, (len(s),1,N))\n",
        "\n",
        "  da,db,dw,du,dd,dc = get_params(grad)\n",
        "  dw = np.reshape(dw,-1)\n",
        "\n",
        "  idx_list = np.array([np.argmin(np.abs(da)), np.argmax(np.abs(da)), N+np.argmin(np.abs(db)), N+np.argmax(np.abs(db)), N+M+np.argmin(np.abs(dw)), N+M+np.argmax(np.abs(dw))])\n",
        "  idx_list = np.concatenate((idx_list,idx_list+N+M+N*M+N*D+D+N*N))\n",
        "\n",
        "  for i in range(12):\n",
        "    idx = idx_list[i]\n",
        "    var, _, _ = smpl.map_idx_to_var(idx)\n",
        "    local_gradients[i] = smpl.local_gradient(H,s,idx)\n",
        "    derivative_op_diag[i] = smpl.derivative_operator(s,s_vec,idx)[:,0]\n",
        "\n",
        "\n",
        "def save_data(X,smpl,g,seed,E,E_smpl,prob_dist,sample_list):\n",
        "  with open(file+\"X_N=\"+str(N)+\"_g=\"+str(g)+\"_seed=\"+str(seed)+\".txt\", \"ab\") as f:\n",
        "    np.savetxt(f, np.reshape(X,(1,-1)))\n",
        "  with open(file+\"Poly_N=\"+str(N)+\"_g=\"+str(g)+\"_seed=\"+str(seed)+\".txt\", \"ab\") as f:\n",
        "    np.savetxt(f, np.reshape(smpl.poly,(1,-1)))\n",
        "  with open(file+\"E_N=\"+str(N)+\"_g=\"+str(g)+\"_seed=\"+str(seed)+\".txt\", \"ab\") as f:\n",
        "    np.savetxt(f, [E])\n",
        "  with open(file+\"E_smpl_N=\"+str(N)+\"_g=\"+str(g)+\"_seed=\"+str(seed)+\".txt\", \"ab\") as f:\n",
        "    np.savetxt(f, [E_smpl])\n",
        "  with open(file+\"prob_dist_N=\"+str(N)+\"_g=\"+str(g)+\"_seed=\"+str(seed)+\".txt\", \"ab\") as f:\n",
        "    np.savetxt(f, np.reshape(prob_dist,(1,-1)))\n",
        "  with open(file+\"prob_dist_N=\"+str(N)+\"_g=\"+str(g)+\"_seed=\"+str(seed)+\".txt\", \"ab\") as f:\n",
        "    np.savetxt(f, np.reshape(sample_list,(1,-1)))\n"
      ]
    },
    {
      "cell_type": "code",
      "execution_count": 120,
      "metadata": {},
      "outputs": [],
      "source": [
        "import tensorflow as tf"
      ]
    },
    {
      "cell_type": "code",
      "execution_count": 121,
      "metadata": {},
      "outputs": [
        {
          "name": "stdout",
          "output_type": "stream",
          "text": [
            "Sampling Time:  0.046262264251708984\n",
            "21.9955997467041\n",
            "-5.041963180356249 -4.978894828566716\n"
          ]
        }
      ],
      "source": [
        "H = TFIM(N,0.5)\n",
        "sample_size = 2000\n",
        "seed = 1\n",
        "\n",
        "X=init(seed, complex=True)/40\n",
        "smpl = Sampling_Quantum_vectorized(X,N,M,D,beta=beta)\n",
        "a,b,w,_,_,_ = smpl.get_params()\n",
        "\n",
        "x0=np.concatenate((np.real(a),np.imag(a),np.real(b),np.imag(b),np.reshape(np.real(w),-1),np.reshape(np.imag(w),-1)))\n",
        "#x0=np.concatenate((a,b,np.reshape(w,-1)))\n",
        "\n",
        "x = tf.Variable(x0)\n",
        "\n",
        "E = smpl.Energy_exact(H)\n",
        "\n",
        "tm=time.time()\n",
        "prob_dist, sample_list = Sampling(smpl, sample_size, burn=sample_size//10)\n",
        "print(time.time()-tm)\n",
        "E_smpl = fun(x,smpl,H,prob_dist)\n",
        "print(E_smpl, E)"
      ]
    },
    {
      "cell_type": "code",
      "execution_count": 122,
      "metadata": {},
      "outputs": [],
      "source": [
        "s = smpl.enum(N)\n",
        "rho = np.zeros((2**N, 2**N), dtype=complex)\n",
        "for i in range(2**N):\n",
        "    rho[i] = smpl.reduced_density_matrix_nv(s[i],s)\n",
        "rho = rho/np.trace(rho)"
      ]
    },
    {
      "cell_type": "code",
      "execution_count": 123,
      "metadata": {},
      "outputs": [],
      "source": [
        "exact_prob = np.exp(smpl.log_rho_diag(s))\n",
        "exact_prob = exact_prob / np.sum(exact_prob)"
      ]
    },
    {
      "cell_type": "code",
      "execution_count": 112,
      "metadata": {},
      "outputs": [
        {
          "data": {
            "text/plain": [
              "[<matplotlib.lines.Line2D at 0x7f30bc636590>]"
            ]
          },
          "execution_count": 112,
          "metadata": {},
          "output_type": "execute_result"
        },
        {
          "data": {
            "image/png": "[encoded data removed]",
            "text/plain": [
              "<Figure size 640x480 with 1 Axes>"
            ]
          },
          "metadata": {},
          "output_type": "display_data"
        }
      ],
      "source": [
        "plt.plot(exact_prob)\n",
        "plt.plot(prob_dist)"
      ]
    },
    {
      "cell_type": "code",
      "execution_count": null,
      "metadata": {},
      "outputs": [],
      "source": []
    },
    {
      "cell_type": "code",
      "execution_count": null,
      "metadata": {},
      "outputs": [],
      "source": []
    },
    {
      "cell_type": "code",
      "execution_count": 30,
      "metadata": {},
      "outputs": [],
      "source": []
    },
    {
      "cell_type": "code",
      "execution_count": null,
      "metadata": {},
      "outputs": [],
      "source": []
    },
    {
      "cell_type": "code",
      "execution_count": null,
      "metadata": {},
      "outputs": [],
      "source": []
    },
    {
      "cell_type": "code",
      "execution_count": null,
      "metadata": {},
      "outputs": [],
      "source": []
    },
    {
      "cell_type": "code",
      "execution_count": null,
      "metadata": {},
      "outputs": [],
      "source": []
    },
    {
      "cell_type": "code",
      "execution_count": 22,
      "metadata": {
        "colab": {
          "base_uri": "https://localhost:8080/",
          "height": 1000
        },
        "id": "rN69xCxS4YA5",
        "outputId": "7ee89f82-9855-42cb-c803-d3fd36f086a1"
      },
      "outputs": [
        {
          "ename": "AttributeError",
          "evalue": "'OperatorSum' object has no attribute 'get_conn'",
          "output_type": "error",
          "traceback": [
            "\u001b[0;31m---------------------------------------------------------------------------\u001b[0m",
            "\u001b[0;31mAttributeError\u001b[0m                            Traceback (most recent call last)",
            "Cell \u001b[0;32mIn[22], line 37\u001b[0m\n\u001b[1;32m     33\u001b[0m X\u001b[38;5;241m=\u001b[39mnp\u001b[38;5;241m.\u001b[39mconcatenate((np\u001b[38;5;241m.\u001b[39mreal(X),np\u001b[38;5;241m.\u001b[39mimag(X)))\n\u001b[1;32m     35\u001b[0m smpl \u001b[38;5;241m=\u001b[39m Sampling_Quantum_vectorized(X,N,M,D,beta\u001b[38;5;241m=\u001b[39mbeta)\n\u001b[0;32m---> 37\u001b[0m E \u001b[38;5;241m=\u001b[39m \u001b[43msmpl\u001b[49m\u001b[38;5;241;43m.\u001b[39;49m\u001b[43mEnergy_exact\u001b[49m\u001b[43m(\u001b[49m\u001b[43mH\u001b[49m\u001b[43m)\u001b[49m\n\u001b[1;32m     39\u001b[0m prob_dist, sample_list \u001b[38;5;241m=\u001b[39m Sampling(smpl, sample_size, burn\u001b[38;5;241m=\u001b[39msample_size\u001b[38;5;241m/\u001b[39m\u001b[38;5;241m/\u001b[39m\u001b[38;5;241m10\u001b[39m)\n\u001b[1;32m     41\u001b[0m E_smpl \u001b[38;5;241m=\u001b[39m fun(x,smpl,H,prob_dist)\n",
            "File \u001b[0;32m~/Purdue-Nvidia/QRBM-statevector/Sampling/Sampling_Quantum.py:426\u001b[0m, in \u001b[0;36mEnergy_exact\u001b[0;34m(self, H)\u001b[0m\n\u001b[1;32m    424\u001b[0m \u001b[38;5;28;01mdef\u001b[39;00m\u001b[38;5;250m \u001b[39m\u001b[38;5;21mEnergy_exact\u001b[39m(\u001b[38;5;28mself\u001b[39m,H):\n\u001b[1;32m    425\u001b[0m   s \u001b[38;5;241m=\u001b[39m \u001b[38;5;28mself\u001b[39m\u001b[38;5;241m.\u001b[39menum(\u001b[38;5;28mself\u001b[39m\u001b[38;5;241m.\u001b[39mN)\n\u001b[0;32m--> 426\u001b[0m   rho_diag \u001b[38;5;241m=\u001b[39m \u001b[38;5;28mself\u001b[39m\u001b[38;5;241m.\u001b[39mprob(s) \u001b[38;5;241m*\u001b[39m \u001b[38;5;28mself\u001b[39m\u001b[38;5;241m.\u001b[39mkernel(s)\n\u001b[1;32m    427\u001b[0m   E \u001b[38;5;241m=\u001b[39m np\u001b[38;5;241m.\u001b[39msum(rho_diag \u001b[38;5;241m*\u001b[39m \u001b[38;5;28mself\u001b[39m\u001b[38;5;241m.\u001b[39mlocal_energy(H,s)) \u001b[38;5;241m/\u001b[39m np\u001b[38;5;241m.\u001b[39msum(rho_diag)\n\u001b[1;32m    428\u001b[0m   \u001b[38;5;28;01mreturn\u001b[39;00m np\u001b[38;5;241m.\u001b[39mreal(E)\n",
            "File \u001b[0;32m~/Purdue-Nvidia/QRBM-statevector/Sampling/Sampling_Quantum.py:377\u001b[0m, in \u001b[0;36mlocal_energy\u001b[0;34m(self, H, s, H_terms)\u001b[0m\n\u001b[1;32m    375\u001b[0m s2 \u001b[38;5;241m=\u001b[39m np\u001b[38;5;241m.\u001b[39mzeros((\u001b[38;5;28mlen\u001b[39m(s),H_terms,N))\n\u001b[1;32m    376\u001b[0m val \u001b[38;5;241m=\u001b[39m np\u001b[38;5;241m.\u001b[39mzeros((\u001b[38;5;28mlen\u001b[39m(s),H_terms),dtype\u001b[38;5;241m=\u001b[39m\u001b[38;5;28mcomplex\u001b[39m)\n\u001b[0;32m--> 377\u001b[0m \u001b[38;5;28;01mfor\u001b[39;00m i \u001b[38;5;129;01min\u001b[39;00m \u001b[38;5;28mrange\u001b[39m(\u001b[38;5;28mlen\u001b[39m(s)):\n\u001b[1;32m    378\u001b[0m   temp_spin, temp_val \u001b[38;5;241m=\u001b[39m get_conn(H,s[i])\n\u001b[1;32m    379\u001b[0m   s2[i,:\u001b[38;5;28mlen\u001b[39m(temp_spin)] \u001b[38;5;241m=\u001b[39m temp_spin\n",
            "\u001b[0;31mAttributeError\u001b[0m: 'OperatorSum' object has no attribute 'get_conn'"
          ]
        }
      ],
      "source": [
        "sample_size = 20000\n",
        "\n",
        "seed = 1\n",
        "\n",
        "E_hist=[]\n",
        "E_err_hist=[]\n",
        "grad_hist=[]\n",
        "grad_err_hist=[]\n",
        "\n",
        "X=init(seed, complex=True)/40\n",
        "#X[:N] = np.array([0.1]*N) + X[:N]   #Ferromagnetic Perturbation\n",
        "#X = np.loadtxt(file+\"X_N=\"+str(N)+\"_delta=\"+str(delta)+\"_seed=\"+str(0)+\".txt\")\n",
        "#X = X[-1,:]\n",
        "\n",
        "smpl = Sampling_Quantum_vectorized(X,N,M,D,beta=beta)\n",
        "a,b,w,_,_,_ = smpl.get_params()\n",
        "\n",
        "x0=np.concatenate((np.real(a),np.imag(a),np.real(b),np.imag(b),np.reshape(np.real(w),-1),np.reshape(np.imag(w),-1)))\n",
        "#x0=np.concatenate((a,b,np.reshape(w,-1)))\n",
        "\n",
        "tm=time.time()\n",
        "\n",
        "x = tf.Variable(x0)\n",
        "optimizer = tf.keras.optimizers.Adam(learning_rate=learning_rate, beta_1=beta1, beta_2=beta2, epsilon=epsilon)\n",
        "\n",
        "H = TFIM(1)\n",
        "\n",
        "for epoch in range(40):\n",
        "  X = x.numpy()\n",
        "\n",
        "  a,b,w,u,d,c = get_params(X)\n",
        "  X=np.concatenate((a,b,np.reshape(w,-1),np.reshape(u,-1),d,np.reshape(c,-1)))\n",
        "  X=np.concatenate((np.real(X),np.imag(X)))\n",
        "\n",
        "  smpl = Sampling_Quantum_vectorized(X,N,M,D,beta=beta)\n",
        "\n",
        "  E = smpl.Energy_exact(H)\n",
        "\n",
        "  prob_dist, sample_list = Sampling(smpl, sample_size, burn=sample_size//10)\n",
        "\n",
        "  E_smpl = fun(x,smpl,H,prob_dist)\n",
        "  print(\"Energy: \", E, \"\\t +/- \\t\", np.abs(E_smpl - E))\n",
        "  grad = jac(x,smpl,H,prob_dist)\n",
        "\n",
        "  optimizer.apply_gradients([(grad, x)])\n",
        "\n",
        "  E_hist.append(E_smpl)\n",
        "  E_err_hist.append(np.abs(E_smpl - E))\n",
        "\n",
        "\n",
        "print(\"\\n\\n\\nEnergy: \",fun(x),\"\\n Time\",time.time()-tm, lmbd[0])\n",
        "\n",
        "plot_log()"
      ]
    },
    {
      "cell_type": "code",
      "execution_count": null,
      "metadata": {
        "id": "CL7Lq-_maA25"
      },
      "outputs": [],
      "source": []
    }
  ],
  "metadata": {
    "colab": {
      "provenance": []
    },
    "kernelspec": {
      "display_name": "Python 3",
      "name": "python3"
    },
    "language_info": {
      "codemirror_mode": {
        "name": "ipython",
        "version": 3
      },
      "file_extension": ".py",
      "mimetype": "text/x-python",
      "name": "python",
      "nbconvert_exporter": "python",
      "pygments_lexer": "ipython3",
      "version": "3.10.12"
    }
  },
  "nbformat": 4,
  "nbformat_minor": 0
}
