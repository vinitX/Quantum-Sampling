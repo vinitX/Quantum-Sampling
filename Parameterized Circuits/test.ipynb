{
 "cells": [
  {
   "cell_type": "code",
   "execution_count": 1,
   "metadata": {},
   "outputs": [],
   "source": [
    "import cudaq\n",
    "import numpy as np\n",
    "import time\n",
    "from cudaq import spin\n",
    "import scipy\n",
    "\n",
    "#cudaq.set_target('tensornet')\n",
    "\n",
    "@cudaq.kernel\n",
    "def two_qubit_gate(angle:float, qubit_1: cudaq.qubit, qubit_2: cudaq.qubit):  # mode: str = \"CNOT_decomposition\"  [cudaq doesn't support string type]\n",
    "    x.ctrl(qubit_1, qubit_2)\n",
    "    rz(angle, qubit_2)\n",
    "    x.ctrl(qubit_1, qubit_2)\n",
    "\n",
    "@cudaq.kernel\n",
    "def Trotter_circuit(N: int, k:int, angles_ry:np.ndarray, angles_u3:np.ndarray, angles_2q:np.ndarray):  #list[int]\n",
    "    # This is the actual Trotter circuit. Here the circuit construction for Trotterized version of time evolution happens\n",
    "    # k : Trotter repeat length\n",
    "\n",
    "    qreg=cudaq.qvector(N)\n",
    "\n",
    "    for i in range(N):\n",
    "        ry(angles_ry[i], qreg[i])\n",
    "\n",
    "    for _ in range(k-1):\n",
    "        for i in range(N):\n",
    "            u3(angles_u3[i*3], angles_u3[i*3+1], angles_u3[i*3+2], qreg[i])\n",
    "\n",
    "        for i in range(N):\n",
    "            for j in range(i + 1, N): \n",
    "                two_qubit_gate(angles_2q[i*N+j], qreg[i], qreg[j])\n",
    "\n",
    "    for i in range(N):\n",
    "        u3(angles_u3[i*3], angles_u3[i*3+1], angles_u3[i*3+2], qreg[i])\n"
   ]
  },
  {
   "cell_type": "code",
   "execution_count": 2,
   "metadata": {},
   "outputs": [],
   "source": [
    "def Euler_angle_decomposition(U:np.ndarray):\n",
    "    theta = 2 * np.arccos(np.abs(U[0, 0]))\n",
    "\n",
    "    phi = np.angle(U[1, 0]) - np.angle(U[0, 0])\n",
    "    lam = np.angle(U[1, 1]) - np.angle(U[1, 0])\n",
    "    \n",
    "    return theta, phi, lam"
   ]
  },
  {
   "cell_type": "code",
   "execution_count": 3,
   "metadata": {},
   "outputs": [],
   "source": [
    "def computing_norm_ratio(N,l,J):  #This gives value of alpha = self.computing_norm_ratio()\n",
    "    #This computes alpha = ||H_x||_F/||H_z||_F using params only. No storing and computing full matrix is necessary\n",
    "    #Coupling_matrix = np.reshape(np.array(self.model_instance_two_body), (self.no_spins, self.no_spins), order='F')\n",
    "    alpha = np.sqrt(N)/np.sqrt(sum([J**2 for J in J[np.tril_indices(N, k = -1)]]) + sum([h**2 for h in l]))\n",
    "    return alpha\n",
    "\n",
    "def get_spinconfig_to_int(spinconfig:np.ndarray):\n",
    "    #The inverse of int_to_spinconfig. Example: if spinconfig is int(np.array([-1,-1,1])) then output is 1. Given a config it first\n",
    "    # undo the array as -1 is changed to 0 and 1 is left alone.\n",
    "    bit_string = ''.join(['0' if spin==-1 else '1' for spin in spinconfig])\n",
    "\n",
    "    return int(bit_string, 2)  \n",
    "\n",
    "def calculate_angles(N,l,J):\n",
    "    alpha = computing_norm_ratio(N,l,J)\n",
    "    #time_array, time_delta_step = self.scalar_time_sampling(sampling_type=\"discrete\")\n",
    "    time_delta = 0.5\n",
    "    #gamma_array, gamma_step = self.scalar_gamma_sampling(sampling_type=\"discrete\")\n",
    "    gamma = 0.42\n",
    "\n",
    "    angles_u3 = np.zeros(3*N)\n",
    "    for qubit in range(N):\n",
    "        coeff = -alpha*(1-gamma)*l[N-1-qubit]\n",
    "        one_body_Ham = gamma * spin.x(0) + coeff * spin.z(0)\n",
    "        angles_u3[3*qubit: 3*(qubit+1)] = list(Euler_angle_decomposition(scipy.linalg.expm(-1.0j*time_delta*one_body_Ham.to_matrix())))   # always 2*2 so no problem of exponentiation, storage\n",
    "\n",
    "    angles_2q = np.zeros((N,N))\n",
    "    for i in range(N):\n",
    "        for j in range(i+1, N):\n",
    "            angles_2q[i,j] = 2*J[N-1-i, N-1-j]*(1-gamma)*alpha*time_delta\n",
    "\n",
    "    return angles_u3, angles_2q"
   ]
  },
  {
   "cell_type": "code",
   "execution_count": null,
   "metadata": {},
   "outputs": [],
   "source": [
    "def dict_to_res(counts):\n",
    "  for key, value in counts.items():\n",
    "    if value == 1: \n",
    "        final_config = key\n",
    "\n",
    "  res = [1.0 if s == '1' else -1.0 for s in final_config]\n",
    "  \n",
    "  return np.array(res)\n",
    "\n",
    "\n",
    "def Sampling(N,sample_size, burn, init_config=[]):\n",
    "  k = 24\n",
    "  l = np.random.randn(N)   #one body coefficients\n",
    "  J = np.random.randn(N,N)   #two body coefficients\n",
    "\n",
    "  tim = time.time()\n",
    "  prob_dict = {}\n",
    "  sample_list = []\n",
    "\n",
    "  if len(init_config)==0:\n",
    "    s = np.random.choice([1.,-1.],size=N)\n",
    "  else: s = init_config\n",
    "\n",
    "  angles_u3, angles_2q = calculate_angles(N,l,J)\n",
    "\n",
    "  for _ in range(burn):\n",
    "    angles_ry = np.pi*(s + 1)/2\n",
    "    counts = cudaq.sample(Trotter_circuit, N, k, angles_ry, angles_u3, np.reshape(angles_2q,-1), shots_count=1)\n",
    "    #counts = Trotter_circuit_builder(N, k, angles_ry, angles_u3, np.reshape(angles_2q,-1), shots_count=1)\n",
    "    s = dict_to_res(counts)\n",
    "  \n",
    "  print(\"Burn Complete!\")\n",
    "\n",
    "  for _ in range(sample_size):\n",
    "    angles_ry = np.pi*(s + 1)/2\n",
    "    counts = cudaq.sample(Trotter_circuit, N, k, angles_ry, angles_u3, np.reshape(angles_2q,-1), shots_count=1)\n",
    "    #counts = Trotter_circuit_builder(N, k, angles_ry, angles_u3, np.reshape(angles_2q,-1), shots_count=1)\n",
    "    s = dict_to_res(counts)\n",
    "    \n",
    "    key = get_spinconfig_to_int(s)\n",
    "    if key in prob_dict: prob_dict[key] +=1\n",
    "    else: prob_dict[key] = 1\n",
    "    sample_list.append(s)\n",
    "\n",
    "  print(\"Sampling Time: \", time.time()-tim)\n",
    "  \n",
    "  prob_dict_flipped = {}\n",
    "  for key in prob_dict.keys():\n",
    "    prob_dict_flipped[2**N - key - 1] = prob_dict[key] / sample_size\n",
    "\n",
    "  return np.flip(prob_dict_flipped), sample_list     #This flip is required to make peace with the difference in the convention.\n",
    "\n",
    "\n",
    "def main(N, sample_size, dir):\n",
    "    prob_dict, sample_list = Sampling(N, sample_size, burn=sample_size//10)\n",
    "\n",
    "    np.save(dir+'TFIM_samples_mode=kernel_N='+str(N)+'.npy', sample_list)\n",
    "\n",
    "    import pickle\n",
    "    with open(dir+'TFIM_prob_dict_N='+str(N)+'.pkl', 'wb') as f:\n",
    "        pickle.dump(prob_dict, f)\n"
   ]
  },
  {
   "cell_type": "code",
   "execution_count": 5,
   "metadata": {},
   "outputs": [
    {
     "name": "stdout",
     "output_type": "stream",
     "text": [
      "Burn Complete!\n",
      "Sampling Time:  2.379516363143921\n"
     ]
    }
   ],
   "source": [
    "main(4,100,1,'Data/')"
   ]
  },
  {
   "cell_type": "code",
   "execution_count": null,
   "metadata": {},
   "outputs": [],
   "source": []
  },
  {
   "cell_type": "code",
   "execution_count": 6,
   "metadata": {},
   "outputs": [
    {
     "name": "stderr",
     "output_type": "stream",
     "text": [
      "usage: ipykernel_launcher.py [-h] [--sample_size SAMPLE_SIZE] [--seed SEED]\n",
      "                             [--dir DIR]\n",
      "                             N\n",
      "ipykernel_launcher.py: error: the following arguments are required: N\n"
     ]
    },
    {
     "ename": "SystemExit",
     "evalue": "2",
     "output_type": "error",
     "traceback": [
      "An exception has occurred, use %tb to see the full traceback.\n",
      "\u001b[0;31mSystemExit\u001b[0m\u001b[0;31m:\u001b[0m 2\n"
     ]
    },
    {
     "name": "stderr",
     "output_type": "stream",
     "text": [
      "/usr/local/lib/python3.10/dist-packages/IPython/core/interactiveshell.py:3587: UserWarning: To exit: use 'exit', 'quit', or Ctrl-D.\n",
      "  warn(\"To exit: use 'exit', 'quit', or Ctrl-D.\", stacklevel=1)\n"
     ]
    }
   ],
   "source": [
    "import argparse\n",
    "if __name__ == \"__main__\":\n",
    "\n",
    "    Trotter_circuit.compile()\n",
    "    \n",
    "    parser = argparse.ArgumentParser()\n",
    "    parser.add_argument('N', type=int, help='The system size')\n",
    "    parser.add_argument('--sample_size', type=int, default=100)\n",
    "    parser.add_argument('--seed', type=int, default=1)\n",
    "    parser.add_argument('--dir', type=str, default='Data/')\n",
    "\n",
    "    args = parser.parse_args()\n",
    "    tm=time.time()\n",
    "    main(args.N, args.sample_size, args.seed, args.dir)\n",
    "    print(\"Total Time: \", time.time()-tm)"
   ]
  }
 ],
 "metadata": {
  "kernelspec": {
   "display_name": "Python 3",
   "language": "python",
   "name": "python3"
  },
  "language_info": {
   "codemirror_mode": {
    "name": "ipython",
    "version": 3
   },
   "file_extension": ".py",
   "mimetype": "text/x-python",
   "name": "python",
   "nbconvert_exporter": "python",
   "pygments_lexer": "ipython3",
   "version": "3.10.12"
  }
 },
 "nbformat": 4,
 "nbformat_minor": 2
}
