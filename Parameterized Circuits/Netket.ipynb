{
  "cells": [
    {
      "cell_type": "code",
      "execution_count": 18,
      "metadata": {
        "id": "Uh7E8eg_sLxZ"
      },
      "outputs": [],
      "source": [
        "import netket as nk\n",
        "import numpy as np\n",
        "import json\n",
        "import matplotlib.pyplot as plt"
      ]
    },
    {
      "cell_type": "code",
      "execution_count": 34,
      "metadata": {
        "id": "zuAr6_RxsSlX"
      },
      "outputs": [],
      "source": [
        "N=8"
      ]
    },
    {
      "cell_type": "code",
      "execution_count": 35,
      "metadata": {
        "colab": {
          "base_uri": "https://localhost:8080/"
        },
        "id": "DPwJkJFusL01",
        "outputId": "8889e54d-992f-44d4-c924-d0fe15995db4"
      },
      "outputs": [
        {
          "name": "stdout",
          "output_type": "stream",
          "text": [
            "Ground State Energy:  -10.25166179096602\n"
          ]
        }
      ],
      "source": [
        "#graph = nk.graph.Hypercube(length=N, n_dim=1, pbc=True)\n",
        "hi = nk.hilbert.Spin(s=0.5, N=N)  #total_sz=0,\n",
        "h=1\n",
        "\n",
        "# TFIM Hamiltonian: H = - sum(Sz_i Sz_{i+1}) - h sum(Sx_i)\n",
        "edges = [[i, (i + 1) % N] for i in range(N)]  # Periodic boundary conditions\n",
        "\n",
        "H = nk.operator.LocalOperator(hi)\n",
        "\n",
        "# interaction term Sz_i Sz_{i+1}\n",
        "for i, j in edges:\n",
        "    H += -1.0 * nk.operator.spin.sigmaz(hi, i) * nk.operator.spin.sigmaz(hi, j)\n",
        "\n",
        "# transverse field term -h * Sx_i\n",
        "for i in range(N):\n",
        "    H += -h * nk.operator.spin.sigmax(hi, i)\n",
        "\n",
        "lmbd,eigvec=np.linalg.eigh(H.to_dense())\n",
        "print(\"Ground State Energy: \",lmbd[0])"
      ]
    },
    {
      "cell_type": "code",
      "execution_count": 75,
      "metadata": {
        "id": "lIYdn1woOS1n"
      },
      "outputs": [],
      "source": [
        "alpha = 1\n",
        "model = nk.models.RBM(alpha=alpha, use_visible_bias=True, param_dtype=complex)\n",
        "vstate = nk.vqs.MCState(nk.sampler.MetropolisLocal(hilbert=hi), model, n_samples=10000)\n",
        "optimizer = nk.optimizer.Adam(learning_rate=0.004)"
      ]
    },
    {
      "cell_type": "code",
      "execution_count": 76,
      "metadata": {
        "colab": {
          "base_uri": "https://localhost:8080/",
          "height": 66,
          "referenced_widgets": [
            "6cf38a30ce224dfba704a9264de46642",
            "5f449689262749928ef5d0bc43fa7ee8",
            "1db97f4d3a574bf0b7cd738a71ff4eec",
            "bc8b8a3390be47c2bc5871f1ee5ed6c8",
            "bb8b3866c0174f5cae8d9a8db454dfa9",
            "21ca3036f88e47bca4cd8e6fcd4d2997",
            "677b62feb47a45e0a30ec357d3fb85a1",
            "607f062adeb64469aad3e9ea030a262f",
            "ab84845658e44d59a8d3e272f6faeba1",
            "e94955892662455abd1c938f526c179c",
            "d81c24f84d734ed9ba143ebabdb6148c"
          ]
        },
        "id": "2QY6RYeise2H",
        "outputId": "760931a7-5747-44c6-b286-749b5a5afc00"
      },
      "outputs": [
        {
          "name": "stderr",
          "output_type": "stream",
          "text": [
            "100%|██████████| 200/200 [00:19<00:00, 10.02it/s, Energy=-10.1747+0.0019j ± 0.0043 [σ²=0.1557, R̂=1.0012]]\n"
          ]
        },
        {
          "name": "stdout",
          "output_type": "stream",
          "text": [
            "Final ground state energy:  -10.1749+0.0014j ± 0.0044 [σ²=0.1650, R̂=1.0009]\n"
          ]
        }
      ],
      "source": [
        "log = nk.logging.RuntimeLog()\n",
        "\n",
        "gs = nk.driver.VMC(H, optimizer, variational_state=vstate)\n",
        "gs.run(n_iter=200, out=log)\n",
        "\n",
        "print(\"Final ground state energy: \", vstate.expect(H))"
      ]
    },
    {
      "cell_type": "code",
      "execution_count": 77,
      "metadata": {},
      "outputs": [],
      "source": [
        "x = np.real(log.data[\"Energy\"].iters)\n",
        "y = np.real(log.data[\"Energy\"].Mean)\n",
        "yerr = np.real(log.data[\"Energy\"].Sigma)"
      ]
    },
    {
      "cell_type": "code",
      "execution_count": 78,
      "metadata": {},
      "outputs": [
        {
          "data": {
            "image/png": "[encoded data removed]",
            "text/plain": [
              "<Figure size 640x480 with 1 Axes>"
            ]
          },
          "metadata": {},
          "output_type": "display_data"
        }
      ],
      "source": [
        "fig, ax = plt.subplots()\n",
        "ax.plot(y)\n",
        "ax.fill_between(x, (y-yerr), (y+yerr), color='r', alpha=.5)\n",
        "ax.set_ylabel(\"Energy\")\n",
        "ax.set_xlabel(\"Epochs\")\n",
        "plt.hlines(lmbd[0],0,len(x)-1,color='r',linestyles='dashed')\n",
        "plt.show()"
      ]
    },
    {
      "cell_type": "code",
      "execution_count": 70,
      "metadata": {
        "colab": {
          "base_uri": "https://localhost:8080/"
        },
        "id": "-PSKQXSivASL",
        "outputId": "5d217fbe-ac5e-4f6d-a6dd-51506e7578d2"
      },
      "outputs": [],
      "source": [
        "# rng = np.random.default_rng(seed=123)  # For reproducibility\n",
        "# parameters = vstate.parameters\n",
        "\n",
        "# parameters[\"Dense\"][\"bias\"] = rng.normal(loc=0.0, scale=0.01, size=parameters[\"Dense\"][\"bias\"].shape) + 1j * rng.normal(loc=0.0, scale=0.01, size=parameters[\"Dense\"][\"bias\"].shape)\n",
        "# parameters[\"Dense\"][\"kernel\"] = rng.normal(loc=0.0, scale=0.01, size=parameters[\"Dense\"][\"kernel\"].shape) + 1j * rng.normal(loc=0.0, scale=0.01, size=parameters[\"Dense\"][\"kernel\"].shape)\n",
        "# parameters[\"visible_bias\"] = rng.normal(loc=0.0, scale=0.01, size=parameters[\"visible_bias\"].shape) + 1j * rng.normal(loc=0.0, scale=0.01, size=parameters[\"visible_bias\"].shape)\n",
        "\n",
        "# vstate.parameters = parameters  # Update the parameters in the variational state\n",
        "\n",
        "# print(\"Initial RBM Parameters:\")\n",
        "# print(\"Weights (kernel):\", parameters[\"Dense\"][\"kernel\"])\n",
        "# print(\"Hidden biases (Dense bias):\", parameters[\"Dense\"][\"bias\"])\n",
        "# print(\"Visible biases:\", parameters[\"visible_bias\"])"
      ]
    },
    {
      "cell_type": "code",
      "execution_count": 68,
      "metadata": {
        "colab": {
          "base_uri": "https://localhost:8080/"
        },
        "id": "zGfvYXmztJtn",
        "outputId": "14d4e61a-8dd0-4f08-a78f-37d79828f0c5"
      },
      "outputs": [],
      "source": [
        "# print(\"Initial RBM Parameters:\")\n",
        "# print(\"Weights (kernel):\", vstate.parameters[\"Dense\"][\"kernel\"])\n",
        "# print(\"Hidden biases (Dense bias):\", vstate.parameters[\"Dense\"][\"bias\"])\n",
        "# print(\"Visible biases:\", vstate.parameters[\"visible_bias\"])"
      ]
    },
    {
      "cell_type": "code",
      "execution_count": 69,
      "metadata": {
        "id": "kr975egUyFIy"
      },
      "outputs": [],
      "source": [
        "gs = vstate.to_array()"
      ]
    },
    {
      "cell_type": "code",
      "execution_count": null,
      "metadata": {
        "id": "GyaeAbUmzCc9"
      },
      "outputs": [],
      "source": []
    }
  ],
  "metadata": {
    "colab": {
      "provenance": []
    },
    "kernelspec": {
      "display_name": "quantum_sampling",
      "language": "python",
      "name": "python3"
    },
    "language_info": {
      "codemirror_mode": {
        "name": "ipython",
        "version": 3
      },
      "file_extension": ".py",
      "mimetype": "text/x-python",
      "name": "python",
      "nbconvert_exporter": "python",
      "pygments_lexer": "ipython3",
      "version": "3.10.14"
    },
    "widgets": {
      "application/vnd.jupyter.widget-state+json": {
        "1db97f4d3a574bf0b7cd738a71ff4eec": {
          "model_module": "@jupyter-widgets/controls",
          "model_module_version": "1.5.0",
          "model_name": "FloatProgressModel",
          "state": {
            "_dom_classes": [],
            "_model_module": "@jupyter-widgets/controls",
            "_model_module_version": "1.5.0",
            "_model_name": "FloatProgressModel",
            "_view_count": null,
            "_view_module": "@jupyter-widgets/controls",
            "_view_module_version": "1.5.0",
            "_view_name": "ProgressView",
            "bar_style": "success",
            "description": "",
            "description_tooltip": null,
            "layout": "IPY_MODEL_607f062adeb64469aad3e9ea030a262f",
            "max": 1000,
            "min": 0,
            "orientation": "horizontal",
            "style": "IPY_MODEL_ab84845658e44d59a8d3e272f6faeba1",
            "value": 1000
          }
        },
        "21ca3036f88e47bca4cd8e6fcd4d2997": {
          "model_module": "@jupyter-widgets/base",
          "model_module_version": "1.2.0",
          "model_name": "LayoutModel",
          "state": {
            "_model_module": "@jupyter-widgets/base",
            "_model_module_version": "1.2.0",
            "_model_name": "LayoutModel",
            "_view_count": null,
            "_view_module": "@jupyter-widgets/base",
            "_view_module_version": "1.2.0",
            "_view_name": "LayoutView",
            "align_content": null,
            "align_items": null,
            "align_self": null,
            "border": null,
            "bottom": null,
            "display": null,
            "flex": null,
            "flex_flow": null,
            "grid_area": null,
            "grid_auto_columns": null,
            "grid_auto_flow": null,
            "grid_auto_rows": null,
            "grid_column": null,
            "grid_gap": null,
            "grid_row": null,
            "grid_template_areas": null,
            "grid_template_columns": null,
            "grid_template_rows": null,
            "height": null,
            "justify_content": null,
            "justify_items": null,
            "left": null,
            "margin": null,
            "max_height": null,
            "max_width": null,
            "min_height": null,
            "min_width": null,
            "object_fit": null,
            "object_position": null,
            "order": null,
            "overflow": null,
            "overflow_x": null,
            "overflow_y": null,
            "padding": null,
            "right": null,
            "top": null,
            "visibility": null,
            "width": null
          }
        },
        "5f449689262749928ef5d0bc43fa7ee8": {
          "model_module": "@jupyter-widgets/controls",
          "model_module_version": "1.5.0",
          "model_name": "HTMLModel",
          "state": {
            "_dom_classes": [],
            "_model_module": "@jupyter-widgets/controls",
            "_model_module_version": "1.5.0",
            "_model_name": "HTMLModel",
            "_view_count": null,
            "_view_module": "@jupyter-widgets/controls",
            "_view_module_version": "1.5.0",
            "_view_name": "HTMLView",
            "description": "",
            "description_tooltip": null,
            "layout": "IPY_MODEL_21ca3036f88e47bca4cd8e6fcd4d2997",
            "placeholder": "​",
            "style": "IPY_MODEL_677b62feb47a45e0a30ec357d3fb85a1",
            "value": "100%"
          }
        },
        "607f062adeb64469aad3e9ea030a262f": {
          "model_module": "@jupyter-widgets/base",
          "model_module_version": "1.2.0",
          "model_name": "LayoutModel",
          "state": {
            "_model_module": "@jupyter-widgets/base",
            "_model_module_version": "1.2.0",
            "_model_name": "LayoutModel",
            "_view_count": null,
            "_view_module": "@jupyter-widgets/base",
            "_view_module_version": "1.2.0",
            "_view_name": "LayoutView",
            "align_content": null,
            "align_items": null,
            "align_self": null,
            "border": null,
            "bottom": null,
            "display": null,
            "flex": "2",
            "flex_flow": null,
            "grid_area": null,
            "grid_auto_columns": null,
            "grid_auto_flow": null,
            "grid_auto_rows": null,
            "grid_column": null,
            "grid_gap": null,
            "grid_row": null,
            "grid_template_areas": null,
            "grid_template_columns": null,
            "grid_template_rows": null,
            "height": null,
            "justify_content": null,
            "justify_items": null,
            "left": null,
            "margin": null,
            "max_height": null,
            "max_width": null,
            "min_height": null,
            "min_width": null,
            "object_fit": null,
            "object_position": null,
            "order": null,
            "overflow": null,
            "overflow_x": null,
            "overflow_y": null,
            "padding": null,
            "right": null,
            "top": null,
            "visibility": null,
            "width": null
          }
        },
        "677b62feb47a45e0a30ec357d3fb85a1": {
          "model_module": "@jupyter-widgets/controls",
          "model_module_version": "1.5.0",
          "model_name": "DescriptionStyleModel",
          "state": {
            "_model_module": "@jupyter-widgets/controls",
            "_model_module_version": "1.5.0",
            "_model_name": "DescriptionStyleModel",
            "_view_count": null,
            "_view_module": "@jupyter-widgets/base",
            "_view_module_version": "1.2.0",
            "_view_name": "StyleView",
            "description_width": ""
          }
        },
        "6cf38a30ce224dfba704a9264de46642": {
          "model_module": "@jupyter-widgets/controls",
          "model_module_version": "1.5.0",
          "model_name": "HBoxModel",
          "state": {
            "_dom_classes": [],
            "_model_module": "@jupyter-widgets/controls",
            "_model_module_version": "1.5.0",
            "_model_name": "HBoxModel",
            "_view_count": null,
            "_view_module": "@jupyter-widgets/controls",
            "_view_module_version": "1.5.0",
            "_view_name": "HBoxView",
            "box_style": "",
            "children": [
              "IPY_MODEL_5f449689262749928ef5d0bc43fa7ee8",
              "IPY_MODEL_1db97f4d3a574bf0b7cd738a71ff4eec",
              "IPY_MODEL_bc8b8a3390be47c2bc5871f1ee5ed6c8"
            ],
            "layout": "IPY_MODEL_bb8b3866c0174f5cae8d9a8db454dfa9"
          }
        },
        "ab84845658e44d59a8d3e272f6faeba1": {
          "model_module": "@jupyter-widgets/controls",
          "model_module_version": "1.5.0",
          "model_name": "ProgressStyleModel",
          "state": {
            "_model_module": "@jupyter-widgets/controls",
            "_model_module_version": "1.5.0",
            "_model_name": "ProgressStyleModel",
            "_view_count": null,
            "_view_module": "@jupyter-widgets/base",
            "_view_module_version": "1.2.0",
            "_view_name": "StyleView",
            "bar_color": null,
            "description_width": ""
          }
        },
        "bb8b3866c0174f5cae8d9a8db454dfa9": {
          "model_module": "@jupyter-widgets/base",
          "model_module_version": "1.2.0",
          "model_name": "LayoutModel",
          "state": {
            "_model_module": "@jupyter-widgets/base",
            "_model_module_version": "1.2.0",
            "_model_name": "LayoutModel",
            "_view_count": null,
            "_view_module": "@jupyter-widgets/base",
            "_view_module_version": "1.2.0",
            "_view_name": "LayoutView",
            "align_content": null,
            "align_items": null,
            "align_self": null,
            "border": null,
            "bottom": null,
            "display": "inline-flex",
            "flex": null,
            "flex_flow": "row wrap",
            "grid_area": null,
            "grid_auto_columns": null,
            "grid_auto_flow": null,
            "grid_auto_rows": null,
            "grid_column": null,
            "grid_gap": null,
            "grid_row": null,
            "grid_template_areas": null,
            "grid_template_columns": null,
            "grid_template_rows": null,
            "height": null,
            "justify_content": null,
            "justify_items": null,
            "left": null,
            "margin": null,
            "max_height": null,
            "max_width": null,
            "min_height": null,
            "min_width": null,
            "object_fit": null,
            "object_position": null,
            "order": null,
            "overflow": null,
            "overflow_x": null,
            "overflow_y": null,
            "padding": null,
            "right": null,
            "top": null,
            "visibility": null,
            "width": "100%"
          }
        },
        "bc8b8a3390be47c2bc5871f1ee5ed6c8": {
          "model_module": "@jupyter-widgets/controls",
          "model_module_version": "1.5.0",
          "model_name": "HTMLModel",
          "state": {
            "_dom_classes": [],
            "_model_module": "@jupyter-widgets/controls",
            "_model_module_version": "1.5.0",
            "_model_name": "HTMLModel",
            "_view_count": null,
            "_view_module": "@jupyter-widgets/controls",
            "_view_module_version": "1.5.0",
            "_view_name": "HTMLView",
            "description": "",
            "description_tooltip": null,
            "layout": "IPY_MODEL_e94955892662455abd1c938f526c179c",
            "placeholder": "​",
            "style": "IPY_MODEL_d81c24f84d734ed9ba143ebabdb6148c",
            "value": " 1000/1000 [01:49&lt;00:00,  6.77it/s, Energy=-11.181+0.000j ± 0.029 [σ²=0.696, R̂=1.0646]]"
          }
        },
        "d81c24f84d734ed9ba143ebabdb6148c": {
          "model_module": "@jupyter-widgets/controls",
          "model_module_version": "1.5.0",
          "model_name": "DescriptionStyleModel",
          "state": {
            "_model_module": "@jupyter-widgets/controls",
            "_model_module_version": "1.5.0",
            "_model_name": "DescriptionStyleModel",
            "_view_count": null,
            "_view_module": "@jupyter-widgets/base",
            "_view_module_version": "1.2.0",
            "_view_name": "StyleView",
            "description_width": ""
          }
        },
        "e94955892662455abd1c938f526c179c": {
          "model_module": "@jupyter-widgets/base",
          "model_module_version": "1.2.0",
          "model_name": "LayoutModel",
          "state": {
            "_model_module": "@jupyter-widgets/base",
            "_model_module_version": "1.2.0",
            "_model_name": "LayoutModel",
            "_view_count": null,
            "_view_module": "@jupyter-widgets/base",
            "_view_module_version": "1.2.0",
            "_view_name": "LayoutView",
            "align_content": null,
            "align_items": null,
            "align_self": null,
            "border": null,
            "bottom": null,
            "display": null,
            "flex": null,
            "flex_flow": null,
            "grid_area": null,
            "grid_auto_columns": null,
            "grid_auto_flow": null,
            "grid_auto_rows": null,
            "grid_column": null,
            "grid_gap": null,
            "grid_row": null,
            "grid_template_areas": null,
            "grid_template_columns": null,
            "grid_template_rows": null,
            "height": null,
            "justify_content": null,
            "justify_items": null,
            "left": null,
            "margin": null,
            "max_height": null,
            "max_width": null,
            "min_height": null,
            "min_width": null,
            "object_fit": null,
            "object_position": null,
            "order": null,
            "overflow": null,
            "overflow_x": null,
            "overflow_y": null,
            "padding": null,
            "right": null,
            "top": null,
            "visibility": null,
            "width": null
          }
        }
      }
    }
  },
  "nbformat": 4,
  "nbformat_minor": 0
}
