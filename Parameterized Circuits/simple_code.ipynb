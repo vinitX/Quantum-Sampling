{
 "cells": [
  {
   "cell_type": "code",
   "execution_count": 1,
   "metadata": {},
   "outputs": [],
   "source": [
    "import cudaq\n",
    "import numpy as np\n",
    "import time\n",
    "\n",
    "#cudaq.set_target('tensornet')\n",
    "\n",
    "@cudaq.kernel\n",
    "def two_qubit_gate(angle:float, qubit_1: cudaq.qubit, qubit_2: cudaq.qubit):  # mode: str = \"CNOT_decomposition\"  [cudaq doesn't support string type]\n",
    "    x.ctrl(qubit_1, qubit_2)\n",
    "    rz(angle, qubit_2)\n",
    "    x.ctrl(qubit_1, qubit_2)\n",
    "\n",
    "@cudaq.kernel\n",
    "def Trotter_circuit(N: int, k:int, angles_ry:np.ndarray, angles_u3:np.ndarray, angles_2q:np.ndarray):  #list[int]\n",
    "    # This is the actual Trotter circuit. Here the circuit construction for Trotterized version of time evolution happens\n",
    "    # k : Trotter repeat length\n",
    "\n",
    "    qreg=cudaq.qvector(N)\n",
    "\n",
    "    for i in range(N):\n",
    "        ry(angles_ry[i], qreg[i])\n",
    "\n",
    "    for _ in range(k-1):\n",
    "        for i in range(N):\n",
    "            u3(angles_u3[i*3], angles_u3[i*3+1], angles_u3[i*3+2], qreg[i])\n",
    "\n",
    "        for i in range(N):\n",
    "            for j in range(i + 1, N): \n",
    "                two_qubit_gate(angles_2q[i*N+j], qreg[i], qreg[j])\n",
    "\n",
    "    for i in range(N):\n",
    "        u3(angles_u3[i*3], angles_u3[i*3+1], angles_u3[i*3+2], qreg[i])\n"
   ]
  },
  {
   "cell_type": "code",
   "execution_count": 2,
   "metadata": {},
   "outputs": [],
   "source": [
    "def dict_to_res(counts):\n",
    "  for key, value in counts.items():\n",
    "    if value == 1: \n",
    "        final_config = key\n",
    "\n",
    "  res = [1.0 if s == '1' else -1.0 for s in final_config]\n",
    "  \n",
    "  return np.array(res)\n"
   ]
  },
  {
   "cell_type": "code",
   "execution_count": 10,
   "metadata": {},
   "outputs": [],
   "source": [
    "import matplotlib.pyplot as plt\n",
    "\n",
    "def main(N,sample_size):\n",
    "  k = 24\n",
    "  s = np.random.choice([1.,-1.],size=N)\n",
    "\n",
    "  angles_u3 = np.random.uniform(0,2*np.pi,3*N)\n",
    "  angles_2q = np.random.uniform(0,2*np.pi,(N,N))\n",
    "\n",
    "  tm = time.time()\n",
    "  time_list = []\n",
    "  for _ in range(sample_size):\n",
    "    angles_ry = np.pi*(s + 1)/2\n",
    "    counts = cudaq.sample(Trotter_circuit, N, k, angles_ry, angles_u3, np.reshape(angles_2q,-1), shots_count=1)\n",
    "    s = dict_to_res(counts)\n",
    "    time_list.append(time.time() - tm)\n",
    "    tm = time.time()\n",
    "\n",
    "  plt.plot(time_list)\n",
    "  print(np.sum(time_list))"
   ]
  },
  {
   "cell_type": "code",
   "execution_count": 11,
   "metadata": {},
   "outputs": [
    {
     "name": "stdout",
     "output_type": "stream",
     "text": [
      "27.042052030563354\n"
     ]
    },
    {
     "data": {
      "image/png": "[encoded data removed]",
      "text/plain": [
       "<Figure size 640x480 with 1 Axes>"
      ]
     },
     "metadata": {},
     "output_type": "display_data"
    }
   ],
   "source": [
    "main(10,100)"
   ]
  },
  {
   "cell_type": "code",
   "execution_count": null,
   "metadata": {},
   "outputs": [],
   "source": []
  },
  {
   "cell_type": "code",
   "execution_count": null,
   "metadata": {},
   "outputs": [],
   "source": []
  },
  {
   "cell_type": "code",
   "execution_count": null,
   "metadata": {},
   "outputs": [],
   "source": []
  },
  {
   "cell_type": "code",
   "execution_count": null,
   "metadata": {},
   "outputs": [],
   "source": []
  },
  {
   "cell_type": "code",
   "execution_count": null,
   "metadata": {},
   "outputs": [
    {
     "name": "stderr",
     "output_type": "stream",
     "text": [
      "usage: ipykernel_launcher.py [-h] [--sample_size SAMPLE_SIZE] [--seed SEED]\n",
      "                             [--dir DIR]\n",
      "                             N\n",
      "ipykernel_launcher.py: error: the following arguments are required: N\n"
     ]
    },
    {
     "ename": "SystemExit",
     "evalue": "2",
     "output_type": "error",
     "traceback": [
      "An exception has occurred, use %tb to see the full traceback.\n",
      "\u001b[0;31mSystemExit\u001b[0m\u001b[0;31m:\u001b[0m 2\n"
     ]
    },
    {
     "name": "stderr",
     "output_type": "stream",
     "text": [
      "/usr/local/lib/python3.10/dist-packages/IPython/core/interactiveshell.py:3587: UserWarning: To exit: use 'exit', 'quit', or Ctrl-D.\n",
      "  warn(\"To exit: use 'exit', 'quit', or Ctrl-D.\", stacklevel=1)\n"
     ]
    }
   ],
   "source": [
    "import argparse\n",
    "if __name__ == \"__main__\":\n",
    "\n",
    "    Trotter_circuit.compile()\n",
    "    \n",
    "    parser = argparse.ArgumentParser()\n",
    "    parser.add_argument('N', type=int, help='The system size')\n",
    "    parser.add_argument('--sample_size', type=int, default=100)\n",
    "\n",
    "    args = parser.parse_args()\n",
    "    tm=time.time()\n",
    "    main(args.N, args.sample_size)\n",
    "    print(\"Total Time: \", time.time()-tm)"
   ]
  }
 ],
 "metadata": {
  "kernelspec": {
   "display_name": "Python 3",
   "language": "python",
   "name": "python3"
  },
  "language_info": {
   "codemirror_mode": {
    "name": "ipython",
    "version": 3
   },
   "file_extension": ".py",
   "mimetype": "text/x-python",
   "name": "python",
   "nbconvert_exporter": "python",
   "pygments_lexer": "ipython3",
   "version": "3.10.12"
  }
 },
 "nbformat": 4,
 "nbformat_minor": 2
}
