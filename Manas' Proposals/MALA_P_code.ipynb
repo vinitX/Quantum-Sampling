{
 "cells": [
  {
   "cell_type": "code",
   "execution_count": 1,
   "id": "a7ff29ae-43cb-4557-8c72-f92582169082",
   "metadata": {},
   "outputs": [
    {
     "data": {
      "text/plain": [
       "\"c:\\\\Users\\\\vinit\\\\Downloads\\\\Research\\\\Quantum-Sampling\\\\Manas' Proposals\""
      ]
     },
     "execution_count": 1,
     "metadata": {},
     "output_type": "execute_result"
    }
   ],
   "source": [
    "#from pyscf import gto, scf, fci, lo\n",
    "#import netket as nk; import netket.experimental as nkx\n",
    "import numpy as np\n",
    "import time\n",
    "#import itertools\n",
    "#import qiskit\n",
    "#from qiskit.quantum_info import Pauli, SparsePauliOp\n",
    "from collections import defaultdict\n",
    "#import tensorflow as tf\n",
    "#import sys\n",
    "import os\n",
    "import pandas as pd\n",
    "#import itertools\n",
    "from itertools import product\n",
    "import matplotlib.pyplot as plt\n",
    "#sys.path.append(os.path.dirname(os.getcwd()) + \"/SAMPLER_LOCAL_IMPORT\")\n",
    "#from Sampling_Quantum import *\n",
    "#from New_MCMC_Proposal import *\n",
    "#sys.path.append(os.getcwd() + \"/Code_download_Bell_2\")\n",
    "from MCMC_funs_Leyden import *\n",
    "\n",
    "#print(qiskit.version.get_version_info())\n",
    "os.getcwd()"
   ]
  },
  {
   "cell_type": "code",
   "execution_count": null,
   "id": "c0c16698",
   "metadata": {},
   "outputs": [],
   "source": []
  },
  {
   "cell_type": "code",
   "execution_count": 2,
   "id": "b61c6d12-f2be-40af-92a7-ef64965dabfb",
   "metadata": {},
   "outputs": [],
   "source": [
    "def all_configs(n):\n",
    "    return [np.array(v) for v in product([-1, 1], repeat=n)]\n",
    "\n",
    "\n",
    "\n",
    "def Sampling_MCMC_trajectories(problem_inst, Transition_matrix, sample_size=10000, \n",
    "                               burn=1000, method='Quantum', init_config=None):\n",
    "\n",
    "    n = problem_inst.n\n",
    "    beta = problem_inst.T\n",
    "    prob_dist = np.zeros(2**n)\n",
    "\n",
    "    #exact_dist = np.exp(-beta * Proposal_object.Energy_array)\n",
    "    #exact_dist = exact_dist / np.sum(exact_dist)\n",
    "\n",
    "    #err_hist = []\n",
    "    key_list = []\n",
    "\n",
    "    if init_config==None:\n",
    "        s = np.random.choice([1,-1],size=n)\n",
    "    else: s = init_config\n",
    "\n",
    "    int_key = spinconf2int(s)\n",
    "    #print(int_key)\n",
    "    \n",
    "    for k in range(burn):\n",
    "        #s = Proposal_object.generate_MCMC_trajectories(Transition_matrix, s)\n",
    "         int_key = generate_move(transition_mat=Transition_matrix, state=int_key)\n",
    "\n",
    "    for k in range(sample_size):\n",
    "        #s = Proposal_object.generate_MCMC_trajectories(Transition_matrix, s)\n",
    "        int_key = generate_move(transition_mat=Transition_matrix, state=int_key)\n",
    "        #key = spinconf2int(s)\n",
    "        prob_dist[int_key] +=1\n",
    "        key_list.append(int_key)\n",
    "\n",
    "    \n",
    "    return np.flip(prob_dist/np.sum(prob_dist)), key_list"
   ]
  },
  {
   "cell_type": "code",
   "execution_count": 3,
   "id": "9517ed1a",
   "metadata": {},
   "outputs": [],
   "source": [
    "def normalize_transition_matrix(T, eps=1e-12, verbose=False):\n",
    "    T = T.copy()\n",
    "    T[T < 0] = 0.0\n",
    "    col_sums = T.sum(axis=0)\n",
    "    bad = np.abs(col_sums) <= eps\n",
    "    good = ~bad\n",
    "    if np.any(good):\n",
    "        T[:, good] /= col_sums[None, good]\n",
    "    if np.any(bad):\n",
    "        T[:, bad] = 1.0 / T.shape[0]\n",
    "        if verbose:\n",
    "            print(f\"{bad.sum()} columns had near-zero sum. Reset to uniform.\")\n",
    "    return T\n",
    "\n",
    "\n",
    "def Cov_computer(sample_vector_stacks):\n",
    "    #sample_vector_stacks is a row-wise stack of last k sample vectors. Each sample vector of length n\n",
    "    X = np.asarray(sample_vector_stacks, dtype=float)\n",
    "    #print(X)\n",
    "    if X.shape[0] <= 1:\n",
    "        return np.eye(X.shape[1])\n",
    "    mean = X.mean(axis=0)\n",
    "    #print(np.tile(mean, (X.shape[0],1)))\n",
    "    diffs = X - np.tile(mean, (X.shape[0],1))\n",
    "    return (diffs.T @ diffs) / (X.shape[0] - 1)\n"
   ]
  },
  {
   "cell_type": "markdown",
   "id": "d9747c21",
   "metadata": {},
   "source": [
    "## Non-Vectorized Code"
   ]
  },
  {
   "cell_type": "code",
   "execution_count": 4,
   "id": "7f4b3a66",
   "metadata": {},
   "outputs": [],
   "source": [
    "def grad_U_mala(x, J, h, alpha):\n",
    "    v = np.tanh(alpha * x)\n",
    "    sech_sq = 1.0 * (1 - v ** 2)\n",
    "    return alpha * sech_sq * (h + 2 * J @ v)\n",
    "\n",
    "\n",
    "def normal_dist_logpdf(y, mean, P, epsilon):\n",
    "    diff = y - mean\n",
    "    z = np.linalg.solve(P, diff)          # P z = diff  z = P^-1 diff\n",
    "    quad_form = float(z @ z)\n",
    "    logdet = 2.0*np.sum(np.log(np.diag(P))) + 2.0*y.size*np.log(epsilon)\n",
    "    return -0.5 * (y.size * np.log(2.0 * np.pi) + logdet + (epsilon**(-2))*quad_form)\n",
    "\n",
    "\n",
    "def adaptive_MALA_step_new(x, P, cov, epsilon, problem_inst, alpha=3.0):\n",
    "    J_Q = problem_inst.J_quantum\n",
    "    h_Q = problem_inst.h_quantum\n",
    "\n",
    "    mean_shift_at_xnew = x + (0.5*epsilon**2) * problem_inst.T * cov @ grad_U_mala(x, J_Q, h_Q, alpha)\n",
    "\n",
    "    #white_noise_term = np.random.multivariate_normal(np.zeros(len(x)), epsilon**2 * np.dot(P, np.conjugate(P).T))\n",
    "    x_new = np.random.multivariate_normal(mean=mean_shift_at_xnew, cov=epsilon**2 * np.dot(P, np.conjugate(P).T), size=1)[0]\n",
    "    #print(x_new)\n",
    "\n",
    "    mean_shift_at_xold = x_new + (0.5*epsilon**2) * problem_inst.T * cov @ grad_U_mala(x_new, J_Q, h_Q, alpha)\n",
    "\n",
    "    v_old = np.sign(np.tanh(alpha * x))\n",
    "    v_new = np.sign(np.tanh(alpha * x_new))\n",
    "    E_old = problem_inst.E_arr[::-1][spinconf2int(v_old)]\n",
    "    E_new = problem_inst.E_arr[::-1][spinconf2int(v_new)]\n",
    "\n",
    "    log_prop_dist_fwd = normal_dist_logpdf(x_new, mean_shift_at_xnew, P, epsilon)\n",
    "    log_prop_dist_rev = normal_dist_logpdf(x, mean_shift_at_xold, P, epsilon)\n",
    "\n",
    "    log_accept_ratio = -problem_inst.T * (E_new - E_old) + (log_prop_dist_rev - log_prop_dist_fwd)\n",
    "    accept_prob = min(1.0, np.exp(log_accept_ratio))\n",
    "\n",
    "    if np.random.rand() < accept_prob:\n",
    "        return x_new, v_new\n",
    "    else:\n",
    "        return x, v_old\n",
    "\n",
    "\n",
    "def adaptive_MALA_T_matrix(problem_inst, alpha=3.0, epsilon=0.3, num_samples=500):\n",
    "    from tqdm import tqdm\n",
    "\n",
    "    n = problem_inst.n\n",
    "    #beta = problem_inst.T\n",
    "\n",
    "    configs = all_configs(n)\n",
    "    idx_map = {tuple(c): i for i, c in enumerate(configs)}\n",
    "    T = np.zeros((1 << n, 1 << n))\n",
    "\n",
    "    burn_in = 1000\n",
    "\n",
    "    for v in tqdm(configs, desc=\"Building T matrix\"):\n",
    "        x = np.arctanh(np.clip(v, -0.999, 0.999)) / alpha\n",
    "        cov = np.eye(n)\n",
    "        P = np.eye(n)\n",
    "\n",
    "        counts = defaultdict(int)\n",
    "\n",
    "        v_samples = []\n",
    "        x_samples = []\n",
    "        adapt_window = 20\n",
    "\n",
    "        tmg = time.time()\n",
    "\n",
    "        for step in range(1, num_samples+1):\n",
    "            x, v_new = adaptive_MALA_step_new(x, P, cov, epsilon, problem_inst, alpha=3.0)\n",
    "\n",
    "            v_samples.append(v_new)\n",
    "            x_samples.append(x)\n",
    "\n",
    "            key = tuple(v_new.astype(int))\n",
    "            counts[key] = counts.get(key, 0) + 1\n",
    "\n",
    "            if (step) % adapt_window == 0 and step > 200 and step <= burn_in:\n",
    "                if len(x_samples) >= 80:\n",
    "                    #x_hist = np.array([np.arctanh(np.clip(np.tanh(alpha * x0), -0.999, 0.999)) / alpha for x0 in v_samples[-50:]])\n",
    "                    x_hist = [x for x in x_samples[-80:]]\n",
    "\n",
    "                else:\n",
    "                    #x_hist = np.array([np.arctanh(np.clip(np.tanh(alpha * x0), -0.999, 0.999)) / alpha for x0 in v_samples])\n",
    "                    x_hist = [x for x in x_samples[:]]\n",
    "\n",
    "\n",
    "                cov_new = Cov_computer(x_hist)\n",
    "                gamma = 0.1             # diminishing\n",
    "                cov = (1.0 - gamma) * cov_new + gamma * cov\n",
    "                cov = 0.5 * (cov + cov.T)\n",
    "                cov = cov + 1e-5 * np.eye(len(x))\n",
    "                P = np.linalg.cholesky(cov) \n",
    "\n",
    "        i = idx_map[tuple(v)]\n",
    "        total = sum(counts.values())\n",
    "\n",
    "        for v_prime, c in counts.items():\n",
    "            j = idx_map[v_prime]\n",
    "\n",
    "            if j != i :\n",
    "                T[j, i] = c / total\n",
    "\n",
    "        T[i,i] = 1-sum(T[:,i])\n",
    "\n",
    "    T = normalize_transition_matrix(T, eps=1e-12, verbose=True)\n",
    "\n",
    "    return T\n",
    "\n"
   ]
  },
  {
   "cell_type": "markdown",
   "id": "00f32877",
   "metadata": {},
   "source": [
    "## Vectorized Code"
   ]
  },
  {
   "cell_type": "code",
   "execution_count": 5,
   "id": "e121bd29",
   "metadata": {},
   "outputs": [],
   "source": [
    "def grad_U_mala_batch(X, J, H, alpha):\n",
    "    V = np.tanh(alpha * X)                      # (B, n)\n",
    "    sech_sq = 1.0 - V**2                        # (B, n)\n",
    "    return alpha * sech_sq * (H[None, :] + 2.0 * V @ J.T)\n",
    "\n",
    "def normal_dist_logpdf_batch(Y, Mean, P, epsilon):\n",
    "    B, n = Y.shape\n",
    "    diff = (Y - Mean)                            # (B, n)\n",
    "\n",
    "    Z = np.linalg.solve(P, diff.T)               # (n, B)\n",
    "    quad = np.sum(Z * Z, axis=0)                 # (B,)\n",
    "\n",
    "    logdet = 2.0 * np.sum(np.log(np.diag(P))) + 2.0 * n * np.log(epsilon)  # scalar\n",
    "    return -0.5 * (n * np.log(2.0 * np.pi) + logdet + (epsilon**(-2)) * quad)\n",
    "\n",
    "def spins_to_index(V):\n",
    "    \"\"\"\n",
    "    V: (B, n) spins in {-1, +1}\n",
    "    Returns (B,) indices \n",
    "    \"\"\"\n",
    "    V = np.asarray(V)\n",
    "    bits = (V < 0).astype(np.int64)                 # +1 -> 0, -1 -> 1\n",
    "    n = V.shape[1]\n",
    "    weights = (1 << np.arange(n-1, -1, -1, dtype=np.int64))  # MSB at column 0\n",
    "    return bits @ weights\n",
    "\n",
    "\n",
    "# ---------- Batched MALA step ----------\n",
    "\n",
    "def adaptive_MALA_step_new_batch(X, P, cov, epsilon, problem_inst, alpha=3.0):\n",
    "    B, n = X.shape\n",
    "    Tinv = problem_inst.T \n",
    "    J_Q = problem_inst.J_quantum\n",
    "    h_Q = problem_inst.h_quantum\n",
    "\n",
    "    grad_X = grad_U_mala_batch(X, J_Q, h_Q, alpha)                 # (B, n)\n",
    "    mean_fwd = X + 0.5 * (epsilon**2) * Tinv * (grad_X @ cov.T)  # (B, n)\n",
    "\n",
    "    # ----- Sample proposal with shared covariance epsilon^2 * P P^T -----\n",
    "    # Draw Z ~ N(0, I), then X_new = mean_fwd + epsilon * Z @ P^T\n",
    "    Z = np.random.randn(B, n)\n",
    "    X_new = mean_fwd + epsilon * (Z @ P.T)                          # (B, n)\n",
    "\n",
    "    grad_Xnew = grad_U_mala_batch(X_new, J_Q, h_Q, alpha)           # (B, n)\n",
    "    mean_rev = X_new + 0.5 * (epsilon**2) * Tinv * (grad_Xnew @ cov.T)\n",
    "\n",
    "    V_old = np.sign(np.tanh(alpha * X))                             # (B, n), in {-1, +1}\n",
    "    V_new = np.sign(np.tanh(alpha * X_new))\n",
    "\n",
    "    idx_old = spins_to_index(V_old)\n",
    "    idx_new = spins_to_index(V_new)\n",
    "    E_table = problem_inst.E_arr[::-1]                    \n",
    "    E_old = E_table[idx_old]                                        \n",
    "    E_new = E_table[idx_new]                                        \n",
    "\n",
    "    log_q_fwd = normal_dist_logpdf_batch(X_new, mean_fwd, P, epsilon)    \n",
    "    log_q_rev = normal_dist_logpdf_batch(X,     mean_rev, P, epsilon)    \n",
    "\n",
    "    log_acc = -Tinv * (E_new - E_old) + (log_q_rev - log_q_fwd)     \n",
    "    acc_prob = np.clip(np.exp(np.minimum(0.0, log_acc)), 0.0, 1.0)  \n",
    "    accept_mask = (np.random.rand(B) < acc_prob)\n",
    "\n",
    "    # Apply accepts with boolean mask\n",
    "    X_next = np.where(accept_mask[:, None], X_new, X)\n",
    "    V_next = np.where(accept_mask[:, None], V_new, V_old)\n",
    "\n",
    "    return X_next, V_next\n",
    "\n",
    "\n",
    "\n",
    "def adaptive_MALA_T_matrix_vec(problem_inst, alpha=3.0, epsilon=0.3, num_samples=500):\n",
    "    from tqdm import tqdm\n",
    "\n",
    "    n = problem_inst.n\n",
    "\n",
    "    V = all_configs(n)\n",
    "    origin_idx = spins_to_index(V)   \n",
    "    #print(origin_idx)\n",
    "\n",
    "    burn_in = 1000\n",
    "\n",
    "    X = np.arctanh(np.clip(V, -0.999, 0.999)) / alpha\n",
    "    cov = np.eye(n)\n",
    "    P = np.eye(n)\n",
    "\n",
    "    counts = defaultdict(int)\n",
    "    counts_mat = np.zeros((1<<n, 1<<n), dtype=np.int64)\n",
    "\n",
    "    adapt_window = 20\n",
    "    cov_samples = 20                                  # keep last K samples for covariance computation\n",
    "\n",
    "    # --- rolling buffer of shape (K, B, n) ---\n",
    "    buffer = np.empty((cov_samples, 2**n, n), dtype=float)\n",
    "    buf_idx = 0          # next write position\n",
    "\n",
    "    tmg = time.time()\n",
    "\n",
    "    for step in tqdm(range(1, num_samples+1)):\n",
    "        X, V = adaptive_MALA_step_new_batch(X, P, cov, epsilon, problem_inst, alpha=3.0)\n",
    "        dest_idx = spins_to_index(V)    \n",
    "        #x, v_new = adaptive_MALA_step_new(x, P, cov, epsilon, problem_inst, alpha=3.0)\n",
    "\n",
    "        if step > num_samples // 10:  ## Burn-in for counts_mat\n",
    "            np.add.at(counts_mat, (dest_idx, origin_idx), 1)\n",
    "\n",
    "        buffer[buf_idx] = X\n",
    "        buf_idx = (buf_idx + 1) % cov_samples\n",
    "\n",
    "        # update counts (vectorized)\n",
    "        uniq, cnts = np.unique(V.astype(int), axis=0, return_counts=True)\n",
    "        for row, c in zip(uniq, cnts):\n",
    "            counts[tuple(row.tolist())] = counts.get(tuple(row.tolist()), 0) + int(c)\n",
    "\n",
    "        # adapt covariance on schedule\n",
    "        if (step % adapt_window == 0) and (step > 100) and (step <= burn_in):\n",
    "            X_hist = buffer.reshape(-1, n)                           # ((cov_samples*B), n)\n",
    "            cov_new = Cov_computer(X_hist)\n",
    "            gamma = 0.1\n",
    "            cov = (1.0 - gamma) * cov_new + gamma * cov\n",
    "            cov = 0.5 * (cov + cov.T)\n",
    "            cov += 1e-6 * np.eye(n)                                  # for stability\n",
    "            P = np.linalg.cholesky(cov)\n",
    "\n",
    "    # plt.hist(dest_idx)\n",
    "    # plt.show()\n",
    "\n",
    "    print(\"\\t\\tTotal time for config:\", time.time()-tmg)\n",
    "\n",
    "    T = normalize_transition_matrix(np.array(counts_mat, dtype=float), eps=1e-12, verbose=True)\n",
    "\n",
    "    return T"
   ]
  },
  {
   "cell_type": "code",
   "execution_count": null,
   "id": "b0e6fc0a",
   "metadata": {},
   "outputs": [],
   "source": []
  },
  {
   "cell_type": "code",
   "execution_count": null,
   "id": "7cc36a91-7a55-49db-9870-dd9c8f9e7d30",
   "metadata": {},
   "outputs": [
    {
     "name": "stdout",
     "output_type": "stream",
     "text": [
      "2000\n",
      "Starting problem instance 1 of 2000 with n = 3\n"
     ]
    },
    {
     "name": "stderr",
     "output_type": "stream",
     "text": [
      "100%|██████████| 1000/1000 [00:01<00:00, 663.71it/s]\n"
     ]
    },
    {
     "name": "stdout",
     "output_type": "stream",
     "text": [
      "\t\tTotal time for config: 1.5466265678405762\n",
      "Instance 1, T = 1.0, Proposal = MALA_MC, Acceptance = metropolis, Gap = 0.6886\n",
      "Starting problem instance 2 of 2000 with n = 4\n"
     ]
    },
    {
     "name": "stderr",
     "output_type": "stream",
     "text": [
      "100%|██████████| 1000/1000 [00:02<00:00, 449.42it/s]\n"
     ]
    },
    {
     "name": "stdout",
     "output_type": "stream",
     "text": [
      "\t\tTotal time for config: 2.2328081130981445\n",
      "Instance 2, T = 1.0, Proposal = MALA_MC, Acceptance = metropolis, Gap = 0.1582\n",
      "Starting problem instance 3 of 2000 with n = 5\n"
     ]
    },
    {
     "name": "stderr",
     "output_type": "stream",
     "text": [
      "100%|██████████| 1000/1000 [00:02<00:00, 364.76it/s]\n"
     ]
    },
    {
     "name": "stdout",
     "output_type": "stream",
     "text": [
      "\t\tTotal time for config: 2.7414934635162354\n",
      "Instance 3, T = 1.0, Proposal = MALA_MC, Acceptance = metropolis, Gap = 0.6923\n",
      "Starting problem instance 4 of 2000 with n = 6\n"
     ]
    },
    {
     "name": "stderr",
     "output_type": "stream",
     "text": [
      "100%|██████████| 1000/1000 [00:02<00:00, 368.52it/s]\n"
     ]
    },
    {
     "name": "stdout",
     "output_type": "stream",
     "text": [
      "\t\tTotal time for config: 2.7164952754974365\n",
      "Instance 4, T = 1.0, Proposal = MALA_MC, Acceptance = metropolis, Gap = 0.0002\n",
      "Starting problem instance 5 of 2000 with n = 7\n"
     ]
    },
    {
     "name": "stderr",
     "output_type": "stream",
     "text": [
      "100%|██████████| 1000/1000 [00:02<00:00, 339.89it/s]\n"
     ]
    },
    {
     "name": "stdout",
     "output_type": "stream",
     "text": [
      "\t\tTotal time for config: 2.942098379135132\n",
      "Instance 5, T = 1.0, Proposal = MALA_MC, Acceptance = metropolis, Gap = 0.0000\n",
      "Warning: Gap is very small, may be inaccurate.\n",
      "Starting problem instance 6 of 2000 with n = 8\n"
     ]
    },
    {
     "name": "stderr",
     "output_type": "stream",
     "text": [
      "100%|██████████| 1000/1000 [00:03<00:00, 273.89it/s]\n"
     ]
    },
    {
     "name": "stdout",
     "output_type": "stream",
     "text": [
      "\t\tTotal time for config: 3.65112042427063\n",
      "Instance 6, T = 1.0, Proposal = MALA_MC, Acceptance = metropolis, Gap = 0.0001\n",
      "Starting problem instance 7 of 2000 with n = 9\n"
     ]
    },
    {
     "name": "stderr",
     "output_type": "stream",
     "text": [
      "100%|██████████| 1000/1000 [00:04<00:00, 231.18it/s]\n"
     ]
    },
    {
     "name": "stdout",
     "output_type": "stream",
     "text": [
      "\t\tTotal time for config: 4.332929849624634\n",
      "Instance 7, T = 1.0, Proposal = MALA_MC, Acceptance = metropolis, Gap = 0.0000\n",
      "Warning: Gap is very small, may be inaccurate.\n",
      "Starting problem instance 8 of 2000 with n = 10\n"
     ]
    },
    {
     "name": "stderr",
     "output_type": "stream",
     "text": [
      "100%|██████████| 1000/1000 [00:07<00:00, 131.98it/s]\n"
     ]
    },
    {
     "name": "stdout",
     "output_type": "stream",
     "text": [
      "\t\tTotal time for config: 7.576950788497925\n",
      "Instance 8, T = 1.0, Proposal = MALA_MC, Acceptance = metropolis, Gap = 0.0000\n",
      "Warning: Gap is very small, may be inaccurate.\n",
      "Starting problem instance 9 of 2000 with n = 3\n"
     ]
    },
    {
     "name": "stderr",
     "output_type": "stream",
     "text": [
      "100%|██████████| 1000/1000 [00:00<00:00, 1370.46it/s]\n"
     ]
    },
    {
     "name": "stdout",
     "output_type": "stream",
     "text": [
      "\t\tTotal time for config: 0.7303097248077393\n",
      "Instance 9, T = 1.0, Proposal = MALA_MC, Acceptance = metropolis, Gap = 0.2526\n",
      "Starting problem instance 10 of 2000 with n = 4\n"
     ]
    },
    {
     "name": "stderr",
     "output_type": "stream",
     "text": [
      "100%|██████████| 1000/1000 [00:00<00:00, 1005.08it/s]\n"
     ]
    },
    {
     "name": "stdout",
     "output_type": "stream",
     "text": [
      "\t\tTotal time for config: 0.9996628761291504\n",
      "Instance 10, T = 1.0, Proposal = MALA_MC, Acceptance = metropolis, Gap = 0.0000\n",
      "Warning: Gap is very small, may be inaccurate.\n",
      "Starting problem instance 11 of 2000 with n = 5\n"
     ]
    },
    {
     "name": "stderr",
     "output_type": "stream",
     "text": [
      "100%|██████████| 1000/1000 [00:02<00:00, 431.89it/s]\n"
     ]
    },
    {
     "name": "stdout",
     "output_type": "stream",
     "text": [
      "\t\tTotal time for config: 2.3332977294921875\n",
      "Instance 11, T = 1.0, Proposal = MALA_MC, Acceptance = metropolis, Gap = 0.0000\n",
      "Warning: Gap is very small, may be inaccurate.\n",
      "Starting problem instance 12 of 2000 with n = 6\n"
     ]
    },
    {
     "name": "stderr",
     "output_type": "stream",
     "text": [
      "100%|██████████| 1000/1000 [00:02<00:00, 409.41it/s]\n"
     ]
    },
    {
     "name": "stdout",
     "output_type": "stream",
     "text": [
      "\t\tTotal time for config: 2.446381092071533\n",
      "Instance 12, T = 1.0, Proposal = MALA_MC, Acceptance = metropolis, Gap = 0.0000\n",
      "Warning: Gap is very small, may be inaccurate.\n",
      "Starting problem instance 13 of 2000 with n = 7\n"
     ]
    },
    {
     "name": "stderr",
     "output_type": "stream",
     "text": [
      "100%|██████████| 1000/1000 [00:02<00:00, 422.58it/s]\n"
     ]
    },
    {
     "name": "stdout",
     "output_type": "stream",
     "text": [
      "\t\tTotal time for config: 2.3664028644561768\n",
      "Instance 13, T = 1.0, Proposal = MALA_MC, Acceptance = metropolis, Gap = 0.0000\n",
      "Warning: Gap is very small, may be inaccurate.\n",
      "Starting problem instance 14 of 2000 with n = 8\n"
     ]
    },
    {
     "name": "stderr",
     "output_type": "stream",
     "text": [
      "100%|██████████| 1000/1000 [00:02<00:00, 356.11it/s]\n"
     ]
    },
    {
     "name": "stdout",
     "output_type": "stream",
     "text": [
      "\t\tTotal time for config: 2.8081161975860596\n",
      "Instance 14, T = 1.0, Proposal = MALA_MC, Acceptance = metropolis, Gap = 0.0000\n",
      "Warning: Gap is very small, may be inaccurate.\n",
      "Starting problem instance 15 of 2000 with n = 9\n"
     ]
    },
    {
     "name": "stderr",
     "output_type": "stream",
     "text": [
      "100%|██████████| 1000/1000 [00:04<00:00, 233.94it/s]\n"
     ]
    },
    {
     "name": "stdout",
     "output_type": "stream",
     "text": [
      "\t\tTotal time for config: 4.274574518203735\n",
      "Instance 15, T = 1.0, Proposal = MALA_MC, Acceptance = metropolis, Gap = 0.0000\n",
      "Warning: Gap is very small, may be inaccurate.\n",
      "Starting problem instance 16 of 2000 with n = 10\n"
     ]
    },
    {
     "name": "stderr",
     "output_type": "stream",
     "text": [
      "100%|██████████| 1000/1000 [00:07<00:00, 136.72it/s]\n"
     ]
    },
    {
     "name": "stdout",
     "output_type": "stream",
     "text": [
      "\t\tTotal time for config: 7.321842193603516\n",
      "Instance 16, T = 1.0, Proposal = MALA_MC, Acceptance = metropolis, Gap = 0.0000\n",
      "Warning: Gap is very small, may be inaccurate.\n",
      "Starting problem instance 17 of 2000 with n = 3\n"
     ]
    },
    {
     "name": "stderr",
     "output_type": "stream",
     "text": [
      "100%|██████████| 1000/1000 [00:01<00:00, 800.12it/s]\n"
     ]
    },
    {
     "name": "stdout",
     "output_type": "stream",
     "text": [
      "\t\tTotal time for config: 1.2498183250427246\n",
      "Instance 17, T = 1.0, Proposal = MALA_MC, Acceptance = metropolis, Gap = 0.0002\n",
      "Starting problem instance 18 of 2000 with n = 4\n"
     ]
    },
    {
     "name": "stderr",
     "output_type": "stream",
     "text": [
      "100%|██████████| 1000/1000 [00:01<00:00, 583.25it/s]\n"
     ]
    },
    {
     "name": "stdout",
     "output_type": "stream",
     "text": [
      "\t\tTotal time for config: 1.7175452709197998\n",
      "Instance 18, T = 1.0, Proposal = MALA_MC, Acceptance = metropolis, Gap = 0.7315\n",
      "Starting problem instance 19 of 2000 with n = 5\n"
     ]
    },
    {
     "name": "stderr",
     "output_type": "stream",
     "text": [
      "100%|██████████| 1000/1000 [00:01<00:00, 518.27it/s]\n"
     ]
    },
    {
     "name": "stdout",
     "output_type": "stream",
     "text": [
      "\t\tTotal time for config: 1.9312636852264404\n",
      "Instance 19, T = 1.0, Proposal = MALA_MC, Acceptance = metropolis, Gap = 0.5554\n",
      "Starting problem instance 20 of 2000 with n = 6\n"
     ]
    },
    {
     "name": "stderr",
     "output_type": "stream",
     "text": [
      "100%|██████████| 1000/1000 [00:02<00:00, 445.63it/s]\n"
     ]
    },
    {
     "name": "stdout",
     "output_type": "stream",
     "text": [
      "\t\tTotal time for config: 2.2460110187530518\n",
      "Instance 20, T = 1.0, Proposal = MALA_MC, Acceptance = metropolis, Gap = 0.1386\n",
      "Starting problem instance 21 of 2000 with n = 7\n"
     ]
    },
    {
     "name": "stderr",
     "output_type": "stream",
     "text": [
      "100%|██████████| 1000/1000 [00:01<00:00, 505.96it/s]\n"
     ]
    },
    {
     "name": "stdout",
     "output_type": "stream",
     "text": [
      "\t\tTotal time for config: 1.9841728210449219\n",
      "Instance 21, T = 1.0, Proposal = MALA_MC, Acceptance = metropolis, Gap = 0.0000\n",
      "Warning: Gap is very small, may be inaccurate.\n",
      "Starting problem instance 22 of 2000 with n = 8\n"
     ]
    },
    {
     "name": "stderr",
     "output_type": "stream",
     "text": [
      "100%|██████████| 1000/1000 [00:02<00:00, 383.04it/s]\n"
     ]
    },
    {
     "name": "stdout",
     "output_type": "stream",
     "text": [
      "\t\tTotal time for config: 2.6123385429382324\n",
      "Instance 22, T = 1.0, Proposal = MALA_MC, Acceptance = metropolis, Gap = 0.0000\n",
      "Warning: Gap is very small, may be inaccurate.\n",
      "Starting problem instance 23 of 2000 with n = 9\n"
     ]
    },
    {
     "name": "stderr",
     "output_type": "stream",
     "text": [
      "100%|██████████| 1000/1000 [00:04<00:00, 248.48it/s]\n"
     ]
    },
    {
     "name": "stdout",
     "output_type": "stream",
     "text": [
      "\t\tTotal time for config: 4.024434328079224\n",
      "Instance 23, T = 1.0, Proposal = MALA_MC, Acceptance = metropolis, Gap = 0.0000\n",
      "Warning: Gap is very small, may be inaccurate.\n",
      "Starting problem instance 24 of 2000 with n = 10\n"
     ]
    },
    {
     "name": "stderr",
     "output_type": "stream",
     "text": [
      "100%|██████████| 1000/1000 [00:07<00:00, 141.16it/s]\n"
     ]
    },
    {
     "name": "stdout",
     "output_type": "stream",
     "text": [
      "\t\tTotal time for config: 7.084197044372559\n",
      "Instance 24, T = 1.0, Proposal = MALA_MC, Acceptance = metropolis, Gap = 0.0000\n",
      "Warning: Gap is very small, may be inaccurate.\n",
      "Starting problem instance 25 of 2000 with n = 3\n"
     ]
    },
    {
     "name": "stderr",
     "output_type": "stream",
     "text": [
      "100%|██████████| 1000/1000 [00:01<00:00, 804.72it/s]\n"
     ]
    },
    {
     "name": "stdout",
     "output_type": "stream",
     "text": [
      "\t\tTotal time for config: 1.2426724433898926\n",
      "Instance 25, T = 1.0, Proposal = MALA_MC, Acceptance = metropolis, Gap = 0.7539\n",
      "Starting problem instance 26 of 2000 with n = 4\n"
     ]
    },
    {
     "name": "stderr",
     "output_type": "stream",
     "text": [
      "100%|██████████| 1000/1000 [00:01<00:00, 612.02it/s]\n"
     ]
    },
    {
     "name": "stdout",
     "output_type": "stream",
     "text": [
      "\t\tTotal time for config: 1.6339442729949951\n",
      "Instance 26, T = 1.0, Proposal = MALA_MC, Acceptance = metropolis, Gap = 0.6421\n",
      "Starting problem instance 27 of 2000 with n = 5\n"
     ]
    },
    {
     "name": "stderr",
     "output_type": "stream",
     "text": [
      "100%|██████████| 1000/1000 [00:02<00:00, 477.12it/s]\n"
     ]
    },
    {
     "name": "stdout",
     "output_type": "stream",
     "text": [
      "\t\tTotal time for config: 2.1143016815185547\n",
      "Instance 27, T = 1.0, Proposal = MALA_MC, Acceptance = metropolis, Gap = 0.0874\n",
      "Starting problem instance 28 of 2000 with n = 6\n"
     ]
    },
    {
     "name": "stderr",
     "output_type": "stream",
     "text": [
      "100%|██████████| 1000/1000 [00:01<00:00, 503.33it/s]\n"
     ]
    },
    {
     "name": "stdout",
     "output_type": "stream",
     "text": [
      "\t\tTotal time for config: 1.995008945465088\n",
      "Instance 28, T = 1.0, Proposal = MALA_MC, Acceptance = metropolis, Gap = 0.5766\n",
      "Starting problem instance 29 of 2000 with n = 7\n"
     ]
    },
    {
     "name": "stderr",
     "output_type": "stream",
     "text": [
      "100%|██████████| 1000/1000 [00:03<00:00, 312.70it/s]\n"
     ]
    },
    {
     "name": "stdout",
     "output_type": "stream",
     "text": [
      "\t\tTotal time for config: 3.1979854106903076\n",
      "Instance 29, T = 1.0, Proposal = MALA_MC, Acceptance = metropolis, Gap = 0.3324\n",
      "Starting problem instance 30 of 2000 with n = 8\n"
     ]
    },
    {
     "name": "stderr",
     "output_type": "stream",
     "text": [
      "100%|██████████| 1000/1000 [00:03<00:00, 293.47it/s]\n"
     ]
    },
    {
     "name": "stdout",
     "output_type": "stream",
     "text": [
      "\t\tTotal time for config: 3.4075052738189697\n",
      "Instance 30, T = 1.0, Proposal = MALA_MC, Acceptance = metropolis, Gap = 0.0000\n",
      "Warning: Gap is very small, may be inaccurate.\n",
      "Starting problem instance 31 of 2000 with n = 9\n"
     ]
    },
    {
     "name": "stderr",
     "output_type": "stream",
     "text": [
      "100%|██████████| 1000/1000 [00:04<00:00, 206.20it/s]\n"
     ]
    },
    {
     "name": "stdout",
     "output_type": "stream",
     "text": [
      "\t\tTotal time for config: 4.849598169326782\n",
      "Instance 31, T = 1.0, Proposal = MALA_MC, Acceptance = metropolis, Gap = 0.0000\n",
      "Warning: Gap is very small, may be inaccurate.\n",
      "Starting problem instance 32 of 2000 with n = 10\n"
     ]
    },
    {
     "name": "stderr",
     "output_type": "stream",
     "text": [
      "100%|██████████| 1000/1000 [00:07<00:00, 133.37it/s]\n"
     ]
    },
    {
     "name": "stdout",
     "output_type": "stream",
     "text": [
      "\t\tTotal time for config: 7.497911214828491\n",
      "Instance 32, T = 1.0, Proposal = MALA_MC, Acceptance = metropolis, Gap = 0.0000\n",
      "Warning: Gap is very small, may be inaccurate.\n",
      "Starting problem instance 33 of 2000 with n = 3\n"
     ]
    },
    {
     "name": "stderr",
     "output_type": "stream",
     "text": [
      "100%|██████████| 1000/1000 [00:01<00:00, 718.57it/s]\n"
     ]
    },
    {
     "name": "stdout",
     "output_type": "stream",
     "text": [
      "\t\tTotal time for config: 1.3956260681152344\n",
      "Instance 33, T = 1.0, Proposal = MALA_MC, Acceptance = metropolis, Gap = 0.4756\n",
      "Starting problem instance 34 of 2000 with n = 4\n"
     ]
    },
    {
     "name": "stderr",
     "output_type": "stream",
     "text": [
      "100%|██████████| 1000/1000 [00:01<00:00, 517.29it/s]\n"
     ]
    },
    {
     "name": "stdout",
     "output_type": "stream",
     "text": [
      "\t\tTotal time for config: 1.933133840560913\n",
      "Instance 34, T = 1.0, Proposal = MALA_MC, Acceptance = metropolis, Gap = 0.7137\n",
      "Starting problem instance 35 of 2000 with n = 5\n"
     ]
    },
    {
     "name": "stderr",
     "output_type": "stream",
     "text": [
      "100%|██████████| 1000/1000 [00:02<00:00, 450.30it/s]\n"
     ]
    },
    {
     "name": "stdout",
     "output_type": "stream",
     "text": [
      "\t\tTotal time for config: 2.2207469940185547\n",
      "Instance 35, T = 1.0, Proposal = MALA_MC, Acceptance = metropolis, Gap = 0.6649\n",
      "Starting problem instance 36 of 2000 with n = 6\n"
     ]
    },
    {
     "name": "stderr",
     "output_type": "stream",
     "text": [
      "100%|██████████| 1000/1000 [00:02<00:00, 356.16it/s]\n"
     ]
    },
    {
     "name": "stdout",
     "output_type": "stream",
     "text": [
      "\t\tTotal time for config: 2.807727336883545\n",
      "Instance 36, T = 1.0, Proposal = MALA_MC, Acceptance = metropolis, Gap = 0.4849\n",
      "Starting problem instance 37 of 2000 with n = 7\n"
     ]
    },
    {
     "name": "stderr",
     "output_type": "stream",
     "text": [
      "100%|██████████| 1000/1000 [00:03<00:00, 321.67it/s]\n"
     ]
    },
    {
     "name": "stdout",
     "output_type": "stream",
     "text": [
      "\t\tTotal time for config: 3.1171715259552\n",
      "Instance 37, T = 1.0, Proposal = MALA_MC, Acceptance = metropolis, Gap = 0.0000\n",
      "Warning: Gap is very small, may be inaccurate.\n",
      "Starting problem instance 38 of 2000 with n = 8\n"
     ]
    },
    {
     "name": "stderr",
     "output_type": "stream",
     "text": [
      "100%|██████████| 1000/1000 [00:03<00:00, 278.94it/s]\n"
     ]
    },
    {
     "name": "stdout",
     "output_type": "stream",
     "text": [
      "\t\tTotal time for config: 3.5983693599700928\n",
      "Instance 38, T = 1.0, Proposal = MALA_MC, Acceptance = metropolis, Gap = 0.0000\n",
      "Warning: Gap is very small, may be inaccurate.\n",
      "Starting problem instance 39 of 2000 with n = 9\n"
     ]
    },
    {
     "name": "stderr",
     "output_type": "stream",
     "text": [
      "100%|██████████| 1000/1000 [00:04<00:00, 209.10it/s]\n"
     ]
    },
    {
     "name": "stdout",
     "output_type": "stream",
     "text": [
      "\t\tTotal time for config: 4.784437894821167\n",
      "Instance 39, T = 1.0, Proposal = MALA_MC, Acceptance = metropolis, Gap = 0.0000\n",
      "Warning: Gap is very small, may be inaccurate.\n",
      "Starting problem instance 40 of 2000 with n = 10\n"
     ]
    },
    {
     "name": "stderr",
     "output_type": "stream",
     "text": [
      "100%|██████████| 1000/1000 [00:07<00:00, 138.16it/s]\n"
     ]
    },
    {
     "name": "stdout",
     "output_type": "stream",
     "text": [
      "\t\tTotal time for config: 7.241640090942383\n",
      "Instance 40, T = 1.0, Proposal = MALA_MC, Acceptance = metropolis, Gap = 0.0000\n",
      "Warning: Gap is very small, may be inaccurate.\n",
      "Starting problem instance 41 of 2000 with n = 3\n"
     ]
    },
    {
     "name": "stderr",
     "output_type": "stream",
     "text": [
      "100%|██████████| 1000/1000 [00:01<00:00, 847.01it/s]\n"
     ]
    },
    {
     "name": "stdout",
     "output_type": "stream",
     "text": [
      "\t\tTotal time for config: 1.18809175491333\n",
      "Instance 41, T = 1.0, Proposal = MALA_MC, Acceptance = metropolis, Gap = 0.4381\n",
      "Starting problem instance 42 of 2000 with n = 4\n"
     ]
    },
    {
     "name": "stderr",
     "output_type": "stream",
     "text": [
      "100%|██████████| 1000/1000 [00:01<00:00, 509.46it/s]\n"
     ]
    },
    {
     "name": "stdout",
     "output_type": "stream",
     "text": [
      "\t\tTotal time for config: 1.9628760814666748\n",
      "Instance 42, T = 1.0, Proposal = MALA_MC, Acceptance = metropolis, Gap = 0.1076\n",
      "Starting problem instance 43 of 2000 with n = 5\n"
     ]
    },
    {
     "name": "stderr",
     "output_type": "stream",
     "text": [
      "100%|██████████| 1000/1000 [00:02<00:00, 425.79it/s]\n"
     ]
    },
    {
     "name": "stdout",
     "output_type": "stream",
     "text": [
      "\t\tTotal time for config: 2.3506267070770264\n",
      "Instance 43, T = 1.0, Proposal = MALA_MC, Acceptance = metropolis, Gap = 0.0008\n",
      "Starting problem instance 44 of 2000 with n = 6\n"
     ]
    },
    {
     "name": "stderr",
     "output_type": "stream",
     "text": [
      "100%|██████████| 1000/1000 [00:02<00:00, 380.98it/s]\n"
     ]
    },
    {
     "name": "stdout",
     "output_type": "stream",
     "text": [
      "\t\tTotal time for config: 2.6248104572296143\n",
      "Instance 44, T = 1.0, Proposal = MALA_MC, Acceptance = metropolis, Gap = 0.0233\n",
      "Starting problem instance 45 of 2000 with n = 7\n"
     ]
    },
    {
     "name": "stderr",
     "output_type": "stream",
     "text": [
      "100%|██████████| 1000/1000 [00:03<00:00, 307.61it/s]\n"
     ]
    },
    {
     "name": "stdout",
     "output_type": "stream",
     "text": [
      "\t\tTotal time for config: 3.2539432048797607\n",
      "Instance 45, T = 1.0, Proposal = MALA_MC, Acceptance = metropolis, Gap = 0.0000\n",
      "Warning: Gap is very small, may be inaccurate.\n",
      "Starting problem instance 46 of 2000 with n = 8\n"
     ]
    },
    {
     "name": "stderr",
     "output_type": "stream",
     "text": [
      "100%|██████████| 1000/1000 [00:03<00:00, 286.26it/s]\n"
     ]
    },
    {
     "name": "stdout",
     "output_type": "stream",
     "text": [
      "\t\tTotal time for config: 3.493295669555664\n",
      "Instance 46, T = 1.0, Proposal = MALA_MC, Acceptance = metropolis, Gap = 0.0000\n",
      "Warning: Gap is very small, may be inaccurate.\n",
      "Starting problem instance 47 of 2000 with n = 9\n"
     ]
    },
    {
     "name": "stderr",
     "output_type": "stream",
     "text": [
      "100%|██████████| 1000/1000 [00:04<00:00, 217.50it/s]\n"
     ]
    },
    {
     "name": "stdout",
     "output_type": "stream",
     "text": [
      "\t\tTotal time for config: 4.597649812698364\n",
      "Instance 47, T = 1.0, Proposal = MALA_MC, Acceptance = metropolis, Gap = 0.0000\n",
      "Warning: Gap is very small, may be inaccurate.\n",
      "Starting problem instance 48 of 2000 with n = 10\n"
     ]
    },
    {
     "name": "stderr",
     "output_type": "stream",
     "text": [
      "100%|██████████| 1000/1000 [00:12<00:00, 82.50it/s]\n"
     ]
    },
    {
     "name": "stdout",
     "output_type": "stream",
     "text": [
      "\t\tTotal time for config: 12.12833309173584\n",
      "Instance 48, T = 1.0, Proposal = MALA_MC, Acceptance = metropolis, Gap = 0.0000\n",
      "Warning: Gap is very small, may be inaccurate.\n",
      "Starting problem instance 49 of 2000 with n = 3\n"
     ]
    },
    {
     "name": "stderr",
     "output_type": "stream",
     "text": [
      "100%|██████████| 1000/1000 [00:02<00:00, 445.61it/s]\n"
     ]
    },
    {
     "name": "stdout",
     "output_type": "stream",
     "text": [
      "\t\tTotal time for config: 2.246131420135498\n",
      "Instance 49, T = 1.0, Proposal = MALA_MC, Acceptance = metropolis, Gap = 0.9167\n",
      "Starting problem instance 50 of 2000 with n = 4\n"
     ]
    },
    {
     "name": "stderr",
     "output_type": "stream",
     "text": [
      "100%|██████████| 1000/1000 [00:02<00:00, 360.21it/s]\n"
     ]
    },
    {
     "name": "stdout",
     "output_type": "stream",
     "text": [
      "\t\tTotal time for config: 2.7867753505706787\n",
      "Instance 50, T = 1.0, Proposal = MALA_MC, Acceptance = metropolis, Gap = 0.0188\n",
      "Starting problem instance 51 of 2000 with n = 5\n"
     ]
    },
    {
     "name": "stderr",
     "output_type": "stream",
     "text": [
      "100%|██████████| 1000/1000 [00:03<00:00, 282.72it/s]\n"
     ]
    },
    {
     "name": "stdout",
     "output_type": "stream",
     "text": [
      "\t\tTotal time for config: 3.5463507175445557\n",
      "Instance 51, T = 1.0, Proposal = MALA_MC, Acceptance = metropolis, Gap = 0.6146\n",
      "Starting problem instance 52 of 2000 with n = 6\n"
     ]
    },
    {
     "name": "stderr",
     "output_type": "stream",
     "text": [
      "100%|██████████| 1000/1000 [00:03<00:00, 262.69it/s]\n"
     ]
    },
    {
     "name": "stdout",
     "output_type": "stream",
     "text": [
      "\t\tTotal time for config: 3.8231585025787354\n",
      "Instance 52, T = 1.0, Proposal = MALA_MC, Acceptance = metropolis, Gap = 0.0132\n",
      "Starting problem instance 53 of 2000 with n = 7\n"
     ]
    },
    {
     "name": "stderr",
     "output_type": "stream",
     "text": [
      "100%|██████████| 1000/1000 [00:04<00:00, 200.75it/s]\n"
     ]
    },
    {
     "name": "stdout",
     "output_type": "stream",
     "text": [
      "\t\tTotal time for config: 4.998621702194214\n",
      "Instance 53, T = 1.0, Proposal = MALA_MC, Acceptance = metropolis, Gap = 0.1874\n",
      "Starting problem instance 54 of 2000 with n = 8\n"
     ]
    },
    {
     "name": "stderr",
     "output_type": "stream",
     "text": [
      "100%|██████████| 1000/1000 [00:04<00:00, 221.43it/s]\n"
     ]
    },
    {
     "name": "stdout",
     "output_type": "stream",
     "text": [
      "\t\tTotal time for config: 4.532621145248413\n",
      "Instance 54, T = 1.0, Proposal = MALA_MC, Acceptance = metropolis, Gap = 0.0000\n",
      "Warning: Gap is very small, may be inaccurate.\n",
      "Starting problem instance 55 of 2000 with n = 9\n"
     ]
    },
    {
     "name": "stderr",
     "output_type": "stream",
     "text": [
      "100%|██████████| 1000/1000 [00:04<00:00, 220.16it/s]\n"
     ]
    },
    {
     "name": "stdout",
     "output_type": "stream",
     "text": [
      "\t\tTotal time for config: 4.54221510887146\n",
      "Instance 55, T = 1.0, Proposal = MALA_MC, Acceptance = metropolis, Gap = 0.0000\n",
      "Warning: Gap is very small, may be inaccurate.\n",
      "Starting problem instance 56 of 2000 with n = 10\n"
     ]
    },
    {
     "name": "stderr",
     "output_type": "stream",
     "text": [
      "100%|██████████| 1000/1000 [00:06<00:00, 145.08it/s]\n"
     ]
    },
    {
     "name": "stdout",
     "output_type": "stream",
     "text": [
      "\t\tTotal time for config: 6.892619848251343\n",
      "Instance 56, T = 1.0, Proposal = MALA_MC, Acceptance = metropolis, Gap = 0.0000\n",
      "Warning: Gap is very small, may be inaccurate.\n",
      "Starting problem instance 57 of 2000 with n = 3\n"
     ]
    },
    {
     "name": "stderr",
     "output_type": "stream",
     "text": [
      "100%|██████████| 1000/1000 [00:01<00:00, 694.39it/s]\n"
     ]
    },
    {
     "name": "stdout",
     "output_type": "stream",
     "text": [
      "\t\tTotal time for config: 1.4477050304412842\n",
      "Instance 57, T = 1.0, Proposal = MALA_MC, Acceptance = metropolis, Gap = 0.3467\n",
      "Starting problem instance 58 of 2000 with n = 4\n"
     ]
    },
    {
     "name": "stderr",
     "output_type": "stream",
     "text": [
      "100%|██████████| 1000/1000 [00:01<00:00, 613.62it/s]\n"
     ]
    },
    {
     "name": "stdout",
     "output_type": "stream",
     "text": [
      "\t\tTotal time for config: 1.6311218738555908\n",
      "Instance 58, T = 1.0, Proposal = MALA_MC, Acceptance = metropolis, Gap = 0.3002\n",
      "Starting problem instance 59 of 2000 with n = 5\n"
     ]
    },
    {
     "name": "stderr",
     "output_type": "stream",
     "text": [
      "100%|██████████| 1000/1000 [00:02<00:00, 393.75it/s]\n"
     ]
    },
    {
     "name": "stdout",
     "output_type": "stream",
     "text": [
      "\t\tTotal time for config: 2.5396828651428223\n",
      "Instance 59, T = 1.0, Proposal = MALA_MC, Acceptance = metropolis, Gap = 0.5936\n",
      "Starting problem instance 60 of 2000 with n = 6\n"
     ]
    },
    {
     "name": "stderr",
     "output_type": "stream",
     "text": [
      "100%|██████████| 1000/1000 [00:02<00:00, 413.88it/s]\n"
     ]
    },
    {
     "name": "stdout",
     "output_type": "stream",
     "text": [
      "\t\tTotal time for config: 2.4263195991516113\n",
      "Instance 60, T = 1.0, Proposal = MALA_MC, Acceptance = metropolis, Gap = 0.0000\n",
      "Warning: Gap is very small, may be inaccurate.\n",
      "Starting problem instance 61 of 2000 with n = 7\n"
     ]
    },
    {
     "name": "stderr",
     "output_type": "stream",
     "text": [
      "100%|██████████| 1000/1000 [00:02<00:00, 379.95it/s]\n"
     ]
    },
    {
     "name": "stdout",
     "output_type": "stream",
     "text": [
      "\t\tTotal time for config: 2.632364511489868\n",
      "Instance 61, T = 1.0, Proposal = MALA_MC, Acceptance = metropolis, Gap = 0.0000\n",
      "Warning: Gap is very small, may be inaccurate.\n",
      "Starting problem instance 62 of 2000 with n = 8\n"
     ]
    },
    {
     "name": "stderr",
     "output_type": "stream",
     "text": [
      "100%|██████████| 1000/1000 [00:03<00:00, 317.78it/s]\n"
     ]
    },
    {
     "name": "stdout",
     "output_type": "stream",
     "text": [
      "\t\tTotal time for config: 3.146867036819458\n",
      "Instance 62, T = 1.0, Proposal = MALA_MC, Acceptance = metropolis, Gap = 0.0000\n",
      "Warning: Gap is very small, may be inaccurate.\n",
      "Starting problem instance 63 of 2000 with n = 9\n"
     ]
    },
    {
     "name": "stderr",
     "output_type": "stream",
     "text": [
      "100%|██████████| 1000/1000 [00:04<00:00, 237.77it/s]\n"
     ]
    },
    {
     "name": "stdout",
     "output_type": "stream",
     "text": [
      "\t\tTotal time for config: 4.205686092376709\n",
      "Instance 63, T = 1.0, Proposal = MALA_MC, Acceptance = metropolis, Gap = 0.0000\n",
      "Warning: Gap is very small, may be inaccurate.\n",
      "Starting problem instance 64 of 2000 with n = 10\n"
     ]
    },
    {
     "name": "stderr",
     "output_type": "stream",
     "text": [
      "100%|██████████| 1000/1000 [00:06<00:00, 158.18it/s]\n"
     ]
    },
    {
     "name": "stdout",
     "output_type": "stream",
     "text": [
      "\t\tTotal time for config: 6.323471546173096\n",
      "Instance 64, T = 1.0, Proposal = MALA_MC, Acceptance = metropolis, Gap = 0.0000\n",
      "Warning: Gap is very small, may be inaccurate.\n",
      "Starting problem instance 65 of 2000 with n = 3\n"
     ]
    },
    {
     "name": "stderr",
     "output_type": "stream",
     "text": [
      "100%|██████████| 1000/1000 [00:01<00:00, 894.71it/s]\n"
     ]
    },
    {
     "name": "stdout",
     "output_type": "stream",
     "text": [
      "\t\tTotal time for config: 1.1205813884735107\n",
      "Instance 65, T = 1.0, Proposal = MALA_MC, Acceptance = metropolis, Gap = 0.4970\n",
      "Starting problem instance 66 of 2000 with n = 4\n"
     ]
    },
    {
     "name": "stderr",
     "output_type": "stream",
     "text": [
      "100%|██████████| 1000/1000 [00:01<00:00, 674.60it/s]\n"
     ]
    },
    {
     "name": "stdout",
     "output_type": "stream",
     "text": [
      "\t\tTotal time for config: 1.4823517799377441\n",
      "Instance 66, T = 1.0, Proposal = MALA_MC, Acceptance = metropolis, Gap = 0.0000\n",
      "Warning: Gap is very small, may be inaccurate.\n",
      "Starting problem instance 67 of 2000 with n = 5\n"
     ]
    },
    {
     "name": "stderr",
     "output_type": "stream",
     "text": [
      "100%|██████████| 1000/1000 [00:01<00:00, 529.07it/s]\n"
     ]
    },
    {
     "name": "stdout",
     "output_type": "stream",
     "text": [
      "\t\tTotal time for config: 1.9016993045806885\n",
      "Instance 67, T = 1.0, Proposal = MALA_MC, Acceptance = metropolis, Gap = 0.0183\n",
      "Starting problem instance 68 of 2000 with n = 6\n"
     ]
    },
    {
     "name": "stderr",
     "output_type": "stream",
     "text": [
      "100%|██████████| 1000/1000 [00:02<00:00, 431.43it/s]\n"
     ]
    },
    {
     "name": "stdout",
     "output_type": "stream",
     "text": [
      "\t\tTotal time for config: 2.317894697189331\n",
      "Instance 68, T = 1.0, Proposal = MALA_MC, Acceptance = metropolis, Gap = 0.0057\n",
      "Starting problem instance 69 of 2000 with n = 7\n"
     ]
    },
    {
     "name": "stderr",
     "output_type": "stream",
     "text": [
      "100%|██████████| 1000/1000 [00:02<00:00, 399.87it/s]\n"
     ]
    },
    {
     "name": "stdout",
     "output_type": "stream",
     "text": [
      "\t\tTotal time for config: 2.5008065700531006\n",
      "Instance 69, T = 1.0, Proposal = MALA_MC, Acceptance = metropolis, Gap = 0.5876\n",
      "Starting problem instance 70 of 2000 with n = 8\n"
     ]
    },
    {
     "name": "stderr",
     "output_type": "stream",
     "text": [
      "100%|██████████| 1000/1000 [00:03<00:00, 310.93it/s]\n"
     ]
    },
    {
     "name": "stdout",
     "output_type": "stream",
     "text": [
      "\t\tTotal time for config: 3.2161214351654053\n",
      "Instance 70, T = 1.0, Proposal = MALA_MC, Acceptance = metropolis, Gap = 0.0000\n",
      "Warning: Gap is very small, may be inaccurate.\n",
      "Starting problem instance 71 of 2000 with n = 9\n"
     ]
    },
    {
     "name": "stderr",
     "output_type": "stream",
     "text": [
      "100%|██████████| 1000/1000 [00:04<00:00, 215.83it/s]\n"
     ]
    },
    {
     "name": "stdout",
     "output_type": "stream",
     "text": [
      "\t\tTotal time for config: 4.6376378536224365\n",
      "Instance 71, T = 1.0, Proposal = MALA_MC, Acceptance = metropolis, Gap = 0.0000\n",
      "Warning: Gap is very small, may be inaccurate.\n",
      "Starting problem instance 72 of 2000 with n = 10\n"
     ]
    },
    {
     "name": "stderr",
     "output_type": "stream",
     "text": [
      "100%|██████████| 1000/1000 [00:07<00:00, 136.99it/s]\n"
     ]
    },
    {
     "name": "stdout",
     "output_type": "stream",
     "text": [
      "\t\tTotal time for config: 7.305504322052002\n",
      "Instance 72, T = 1.0, Proposal = MALA_MC, Acceptance = metropolis, Gap = 0.0000\n",
      "Warning: Gap is very small, may be inaccurate.\n",
      "Starting problem instance 73 of 2000 with n = 3\n"
     ]
    },
    {
     "name": "stderr",
     "output_type": "stream",
     "text": [
      "100%|██████████| 1000/1000 [00:01<00:00, 755.98it/s]\n"
     ]
    },
    {
     "name": "stdout",
     "output_type": "stream",
     "text": [
      "\t\tTotal time for config: 1.3324487209320068\n",
      "Instance 73, T = 1.0, Proposal = MALA_MC, Acceptance = metropolis, Gap = 0.7011\n",
      "Starting problem instance 74 of 2000 with n = 4\n"
     ]
    },
    {
     "name": "stderr",
     "output_type": "stream",
     "text": [
      "100%|██████████| 1000/1000 [00:02<00:00, 471.43it/s]\n"
     ]
    },
    {
     "name": "stdout",
     "output_type": "stream",
     "text": [
      "\t\tTotal time for config: 2.121213436126709\n",
      "Instance 74, T = 1.0, Proposal = MALA_MC, Acceptance = metropolis, Gap = 0.0433\n",
      "Starting problem instance 75 of 2000 with n = 5\n"
     ]
    },
    {
     "name": "stderr",
     "output_type": "stream",
     "text": [
      "100%|██████████| 1000/1000 [00:02<00:00, 421.09it/s]\n"
     ]
    },
    {
     "name": "stdout",
     "output_type": "stream",
     "text": [
      "\t\tTotal time for config: 2.374788999557495\n",
      "Instance 75, T = 1.0, Proposal = MALA_MC, Acceptance = metropolis, Gap = 0.3873\n",
      "Starting problem instance 76 of 2000 with n = 6\n"
     ]
    },
    {
     "name": "stderr",
     "output_type": "stream",
     "text": [
      "100%|██████████| 1000/1000 [00:02<00:00, 425.23it/s]\n"
     ]
    },
    {
     "name": "stdout",
     "output_type": "stream",
     "text": [
      "\t\tTotal time for config: 2.353686571121216\n",
      "Instance 76, T = 1.0, Proposal = MALA_MC, Acceptance = metropolis, Gap = 0.3113\n",
      "Starting problem instance 77 of 2000 with n = 7\n"
     ]
    },
    {
     "name": "stderr",
     "output_type": "stream",
     "text": [
      "100%|██████████| 1000/1000 [00:02<00:00, 353.58it/s]\n"
     ]
    },
    {
     "name": "stdout",
     "output_type": "stream",
     "text": [
      "\t\tTotal time for config: 2.828209638595581\n",
      "Instance 77, T = 1.0, Proposal = MALA_MC, Acceptance = metropolis, Gap = 0.0000\n",
      "Warning: Gap is very small, may be inaccurate.\n",
      "Starting problem instance 78 of 2000 with n = 8\n"
     ]
    },
    {
     "name": "stderr",
     "output_type": "stream",
     "text": [
      "100%|██████████| 1000/1000 [00:03<00:00, 282.96it/s]\n"
     ]
    },
    {
     "name": "stdout",
     "output_type": "stream",
     "text": [
      "\t\tTotal time for config: 3.534086227416992\n",
      "Instance 78, T = 1.0, Proposal = MALA_MC, Acceptance = metropolis, Gap = 0.0000\n",
      "Warning: Gap is very small, may be inaccurate.\n",
      "Starting problem instance 79 of 2000 with n = 9\n"
     ]
    },
    {
     "name": "stderr",
     "output_type": "stream",
     "text": [
      "100%|██████████| 1000/1000 [00:04<00:00, 213.57it/s]\n"
     ]
    },
    {
     "name": "stdout",
     "output_type": "stream",
     "text": [
      "\t\tTotal time for config: 4.682810306549072\n",
      "Instance 79, T = 1.0, Proposal = MALA_MC, Acceptance = metropolis, Gap = 0.0000\n",
      "Warning: Gap is very small, may be inaccurate.\n",
      "Starting problem instance 80 of 2000 with n = 10\n"
     ]
    },
    {
     "name": "stderr",
     "output_type": "stream",
     "text": [
      "100%|██████████| 1000/1000 [00:07<00:00, 127.87it/s]\n"
     ]
    },
    {
     "name": "stdout",
     "output_type": "stream",
     "text": [
      "\t\tTotal time for config: 7.821875333786011\n",
      "Instance 80, T = 1.0, Proposal = MALA_MC, Acceptance = metropolis, Gap = 0.0000\n",
      "Warning: Gap is very small, may be inaccurate.\n",
      "Starting problem instance 81 of 2000 with n = 3\n"
     ]
    },
    {
     "name": "stderr",
     "output_type": "stream",
     "text": [
      "100%|██████████| 1000/1000 [00:01<00:00, 769.57it/s]\n"
     ]
    },
    {
     "name": "stdout",
     "output_type": "stream",
     "text": [
      "\t\tTotal time for config: 1.3160972595214844\n",
      "Instance 81, T = 1.0, Proposal = MALA_MC, Acceptance = metropolis, Gap = 0.8688\n",
      "Starting problem instance 82 of 2000 with n = 4\n"
     ]
    },
    {
     "name": "stderr",
     "output_type": "stream",
     "text": [
      "100%|██████████| 1000/1000 [00:01<00:00, 512.01it/s]\n"
     ]
    },
    {
     "name": "stdout",
     "output_type": "stream",
     "text": [
      "\t\tTotal time for config: 1.953099012374878\n",
      "Instance 82, T = 1.0, Proposal = MALA_MC, Acceptance = metropolis, Gap = 0.0575\n",
      "Starting problem instance 83 of 2000 with n = 5\n"
     ]
    },
    {
     "name": "stderr",
     "output_type": "stream",
     "text": [
      "100%|██████████| 1000/1000 [00:02<00:00, 451.32it/s]\n"
     ]
    },
    {
     "name": "stdout",
     "output_type": "stream",
     "text": [
      "\t\tTotal time for config: 2.2157251834869385\n",
      "Instance 83, T = 1.0, Proposal = MALA_MC, Acceptance = metropolis, Gap = 0.5280\n",
      "Starting problem instance 84 of 2000 with n = 6\n"
     ]
    },
    {
     "name": "stderr",
     "output_type": "stream",
     "text": [
      "100%|██████████| 1000/1000 [00:02<00:00, 389.58it/s]\n"
     ]
    },
    {
     "name": "stdout",
     "output_type": "stream",
     "text": [
      "\t\tTotal time for config: 2.566896438598633\n",
      "Instance 84, T = 1.0, Proposal = MALA_MC, Acceptance = metropolis, Gap = 0.6789\n",
      "Starting problem instance 85 of 2000 with n = 7\n"
     ]
    },
    {
     "name": "stderr",
     "output_type": "stream",
     "text": [
      "100%|██████████| 1000/1000 [00:02<00:00, 341.01it/s]\n"
     ]
    },
    {
     "name": "stdout",
     "output_type": "stream",
     "text": [
      "\t\tTotal time for config: 2.9324417114257812\n",
      "Instance 85, T = 1.0, Proposal = MALA_MC, Acceptance = metropolis, Gap = 0.0000\n",
      "Warning: Gap is very small, may be inaccurate.\n",
      "Starting problem instance 86 of 2000 with n = 8\n"
     ]
    },
    {
     "name": "stderr",
     "output_type": "stream",
     "text": [
      "100%|██████████| 1000/1000 [00:03<00:00, 300.05it/s]\n"
     ]
    },
    {
     "name": "stdout",
     "output_type": "stream",
     "text": [
      "\t\tTotal time for config: 3.332728624343872\n",
      "Instance 86, T = 1.0, Proposal = MALA_MC, Acceptance = metropolis, Gap = 0.0000\n",
      "Warning: Gap is very small, may be inaccurate.\n",
      "Starting problem instance 87 of 2000 with n = 9\n"
     ]
    },
    {
     "name": "stderr",
     "output_type": "stream",
     "text": [
      "100%|██████████| 1000/1000 [00:04<00:00, 223.69it/s]\n"
     ]
    },
    {
     "name": "stdout",
     "output_type": "stream",
     "text": [
      "\t\tTotal time for config: 4.470383167266846\n",
      "Instance 87, T = 1.0, Proposal = MALA_MC, Acceptance = metropolis, Gap = 0.0000\n",
      "Warning: Gap is very small, may be inaccurate.\n",
      "Starting problem instance 88 of 2000 with n = 10\n"
     ]
    },
    {
     "name": "stderr",
     "output_type": "stream",
     "text": [
      "100%|██████████| 1000/1000 [00:07<00:00, 132.83it/s]\n"
     ]
    },
    {
     "name": "stdout",
     "output_type": "stream",
     "text": [
      "\t\tTotal time for config: 7.5286970138549805\n",
      "Instance 88, T = 1.0, Proposal = MALA_MC, Acceptance = metropolis, Gap = 0.0000\n",
      "Warning: Gap is very small, may be inaccurate.\n",
      "Starting problem instance 89 of 2000 with n = 3\n"
     ]
    },
    {
     "name": "stderr",
     "output_type": "stream",
     "text": [
      "100%|██████████| 1000/1000 [00:01<00:00, 759.96it/s]\n"
     ]
    },
    {
     "name": "stdout",
     "output_type": "stream",
     "text": [
      "\t\tTotal time for config: 1.315864086151123\n",
      "Instance 89, T = 1.0, Proposal = MALA_MC, Acceptance = metropolis, Gap = 0.8263\n",
      "Starting problem instance 90 of 2000 with n = 4\n"
     ]
    },
    {
     "name": "stderr",
     "output_type": "stream",
     "text": [
      "100%|██████████| 1000/1000 [00:01<00:00, 600.94it/s]\n"
     ]
    },
    {
     "name": "stdout",
     "output_type": "stream",
     "text": [
      "\t\tTotal time for config: 1.664057731628418\n",
      "Instance 90, T = 1.0, Proposal = MALA_MC, Acceptance = metropolis, Gap = 0.7891\n",
      "Starting problem instance 91 of 2000 with n = 5\n"
     ]
    },
    {
     "name": "stderr",
     "output_type": "stream",
     "text": [
      "100%|██████████| 1000/1000 [00:02<00:00, 377.14it/s]\n"
     ]
    },
    {
     "name": "stdout",
     "output_type": "stream",
     "text": [
      "\t\tTotal time for config: 2.653531789779663\n",
      "Instance 91, T = 1.0, Proposal = MALA_MC, Acceptance = metropolis, Gap = 0.2832\n",
      "Starting problem instance 92 of 2000 with n = 6\n"
     ]
    },
    {
     "name": "stderr",
     "output_type": "stream",
     "text": [
      "100%|██████████| 1000/1000 [00:02<00:00, 414.95it/s]\n"
     ]
    },
    {
     "name": "stdout",
     "output_type": "stream",
     "text": [
      "\t\tTotal time for config: 2.4099414348602295\n",
      "Instance 92, T = 1.0, Proposal = MALA_MC, Acceptance = metropolis, Gap = 0.1207\n",
      "Starting problem instance 93 of 2000 with n = 7\n"
     ]
    },
    {
     "name": "stderr",
     "output_type": "stream",
     "text": [
      "100%|██████████| 1000/1000 [00:03<00:00, 307.48it/s]\n"
     ]
    },
    {
     "name": "stdout",
     "output_type": "stream",
     "text": [
      "\t\tTotal time for config: 3.2542450428009033\n",
      "Instance 93, T = 1.0, Proposal = MALA_MC, Acceptance = metropolis, Gap = 0.0335\n",
      "Starting problem instance 94 of 2000 with n = 8\n"
     ]
    },
    {
     "name": "stderr",
     "output_type": "stream",
     "text": [
      "100%|██████████| 1000/1000 [00:06<00:00, 162.10it/s]\n"
     ]
    },
    {
     "name": "stdout",
     "output_type": "stream",
     "text": [
      "\t\tTotal time for config: 6.182699918746948\n",
      "Instance 94, T = 1.0, Proposal = MALA_MC, Acceptance = metropolis, Gap = 0.0000\n",
      "Warning: Gap is very small, may be inaccurate.\n",
      "Starting problem instance 95 of 2000 with n = 9\n"
     ]
    },
    {
     "name": "stderr",
     "output_type": "stream",
     "text": [
      "100%|██████████| 1000/1000 [00:09<00:00, 100.22it/s]\n"
     ]
    },
    {
     "name": "stdout",
     "output_type": "stream",
     "text": [
      "\t\tTotal time for config: 9.986702919006348\n",
      "Instance 95, T = 1.0, Proposal = MALA_MC, Acceptance = metropolis, Gap = 0.0000\n",
      "Warning: Gap is very small, may be inaccurate.\n",
      "Starting problem instance 96 of 2000 with n = 10\n"
     ]
    },
    {
     "name": "stderr",
     "output_type": "stream",
     "text": [
      "100%|██████████| 1000/1000 [00:17<00:00, 56.13it/s]\n"
     ]
    },
    {
     "name": "stdout",
     "output_type": "stream",
     "text": [
      "\t\tTotal time for config: 17.823448419570923\n",
      "Instance 96, T = 1.0, Proposal = MALA_MC, Acceptance = metropolis, Gap = 0.0000\n",
      "Warning: Gap is very small, may be inaccurate.\n",
      "Starting problem instance 97 of 2000 with n = 3\n"
     ]
    },
    {
     "name": "stderr",
     "output_type": "stream",
     "text": [
      "100%|██████████| 1000/1000 [00:01<00:00, 532.44it/s]\n"
     ]
    },
    {
     "name": "stdout",
     "output_type": "stream",
     "text": [
      "\t\tTotal time for config: 1.8781414031982422\n",
      "Instance 97, T = 1.0, Proposal = MALA_MC, Acceptance = metropolis, Gap = 0.9238\n",
      "Starting problem instance 98 of 2000 with n = 4\n"
     ]
    },
    {
     "name": "stderr",
     "output_type": "stream",
     "text": [
      "100%|██████████| 1000/1000 [00:02<00:00, 375.70it/s]\n"
     ]
    },
    {
     "name": "stdout",
     "output_type": "stream",
     "text": [
      "\t\tTotal time for config: 2.6617026329040527\n",
      "Instance 98, T = 1.0, Proposal = MALA_MC, Acceptance = metropolis, Gap = 0.8443\n",
      "Starting problem instance 99 of 2000 with n = 5\n"
     ]
    },
    {
     "name": "stderr",
     "output_type": "stream",
     "text": [
      "100%|██████████| 1000/1000 [00:03<00:00, 314.17it/s]\n"
     ]
    },
    {
     "name": "stdout",
     "output_type": "stream",
     "text": [
      "\t\tTotal time for config: 3.1829488277435303\n",
      "Instance 99, T = 1.0, Proposal = MALA_MC, Acceptance = metropolis, Gap = 0.0011\n",
      "Starting problem instance 100 of 2000 with n = 6\n"
     ]
    },
    {
     "name": "stderr",
     "output_type": "stream",
     "text": [
      "100%|██████████| 1000/1000 [00:03<00:00, 259.43it/s]\n"
     ]
    },
    {
     "name": "stdout",
     "output_type": "stream",
     "text": [
      "\t\tTotal time for config: 3.8660075664520264\n",
      "Instance 100, T = 1.0, Proposal = MALA_MC, Acceptance = metropolis, Gap = 0.0000\n",
      "Warning: Gap is very small, may be inaccurate.\n",
      "Starting problem instance 101 of 2000 with n = 7\n"
     ]
    },
    {
     "name": "stderr",
     "output_type": "stream",
     "text": [
      "100%|██████████| 1000/1000 [00:04<00:00, 215.09it/s]\n"
     ]
    },
    {
     "name": "stdout",
     "output_type": "stream",
     "text": [
      "\t\tTotal time for config: 4.666079521179199\n",
      "Instance 101, T = 1.0, Proposal = MALA_MC, Acceptance = metropolis, Gap = 0.0000\n",
      "Warning: Gap is very small, may be inaccurate.\n",
      "Starting problem instance 102 of 2000 with n = 8\n"
     ]
    },
    {
     "name": "stderr",
     "output_type": "stream",
     "text": [
      "100%|██████████| 1000/1000 [00:05<00:00, 168.82it/s]\n"
     ]
    },
    {
     "name": "stdout",
     "output_type": "stream",
     "text": [
      "\t\tTotal time for config: 5.932610511779785\n",
      "Instance 102, T = 1.0, Proposal = MALA_MC, Acceptance = metropolis, Gap = 0.0000\n",
      "Warning: Gap is very small, may be inaccurate.\n",
      "Starting problem instance 103 of 2000 with n = 9\n"
     ]
    },
    {
     "name": "stderr",
     "output_type": "stream",
     "text": [
      "100%|██████████| 1000/1000 [00:09<00:00, 100.85it/s]\n"
     ]
    },
    {
     "name": "stdout",
     "output_type": "stream",
     "text": [
      "\t\tTotal time for config: 9.917281866073608\n",
      "Instance 103, T = 1.0, Proposal = MALA_MC, Acceptance = metropolis, Gap = 0.0000\n",
      "Warning: Gap is very small, may be inaccurate.\n",
      "Starting problem instance 104 of 2000 with n = 10\n"
     ]
    },
    {
     "name": "stderr",
     "output_type": "stream",
     "text": [
      "100%|██████████| 1000/1000 [00:10<00:00, 93.59it/s]\n"
     ]
    },
    {
     "name": "stdout",
     "output_type": "stream",
     "text": [
      "\t\tTotal time for config: 10.68460750579834\n",
      "Instance 104, T = 1.0, Proposal = MALA_MC, Acceptance = metropolis, Gap = 0.0000\n",
      "Warning: Gap is very small, may be inaccurate.\n",
      "Starting problem instance 105 of 2000 with n = 3\n"
     ]
    },
    {
     "name": "stderr",
     "output_type": "stream",
     "text": [
      "100%|██████████| 1000/1000 [00:00<00:00, 1086.99it/s]\n"
     ]
    },
    {
     "name": "stdout",
     "output_type": "stream",
     "text": [
      "\t\tTotal time for config: 0.9377198219299316\n",
      "Instance 105, T = 1.0, Proposal = MALA_MC, Acceptance = metropolis, Gap = 0.7667\n",
      "Starting problem instance 106 of 2000 with n = 4\n"
     ]
    },
    {
     "name": "stderr",
     "output_type": "stream",
     "text": [
      "100%|██████████| 1000/1000 [00:01<00:00, 642.11it/s]\n"
     ]
    },
    {
     "name": "stdout",
     "output_type": "stream",
     "text": [
      "\t\tTotal time for config: 1.5573620796203613\n",
      "Instance 106, T = 1.0, Proposal = MALA_MC, Acceptance = metropolis, Gap = 0.6625\n",
      "Starting problem instance 107 of 2000 with n = 5\n"
     ]
    },
    {
     "name": "stderr",
     "output_type": "stream",
     "text": [
      " 32%|███▏      | 322/1000 [00:00<00:01, 584.57it/s]"
     ]
    }
   ],
   "source": [
    "\n",
    "from tqdm import tqdm\n",
    "instances = pd.read_pickle('instances_new.pkl')\n",
    "tot_instances = np.max(instances['Instance Number'].values)\n",
    "print(tot_instances)\n",
    "#tot_instances = 1\n",
    "# results = pd.DataFrame(columns = [\n",
    "#     'Instance Number',\n",
    "#     'Spins', \n",
    "#     'Temperature', \n",
    "#     'Connectivity',\n",
    "#     'Proposal',\n",
    "#     'Acceptance',\n",
    "#     'Gap',\n",
    "#     'Gap Lazy'\n",
    "#         ])\n",
    "T_logmesh = np.logspace(-3, 3, 50)\n",
    "T_round = np.sort( np.kron(np.array([1,5]), 10.**np.arange(-3,4)))\n",
    "T_lim = np.array([0, np.inf]) \n",
    "T_arr = np.unique( np.concatenate((T_logmesh, T_round, T_lim))) \n",
    "#T_arr = np.delete(T_arr, -2) \n",
    "T_arr = [1]\n",
    "delta_step = 0.2\n",
    "\n",
    "for instance_num in range(1, tot_instances+1):\n",
    "    cond  = (instances['Instance Number']==instance_num)\n",
    "    n            = instances[cond]['Spins'].values[0]\n",
    "    connectivity = instances[cond]['Connectivity'].values[0]\n",
    "    J            = instances[cond]['J'].values[0]\n",
    "    h            = instances[cond]['h'].values[0]\n",
    "\n",
    "    print('Starting problem instance', instance_num, 'of', tot_instances, 'with n =', n)\n",
    "\n",
    "    problem_inst = ProblemInstance(J, h)\n",
    "    J_Q = problem_inst.J_quantum\n",
    "    if np.linalg.norm(J_Q - J_Q.T) > 1e-8:\n",
    "        #print(\"Warning: J_Q is not symmetric, correcting...\")\n",
    "        problem_inst.J_quantum = (problem_inst.J_quantum + problem_inst.J_quantum.T)  # Ensure symmetry\n",
    "\n",
    "    problem_inst.T = 1.0\n",
    "\n",
    "    proposal_mats = {}\n",
    "\n",
    "    T = 1.0\n",
    "    prop_type = \"MALA_MC\"\n",
    "    accept_type = 'metropolis'\n",
    "\n",
    "\n",
    "    #transition_mat = adaptive_MALA_T_matrix(problem_inst, alpha=3.0, epsilon=0.2, num_samples=1000)\n",
    "    transition_mat = adaptive_MALA_T_matrix_vec(problem_inst, alpha=3.0, epsilon=0.2, num_samples=1000)\n",
    "\n",
    "    gap, _ = abs_spectral_gap(transition_mat)\n",
    "\n",
    "    results_datum = {\n",
    "        'Instance Number': instance_num,\n",
    "        'Spins': n, \n",
    "        'Temperature': T, \n",
    "        'Connectivity': connectivity,\n",
    "        'Proposal': prop_type,\n",
    "        'Acceptance': accept_type,\n",
    "        'Gap': gap,\n",
    "        \"delta_time_step_Trotter\": delta_step\n",
    "    }\n",
    "\n",
    "    print(\"Instance {}, T = {}, Proposal = {}, Acceptance = {}, Gap = {:.4f}\".format(\n",
    "        instance_num, T, prop_type, accept_type, gap))\n",
    "    \n",
    "    if gap < 1e-6:\n",
    "        print(\"Warning: Gap is very small, may be inaccurate.\")\n",
    "        # plt.imshow(transition_mat, cmap='hot', interpolation='nearest')\n",
    "        # plt.colorbar()\n",
    "        # plt.show()\n",
    "        # break\n",
    "\n",
    "    #results = pd.concat([results,pd.DataFrame([results_datum])], ignore_index=True)\n",
    "\n",
    "    results_row = pd.DataFrame([results_datum])\n",
    "    results_row.to_csv('results_MALA.csv', mode='a', header=not os.path.exists('results_MALA.csv'), index=False)\n"
   ]
  },
  {
   "cell_type": "code",
   "execution_count": null,
   "id": "da14880a",
   "metadata": {},
   "outputs": [],
   "source": []
  },
  {
   "cell_type": "code",
   "execution_count": null,
   "id": "e050cfc0",
   "metadata": {},
   "outputs": [],
   "source": []
  },
  {
   "cell_type": "code",
   "execution_count": null,
   "id": "111ad986",
   "metadata": {},
   "outputs": [],
   "source": []
  },
  {
   "cell_type": "code",
   "execution_count": null,
   "id": "1138dc6a",
   "metadata": {},
   "outputs": [],
   "source": []
  },
  {
   "cell_type": "code",
   "execution_count": null,
   "id": "1d0e8cd8",
   "metadata": {},
   "outputs": [
    {
     "name": "stdout",
     "output_type": "stream",
     "text": [
      "Batch gradient test passed.\n",
      "Batch logpdf test passed.\n",
      "Spin to index mapping test passed.\n",
      "Batched MALA step matches single-step for B=1.\n",
      "✅ All tests passed!\n"
     ]
    }
   ],
   "source": [
    "class ProblemInst:\n",
    "    n: int\n",
    "    T: float                     # inverse temperature (as used in your code)\n",
    "    J_quantum: np.ndarray        # shape (n, n), symmetric\n",
    "    h_quantum: np.ndarray        # shape (n,)\n",
    "    E_arr: np.ndarray            # length 2^n\n",
    "\n",
    "# def build_problem(n: int, seed: int = 0) -> ProblemInst:\n",
    "#     rng = np.random.default_rng(seed)\n",
    "#     # Symmetric J with small entries:\n",
    "#     A = rng.normal(0, 0.2, size=(n, n))\n",
    "#     J = 0.5 * (A + A.T)\n",
    "#     h = rng.normal(0, 0.2, size=n)\n",
    "\n",
    "#     V = all_configs(n)  # (2^n, n) in {-1,+1}\n",
    "#     # Classical Ising energy (sign convention chosen to be consistent)\n",
    "#     # E(v) = - v^T J v - h^T v\n",
    "#     E = np.einsum('bi,ij,bj->b', V, -J, V) - V @ h\n",
    "\n",
    "#     return ProblemInst(n=n, T=1.0, J_quantum=J, h_quantum=h, E_arr=E.astype(float))\n",
    "\n",
    "\n",
    "def assert_allclose(a, b, tol=1e-10, msg=\"\"):\n",
    "    if not np.allclose(a, b, atol=tol, rtol=0):\n",
    "        raise AssertionError(msg or f\"Arrays differ. Max abs diff: {np.max(np.abs(a-b))}\")\n",
    "\n",
    "def test_grad_agrees():\n",
    "    prob = problem_inst #build_problem(n, seed=1)\n",
    "    n = prob.n\n",
    "    x = np.linspace(-1.0, 1.0, n)\n",
    "    \n",
    "    alpha = 3.0\n",
    "    g1 = grad_U_mala(x, prob.J_quantum, prob.h_quantum, alpha)\n",
    "    g2 = grad_U_mala_batch(x[None, :], prob.J_quantum, prob.h_quantum, alpha)[0]\n",
    "    assert_allclose(g1, g2, 1e-12, \"grad_U_mala vs grad_U_mala_batch disagree (B=1)\")\n",
    "\n",
    "    # Also check a real batch\n",
    "    X = np.vstack([x, -x, 0.3 * x])\n",
    "    G = grad_U_mala_batch(X, prob.J_quantum, prob.h_quantum, alpha)\n",
    "    # spot check row 0 equals g1\n",
    "    assert_allclose(G[0], g1, 1e-12, \"Batch gradient first row mismatch\")\n",
    "    print(\"Batch gradient test passed.\")\n",
    "\n",
    "def test_logpdf_agrees():\n",
    "    n = 4\n",
    "    rng = np.random.default_rng(2)\n",
    "    y = rng.normal(size=n)\n",
    "    mean = rng.normal(size=n)\n",
    "    # SPD cov and its cholesky P\n",
    "    A = rng.normal(size=(n, n))\n",
    "    cov = A @ A.T + 0.1 * np.eye(n)\n",
    "    P = np.linalg.cholesky(cov)\n",
    "    eps = 0.7\n",
    "\n",
    "    lp1 = normal_dist_logpdf(y, mean, P, eps)\n",
    "    lp2 = normal_dist_logpdf_batch(y[None, :], mean[None, :], P, eps)[0]\n",
    "    assert_allclose(lp1, lp2, 1e-12, \"normal_dist_logpdf vs batch disagree (B=1)\")\n",
    "\n",
    "    # multi-B should equal element-wise\n",
    "    Y = np.vstack([y, y + 0.2, y - 0.1])\n",
    "    M = np.vstack([mean, mean + 0.1, mean - 0.2])\n",
    "    lpB = normal_dist_logpdf_batch(Y, M, P, eps)\n",
    "    for i in range(3):\n",
    "        lpi = normal_dist_logpdf(Y[i], M[i], P, eps)\n",
    "        assert_allclose(lpB[i], lpi, 1e-12, f\"logpdf row {i} mismatch\")\n",
    "    print(\"Batch logpdf test passed.\")\n",
    "\n",
    "def test_spin_index_mapping():\n",
    "    for n in range(1, 6):\n",
    "        V = all_configs(n)\n",
    "        idx_batch = spins_to_index(V)\n",
    "        idx_scalar = np.array([spinconf2int(v) for v in V])\n",
    "        if not np.array_equal(idx_batch, idx_scalar):\n",
    "            raise AssertionError(f\"spins_to_index disagrees with spinconf2int for n={n}\")\n",
    "    print(\"Spin to index mapping test passed.\") \n",
    "\n",
    "class RNGPatch:\n",
    "    \"\"\"Context manager to patch np.random.multivariate_normal to use randn, so\n",
    "    both single-step and batched-step draw from the SAME primitive RNG calls.\n",
    "    This allows exact equality tests for B=1 when seeding identically.\n",
    "    \"\"\"\n",
    "    def __enter__(self):\n",
    "        self._orig_mvn = np.random.multivariate_normal\n",
    "        def mvn(mean=None, cov=None, size=None, check_valid=None, tol=None):\n",
    "            mean = np.asarray(mean)\n",
    "            n = mean.size\n",
    "            if size is None:\n",
    "                z = np.random.randn(n)\n",
    "                P = np.linalg.cholesky(cov)  # cov is eps^2 P P^T in the call sites\n",
    "                return mean + z @ P.T\n",
    "            else:\n",
    "                if size != 1:\n",
    "                    raise NotImplementedError(\"This test patch only supports size=1 for the single-step function.\")\n",
    "                z = np.random.randn(n)\n",
    "                P = np.linalg.cholesky(cov)\n",
    "                return np.array([mean + z @ P.T])\n",
    "        np.random.multivariate_normal = mvn\n",
    "        return self\n",
    "    def __exit__(self, exc_type, exc, tb):\n",
    "        np.random.multivariate_normal = self._orig_mvn\n",
    "\n",
    "def test_mala_step_equivalence_B1():\n",
    "    prob = problem_inst #build_problem(n, seed=3)\n",
    "    n = prob.n\n",
    "    alpha = 3.0\n",
    "    eps = 0.3\n",
    "\n",
    "    rng = np.random.default_rng(123)\n",
    "    x0 = rng.normal(size=n)\n",
    "    cov = np.eye(n)\n",
    "    cov_jit = cov + 1e-5 * np.eye(n)  # to mirror single-step jitter inside adaptive_MALA_step_new\n",
    "    P = np.linalg.cholesky(cov)\n",
    "\n",
    "    seeds = [7, 11, 19, 23, 29]\n",
    "    with RNGPatch():\n",
    "        for s in seeds:\n",
    "            np.random.seed(s)\n",
    "            x1, v1 = adaptive_MALA_step_new(x0.copy(), P, cov.copy(), eps, prob, alpha=alpha)\n",
    "\n",
    "            np.random.seed(s)\n",
    "            X2, V2 = adaptive_MALA_step_new_batch(x0[None, :].copy(), P, cov_jit.copy(), eps, prob, alpha=alpha)\n",
    "            x2, v2 = X2[0], V2[0]\n",
    "\n",
    "            if not np.allclose(x1, x2, atol=1e-12, rtol=0):\n",
    "                raise AssertionError(f\"MALA step x mismatch for seed {s} (max diff {np.max(np.abs(x1-x2))})\")\n",
    "            if not np.array_equal(v1, v2):\n",
    "                raise AssertionError(f\"MALA step v mismatch for seed {s}\")\n",
    "    print(\"Batched MALA step matches single-step for B=1.\")\n",
    "\n",
    "def run_all():\n",
    "    test_grad_agrees()\n",
    "    test_logpdf_agrees()\n",
    "    test_spin_index_mapping()\n",
    "    test_mala_step_equivalence_B1()\n",
    "    print(\"✅ All tests passed!\")\n",
    "\n",
    "run_all()"
   ]
  },
  {
   "cell_type": "code",
   "execution_count": null,
   "id": "23bb751c",
   "metadata": {},
   "outputs": [],
   "source": []
  }
 ],
 "metadata": {
  "kernelspec": {
   "display_name": "Python 3",
   "language": "python",
   "name": "python3"
  },
  "language_info": {
   "codemirror_mode": {
    "name": "ipython",
    "version": 3
   },
   "file_extension": ".py",
   "mimetype": "text/x-python",
   "name": "python",
   "nbconvert_exporter": "python",
   "pygments_lexer": "ipython3",
   "version": "3.11.9"
  }
 },
 "nbformat": 4,
 "nbformat_minor": 5
}
