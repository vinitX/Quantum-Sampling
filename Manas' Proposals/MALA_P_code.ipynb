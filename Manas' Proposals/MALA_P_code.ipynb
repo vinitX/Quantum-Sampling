{
 "cells": [
  {
   "cell_type": "code",
   "execution_count": 1,
   "id": "a7ff29ae-43cb-4557-8c72-f92582169082",
   "metadata": {},
   "outputs": [
    {
     "data": {
      "text/plain": [
       "\"c:\\\\Users\\\\vinit\\\\Downloads\\\\Research\\\\Quantum-Sampling\\\\Manas' Proposals\""
      ]
     },
     "execution_count": 1,
     "metadata": {},
     "output_type": "execute_result"
    }
   ],
   "source": [
    "#from pyscf import gto, scf, fci, lo\n",
    "#import netket as nk; import netket.experimental as nkx\n",
    "import numpy as np\n",
    "import time\n",
    "#import itertools\n",
    "#import qiskit\n",
    "#from qiskit.quantum_info import Pauli, SparsePauliOp\n",
    "from collections import defaultdict\n",
    "#import tensorflow as tf\n",
    "#import sys\n",
    "import os\n",
    "import pandas as pd\n",
    "#import itertools\n",
    "from itertools import product\n",
    "import matplotlib.pyplot as plt\n",
    "#sys.path.append(os.path.dirname(os.getcwd()) + \"/SAMPLER_LOCAL_IMPORT\")\n",
    "#from Sampling_Quantum import *\n",
    "#from New_MCMC_Proposal import *\n",
    "#sys.path.append(os.getcwd() + \"/Code_download_Bell_2\")\n",
    "from MCMC_funs_Leyden import *\n",
    "\n",
    "#print(qiskit.version.get_version_info())\n",
    "os.getcwd()"
   ]
  },
  {
   "cell_type": "code",
   "execution_count": null,
   "id": "c0c16698",
   "metadata": {},
   "outputs": [],
   "source": []
  },
  {
   "cell_type": "code",
   "execution_count": 2,
   "id": "b61c6d12-f2be-40af-92a7-ef64965dabfb",
   "metadata": {},
   "outputs": [],
   "source": [
    "def all_configs(n):\n",
    "    return [np.array(v) for v in product([-1, 1], repeat=n)]\n",
    "\n",
    "\n",
    "\n",
    "def Sampling_MCMC_trajectories(problem_inst, Transition_matrix, sample_size=10000, \n",
    "                               burn=1000, method='Quantum', init_config=None):\n",
    "\n",
    "    n = problem_inst.n\n",
    "    beta = problem_inst.T\n",
    "    prob_dist = np.zeros(2**n)\n",
    "\n",
    "    #exact_dist = np.exp(-beta * Proposal_object.Energy_array)\n",
    "    #exact_dist = exact_dist / np.sum(exact_dist)\n",
    "\n",
    "    #err_hist = []\n",
    "    key_list = []\n",
    "\n",
    "    if init_config==None:\n",
    "        s = np.random.choice([1,-1],size=n)\n",
    "    else: s = init_config\n",
    "\n",
    "    int_key = spinconf2int(s)\n",
    "    #print(int_key)\n",
    "    \n",
    "    for k in range(burn):\n",
    "        #s = Proposal_object.generate_MCMC_trajectories(Transition_matrix, s)\n",
    "         int_key = generate_move(transition_mat=Transition_matrix, state=int_key)\n",
    "\n",
    "    for k in range(sample_size):\n",
    "        #s = Proposal_object.generate_MCMC_trajectories(Transition_matrix, s)\n",
    "        int_key = generate_move(transition_mat=Transition_matrix, state=int_key)\n",
    "        #key = spinconf2int(s)\n",
    "        prob_dist[int_key] +=1\n",
    "        key_list.append(int_key)\n",
    "\n",
    "    \n",
    "    return np.flip(prob_dist/np.sum(prob_dist)), key_list"
   ]
  },
  {
   "cell_type": "code",
   "execution_count": 3,
   "id": "9517ed1a",
   "metadata": {},
   "outputs": [],
   "source": [
    "def normalize_transition_matrix(T, eps=1e-12, verbose=False):\n",
    "    T = T.copy()\n",
    "    T[T < 0] = 0.0\n",
    "    col_sums = T.sum(axis=0)\n",
    "    bad = np.abs(col_sums) <= eps\n",
    "    good = ~bad\n",
    "    if np.any(good):\n",
    "        T[:, good] /= col_sums[None, good]\n",
    "    if np.any(bad):\n",
    "        T[:, bad] = 1.0 / T.shape[0]\n",
    "        if verbose:\n",
    "            print(f\"{bad.sum()} columns had near-zero sum. Reset to uniform.\")\n",
    "    return T\n",
    "\n",
    "\n",
    "def Cov_computer(sample_vector_stacks):\n",
    "    #sample_vector_stacks is a row-wise stack of last k sample vectors. Each sample vector of length n\n",
    "    X = np.asarray(sample_vector_stacks, dtype=float)\n",
    "    #print(X)\n",
    "    if X.shape[0] <= 1:\n",
    "        return np.eye(X.shape[1])\n",
    "    mean = X.mean(axis=0)\n",
    "    #print(np.tile(mean, (X.shape[0],1)))\n",
    "    diffs = X - np.tile(mean, (X.shape[0],1))\n",
    "    return (diffs.T @ diffs) / (X.shape[0] - 1)\n"
   ]
  },
  {
   "cell_type": "markdown",
   "id": "d9747c21",
   "metadata": {},
   "source": [
    "## Non-Vectorized Code"
   ]
  },
  {
   "cell_type": "code",
   "execution_count": 4,
   "id": "7f4b3a66",
   "metadata": {},
   "outputs": [],
   "source": [
    "def grad_U_mala(x, J, h, alpha):\n",
    "    v = np.tanh(alpha * x)\n",
    "    sech_sq = 1.0 * (1 - v ** 2)\n",
    "    return alpha * sech_sq * (h + 2 * J @ v)\n",
    "\n",
    "\n",
    "def normal_dist_logpdf(y, mean, P, epsilon):\n",
    "    diff = y - mean\n",
    "    z = np.linalg.solve(P, diff)          # P z = diff  z = P^-1 diff\n",
    "    quad_form = float(z @ z)\n",
    "    logdet = 2.0*np.sum(np.log(np.diag(P))) + 2.0*y.size*np.log(epsilon)\n",
    "    return -0.5 * (y.size * np.log(2.0 * np.pi) + logdet + (epsilon**(-2))*quad_form)\n",
    "\n",
    "\n",
    "def adaptive_MALA_step_new(x, P, cov, epsilon, problem_inst, alpha=3.0):\n",
    "    J_Q = problem_inst.J_quantum\n",
    "    h_Q = problem_inst.h_quantum\n",
    "\n",
    "    mean_shift_at_xnew = x + (0.5*epsilon**2) * problem_inst.T * cov @ grad_U_mala(x, J_Q, h_Q, alpha)\n",
    "\n",
    "    #white_noise_term = np.random.multivariate_normal(np.zeros(len(x)), epsilon**2 * np.dot(P, np.conjugate(P).T))\n",
    "    x_new = np.random.multivariate_normal(mean=mean_shift_at_xnew, cov=epsilon**2 * np.dot(P, np.conjugate(P).T), size=1)[0]\n",
    "    #print(x_new)\n",
    "\n",
    "    mean_shift_at_xold = x_new + (0.5*epsilon**2) * problem_inst.T * cov @ grad_U_mala(x_new, J_Q, h_Q, alpha)\n",
    "\n",
    "    v_old = np.sign(np.tanh(alpha * x))\n",
    "    v_new = np.sign(np.tanh(alpha * x_new))\n",
    "    E_old = problem_inst.E_arr[::-1][spinconf2int(v_old)]\n",
    "    E_new = problem_inst.E_arr[::-1][spinconf2int(v_new)]\n",
    "\n",
    "    log_prop_dist_fwd = normal_dist_logpdf(x_new, mean_shift_at_xnew, P, epsilon)\n",
    "    log_prop_dist_rev = normal_dist_logpdf(x, mean_shift_at_xold, P, epsilon)\n",
    "\n",
    "    log_accept_ratio = -problem_inst.T * (E_new - E_old) + (log_prop_dist_rev - log_prop_dist_fwd)\n",
    "    accept_prob = min(1.0, np.exp(log_accept_ratio))\n",
    "\n",
    "    if np.random.rand() < accept_prob:\n",
    "        return x_new, v_new\n",
    "    else:\n",
    "        return x, v_old\n",
    "\n",
    "\n",
    "def adaptive_MALA_T_matrix(problem_inst, alpha=3.0, epsilon=0.3, num_samples=500):\n",
    "    from tqdm import tqdm\n",
    "\n",
    "    n = problem_inst.n\n",
    "    #beta = problem_inst.T\n",
    "\n",
    "    configs = all_configs(n)\n",
    "    idx_map = {tuple(c): i for i, c in enumerate(configs)}\n",
    "    T = np.zeros((1 << n, 1 << n))\n",
    "\n",
    "    burn_in = 1000\n",
    "\n",
    "    for v in tqdm(configs, desc=\"Building T matrix\"):\n",
    "        x = np.arctanh(np.clip(v, -0.999, 0.999)) / alpha\n",
    "        cov = np.eye(n)\n",
    "        P = np.eye(n)\n",
    "\n",
    "        counts = defaultdict(int)\n",
    "\n",
    "        v_samples = []\n",
    "        x_samples = []\n",
    "        adapt_window = 20\n",
    "\n",
    "        tmg = time.time()\n",
    "\n",
    "        for step in range(1, num_samples+1):\n",
    "            x, v_new = adaptive_MALA_step_new(x, P, cov, epsilon, problem_inst, alpha=3.0)\n",
    "\n",
    "            v_samples.append(v_new)\n",
    "            x_samples.append(x)\n",
    "\n",
    "            key = tuple(v_new.astype(int))\n",
    "            counts[key] = counts.get(key, 0) + 1\n",
    "\n",
    "            if (step) % adapt_window == 0 and step > 200 and step <= burn_in:\n",
    "                if len(x_samples) >= 80:\n",
    "                    #x_hist = np.array([np.arctanh(np.clip(np.tanh(alpha * x0), -0.999, 0.999)) / alpha for x0 in v_samples[-50:]])\n",
    "                    x_hist = [x for x in x_samples[-80:]]\n",
    "\n",
    "                else:\n",
    "                    #x_hist = np.array([np.arctanh(np.clip(np.tanh(alpha * x0), -0.999, 0.999)) / alpha for x0 in v_samples])\n",
    "                    x_hist = [x for x in x_samples[:]]\n",
    "\n",
    "\n",
    "                cov_new = Cov_computer(x_hist)\n",
    "                gamma = 0.1             # diminishing\n",
    "                cov = (1.0 - gamma) * cov_new + gamma * cov\n",
    "                cov = 0.5 * (cov + cov.T)\n",
    "                cov = cov + 1e-5 * np.eye(len(x))\n",
    "                P = np.linalg.cholesky(cov) \n",
    "\n",
    "        i = idx_map[tuple(v)]\n",
    "        total = sum(counts.values())\n",
    "\n",
    "        for v_prime, c in counts.items():\n",
    "            j = idx_map[v_prime]\n",
    "\n",
    "            if j != i :\n",
    "                T[j, i] = c / total\n",
    "\n",
    "        T[i,i] = 1-sum(T[:,i])\n",
    "\n",
    "    T = normalize_transition_matrix(T, eps=1e-12, verbose=True)\n",
    "\n",
    "    return T\n",
    "\n"
   ]
  },
  {
   "cell_type": "markdown",
   "id": "00f32877",
   "metadata": {},
   "source": [
    "## Vectorized Code"
   ]
  },
  {
   "cell_type": "code",
   "execution_count": 5,
   "id": "e121bd29",
   "metadata": {},
   "outputs": [],
   "source": [
    "def grad_U_mala_batch(X, J, H, alpha):\n",
    "    V = np.tanh(alpha * X)                      # (B, n)\n",
    "    sech_sq = 1.0 - V**2                        # (B, n)\n",
    "    return alpha * sech_sq * (H[None, :] + 2.0 * V @ J.T)\n",
    "\n",
    "def normal_dist_logpdf_batch(Y, Mean, P, epsilon):\n",
    "    B, n = Y.shape\n",
    "    diff = (Y - Mean)                            # (B, n)\n",
    "\n",
    "    Z = np.linalg.solve(P, diff.T)               # (n, B)\n",
    "    quad = np.sum(Z * Z, axis=0)                 # (B,)\n",
    "\n",
    "    logdet = 2.0 * np.sum(np.log(np.diag(P))) + 2.0 * n * np.log(epsilon)  # scalar\n",
    "    return -0.5 * (n * np.log(2.0 * np.pi) + logdet + (epsilon**(-2)) * quad)\n",
    "\n",
    "def spins_to_index(V):\n",
    "    \"\"\"\n",
    "    V: (B, n) spins in {-1, +1}\n",
    "    Returns (B,) indices \n",
    "    \"\"\"\n",
    "    V = np.asarray(V)\n",
    "    bits = (V < 0).astype(np.int64)                 # +1 -> 0, -1 -> 1\n",
    "    n = V.shape[1]\n",
    "    weights = (1 << np.arange(n-1, -1, -1, dtype=np.int64))  # MSB at column 0\n",
    "    return bits @ weights\n",
    "\n",
    "\n",
    "# ---------- Batched MALA step ----------\n",
    "\n",
    "def adaptive_MALA_step_new_batch(X, P, cov, epsilon, problem_inst, alpha=3.0):\n",
    "    B, n = X.shape\n",
    "    Tinv = problem_inst.T \n",
    "    J_Q = problem_inst.J_quantum\n",
    "    h_Q = problem_inst.h_quantum\n",
    "\n",
    "    grad_X = grad_U_mala_batch(X, J_Q, h_Q, alpha)                 # (B, n)\n",
    "    mean_fwd = X + 0.5 * (epsilon**2) * Tinv * (grad_X @ cov.T)  # (B, n)\n",
    "\n",
    "    # ----- Sample proposal with shared covariance epsilon^2 * P P^T -----\n",
    "    # Draw Z ~ N(0, I), then X_new = mean_fwd + epsilon * Z @ P^T\n",
    "    Z = np.random.randn(B, n)\n",
    "    X_new = mean_fwd + epsilon * (Z @ P.T)                          # (B, n)\n",
    "\n",
    "    grad_Xnew = grad_U_mala_batch(X_new, J_Q, h_Q, alpha)           # (B, n)\n",
    "    mean_rev = X_new + 0.5 * (epsilon**2) * Tinv * (grad_Xnew @ cov.T)\n",
    "\n",
    "    V_old = np.sign(np.tanh(alpha * X))                             # (B, n), in {-1, +1}\n",
    "    V_new = np.sign(np.tanh(alpha * X_new))\n",
    "\n",
    "    idx_old = spins_to_index(V_old)\n",
    "    idx_new = spins_to_index(V_new)\n",
    "    E_table = problem_inst.E_arr[::-1]                    \n",
    "    E_old = E_table[idx_old]                                        \n",
    "    E_new = E_table[idx_new]                                        \n",
    "\n",
    "    log_q_fwd = normal_dist_logpdf_batch(X_new, mean_fwd, P, epsilon)    \n",
    "    log_q_rev = normal_dist_logpdf_batch(X,     mean_rev, P, epsilon)    \n",
    "\n",
    "    log_acc = -Tinv * (E_new - E_old) + (log_q_rev - log_q_fwd)     \n",
    "    acc_prob = np.clip(np.exp(np.minimum(0.0, log_acc)), 0.0, 1.0)  \n",
    "    accept_mask = (np.random.rand(B) < acc_prob)\n",
    "\n",
    "    # Apply accepts with boolean mask\n",
    "    X_next = np.where(accept_mask[:, None], X_new, X)\n",
    "    V_next = np.where(accept_mask[:, None], V_new, V_old)\n",
    "\n",
    "    return X_next, V_next\n",
    "\n",
    "\n",
    "\n",
    "def adaptive_MALA_T_matrix_vec(problem_inst, alpha=3.0, epsilon=0.3, num_samples=500):\n",
    "    from tqdm import tqdm\n",
    "\n",
    "    n = problem_inst.n\n",
    "\n",
    "    V = all_configs(n)\n",
    "    origin_idx = spins_to_index(V)   \n",
    "    #print(origin_idx)\n",
    "\n",
    "    burn_in = 1000\n",
    "\n",
    "    X = np.arctanh(np.clip(V, -0.999, 0.999)) / alpha\n",
    "    cov = np.eye(n)\n",
    "    P = np.eye(n)\n",
    "\n",
    "    counts = defaultdict(int)\n",
    "    counts_mat = np.zeros((1<<n, 1<<n), dtype=np.int64)\n",
    "\n",
    "    adapt_window = 20\n",
    "    cov_samples = 20                                  # keep last K samples for covariance computation\n",
    "\n",
    "    # --- rolling buffer of shape (K, B, n) ---\n",
    "    buffer = np.empty((cov_samples, 2**n, n), dtype=float)\n",
    "    buf_idx = 0          # next write position\n",
    "\n",
    "    tmg = time.time()\n",
    "\n",
    "    for step in tqdm(range(1, num_samples+1)):\n",
    "        X, V = adaptive_MALA_step_new_batch(X, P, cov, epsilon, problem_inst, alpha=3.0)\n",
    "        dest_idx = spins_to_index(V)    \n",
    "        #x, v_new = adaptive_MALA_step_new(x, P, cov, epsilon, problem_inst, alpha=3.0)\n",
    "\n",
    "        if step > num_samples // 10:  ## Burn-in for counts_mat\n",
    "            np.add.at(counts_mat, (dest_idx, origin_idx), 1)\n",
    "\n",
    "        buffer[buf_idx] = X\n",
    "        buf_idx = (buf_idx + 1) % cov_samples\n",
    "\n",
    "        # update counts (vectorized)\n",
    "        uniq, cnts = np.unique(V.astype(int), axis=0, return_counts=True)\n",
    "        for row, c in zip(uniq, cnts):\n",
    "            counts[tuple(row.tolist())] = counts.get(tuple(row.tolist()), 0) + int(c)\n",
    "\n",
    "        # adapt covariance on schedule\n",
    "        if (step % adapt_window == 0) and (step > 100) and (step <= burn_in):\n",
    "            X_hist = buffer.reshape(-1, n)                           # ((cov_samples*B), n)\n",
    "            cov_new = Cov_computer(X_hist)\n",
    "            gamma = 0.1\n",
    "            cov = (1.0 - gamma) * cov_new + gamma * cov\n",
    "            cov = 0.5 * (cov + cov.T)\n",
    "            cov += 1e-6 * np.eye(n)                                  # for stability\n",
    "            P = np.linalg.cholesky(cov)\n",
    "\n",
    "    # plt.hist(dest_idx)\n",
    "    # plt.show()\n",
    "\n",
    "    print(\"\\t\\tTotal time for config:\", time.time()-tmg)\n",
    "\n",
    "    T = normalize_transition_matrix(np.array(counts_mat, dtype=float), eps=1e-12, verbose=True)\n",
    "\n",
    "    return T"
   ]
  },
  {
   "cell_type": "code",
   "execution_count": null,
   "id": "b0e6fc0a",
   "metadata": {},
   "outputs": [],
   "source": []
  },
  {
   "cell_type": "code",
   "execution_count": 6,
   "id": "7cc36a91-7a55-49db-9870-dd9c8f9e7d30",
   "metadata": {},
   "outputs": [
    {
     "name": "stdout",
     "output_type": "stream",
     "text": [
      "2000\n",
      "Starting problem instance 1 of 2000 with n = 3\n"
     ]
    },
    {
     "name": "stderr",
     "output_type": "stream",
     "text": [
      "100%|██████████| 1000/1000 [00:01<00:00, 663.71it/s]\n"
     ]
    },
    {
     "name": "stdout",
     "output_type": "stream",
     "text": [
      "\t\tTotal time for config: 1.5466265678405762\n",
      "Instance 1, T = 1.0, Proposal = MALA_MC, Acceptance = metropolis, Gap = 0.6886\n",
      "Starting problem instance 2 of 2000 with n = 4\n"
     ]
    },
    {
     "name": "stderr",
     "output_type": "stream",
     "text": [
      "100%|██████████| 1000/1000 [00:02<00:00, 449.42it/s]\n"
     ]
    },
    {
     "name": "stdout",
     "output_type": "stream",
     "text": [
      "\t\tTotal time for config: 2.2328081130981445\n",
      "Instance 2, T = 1.0, Proposal = MALA_MC, Acceptance = metropolis, Gap = 0.1582\n",
      "Starting problem instance 3 of 2000 with n = 5\n"
     ]
    },
    {
     "name": "stderr",
     "output_type": "stream",
     "text": [
      "100%|██████████| 1000/1000 [00:02<00:00, 364.76it/s]\n"
     ]
    },
    {
     "name": "stdout",
     "output_type": "stream",
     "text": [
      "\t\tTotal time for config: 2.7414934635162354\n",
      "Instance 3, T = 1.0, Proposal = MALA_MC, Acceptance = metropolis, Gap = 0.6923\n",
      "Starting problem instance 4 of 2000 with n = 6\n"
     ]
    },
    {
     "name": "stderr",
     "output_type": "stream",
     "text": [
      "100%|██████████| 1000/1000 [00:02<00:00, 368.52it/s]\n"
     ]
    },
    {
     "name": "stdout",
     "output_type": "stream",
     "text": [
      "\t\tTotal time for config: 2.7164952754974365\n",
      "Instance 4, T = 1.0, Proposal = MALA_MC, Acceptance = metropolis, Gap = 0.0002\n",
      "Starting problem instance 5 of 2000 with n = 7\n"
     ]
    },
    {
     "name": "stderr",
     "output_type": "stream",
     "text": [
      "100%|██████████| 1000/1000 [00:02<00:00, 339.89it/s]\n"
     ]
    },
    {
     "name": "stdout",
     "output_type": "stream",
     "text": [
      "\t\tTotal time for config: 2.942098379135132\n",
      "Instance 5, T = 1.0, Proposal = MALA_MC, Acceptance = metropolis, Gap = 0.0000\n",
      "Warning: Gap is very small, may be inaccurate.\n",
      "Starting problem instance 6 of 2000 with n = 8\n"
     ]
    },
    {
     "name": "stderr",
     "output_type": "stream",
     "text": [
      "100%|██████████| 1000/1000 [00:03<00:00, 273.89it/s]\n"
     ]
    },
    {
     "name": "stdout",
     "output_type": "stream",
     "text": [
      "\t\tTotal time for config: 3.65112042427063\n",
      "Instance 6, T = 1.0, Proposal = MALA_MC, Acceptance = metropolis, Gap = 0.0001\n",
      "Starting problem instance 7 of 2000 with n = 9\n"
     ]
    },
    {
     "name": "stderr",
     "output_type": "stream",
     "text": [
      "100%|██████████| 1000/1000 [00:04<00:00, 231.18it/s]\n"
     ]
    },
    {
     "name": "stdout",
     "output_type": "stream",
     "text": [
      "\t\tTotal time for config: 4.332929849624634\n",
      "Instance 7, T = 1.0, Proposal = MALA_MC, Acceptance = metropolis, Gap = 0.0000\n",
      "Warning: Gap is very small, may be inaccurate.\n",
      "Starting problem instance 8 of 2000 with n = 10\n"
     ]
    },
    {
     "name": "stderr",
     "output_type": "stream",
     "text": [
      "100%|██████████| 1000/1000 [00:07<00:00, 131.98it/s]\n"
     ]
    },
    {
     "name": "stdout",
     "output_type": "stream",
     "text": [
      "\t\tTotal time for config: 7.576950788497925\n",
      "Instance 8, T = 1.0, Proposal = MALA_MC, Acceptance = metropolis, Gap = 0.0000\n",
      "Warning: Gap is very small, may be inaccurate.\n",
      "Starting problem instance 9 of 2000 with n = 3\n"
     ]
    },
    {
     "name": "stderr",
     "output_type": "stream",
     "text": [
      "100%|██████████| 1000/1000 [00:00<00:00, 1370.46it/s]\n"
     ]
    },
    {
     "name": "stdout",
     "output_type": "stream",
     "text": [
      "\t\tTotal time for config: 0.7303097248077393\n",
      "Instance 9, T = 1.0, Proposal = MALA_MC, Acceptance = metropolis, Gap = 0.2526\n",
      "Starting problem instance 10 of 2000 with n = 4\n"
     ]
    },
    {
     "name": "stderr",
     "output_type": "stream",
     "text": [
      "100%|██████████| 1000/1000 [00:00<00:00, 1005.08it/s]\n"
     ]
    },
    {
     "name": "stdout",
     "output_type": "stream",
     "text": [
      "\t\tTotal time for config: 0.9996628761291504\n",
      "Instance 10, T = 1.0, Proposal = MALA_MC, Acceptance = metropolis, Gap = 0.0000\n",
      "Warning: Gap is very small, may be inaccurate.\n",
      "Starting problem instance 11 of 2000 with n = 5\n"
     ]
    },
    {
     "name": "stderr",
     "output_type": "stream",
     "text": [
      "100%|██████████| 1000/1000 [00:02<00:00, 431.89it/s]\n"
     ]
    },
    {
     "name": "stdout",
     "output_type": "stream",
     "text": [
      "\t\tTotal time for config: 2.3332977294921875\n",
      "Instance 11, T = 1.0, Proposal = MALA_MC, Acceptance = metropolis, Gap = 0.0000\n",
      "Warning: Gap is very small, may be inaccurate.\n",
      "Starting problem instance 12 of 2000 with n = 6\n"
     ]
    },
    {
     "name": "stderr",
     "output_type": "stream",
     "text": [
      "100%|██████████| 1000/1000 [00:02<00:00, 409.41it/s]\n"
     ]
    },
    {
     "name": "stdout",
     "output_type": "stream",
     "text": [
      "\t\tTotal time for config: 2.446381092071533\n",
      "Instance 12, T = 1.0, Proposal = MALA_MC, Acceptance = metropolis, Gap = 0.0000\n",
      "Warning: Gap is very small, may be inaccurate.\n",
      "Starting problem instance 13 of 2000 with n = 7\n"
     ]
    },
    {
     "name": "stderr",
     "output_type": "stream",
     "text": [
      "100%|██████████| 1000/1000 [00:02<00:00, 422.58it/s]\n"
     ]
    },
    {
     "name": "stdout",
     "output_type": "stream",
     "text": [
      "\t\tTotal time for config: 2.3664028644561768\n",
      "Instance 13, T = 1.0, Proposal = MALA_MC, Acceptance = metropolis, Gap = 0.0000\n",
      "Warning: Gap is very small, may be inaccurate.\n",
      "Starting problem instance 14 of 2000 with n = 8\n"
     ]
    },
    {
     "name": "stderr",
     "output_type": "stream",
     "text": [
      "100%|██████████| 1000/1000 [00:02<00:00, 356.11it/s]\n"
     ]
    },
    {
     "name": "stdout",
     "output_type": "stream",
     "text": [
      "\t\tTotal time for config: 2.8081161975860596\n",
      "Instance 14, T = 1.0, Proposal = MALA_MC, Acceptance = metropolis, Gap = 0.0000\n",
      "Warning: Gap is very small, may be inaccurate.\n",
      "Starting problem instance 15 of 2000 with n = 9\n"
     ]
    },
    {
     "name": "stderr",
     "output_type": "stream",
     "text": [
      "100%|██████████| 1000/1000 [00:04<00:00, 233.94it/s]\n"
     ]
    },
    {
     "name": "stdout",
     "output_type": "stream",
     "text": [
      "\t\tTotal time for config: 4.274574518203735\n",
      "Instance 15, T = 1.0, Proposal = MALA_MC, Acceptance = metropolis, Gap = 0.0000\n",
      "Warning: Gap is very small, may be inaccurate.\n",
      "Starting problem instance 16 of 2000 with n = 10\n"
     ]
    },
    {
     "name": "stderr",
     "output_type": "stream",
     "text": [
      "100%|██████████| 1000/1000 [00:07<00:00, 136.72it/s]\n"
     ]
    },
    {
     "name": "stdout",
     "output_type": "stream",
     "text": [
      "\t\tTotal time for config: 7.321842193603516\n",
      "Instance 16, T = 1.0, Proposal = MALA_MC, Acceptance = metropolis, Gap = 0.0000\n",
      "Warning: Gap is very small, may be inaccurate.\n",
      "Starting problem instance 17 of 2000 with n = 3\n"
     ]
    },
    {
     "name": "stderr",
     "output_type": "stream",
     "text": [
      "100%|██████████| 1000/1000 [00:01<00:00, 800.12it/s]\n"
     ]
    },
    {
     "name": "stdout",
     "output_type": "stream",
     "text": [
      "\t\tTotal time for config: 1.2498183250427246\n",
      "Instance 17, T = 1.0, Proposal = MALA_MC, Acceptance = metropolis, Gap = 0.0002\n",
      "Starting problem instance 18 of 2000 with n = 4\n"
     ]
    },
    {
     "name": "stderr",
     "output_type": "stream",
     "text": [
      "100%|██████████| 1000/1000 [00:01<00:00, 583.25it/s]\n"
     ]
    },
    {
     "name": "stdout",
     "output_type": "stream",
     "text": [
      "\t\tTotal time for config: 1.7175452709197998\n",
      "Instance 18, T = 1.0, Proposal = MALA_MC, Acceptance = metropolis, Gap = 0.7315\n",
      "Starting problem instance 19 of 2000 with n = 5\n"
     ]
    },
    {
     "name": "stderr",
     "output_type": "stream",
     "text": [
      "100%|██████████| 1000/1000 [00:01<00:00, 518.27it/s]\n"
     ]
    },
    {
     "name": "stdout",
     "output_type": "stream",
     "text": [
      "\t\tTotal time for config: 1.9312636852264404\n",
      "Instance 19, T = 1.0, Proposal = MALA_MC, Acceptance = metropolis, Gap = 0.5554\n",
      "Starting problem instance 20 of 2000 with n = 6\n"
     ]
    },
    {
     "name": "stderr",
     "output_type": "stream",
     "text": [
      "100%|██████████| 1000/1000 [00:02<00:00, 445.63it/s]\n"
     ]
    },
    {
     "name": "stdout",
     "output_type": "stream",
     "text": [
      "\t\tTotal time for config: 2.2460110187530518\n",
      "Instance 20, T = 1.0, Proposal = MALA_MC, Acceptance = metropolis, Gap = 0.1386\n",
      "Starting problem instance 21 of 2000 with n = 7\n"
     ]
    },
    {
     "name": "stderr",
     "output_type": "stream",
     "text": [
      "100%|██████████| 1000/1000 [00:01<00:00, 505.96it/s]\n"
     ]
    },
    {
     "name": "stdout",
     "output_type": "stream",
     "text": [
      "\t\tTotal time for config: 1.9841728210449219\n",
      "Instance 21, T = 1.0, Proposal = MALA_MC, Acceptance = metropolis, Gap = 0.0000\n",
      "Warning: Gap is very small, may be inaccurate.\n",
      "Starting problem instance 22 of 2000 with n = 8\n"
     ]
    },
    {
     "name": "stderr",
     "output_type": "stream",
     "text": [
      "100%|██████████| 1000/1000 [00:02<00:00, 383.04it/s]\n"
     ]
    },
    {
     "name": "stdout",
     "output_type": "stream",
     "text": [
      "\t\tTotal time for config: 2.6123385429382324\n",
      "Instance 22, T = 1.0, Proposal = MALA_MC, Acceptance = metropolis, Gap = 0.0000\n",
      "Warning: Gap is very small, may be inaccurate.\n",
      "Starting problem instance 23 of 2000 with n = 9\n"
     ]
    },
    {
     "name": "stderr",
     "output_type": "stream",
     "text": [
      "100%|██████████| 1000/1000 [00:04<00:00, 248.48it/s]\n"
     ]
    },
    {
     "name": "stdout",
     "output_type": "stream",
     "text": [
      "\t\tTotal time for config: 4.024434328079224\n",
      "Instance 23, T = 1.0, Proposal = MALA_MC, Acceptance = metropolis, Gap = 0.0000\n",
      "Warning: Gap is very small, may be inaccurate.\n",
      "Starting problem instance 24 of 2000 with n = 10\n"
     ]
    },
    {
     "name": "stderr",
     "output_type": "stream",
     "text": [
      "100%|██████████| 1000/1000 [00:07<00:00, 141.16it/s]\n"
     ]
    },
    {
     "name": "stdout",
     "output_type": "stream",
     "text": [
      "\t\tTotal time for config: 7.084197044372559\n",
      "Instance 24, T = 1.0, Proposal = MALA_MC, Acceptance = metropolis, Gap = 0.0000\n",
      "Warning: Gap is very small, may be inaccurate.\n",
      "Starting problem instance 25 of 2000 with n = 3\n"
     ]
    },
    {
     "name": "stderr",
     "output_type": "stream",
     "text": [
      "100%|██████████| 1000/1000 [00:01<00:00, 804.72it/s]\n"
     ]
    },
    {
     "name": "stdout",
     "output_type": "stream",
     "text": [
      "\t\tTotal time for config: 1.2426724433898926\n",
      "Instance 25, T = 1.0, Proposal = MALA_MC, Acceptance = metropolis, Gap = 0.7539\n",
      "Starting problem instance 26 of 2000 with n = 4\n"
     ]
    },
    {
     "name": "stderr",
     "output_type": "stream",
     "text": [
      "100%|██████████| 1000/1000 [00:01<00:00, 612.02it/s]\n"
     ]
    },
    {
     "name": "stdout",
     "output_type": "stream",
     "text": [
      "\t\tTotal time for config: 1.6339442729949951\n",
      "Instance 26, T = 1.0, Proposal = MALA_MC, Acceptance = metropolis, Gap = 0.6421\n",
      "Starting problem instance 27 of 2000 with n = 5\n"
     ]
    },
    {
     "name": "stderr",
     "output_type": "stream",
     "text": [
      "100%|██████████| 1000/1000 [00:02<00:00, 477.12it/s]\n"
     ]
    },
    {
     "name": "stdout",
     "output_type": "stream",
     "text": [
      "\t\tTotal time for config: 2.1143016815185547\n",
      "Instance 27, T = 1.0, Proposal = MALA_MC, Acceptance = metropolis, Gap = 0.0874\n",
      "Starting problem instance 28 of 2000 with n = 6\n"
     ]
    },
    {
     "name": "stderr",
     "output_type": "stream",
     "text": [
      "100%|██████████| 1000/1000 [00:01<00:00, 503.33it/s]\n"
     ]
    },
    {
     "name": "stdout",
     "output_type": "stream",
     "text": [
      "\t\tTotal time for config: 1.995008945465088\n",
      "Instance 28, T = 1.0, Proposal = MALA_MC, Acceptance = metropolis, Gap = 0.5766\n",
      "Starting problem instance 29 of 2000 with n = 7\n"
     ]
    },
    {
     "name": "stderr",
     "output_type": "stream",
     "text": [
      "100%|██████████| 1000/1000 [00:03<00:00, 312.70it/s]\n"
     ]
    },
    {
     "name": "stdout",
     "output_type": "stream",
     "text": [
      "\t\tTotal time for config: 3.1979854106903076\n",
      "Instance 29, T = 1.0, Proposal = MALA_MC, Acceptance = metropolis, Gap = 0.3324\n",
      "Starting problem instance 30 of 2000 with n = 8\n"
     ]
    },
    {
     "name": "stderr",
     "output_type": "stream",
     "text": [
      "100%|██████████| 1000/1000 [00:03<00:00, 293.47it/s]\n"
     ]
    },
    {
     "name": "stdout",
     "output_type": "stream",
     "text": [
      "\t\tTotal time for config: 3.4075052738189697\n",
      "Instance 30, T = 1.0, Proposal = MALA_MC, Acceptance = metropolis, Gap = 0.0000\n",
      "Warning: Gap is very small, may be inaccurate.\n",
      "Starting problem instance 31 of 2000 with n = 9\n"
     ]
    },
    {
     "name": "stderr",
     "output_type": "stream",
     "text": [
      "100%|██████████| 1000/1000 [00:04<00:00, 206.20it/s]\n"
     ]
    },
    {
     "name": "stdout",
     "output_type": "stream",
     "text": [
      "\t\tTotal time for config: 4.849598169326782\n",
      "Instance 31, T = 1.0, Proposal = MALA_MC, Acceptance = metropolis, Gap = 0.0000\n",
      "Warning: Gap is very small, may be inaccurate.\n",
      "Starting problem instance 32 of 2000 with n = 10\n"
     ]
    },
    {
     "name": "stderr",
     "output_type": "stream",
     "text": [
      "100%|██████████| 1000/1000 [00:07<00:00, 133.37it/s]\n"
     ]
    },
    {
     "name": "stdout",
     "output_type": "stream",
     "text": [
      "\t\tTotal time for config: 7.497911214828491\n",
      "Instance 32, T = 1.0, Proposal = MALA_MC, Acceptance = metropolis, Gap = 0.0000\n",
      "Warning: Gap is very small, may be inaccurate.\n",
      "Starting problem instance 33 of 2000 with n = 3\n"
     ]
    },
    {
     "name": "stderr",
     "output_type": "stream",
     "text": [
      "100%|██████████| 1000/1000 [00:01<00:00, 718.57it/s]\n"
     ]
    },
    {
     "name": "stdout",
     "output_type": "stream",
     "text": [
      "\t\tTotal time for config: 1.3956260681152344\n",
      "Instance 33, T = 1.0, Proposal = MALA_MC, Acceptance = metropolis, Gap = 0.4756\n",
      "Starting problem instance 34 of 2000 with n = 4\n"
     ]
    },
    {
     "name": "stderr",
     "output_type": "stream",
     "text": [
      "100%|██████████| 1000/1000 [00:01<00:00, 517.29it/s]\n"
     ]
    },
    {
     "name": "stdout",
     "output_type": "stream",
     "text": [
      "\t\tTotal time for config: 1.933133840560913\n",
      "Instance 34, T = 1.0, Proposal = MALA_MC, Acceptance = metropolis, Gap = 0.7137\n",
      "Starting problem instance 35 of 2000 with n = 5\n"
     ]
    },
    {
     "name": "stderr",
     "output_type": "stream",
     "text": [
      "100%|██████████| 1000/1000 [00:02<00:00, 450.30it/s]\n"
     ]
    },
    {
     "name": "stdout",
     "output_type": "stream",
     "text": [
      "\t\tTotal time for config: 2.2207469940185547\n",
      "Instance 35, T = 1.0, Proposal = MALA_MC, Acceptance = metropolis, Gap = 0.6649\n",
      "Starting problem instance 36 of 2000 with n = 6\n"
     ]
    },
    {
     "name": "stderr",
     "output_type": "stream",
     "text": [
      "100%|██████████| 1000/1000 [00:02<00:00, 356.16it/s]\n"
     ]
    },
    {
     "name": "stdout",
     "output_type": "stream",
     "text": [
      "\t\tTotal time for config: 2.807727336883545\n",
      "Instance 36, T = 1.0, Proposal = MALA_MC, Acceptance = metropolis, Gap = 0.4849\n",
      "Starting problem instance 37 of 2000 with n = 7\n"
     ]
    },
    {
     "name": "stderr",
     "output_type": "stream",
     "text": [
      "100%|██████████| 1000/1000 [00:03<00:00, 321.67it/s]\n"
     ]
    },
    {
     "name": "stdout",
     "output_type": "stream",
     "text": [
      "\t\tTotal time for config: 3.1171715259552\n",
      "Instance 37, T = 1.0, Proposal = MALA_MC, Acceptance = metropolis, Gap = 0.0000\n",
      "Warning: Gap is very small, may be inaccurate.\n",
      "Starting problem instance 38 of 2000 with n = 8\n"
     ]
    },
    {
     "name": "stderr",
     "output_type": "stream",
     "text": [
      "100%|██████████| 1000/1000 [00:03<00:00, 278.94it/s]\n"
     ]
    },
    {
     "name": "stdout",
     "output_type": "stream",
     "text": [
      "\t\tTotal time for config: 3.5983693599700928\n",
      "Instance 38, T = 1.0, Proposal = MALA_MC, Acceptance = metropolis, Gap = 0.0000\n",
      "Warning: Gap is very small, may be inaccurate.\n",
      "Starting problem instance 39 of 2000 with n = 9\n"
     ]
    },
    {
     "name": "stderr",
     "output_type": "stream",
     "text": [
      "100%|██████████| 1000/1000 [00:04<00:00, 209.10it/s]\n"
     ]
    },
    {
     "name": "stdout",
     "output_type": "stream",
     "text": [
      "\t\tTotal time for config: 4.784437894821167\n",
      "Instance 39, T = 1.0, Proposal = MALA_MC, Acceptance = metropolis, Gap = 0.0000\n",
      "Warning: Gap is very small, may be inaccurate.\n",
      "Starting problem instance 40 of 2000 with n = 10\n"
     ]
    },
    {
     "name": "stderr",
     "output_type": "stream",
     "text": [
      "100%|██████████| 1000/1000 [00:07<00:00, 138.16it/s]\n"
     ]
    },
    {
     "name": "stdout",
     "output_type": "stream",
     "text": [
      "\t\tTotal time for config: 7.241640090942383\n",
      "Instance 40, T = 1.0, Proposal = MALA_MC, Acceptance = metropolis, Gap = 0.0000\n",
      "Warning: Gap is very small, may be inaccurate.\n",
      "Starting problem instance 41 of 2000 with n = 3\n"
     ]
    },
    {
     "name": "stderr",
     "output_type": "stream",
     "text": [
      "100%|██████████| 1000/1000 [00:01<00:00, 847.01it/s]\n"
     ]
    },
    {
     "name": "stdout",
     "output_type": "stream",
     "text": [
      "\t\tTotal time for config: 1.18809175491333\n",
      "Instance 41, T = 1.0, Proposal = MALA_MC, Acceptance = metropolis, Gap = 0.4381\n",
      "Starting problem instance 42 of 2000 with n = 4\n"
     ]
    },
    {
     "name": "stderr",
     "output_type": "stream",
     "text": [
      "100%|██████████| 1000/1000 [00:01<00:00, 509.46it/s]\n"
     ]
    },
    {
     "name": "stdout",
     "output_type": "stream",
     "text": [
      "\t\tTotal time for config: 1.9628760814666748\n",
      "Instance 42, T = 1.0, Proposal = MALA_MC, Acceptance = metropolis, Gap = 0.1076\n",
      "Starting problem instance 43 of 2000 with n = 5\n"
     ]
    },
    {
     "name": "stderr",
     "output_type": "stream",
     "text": [
      "100%|██████████| 1000/1000 [00:02<00:00, 425.79it/s]\n"
     ]
    },
    {
     "name": "stdout",
     "output_type": "stream",
     "text": [
      "\t\tTotal time for config: 2.3506267070770264\n",
      "Instance 43, T = 1.0, Proposal = MALA_MC, Acceptance = metropolis, Gap = 0.0008\n",
      "Starting problem instance 44 of 2000 with n = 6\n"
     ]
    },
    {
     "name": "stderr",
     "output_type": "stream",
     "text": [
      "100%|██████████| 1000/1000 [00:02<00:00, 380.98it/s]\n"
     ]
    },
    {
     "name": "stdout",
     "output_type": "stream",
     "text": [
      "\t\tTotal time for config: 2.6248104572296143\n",
      "Instance 44, T = 1.0, Proposal = MALA_MC, Acceptance = metropolis, Gap = 0.0233\n",
      "Starting problem instance 45 of 2000 with n = 7\n"
     ]
    },
    {
     "name": "stderr",
     "output_type": "stream",
     "text": [
      "100%|██████████| 1000/1000 [00:03<00:00, 307.61it/s]\n"
     ]
    },
    {
     "name": "stdout",
     "output_type": "stream",
     "text": [
      "\t\tTotal time for config: 3.2539432048797607\n",
      "Instance 45, T = 1.0, Proposal = MALA_MC, Acceptance = metropolis, Gap = 0.0000\n",
      "Warning: Gap is very small, may be inaccurate.\n",
      "Starting problem instance 46 of 2000 with n = 8\n"
     ]
    },
    {
     "name": "stderr",
     "output_type": "stream",
     "text": [
      "100%|██████████| 1000/1000 [00:03<00:00, 286.26it/s]\n"
     ]
    },
    {
     "name": "stdout",
     "output_type": "stream",
     "text": [
      "\t\tTotal time for config: 3.493295669555664\n",
      "Instance 46, T = 1.0, Proposal = MALA_MC, Acceptance = metropolis, Gap = 0.0000\n",
      "Warning: Gap is very small, may be inaccurate.\n",
      "Starting problem instance 47 of 2000 with n = 9\n"
     ]
    },
    {
     "name": "stderr",
     "output_type": "stream",
     "text": [
      "100%|██████████| 1000/1000 [00:04<00:00, 217.50it/s]\n"
     ]
    },
    {
     "name": "stdout",
     "output_type": "stream",
     "text": [
      "\t\tTotal time for config: 4.597649812698364\n",
      "Instance 47, T = 1.0, Proposal = MALA_MC, Acceptance = metropolis, Gap = 0.0000\n",
      "Warning: Gap is very small, may be inaccurate.\n",
      "Starting problem instance 48 of 2000 with n = 10\n"
     ]
    },
    {
     "name": "stderr",
     "output_type": "stream",
     "text": [
      "100%|██████████| 1000/1000 [00:12<00:00, 82.50it/s]\n"
     ]
    },
    {
     "name": "stdout",
     "output_type": "stream",
     "text": [
      "\t\tTotal time for config: 12.12833309173584\n",
      "Instance 48, T = 1.0, Proposal = MALA_MC, Acceptance = metropolis, Gap = 0.0000\n",
      "Warning: Gap is very small, may be inaccurate.\n",
      "Starting problem instance 49 of 2000 with n = 3\n"
     ]
    },
    {
     "name": "stderr",
     "output_type": "stream",
     "text": [
      "100%|██████████| 1000/1000 [00:02<00:00, 445.61it/s]\n"
     ]
    },
    {
     "name": "stdout",
     "output_type": "stream",
     "text": [
      "\t\tTotal time for config: 2.246131420135498\n",
      "Instance 49, T = 1.0, Proposal = MALA_MC, Acceptance = metropolis, Gap = 0.9167\n",
      "Starting problem instance 50 of 2000 with n = 4\n"
     ]
    },
    {
     "name": "stderr",
     "output_type": "stream",
     "text": [
      "100%|██████████| 1000/1000 [00:02<00:00, 360.21it/s]\n"
     ]
    },
    {
     "name": "stdout",
     "output_type": "stream",
     "text": [
      "\t\tTotal time for config: 2.7867753505706787\n",
      "Instance 50, T = 1.0, Proposal = MALA_MC, Acceptance = metropolis, Gap = 0.0188\n",
      "Starting problem instance 51 of 2000 with n = 5\n"
     ]
    },
    {
     "name": "stderr",
     "output_type": "stream",
     "text": [
      "100%|██████████| 1000/1000 [00:03<00:00, 282.72it/s]\n"
     ]
    },
    {
     "name": "stdout",
     "output_type": "stream",
     "text": [
      "\t\tTotal time for config: 3.5463507175445557\n",
      "Instance 51, T = 1.0, Proposal = MALA_MC, Acceptance = metropolis, Gap = 0.6146\n",
      "Starting problem instance 52 of 2000 with n = 6\n"
     ]
    },
    {
     "name": "stderr",
     "output_type": "stream",
     "text": [
      "100%|██████████| 1000/1000 [00:03<00:00, 262.69it/s]\n"
     ]
    },
    {
     "name": "stdout",
     "output_type": "stream",
     "text": [
      "\t\tTotal time for config: 3.8231585025787354\n",
      "Instance 52, T = 1.0, Proposal = MALA_MC, Acceptance = metropolis, Gap = 0.0132\n",
      "Starting problem instance 53 of 2000 with n = 7\n"
     ]
    },
    {
     "name": "stderr",
     "output_type": "stream",
     "text": [
      "100%|██████████| 1000/1000 [00:04<00:00, 200.75it/s]\n"
     ]
    },
    {
     "name": "stdout",
     "output_type": "stream",
     "text": [
      "\t\tTotal time for config: 4.998621702194214\n",
      "Instance 53, T = 1.0, Proposal = MALA_MC, Acceptance = metropolis, Gap = 0.1874\n",
      "Starting problem instance 54 of 2000 with n = 8\n"
     ]
    },
    {
     "name": "stderr",
     "output_type": "stream",
     "text": [
      "100%|██████████| 1000/1000 [00:04<00:00, 221.43it/s]\n"
     ]
    },
    {
     "name": "stdout",
     "output_type": "stream",
     "text": [
      "\t\tTotal time for config: 4.532621145248413\n",
      "Instance 54, T = 1.0, Proposal = MALA_MC, Acceptance = metropolis, Gap = 0.0000\n",
      "Warning: Gap is very small, may be inaccurate.\n",
      "Starting problem instance 55 of 2000 with n = 9\n"
     ]
    },
    {
     "name": "stderr",
     "output_type": "stream",
     "text": [
      "100%|██████████| 1000/1000 [00:04<00:00, 220.16it/s]\n"
     ]
    },
    {
     "name": "stdout",
     "output_type": "stream",
     "text": [
      "\t\tTotal time for config: 4.54221510887146\n",
      "Instance 55, T = 1.0, Proposal = MALA_MC, Acceptance = metropolis, Gap = 0.0000\n",
      "Warning: Gap is very small, may be inaccurate.\n",
      "Starting problem instance 56 of 2000 with n = 10\n"
     ]
    },
    {
     "name": "stderr",
     "output_type": "stream",
     "text": [
      "100%|██████████| 1000/1000 [00:06<00:00, 145.08it/s]\n"
     ]
    },
    {
     "name": "stdout",
     "output_type": "stream",
     "text": [
      "\t\tTotal time for config: 6.892619848251343\n",
      "Instance 56, T = 1.0, Proposal = MALA_MC, Acceptance = metropolis, Gap = 0.0000\n",
      "Warning: Gap is very small, may be inaccurate.\n",
      "Starting problem instance 57 of 2000 with n = 3\n"
     ]
    },
    {
     "name": "stderr",
     "output_type": "stream",
     "text": [
      "100%|██████████| 1000/1000 [00:01<00:00, 694.39it/s]\n"
     ]
    },
    {
     "name": "stdout",
     "output_type": "stream",
     "text": [
      "\t\tTotal time for config: 1.4477050304412842\n",
      "Instance 57, T = 1.0, Proposal = MALA_MC, Acceptance = metropolis, Gap = 0.3467\n",
      "Starting problem instance 58 of 2000 with n = 4\n"
     ]
    },
    {
     "name": "stderr",
     "output_type": "stream",
     "text": [
      "100%|██████████| 1000/1000 [00:01<00:00, 613.62it/s]\n"
     ]
    },
    {
     "name": "stdout",
     "output_type": "stream",
     "text": [
      "\t\tTotal time for config: 1.6311218738555908\n",
      "Instance 58, T = 1.0, Proposal = MALA_MC, Acceptance = metropolis, Gap = 0.3002\n",
      "Starting problem instance 59 of 2000 with n = 5\n"
     ]
    },
    {
     "name": "stderr",
     "output_type": "stream",
     "text": [
      "100%|██████████| 1000/1000 [00:02<00:00, 393.75it/s]\n"
     ]
    },
    {
     "name": "stdout",
     "output_type": "stream",
     "text": [
      "\t\tTotal time for config: 2.5396828651428223\n",
      "Instance 59, T = 1.0, Proposal = MALA_MC, Acceptance = metropolis, Gap = 0.5936\n",
      "Starting problem instance 60 of 2000 with n = 6\n"
     ]
    },
    {
     "name": "stderr",
     "output_type": "stream",
     "text": [
      "100%|██████████| 1000/1000 [00:02<00:00, 413.88it/s]\n"
     ]
    },
    {
     "name": "stdout",
     "output_type": "stream",
     "text": [
      "\t\tTotal time for config: 2.4263195991516113\n",
      "Instance 60, T = 1.0, Proposal = MALA_MC, Acceptance = metropolis, Gap = 0.0000\n",
      "Warning: Gap is very small, may be inaccurate.\n",
      "Starting problem instance 61 of 2000 with n = 7\n"
     ]
    },
    {
     "name": "stderr",
     "output_type": "stream",
     "text": [
      "100%|██████████| 1000/1000 [00:02<00:00, 379.95it/s]\n"
     ]
    },
    {
     "name": "stdout",
     "output_type": "stream",
     "text": [
      "\t\tTotal time for config: 2.632364511489868\n",
      "Instance 61, T = 1.0, Proposal = MALA_MC, Acceptance = metropolis, Gap = 0.0000\n",
      "Warning: Gap is very small, may be inaccurate.\n",
      "Starting problem instance 62 of 2000 with n = 8\n"
     ]
    },
    {
     "name": "stderr",
     "output_type": "stream",
     "text": [
      "100%|██████████| 1000/1000 [00:03<00:00, 317.78it/s]\n"
     ]
    },
    {
     "name": "stdout",
     "output_type": "stream",
     "text": [
      "\t\tTotal time for config: 3.146867036819458\n",
      "Instance 62, T = 1.0, Proposal = MALA_MC, Acceptance = metropolis, Gap = 0.0000\n",
      "Warning: Gap is very small, may be inaccurate.\n",
      "Starting problem instance 63 of 2000 with n = 9\n"
     ]
    },
    {
     "name": "stderr",
     "output_type": "stream",
     "text": [
      "100%|██████████| 1000/1000 [00:04<00:00, 237.77it/s]\n"
     ]
    },
    {
     "name": "stdout",
     "output_type": "stream",
     "text": [
      "\t\tTotal time for config: 4.205686092376709\n",
      "Instance 63, T = 1.0, Proposal = MALA_MC, Acceptance = metropolis, Gap = 0.0000\n",
      "Warning: Gap is very small, may be inaccurate.\n",
      "Starting problem instance 64 of 2000 with n = 10\n"
     ]
    },
    {
     "name": "stderr",
     "output_type": "stream",
     "text": [
      "100%|██████████| 1000/1000 [00:06<00:00, 158.18it/s]\n"
     ]
    },
    {
     "name": "stdout",
     "output_type": "stream",
     "text": [
      "\t\tTotal time for config: 6.323471546173096\n",
      "Instance 64, T = 1.0, Proposal = MALA_MC, Acceptance = metropolis, Gap = 0.0000\n",
      "Warning: Gap is very small, may be inaccurate.\n",
      "Starting problem instance 65 of 2000 with n = 3\n"
     ]
    },
    {
     "name": "stderr",
     "output_type": "stream",
     "text": [
      "100%|██████████| 1000/1000 [00:01<00:00, 894.71it/s]\n"
     ]
    },
    {
     "name": "stdout",
     "output_type": "stream",
     "text": [
      "\t\tTotal time for config: 1.1205813884735107\n",
      "Instance 65, T = 1.0, Proposal = MALA_MC, Acceptance = metropolis, Gap = 0.4970\n",
      "Starting problem instance 66 of 2000 with n = 4\n"
     ]
    },
    {
     "name": "stderr",
     "output_type": "stream",
     "text": [
      "100%|██████████| 1000/1000 [00:01<00:00, 674.60it/s]\n"
     ]
    },
    {
     "name": "stdout",
     "output_type": "stream",
     "text": [
      "\t\tTotal time for config: 1.4823517799377441\n",
      "Instance 66, T = 1.0, Proposal = MALA_MC, Acceptance = metropolis, Gap = 0.0000\n",
      "Warning: Gap is very small, may be inaccurate.\n",
      "Starting problem instance 67 of 2000 with n = 5\n"
     ]
    },
    {
     "name": "stderr",
     "output_type": "stream",
     "text": [
      "100%|██████████| 1000/1000 [00:01<00:00, 529.07it/s]\n"
     ]
    },
    {
     "name": "stdout",
     "output_type": "stream",
     "text": [
      "\t\tTotal time for config: 1.9016993045806885\n",
      "Instance 67, T = 1.0, Proposal = MALA_MC, Acceptance = metropolis, Gap = 0.0183\n",
      "Starting problem instance 68 of 2000 with n = 6\n"
     ]
    },
    {
     "name": "stderr",
     "output_type": "stream",
     "text": [
      "100%|██████████| 1000/1000 [00:02<00:00, 431.43it/s]\n"
     ]
    },
    {
     "name": "stdout",
     "output_type": "stream",
     "text": [
      "\t\tTotal time for config: 2.317894697189331\n",
      "Instance 68, T = 1.0, Proposal = MALA_MC, Acceptance = metropolis, Gap = 0.0057\n",
      "Starting problem instance 69 of 2000 with n = 7\n"
     ]
    },
    {
     "name": "stderr",
     "output_type": "stream",
     "text": [
      "100%|██████████| 1000/1000 [00:02<00:00, 399.87it/s]\n"
     ]
    },
    {
     "name": "stdout",
     "output_type": "stream",
     "text": [
      "\t\tTotal time for config: 2.5008065700531006\n",
      "Instance 69, T = 1.0, Proposal = MALA_MC, Acceptance = metropolis, Gap = 0.5876\n",
      "Starting problem instance 70 of 2000 with n = 8\n"
     ]
    },
    {
     "name": "stderr",
     "output_type": "stream",
     "text": [
      "100%|██████████| 1000/1000 [00:03<00:00, 310.93it/s]\n"
     ]
    },
    {
     "name": "stdout",
     "output_type": "stream",
     "text": [
      "\t\tTotal time for config: 3.2161214351654053\n",
      "Instance 70, T = 1.0, Proposal = MALA_MC, Acceptance = metropolis, Gap = 0.0000\n",
      "Warning: Gap is very small, may be inaccurate.\n",
      "Starting problem instance 71 of 2000 with n = 9\n"
     ]
    },
    {
     "name": "stderr",
     "output_type": "stream",
     "text": [
      "100%|██████████| 1000/1000 [00:04<00:00, 215.83it/s]\n"
     ]
    },
    {
     "name": "stdout",
     "output_type": "stream",
     "text": [
      "\t\tTotal time for config: 4.6376378536224365\n",
      "Instance 71, T = 1.0, Proposal = MALA_MC, Acceptance = metropolis, Gap = 0.0000\n",
      "Warning: Gap is very small, may be inaccurate.\n",
      "Starting problem instance 72 of 2000 with n = 10\n"
     ]
    },
    {
     "name": "stderr",
     "output_type": "stream",
     "text": [
      "100%|██████████| 1000/1000 [00:07<00:00, 136.99it/s]\n"
     ]
    },
    {
     "name": "stdout",
     "output_type": "stream",
     "text": [
      "\t\tTotal time for config: 7.305504322052002\n",
      "Instance 72, T = 1.0, Proposal = MALA_MC, Acceptance = metropolis, Gap = 0.0000\n",
      "Warning: Gap is very small, may be inaccurate.\n",
      "Starting problem instance 73 of 2000 with n = 3\n"
     ]
    },
    {
     "name": "stderr",
     "output_type": "stream",
     "text": [
      "100%|██████████| 1000/1000 [00:01<00:00, 755.98it/s]\n"
     ]
    },
    {
     "name": "stdout",
     "output_type": "stream",
     "text": [
      "\t\tTotal time for config: 1.3324487209320068\n",
      "Instance 73, T = 1.0, Proposal = MALA_MC, Acceptance = metropolis, Gap = 0.7011\n",
      "Starting problem instance 74 of 2000 with n = 4\n"
     ]
    },
    {
     "name": "stderr",
     "output_type": "stream",
     "text": [
      "100%|██████████| 1000/1000 [00:02<00:00, 471.43it/s]\n"
     ]
    },
    {
     "name": "stdout",
     "output_type": "stream",
     "text": [
      "\t\tTotal time for config: 2.121213436126709\n",
      "Instance 74, T = 1.0, Proposal = MALA_MC, Acceptance = metropolis, Gap = 0.0433\n",
      "Starting problem instance 75 of 2000 with n = 5\n"
     ]
    },
    {
     "name": "stderr",
     "output_type": "stream",
     "text": [
      "100%|██████████| 1000/1000 [00:02<00:00, 421.09it/s]\n"
     ]
    },
    {
     "name": "stdout",
     "output_type": "stream",
     "text": [
      "\t\tTotal time for config: 2.374788999557495\n",
      "Instance 75, T = 1.0, Proposal = MALA_MC, Acceptance = metropolis, Gap = 0.3873\n",
      "Starting problem instance 76 of 2000 with n = 6\n"
     ]
    },
    {
     "name": "stderr",
     "output_type": "stream",
     "text": [
      "100%|██████████| 1000/1000 [00:02<00:00, 425.23it/s]\n"
     ]
    },
    {
     "name": "stdout",
     "output_type": "stream",
     "text": [
      "\t\tTotal time for config: 2.353686571121216\n",
      "Instance 76, T = 1.0, Proposal = MALA_MC, Acceptance = metropolis, Gap = 0.3113\n",
      "Starting problem instance 77 of 2000 with n = 7\n"
     ]
    },
    {
     "name": "stderr",
     "output_type": "stream",
     "text": [
      "100%|██████████| 1000/1000 [00:02<00:00, 353.58it/s]\n"
     ]
    },
    {
     "name": "stdout",
     "output_type": "stream",
     "text": [
      "\t\tTotal time for config: 2.828209638595581\n",
      "Instance 77, T = 1.0, Proposal = MALA_MC, Acceptance = metropolis, Gap = 0.0000\n",
      "Warning: Gap is very small, may be inaccurate.\n",
      "Starting problem instance 78 of 2000 with n = 8\n"
     ]
    },
    {
     "name": "stderr",
     "output_type": "stream",
     "text": [
      "100%|██████████| 1000/1000 [00:03<00:00, 282.96it/s]\n"
     ]
    },
    {
     "name": "stdout",
     "output_type": "stream",
     "text": [
      "\t\tTotal time for config: 3.534086227416992\n",
      "Instance 78, T = 1.0, Proposal = MALA_MC, Acceptance = metropolis, Gap = 0.0000\n",
      "Warning: Gap is very small, may be inaccurate.\n",
      "Starting problem instance 79 of 2000 with n = 9\n"
     ]
    },
    {
     "name": "stderr",
     "output_type": "stream",
     "text": [
      "100%|██████████| 1000/1000 [00:04<00:00, 213.57it/s]\n"
     ]
    },
    {
     "name": "stdout",
     "output_type": "stream",
     "text": [
      "\t\tTotal time for config: 4.682810306549072\n",
      "Instance 79, T = 1.0, Proposal = MALA_MC, Acceptance = metropolis, Gap = 0.0000\n",
      "Warning: Gap is very small, may be inaccurate.\n",
      "Starting problem instance 80 of 2000 with n = 10\n"
     ]
    },
    {
     "name": "stderr",
     "output_type": "stream",
     "text": [
      "100%|██████████| 1000/1000 [00:07<00:00, 127.87it/s]\n"
     ]
    },
    {
     "name": "stdout",
     "output_type": "stream",
     "text": [
      "\t\tTotal time for config: 7.821875333786011\n",
      "Instance 80, T = 1.0, Proposal = MALA_MC, Acceptance = metropolis, Gap = 0.0000\n",
      "Warning: Gap is very small, may be inaccurate.\n",
      "Starting problem instance 81 of 2000 with n = 3\n"
     ]
    },
    {
     "name": "stderr",
     "output_type": "stream",
     "text": [
      "100%|██████████| 1000/1000 [00:01<00:00, 769.57it/s]\n"
     ]
    },
    {
     "name": "stdout",
     "output_type": "stream",
     "text": [
      "\t\tTotal time for config: 1.3160972595214844\n",
      "Instance 81, T = 1.0, Proposal = MALA_MC, Acceptance = metropolis, Gap = 0.8688\n",
      "Starting problem instance 82 of 2000 with n = 4\n"
     ]
    },
    {
     "name": "stderr",
     "output_type": "stream",
     "text": [
      "100%|██████████| 1000/1000 [00:01<00:00, 512.01it/s]\n"
     ]
    },
    {
     "name": "stdout",
     "output_type": "stream",
     "text": [
      "\t\tTotal time for config: 1.953099012374878\n",
      "Instance 82, T = 1.0, Proposal = MALA_MC, Acceptance = metropolis, Gap = 0.0575\n",
      "Starting problem instance 83 of 2000 with n = 5\n"
     ]
    },
    {
     "name": "stderr",
     "output_type": "stream",
     "text": [
      "100%|██████████| 1000/1000 [00:02<00:00, 451.32it/s]\n"
     ]
    },
    {
     "name": "stdout",
     "output_type": "stream",
     "text": [
      "\t\tTotal time for config: 2.2157251834869385\n",
      "Instance 83, T = 1.0, Proposal = MALA_MC, Acceptance = metropolis, Gap = 0.5280\n",
      "Starting problem instance 84 of 2000 with n = 6\n"
     ]
    },
    {
     "name": "stderr",
     "output_type": "stream",
     "text": [
      "100%|██████████| 1000/1000 [00:02<00:00, 389.58it/s]\n"
     ]
    },
    {
     "name": "stdout",
     "output_type": "stream",
     "text": [
      "\t\tTotal time for config: 2.566896438598633\n",
      "Instance 84, T = 1.0, Proposal = MALA_MC, Acceptance = metropolis, Gap = 0.6789\n",
      "Starting problem instance 85 of 2000 with n = 7\n"
     ]
    },
    {
     "name": "stderr",
     "output_type": "stream",
     "text": [
      "100%|██████████| 1000/1000 [00:02<00:00, 341.01it/s]\n"
     ]
    },
    {
     "name": "stdout",
     "output_type": "stream",
     "text": [
      "\t\tTotal time for config: 2.9324417114257812\n",
      "Instance 85, T = 1.0, Proposal = MALA_MC, Acceptance = metropolis, Gap = 0.0000\n",
      "Warning: Gap is very small, may be inaccurate.\n",
      "Starting problem instance 86 of 2000 with n = 8\n"
     ]
    },
    {
     "name": "stderr",
     "output_type": "stream",
     "text": [
      "100%|██████████| 1000/1000 [00:03<00:00, 300.05it/s]\n"
     ]
    },
    {
     "name": "stdout",
     "output_type": "stream",
     "text": [
      "\t\tTotal time for config: 3.332728624343872\n",
      "Instance 86, T = 1.0, Proposal = MALA_MC, Acceptance = metropolis, Gap = 0.0000\n",
      "Warning: Gap is very small, may be inaccurate.\n",
      "Starting problem instance 87 of 2000 with n = 9\n"
     ]
    },
    {
     "name": "stderr",
     "output_type": "stream",
     "text": [
      "100%|██████████| 1000/1000 [00:04<00:00, 223.69it/s]\n"
     ]
    },
    {
     "name": "stdout",
     "output_type": "stream",
     "text": [
      "\t\tTotal time for config: 4.470383167266846\n",
      "Instance 87, T = 1.0, Proposal = MALA_MC, Acceptance = metropolis, Gap = 0.0000\n",
      "Warning: Gap is very small, may be inaccurate.\n",
      "Starting problem instance 88 of 2000 with n = 10\n"
     ]
    },
    {
     "name": "stderr",
     "output_type": "stream",
     "text": [
      "100%|██████████| 1000/1000 [00:07<00:00, 132.83it/s]\n"
     ]
    },
    {
     "name": "stdout",
     "output_type": "stream",
     "text": [
      "\t\tTotal time for config: 7.5286970138549805\n",
      "Instance 88, T = 1.0, Proposal = MALA_MC, Acceptance = metropolis, Gap = 0.0000\n",
      "Warning: Gap is very small, may be inaccurate.\n",
      "Starting problem instance 89 of 2000 with n = 3\n"
     ]
    },
    {
     "name": "stderr",
     "output_type": "stream",
     "text": [
      "100%|██████████| 1000/1000 [00:01<00:00, 759.96it/s]\n"
     ]
    },
    {
     "name": "stdout",
     "output_type": "stream",
     "text": [
      "\t\tTotal time for config: 1.315864086151123\n",
      "Instance 89, T = 1.0, Proposal = MALA_MC, Acceptance = metropolis, Gap = 0.8263\n",
      "Starting problem instance 90 of 2000 with n = 4\n"
     ]
    },
    {
     "name": "stderr",
     "output_type": "stream",
     "text": [
      "100%|██████████| 1000/1000 [00:01<00:00, 600.94it/s]\n"
     ]
    },
    {
     "name": "stdout",
     "output_type": "stream",
     "text": [
      "\t\tTotal time for config: 1.664057731628418\n",
      "Instance 90, T = 1.0, Proposal = MALA_MC, Acceptance = metropolis, Gap = 0.7891\n",
      "Starting problem instance 91 of 2000 with n = 5\n"
     ]
    },
    {
     "name": "stderr",
     "output_type": "stream",
     "text": [
      "100%|██████████| 1000/1000 [00:02<00:00, 377.14it/s]\n"
     ]
    },
    {
     "name": "stdout",
     "output_type": "stream",
     "text": [
      "\t\tTotal time for config: 2.653531789779663\n",
      "Instance 91, T = 1.0, Proposal = MALA_MC, Acceptance = metropolis, Gap = 0.2832\n",
      "Starting problem instance 92 of 2000 with n = 6\n"
     ]
    },
    {
     "name": "stderr",
     "output_type": "stream",
     "text": [
      "100%|██████████| 1000/1000 [00:02<00:00, 414.95it/s]\n"
     ]
    },
    {
     "name": "stdout",
     "output_type": "stream",
     "text": [
      "\t\tTotal time for config: 2.4099414348602295\n",
      "Instance 92, T = 1.0, Proposal = MALA_MC, Acceptance = metropolis, Gap = 0.1207\n",
      "Starting problem instance 93 of 2000 with n = 7\n"
     ]
    },
    {
     "name": "stderr",
     "output_type": "stream",
     "text": [
      "100%|██████████| 1000/1000 [00:03<00:00, 307.48it/s]\n"
     ]
    },
    {
     "name": "stdout",
     "output_type": "stream",
     "text": [
      "\t\tTotal time for config: 3.2542450428009033\n",
      "Instance 93, T = 1.0, Proposal = MALA_MC, Acceptance = metropolis, Gap = 0.0335\n",
      "Starting problem instance 94 of 2000 with n = 8\n"
     ]
    },
    {
     "name": "stderr",
     "output_type": "stream",
     "text": [
      "100%|██████████| 1000/1000 [00:06<00:00, 162.10it/s]\n"
     ]
    },
    {
     "name": "stdout",
     "output_type": "stream",
     "text": [
      "\t\tTotal time for config: 6.182699918746948\n",
      "Instance 94, T = 1.0, Proposal = MALA_MC, Acceptance = metropolis, Gap = 0.0000\n",
      "Warning: Gap is very small, may be inaccurate.\n",
      "Starting problem instance 95 of 2000 with n = 9\n"
     ]
    },
    {
     "name": "stderr",
     "output_type": "stream",
     "text": [
      "100%|██████████| 1000/1000 [00:09<00:00, 100.22it/s]\n"
     ]
    },
    {
     "name": "stdout",
     "output_type": "stream",
     "text": [
      "\t\tTotal time for config: 9.986702919006348\n",
      "Instance 95, T = 1.0, Proposal = MALA_MC, Acceptance = metropolis, Gap = 0.0000\n",
      "Warning: Gap is very small, may be inaccurate.\n",
      "Starting problem instance 96 of 2000 with n = 10\n"
     ]
    },
    {
     "name": "stderr",
     "output_type": "stream",
     "text": [
      "100%|██████████| 1000/1000 [00:17<00:00, 56.13it/s]\n"
     ]
    },
    {
     "name": "stdout",
     "output_type": "stream",
     "text": [
      "\t\tTotal time for config: 17.823448419570923\n",
      "Instance 96, T = 1.0, Proposal = MALA_MC, Acceptance = metropolis, Gap = 0.0000\n",
      "Warning: Gap is very small, may be inaccurate.\n",
      "Starting problem instance 97 of 2000 with n = 3\n"
     ]
    },
    {
     "name": "stderr",
     "output_type": "stream",
     "text": [
      "100%|██████████| 1000/1000 [00:01<00:00, 532.44it/s]\n"
     ]
    },
    {
     "name": "stdout",
     "output_type": "stream",
     "text": [
      "\t\tTotal time for config: 1.8781414031982422\n",
      "Instance 97, T = 1.0, Proposal = MALA_MC, Acceptance = metropolis, Gap = 0.9238\n",
      "Starting problem instance 98 of 2000 with n = 4\n"
     ]
    },
    {
     "name": "stderr",
     "output_type": "stream",
     "text": [
      "100%|██████████| 1000/1000 [00:02<00:00, 375.70it/s]\n"
     ]
    },
    {
     "name": "stdout",
     "output_type": "stream",
     "text": [
      "\t\tTotal time for config: 2.6617026329040527\n",
      "Instance 98, T = 1.0, Proposal = MALA_MC, Acceptance = metropolis, Gap = 0.8443\n",
      "Starting problem instance 99 of 2000 with n = 5\n"
     ]
    },
    {
     "name": "stderr",
     "output_type": "stream",
     "text": [
      "100%|██████████| 1000/1000 [00:03<00:00, 314.17it/s]\n"
     ]
    },
    {
     "name": "stdout",
     "output_type": "stream",
     "text": [
      "\t\tTotal time for config: 3.1829488277435303\n",
      "Instance 99, T = 1.0, Proposal = MALA_MC, Acceptance = metropolis, Gap = 0.0011\n",
      "Starting problem instance 100 of 2000 with n = 6\n"
     ]
    },
    {
     "name": "stderr",
     "output_type": "stream",
     "text": [
      "100%|██████████| 1000/1000 [00:03<00:00, 259.43it/s]\n"
     ]
    },
    {
     "name": "stdout",
     "output_type": "stream",
     "text": [
      "\t\tTotal time for config: 3.8660075664520264\n",
      "Instance 100, T = 1.0, Proposal = MALA_MC, Acceptance = metropolis, Gap = 0.0000\n",
      "Warning: Gap is very small, may be inaccurate.\n",
      "Starting problem instance 101 of 2000 with n = 7\n"
     ]
    },
    {
     "name": "stderr",
     "output_type": "stream",
     "text": [
      "100%|██████████| 1000/1000 [00:04<00:00, 215.09it/s]\n"
     ]
    },
    {
     "name": "stdout",
     "output_type": "stream",
     "text": [
      "\t\tTotal time for config: 4.666079521179199\n",
      "Instance 101, T = 1.0, Proposal = MALA_MC, Acceptance = metropolis, Gap = 0.0000\n",
      "Warning: Gap is very small, may be inaccurate.\n",
      "Starting problem instance 102 of 2000 with n = 8\n"
     ]
    },
    {
     "name": "stderr",
     "output_type": "stream",
     "text": [
      "100%|██████████| 1000/1000 [00:05<00:00, 168.82it/s]\n"
     ]
    },
    {
     "name": "stdout",
     "output_type": "stream",
     "text": [
      "\t\tTotal time for config: 5.932610511779785\n",
      "Instance 102, T = 1.0, Proposal = MALA_MC, Acceptance = metropolis, Gap = 0.0000\n",
      "Warning: Gap is very small, may be inaccurate.\n",
      "Starting problem instance 103 of 2000 with n = 9\n"
     ]
    },
    {
     "name": "stderr",
     "output_type": "stream",
     "text": [
      "100%|██████████| 1000/1000 [00:09<00:00, 100.85it/s]\n"
     ]
    },
    {
     "name": "stdout",
     "output_type": "stream",
     "text": [
      "\t\tTotal time for config: 9.917281866073608\n",
      "Instance 103, T = 1.0, Proposal = MALA_MC, Acceptance = metropolis, Gap = 0.0000\n",
      "Warning: Gap is very small, may be inaccurate.\n",
      "Starting problem instance 104 of 2000 with n = 10\n"
     ]
    },
    {
     "name": "stderr",
     "output_type": "stream",
     "text": [
      "100%|██████████| 1000/1000 [00:10<00:00, 93.59it/s]\n"
     ]
    },
    {
     "name": "stdout",
     "output_type": "stream",
     "text": [
      "\t\tTotal time for config: 10.68460750579834\n",
      "Instance 104, T = 1.0, Proposal = MALA_MC, Acceptance = metropolis, Gap = 0.0000\n",
      "Warning: Gap is very small, may be inaccurate.\n",
      "Starting problem instance 105 of 2000 with n = 3\n"
     ]
    },
    {
     "name": "stderr",
     "output_type": "stream",
     "text": [
      "100%|██████████| 1000/1000 [00:00<00:00, 1086.99it/s]\n"
     ]
    },
    {
     "name": "stdout",
     "output_type": "stream",
     "text": [
      "\t\tTotal time for config: 0.9377198219299316\n",
      "Instance 105, T = 1.0, Proposal = MALA_MC, Acceptance = metropolis, Gap = 0.7667\n",
      "Starting problem instance 106 of 2000 with n = 4\n"
     ]
    },
    {
     "name": "stderr",
     "output_type": "stream",
     "text": [
      "100%|██████████| 1000/1000 [00:01<00:00, 642.11it/s]\n"
     ]
    },
    {
     "name": "stdout",
     "output_type": "stream",
     "text": [
      "\t\tTotal time for config: 1.5573620796203613\n",
      "Instance 106, T = 1.0, Proposal = MALA_MC, Acceptance = metropolis, Gap = 0.6625\n",
      "Starting problem instance 107 of 2000 with n = 5\n"
     ]
    },
    {
     "name": "stderr",
     "output_type": "stream",
     "text": [
      "100%|██████████| 1000/1000 [00:02<00:00, 492.34it/s]\n"
     ]
    },
    {
     "name": "stdout",
     "output_type": "stream",
     "text": [
      "\t\tTotal time for config: 2.0481791496276855\n",
      "Instance 107, T = 1.0, Proposal = MALA_MC, Acceptance = metropolis, Gap = 0.6835\n",
      "Starting problem instance 108 of 2000 with n = 6\n"
     ]
    },
    {
     "name": "stderr",
     "output_type": "stream",
     "text": [
      "100%|██████████| 1000/1000 [00:02<00:00, 454.78it/s]\n"
     ]
    },
    {
     "name": "stdout",
     "output_type": "stream",
     "text": [
      "\t\tTotal time for config: 2.1988556385040283\n",
      "Instance 108, T = 1.0, Proposal = MALA_MC, Acceptance = metropolis, Gap = 0.0000\n",
      "Warning: Gap is very small, may be inaccurate.\n",
      "Starting problem instance 109 of 2000 with n = 7\n"
     ]
    },
    {
     "name": "stderr",
     "output_type": "stream",
     "text": [
      "100%|██████████| 1000/1000 [00:02<00:00, 343.50it/s]\n"
     ]
    },
    {
     "name": "stdout",
     "output_type": "stream",
     "text": [
      "\t\tTotal time for config: 2.917807102203369\n",
      "Instance 109, T = 1.0, Proposal = MALA_MC, Acceptance = metropolis, Gap = 0.0082\n",
      "Starting problem instance 110 of 2000 with n = 8\n"
     ]
    },
    {
     "name": "stderr",
     "output_type": "stream",
     "text": [
      "100%|██████████| 1000/1000 [00:03<00:00, 300.46it/s]\n"
     ]
    },
    {
     "name": "stdout",
     "output_type": "stream",
     "text": [
      "\t\tTotal time for config: 3.328278064727783\n",
      "Instance 110, T = 1.0, Proposal = MALA_MC, Acceptance = metropolis, Gap = 0.0000\n",
      "Warning: Gap is very small, may be inaccurate.\n",
      "Starting problem instance 111 of 2000 with n = 9\n"
     ]
    },
    {
     "name": "stderr",
     "output_type": "stream",
     "text": [
      "100%|██████████| 1000/1000 [00:08<00:00, 122.09it/s]\n"
     ]
    },
    {
     "name": "stdout",
     "output_type": "stream",
     "text": [
      "\t\tTotal time for config: 8.198827028274536\n",
      "Instance 111, T = 1.0, Proposal = MALA_MC, Acceptance = metropolis, Gap = 0.0000\n",
      "Warning: Gap is very small, may be inaccurate.\n",
      "Starting problem instance 112 of 2000 with n = 10\n"
     ]
    },
    {
     "name": "stderr",
     "output_type": "stream",
     "text": [
      "100%|██████████| 1000/1000 [00:19<00:00, 52.02it/s]\n"
     ]
    },
    {
     "name": "stdout",
     "output_type": "stream",
     "text": [
      "\t\tTotal time for config: 19.233081817626953\n",
      "Instance 112, T = 1.0, Proposal = MALA_MC, Acceptance = metropolis, Gap = 0.0000\n",
      "Warning: Gap is very small, may be inaccurate.\n",
      "Starting problem instance 113 of 2000 with n = 3\n"
     ]
    },
    {
     "name": "stderr",
     "output_type": "stream",
     "text": [
      "100%|██████████| 1000/1000 [00:02<00:00, 449.28it/s]\n"
     ]
    },
    {
     "name": "stdout",
     "output_type": "stream",
     "text": [
      "\t\tTotal time for config: 2.242164134979248\n",
      "Instance 113, T = 1.0, Proposal = MALA_MC, Acceptance = metropolis, Gap = 0.7105\n",
      "Starting problem instance 114 of 2000 with n = 4\n"
     ]
    },
    {
     "name": "stderr",
     "output_type": "stream",
     "text": [
      "100%|██████████| 1000/1000 [00:03<00:00, 315.81it/s]\n"
     ]
    },
    {
     "name": "stdout",
     "output_type": "stream",
     "text": [
      "\t\tTotal time for config: 3.166487216949463\n",
      "Instance 114, T = 1.0, Proposal = MALA_MC, Acceptance = metropolis, Gap = 0.2201\n",
      "Starting problem instance 115 of 2000 with n = 5\n"
     ]
    },
    {
     "name": "stderr",
     "output_type": "stream",
     "text": [
      "100%|██████████| 1000/1000 [00:03<00:00, 315.59it/s]\n"
     ]
    },
    {
     "name": "stdout",
     "output_type": "stream",
     "text": [
      "\t\tTotal time for config: 3.1813747882843018\n",
      "Instance 115, T = 1.0, Proposal = MALA_MC, Acceptance = metropolis, Gap = 0.6329\n",
      "Starting problem instance 116 of 2000 with n = 6\n"
     ]
    },
    {
     "name": "stderr",
     "output_type": "stream",
     "text": [
      "100%|██████████| 1000/1000 [00:02<00:00, 351.46it/s]\n"
     ]
    },
    {
     "name": "stdout",
     "output_type": "stream",
     "text": [
      "\t\tTotal time for config: 2.8452582359313965\n",
      "Instance 116, T = 1.0, Proposal = MALA_MC, Acceptance = metropolis, Gap = 0.0900\n",
      "Starting problem instance 117 of 2000 with n = 7\n"
     ]
    },
    {
     "name": "stderr",
     "output_type": "stream",
     "text": [
      "100%|██████████| 1000/1000 [00:03<00:00, 293.28it/s]\n"
     ]
    },
    {
     "name": "stdout",
     "output_type": "stream",
     "text": [
      "\t\tTotal time for config: 3.416675090789795\n",
      "Instance 117, T = 1.0, Proposal = MALA_MC, Acceptance = metropolis, Gap = 0.0022\n",
      "Starting problem instance 118 of 2000 with n = 8\n"
     ]
    },
    {
     "name": "stderr",
     "output_type": "stream",
     "text": [
      "100%|██████████| 1000/1000 [00:03<00:00, 258.79it/s]\n"
     ]
    },
    {
     "name": "stdout",
     "output_type": "stream",
     "text": [
      "\t\tTotal time for config: 3.8641092777252197\n",
      "Instance 118, T = 1.0, Proposal = MALA_MC, Acceptance = metropolis, Gap = 0.0000\n",
      "Warning: Gap is very small, may be inaccurate.\n",
      "Starting problem instance 119 of 2000 with n = 9\n"
     ]
    },
    {
     "name": "stderr",
     "output_type": "stream",
     "text": [
      "100%|██████████| 1000/1000 [00:08<00:00, 121.96it/s]\n"
     ]
    },
    {
     "name": "stdout",
     "output_type": "stream",
     "text": [
      "\t\tTotal time for config: 8.20061993598938\n",
      "Instance 119, T = 1.0, Proposal = MALA_MC, Acceptance = metropolis, Gap = 0.0000\n",
      "Warning: Gap is very small, may be inaccurate.\n",
      "Starting problem instance 120 of 2000 with n = 10\n"
     ]
    },
    {
     "name": "stderr",
     "output_type": "stream",
     "text": [
      "100%|██████████| 1000/1000 [00:15<00:00, 63.02it/s]\n"
     ]
    },
    {
     "name": "stdout",
     "output_type": "stream",
     "text": [
      "\t\tTotal time for config: 15.880176067352295\n",
      "Instance 120, T = 1.0, Proposal = MALA_MC, Acceptance = metropolis, Gap = 0.0000\n",
      "Warning: Gap is very small, may be inaccurate.\n",
      "Starting problem instance 121 of 2000 with n = 3\n"
     ]
    },
    {
     "name": "stderr",
     "output_type": "stream",
     "text": [
      "100%|██████████| 1000/1000 [00:01<00:00, 819.18it/s]\n"
     ]
    },
    {
     "name": "stdout",
     "output_type": "stream",
     "text": [
      "\t\tTotal time for config: 1.2207369804382324\n",
      "Instance 121, T = 1.0, Proposal = MALA_MC, Acceptance = metropolis, Gap = 0.7295\n",
      "Starting problem instance 122 of 2000 with n = 4\n"
     ]
    },
    {
     "name": "stderr",
     "output_type": "stream",
     "text": [
      "100%|██████████| 1000/1000 [00:01<00:00, 517.47it/s]\n"
     ]
    },
    {
     "name": "stdout",
     "output_type": "stream",
     "text": [
      "\t\tTotal time for config: 1.9357249736785889\n",
      "Instance 122, T = 1.0, Proposal = MALA_MC, Acceptance = metropolis, Gap = 0.5487\n",
      "Starting problem instance 123 of 2000 with n = 5\n"
     ]
    },
    {
     "name": "stderr",
     "output_type": "stream",
     "text": [
      "100%|██████████| 1000/1000 [00:02<00:00, 397.53it/s]\n"
     ]
    },
    {
     "name": "stdout",
     "output_type": "stream",
     "text": [
      "\t\tTotal time for config: 2.5155603885650635\n",
      "Instance 123, T = 1.0, Proposal = MALA_MC, Acceptance = metropolis, Gap = 0.7923\n",
      "Starting problem instance 124 of 2000 with n = 6\n"
     ]
    },
    {
     "name": "stderr",
     "output_type": "stream",
     "text": [
      "100%|██████████| 1000/1000 [00:02<00:00, 360.45it/s]\n"
     ]
    },
    {
     "name": "stdout",
     "output_type": "stream",
     "text": [
      "\t\tTotal time for config: 2.778142213821411\n",
      "Instance 124, T = 1.0, Proposal = MALA_MC, Acceptance = metropolis, Gap = 0.0000\n",
      "Starting problem instance 125 of 2000 with n = 7\n"
     ]
    },
    {
     "name": "stderr",
     "output_type": "stream",
     "text": [
      "100%|██████████| 1000/1000 [00:03<00:00, 290.48it/s]\n"
     ]
    },
    {
     "name": "stdout",
     "output_type": "stream",
     "text": [
      "\t\tTotal time for config: 3.44252347946167\n",
      "Instance 125, T = 1.0, Proposal = MALA_MC, Acceptance = metropolis, Gap = 0.0012\n",
      "Starting problem instance 126 of 2000 with n = 8\n"
     ]
    },
    {
     "name": "stderr",
     "output_type": "stream",
     "text": [
      "100%|██████████| 1000/1000 [00:03<00:00, 279.77it/s]\n"
     ]
    },
    {
     "name": "stdout",
     "output_type": "stream",
     "text": [
      "\t\tTotal time for config: 3.5744075775146484\n",
      "Instance 126, T = 1.0, Proposal = MALA_MC, Acceptance = metropolis, Gap = 0.0000\n",
      "Warning: Gap is very small, may be inaccurate.\n",
      "Starting problem instance 127 of 2000 with n = 9\n"
     ]
    },
    {
     "name": "stderr",
     "output_type": "stream",
     "text": [
      "100%|██████████| 1000/1000 [00:04<00:00, 211.70it/s]\n"
     ]
    },
    {
     "name": "stdout",
     "output_type": "stream",
     "text": [
      "\t\tTotal time for config: 4.729449987411499\n",
      "Instance 127, T = 1.0, Proposal = MALA_MC, Acceptance = metropolis, Gap = 0.0000\n",
      "Warning: Gap is very small, may be inaccurate.\n",
      "Starting problem instance 128 of 2000 with n = 10\n"
     ]
    },
    {
     "name": "stderr",
     "output_type": "stream",
     "text": [
      "100%|██████████| 1000/1000 [00:07<00:00, 131.97it/s]\n"
     ]
    },
    {
     "name": "stdout",
     "output_type": "stream",
     "text": [
      "\t\tTotal time for config: 7.5804502964019775\n",
      "Instance 128, T = 1.0, Proposal = MALA_MC, Acceptance = metropolis, Gap = 0.0000\n",
      "Warning: Gap is very small, may be inaccurate.\n",
      "Starting problem instance 129 of 2000 with n = 3\n"
     ]
    },
    {
     "name": "stderr",
     "output_type": "stream",
     "text": [
      "100%|██████████| 1000/1000 [00:02<00:00, 444.20it/s]\n"
     ]
    },
    {
     "name": "stdout",
     "output_type": "stream",
     "text": [
      "\t\tTotal time for config: 2.2675678730010986\n",
      "Instance 129, T = 1.0, Proposal = MALA_MC, Acceptance = metropolis, Gap = 0.8300\n",
      "Starting problem instance 130 of 2000 with n = 4\n"
     ]
    },
    {
     "name": "stderr",
     "output_type": "stream",
     "text": [
      "100%|██████████| 1000/1000 [00:02<00:00, 334.34it/s]\n"
     ]
    },
    {
     "name": "stdout",
     "output_type": "stream",
     "text": [
      "\t\tTotal time for config: 2.9909231662750244\n",
      "Instance 130, T = 1.0, Proposal = MALA_MC, Acceptance = metropolis, Gap = 0.1158\n",
      "Starting problem instance 131 of 2000 with n = 5\n"
     ]
    },
    {
     "name": "stderr",
     "output_type": "stream",
     "text": [
      "100%|██████████| 1000/1000 [00:03<00:00, 269.86it/s]\n"
     ]
    },
    {
     "name": "stdout",
     "output_type": "stream",
     "text": [
      "\t\tTotal time for config: 3.722357749938965\n",
      "Instance 131, T = 1.0, Proposal = MALA_MC, Acceptance = metropolis, Gap = 0.0067\n",
      "Starting problem instance 132 of 2000 with n = 6\n"
     ]
    },
    {
     "name": "stderr",
     "output_type": "stream",
     "text": [
      "100%|██████████| 1000/1000 [00:04<00:00, 249.89it/s]\n"
     ]
    },
    {
     "name": "stdout",
     "output_type": "stream",
     "text": [
      "\t\tTotal time for config: 4.0017876625061035\n",
      "Instance 132, T = 1.0, Proposal = MALA_MC, Acceptance = metropolis, Gap = 0.0001\n",
      "Starting problem instance 133 of 2000 with n = 7\n"
     ]
    },
    {
     "name": "stderr",
     "output_type": "stream",
     "text": [
      "100%|██████████| 1000/1000 [00:04<00:00, 206.79it/s]\n"
     ]
    },
    {
     "name": "stdout",
     "output_type": "stream",
     "text": [
      "\t\tTotal time for config: 4.838881969451904\n",
      "Instance 133, T = 1.0, Proposal = MALA_MC, Acceptance = metropolis, Gap = 0.0694\n",
      "Starting problem instance 134 of 2000 with n = 8\n"
     ]
    },
    {
     "name": "stderr",
     "output_type": "stream",
     "text": [
      "100%|██████████| 1000/1000 [00:06<00:00, 150.43it/s]\n"
     ]
    },
    {
     "name": "stdout",
     "output_type": "stream",
     "text": [
      "\t\tTotal time for config: 6.664560556411743\n",
      "Instance 134, T = 1.0, Proposal = MALA_MC, Acceptance = metropolis, Gap = 0.0033\n",
      "Starting problem instance 135 of 2000 with n = 9\n"
     ]
    },
    {
     "name": "stderr",
     "output_type": "stream",
     "text": [
      "100%|██████████| 1000/1000 [00:04<00:00, 210.59it/s]\n"
     ]
    },
    {
     "name": "stdout",
     "output_type": "stream",
     "text": [
      "\t\tTotal time for config: 4.77806282043457\n",
      "Instance 135, T = 1.0, Proposal = MALA_MC, Acceptance = metropolis, Gap = 0.0000\n",
      "Warning: Gap is very small, may be inaccurate.\n",
      "Starting problem instance 136 of 2000 with n = 10\n"
     ]
    },
    {
     "name": "stderr",
     "output_type": "stream",
     "text": [
      "100%|██████████| 1000/1000 [00:07<00:00, 134.74it/s]\n"
     ]
    },
    {
     "name": "stdout",
     "output_type": "stream",
     "text": [
      "\t\tTotal time for config: 7.425244569778442\n",
      "Instance 136, T = 1.0, Proposal = MALA_MC, Acceptance = metropolis, Gap = 0.0000\n",
      "Warning: Gap is very small, may be inaccurate.\n",
      "Starting problem instance 137 of 2000 with n = 3\n"
     ]
    },
    {
     "name": "stderr",
     "output_type": "stream",
     "text": [
      "100%|██████████| 1000/1000 [00:01<00:00, 825.43it/s]\n"
     ]
    },
    {
     "name": "stdout",
     "output_type": "stream",
     "text": [
      "\t\tTotal time for config: 1.2164912223815918\n",
      "Instance 137, T = 1.0, Proposal = MALA_MC, Acceptance = metropolis, Gap = 0.4476\n",
      "Starting problem instance 138 of 2000 with n = 4\n"
     ]
    },
    {
     "name": "stderr",
     "output_type": "stream",
     "text": [
      "100%|██████████| 1000/1000 [00:02<00:00, 480.37it/s]\n"
     ]
    },
    {
     "name": "stdout",
     "output_type": "stream",
     "text": [
      "\t\tTotal time for config: 2.0832419395446777\n",
      "Instance 138, T = 1.0, Proposal = MALA_MC, Acceptance = metropolis, Gap = 0.6201\n",
      "Starting problem instance 139 of 2000 with n = 5\n"
     ]
    },
    {
     "name": "stderr",
     "output_type": "stream",
     "text": [
      "100%|██████████| 1000/1000 [00:03<00:00, 293.36it/s]\n"
     ]
    },
    {
     "name": "stdout",
     "output_type": "stream",
     "text": [
      "\t\tTotal time for config: 3.4107391834259033\n",
      "Instance 139, T = 1.0, Proposal = MALA_MC, Acceptance = metropolis, Gap = 0.3663\n",
      "Starting problem instance 140 of 2000 with n = 6\n"
     ]
    },
    {
     "name": "stderr",
     "output_type": "stream",
     "text": [
      "100%|██████████| 1000/1000 [00:04<00:00, 243.88it/s]\n"
     ]
    },
    {
     "name": "stdout",
     "output_type": "stream",
     "text": [
      "\t\tTotal time for config: 4.1102454662323\n",
      "Instance 140, T = 1.0, Proposal = MALA_MC, Acceptance = metropolis, Gap = 0.1479\n",
      "Starting problem instance 141 of 2000 with n = 7\n"
     ]
    },
    {
     "name": "stderr",
     "output_type": "stream",
     "text": [
      "100%|██████████| 1000/1000 [00:04<00:00, 211.08it/s]\n"
     ]
    },
    {
     "name": "stdout",
     "output_type": "stream",
     "text": [
      "\t\tTotal time for config: 4.750443696975708\n",
      "Instance 141, T = 1.0, Proposal = MALA_MC, Acceptance = metropolis, Gap = 0.7055\n",
      "Starting problem instance 142 of 2000 with n = 8\n"
     ]
    },
    {
     "name": "stderr",
     "output_type": "stream",
     "text": [
      "100%|██████████| 1000/1000 [00:06<00:00, 158.38it/s]\n"
     ]
    },
    {
     "name": "stdout",
     "output_type": "stream",
     "text": [
      "\t\tTotal time for config: 6.320087432861328\n",
      "Instance 142, T = 1.0, Proposal = MALA_MC, Acceptance = metropolis, Gap = 0.0000\n",
      "Warning: Gap is very small, may be inaccurate.\n",
      "Starting problem instance 143 of 2000 with n = 9\n"
     ]
    },
    {
     "name": "stderr",
     "output_type": "stream",
     "text": [
      "100%|██████████| 1000/1000 [00:10<00:00, 99.23it/s]\n"
     ]
    },
    {
     "name": "stdout",
     "output_type": "stream",
     "text": [
      "\t\tTotal time for config: 10.083768606185913\n",
      "Instance 143, T = 1.0, Proposal = MALA_MC, Acceptance = metropolis, Gap = 0.0000\n",
      "Warning: Gap is very small, may be inaccurate.\n",
      "Starting problem instance 144 of 2000 with n = 10\n"
     ]
    },
    {
     "name": "stderr",
     "output_type": "stream",
     "text": [
      "100%|██████████| 1000/1000 [00:18<00:00, 54.37it/s]\n"
     ]
    },
    {
     "name": "stdout",
     "output_type": "stream",
     "text": [
      "\t\tTotal time for config: 18.394022226333618\n",
      "Instance 144, T = 1.0, Proposal = MALA_MC, Acceptance = metropolis, Gap = 0.0000\n",
      "Warning: Gap is very small, may be inaccurate.\n",
      "Starting problem instance 145 of 2000 with n = 3\n"
     ]
    },
    {
     "name": "stderr",
     "output_type": "stream",
     "text": [
      "100%|██████████| 1000/1000 [00:02<00:00, 461.59it/s]\n"
     ]
    },
    {
     "name": "stdout",
     "output_type": "stream",
     "text": [
      "\t\tTotal time for config: 2.1754050254821777\n",
      "Instance 145, T = 1.0, Proposal = MALA_MC, Acceptance = metropolis, Gap = 0.7524\n",
      "Starting problem instance 146 of 2000 with n = 4\n"
     ]
    },
    {
     "name": "stderr",
     "output_type": "stream",
     "text": [
      "100%|██████████| 1000/1000 [00:02<00:00, 356.36it/s]\n"
     ]
    },
    {
     "name": "stdout",
     "output_type": "stream",
     "text": [
      "\t\tTotal time for config: 2.817694664001465\n",
      "Instance 146, T = 1.0, Proposal = MALA_MC, Acceptance = metropolis, Gap = 0.7815\n",
      "Starting problem instance 147 of 2000 with n = 5\n"
     ]
    },
    {
     "name": "stderr",
     "output_type": "stream",
     "text": [
      "100%|██████████| 1000/1000 [00:03<00:00, 266.74it/s]\n"
     ]
    },
    {
     "name": "stdout",
     "output_type": "stream",
     "text": [
      "\t\tTotal time for config: 3.757201910018921\n",
      "Instance 147, T = 1.0, Proposal = MALA_MC, Acceptance = metropolis, Gap = 0.7523\n",
      "Starting problem instance 148 of 2000 with n = 6\n"
     ]
    },
    {
     "name": "stderr",
     "output_type": "stream",
     "text": [
      "100%|██████████| 1000/1000 [00:04<00:00, 244.94it/s]\n"
     ]
    },
    {
     "name": "stdout",
     "output_type": "stream",
     "text": [
      "\t\tTotal time for config: 4.0827131271362305\n",
      "Instance 148, T = 1.0, Proposal = MALA_MC, Acceptance = metropolis, Gap = 0.0044\n",
      "Starting problem instance 149 of 2000 with n = 7\n"
     ]
    },
    {
     "name": "stderr",
     "output_type": "stream",
     "text": [
      "100%|██████████| 1000/1000 [00:04<00:00, 203.73it/s]\n"
     ]
    },
    {
     "name": "stdout",
     "output_type": "stream",
     "text": [
      "\t\tTotal time for config: 4.932404041290283\n",
      "Instance 149, T = 1.0, Proposal = MALA_MC, Acceptance = metropolis, Gap = 0.0000\n",
      "Warning: Gap is very small, may be inaccurate.\n",
      "Starting problem instance 150 of 2000 with n = 8\n"
     ]
    },
    {
     "name": "stderr",
     "output_type": "stream",
     "text": [
      "100%|██████████| 1000/1000 [00:06<00:00, 154.71it/s]\n"
     ]
    },
    {
     "name": "stdout",
     "output_type": "stream",
     "text": [
      "\t\tTotal time for config: 6.463770866394043\n",
      "Instance 150, T = 1.0, Proposal = MALA_MC, Acceptance = metropolis, Gap = 0.0000\n",
      "Warning: Gap is very small, may be inaccurate.\n",
      "Starting problem instance 151 of 2000 with n = 9\n"
     ]
    },
    {
     "name": "stderr",
     "output_type": "stream",
     "text": [
      "100%|██████████| 1000/1000 [00:10<00:00, 98.07it/s]\n"
     ]
    },
    {
     "name": "stdout",
     "output_type": "stream",
     "text": [
      "\t\tTotal time for config: 10.196932554244995\n",
      "Instance 151, T = 1.0, Proposal = MALA_MC, Acceptance = metropolis, Gap = 0.0000\n",
      "Warning: Gap is very small, may be inaccurate.\n",
      "Starting problem instance 152 of 2000 with n = 10\n"
     ]
    },
    {
     "name": "stderr",
     "output_type": "stream",
     "text": [
      "100%|██████████| 1000/1000 [00:18<00:00, 53.25it/s]\n"
     ]
    },
    {
     "name": "stdout",
     "output_type": "stream",
     "text": [
      "\t\tTotal time for config: 18.79438042640686\n",
      "Instance 152, T = 1.0, Proposal = MALA_MC, Acceptance = metropolis, Gap = 0.0000\n",
      "Warning: Gap is very small, may be inaccurate.\n",
      "Starting problem instance 153 of 2000 with n = 3\n"
     ]
    },
    {
     "name": "stderr",
     "output_type": "stream",
     "text": [
      "100%|██████████| 1000/1000 [00:02<00:00, 470.72it/s]\n"
     ]
    },
    {
     "name": "stdout",
     "output_type": "stream",
     "text": [
      "\t\tTotal time for config: 2.1361029148101807\n",
      "Instance 153, T = 1.0, Proposal = MALA_MC, Acceptance = metropolis, Gap = 0.7624\n",
      "Starting problem instance 154 of 2000 with n = 4\n"
     ]
    },
    {
     "name": "stderr",
     "output_type": "stream",
     "text": [
      "100%|██████████| 1000/1000 [00:02<00:00, 336.72it/s]\n"
     ]
    },
    {
     "name": "stdout",
     "output_type": "stream",
     "text": [
      "\t\tTotal time for config: 2.969789505004883\n",
      "Instance 154, T = 1.0, Proposal = MALA_MC, Acceptance = metropolis, Gap = 0.8277\n",
      "Starting problem instance 155 of 2000 with n = 5\n"
     ]
    },
    {
     "name": "stderr",
     "output_type": "stream",
     "text": [
      "100%|██████████| 1000/1000 [00:03<00:00, 296.84it/s]\n"
     ]
    },
    {
     "name": "stdout",
     "output_type": "stream",
     "text": [
      "\t\tTotal time for config: 3.381059169769287\n",
      "Instance 155, T = 1.0, Proposal = MALA_MC, Acceptance = metropolis, Gap = 0.0731\n",
      "Starting problem instance 156 of 2000 with n = 6\n"
     ]
    },
    {
     "name": "stderr",
     "output_type": "stream",
     "text": [
      "100%|██████████| 1000/1000 [00:03<00:00, 266.69it/s]\n"
     ]
    },
    {
     "name": "stdout",
     "output_type": "stream",
     "text": [
      "\t\tTotal time for config: 3.749699354171753\n",
      "Instance 156, T = 1.0, Proposal = MALA_MC, Acceptance = metropolis, Gap = 0.4110\n",
      "Starting problem instance 157 of 2000 with n = 7\n"
     ]
    },
    {
     "name": "stderr",
     "output_type": "stream",
     "text": [
      "100%|██████████| 1000/1000 [00:04<00:00, 209.76it/s]\n"
     ]
    },
    {
     "name": "stdout",
     "output_type": "stream",
     "text": [
      "\t\tTotal time for config: 4.767380475997925\n",
      "Instance 157, T = 1.0, Proposal = MALA_MC, Acceptance = metropolis, Gap = 0.0000\n",
      "Warning: Gap is very small, may be inaccurate.\n",
      "Starting problem instance 158 of 2000 with n = 8\n"
     ]
    },
    {
     "name": "stderr",
     "output_type": "stream",
     "text": [
      "100%|██████████| 1000/1000 [00:06<00:00, 154.16it/s]\n"
     ]
    },
    {
     "name": "stdout",
     "output_type": "stream",
     "text": [
      "\t\tTotal time for config: 6.4869420528411865\n",
      "Instance 158, T = 1.0, Proposal = MALA_MC, Acceptance = metropolis, Gap = 0.0000\n",
      "Warning: Gap is very small, may be inaccurate.\n",
      "Starting problem instance 159 of 2000 with n = 9\n"
     ]
    },
    {
     "name": "stderr",
     "output_type": "stream",
     "text": [
      "100%|██████████| 1000/1000 [00:10<00:00, 99.63it/s] \n"
     ]
    },
    {
     "name": "stdout",
     "output_type": "stream",
     "text": [
      "\t\tTotal time for config: 10.037392616271973\n",
      "Instance 159, T = 1.0, Proposal = MALA_MC, Acceptance = metropolis, Gap = 0.0000\n",
      "Warning: Gap is very small, may be inaccurate.\n",
      "Starting problem instance 160 of 2000 with n = 10\n"
     ]
    },
    {
     "name": "stderr",
     "output_type": "stream",
     "text": [
      "100%|██████████| 1000/1000 [00:11<00:00, 89.35it/s]\n"
     ]
    },
    {
     "name": "stdout",
     "output_type": "stream",
     "text": [
      "\t\tTotal time for config: 11.199907779693604\n",
      "Instance 160, T = 1.0, Proposal = MALA_MC, Acceptance = metropolis, Gap = 0.0000\n",
      "Warning: Gap is very small, may be inaccurate.\n",
      "Starting problem instance 161 of 2000 with n = 3\n"
     ]
    },
    {
     "name": "stderr",
     "output_type": "stream",
     "text": [
      "100%|██████████| 1000/1000 [00:01<00:00, 966.34it/s]\n"
     ]
    },
    {
     "name": "stdout",
     "output_type": "stream",
     "text": [
      "\t\tTotal time for config: 1.0358693599700928\n",
      "Instance 161, T = 1.0, Proposal = MALA_MC, Acceptance = metropolis, Gap = 0.8211\n",
      "Starting problem instance 162 of 2000 with n = 4\n"
     ]
    },
    {
     "name": "stderr",
     "output_type": "stream",
     "text": [
      "100%|██████████| 1000/1000 [00:01<00:00, 547.76it/s]\n"
     ]
    },
    {
     "name": "stdout",
     "output_type": "stream",
     "text": [
      "\t\tTotal time for config: 1.826657772064209\n",
      "Instance 162, T = 1.0, Proposal = MALA_MC, Acceptance = metropolis, Gap = 0.6990\n",
      "Starting problem instance 163 of 2000 with n = 5\n"
     ]
    },
    {
     "name": "stderr",
     "output_type": "stream",
     "text": [
      "100%|██████████| 1000/1000 [00:02<00:00, 431.79it/s]\n"
     ]
    },
    {
     "name": "stdout",
     "output_type": "stream",
     "text": [
      "\t\tTotal time for config: 2.3214712142944336\n",
      "Instance 163, T = 1.0, Proposal = MALA_MC, Acceptance = metropolis, Gap = 0.4233\n",
      "Starting problem instance 164 of 2000 with n = 6\n"
     ]
    },
    {
     "name": "stderr",
     "output_type": "stream",
     "text": [
      "100%|██████████| 1000/1000 [00:02<00:00, 362.91it/s]\n"
     ]
    },
    {
     "name": "stdout",
     "output_type": "stream",
     "text": [
      "\t\tTotal time for config: 2.7555410861968994\n",
      "Instance 164, T = 1.0, Proposal = MALA_MC, Acceptance = metropolis, Gap = 0.0000\n",
      "Warning: Gap is very small, may be inaccurate.\n",
      "Starting problem instance 165 of 2000 with n = 7\n"
     ]
    },
    {
     "name": "stderr",
     "output_type": "stream",
     "text": [
      "100%|██████████| 1000/1000 [00:03<00:00, 287.29it/s]\n"
     ]
    },
    {
     "name": "stdout",
     "output_type": "stream",
     "text": [
      "\t\tTotal time for config: 3.4807732105255127\n",
      "Instance 165, T = 1.0, Proposal = MALA_MC, Acceptance = metropolis, Gap = 0.0000\n",
      "Warning: Gap is very small, may be inaccurate.\n",
      "Starting problem instance 166 of 2000 with n = 8\n"
     ]
    },
    {
     "name": "stderr",
     "output_type": "stream",
     "text": [
      "100%|██████████| 1000/1000 [00:04<00:00, 217.81it/s]\n"
     ]
    },
    {
     "name": "stdout",
     "output_type": "stream",
     "text": [
      "\t\tTotal time for config: 4.6026575565338135\n",
      "Instance 166, T = 1.0, Proposal = MALA_MC, Acceptance = metropolis, Gap = 0.0000\n",
      "Warning: Gap is very small, may be inaccurate.\n",
      "Starting problem instance 167 of 2000 with n = 9\n"
     ]
    },
    {
     "name": "stderr",
     "output_type": "stream",
     "text": [
      "100%|██████████| 1000/1000 [00:10<00:00, 94.82it/s]\n"
     ]
    },
    {
     "name": "stdout",
     "output_type": "stream",
     "text": [
      "\t\tTotal time for config: 10.556654930114746\n",
      "Instance 167, T = 1.0, Proposal = MALA_MC, Acceptance = metropolis, Gap = 0.0000\n",
      "Warning: Gap is very small, may be inaccurate.\n",
      "Starting problem instance 168 of 2000 with n = 10\n"
     ]
    },
    {
     "name": "stderr",
     "output_type": "stream",
     "text": [
      "100%|██████████| 1000/1000 [00:16<00:00, 60.36it/s]\n"
     ]
    },
    {
     "name": "stdout",
     "output_type": "stream",
     "text": [
      "\t\tTotal time for config: 16.5805983543396\n",
      "Instance 168, T = 1.0, Proposal = MALA_MC, Acceptance = metropolis, Gap = 0.0000\n",
      "Warning: Gap is very small, may be inaccurate.\n",
      "Starting problem instance 169 of 2000 with n = 3\n"
     ]
    },
    {
     "name": "stderr",
     "output_type": "stream",
     "text": [
      "100%|██████████| 1000/1000 [00:02<00:00, 379.90it/s]\n"
     ]
    },
    {
     "name": "stdout",
     "output_type": "stream",
     "text": [
      "\t\tTotal time for config: 2.6486318111419678\n",
      "Instance 169, T = 1.0, Proposal = MALA_MC, Acceptance = metropolis, Gap = 0.5083\n",
      "Starting problem instance 170 of 2000 with n = 4\n"
     ]
    },
    {
     "name": "stderr",
     "output_type": "stream",
     "text": [
      "100%|██████████| 1000/1000 [00:03<00:00, 260.43it/s]\n"
     ]
    },
    {
     "name": "stdout",
     "output_type": "stream",
     "text": [
      "\t\tTotal time for config: 3.8559796810150146\n",
      "Instance 170, T = 1.0, Proposal = MALA_MC, Acceptance = metropolis, Gap = 0.0000\n",
      "Warning: Gap is very small, may be inaccurate.\n",
      "Starting problem instance 171 of 2000 with n = 5\n"
     ]
    },
    {
     "name": "stderr",
     "output_type": "stream",
     "text": [
      "100%|██████████| 1000/1000 [00:05<00:00, 190.25it/s]\n"
     ]
    },
    {
     "name": "stdout",
     "output_type": "stream",
     "text": [
      "\t\tTotal time for config: 5.262392282485962\n",
      "Instance 171, T = 1.0, Proposal = MALA_MC, Acceptance = metropolis, Gap = 0.1427\n",
      "Starting problem instance 172 of 2000 with n = 6\n"
     ]
    },
    {
     "name": "stderr",
     "output_type": "stream",
     "text": [
      "100%|██████████| 1000/1000 [00:04<00:00, 208.96it/s]\n"
     ]
    },
    {
     "name": "stdout",
     "output_type": "stream",
     "text": [
      "\t\tTotal time for config: 4.789969444274902\n",
      "Instance 172, T = 1.0, Proposal = MALA_MC, Acceptance = metropolis, Gap = 0.0000\n",
      "Warning: Gap is very small, may be inaccurate.\n",
      "Starting problem instance 173 of 2000 with n = 7\n"
     ]
    },
    {
     "name": "stderr",
     "output_type": "stream",
     "text": [
      "100%|██████████| 1000/1000 [00:05<00:00, 174.20it/s]\n"
     ]
    },
    {
     "name": "stdout",
     "output_type": "stream",
     "text": [
      "\t\tTotal time for config: 5.74861741065979\n",
      "Instance 173, T = 1.0, Proposal = MALA_MC, Acceptance = metropolis, Gap = 0.0000\n",
      "Warning: Gap is very small, may be inaccurate.\n",
      "Starting problem instance 174 of 2000 with n = 8\n"
     ]
    },
    {
     "name": "stderr",
     "output_type": "stream",
     "text": [
      "100%|██████████| 1000/1000 [00:07<00:00, 136.67it/s]\n"
     ]
    },
    {
     "name": "stdout",
     "output_type": "stream",
     "text": [
      "\t\tTotal time for config: 7.3190789222717285\n",
      "Instance 174, T = 1.0, Proposal = MALA_MC, Acceptance = metropolis, Gap = 0.0000\n",
      "Warning: Gap is very small, may be inaccurate.\n",
      "Starting problem instance 175 of 2000 with n = 9\n"
     ]
    },
    {
     "name": "stderr",
     "output_type": "stream",
     "text": [
      "100%|██████████| 1000/1000 [00:09<00:00, 108.34it/s]\n"
     ]
    },
    {
     "name": "stdout",
     "output_type": "stream",
     "text": [
      "\t\tTotal time for config: 9.239898443222046\n",
      "Instance 175, T = 1.0, Proposal = MALA_MC, Acceptance = metropolis, Gap = 0.0000\n",
      "Warning: Gap is very small, may be inaccurate.\n",
      "Starting problem instance 176 of 2000 with n = 10\n"
     ]
    },
    {
     "name": "stderr",
     "output_type": "stream",
     "text": [
      "100%|██████████| 1000/1000 [00:14<00:00, 69.92it/s]\n"
     ]
    },
    {
     "name": "stdout",
     "output_type": "stream",
     "text": [
      "\t\tTotal time for config: 14.306376695632935\n",
      "Instance 176, T = 1.0, Proposal = MALA_MC, Acceptance = metropolis, Gap = 0.0000\n",
      "Warning: Gap is very small, may be inaccurate.\n",
      "Starting problem instance 177 of 2000 with n = 3\n"
     ]
    },
    {
     "name": "stderr",
     "output_type": "stream",
     "text": [
      "100%|██████████| 1000/1000 [00:02<00:00, 384.43it/s]\n"
     ]
    },
    {
     "name": "stdout",
     "output_type": "stream",
     "text": [
      "\t\tTotal time for config: 2.631392478942871\n",
      "Instance 177, T = 1.0, Proposal = MALA_MC, Acceptance = metropolis, Gap = 0.6292\n",
      "Starting problem instance 178 of 2000 with n = 4\n"
     ]
    },
    {
     "name": "stderr",
     "output_type": "stream",
     "text": [
      "100%|██████████| 1000/1000 [00:03<00:00, 282.99it/s]\n"
     ]
    },
    {
     "name": "stdout",
     "output_type": "stream",
     "text": [
      "\t\tTotal time for config: 3.53367280960083\n",
      "Instance 178, T = 1.0, Proposal = MALA_MC, Acceptance = metropolis, Gap = 0.4481\n",
      "Starting problem instance 179 of 2000 with n = 5\n"
     ]
    },
    {
     "name": "stderr",
     "output_type": "stream",
     "text": [
      "100%|██████████| 1000/1000 [00:05<00:00, 179.10it/s]\n"
     ]
    },
    {
     "name": "stdout",
     "output_type": "stream",
     "text": [
      "\t\tTotal time for config: 5.5835089683532715\n",
      "Instance 179, T = 1.0, Proposal = MALA_MC, Acceptance = metropolis, Gap = 0.0415\n",
      "Starting problem instance 180 of 2000 with n = 6\n"
     ]
    },
    {
     "name": "stderr",
     "output_type": "stream",
     "text": [
      "100%|██████████| 1000/1000 [00:05<00:00, 176.74it/s]\n"
     ]
    },
    {
     "name": "stdout",
     "output_type": "stream",
     "text": [
      "\t\tTotal time for config: 5.669196367263794\n",
      "Instance 180, T = 1.0, Proposal = MALA_MC, Acceptance = metropolis, Gap = 0.0000\n",
      "Warning: Gap is very small, may be inaccurate.\n",
      "Starting problem instance 181 of 2000 with n = 7\n"
     ]
    },
    {
     "name": "stderr",
     "output_type": "stream",
     "text": [
      "100%|██████████| 1000/1000 [00:06<00:00, 165.99it/s]\n"
     ]
    },
    {
     "name": "stdout",
     "output_type": "stream",
     "text": [
      "\t\tTotal time for config: 6.032722473144531\n",
      "Instance 181, T = 1.0, Proposal = MALA_MC, Acceptance = metropolis, Gap = 0.0000\n",
      "Warning: Gap is very small, may be inaccurate.\n",
      "Starting problem instance 182 of 2000 with n = 8\n"
     ]
    },
    {
     "name": "stderr",
     "output_type": "stream",
     "text": [
      "100%|██████████| 1000/1000 [00:07<00:00, 133.99it/s]\n"
     ]
    },
    {
     "name": "stdout",
     "output_type": "stream",
     "text": [
      "\t\tTotal time for config: 7.480076789855957\n",
      "Instance 182, T = 1.0, Proposal = MALA_MC, Acceptance = metropolis, Gap = 0.0010\n",
      "Starting problem instance 183 of 2000 with n = 9\n"
     ]
    },
    {
     "name": "stderr",
     "output_type": "stream",
     "text": [
      "100%|██████████| 1000/1000 [00:08<00:00, 111.91it/s]\n"
     ]
    },
    {
     "name": "stdout",
     "output_type": "stream",
     "text": [
      "\t\tTotal time for config: 8.938962459564209\n",
      "Instance 183, T = 1.0, Proposal = MALA_MC, Acceptance = metropolis, Gap = 0.0000\n",
      "Warning: Gap is very small, may be inaccurate.\n",
      "Starting problem instance 184 of 2000 with n = 10\n"
     ]
    },
    {
     "name": "stderr",
     "output_type": "stream",
     "text": [
      "100%|██████████| 1000/1000 [00:14<00:00, 70.06it/s]\n"
     ]
    },
    {
     "name": "stdout",
     "output_type": "stream",
     "text": [
      "\t\tTotal time for config: 14.281267404556274\n",
      "Instance 184, T = 1.0, Proposal = MALA_MC, Acceptance = metropolis, Gap = 0.0000\n",
      "Warning: Gap is very small, may be inaccurate.\n",
      "Starting problem instance 185 of 2000 with n = 3\n"
     ]
    },
    {
     "name": "stderr",
     "output_type": "stream",
     "text": [
      "100%|██████████| 1000/1000 [00:02<00:00, 379.77it/s]\n"
     ]
    },
    {
     "name": "stdout",
     "output_type": "stream",
     "text": [
      "\t\tTotal time for config: 2.6369616985321045\n",
      "Instance 185, T = 1.0, Proposal = MALA_MC, Acceptance = metropolis, Gap = 0.5178\n",
      "Starting problem instance 186 of 2000 with n = 4\n"
     ]
    },
    {
     "name": "stderr",
     "output_type": "stream",
     "text": [
      "100%|██████████| 1000/1000 [00:04<00:00, 238.66it/s]\n"
     ]
    },
    {
     "name": "stdout",
     "output_type": "stream",
     "text": [
      "\t\tTotal time for config: 4.198733568191528\n",
      "Instance 186, T = 1.0, Proposal = MALA_MC, Acceptance = metropolis, Gap = 0.8771\n",
      "Starting problem instance 187 of 2000 with n = 5\n"
     ]
    },
    {
     "name": "stderr",
     "output_type": "stream",
     "text": [
      "100%|██████████| 1000/1000 [00:05<00:00, 192.15it/s]\n"
     ]
    },
    {
     "name": "stdout",
     "output_type": "stream",
     "text": [
      "\t\tTotal time for config: 5.220592260360718\n",
      "Instance 187, T = 1.0, Proposal = MALA_MC, Acceptance = metropolis, Gap = 0.0983\n",
      "Starting problem instance 188 of 2000 with n = 6\n"
     ]
    },
    {
     "name": "stderr",
     "output_type": "stream",
     "text": [
      "100%|██████████| 1000/1000 [00:05<00:00, 179.98it/s]\n"
     ]
    },
    {
     "name": "stdout",
     "output_type": "stream",
     "text": [
      "\t\tTotal time for config: 5.571986675262451\n",
      "Instance 188, T = 1.0, Proposal = MALA_MC, Acceptance = metropolis, Gap = 0.0276\n",
      "Starting problem instance 189 of 2000 with n = 7\n"
     ]
    },
    {
     "name": "stderr",
     "output_type": "stream",
     "text": [
      "100%|██████████| 1000/1000 [00:05<00:00, 169.28it/s]\n"
     ]
    },
    {
     "name": "stdout",
     "output_type": "stream",
     "text": [
      "\t\tTotal time for config: 5.916834354400635\n",
      "Instance 189, T = 1.0, Proposal = MALA_MC, Acceptance = metropolis, Gap = 0.0000\n",
      "Warning: Gap is very small, may be inaccurate.\n",
      "Starting problem instance 190 of 2000 with n = 8\n"
     ]
    },
    {
     "name": "stderr",
     "output_type": "stream",
     "text": [
      "100%|██████████| 1000/1000 [00:07<00:00, 137.47it/s]\n"
     ]
    },
    {
     "name": "stdout",
     "output_type": "stream",
     "text": [
      "\t\tTotal time for config: 7.282741069793701\n",
      "Instance 190, T = 1.0, Proposal = MALA_MC, Acceptance = metropolis, Gap = 0.0000\n",
      "Warning: Gap is very small, may be inaccurate.\n",
      "Starting problem instance 191 of 2000 with n = 9\n"
     ]
    },
    {
     "name": "stderr",
     "output_type": "stream",
     "text": [
      "100%|██████████| 1000/1000 [00:08<00:00, 114.56it/s]\n"
     ]
    },
    {
     "name": "stdout",
     "output_type": "stream",
     "text": [
      "\t\tTotal time for config: 8.731147527694702\n",
      "Instance 191, T = 1.0, Proposal = MALA_MC, Acceptance = metropolis, Gap = 0.0000\n",
      "Warning: Gap is very small, may be inaccurate.\n",
      "Starting problem instance 192 of 2000 with n = 10\n"
     ]
    },
    {
     "name": "stderr",
     "output_type": "stream",
     "text": [
      "100%|██████████| 1000/1000 [00:14<00:00, 68.62it/s]\n"
     ]
    },
    {
     "name": "stdout",
     "output_type": "stream",
     "text": [
      "\t\tTotal time for config: 14.572156429290771\n",
      "Instance 192, T = 1.0, Proposal = MALA_MC, Acceptance = metropolis, Gap = 0.0000\n",
      "Warning: Gap is very small, may be inaccurate.\n",
      "Starting problem instance 193 of 2000 with n = 3\n"
     ]
    },
    {
     "name": "stderr",
     "output_type": "stream",
     "text": [
      "100%|██████████| 1000/1000 [00:02<00:00, 409.17it/s]\n"
     ]
    },
    {
     "name": "stdout",
     "output_type": "stream",
     "text": [
      "\t\tTotal time for config: 2.443960189819336\n",
      "Instance 193, T = 1.0, Proposal = MALA_MC, Acceptance = metropolis, Gap = 0.6652\n",
      "Starting problem instance 194 of 2000 with n = 4\n"
     ]
    },
    {
     "name": "stderr",
     "output_type": "stream",
     "text": [
      "100%|██████████| 1000/1000 [00:03<00:00, 250.95it/s]\n"
     ]
    },
    {
     "name": "stdout",
     "output_type": "stream",
     "text": [
      "\t\tTotal time for config: 3.9931204319000244\n",
      "Instance 194, T = 1.0, Proposal = MALA_MC, Acceptance = metropolis, Gap = 0.6125\n",
      "Starting problem instance 195 of 2000 with n = 5\n"
     ]
    },
    {
     "name": "stderr",
     "output_type": "stream",
     "text": [
      "100%|██████████| 1000/1000 [00:05<00:00, 179.74it/s]\n"
     ]
    },
    {
     "name": "stdout",
     "output_type": "stream",
     "text": [
      "\t\tTotal time for config: 5.571731805801392\n",
      "Instance 195, T = 1.0, Proposal = MALA_MC, Acceptance = metropolis, Gap = 0.0000\n",
      "Warning: Gap is very small, may be inaccurate.\n",
      "Starting problem instance 196 of 2000 with n = 6\n"
     ]
    },
    {
     "name": "stderr",
     "output_type": "stream",
     "text": [
      "100%|██████████| 1000/1000 [00:05<00:00, 177.49it/s]\n"
     ]
    },
    {
     "name": "stdout",
     "output_type": "stream",
     "text": [
      "\t\tTotal time for config: 5.646469831466675\n",
      "Instance 196, T = 1.0, Proposal = MALA_MC, Acceptance = metropolis, Gap = 0.0009\n",
      "Starting problem instance 197 of 2000 with n = 7\n"
     ]
    },
    {
     "name": "stderr",
     "output_type": "stream",
     "text": [
      "100%|██████████| 1000/1000 [00:05<00:00, 167.03it/s]\n"
     ]
    },
    {
     "name": "stdout",
     "output_type": "stream",
     "text": [
      "\t\tTotal time for config: 5.991631984710693\n",
      "Instance 197, T = 1.0, Proposal = MALA_MC, Acceptance = metropolis, Gap = 0.0000\n",
      "Warning: Gap is very small, may be inaccurate.\n",
      "Starting problem instance 198 of 2000 with n = 8\n"
     ]
    },
    {
     "name": "stderr",
     "output_type": "stream",
     "text": [
      "100%|██████████| 1000/1000 [00:07<00:00, 135.27it/s]\n"
     ]
    },
    {
     "name": "stdout",
     "output_type": "stream",
     "text": [
      "\t\tTotal time for config: 7.402741193771362\n",
      "Instance 198, T = 1.0, Proposal = MALA_MC, Acceptance = metropolis, Gap = 0.0000\n",
      "Warning: Gap is very small, may be inaccurate.\n",
      "Starting problem instance 199 of 2000 with n = 9\n"
     ]
    },
    {
     "name": "stderr",
     "output_type": "stream",
     "text": [
      "100%|██████████| 1000/1000 [00:09<00:00, 101.28it/s]\n"
     ]
    },
    {
     "name": "stdout",
     "output_type": "stream",
     "text": [
      "\t\tTotal time for config: 9.887788772583008\n",
      "Instance 199, T = 1.0, Proposal = MALA_MC, Acceptance = metropolis, Gap = 0.0000\n",
      "Warning: Gap is very small, may be inaccurate.\n",
      "Starting problem instance 200 of 2000 with n = 10\n"
     ]
    },
    {
     "name": "stderr",
     "output_type": "stream",
     "text": [
      "100%|██████████| 1000/1000 [00:14<00:00, 69.69it/s]\n"
     ]
    },
    {
     "name": "stdout",
     "output_type": "stream",
     "text": [
      "\t\tTotal time for config: 14.35759687423706\n",
      "Instance 200, T = 1.0, Proposal = MALA_MC, Acceptance = metropolis, Gap = 0.0000\n",
      "Warning: Gap is very small, may be inaccurate.\n",
      "Starting problem instance 201 of 2000 with n = 3\n"
     ]
    },
    {
     "name": "stderr",
     "output_type": "stream",
     "text": [
      "100%|██████████| 1000/1000 [00:02<00:00, 423.56it/s]\n"
     ]
    },
    {
     "name": "stdout",
     "output_type": "stream",
     "text": [
      "\t\tTotal time for config: 2.3795762062072754\n",
      "Instance 201, T = 1.0, Proposal = MALA_MC, Acceptance = metropolis, Gap = 0.8521\n",
      "Starting problem instance 202 of 2000 with n = 4\n"
     ]
    },
    {
     "name": "stderr",
     "output_type": "stream",
     "text": [
      "100%|██████████| 1000/1000 [00:03<00:00, 302.34it/s]\n"
     ]
    },
    {
     "name": "stdout",
     "output_type": "stream",
     "text": [
      "\t\tTotal time for config: 3.310307264328003\n",
      "Instance 202, T = 1.0, Proposal = MALA_MC, Acceptance = metropolis, Gap = 0.5761\n",
      "Starting problem instance 203 of 2000 with n = 5\n"
     ]
    },
    {
     "name": "stderr",
     "output_type": "stream",
     "text": [
      "100%|██████████| 1000/1000 [00:05<00:00, 193.85it/s]\n"
     ]
    },
    {
     "name": "stdout",
     "output_type": "stream",
     "text": [
      "\t\tTotal time for config: 5.169308185577393\n",
      "Instance 203, T = 1.0, Proposal = MALA_MC, Acceptance = metropolis, Gap = 0.5098\n",
      "Starting problem instance 204 of 2000 with n = 6\n"
     ]
    },
    {
     "name": "stderr",
     "output_type": "stream",
     "text": [
      "100%|██████████| 1000/1000 [00:03<00:00, 260.86it/s]\n"
     ]
    },
    {
     "name": "stdout",
     "output_type": "stream",
     "text": [
      "\t\tTotal time for config: 3.839658737182617\n",
      "Instance 204, T = 1.0, Proposal = MALA_MC, Acceptance = metropolis, Gap = 0.0000\n",
      "Warning: Gap is very small, may be inaccurate.\n",
      "Starting problem instance 205 of 2000 with n = 7\n"
     ]
    },
    {
     "name": "stderr",
     "output_type": "stream",
     "text": [
      "100%|██████████| 1000/1000 [00:03<00:00, 328.27it/s]\n"
     ]
    },
    {
     "name": "stdout",
     "output_type": "stream",
     "text": [
      "\t\tTotal time for config: 3.051175594329834\n",
      "Instance 205, T = 1.0, Proposal = MALA_MC, Acceptance = metropolis, Gap = 0.0000\n",
      "Warning: Gap is very small, may be inaccurate.\n",
      "Starting problem instance 206 of 2000 with n = 8\n"
     ]
    },
    {
     "name": "stderr",
     "output_type": "stream",
     "text": [
      "100%|██████████| 1000/1000 [00:03<00:00, 299.11it/s]\n"
     ]
    },
    {
     "name": "stdout",
     "output_type": "stream",
     "text": [
      "\t\tTotal time for config: 3.34328031539917\n",
      "Instance 206, T = 1.0, Proposal = MALA_MC, Acceptance = metropolis, Gap = 0.0000\n",
      "Warning: Gap is very small, may be inaccurate.\n",
      "Starting problem instance 207 of 2000 with n = 9\n"
     ]
    },
    {
     "name": "stderr",
     "output_type": "stream",
     "text": [
      "100%|██████████| 1000/1000 [00:04<00:00, 218.64it/s]\n"
     ]
    },
    {
     "name": "stdout",
     "output_type": "stream",
     "text": [
      "\t\tTotal time for config: 4.582210540771484\n",
      "Instance 207, T = 1.0, Proposal = MALA_MC, Acceptance = metropolis, Gap = 0.0000\n",
      "Warning: Gap is very small, may be inaccurate.\n",
      "Starting problem instance 208 of 2000 with n = 10\n"
     ]
    },
    {
     "name": "stderr",
     "output_type": "stream",
     "text": [
      "100%|██████████| 1000/1000 [00:11<00:00, 85.11it/s]\n"
     ]
    },
    {
     "name": "stdout",
     "output_type": "stream",
     "text": [
      "\t\tTotal time for config: 11.749123096466064\n",
      "Instance 208, T = 1.0, Proposal = MALA_MC, Acceptance = metropolis, Gap = 0.0000\n",
      "Warning: Gap is very small, may be inaccurate.\n",
      "Starting problem instance 209 of 2000 with n = 3\n"
     ]
    },
    {
     "name": "stderr",
     "output_type": "stream",
     "text": [
      "100%|██████████| 1000/1000 [00:02<00:00, 438.36it/s]\n"
     ]
    },
    {
     "name": "stdout",
     "output_type": "stream",
     "text": [
      "\t\tTotal time for config: 2.3114583492279053\n",
      "Instance 209, T = 1.0, Proposal = MALA_MC, Acceptance = metropolis, Gap = 0.7292\n",
      "Starting problem instance 210 of 2000 with n = 4\n"
     ]
    },
    {
     "name": "stderr",
     "output_type": "stream",
     "text": [
      "100%|██████████| 1000/1000 [00:02<00:00, 343.15it/s]\n"
     ]
    },
    {
     "name": "stdout",
     "output_type": "stream",
     "text": [
      "\t\tTotal time for config: 2.9384350776672363\n",
      "Instance 210, T = 1.0, Proposal = MALA_MC, Acceptance = metropolis, Gap = 0.6490\n",
      "Starting problem instance 211 of 2000 with n = 5\n"
     ]
    },
    {
     "name": "stderr",
     "output_type": "stream",
     "text": [
      "100%|██████████| 1000/1000 [00:03<00:00, 285.84it/s]\n"
     ]
    },
    {
     "name": "stdout",
     "output_type": "stream",
     "text": [
      "\t\tTotal time for config: 3.4994378089904785\n",
      "Instance 211, T = 1.0, Proposal = MALA_MC, Acceptance = metropolis, Gap = 0.0000\n",
      "Warning: Gap is very small, may be inaccurate.\n",
      "Starting problem instance 212 of 2000 with n = 6\n"
     ]
    },
    {
     "name": "stderr",
     "output_type": "stream",
     "text": [
      "100%|██████████| 1000/1000 [00:03<00:00, 265.53it/s]\n"
     ]
    },
    {
     "name": "stdout",
     "output_type": "stream",
     "text": [
      "\t\tTotal time for config: 3.777348279953003\n",
      "Instance 212, T = 1.0, Proposal = MALA_MC, Acceptance = metropolis, Gap = 0.0338\n",
      "Starting problem instance 213 of 2000 with n = 7\n"
     ]
    },
    {
     "name": "stderr",
     "output_type": "stream",
     "text": [
      "100%|██████████| 1000/1000 [00:04<00:00, 203.43it/s]\n"
     ]
    },
    {
     "name": "stdout",
     "output_type": "stream",
     "text": [
      "\t\tTotal time for config: 4.9237589836120605\n",
      "Instance 213, T = 1.0, Proposal = MALA_MC, Acceptance = metropolis, Gap = 0.0000\n",
      "Warning: Gap is very small, may be inaccurate.\n",
      "Starting problem instance 214 of 2000 with n = 8\n"
     ]
    },
    {
     "name": "stderr",
     "output_type": "stream",
     "text": [
      "100%|██████████| 1000/1000 [00:06<00:00, 158.72it/s]\n"
     ]
    },
    {
     "name": "stdout",
     "output_type": "stream",
     "text": [
      "\t\tTotal time for config: 6.315531253814697\n",
      "Instance 214, T = 1.0, Proposal = MALA_MC, Acceptance = metropolis, Gap = 0.0000\n",
      "Warning: Gap is very small, may be inaccurate.\n",
      "Starting problem instance 215 of 2000 with n = 9\n"
     ]
    },
    {
     "name": "stderr",
     "output_type": "stream",
     "text": [
      "100%|██████████| 1000/1000 [00:09<00:00, 102.21it/s]\n"
     ]
    },
    {
     "name": "stdout",
     "output_type": "stream",
     "text": [
      "\t\tTotal time for config: 9.794056415557861\n",
      "Instance 215, T = 1.0, Proposal = MALA_MC, Acceptance = metropolis, Gap = 0.0000\n",
      "Warning: Gap is very small, may be inaccurate.\n",
      "Starting problem instance 216 of 2000 with n = 10\n"
     ]
    },
    {
     "name": "stderr",
     "output_type": "stream",
     "text": [
      "100%|██████████| 1000/1000 [00:18<00:00, 52.94it/s]\n"
     ]
    },
    {
     "name": "stdout",
     "output_type": "stream",
     "text": [
      "\t\tTotal time for config: 18.897638082504272\n",
      "Instance 216, T = 1.0, Proposal = MALA_MC, Acceptance = metropolis, Gap = 0.0000\n",
      "Warning: Gap is very small, may be inaccurate.\n",
      "Starting problem instance 217 of 2000 with n = 3\n"
     ]
    },
    {
     "name": "stderr",
     "output_type": "stream",
     "text": [
      "100%|██████████| 1000/1000 [00:02<00:00, 435.29it/s]\n"
     ]
    },
    {
     "name": "stdout",
     "output_type": "stream",
     "text": [
      "\t\tTotal time for config: 2.3056793212890625\n",
      "Instance 217, T = 1.0, Proposal = MALA_MC, Acceptance = metropolis, Gap = 0.3928\n",
      "Starting problem instance 218 of 2000 with n = 4\n"
     ]
    },
    {
     "name": "stderr",
     "output_type": "stream",
     "text": [
      "100%|██████████| 1000/1000 [00:03<00:00, 314.06it/s]\n"
     ]
    },
    {
     "name": "stdout",
     "output_type": "stream",
     "text": [
      "\t\tTotal time for config: 3.1916983127593994\n",
      "Instance 218, T = 1.0, Proposal = MALA_MC, Acceptance = metropolis, Gap = 0.4731\n",
      "Starting problem instance 219 of 2000 with n = 5\n"
     ]
    },
    {
     "name": "stderr",
     "output_type": "stream",
     "text": [
      "100%|██████████| 1000/1000 [00:03<00:00, 288.11it/s]\n"
     ]
    },
    {
     "name": "stdout",
     "output_type": "stream",
     "text": [
      "\t\tTotal time for config: 3.4722983837127686\n",
      "Instance 219, T = 1.0, Proposal = MALA_MC, Acceptance = metropolis, Gap = 0.4689\n",
      "Starting problem instance 220 of 2000 with n = 6\n"
     ]
    },
    {
     "name": "stderr",
     "output_type": "stream",
     "text": [
      "100%|██████████| 1000/1000 [00:02<00:00, 392.20it/s]\n"
     ]
    },
    {
     "name": "stdout",
     "output_type": "stream",
     "text": [
      "\t\tTotal time for config: 2.553084135055542\n",
      "Instance 220, T = 1.0, Proposal = MALA_MC, Acceptance = metropolis, Gap = 0.0021\n",
      "Starting problem instance 221 of 2000 with n = 7\n"
     ]
    },
    {
     "name": "stderr",
     "output_type": "stream",
     "text": [
      "100%|██████████| 1000/1000 [00:02<00:00, 337.74it/s]\n"
     ]
    },
    {
     "name": "stdout",
     "output_type": "stream",
     "text": [
      "\t\tTotal time for config: 2.9691967964172363\n",
      "Instance 221, T = 1.0, Proposal = MALA_MC, Acceptance = metropolis, Gap = 0.0000\n",
      "Warning: Gap is very small, may be inaccurate.\n",
      "Starting problem instance 222 of 2000 with n = 8\n"
     ]
    },
    {
     "name": "stderr",
     "output_type": "stream",
     "text": [
      "100%|██████████| 1000/1000 [00:03<00:00, 301.39it/s]\n"
     ]
    },
    {
     "name": "stdout",
     "output_type": "stream",
     "text": [
      "\t\tTotal time for config: 3.3179612159729004\n",
      "Instance 222, T = 1.0, Proposal = MALA_MC, Acceptance = metropolis, Gap = 0.0000\n",
      "Warning: Gap is very small, may be inaccurate.\n",
      "Starting problem instance 223 of 2000 with n = 9\n"
     ]
    },
    {
     "name": "stderr",
     "output_type": "stream",
     "text": [
      "100%|██████████| 1000/1000 [00:08<00:00, 122.21it/s]\n"
     ]
    },
    {
     "name": "stdout",
     "output_type": "stream",
     "text": [
      "\t\tTotal time for config: 8.182850122451782\n",
      "Instance 223, T = 1.0, Proposal = MALA_MC, Acceptance = metropolis, Gap = 0.0000\n",
      "Warning: Gap is very small, may be inaccurate.\n",
      "Starting problem instance 224 of 2000 with n = 10\n"
     ]
    },
    {
     "name": "stderr",
     "output_type": "stream",
     "text": [
      "100%|██████████| 1000/1000 [00:17<00:00, 56.99it/s]\n"
     ]
    },
    {
     "name": "stdout",
     "output_type": "stream",
     "text": [
      "\t\tTotal time for config: 17.561983823776245\n",
      "Instance 224, T = 1.0, Proposal = MALA_MC, Acceptance = metropolis, Gap = 0.0000\n",
      "Warning: Gap is very small, may be inaccurate.\n",
      "Starting problem instance 225 of 2000 with n = 3\n"
     ]
    },
    {
     "name": "stderr",
     "output_type": "stream",
     "text": [
      "100%|██████████| 1000/1000 [00:02<00:00, 475.35it/s]\n"
     ]
    },
    {
     "name": "stdout",
     "output_type": "stream",
     "text": [
      "\t\tTotal time for config: 2.112436532974243\n",
      "Instance 225, T = 1.0, Proposal = MALA_MC, Acceptance = metropolis, Gap = 0.5637\n",
      "Starting problem instance 226 of 2000 with n = 4\n"
     ]
    },
    {
     "name": "stderr",
     "output_type": "stream",
     "text": [
      "100%|██████████| 1000/1000 [00:02<00:00, 439.41it/s]\n"
     ]
    },
    {
     "name": "stdout",
     "output_type": "stream",
     "text": [
      "\t\tTotal time for config: 2.2826600074768066\n",
      "Instance 226, T = 1.0, Proposal = MALA_MC, Acceptance = metropolis, Gap = 0.5875\n",
      "Starting problem instance 227 of 2000 with n = 5\n"
     ]
    },
    {
     "name": "stderr",
     "output_type": "stream",
     "text": [
      "100%|██████████| 1000/1000 [00:03<00:00, 301.58it/s]\n"
     ]
    },
    {
     "name": "stdout",
     "output_type": "stream",
     "text": [
      "\t\tTotal time for config: 3.315924644470215\n",
      "Instance 227, T = 1.0, Proposal = MALA_MC, Acceptance = metropolis, Gap = 0.1730\n",
      "Starting problem instance 228 of 2000 with n = 6\n"
     ]
    },
    {
     "name": "stderr",
     "output_type": "stream",
     "text": [
      "100%|██████████| 1000/1000 [00:03<00:00, 282.49it/s]\n"
     ]
    },
    {
     "name": "stdout",
     "output_type": "stream",
     "text": [
      "\t\tTotal time for config: 3.545365333557129\n",
      "Instance 228, T = 1.0, Proposal = MALA_MC, Acceptance = metropolis, Gap = 0.2546\n",
      "Starting problem instance 229 of 2000 with n = 7\n"
     ]
    },
    {
     "name": "stderr",
     "output_type": "stream",
     "text": [
      "100%|██████████| 1000/1000 [00:04<00:00, 211.29it/s]\n"
     ]
    },
    {
     "name": "stdout",
     "output_type": "stream",
     "text": [
      "\t\tTotal time for config: 4.759843349456787\n",
      "Instance 229, T = 1.0, Proposal = MALA_MC, Acceptance = metropolis, Gap = 0.0000\n",
      "Warning: Gap is very small, may be inaccurate.\n",
      "Starting problem instance 230 of 2000 with n = 8\n"
     ]
    },
    {
     "name": "stderr",
     "output_type": "stream",
     "text": [
      "100%|██████████| 1000/1000 [00:05<00:00, 167.95it/s]\n"
     ]
    },
    {
     "name": "stdout",
     "output_type": "stream",
     "text": [
      "\t\tTotal time for config: 5.978588104248047\n",
      "Instance 230, T = 1.0, Proposal = MALA_MC, Acceptance = metropolis, Gap = 0.0000\n",
      "Warning: Gap is very small, may be inaccurate.\n",
      "Starting problem instance 231 of 2000 with n = 9\n"
     ]
    },
    {
     "name": "stderr",
     "output_type": "stream",
     "text": [
      "100%|██████████| 1000/1000 [00:09<00:00, 101.44it/s]\n"
     ]
    },
    {
     "name": "stdout",
     "output_type": "stream",
     "text": [
      "\t\tTotal time for config: 9.866456270217896\n",
      "Instance 231, T = 1.0, Proposal = MALA_MC, Acceptance = metropolis, Gap = 0.0000\n",
      "Warning: Gap is very small, may be inaccurate.\n",
      "Starting problem instance 232 of 2000 with n = 10\n"
     ]
    },
    {
     "name": "stderr",
     "output_type": "stream",
     "text": [
      "100%|██████████| 1000/1000 [00:17<00:00, 56.78it/s]\n"
     ]
    },
    {
     "name": "stdout",
     "output_type": "stream",
     "text": [
      "\t\tTotal time for config: 17.626663208007812\n",
      "Instance 232, T = 1.0, Proposal = MALA_MC, Acceptance = metropolis, Gap = 0.0000\n",
      "Warning: Gap is very small, may be inaccurate.\n",
      "Starting problem instance 233 of 2000 with n = 3\n"
     ]
    },
    {
     "name": "stderr",
     "output_type": "stream",
     "text": [
      "100%|██████████| 1000/1000 [00:02<00:00, 486.89it/s]\n"
     ]
    },
    {
     "name": "stdout",
     "output_type": "stream",
     "text": [
      "\t\tTotal time for config: 2.0575289726257324\n",
      "Instance 233, T = 1.0, Proposal = MALA_MC, Acceptance = metropolis, Gap = 0.8760\n",
      "Starting problem instance 234 of 2000 with n = 4\n"
     ]
    },
    {
     "name": "stderr",
     "output_type": "stream",
     "text": [
      "100%|██████████| 1000/1000 [00:02<00:00, 392.20it/s]\n"
     ]
    },
    {
     "name": "stdout",
     "output_type": "stream",
     "text": [
      "\t\tTotal time for config: 2.5579335689544678\n",
      "Instance 234, T = 1.0, Proposal = MALA_MC, Acceptance = metropolis, Gap = 0.4789\n",
      "Starting problem instance 235 of 2000 with n = 5\n"
     ]
    },
    {
     "name": "stderr",
     "output_type": "stream",
     "text": [
      "100%|██████████| 1000/1000 [00:03<00:00, 297.62it/s]\n"
     ]
    },
    {
     "name": "stdout",
     "output_type": "stream",
     "text": [
      "\t\tTotal time for config: 3.381492853164673\n",
      "Instance 235, T = 1.0, Proposal = MALA_MC, Acceptance = metropolis, Gap = 0.0000\n",
      "Warning: Gap is very small, may be inaccurate.\n",
      "Starting problem instance 236 of 2000 with n = 6\n"
     ]
    },
    {
     "name": "stderr",
     "output_type": "stream",
     "text": [
      "100%|██████████| 1000/1000 [00:03<00:00, 271.56it/s]\n"
     ]
    },
    {
     "name": "stdout",
     "output_type": "stream",
     "text": [
      "\t\tTotal time for config: 3.69905686378479\n",
      "Instance 236, T = 1.0, Proposal = MALA_MC, Acceptance = metropolis, Gap = 0.7060\n",
      "Starting problem instance 237 of 2000 with n = 7\n"
     ]
    },
    {
     "name": "stderr",
     "output_type": "stream",
     "text": [
      "100%|██████████| 1000/1000 [00:04<00:00, 220.53it/s]\n"
     ]
    },
    {
     "name": "stdout",
     "output_type": "stream",
     "text": [
      "\t\tTotal time for config: 4.548394441604614\n",
      "Instance 237, T = 1.0, Proposal = MALA_MC, Acceptance = metropolis, Gap = 0.0000\n",
      "Warning: Gap is very small, may be inaccurate.\n",
      "Starting problem instance 238 of 2000 with n = 8\n"
     ]
    },
    {
     "name": "stderr",
     "output_type": "stream",
     "text": [
      "100%|██████████| 1000/1000 [00:05<00:00, 167.90it/s]\n"
     ]
    },
    {
     "name": "stdout",
     "output_type": "stream",
     "text": [
      "\t\tTotal time for config: 5.968876600265503\n",
      "Instance 238, T = 1.0, Proposal = MALA_MC, Acceptance = metropolis, Gap = 0.0000\n",
      "Warning: Gap is very small, may be inaccurate.\n",
      "Starting problem instance 239 of 2000 with n = 9\n"
     ]
    },
    {
     "name": "stderr",
     "output_type": "stream",
     "text": [
      "100%|██████████| 1000/1000 [00:09<00:00, 101.31it/s]\n"
     ]
    },
    {
     "name": "stdout",
     "output_type": "stream",
     "text": [
      "\t\tTotal time for config: 9.87928581237793\n",
      "Instance 239, T = 1.0, Proposal = MALA_MC, Acceptance = metropolis, Gap = 0.0000\n",
      "Warning: Gap is very small, may be inaccurate.\n",
      "Starting problem instance 240 of 2000 with n = 10\n"
     ]
    },
    {
     "name": "stderr",
     "output_type": "stream",
     "text": [
      "100%|██████████| 1000/1000 [00:17<00:00, 55.71it/s]\n"
     ]
    },
    {
     "name": "stdout",
     "output_type": "stream",
     "text": [
      "\t\tTotal time for config: 17.95877766609192\n",
      "Instance 240, T = 1.0, Proposal = MALA_MC, Acceptance = metropolis, Gap = 0.0000\n",
      "Warning: Gap is very small, may be inaccurate.\n",
      "Starting problem instance 241 of 2000 with n = 3\n"
     ]
    },
    {
     "name": "stderr",
     "output_type": "stream",
     "text": [
      "100%|██████████| 1000/1000 [00:01<00:00, 521.64it/s]\n"
     ]
    },
    {
     "name": "stdout",
     "output_type": "stream",
     "text": [
      "\t\tTotal time for config: 1.9262609481811523\n",
      "Instance 241, T = 1.0, Proposal = MALA_MC, Acceptance = metropolis, Gap = 0.4577\n",
      "Starting problem instance 242 of 2000 with n = 4\n"
     ]
    },
    {
     "name": "stderr",
     "output_type": "stream",
     "text": [
      "100%|██████████| 1000/1000 [00:02<00:00, 411.33it/s]\n"
     ]
    },
    {
     "name": "stdout",
     "output_type": "stream",
     "text": [
      "\t\tTotal time for config: 2.4413468837738037\n",
      "Instance 242, T = 1.0, Proposal = MALA_MC, Acceptance = metropolis, Gap = 0.4152\n",
      "Starting problem instance 243 of 2000 with n = 5\n"
     ]
    },
    {
     "name": "stderr",
     "output_type": "stream",
     "text": [
      "100%|██████████| 1000/1000 [00:03<00:00, 291.95it/s]\n"
     ]
    },
    {
     "name": "stdout",
     "output_type": "stream",
     "text": [
      "\t\tTotal time for config: 3.4329025745391846\n",
      "Instance 243, T = 1.0, Proposal = MALA_MC, Acceptance = metropolis, Gap = 0.0000\n",
      "Warning: Gap is very small, may be inaccurate.\n",
      "Starting problem instance 244 of 2000 with n = 6\n"
     ]
    },
    {
     "name": "stderr",
     "output_type": "stream",
     "text": [
      "100%|██████████| 1000/1000 [00:03<00:00, 256.10it/s]\n"
     ]
    },
    {
     "name": "stdout",
     "output_type": "stream",
     "text": [
      "\t\tTotal time for config: 3.9164583683013916\n",
      "Instance 244, T = 1.0, Proposal = MALA_MC, Acceptance = metropolis, Gap = 0.0001\n",
      "Starting problem instance 245 of 2000 with n = 7\n"
     ]
    },
    {
     "name": "stderr",
     "output_type": "stream",
     "text": [
      "100%|██████████| 1000/1000 [00:04<00:00, 210.86it/s]\n"
     ]
    },
    {
     "name": "stdout",
     "output_type": "stream",
     "text": [
      "\t\tTotal time for config: 4.763877868652344\n",
      "Instance 245, T = 1.0, Proposal = MALA_MC, Acceptance = metropolis, Gap = 0.0000\n",
      "Warning: Gap is very small, may be inaccurate.\n",
      "Starting problem instance 246 of 2000 with n = 8\n"
     ]
    },
    {
     "name": "stderr",
     "output_type": "stream",
     "text": [
      "100%|██████████| 1000/1000 [00:05<00:00, 169.04it/s]\n"
     ]
    },
    {
     "name": "stdout",
     "output_type": "stream",
     "text": [
      "\t\tTotal time for config: 5.924109220504761\n",
      "Instance 246, T = 1.0, Proposal = MALA_MC, Acceptance = metropolis, Gap = 0.0000\n",
      "Warning: Gap is very small, may be inaccurate.\n",
      "Starting problem instance 247 of 2000 with n = 9\n"
     ]
    },
    {
     "name": "stderr",
     "output_type": "stream",
     "text": [
      "100%|██████████| 1000/1000 [00:09<00:00, 102.74it/s]\n"
     ]
    },
    {
     "name": "stdout",
     "output_type": "stream",
     "text": [
      "\t\tTotal time for config: 9.763046026229858\n",
      "Instance 247, T = 1.0, Proposal = MALA_MC, Acceptance = metropolis, Gap = 0.0000\n",
      "Warning: Gap is very small, may be inaccurate.\n",
      "Starting problem instance 248 of 2000 with n = 10\n"
     ]
    },
    {
     "name": "stderr",
     "output_type": "stream",
     "text": [
      "100%|██████████| 1000/1000 [00:18<00:00, 55.28it/s]\n"
     ]
    },
    {
     "name": "stdout",
     "output_type": "stream",
     "text": [
      "\t\tTotal time for config: 18.097007751464844\n",
      "Instance 248, T = 1.0, Proposal = MALA_MC, Acceptance = metropolis, Gap = 0.0000\n",
      "Warning: Gap is very small, may be inaccurate.\n",
      "Starting problem instance 249 of 2000 with n = 3\n"
     ]
    },
    {
     "name": "stderr",
     "output_type": "stream",
     "text": [
      "100%|██████████| 1000/1000 [00:02<00:00, 488.52it/s]\n"
     ]
    },
    {
     "name": "stdout",
     "output_type": "stream",
     "text": [
      "\t\tTotal time for config: 2.0515377521514893\n",
      "Instance 249, T = 1.0, Proposal = MALA_MC, Acceptance = metropolis, Gap = 0.8761\n",
      "Starting problem instance 250 of 2000 with n = 4\n"
     ]
    },
    {
     "name": "stderr",
     "output_type": "stream",
     "text": [
      "100%|██████████| 1000/1000 [00:02<00:00, 363.90it/s]\n"
     ]
    },
    {
     "name": "stdout",
     "output_type": "stream",
     "text": [
      "\t\tTotal time for config: 2.7562456130981445\n",
      "Instance 250, T = 1.0, Proposal = MALA_MC, Acceptance = metropolis, Gap = 0.2540\n",
      "Starting problem instance 251 of 2000 with n = 5\n"
     ]
    },
    {
     "name": "stderr",
     "output_type": "stream",
     "text": [
      "100%|██████████| 1000/1000 [00:03<00:00, 290.51it/s]\n"
     ]
    },
    {
     "name": "stdout",
     "output_type": "stream",
     "text": [
      "\t\tTotal time for config: 3.4422426223754883\n",
      "Instance 251, T = 1.0, Proposal = MALA_MC, Acceptance = metropolis, Gap = 0.3624\n",
      "Starting problem instance 252 of 2000 with n = 6\n"
     ]
    },
    {
     "name": "stderr",
     "output_type": "stream",
     "text": [
      "100%|██████████| 1000/1000 [00:03<00:00, 274.24it/s]\n"
     ]
    },
    {
     "name": "stdout",
     "output_type": "stream",
     "text": [
      "\t\tTotal time for config: 3.6541974544525146\n",
      "Instance 252, T = 1.0, Proposal = MALA_MC, Acceptance = metropolis, Gap = 0.2541\n",
      "Starting problem instance 253 of 2000 with n = 7\n"
     ]
    },
    {
     "name": "stderr",
     "output_type": "stream",
     "text": [
      "100%|██████████| 1000/1000 [00:04<00:00, 227.32it/s]\n"
     ]
    },
    {
     "name": "stdout",
     "output_type": "stream",
     "text": [
      "\t\tTotal time for config: 4.4037394523620605\n",
      "Instance 253, T = 1.0, Proposal = MALA_MC, Acceptance = metropolis, Gap = 0.0000\n",
      "Warning: Gap is very small, may be inaccurate.\n",
      "Starting problem instance 254 of 2000 with n = 8\n"
     ]
    },
    {
     "name": "stderr",
     "output_type": "stream",
     "text": [
      "100%|██████████| 1000/1000 [00:06<00:00, 166.56it/s]\n"
     ]
    },
    {
     "name": "stdout",
     "output_type": "stream",
     "text": [
      "\t\tTotal time for config: 6.003875732421875\n",
      "Instance 254, T = 1.0, Proposal = MALA_MC, Acceptance = metropolis, Gap = 0.0000\n",
      "Warning: Gap is very small, may be inaccurate.\n",
      "Starting problem instance 255 of 2000 with n = 9\n"
     ]
    },
    {
     "name": "stderr",
     "output_type": "stream",
     "text": [
      "100%|██████████| 1000/1000 [00:09<00:00, 105.51it/s]\n"
     ]
    },
    {
     "name": "stdout",
     "output_type": "stream",
     "text": [
      "\t\tTotal time for config: 9.478974103927612\n",
      "Instance 255, T = 1.0, Proposal = MALA_MC, Acceptance = metropolis, Gap = 0.0000\n",
      "Warning: Gap is very small, may be inaccurate.\n",
      "Starting problem instance 256 of 2000 with n = 10\n"
     ]
    },
    {
     "name": "stderr",
     "output_type": "stream",
     "text": [
      "100%|██████████| 1000/1000 [00:17<00:00, 56.00it/s]\n"
     ]
    },
    {
     "name": "stdout",
     "output_type": "stream",
     "text": [
      "\t\tTotal time for config: 17.879688501358032\n",
      "Instance 256, T = 1.0, Proposal = MALA_MC, Acceptance = metropolis, Gap = 0.0000\n",
      "Warning: Gap is very small, may be inaccurate.\n",
      "Starting problem instance 257 of 2000 with n = 3\n"
     ]
    },
    {
     "name": "stderr",
     "output_type": "stream",
     "text": [
      "100%|██████████| 1000/1000 [00:01<00:00, 539.48it/s]\n"
     ]
    },
    {
     "name": "stdout",
     "output_type": "stream",
     "text": [
      "\t\tTotal time for config: 1.853635549545288\n",
      "Instance 257, T = 1.0, Proposal = MALA_MC, Acceptance = metropolis, Gap = 0.6849\n",
      "Starting problem instance 258 of 2000 with n = 4\n"
     ]
    },
    {
     "name": "stderr",
     "output_type": "stream",
     "text": [
      "100%|██████████| 1000/1000 [00:02<00:00, 410.03it/s]\n"
     ]
    },
    {
     "name": "stdout",
     "output_type": "stream",
     "text": [
      "\t\tTotal time for config: 2.445920705795288\n",
      "Instance 258, T = 1.0, Proposal = MALA_MC, Acceptance = metropolis, Gap = 0.6364\n",
      "Starting problem instance 259 of 2000 with n = 5\n"
     ]
    },
    {
     "name": "stderr",
     "output_type": "stream",
     "text": [
      "100%|██████████| 1000/1000 [00:03<00:00, 313.67it/s]\n"
     ]
    },
    {
     "name": "stdout",
     "output_type": "stream",
     "text": [
      "\t\tTotal time for config: 3.2034125328063965\n",
      "Instance 259, T = 1.0, Proposal = MALA_MC, Acceptance = metropolis, Gap = 0.0411\n",
      "Starting problem instance 260 of 2000 with n = 6\n"
     ]
    },
    {
     "name": "stderr",
     "output_type": "stream",
     "text": [
      "100%|██████████| 1000/1000 [00:03<00:00, 252.90it/s]\n"
     ]
    },
    {
     "name": "stdout",
     "output_type": "stream",
     "text": [
      "\t\tTotal time for config: 3.9623987674713135\n",
      "Instance 260, T = 1.0, Proposal = MALA_MC, Acceptance = metropolis, Gap = 0.0000\n",
      "Warning: Gap is very small, may be inaccurate.\n",
      "Starting problem instance 261 of 2000 with n = 7\n"
     ]
    },
    {
     "name": "stderr",
     "output_type": "stream",
     "text": [
      "100%|██████████| 1000/1000 [00:04<00:00, 219.71it/s]\n"
     ]
    },
    {
     "name": "stdout",
     "output_type": "stream",
     "text": [
      "\t\tTotal time for config: 4.5685343742370605\n",
      "Instance 261, T = 1.0, Proposal = MALA_MC, Acceptance = metropolis, Gap = 0.0000\n",
      "Warning: Gap is very small, may be inaccurate.\n",
      "Starting problem instance 262 of 2000 with n = 8\n"
     ]
    },
    {
     "name": "stderr",
     "output_type": "stream",
     "text": [
      "100%|██████████| 1000/1000 [00:05<00:00, 168.31it/s]\n"
     ]
    },
    {
     "name": "stdout",
     "output_type": "stream",
     "text": [
      "\t\tTotal time for config: 5.962859630584717\n",
      "Instance 262, T = 1.0, Proposal = MALA_MC, Acceptance = metropolis, Gap = 0.0000\n",
      "Warning: Gap is very small, may be inaccurate.\n",
      "Starting problem instance 263 of 2000 with n = 9\n"
     ]
    },
    {
     "name": "stderr",
     "output_type": "stream",
     "text": [
      "100%|██████████| 1000/1000 [00:09<00:00, 103.99it/s]\n"
     ]
    },
    {
     "name": "stdout",
     "output_type": "stream",
     "text": [
      "\t\tTotal time for config: 9.618738889694214\n",
      "Instance 263, T = 1.0, Proposal = MALA_MC, Acceptance = metropolis, Gap = 0.0000\n",
      "Warning: Gap is very small, may be inaccurate.\n",
      "Starting problem instance 264 of 2000 with n = 10\n"
     ]
    },
    {
     "name": "stderr",
     "output_type": "stream",
     "text": [
      "100%|██████████| 1000/1000 [00:17<00:00, 57.23it/s]\n"
     ]
    },
    {
     "name": "stdout",
     "output_type": "stream",
     "text": [
      "\t\tTotal time for config: 17.480719566345215\n",
      "Instance 264, T = 1.0, Proposal = MALA_MC, Acceptance = metropolis, Gap = 0.0000\n",
      "Warning: Gap is very small, may be inaccurate.\n",
      "Starting problem instance 265 of 2000 with n = 3\n"
     ]
    },
    {
     "name": "stderr",
     "output_type": "stream",
     "text": [
      "100%|██████████| 1000/1000 [00:01<00:00, 526.97it/s]\n"
     ]
    },
    {
     "name": "stdout",
     "output_type": "stream",
     "text": [
      "\t\tTotal time for config: 1.9020583629608154\n",
      "Instance 265, T = 1.0, Proposal = MALA_MC, Acceptance = metropolis, Gap = 0.0156\n",
      "Starting problem instance 266 of 2000 with n = 4\n"
     ]
    },
    {
     "name": "stderr",
     "output_type": "stream",
     "text": [
      "100%|██████████| 1000/1000 [00:03<00:00, 333.22it/s]\n"
     ]
    },
    {
     "name": "stdout",
     "output_type": "stream",
     "text": [
      "\t\tTotal time for config: 3.0165293216705322\n",
      "Instance 266, T = 1.0, Proposal = MALA_MC, Acceptance = metropolis, Gap = 0.5338\n",
      "Starting problem instance 267 of 2000 with n = 5\n"
     ]
    },
    {
     "name": "stderr",
     "output_type": "stream",
     "text": [
      "100%|██████████| 1000/1000 [00:03<00:00, 300.46it/s]\n"
     ]
    },
    {
     "name": "stdout",
     "output_type": "stream",
     "text": [
      "\t\tTotal time for config: 3.3379032611846924\n",
      "Instance 267, T = 1.0, Proposal = MALA_MC, Acceptance = metropolis, Gap = 0.0000\n",
      "Warning: Gap is very small, may be inaccurate.\n",
      "Starting problem instance 268 of 2000 with n = 6\n"
     ]
    },
    {
     "name": "stderr",
     "output_type": "stream",
     "text": [
      "100%|██████████| 1000/1000 [00:03<00:00, 278.29it/s]\n"
     ]
    },
    {
     "name": "stdout",
     "output_type": "stream",
     "text": [
      "\t\tTotal time for config: 3.5985374450683594\n",
      "Instance 268, T = 1.0, Proposal = MALA_MC, Acceptance = metropolis, Gap = 0.4115\n",
      "Starting problem instance 269 of 2000 with n = 7\n"
     ]
    },
    {
     "name": "stderr",
     "output_type": "stream",
     "text": [
      "100%|██████████| 1000/1000 [00:04<00:00, 212.40it/s]\n"
     ]
    },
    {
     "name": "stdout",
     "output_type": "stream",
     "text": [
      "\t\tTotal time for config: 4.713905334472656\n",
      "Instance 269, T = 1.0, Proposal = MALA_MC, Acceptance = metropolis, Gap = 0.0000\n",
      "Warning: Gap is very small, may be inaccurate.\n",
      "Starting problem instance 270 of 2000 with n = 8\n"
     ]
    },
    {
     "name": "stderr",
     "output_type": "stream",
     "text": [
      "100%|██████████| 1000/1000 [00:06<00:00, 155.05it/s]\n"
     ]
    },
    {
     "name": "stdout",
     "output_type": "stream",
     "text": [
      "\t\tTotal time for config: 6.463273763656616\n",
      "Instance 270, T = 1.0, Proposal = MALA_MC, Acceptance = metropolis, Gap = 0.0000\n",
      "Warning: Gap is very small, may be inaccurate.\n",
      "Starting problem instance 271 of 2000 with n = 9\n"
     ]
    },
    {
     "name": "stderr",
     "output_type": "stream",
     "text": [
      "100%|██████████| 1000/1000 [00:09<00:00, 104.17it/s]\n"
     ]
    },
    {
     "name": "stdout",
     "output_type": "stream",
     "text": [
      "\t\tTotal time for config: 9.606857299804688\n",
      "Instance 271, T = 1.0, Proposal = MALA_MC, Acceptance = metropolis, Gap = 0.0000\n",
      "Warning: Gap is very small, may be inaccurate.\n",
      "Starting problem instance 272 of 2000 with n = 10\n"
     ]
    },
    {
     "name": "stderr",
     "output_type": "stream",
     "text": [
      "100%|██████████| 1000/1000 [00:17<00:00, 56.51it/s]\n"
     ]
    },
    {
     "name": "stdout",
     "output_type": "stream",
     "text": [
      "\t\tTotal time for config: 17.698251485824585\n",
      "Instance 272, T = 1.0, Proposal = MALA_MC, Acceptance = metropolis, Gap = 0.0000\n",
      "Warning: Gap is very small, may be inaccurate.\n",
      "Starting problem instance 273 of 2000 with n = 3\n"
     ]
    },
    {
     "name": "stderr",
     "output_type": "stream",
     "text": [
      "100%|██████████| 1000/1000 [00:01<00:00, 507.59it/s]\n"
     ]
    },
    {
     "name": "stdout",
     "output_type": "stream",
     "text": [
      "\t\tTotal time for config: 1.9811124801635742\n",
      "Instance 273, T = 1.0, Proposal = MALA_MC, Acceptance = metropolis, Gap = 0.5311\n",
      "Starting problem instance 274 of 2000 with n = 4\n"
     ]
    },
    {
     "name": "stderr",
     "output_type": "stream",
     "text": [
      "100%|██████████| 1000/1000 [00:02<00:00, 384.29it/s]\n"
     ]
    },
    {
     "name": "stdout",
     "output_type": "stream",
     "text": [
      "\t\tTotal time for config: 2.613701581954956\n",
      "Instance 274, T = 1.0, Proposal = MALA_MC, Acceptance = metropolis, Gap = 0.6999\n",
      "Starting problem instance 275 of 2000 with n = 5\n"
     ]
    },
    {
     "name": "stderr",
     "output_type": "stream",
     "text": [
      "100%|██████████| 1000/1000 [00:03<00:00, 331.67it/s]\n"
     ]
    },
    {
     "name": "stdout",
     "output_type": "stream",
     "text": [
      "\t\tTotal time for config: 3.0327541828155518\n",
      "Instance 275, T = 1.0, Proposal = MALA_MC, Acceptance = metropolis, Gap = 0.2156\n",
      "Starting problem instance 276 of 2000 with n = 6\n"
     ]
    },
    {
     "name": "stderr",
     "output_type": "stream",
     "text": [
      "100%|██████████| 1000/1000 [00:03<00:00, 254.87it/s]\n"
     ]
    },
    {
     "name": "stdout",
     "output_type": "stream",
     "text": [
      "\t\tTotal time for config: 3.9286060333251953\n",
      "Instance 276, T = 1.0, Proposal = MALA_MC, Acceptance = metropolis, Gap = 0.0000\n",
      "Warning: Gap is very small, may be inaccurate.\n",
      "Starting problem instance 277 of 2000 with n = 7\n"
     ]
    },
    {
     "name": "stderr",
     "output_type": "stream",
     "text": [
      "100%|██████████| 1000/1000 [00:04<00:00, 235.42it/s]\n"
     ]
    },
    {
     "name": "stdout",
     "output_type": "stream",
     "text": [
      "\t\tTotal time for config: 4.268752813339233\n",
      "Instance 277, T = 1.0, Proposal = MALA_MC, Acceptance = metropolis, Gap = 0.0000\n",
      "Warning: Gap is very small, may be inaccurate.\n",
      "Starting problem instance 278 of 2000 with n = 8\n"
     ]
    },
    {
     "name": "stderr",
     "output_type": "stream",
     "text": [
      "100%|██████████| 1000/1000 [00:05<00:00, 172.42it/s]\n"
     ]
    },
    {
     "name": "stdout",
     "output_type": "stream",
     "text": [
      "\t\tTotal time for config: 5.809003829956055\n",
      "Instance 278, T = 1.0, Proposal = MALA_MC, Acceptance = metropolis, Gap = 0.0000\n",
      "Warning: Gap is very small, may be inaccurate.\n",
      "Starting problem instance 279 of 2000 with n = 9\n"
     ]
    },
    {
     "name": "stderr",
     "output_type": "stream",
     "text": [
      "100%|██████████| 1000/1000 [00:09<00:00, 103.29it/s]\n"
     ]
    },
    {
     "name": "stdout",
     "output_type": "stream",
     "text": [
      "\t\tTotal time for config: 9.691888093948364\n",
      "Instance 279, T = 1.0, Proposal = MALA_MC, Acceptance = metropolis, Gap = 0.0000\n",
      "Warning: Gap is very small, may be inaccurate.\n",
      "Starting problem instance 280 of 2000 with n = 10\n"
     ]
    },
    {
     "name": "stderr",
     "output_type": "stream",
     "text": [
      "100%|██████████| 1000/1000 [00:17<00:00, 56.60it/s]\n"
     ]
    },
    {
     "name": "stdout",
     "output_type": "stream",
     "text": [
      "\t\tTotal time for config: 17.68074893951416\n",
      "Instance 280, T = 1.0, Proposal = MALA_MC, Acceptance = metropolis, Gap = 0.0000\n",
      "Warning: Gap is very small, may be inaccurate.\n",
      "Starting problem instance 281 of 2000 with n = 3\n"
     ]
    },
    {
     "name": "stderr",
     "output_type": "stream",
     "text": [
      "100%|██████████| 1000/1000 [00:02<00:00, 493.63it/s]\n"
     ]
    },
    {
     "name": "stdout",
     "output_type": "stream",
     "text": [
      "\t\tTotal time for config: 2.034101963043213\n",
      "Instance 281, T = 1.0, Proposal = MALA_MC, Acceptance = metropolis, Gap = 0.2766\n",
      "Starting problem instance 282 of 2000 with n = 4\n"
     ]
    },
    {
     "name": "stderr",
     "output_type": "stream",
     "text": [
      "100%|██████████| 1000/1000 [00:02<00:00, 374.17it/s]\n"
     ]
    },
    {
     "name": "stdout",
     "output_type": "stream",
     "text": [
      "\t\tTotal time for config: 2.677915096282959\n",
      "Instance 282, T = 1.0, Proposal = MALA_MC, Acceptance = metropolis, Gap = 0.0000\n",
      "Warning: Gap is very small, may be inaccurate.\n",
      "Starting problem instance 283 of 2000 with n = 5\n"
     ]
    },
    {
     "name": "stderr",
     "output_type": "stream",
     "text": [
      "100%|██████████| 1000/1000 [00:03<00:00, 320.63it/s]\n"
     ]
    },
    {
     "name": "stdout",
     "output_type": "stream",
     "text": [
      "\t\tTotal time for config: 3.1278419494628906\n",
      "Instance 283, T = 1.0, Proposal = MALA_MC, Acceptance = metropolis, Gap = 0.0000\n",
      "Warning: Gap is very small, may be inaccurate.\n",
      "Starting problem instance 284 of 2000 with n = 6\n"
     ]
    },
    {
     "name": "stderr",
     "output_type": "stream",
     "text": [
      "100%|██████████| 1000/1000 [00:03<00:00, 272.76it/s]\n"
     ]
    },
    {
     "name": "stdout",
     "output_type": "stream",
     "text": [
      "\t\tTotal time for config: 3.6817405223846436\n",
      "Instance 284, T = 1.0, Proposal = MALA_MC, Acceptance = metropolis, Gap = 0.0000\n",
      "Warning: Gap is very small, may be inaccurate.\n",
      "Starting problem instance 285 of 2000 with n = 7\n"
     ]
    },
    {
     "name": "stderr",
     "output_type": "stream",
     "text": [
      "100%|██████████| 1000/1000 [00:04<00:00, 220.63it/s]\n"
     ]
    },
    {
     "name": "stdout",
     "output_type": "stream",
     "text": [
      "\t\tTotal time for config: 4.53254771232605\n",
      "Instance 285, T = 1.0, Proposal = MALA_MC, Acceptance = metropolis, Gap = 0.0000\n",
      "Warning: Gap is very small, may be inaccurate.\n",
      "Starting problem instance 286 of 2000 with n = 8\n"
     ]
    },
    {
     "name": "stderr",
     "output_type": "stream",
     "text": [
      "100%|██████████| 1000/1000 [00:05<00:00, 170.00it/s]\n"
     ]
    },
    {
     "name": "stdout",
     "output_type": "stream",
     "text": [
      "\t\tTotal time for config: 5.891561031341553\n",
      "Instance 286, T = 1.0, Proposal = MALA_MC, Acceptance = metropolis, Gap = 0.0000\n",
      "Warning: Gap is very small, may be inaccurate.\n",
      "Starting problem instance 287 of 2000 with n = 9\n"
     ]
    },
    {
     "name": "stderr",
     "output_type": "stream",
     "text": [
      "100%|██████████| 1000/1000 [00:09<00:00, 105.61it/s]\n"
     ]
    },
    {
     "name": "stdout",
     "output_type": "stream",
     "text": [
      "\t\tTotal time for config: 9.488484382629395\n",
      "Instance 287, T = 1.0, Proposal = MALA_MC, Acceptance = metropolis, Gap = 0.0000\n",
      "Warning: Gap is very small, may be inaccurate.\n",
      "Starting problem instance 288 of 2000 with n = 10\n"
     ]
    },
    {
     "name": "stderr",
     "output_type": "stream",
     "text": [
      "100%|██████████| 1000/1000 [00:17<00:00, 56.35it/s]\n"
     ]
    },
    {
     "name": "stdout",
     "output_type": "stream",
     "text": [
      "\t\tTotal time for config: 17.747190952301025\n",
      "Instance 288, T = 1.0, Proposal = MALA_MC, Acceptance = metropolis, Gap = 0.0000\n",
      "Warning: Gap is very small, may be inaccurate.\n",
      "Starting problem instance 289 of 2000 with n = 3\n"
     ]
    },
    {
     "name": "stderr",
     "output_type": "stream",
     "text": [
      "100%|██████████| 1000/1000 [00:01<00:00, 547.78it/s]\n"
     ]
    },
    {
     "name": "stdout",
     "output_type": "stream",
     "text": [
      "\t\tTotal time for config: 1.833756446838379\n",
      "Instance 289, T = 1.0, Proposal = MALA_MC, Acceptance = metropolis, Gap = 0.3856\n",
      "Starting problem instance 290 of 2000 with n = 4\n"
     ]
    },
    {
     "name": "stderr",
     "output_type": "stream",
     "text": [
      "100%|██████████| 1000/1000 [00:02<00:00, 375.31it/s]\n"
     ]
    },
    {
     "name": "stdout",
     "output_type": "stream",
     "text": [
      "\t\tTotal time for config: 2.681140661239624\n",
      "Instance 290, T = 1.0, Proposal = MALA_MC, Acceptance = metropolis, Gap = 0.0000\n",
      "Warning: Gap is very small, may be inaccurate.\n",
      "Starting problem instance 291 of 2000 with n = 5\n"
     ]
    },
    {
     "name": "stderr",
     "output_type": "stream",
     "text": [
      "100%|██████████| 1000/1000 [00:03<00:00, 270.14it/s]\n"
     ]
    },
    {
     "name": "stdout",
     "output_type": "stream",
     "text": [
      "\t\tTotal time for config: 3.710115432739258\n",
      "Instance 291, T = 1.0, Proposal = MALA_MC, Acceptance = metropolis, Gap = 0.1516\n",
      "Starting problem instance 292 of 2000 with n = 6\n"
     ]
    },
    {
     "name": "stderr",
     "output_type": "stream",
     "text": [
      "100%|██████████| 1000/1000 [00:03<00:00, 291.38it/s]\n"
     ]
    },
    {
     "name": "stdout",
     "output_type": "stream",
     "text": [
      "\t\tTotal time for config: 3.448451042175293\n",
      "Instance 292, T = 1.0, Proposal = MALA_MC, Acceptance = metropolis, Gap = 0.0642\n",
      "Starting problem instance 293 of 2000 with n = 7\n"
     ]
    },
    {
     "name": "stderr",
     "output_type": "stream",
     "text": [
      "100%|██████████| 1000/1000 [00:02<00:00, 353.86it/s]\n"
     ]
    },
    {
     "name": "stdout",
     "output_type": "stream",
     "text": [
      "\t\tTotal time for config: 2.825948476791382\n",
      "Instance 293, T = 1.0, Proposal = MALA_MC, Acceptance = metropolis, Gap = 0.0000\n",
      "Warning: Gap is very small, may be inaccurate.\n",
      "Starting problem instance 294 of 2000 with n = 8\n"
     ]
    },
    {
     "name": "stderr",
     "output_type": "stream",
     "text": [
      "100%|██████████| 1000/1000 [00:03<00:00, 275.66it/s]\n"
     ]
    },
    {
     "name": "stdout",
     "output_type": "stream",
     "text": [
      "\t\tTotal time for config: 3.6330597400665283\n",
      "Instance 294, T = 1.0, Proposal = MALA_MC, Acceptance = metropolis, Gap = 0.0000\n",
      "Warning: Gap is very small, may be inaccurate.\n",
      "Starting problem instance 295 of 2000 with n = 9\n"
     ]
    },
    {
     "name": "stderr",
     "output_type": "stream",
     "text": [
      "100%|██████████| 1000/1000 [00:04<00:00, 220.52it/s]\n"
     ]
    },
    {
     "name": "stdout",
     "output_type": "stream",
     "text": [
      "\t\tTotal time for config: 4.534814119338989\n",
      "Instance 295, T = 1.0, Proposal = MALA_MC, Acceptance = metropolis, Gap = 0.0000\n",
      "Warning: Gap is very small, may be inaccurate.\n",
      "Starting problem instance 296 of 2000 with n = 10\n"
     ]
    },
    {
     "name": "stderr",
     "output_type": "stream",
     "text": [
      "100%|██████████| 1000/1000 [00:07<00:00, 128.76it/s]\n"
     ]
    },
    {
     "name": "stdout",
     "output_type": "stream",
     "text": [
      "\t\tTotal time for config: 7.76749324798584\n",
      "Instance 296, T = 1.0, Proposal = MALA_MC, Acceptance = metropolis, Gap = 0.0000\n",
      "Warning: Gap is very small, may be inaccurate.\n",
      "Starting problem instance 297 of 2000 with n = 3\n"
     ]
    },
    {
     "name": "stderr",
     "output_type": "stream",
     "text": [
      "100%|██████████| 1000/1000 [00:01<00:00, 836.56it/s]\n"
     ]
    },
    {
     "name": "stdout",
     "output_type": "stream",
     "text": [
      "\t\tTotal time for config: 1.1953668594360352\n",
      "Instance 297, T = 1.0, Proposal = MALA_MC, Acceptance = metropolis, Gap = 0.0365\n",
      "Starting problem instance 298 of 2000 with n = 4\n"
     ]
    },
    {
     "name": "stderr",
     "output_type": "stream",
     "text": [
      "100%|██████████| 1000/1000 [00:01<00:00, 985.39it/s]\n"
     ]
    },
    {
     "name": "stdout",
     "output_type": "stream",
     "text": [
      "\t\tTotal time for config: 1.0148308277130127\n",
      "Instance 298, T = 1.0, Proposal = MALA_MC, Acceptance = metropolis, Gap = 0.3078\n",
      "Starting problem instance 299 of 2000 with n = 5\n"
     ]
    },
    {
     "name": "stderr",
     "output_type": "stream",
     "text": [
      "100%|██████████| 1000/1000 [00:01<00:00, 527.77it/s]\n"
     ]
    },
    {
     "name": "stdout",
     "output_type": "stream",
     "text": [
      "\t\tTotal time for config: 1.8947803974151611\n",
      "Instance 299, T = 1.0, Proposal = MALA_MC, Acceptance = metropolis, Gap = 0.2445\n",
      "Starting problem instance 300 of 2000 with n = 6\n"
     ]
    },
    {
     "name": "stderr",
     "output_type": "stream",
     "text": [
      "100%|██████████| 1000/1000 [00:02<00:00, 451.66it/s]\n"
     ]
    },
    {
     "name": "stdout",
     "output_type": "stream",
     "text": [
      "\t\tTotal time for config: 2.2140510082244873\n",
      "Instance 300, T = 1.0, Proposal = MALA_MC, Acceptance = metropolis, Gap = 0.3476\n",
      "Starting problem instance 301 of 2000 with n = 7\n"
     ]
    },
    {
     "name": "stderr",
     "output_type": "stream",
     "text": [
      "100%|██████████| 1000/1000 [00:02<00:00, 382.24it/s]\n"
     ]
    },
    {
     "name": "stdout",
     "output_type": "stream",
     "text": [
      "\t\tTotal time for config: 2.6199629306793213\n",
      "Instance 301, T = 1.0, Proposal = MALA_MC, Acceptance = metropolis, Gap = 0.0000\n",
      "Warning: Gap is very small, may be inaccurate.\n",
      "Starting problem instance 302 of 2000 with n = 8\n"
     ]
    },
    {
     "name": "stderr",
     "output_type": "stream",
     "text": [
      "100%|██████████| 1000/1000 [00:03<00:00, 262.08it/s]\n"
     ]
    },
    {
     "name": "stdout",
     "output_type": "stream",
     "text": [
      "\t\tTotal time for config: 3.8155710697174072\n",
      "Instance 302, T = 1.0, Proposal = MALA_MC, Acceptance = metropolis, Gap = 0.0000\n",
      "Warning: Gap is very small, may be inaccurate.\n",
      "Starting problem instance 303 of 2000 with n = 9\n"
     ]
    },
    {
     "name": "stderr",
     "output_type": "stream",
     "text": [
      "100%|██████████| 1000/1000 [00:04<00:00, 213.57it/s]\n"
     ]
    },
    {
     "name": "stdout",
     "output_type": "stream",
     "text": [
      "\t\tTotal time for config: 4.682584524154663\n",
      "Instance 303, T = 1.0, Proposal = MALA_MC, Acceptance = metropolis, Gap = 0.0000\n",
      "Warning: Gap is very small, may be inaccurate.\n",
      "Starting problem instance 304 of 2000 with n = 10\n"
     ]
    },
    {
     "name": "stderr",
     "output_type": "stream",
     "text": [
      "100%|██████████| 1000/1000 [00:07<00:00, 136.08it/s]\n"
     ]
    },
    {
     "name": "stdout",
     "output_type": "stream",
     "text": [
      "\t\tTotal time for config: 7.34886622428894\n",
      "Instance 304, T = 1.0, Proposal = MALA_MC, Acceptance = metropolis, Gap = 0.0000\n",
      "Warning: Gap is very small, may be inaccurate.\n",
      "Starting problem instance 305 of 2000 with n = 3\n"
     ]
    },
    {
     "name": "stderr",
     "output_type": "stream",
     "text": [
      "100%|██████████| 1000/1000 [00:01<00:00, 750.30it/s]\n"
     ]
    },
    {
     "name": "stdout",
     "output_type": "stream",
     "text": [
      "\t\tTotal time for config: 1.332794427871704\n",
      "Instance 305, T = 1.0, Proposal = MALA_MC, Acceptance = metropolis, Gap = 0.0761\n",
      "Starting problem instance 306 of 2000 with n = 4\n"
     ]
    },
    {
     "name": "stderr",
     "output_type": "stream",
     "text": [
      "100%|██████████| 1000/1000 [00:01<00:00, 542.32it/s]\n"
     ]
    },
    {
     "name": "stdout",
     "output_type": "stream",
     "text": [
      "\t\tTotal time for config: 1.8604564666748047\n",
      "Instance 306, T = 1.0, Proposal = MALA_MC, Acceptance = metropolis, Gap = 0.1489\n",
      "Starting problem instance 307 of 2000 with n = 5\n"
     ]
    },
    {
     "name": "stderr",
     "output_type": "stream",
     "text": [
      "100%|██████████| 1000/1000 [00:01<00:00, 531.11it/s]\n"
     ]
    },
    {
     "name": "stdout",
     "output_type": "stream",
     "text": [
      "\t\tTotal time for config: 1.8886198997497559\n",
      "Instance 307, T = 1.0, Proposal = MALA_MC, Acceptance = metropolis, Gap = 0.2861\n",
      "Starting problem instance 308 of 2000 with n = 6\n"
     ]
    },
    {
     "name": "stderr",
     "output_type": "stream",
     "text": [
      "100%|██████████| 1000/1000 [00:02<00:00, 469.87it/s]\n"
     ]
    },
    {
     "name": "stdout",
     "output_type": "stream",
     "text": [
      "\t\tTotal time for config: 2.128255844116211\n",
      "Instance 308, T = 1.0, Proposal = MALA_MC, Acceptance = metropolis, Gap = 0.0000\n",
      "Warning: Gap is very small, may be inaccurate.\n",
      "Starting problem instance 309 of 2000 with n = 7\n"
     ]
    },
    {
     "name": "stderr",
     "output_type": "stream",
     "text": [
      "100%|██████████| 1000/1000 [00:02<00:00, 342.85it/s]\n"
     ]
    },
    {
     "name": "stdout",
     "output_type": "stream",
     "text": [
      "\t\tTotal time for config: 2.9167158603668213\n",
      "Instance 309, T = 1.0, Proposal = MALA_MC, Acceptance = metropolis, Gap = 0.2795\n",
      "Starting problem instance 310 of 2000 with n = 8\n"
     ]
    },
    {
     "name": "stderr",
     "output_type": "stream",
     "text": [
      "100%|██████████| 1000/1000 [00:03<00:00, 297.03it/s]\n"
     ]
    },
    {
     "name": "stdout",
     "output_type": "stream",
     "text": [
      "\t\tTotal time for config: 3.3666939735412598\n",
      "Instance 310, T = 1.0, Proposal = MALA_MC, Acceptance = metropolis, Gap = 0.0000\n",
      "Warning: Gap is very small, may be inaccurate.\n",
      "Starting problem instance 311 of 2000 with n = 9\n"
     ]
    },
    {
     "name": "stderr",
     "output_type": "stream",
     "text": [
      "100%|██████████| 1000/1000 [00:04<00:00, 217.52it/s]\n"
     ]
    },
    {
     "name": "stdout",
     "output_type": "stream",
     "text": [
      "\t\tTotal time for config: 4.597248554229736\n",
      "Instance 311, T = 1.0, Proposal = MALA_MC, Acceptance = metropolis, Gap = 0.0000\n",
      "Warning: Gap is very small, may be inaccurate.\n",
      "Starting problem instance 312 of 2000 with n = 10\n"
     ]
    },
    {
     "name": "stderr",
     "output_type": "stream",
     "text": [
      "100%|██████████| 1000/1000 [00:07<00:00, 130.24it/s]\n"
     ]
    },
    {
     "name": "stdout",
     "output_type": "stream",
     "text": [
      "\t\tTotal time for config: 7.678264379501343\n",
      "Instance 312, T = 1.0, Proposal = MALA_MC, Acceptance = metropolis, Gap = 0.0000\n",
      "Warning: Gap is very small, may be inaccurate.\n",
      "Starting problem instance 313 of 2000 with n = 3\n"
     ]
    },
    {
     "name": "stderr",
     "output_type": "stream",
     "text": [
      "100%|██████████| 1000/1000 [00:01<00:00, 720.77it/s]\n"
     ]
    },
    {
     "name": "stdout",
     "output_type": "stream",
     "text": [
      "\t\tTotal time for config: 1.3873987197875977\n",
      "Instance 313, T = 1.0, Proposal = MALA_MC, Acceptance = metropolis, Gap = 0.6136\n",
      "Starting problem instance 314 of 2000 with n = 4\n"
     ]
    },
    {
     "name": "stderr",
     "output_type": "stream",
     "text": [
      "100%|██████████| 1000/1000 [00:01<00:00, 531.87it/s]\n"
     ]
    },
    {
     "name": "stdout",
     "output_type": "stream",
     "text": [
      "\t\tTotal time for config: 1.8992505073547363\n",
      "Instance 314, T = 1.0, Proposal = MALA_MC, Acceptance = metropolis, Gap = 0.0532\n",
      "Starting problem instance 315 of 2000 with n = 5\n"
     ]
    },
    {
     "name": "stderr",
     "output_type": "stream",
     "text": [
      "100%|██████████| 1000/1000 [00:02<00:00, 384.19it/s]\n"
     ]
    },
    {
     "name": "stdout",
     "output_type": "stream",
     "text": [
      "\t\tTotal time for config: 2.6029021739959717\n",
      "Instance 315, T = 1.0, Proposal = MALA_MC, Acceptance = metropolis, Gap = 0.7331\n",
      "Starting problem instance 316 of 2000 with n = 6\n"
     ]
    },
    {
     "name": "stderr",
     "output_type": "stream",
     "text": [
      "100%|██████████| 1000/1000 [00:02<00:00, 375.02it/s]\n"
     ]
    },
    {
     "name": "stdout",
     "output_type": "stream",
     "text": [
      "\t\tTotal time for config: 2.6705825328826904\n",
      "Instance 316, T = 1.0, Proposal = MALA_MC, Acceptance = metropolis, Gap = 0.0055\n",
      "Starting problem instance 317 of 2000 with n = 7\n"
     ]
    },
    {
     "name": "stderr",
     "output_type": "stream",
     "text": [
      "100%|██████████| 1000/1000 [00:02<00:00, 342.90it/s]\n"
     ]
    },
    {
     "name": "stdout",
     "output_type": "stream",
     "text": [
      "\t\tTotal time for config: 2.9163427352905273\n",
      "Instance 317, T = 1.0, Proposal = MALA_MC, Acceptance = metropolis, Gap = 0.0000\n",
      "Warning: Gap is very small, may be inaccurate.\n",
      "Starting problem instance 318 of 2000 with n = 8\n"
     ]
    },
    {
     "name": "stderr",
     "output_type": "stream",
     "text": [
      "100%|██████████| 1000/1000 [00:03<00:00, 285.67it/s]\n"
     ]
    },
    {
     "name": "stdout",
     "output_type": "stream",
     "text": [
      "\t\tTotal time for config: 3.500491142272949\n",
      "Instance 318, T = 1.0, Proposal = MALA_MC, Acceptance = metropolis, Gap = 0.0000\n",
      "Warning: Gap is very small, may be inaccurate.\n",
      "Starting problem instance 319 of 2000 with n = 9\n"
     ]
    },
    {
     "name": "stderr",
     "output_type": "stream",
     "text": [
      "100%|██████████| 1000/1000 [00:04<00:00, 209.11it/s]\n"
     ]
    },
    {
     "name": "stdout",
     "output_type": "stream",
     "text": [
      "\t\tTotal time for config: 4.782086133956909\n",
      "Instance 319, T = 1.0, Proposal = MALA_MC, Acceptance = metropolis, Gap = 0.0000\n",
      "Warning: Gap is very small, may be inaccurate.\n",
      "Starting problem instance 320 of 2000 with n = 10\n"
     ]
    },
    {
     "name": "stderr",
     "output_type": "stream",
     "text": [
      "100%|██████████| 1000/1000 [00:07<00:00, 125.28it/s]\n"
     ]
    },
    {
     "name": "stdout",
     "output_type": "stream",
     "text": [
      "\t\tTotal time for config: 7.982852458953857\n",
      "Instance 320, T = 1.0, Proposal = MALA_MC, Acceptance = metropolis, Gap = 0.0000\n",
      "Warning: Gap is very small, may be inaccurate.\n",
      "Starting problem instance 321 of 2000 with n = 3\n"
     ]
    },
    {
     "name": "stderr",
     "output_type": "stream",
     "text": [
      "100%|██████████| 1000/1000 [00:00<00:00, 1035.05it/s]\n"
     ]
    },
    {
     "name": "stdout",
     "output_type": "stream",
     "text": [
      "\t\tTotal time for config: 0.9661328792572021\n",
      "Instance 321, T = 1.0, Proposal = MALA_MC, Acceptance = metropolis, Gap = 0.7322\n",
      "Starting problem instance 322 of 2000 with n = 4\n"
     ]
    },
    {
     "name": "stderr",
     "output_type": "stream",
     "text": [
      "100%|██████████| 1000/1000 [00:01<00:00, 625.60it/s]\n"
     ]
    },
    {
     "name": "stdout",
     "output_type": "stream",
     "text": [
      "\t\tTotal time for config: 1.5992114543914795\n",
      "Instance 322, T = 1.0, Proposal = MALA_MC, Acceptance = metropolis, Gap = 0.1119\n",
      "Starting problem instance 323 of 2000 with n = 5\n"
     ]
    },
    {
     "name": "stderr",
     "output_type": "stream",
     "text": [
      "100%|██████████| 1000/1000 [00:02<00:00, 422.46it/s]\n"
     ]
    },
    {
     "name": "stdout",
     "output_type": "stream",
     "text": [
      "\t\tTotal time for config: 2.368408441543579\n",
      "Instance 323, T = 1.0, Proposal = MALA_MC, Acceptance = metropolis, Gap = 0.0733\n",
      "Starting problem instance 324 of 2000 with n = 6\n"
     ]
    },
    {
     "name": "stderr",
     "output_type": "stream",
     "text": [
      "100%|██████████| 1000/1000 [00:02<00:00, 370.40it/s]\n"
     ]
    },
    {
     "name": "stdout",
     "output_type": "stream",
     "text": [
      "\t\tTotal time for config: 2.699796438217163\n",
      "Instance 324, T = 1.0, Proposal = MALA_MC, Acceptance = metropolis, Gap = 0.7838\n",
      "Starting problem instance 325 of 2000 with n = 7\n"
     ]
    },
    {
     "name": "stderr",
     "output_type": "stream",
     "text": [
      "100%|██████████| 1000/1000 [00:03<00:00, 327.76it/s]\n"
     ]
    },
    {
     "name": "stdout",
     "output_type": "stream",
     "text": [
      "\t\tTotal time for config: 3.0535411834716797\n",
      "Instance 325, T = 1.0, Proposal = MALA_MC, Acceptance = metropolis, Gap = 0.0000\n",
      "Warning: Gap is very small, may be inaccurate.\n",
      "Starting problem instance 326 of 2000 with n = 8\n"
     ]
    },
    {
     "name": "stderr",
     "output_type": "stream",
     "text": [
      "100%|██████████| 1000/1000 [00:03<00:00, 265.18it/s]\n"
     ]
    },
    {
     "name": "stdout",
     "output_type": "stream",
     "text": [
      "\t\tTotal time for config: 3.771012544631958\n",
      "Instance 326, T = 1.0, Proposal = MALA_MC, Acceptance = metropolis, Gap = 0.0000\n",
      "Warning: Gap is very small, may be inaccurate.\n",
      "Starting problem instance 327 of 2000 with n = 9\n"
     ]
    },
    {
     "name": "stderr",
     "output_type": "stream",
     "text": [
      "100%|██████████| 1000/1000 [00:04<00:00, 249.39it/s]\n"
     ]
    },
    {
     "name": "stdout",
     "output_type": "stream",
     "text": [
      "\t\tTotal time for config: 4.009766101837158\n",
      "Instance 327, T = 1.0, Proposal = MALA_MC, Acceptance = metropolis, Gap = 0.0000\n",
      "Warning: Gap is very small, may be inaccurate.\n",
      "Starting problem instance 328 of 2000 with n = 10\n"
     ]
    },
    {
     "name": "stderr",
     "output_type": "stream",
     "text": [
      "100%|██████████| 1000/1000 [00:16<00:00, 62.09it/s]\n"
     ]
    },
    {
     "name": "stdout",
     "output_type": "stream",
     "text": [
      "\t\tTotal time for config: 16.114551305770874\n",
      "Instance 328, T = 1.0, Proposal = MALA_MC, Acceptance = metropolis, Gap = 0.0000\n",
      "Warning: Gap is very small, may be inaccurate.\n",
      "Starting problem instance 329 of 2000 with n = 3\n"
     ]
    },
    {
     "name": "stderr",
     "output_type": "stream",
     "text": [
      "100%|██████████| 1000/1000 [00:01<00:00, 501.16it/s]\n"
     ]
    },
    {
     "name": "stdout",
     "output_type": "stream",
     "text": [
      "\t\tTotal time for config: 1.9953525066375732\n",
      "Instance 329, T = 1.0, Proposal = MALA_MC, Acceptance = metropolis, Gap = 0.8596\n",
      "Starting problem instance 330 of 2000 with n = 4\n"
     ]
    },
    {
     "name": "stderr",
     "output_type": "stream",
     "text": [
      "100%|██████████| 1000/1000 [00:02<00:00, 368.16it/s]\n"
     ]
    },
    {
     "name": "stdout",
     "output_type": "stream",
     "text": [
      "\t\tTotal time for config: 2.7300872802734375\n",
      "Instance 330, T = 1.0, Proposal = MALA_MC, Acceptance = metropolis, Gap = 0.2498\n",
      "Starting problem instance 331 of 2000 with n = 5\n"
     ]
    },
    {
     "name": "stderr",
     "output_type": "stream",
     "text": [
      "100%|██████████| 1000/1000 [00:03<00:00, 270.30it/s]\n"
     ]
    },
    {
     "name": "stdout",
     "output_type": "stream",
     "text": [
      "\t\tTotal time for config: 3.699601173400879\n",
      "Instance 331, T = 1.0, Proposal = MALA_MC, Acceptance = metropolis, Gap = 0.2712\n",
      "Starting problem instance 332 of 2000 with n = 6\n"
     ]
    },
    {
     "name": "stderr",
     "output_type": "stream",
     "text": [
      "100%|██████████| 1000/1000 [00:03<00:00, 266.62it/s]\n"
     ]
    },
    {
     "name": "stdout",
     "output_type": "stream",
     "text": [
      "\t\tTotal time for config: 3.750594139099121\n",
      "Instance 332, T = 1.0, Proposal = MALA_MC, Acceptance = metropolis, Gap = 0.0000\n",
      "Warning: Gap is very small, may be inaccurate.\n",
      "Starting problem instance 333 of 2000 with n = 7\n"
     ]
    },
    {
     "name": "stderr",
     "output_type": "stream",
     "text": [
      "100%|██████████| 1000/1000 [00:03<00:00, 309.32it/s]\n"
     ]
    },
    {
     "name": "stdout",
     "output_type": "stream",
     "text": [
      "\t\tTotal time for config: 3.245966911315918\n",
      "Instance 333, T = 1.0, Proposal = MALA_MC, Acceptance = metropolis, Gap = 0.0000\n",
      "Warning: Gap is very small, may be inaccurate.\n",
      "Starting problem instance 334 of 2000 with n = 8\n"
     ]
    },
    {
     "name": "stderr",
     "output_type": "stream",
     "text": [
      "100%|██████████| 1000/1000 [00:03<00:00, 279.85it/s]\n"
     ]
    },
    {
     "name": "stdout",
     "output_type": "stream",
     "text": [
      "\t\tTotal time for config: 3.5769457817077637\n",
      "Instance 334, T = 1.0, Proposal = MALA_MC, Acceptance = metropolis, Gap = 0.0000\n",
      "Warning: Gap is very small, may be inaccurate.\n",
      "Starting problem instance 335 of 2000 with n = 9\n"
     ]
    },
    {
     "name": "stderr",
     "output_type": "stream",
     "text": [
      "100%|██████████| 1000/1000 [00:04<00:00, 210.51it/s]\n"
     ]
    },
    {
     "name": "stdout",
     "output_type": "stream",
     "text": [
      "\t\tTotal time for config: 4.7503156661987305\n",
      "Instance 335, T = 1.0, Proposal = MALA_MC, Acceptance = metropolis, Gap = 0.0000\n",
      "Warning: Gap is very small, may be inaccurate.\n",
      "Starting problem instance 336 of 2000 with n = 10\n"
     ]
    },
    {
     "name": "stderr",
     "output_type": "stream",
     "text": [
      "100%|██████████| 1000/1000 [00:07<00:00, 140.73it/s]\n"
     ]
    },
    {
     "name": "stdout",
     "output_type": "stream",
     "text": [
      "\t\tTotal time for config: 7.105858325958252\n",
      "Instance 336, T = 1.0, Proposal = MALA_MC, Acceptance = metropolis, Gap = 0.0000\n",
      "Warning: Gap is very small, may be inaccurate.\n",
      "Starting problem instance 337 of 2000 with n = 3\n"
     ]
    },
    {
     "name": "stderr",
     "output_type": "stream",
     "text": [
      "100%|██████████| 1000/1000 [00:01<00:00, 779.74it/s]\n"
     ]
    },
    {
     "name": "stdout",
     "output_type": "stream",
     "text": [
      "\t\tTotal time for config: 1.2824759483337402\n",
      "Instance 337, T = 1.0, Proposal = MALA_MC, Acceptance = metropolis, Gap = 0.4355\n",
      "Starting problem instance 338 of 2000 with n = 4\n"
     ]
    },
    {
     "name": "stderr",
     "output_type": "stream",
     "text": [
      "100%|██████████| 1000/1000 [00:01<00:00, 594.12it/s]\n"
     ]
    },
    {
     "name": "stdout",
     "output_type": "stream",
     "text": [
      "\t\tTotal time for config: 1.6831567287445068\n",
      "Instance 338, T = 1.0, Proposal = MALA_MC, Acceptance = metropolis, Gap = 0.1876\n",
      "Starting problem instance 339 of 2000 with n = 5\n"
     ]
    },
    {
     "name": "stderr",
     "output_type": "stream",
     "text": [
      "100%|██████████| 1000/1000 [00:02<00:00, 408.28it/s]\n"
     ]
    },
    {
     "name": "stdout",
     "output_type": "stream",
     "text": [
      "\t\tTotal time for config: 2.449277877807617\n",
      "Instance 339, T = 1.0, Proposal = MALA_MC, Acceptance = metropolis, Gap = 0.3782\n",
      "Starting problem instance 340 of 2000 with n = 6\n"
     ]
    },
    {
     "name": "stderr",
     "output_type": "stream",
     "text": [
      "100%|██████████| 1000/1000 [00:02<00:00, 400.03it/s]\n"
     ]
    },
    {
     "name": "stdout",
     "output_type": "stream",
     "text": [
      "\t\tTotal time for config: 2.4998226165771484\n",
      "Instance 340, T = 1.0, Proposal = MALA_MC, Acceptance = metropolis, Gap = 0.1633\n",
      "Starting problem instance 341 of 2000 with n = 7\n"
     ]
    },
    {
     "name": "stderr",
     "output_type": "stream",
     "text": [
      "100%|██████████| 1000/1000 [00:02<00:00, 355.37it/s]\n"
     ]
    },
    {
     "name": "stdout",
     "output_type": "stream",
     "text": [
      "\t\tTotal time for config: 2.8158321380615234\n",
      "Instance 341, T = 1.0, Proposal = MALA_MC, Acceptance = metropolis, Gap = 0.0000\n",
      "Warning: Gap is very small, may be inaccurate.\n",
      "Starting problem instance 342 of 2000 with n = 8\n"
     ]
    },
    {
     "name": "stderr",
     "output_type": "stream",
     "text": [
      "100%|██████████| 1000/1000 [00:03<00:00, 263.31it/s]\n"
     ]
    },
    {
     "name": "stdout",
     "output_type": "stream",
     "text": [
      "\t\tTotal time for config: 3.810715913772583\n",
      "Instance 342, T = 1.0, Proposal = MALA_MC, Acceptance = metropolis, Gap = 0.0000\n",
      "Warning: Gap is very small, may be inaccurate.\n",
      "Starting problem instance 343 of 2000 with n = 9\n"
     ]
    },
    {
     "name": "stderr",
     "output_type": "stream",
     "text": [
      "100%|██████████| 1000/1000 [00:09<00:00, 100.01it/s]\n"
     ]
    },
    {
     "name": "stdout",
     "output_type": "stream",
     "text": [
      "\t\tTotal time for config: 10.006681680679321\n",
      "Instance 343, T = 1.0, Proposal = MALA_MC, Acceptance = metropolis, Gap = 0.0000\n",
      "Warning: Gap is very small, may be inaccurate.\n",
      "Starting problem instance 344 of 2000 with n = 10\n"
     ]
    },
    {
     "name": "stderr",
     "output_type": "stream",
     "text": [
      "100%|██████████| 1000/1000 [00:18<00:00, 52.99it/s]\n"
     ]
    },
    {
     "name": "stdout",
     "output_type": "stream",
     "text": [
      "\t\tTotal time for config: 18.88848376274109\n",
      "Instance 344, T = 1.0, Proposal = MALA_MC, Acceptance = metropolis, Gap = 0.0000\n",
      "Warning: Gap is very small, may be inaccurate.\n",
      "Starting problem instance 345 of 2000 with n = 3\n"
     ]
    },
    {
     "name": "stderr",
     "output_type": "stream",
     "text": [
      "100%|██████████| 1000/1000 [00:02<00:00, 451.99it/s]\n"
     ]
    },
    {
     "name": "stdout",
     "output_type": "stream",
     "text": [
      "\t\tTotal time for config: 2.2174339294433594\n",
      "Instance 345, T = 1.0, Proposal = MALA_MC, Acceptance = metropolis, Gap = 0.6573\n",
      "Starting problem instance 346 of 2000 with n = 4\n"
     ]
    },
    {
     "name": "stderr",
     "output_type": "stream",
     "text": [
      "100%|██████████| 1000/1000 [00:03<00:00, 321.66it/s]\n"
     ]
    },
    {
     "name": "stdout",
     "output_type": "stream",
     "text": [
      "\t\tTotal time for config: 3.108828544616699\n",
      "Instance 346, T = 1.0, Proposal = MALA_MC, Acceptance = metropolis, Gap = 0.0000\n",
      "Warning: Gap is very small, may be inaccurate.\n",
      "Starting problem instance 347 of 2000 with n = 5\n"
     ]
    },
    {
     "name": "stderr",
     "output_type": "stream",
     "text": [
      "100%|██████████| 1000/1000 [00:03<00:00, 289.37it/s]\n"
     ]
    },
    {
     "name": "stdout",
     "output_type": "stream",
     "text": [
      "\t\tTotal time for config: 3.462806224822998\n",
      "Instance 347, T = 1.0, Proposal = MALA_MC, Acceptance = metropolis, Gap = 0.1160\n",
      "Starting problem instance 348 of 2000 with n = 6\n"
     ]
    },
    {
     "name": "stderr",
     "output_type": "stream",
     "text": [
      "100%|██████████| 1000/1000 [00:03<00:00, 267.17it/s]\n"
     ]
    },
    {
     "name": "stdout",
     "output_type": "stream",
     "text": [
      "\t\tTotal time for config: 3.749213695526123\n",
      "Instance 348, T = 1.0, Proposal = MALA_MC, Acceptance = metropolis, Gap = 0.3638\n",
      "Starting problem instance 349 of 2000 with n = 7\n"
     ]
    },
    {
     "name": "stderr",
     "output_type": "stream",
     "text": [
      "100%|██████████| 1000/1000 [00:05<00:00, 199.79it/s]\n"
     ]
    },
    {
     "name": "stdout",
     "output_type": "stream",
     "text": [
      "\t\tTotal time for config: 5.014173984527588\n",
      "Instance 349, T = 1.0, Proposal = MALA_MC, Acceptance = metropolis, Gap = 0.0000\n",
      "Warning: Gap is very small, may be inaccurate.\n",
      "Starting problem instance 350 of 2000 with n = 8\n"
     ]
    },
    {
     "name": "stderr",
     "output_type": "stream",
     "text": [
      "100%|██████████| 1000/1000 [00:04<00:00, 202.76it/s]\n"
     ]
    },
    {
     "name": "stdout",
     "output_type": "stream",
     "text": [
      "\t\tTotal time for config: 4.945895671844482\n",
      "Instance 350, T = 1.0, Proposal = MALA_MC, Acceptance = metropolis, Gap = 0.0000\n",
      "Warning: Gap is very small, may be inaccurate.\n",
      "Starting problem instance 351 of 2000 with n = 9\n"
     ]
    },
    {
     "name": "stderr",
     "output_type": "stream",
     "text": [
      "100%|██████████| 1000/1000 [00:04<00:00, 211.26it/s]\n"
     ]
    },
    {
     "name": "stdout",
     "output_type": "stream",
     "text": [
      "\t\tTotal time for config: 4.733494520187378\n",
      "Instance 351, T = 1.0, Proposal = MALA_MC, Acceptance = metropolis, Gap = 0.0000\n",
      "Warning: Gap is very small, may be inaccurate.\n",
      "Starting problem instance 352 of 2000 with n = 10\n"
     ]
    },
    {
     "name": "stderr",
     "output_type": "stream",
     "text": [
      "100%|██████████| 1000/1000 [00:07<00:00, 136.39it/s]\n"
     ]
    },
    {
     "name": "stdout",
     "output_type": "stream",
     "text": [
      "\t\tTotal time for config: 7.338279962539673\n",
      "Instance 352, T = 1.0, Proposal = MALA_MC, Acceptance = metropolis, Gap = 0.0000\n",
      "Warning: Gap is very small, may be inaccurate.\n",
      "Starting problem instance 353 of 2000 with n = 3\n"
     ]
    },
    {
     "name": "stderr",
     "output_type": "stream",
     "text": [
      "100%|██████████| 1000/1000 [00:01<00:00, 679.67it/s]\n"
     ]
    },
    {
     "name": "stdout",
     "output_type": "stream",
     "text": [
      "\t\tTotal time for config: 1.4713079929351807\n",
      "Instance 353, T = 1.0, Proposal = MALA_MC, Acceptance = metropolis, Gap = 0.4192\n",
      "Starting problem instance 354 of 2000 with n = 4\n"
     ]
    },
    {
     "name": "stderr",
     "output_type": "stream",
     "text": [
      "100%|██████████| 1000/1000 [00:01<00:00, 598.74it/s]\n"
     ]
    },
    {
     "name": "stdout",
     "output_type": "stream",
     "text": [
      "\t\tTotal time for config: 1.6714684963226318\n",
      "Instance 354, T = 1.0, Proposal = MALA_MC, Acceptance = metropolis, Gap = 0.0001\n",
      "Starting problem instance 355 of 2000 with n = 5\n"
     ]
    },
    {
     "name": "stderr",
     "output_type": "stream",
     "text": [
      "100%|██████████| 1000/1000 [00:02<00:00, 474.84it/s]\n"
     ]
    },
    {
     "name": "stdout",
     "output_type": "stream",
     "text": [
      "\t\tTotal time for config: 2.1076314449310303\n",
      "Instance 355, T = 1.0, Proposal = MALA_MC, Acceptance = metropolis, Gap = 0.0743\n",
      "Starting problem instance 356 of 2000 with n = 6\n"
     ]
    },
    {
     "name": "stderr",
     "output_type": "stream",
     "text": [
      "100%|██████████| 1000/1000 [00:02<00:00, 452.92it/s]\n"
     ]
    },
    {
     "name": "stdout",
     "output_type": "stream",
     "text": [
      "\t\tTotal time for config: 2.2078917026519775\n",
      "Instance 356, T = 1.0, Proposal = MALA_MC, Acceptance = metropolis, Gap = 0.0067\n",
      "Starting problem instance 357 of 2000 with n = 7\n"
     ]
    },
    {
     "name": "stderr",
     "output_type": "stream",
     "text": [
      "100%|██████████| 1000/1000 [00:04<00:00, 206.63it/s]\n"
     ]
    },
    {
     "name": "stdout",
     "output_type": "stream",
     "text": [
      "\t\tTotal time for config: 4.839623212814331\n",
      "Instance 357, T = 1.0, Proposal = MALA_MC, Acceptance = metropolis, Gap = 0.0000\n",
      "Warning: Gap is very small, may be inaccurate.\n",
      "Starting problem instance 358 of 2000 with n = 8\n"
     ]
    },
    {
     "name": "stderr",
     "output_type": "stream",
     "text": [
      "100%|██████████| 1000/1000 [00:06<00:00, 156.18it/s]\n"
     ]
    },
    {
     "name": "stdout",
     "output_type": "stream",
     "text": [
      "\t\tTotal time for config: 6.409390449523926\n",
      "Instance 358, T = 1.0, Proposal = MALA_MC, Acceptance = metropolis, Gap = 0.0000\n",
      "Warning: Gap is very small, may be inaccurate.\n",
      "Starting problem instance 359 of 2000 with n = 9\n"
     ]
    },
    {
     "name": "stderr",
     "output_type": "stream",
     "text": [
      "100%|██████████| 1000/1000 [00:10<00:00, 97.53it/s]\n"
     ]
    },
    {
     "name": "stdout",
     "output_type": "stream",
     "text": [
      "\t\tTotal time for config: 10.26642656326294\n",
      "Instance 359, T = 1.0, Proposal = MALA_MC, Acceptance = metropolis, Gap = 0.0000\n",
      "Warning: Gap is very small, may be inaccurate.\n",
      "Starting problem instance 360 of 2000 with n = 10\n"
     ]
    },
    {
     "name": "stderr",
     "output_type": "stream",
     "text": [
      "100%|██████████| 1000/1000 [00:18<00:00, 53.52it/s]\n"
     ]
    },
    {
     "name": "stdout",
     "output_type": "stream",
     "text": [
      "\t\tTotal time for config: 18.692456007003784\n",
      "Instance 360, T = 1.0, Proposal = MALA_MC, Acceptance = metropolis, Gap = 0.0000\n",
      "Warning: Gap is very small, may be inaccurate.\n",
      "Starting problem instance 361 of 2000 with n = 3\n"
     ]
    },
    {
     "name": "stderr",
     "output_type": "stream",
     "text": [
      "100%|██████████| 1000/1000 [00:02<00:00, 460.53it/s]\n"
     ]
    },
    {
     "name": "stdout",
     "output_type": "stream",
     "text": [
      "\t\tTotal time for config: 2.1964805126190186\n",
      "Instance 361, T = 1.0, Proposal = MALA_MC, Acceptance = metropolis, Gap = 0.8981\n",
      "Starting problem instance 362 of 2000 with n = 4\n"
     ]
    },
    {
     "name": "stderr",
     "output_type": "stream",
     "text": [
      "100%|██████████| 1000/1000 [00:02<00:00, 366.67it/s]\n"
     ]
    },
    {
     "name": "stdout",
     "output_type": "stream",
     "text": [
      "\t\tTotal time for config: 2.7316091060638428\n",
      "Instance 362, T = 1.0, Proposal = MALA_MC, Acceptance = metropolis, Gap = 0.2619\n",
      "Starting problem instance 363 of 2000 with n = 5\n"
     ]
    },
    {
     "name": "stderr",
     "output_type": "stream",
     "text": [
      "100%|██████████| 1000/1000 [00:03<00:00, 286.96it/s]\n"
     ]
    },
    {
     "name": "stdout",
     "output_type": "stream",
     "text": [
      "\t\tTotal time for config: 3.4924590587615967\n",
      "Instance 363, T = 1.0, Proposal = MALA_MC, Acceptance = metropolis, Gap = 0.0155\n",
      "Starting problem instance 364 of 2000 with n = 6\n"
     ]
    },
    {
     "name": "stderr",
     "output_type": "stream",
     "text": [
      "100%|██████████| 1000/1000 [00:03<00:00, 264.01it/s]\n"
     ]
    },
    {
     "name": "stdout",
     "output_type": "stream",
     "text": [
      "\t\tTotal time for config: 3.7994303703308105\n",
      "Instance 364, T = 1.0, Proposal = MALA_MC, Acceptance = metropolis, Gap = 0.0000\n",
      "Warning: Gap is very small, may be inaccurate.\n",
      "Starting problem instance 365 of 2000 with n = 7\n"
     ]
    },
    {
     "name": "stderr",
     "output_type": "stream",
     "text": [
      "100%|██████████| 1000/1000 [00:04<00:00, 219.80it/s]\n"
     ]
    },
    {
     "name": "stdout",
     "output_type": "stream",
     "text": [
      "\t\tTotal time for config: 4.560190916061401\n",
      "Instance 365, T = 1.0, Proposal = MALA_MC, Acceptance = metropolis, Gap = 0.3743\n",
      "Starting problem instance 366 of 2000 with n = 8\n"
     ]
    },
    {
     "name": "stderr",
     "output_type": "stream",
     "text": [
      "100%|██████████| 1000/1000 [00:06<00:00, 155.47it/s]\n"
     ]
    },
    {
     "name": "stdout",
     "output_type": "stream",
     "text": [
      "\t\tTotal time for config: 6.443694353103638\n",
      "Instance 366, T = 1.0, Proposal = MALA_MC, Acceptance = metropolis, Gap = 0.0000\n",
      "Warning: Gap is very small, may be inaccurate.\n",
      "Starting problem instance 367 of 2000 with n = 9\n"
     ]
    },
    {
     "name": "stderr",
     "output_type": "stream",
     "text": [
      "100%|██████████| 1000/1000 [00:10<00:00, 98.27it/s]\n"
     ]
    },
    {
     "name": "stdout",
     "output_type": "stream",
     "text": [
      "\t\tTotal time for config: 10.19613003730774\n",
      "Instance 367, T = 1.0, Proposal = MALA_MC, Acceptance = metropolis, Gap = 0.0000\n",
      "Warning: Gap is very small, may be inaccurate.\n",
      "Starting problem instance 368 of 2000 with n = 10\n"
     ]
    },
    {
     "name": "stderr",
     "output_type": "stream",
     "text": [
      "100%|██████████| 1000/1000 [00:18<00:00, 53.87it/s]\n"
     ]
    },
    {
     "name": "stdout",
     "output_type": "stream",
     "text": [
      "\t\tTotal time for config: 18.569509744644165\n",
      "Instance 368, T = 1.0, Proposal = MALA_MC, Acceptance = metropolis, Gap = 0.0000\n",
      "Warning: Gap is very small, may be inaccurate.\n",
      "Starting problem instance 369 of 2000 with n = 3\n"
     ]
    },
    {
     "name": "stderr",
     "output_type": "stream",
     "text": [
      "100%|██████████| 1000/1000 [00:02<00:00, 472.35it/s]\n"
     ]
    },
    {
     "name": "stdout",
     "output_type": "stream",
     "text": [
      "\t\tTotal time for config: 2.1269335746765137\n",
      "Instance 369, T = 1.0, Proposal = MALA_MC, Acceptance = metropolis, Gap = 0.7461\n",
      "Starting problem instance 370 of 2000 with n = 4\n"
     ]
    },
    {
     "name": "stderr",
     "output_type": "stream",
     "text": [
      "100%|██████████| 1000/1000 [00:02<00:00, 394.77it/s]\n"
     ]
    },
    {
     "name": "stdout",
     "output_type": "stream",
     "text": [
      "\t\tTotal time for config: 2.540472984313965\n",
      "Instance 370, T = 1.0, Proposal = MALA_MC, Acceptance = metropolis, Gap = 0.5750\n",
      "Starting problem instance 371 of 2000 with n = 5\n"
     ]
    },
    {
     "name": "stderr",
     "output_type": "stream",
     "text": [
      "100%|██████████| 1000/1000 [00:03<00:00, 276.54it/s]\n"
     ]
    },
    {
     "name": "stdout",
     "output_type": "stream",
     "text": [
      "\t\tTotal time for config: 3.6161623001098633\n",
      "Instance 371, T = 1.0, Proposal = MALA_MC, Acceptance = metropolis, Gap = 0.0000\n",
      "Warning: Gap is very small, may be inaccurate.\n",
      "Starting problem instance 372 of 2000 with n = 6\n"
     ]
    },
    {
     "name": "stderr",
     "output_type": "stream",
     "text": [
      "100%|██████████| 1000/1000 [00:03<00:00, 282.89it/s]\n"
     ]
    },
    {
     "name": "stdout",
     "output_type": "stream",
     "text": [
      "\t\tTotal time for config: 3.544067859649658\n",
      "Instance 372, T = 1.0, Proposal = MALA_MC, Acceptance = metropolis, Gap = 0.0056\n",
      "Starting problem instance 373 of 2000 with n = 7\n"
     ]
    },
    {
     "name": "stderr",
     "output_type": "stream",
     "text": [
      "100%|██████████| 1000/1000 [00:04<00:00, 222.25it/s]\n"
     ]
    },
    {
     "name": "stdout",
     "output_type": "stream",
     "text": [
      "\t\tTotal time for config: 4.499401092529297\n",
      "Instance 373, T = 1.0, Proposal = MALA_MC, Acceptance = metropolis, Gap = 0.0000\n",
      "Warning: Gap is very small, may be inaccurate.\n",
      "Starting problem instance 374 of 2000 with n = 8\n"
     ]
    },
    {
     "name": "stderr",
     "output_type": "stream",
     "text": [
      "100%|██████████| 1000/1000 [00:06<00:00, 158.38it/s]\n"
     ]
    },
    {
     "name": "stdout",
     "output_type": "stream",
     "text": [
      "\t\tTotal time for config: 6.322118520736694\n",
      "Instance 374, T = 1.0, Proposal = MALA_MC, Acceptance = metropolis, Gap = 0.0144\n",
      "Starting problem instance 375 of 2000 with n = 9\n"
     ]
    },
    {
     "name": "stderr",
     "output_type": "stream",
     "text": [
      "100%|██████████| 1000/1000 [00:10<00:00, 97.17it/s]\n"
     ]
    },
    {
     "name": "stdout",
     "output_type": "stream",
     "text": [
      "\t\tTotal time for config: 10.307011604309082\n",
      "Instance 375, T = 1.0, Proposal = MALA_MC, Acceptance = metropolis, Gap = 0.0000\n",
      "Warning: Gap is very small, may be inaccurate.\n",
      "Starting problem instance 376 of 2000 with n = 10\n"
     ]
    },
    {
     "name": "stderr",
     "output_type": "stream",
     "text": [
      "100%|██████████| 1000/1000 [00:18<00:00, 53.87it/s]\n"
     ]
    },
    {
     "name": "stdout",
     "output_type": "stream",
     "text": [
      "\t\tTotal time for config: 18.577873706817627\n",
      "Instance 376, T = 1.0, Proposal = MALA_MC, Acceptance = metropolis, Gap = 0.0000\n",
      "Warning: Gap is very small, may be inaccurate.\n",
      "Starting problem instance 377 of 2000 with n = 3\n"
     ]
    },
    {
     "name": "stderr",
     "output_type": "stream",
     "text": [
      "100%|██████████| 1000/1000 [00:01<00:00, 525.34it/s]\n"
     ]
    },
    {
     "name": "stdout",
     "output_type": "stream",
     "text": [
      "\t\tTotal time for config: 1.9171442985534668\n",
      "Instance 377, T = 1.0, Proposal = MALA_MC, Acceptance = metropolis, Gap = 0.7922\n",
      "Starting problem instance 378 of 2000 with n = 4\n"
     ]
    },
    {
     "name": "stderr",
     "output_type": "stream",
     "text": [
      "100%|██████████| 1000/1000 [00:02<00:00, 394.79it/s]\n"
     ]
    },
    {
     "name": "stdout",
     "output_type": "stream",
     "text": [
      "\t\tTotal time for config: 2.5454137325286865\n",
      "Instance 378, T = 1.0, Proposal = MALA_MC, Acceptance = metropolis, Gap = 0.0767\n",
      "Starting problem instance 379 of 2000 with n = 5\n"
     ]
    },
    {
     "name": "stderr",
     "output_type": "stream",
     "text": [
      "100%|██████████| 1000/1000 [00:03<00:00, 317.34it/s]\n"
     ]
    },
    {
     "name": "stdout",
     "output_type": "stream",
     "text": [
      "\t\tTotal time for config: 3.1661901473999023\n",
      "Instance 379, T = 1.0, Proposal = MALA_MC, Acceptance = metropolis, Gap = 0.0007\n",
      "Starting problem instance 380 of 2000 with n = 6\n"
     ]
    },
    {
     "name": "stderr",
     "output_type": "stream",
     "text": [
      "100%|██████████| 1000/1000 [00:04<00:00, 247.83it/s]\n"
     ]
    },
    {
     "name": "stdout",
     "output_type": "stream",
     "text": [
      "\t\tTotal time for config: 4.04534387588501\n",
      "Instance 380, T = 1.0, Proposal = MALA_MC, Acceptance = metropolis, Gap = 0.0088\n",
      "Starting problem instance 381 of 2000 with n = 7\n"
     ]
    },
    {
     "name": "stderr",
     "output_type": "stream",
     "text": [
      "100%|██████████| 1000/1000 [00:04<00:00, 206.67it/s]\n"
     ]
    },
    {
     "name": "stdout",
     "output_type": "stream",
     "text": [
      "\t\tTotal time for config: 4.853703260421753\n",
      "Instance 381, T = 1.0, Proposal = MALA_MC, Acceptance = metropolis, Gap = 0.0000\n",
      "Warning: Gap is very small, may be inaccurate.\n",
      "Starting problem instance 382 of 2000 with n = 8\n"
     ]
    },
    {
     "name": "stderr",
     "output_type": "stream",
     "text": [
      "100%|██████████| 1000/1000 [00:06<00:00, 151.63it/s]\n"
     ]
    },
    {
     "name": "stdout",
     "output_type": "stream",
     "text": [
      "\t\tTotal time for config: 6.595000505447388\n",
      "Instance 382, T = 1.0, Proposal = MALA_MC, Acceptance = metropolis, Gap = 0.0000\n",
      "Warning: Gap is very small, may be inaccurate.\n",
      "Starting problem instance 383 of 2000 with n = 9\n"
     ]
    },
    {
     "name": "stderr",
     "output_type": "stream",
     "text": [
      "100%|██████████| 1000/1000 [00:10<00:00, 95.64it/s]\n"
     ]
    },
    {
     "name": "stdout",
     "output_type": "stream",
     "text": [
      "\t\tTotal time for config: 10.457922458648682\n",
      "Instance 383, T = 1.0, Proposal = MALA_MC, Acceptance = metropolis, Gap = 0.0000\n",
      "Warning: Gap is very small, may be inaccurate.\n",
      "Starting problem instance 384 of 2000 with n = 10\n"
     ]
    },
    {
     "name": "stderr",
     "output_type": "stream",
     "text": [
      "100%|██████████| 1000/1000 [00:13<00:00, 75.96it/s]\n"
     ]
    },
    {
     "name": "stdout",
     "output_type": "stream",
     "text": [
      "\t\tTotal time for config: 13.176117181777954\n",
      "Instance 384, T = 1.0, Proposal = MALA_MC, Acceptance = metropolis, Gap = 0.0000\n",
      "Warning: Gap is very small, may be inaccurate.\n",
      "Starting problem instance 385 of 2000 with n = 3\n"
     ]
    },
    {
     "name": "stderr",
     "output_type": "stream",
     "text": [
      "100%|██████████| 1000/1000 [00:01<00:00, 778.67it/s]\n"
     ]
    },
    {
     "name": "stdout",
     "output_type": "stream",
     "text": [
      "\t\tTotal time for config: 1.285451889038086\n",
      "Instance 385, T = 1.0, Proposal = MALA_MC, Acceptance = metropolis, Gap = 0.9265\n",
      "Starting problem instance 386 of 2000 with n = 4\n"
     ]
    },
    {
     "name": "stderr",
     "output_type": "stream",
     "text": [
      "100%|██████████| 1000/1000 [00:01<00:00, 503.78it/s]\n"
     ]
    },
    {
     "name": "stdout",
     "output_type": "stream",
     "text": [
      "\t\tTotal time for config: 1.9850096702575684\n",
      "Instance 386, T = 1.0, Proposal = MALA_MC, Acceptance = metropolis, Gap = 0.3258\n",
      "Starting problem instance 387 of 2000 with n = 5\n"
     ]
    },
    {
     "name": "stderr",
     "output_type": "stream",
     "text": [
      "100%|██████████| 1000/1000 [00:02<00:00, 441.93it/s]\n"
     ]
    },
    {
     "name": "stdout",
     "output_type": "stream",
     "text": [
      "\t\tTotal time for config: 2.2627978324890137\n",
      "Instance 387, T = 1.0, Proposal = MALA_MC, Acceptance = metropolis, Gap = 0.3701\n",
      "Starting problem instance 388 of 2000 with n = 6\n"
     ]
    },
    {
     "name": "stderr",
     "output_type": "stream",
     "text": [
      "100%|██████████| 1000/1000 [00:02<00:00, 466.92it/s]\n"
     ]
    },
    {
     "name": "stdout",
     "output_type": "stream",
     "text": [
      "\t\tTotal time for config: 2.1416893005371094\n",
      "Instance 388, T = 1.0, Proposal = MALA_MC, Acceptance = metropolis, Gap = 0.0000\n",
      "Warning: Gap is very small, may be inaccurate.\n",
      "Starting problem instance 389 of 2000 with n = 7\n"
     ]
    },
    {
     "name": "stderr",
     "output_type": "stream",
     "text": [
      "100%|██████████| 1000/1000 [00:02<00:00, 439.91it/s]\n"
     ]
    },
    {
     "name": "stdout",
     "output_type": "stream",
     "text": [
      "\t\tTotal time for config: 2.2871153354644775\n",
      "Instance 389, T = 1.0, Proposal = MALA_MC, Acceptance = metropolis, Gap = 0.0000\n",
      "Warning: Gap is very small, may be inaccurate.\n",
      "Starting problem instance 390 of 2000 with n = 8\n"
     ]
    },
    {
     "name": "stderr",
     "output_type": "stream",
     "text": [
      "100%|██████████| 1000/1000 [00:02<00:00, 344.39it/s]\n"
     ]
    },
    {
     "name": "stdout",
     "output_type": "stream",
     "text": [
      "\t\tTotal time for config: 2.9048402309417725\n",
      "Instance 390, T = 1.0, Proposal = MALA_MC, Acceptance = metropolis, Gap = 0.0000\n",
      "Warning: Gap is very small, may be inaccurate.\n",
      "Starting problem instance 391 of 2000 with n = 9\n"
     ]
    },
    {
     "name": "stderr",
     "output_type": "stream",
     "text": [
      "100%|██████████| 1000/1000 [00:04<00:00, 235.13it/s]\n"
     ]
    },
    {
     "name": "stdout",
     "output_type": "stream",
     "text": [
      "\t\tTotal time for config: 4.255436658859253\n",
      "Instance 391, T = 1.0, Proposal = MALA_MC, Acceptance = metropolis, Gap = 0.0000\n",
      "Warning: Gap is very small, may be inaccurate.\n",
      "Starting problem instance 392 of 2000 with n = 10\n"
     ]
    },
    {
     "name": "stderr",
     "output_type": "stream",
     "text": [
      "100%|██████████| 1000/1000 [00:06<00:00, 143.87it/s]\n"
     ]
    },
    {
     "name": "stdout",
     "output_type": "stream",
     "text": [
      "\t\tTotal time for config: 6.95066237449646\n",
      "Instance 392, T = 1.0, Proposal = MALA_MC, Acceptance = metropolis, Gap = 0.0000\n",
      "Warning: Gap is very small, may be inaccurate.\n",
      "Starting problem instance 393 of 2000 with n = 3\n"
     ]
    },
    {
     "name": "stderr",
     "output_type": "stream",
     "text": [
      "100%|██████████| 1000/1000 [00:01<00:00, 635.66it/s]\n"
     ]
    },
    {
     "name": "stdout",
     "output_type": "stream",
     "text": [
      "\t\tTotal time for config: 1.5731689929962158\n",
      "Instance 393, T = 1.0, Proposal = MALA_MC, Acceptance = metropolis, Gap = 0.6938\n",
      "Starting problem instance 394 of 2000 with n = 4\n"
     ]
    },
    {
     "name": "stderr",
     "output_type": "stream",
     "text": [
      "100%|██████████| 1000/1000 [00:01<00:00, 542.04it/s]\n"
     ]
    },
    {
     "name": "stdout",
     "output_type": "stream",
     "text": [
      "\t\tTotal time for config: 1.8473148345947266\n",
      "Instance 394, T = 1.0, Proposal = MALA_MC, Acceptance = metropolis, Gap = 0.5841\n",
      "Starting problem instance 395 of 2000 with n = 5\n"
     ]
    },
    {
     "name": "stderr",
     "output_type": "stream",
     "text": [
      "100%|██████████| 1000/1000 [00:02<00:00, 434.48it/s]\n"
     ]
    },
    {
     "name": "stdout",
     "output_type": "stream",
     "text": [
      "\t\tTotal time for config: 2.31691312789917\n",
      "Instance 395, T = 1.0, Proposal = MALA_MC, Acceptance = metropolis, Gap = 0.0000\n",
      "Warning: Gap is very small, may be inaccurate.\n",
      "Starting problem instance 396 of 2000 with n = 6\n"
     ]
    },
    {
     "name": "stderr",
     "output_type": "stream",
     "text": [
      "100%|██████████| 1000/1000 [00:02<00:00, 375.05it/s]\n"
     ]
    },
    {
     "name": "stdout",
     "output_type": "stream",
     "text": [
      "\t\tTotal time for config: 2.6720433235168457\n",
      "Instance 396, T = 1.0, Proposal = MALA_MC, Acceptance = metropolis, Gap = 0.0012\n",
      "Starting problem instance 397 of 2000 with n = 7\n"
     ]
    },
    {
     "name": "stderr",
     "output_type": "stream",
     "text": [
      "100%|██████████| 1000/1000 [00:04<00:00, 216.18it/s]\n"
     ]
    },
    {
     "name": "stdout",
     "output_type": "stream",
     "text": [
      "\t\tTotal time for config: 4.634023189544678\n",
      "Instance 397, T = 1.0, Proposal = MALA_MC, Acceptance = metropolis, Gap = 0.0000\n",
      "Warning: Gap is very small, may be inaccurate.\n",
      "Starting problem instance 398 of 2000 with n = 8\n"
     ]
    },
    {
     "name": "stderr",
     "output_type": "stream",
     "text": [
      "100%|██████████| 1000/1000 [00:06<00:00, 162.33it/s]\n"
     ]
    },
    {
     "name": "stdout",
     "output_type": "stream",
     "text": [
      "\t\tTotal time for config: 6.174227952957153\n",
      "Instance 398, T = 1.0, Proposal = MALA_MC, Acceptance = metropolis, Gap = 0.0000\n",
      "Warning: Gap is very small, may be inaccurate.\n",
      "Starting problem instance 399 of 2000 with n = 9\n"
     ]
    },
    {
     "name": "stderr",
     "output_type": "stream",
     "text": [
      "100%|██████████| 1000/1000 [00:10<00:00, 99.13it/s]\n"
     ]
    },
    {
     "name": "stdout",
     "output_type": "stream",
     "text": [
      "\t\tTotal time for config: 10.088102579116821\n",
      "Instance 399, T = 1.0, Proposal = MALA_MC, Acceptance = metropolis, Gap = 0.0000\n",
      "Warning: Gap is very small, may be inaccurate.\n",
      "Starting problem instance 400 of 2000 with n = 10\n"
     ]
    },
    {
     "name": "stderr",
     "output_type": "stream",
     "text": [
      "100%|██████████| 1000/1000 [00:18<00:00, 53.49it/s]\n"
     ]
    },
    {
     "name": "stdout",
     "output_type": "stream",
     "text": [
      "\t\tTotal time for config: 18.708189249038696\n",
      "Instance 400, T = 1.0, Proposal = MALA_MC, Acceptance = metropolis, Gap = 0.0000\n",
      "Warning: Gap is very small, may be inaccurate.\n",
      "Starting problem instance 401 of 2000 with n = 3\n"
     ]
    },
    {
     "name": "stderr",
     "output_type": "stream",
     "text": [
      "100%|██████████| 1000/1000 [00:01<00:00, 536.42it/s]\n"
     ]
    },
    {
     "name": "stdout",
     "output_type": "stream",
     "text": [
      "\t\tTotal time for config: 1.8757662773132324\n",
      "Instance 401, T = 1.0, Proposal = MALA_MC, Acceptance = metropolis, Gap = 0.7663\n",
      "Starting problem instance 402 of 2000 with n = 4\n"
     ]
    },
    {
     "name": "stderr",
     "output_type": "stream",
     "text": [
      "100%|██████████| 1000/1000 [00:02<00:00, 399.59it/s]\n"
     ]
    },
    {
     "name": "stdout",
     "output_type": "stream",
     "text": [
      "\t\tTotal time for config: 2.5082027912139893\n",
      "Instance 402, T = 1.0, Proposal = MALA_MC, Acceptance = metropolis, Gap = 0.8620\n",
      "Starting problem instance 403 of 2000 with n = 5\n"
     ]
    },
    {
     "name": "stderr",
     "output_type": "stream",
     "text": [
      "100%|██████████| 1000/1000 [00:03<00:00, 283.85it/s]\n"
     ]
    },
    {
     "name": "stdout",
     "output_type": "stream",
     "text": [
      "\t\tTotal time for config: 3.5331571102142334\n",
      "Instance 403, T = 1.0, Proposal = MALA_MC, Acceptance = metropolis, Gap = 0.3749\n",
      "Starting problem instance 404 of 2000 with n = 6\n"
     ]
    },
    {
     "name": "stderr",
     "output_type": "stream",
     "text": [
      "100%|██████████| 1000/1000 [00:03<00:00, 252.93it/s]\n"
     ]
    },
    {
     "name": "stdout",
     "output_type": "stream",
     "text": [
      "\t\tTotal time for config: 3.9654183387756348\n",
      "Instance 404, T = 1.0, Proposal = MALA_MC, Acceptance = metropolis, Gap = 0.3886\n",
      "Starting problem instance 405 of 2000 with n = 7\n"
     ]
    },
    {
     "name": "stderr",
     "output_type": "stream",
     "text": [
      "100%|██████████| 1000/1000 [00:04<00:00, 203.42it/s]\n"
     ]
    },
    {
     "name": "stdout",
     "output_type": "stream",
     "text": [
      "\t\tTotal time for config: 4.916040658950806\n",
      "Instance 405, T = 1.0, Proposal = MALA_MC, Acceptance = metropolis, Gap = 0.3705\n",
      "Starting problem instance 406 of 2000 with n = 8\n"
     ]
    },
    {
     "name": "stderr",
     "output_type": "stream",
     "text": [
      "100%|██████████| 1000/1000 [00:06<00:00, 160.87it/s]\n"
     ]
    },
    {
     "name": "stdout",
     "output_type": "stream",
     "text": [
      "\t\tTotal time for config: 6.2161688804626465\n",
      "Instance 406, T = 1.0, Proposal = MALA_MC, Acceptance = metropolis, Gap = 0.0000\n",
      "Warning: Gap is very small, may be inaccurate.\n",
      "Starting problem instance 407 of 2000 with n = 9\n"
     ]
    },
    {
     "name": "stderr",
     "output_type": "stream",
     "text": [
      "100%|██████████| 1000/1000 [00:10<00:00, 99.25it/s]\n"
     ]
    },
    {
     "name": "stdout",
     "output_type": "stream",
     "text": [
      "\t\tTotal time for config: 10.098334789276123\n",
      "Instance 407, T = 1.0, Proposal = MALA_MC, Acceptance = metropolis, Gap = 0.0000\n",
      "Warning: Gap is very small, may be inaccurate.\n",
      "Starting problem instance 408 of 2000 with n = 10\n"
     ]
    },
    {
     "name": "stderr",
     "output_type": "stream",
     "text": [
      "100%|██████████| 1000/1000 [00:17<00:00, 56.56it/s]\n"
     ]
    },
    {
     "name": "stdout",
     "output_type": "stream",
     "text": [
      "\t\tTotal time for config: 17.68055820465088\n",
      "Instance 408, T = 1.0, Proposal = MALA_MC, Acceptance = metropolis, Gap = 0.0000\n",
      "Warning: Gap is very small, may be inaccurate.\n",
      "Starting problem instance 409 of 2000 with n = 3\n"
     ]
    },
    {
     "name": "stderr",
     "output_type": "stream",
     "text": [
      "100%|██████████| 1000/1000 [00:02<00:00, 474.15it/s]\n"
     ]
    },
    {
     "name": "stdout",
     "output_type": "stream",
     "text": [
      "\t\tTotal time for config: 2.1170668601989746\n",
      "Instance 409, T = 1.0, Proposal = MALA_MC, Acceptance = metropolis, Gap = 0.5342\n",
      "Starting problem instance 410 of 2000 with n = 4\n"
     ]
    },
    {
     "name": "stderr",
     "output_type": "stream",
     "text": [
      "100%|██████████| 1000/1000 [00:02<00:00, 370.98it/s]\n"
     ]
    },
    {
     "name": "stdout",
     "output_type": "stream",
     "text": [
      "\t\tTotal time for config: 2.695582866668701\n",
      "Instance 410, T = 1.0, Proposal = MALA_MC, Acceptance = metropolis, Gap = 0.4702\n",
      "Starting problem instance 411 of 2000 with n = 5\n"
     ]
    },
    {
     "name": "stderr",
     "output_type": "stream",
     "text": [
      "100%|██████████| 1000/1000 [00:03<00:00, 276.53it/s]\n"
     ]
    },
    {
     "name": "stdout",
     "output_type": "stream",
     "text": [
      "\t\tTotal time for config: 3.628103733062744\n",
      "Instance 411, T = 1.0, Proposal = MALA_MC, Acceptance = metropolis, Gap = 0.2577\n",
      "Starting problem instance 412 of 2000 with n = 6\n"
     ]
    },
    {
     "name": "stderr",
     "output_type": "stream",
     "text": [
      "100%|██████████| 1000/1000 [00:03<00:00, 265.48it/s]\n"
     ]
    },
    {
     "name": "stdout",
     "output_type": "stream",
     "text": [
      "\t\tTotal time for config: 3.77199125289917\n",
      "Instance 412, T = 1.0, Proposal = MALA_MC, Acceptance = metropolis, Gap = 0.0000\n",
      "Warning: Gap is very small, may be inaccurate.\n",
      "Starting problem instance 413 of 2000 with n = 7\n"
     ]
    },
    {
     "name": "stderr",
     "output_type": "stream",
     "text": [
      "100%|██████████| 1000/1000 [00:04<00:00, 230.29it/s]\n"
     ]
    },
    {
     "name": "stdout",
     "output_type": "stream",
     "text": [
      "\t\tTotal time for config: 4.357265949249268\n",
      "Instance 413, T = 1.0, Proposal = MALA_MC, Acceptance = metropolis, Gap = 0.0021\n",
      "Starting problem instance 414 of 2000 with n = 8\n"
     ]
    },
    {
     "name": "stderr",
     "output_type": "stream",
     "text": [
      "100%|██████████| 1000/1000 [00:06<00:00, 157.37it/s]\n"
     ]
    },
    {
     "name": "stdout",
     "output_type": "stream",
     "text": [
      "\t\tTotal time for config: 6.354305028915405\n",
      "Instance 414, T = 1.0, Proposal = MALA_MC, Acceptance = metropolis, Gap = 0.0000\n",
      "Warning: Gap is very small, may be inaccurate.\n",
      "Starting problem instance 415 of 2000 with n = 9\n"
     ]
    },
    {
     "name": "stderr",
     "output_type": "stream",
     "text": [
      "100%|██████████| 1000/1000 [00:09<00:00, 101.24it/s]\n"
     ]
    },
    {
     "name": "stdout",
     "output_type": "stream",
     "text": [
      "\t\tTotal time for config: 9.897577047348022\n",
      "Instance 415, T = 1.0, Proposal = MALA_MC, Acceptance = metropolis, Gap = 0.0000\n",
      "Warning: Gap is very small, may be inaccurate.\n",
      "Starting problem instance 416 of 2000 with n = 10\n"
     ]
    },
    {
     "name": "stderr",
     "output_type": "stream",
     "text": [
      "100%|██████████| 1000/1000 [00:17<00:00, 55.71it/s]\n"
     ]
    },
    {
     "name": "stdout",
     "output_type": "stream",
     "text": [
      "\t\tTotal time for config: 17.95596933364868\n",
      "Instance 416, T = 1.0, Proposal = MALA_MC, Acceptance = metropolis, Gap = 0.0000\n",
      "Warning: Gap is very small, may be inaccurate.\n",
      "Starting problem instance 417 of 2000 with n = 3\n"
     ]
    },
    {
     "name": "stderr",
     "output_type": "stream",
     "text": [
      "100%|██████████| 1000/1000 [00:02<00:00, 447.04it/s]\n"
     ]
    },
    {
     "name": "stdout",
     "output_type": "stream",
     "text": [
      "\t\tTotal time for config: 2.252594232559204\n",
      "Instance 417, T = 1.0, Proposal = MALA_MC, Acceptance = metropolis, Gap = 0.8049\n",
      "Starting problem instance 418 of 2000 with n = 4\n"
     ]
    },
    {
     "name": "stderr",
     "output_type": "stream",
     "text": [
      "100%|██████████| 1000/1000 [00:02<00:00, 339.82it/s]\n"
     ]
    },
    {
     "name": "stdout",
     "output_type": "stream",
     "text": [
      "\t\tTotal time for config: 2.9452836513519287\n",
      "Instance 418, T = 1.0, Proposal = MALA_MC, Acceptance = metropolis, Gap = 0.5978\n",
      "Starting problem instance 419 of 2000 with n = 5\n"
     ]
    },
    {
     "name": "stderr",
     "output_type": "stream",
     "text": [
      "100%|██████████| 1000/1000 [00:03<00:00, 281.42it/s]\n"
     ]
    },
    {
     "name": "stdout",
     "output_type": "stream",
     "text": [
      "\t\tTotal time for config: 3.5703866481781006\n",
      "Instance 419, T = 1.0, Proposal = MALA_MC, Acceptance = metropolis, Gap = 0.7028\n",
      "Starting problem instance 420 of 2000 with n = 6\n"
     ]
    },
    {
     "name": "stderr",
     "output_type": "stream",
     "text": [
      "100%|██████████| 1000/1000 [00:03<00:00, 268.52it/s]\n"
     ]
    },
    {
     "name": "stdout",
     "output_type": "stream",
     "text": [
      "\t\tTotal time for config: 3.7314109802246094\n",
      "Instance 420, T = 1.0, Proposal = MALA_MC, Acceptance = metropolis, Gap = 0.1597\n",
      "Starting problem instance 421 of 2000 with n = 7\n"
     ]
    },
    {
     "name": "stderr",
     "output_type": "stream",
     "text": [
      "100%|██████████| 1000/1000 [00:04<00:00, 222.31it/s]\n"
     ]
    },
    {
     "name": "stdout",
     "output_type": "stream",
     "text": [
      "\t\tTotal time for config: 4.502859354019165\n",
      "Instance 421, T = 1.0, Proposal = MALA_MC, Acceptance = metropolis, Gap = 0.0022\n",
      "Starting problem instance 422 of 2000 with n = 8\n"
     ]
    },
    {
     "name": "stderr",
     "output_type": "stream",
     "text": [
      "100%|██████████| 1000/1000 [00:06<00:00, 163.60it/s]\n"
     ]
    },
    {
     "name": "stdout",
     "output_type": "stream",
     "text": [
      "\t\tTotal time for config: 6.115967512130737\n",
      "Instance 422, T = 1.0, Proposal = MALA_MC, Acceptance = metropolis, Gap = 0.0000\n",
      "Warning: Gap is very small, may be inaccurate.\n",
      "Starting problem instance 423 of 2000 with n = 9\n"
     ]
    },
    {
     "name": "stderr",
     "output_type": "stream",
     "text": [
      "100%|██████████| 1000/1000 [00:09<00:00, 102.23it/s]\n"
     ]
    },
    {
     "name": "stdout",
     "output_type": "stream",
     "text": [
      "\t\tTotal time for config: 9.795170068740845\n",
      "Instance 423, T = 1.0, Proposal = MALA_MC, Acceptance = metropolis, Gap = 0.0000\n",
      "Warning: Gap is very small, may be inaccurate.\n",
      "Starting problem instance 424 of 2000 with n = 10\n"
     ]
    },
    {
     "name": "stderr",
     "output_type": "stream",
     "text": [
      "100%|██████████| 1000/1000 [00:17<00:00, 55.89it/s]\n"
     ]
    },
    {
     "name": "stdout",
     "output_type": "stream",
     "text": [
      "\t\tTotal time for config: 17.891393423080444\n",
      "Instance 424, T = 1.0, Proposal = MALA_MC, Acceptance = metropolis, Gap = 0.0000\n",
      "Warning: Gap is very small, may be inaccurate.\n",
      "Starting problem instance 425 of 2000 with n = 3\n"
     ]
    },
    {
     "name": "stderr",
     "output_type": "stream",
     "text": [
      "100%|██████████| 1000/1000 [00:02<00:00, 454.15it/s]\n"
     ]
    },
    {
     "name": "stdout",
     "output_type": "stream",
     "text": [
      "\t\tTotal time for config: 2.2095799446105957\n",
      "Instance 425, T = 1.0, Proposal = MALA_MC, Acceptance = metropolis, Gap = 0.7422\n",
      "Starting problem instance 426 of 2000 with n = 4\n"
     ]
    },
    {
     "name": "stderr",
     "output_type": "stream",
     "text": [
      "100%|██████████| 1000/1000 [00:02<00:00, 354.43it/s]\n"
     ]
    },
    {
     "name": "stdout",
     "output_type": "stream",
     "text": [
      "\t\tTotal time for config: 2.8354814052581787\n",
      "Instance 426, T = 1.0, Proposal = MALA_MC, Acceptance = metropolis, Gap = 0.6972\n",
      "Starting problem instance 427 of 2000 with n = 5\n"
     ]
    },
    {
     "name": "stderr",
     "output_type": "stream",
     "text": [
      "100%|██████████| 1000/1000 [00:03<00:00, 291.92it/s]\n"
     ]
    },
    {
     "name": "stdout",
     "output_type": "stream",
     "text": [
      "\t\tTotal time for config: 3.437958240509033\n",
      "Instance 427, T = 1.0, Proposal = MALA_MC, Acceptance = metropolis, Gap = 0.0338\n",
      "Starting problem instance 428 of 2000 with n = 6\n"
     ]
    },
    {
     "name": "stderr",
     "output_type": "stream",
     "text": [
      "100%|██████████| 1000/1000 [00:03<00:00, 254.13it/s]\n"
     ]
    },
    {
     "name": "stdout",
     "output_type": "stream",
     "text": [
      "\t\tTotal time for config: 3.9359638690948486\n",
      "Instance 428, T = 1.0, Proposal = MALA_MC, Acceptance = metropolis, Gap = 0.0000\n",
      "Warning: Gap is very small, may be inaccurate.\n",
      "Starting problem instance 429 of 2000 with n = 7\n"
     ]
    },
    {
     "name": "stderr",
     "output_type": "stream",
     "text": [
      "100%|██████████| 1000/1000 [00:04<00:00, 221.43it/s]\n"
     ]
    },
    {
     "name": "stdout",
     "output_type": "stream",
     "text": [
      "\t\tTotal time for config: 4.5313942432403564\n",
      "Instance 429, T = 1.0, Proposal = MALA_MC, Acceptance = metropolis, Gap = 0.7411\n",
      "Starting problem instance 430 of 2000 with n = 8\n"
     ]
    },
    {
     "name": "stderr",
     "output_type": "stream",
     "text": [
      "100%|██████████| 1000/1000 [00:05<00:00, 169.62it/s]\n"
     ]
    },
    {
     "name": "stdout",
     "output_type": "stream",
     "text": [
      "\t\tTotal time for config: 5.895674705505371\n",
      "Instance 430, T = 1.0, Proposal = MALA_MC, Acceptance = metropolis, Gap = 0.0000\n",
      "Warning: Gap is very small, may be inaccurate.\n",
      "Starting problem instance 431 of 2000 with n = 9\n"
     ]
    },
    {
     "name": "stderr",
     "output_type": "stream",
     "text": [
      "100%|██████████| 1000/1000 [00:09<00:00, 100.98it/s]\n"
     ]
    },
    {
     "name": "stdout",
     "output_type": "stream",
     "text": [
      "\t\tTotal time for config: 9.915292501449585\n",
      "Instance 431, T = 1.0, Proposal = MALA_MC, Acceptance = metropolis, Gap = 0.0000\n",
      "Warning: Gap is very small, may be inaccurate.\n",
      "Starting problem instance 432 of 2000 with n = 10\n"
     ]
    },
    {
     "name": "stderr",
     "output_type": "stream",
     "text": [
      "100%|██████████| 1000/1000 [00:09<00:00, 106.98it/s]\n"
     ]
    },
    {
     "name": "stdout",
     "output_type": "stream",
     "text": [
      "\t\tTotal time for config: 9.360073566436768\n",
      "Instance 432, T = 1.0, Proposal = MALA_MC, Acceptance = metropolis, Gap = 0.0000\n",
      "Warning: Gap is very small, may be inaccurate.\n",
      "Starting problem instance 433 of 2000 with n = 3\n"
     ]
    },
    {
     "name": "stderr",
     "output_type": "stream",
     "text": [
      "100%|██████████| 1000/1000 [00:01<00:00, 778.76it/s]\n"
     ]
    },
    {
     "name": "stdout",
     "output_type": "stream",
     "text": [
      "\t\tTotal time for config: 1.2939496040344238\n",
      "Instance 433, T = 1.0, Proposal = MALA_MC, Acceptance = metropolis, Gap = 0.1800\n",
      "Starting problem instance 434 of 2000 with n = 4\n"
     ]
    },
    {
     "name": "stderr",
     "output_type": "stream",
     "text": [
      "100%|██████████| 1000/1000 [00:01<00:00, 500.70it/s]\n"
     ]
    },
    {
     "name": "stdout",
     "output_type": "stream",
     "text": [
      "\t\tTotal time for config: 1.999565601348877\n",
      "Instance 434, T = 1.0, Proposal = MALA_MC, Acceptance = metropolis, Gap = 0.2711\n",
      "Starting problem instance 435 of 2000 with n = 5\n"
     ]
    },
    {
     "name": "stderr",
     "output_type": "stream",
     "text": [
      "100%|██████████| 1000/1000 [00:02<00:00, 416.74it/s]\n"
     ]
    },
    {
     "name": "stdout",
     "output_type": "stream",
     "text": [
      "\t\tTotal time for config: 2.399564743041992\n",
      "Instance 435, T = 1.0, Proposal = MALA_MC, Acceptance = metropolis, Gap = 0.1038\n",
      "Starting problem instance 436 of 2000 with n = 6\n"
     ]
    },
    {
     "name": "stderr",
     "output_type": "stream",
     "text": [
      "100%|██████████| 1000/1000 [00:02<00:00, 403.91it/s]\n"
     ]
    },
    {
     "name": "stdout",
     "output_type": "stream",
     "text": [
      "\t\tTotal time for config: 2.4758288860321045\n",
      "Instance 436, T = 1.0, Proposal = MALA_MC, Acceptance = metropolis, Gap = 0.0000\n",
      "Warning: Gap is very small, may be inaccurate.\n",
      "Starting problem instance 437 of 2000 with n = 7\n"
     ]
    },
    {
     "name": "stderr",
     "output_type": "stream",
     "text": [
      "100%|██████████| 1000/1000 [00:03<00:00, 333.19it/s]\n"
     ]
    },
    {
     "name": "stdout",
     "output_type": "stream",
     "text": [
      "\t\tTotal time for config: 3.001323938369751\n",
      "Instance 437, T = 1.0, Proposal = MALA_MC, Acceptance = metropolis, Gap = 0.0000\n",
      "Warning: Gap is very small, may be inaccurate.\n",
      "Starting problem instance 438 of 2000 with n = 8\n"
     ]
    },
    {
     "name": "stderr",
     "output_type": "stream",
     "text": [
      "100%|██████████| 1000/1000 [00:03<00:00, 314.24it/s]\n"
     ]
    },
    {
     "name": "stdout",
     "output_type": "stream",
     "text": [
      "\t\tTotal time for config: 3.1823220252990723\n",
      "Instance 438, T = 1.0, Proposal = MALA_MC, Acceptance = metropolis, Gap = 0.0000\n",
      "Warning: Gap is very small, may be inaccurate.\n",
      "Starting problem instance 439 of 2000 with n = 9\n"
     ]
    },
    {
     "name": "stderr",
     "output_type": "stream",
     "text": [
      "100%|██████████| 1000/1000 [00:04<00:00, 214.71it/s]\n"
     ]
    },
    {
     "name": "stdout",
     "output_type": "stream",
     "text": [
      "\t\tTotal time for config: 4.678881406784058\n",
      "Instance 439, T = 1.0, Proposal = MALA_MC, Acceptance = metropolis, Gap = 0.0000\n",
      "Warning: Gap is very small, may be inaccurate.\n",
      "Starting problem instance 440 of 2000 with n = 10\n"
     ]
    },
    {
     "name": "stderr",
     "output_type": "stream",
     "text": [
      "100%|██████████| 1000/1000 [00:07<00:00, 134.29it/s]\n"
     ]
    },
    {
     "name": "stdout",
     "output_type": "stream",
     "text": [
      "\t\tTotal time for config: 7.450589895248413\n",
      "Instance 440, T = 1.0, Proposal = MALA_MC, Acceptance = metropolis, Gap = 0.0000\n",
      "Warning: Gap is very small, may be inaccurate.\n",
      "Starting problem instance 441 of 2000 with n = 3\n"
     ]
    },
    {
     "name": "stderr",
     "output_type": "stream",
     "text": [
      "100%|██████████| 1000/1000 [00:01<00:00, 852.91it/s]\n"
     ]
    },
    {
     "name": "stdout",
     "output_type": "stream",
     "text": [
      "\t\tTotal time for config: 1.1724591255187988\n",
      "Instance 441, T = 1.0, Proposal = MALA_MC, Acceptance = metropolis, Gap = 0.8565\n",
      "Starting problem instance 442 of 2000 with n = 4\n"
     ]
    },
    {
     "name": "stderr",
     "output_type": "stream",
     "text": [
      "100%|██████████| 1000/1000 [00:01<00:00, 566.19it/s]\n"
     ]
    },
    {
     "name": "stdout",
     "output_type": "stream",
     "text": [
      "\t\tTotal time for config: 1.7662060260772705\n",
      "Instance 442, T = 1.0, Proposal = MALA_MC, Acceptance = metropolis, Gap = 0.7515\n",
      "Starting problem instance 443 of 2000 with n = 5\n"
     ]
    },
    {
     "name": "stderr",
     "output_type": "stream",
     "text": [
      "100%|██████████| 1000/1000 [00:02<00:00, 469.91it/s]\n"
     ]
    },
    {
     "name": "stdout",
     "output_type": "stream",
     "text": [
      "\t\tTotal time for config: 2.141298532485962\n",
      "Instance 443, T = 1.0, Proposal = MALA_MC, Acceptance = metropolis, Gap = 0.1698\n",
      "Starting problem instance 444 of 2000 with n = 6\n"
     ]
    },
    {
     "name": "stderr",
     "output_type": "stream",
     "text": [
      "100%|██████████| 1000/1000 [00:02<00:00, 397.35it/s]\n"
     ]
    },
    {
     "name": "stdout",
     "output_type": "stream",
     "text": [
      "\t\tTotal time for config: 2.5166945457458496\n",
      "Instance 444, T = 1.0, Proposal = MALA_MC, Acceptance = metropolis, Gap = 0.0006\n",
      "Starting problem instance 445 of 2000 with n = 7\n"
     ]
    },
    {
     "name": "stderr",
     "output_type": "stream",
     "text": [
      "100%|██████████| 1000/1000 [00:02<00:00, 362.16it/s]\n"
     ]
    },
    {
     "name": "stdout",
     "output_type": "stream",
     "text": [
      "\t\tTotal time for config: 2.7644505500793457\n",
      "Instance 445, T = 1.0, Proposal = MALA_MC, Acceptance = metropolis, Gap = 0.0000\n",
      "Warning: Gap is very small, may be inaccurate.\n",
      "Starting problem instance 446 of 2000 with n = 8\n"
     ]
    },
    {
     "name": "stderr",
     "output_type": "stream",
     "text": [
      "100%|██████████| 1000/1000 [00:03<00:00, 292.91it/s]\n"
     ]
    },
    {
     "name": "stdout",
     "output_type": "stream",
     "text": [
      "\t\tTotal time for config: 3.4140751361846924\n",
      "Instance 446, T = 1.0, Proposal = MALA_MC, Acceptance = metropolis, Gap = 0.0000\n",
      "Warning: Gap is very small, may be inaccurate.\n",
      "Starting problem instance 447 of 2000 with n = 9\n"
     ]
    },
    {
     "name": "stderr",
     "output_type": "stream",
     "text": [
      "100%|██████████| 1000/1000 [00:04<00:00, 221.18it/s]\n"
     ]
    },
    {
     "name": "stdout",
     "output_type": "stream",
     "text": [
      "\t\tTotal time for config: 4.523303985595703\n",
      "Instance 447, T = 1.0, Proposal = MALA_MC, Acceptance = metropolis, Gap = 0.0000\n",
      "Warning: Gap is very small, may be inaccurate.\n",
      "Starting problem instance 448 of 2000 with n = 10\n"
     ]
    },
    {
     "name": "stderr",
     "output_type": "stream",
     "text": [
      "100%|██████████| 1000/1000 [00:07<00:00, 131.02it/s]\n"
     ]
    },
    {
     "name": "stdout",
     "output_type": "stream",
     "text": [
      "\t\tTotal time for config: 7.6387248039245605\n",
      "Instance 448, T = 1.0, Proposal = MALA_MC, Acceptance = metropolis, Gap = 0.0000\n",
      "Warning: Gap is very small, may be inaccurate.\n",
      "Starting problem instance 449 of 2000 with n = 3\n"
     ]
    },
    {
     "name": "stderr",
     "output_type": "stream",
     "text": [
      "100%|██████████| 1000/1000 [00:01<00:00, 736.33it/s]\n"
     ]
    },
    {
     "name": "stdout",
     "output_type": "stream",
     "text": [
      "\t\tTotal time for config: 1.3664593696594238\n",
      "Instance 449, T = 1.0, Proposal = MALA_MC, Acceptance = metropolis, Gap = 0.8258\n",
      "Starting problem instance 450 of 2000 with n = 4\n"
     ]
    },
    {
     "name": "stderr",
     "output_type": "stream",
     "text": [
      "100%|██████████| 1000/1000 [00:01<00:00, 546.05it/s]\n"
     ]
    },
    {
     "name": "stdout",
     "output_type": "stream",
     "text": [
      "\t\tTotal time for config: 1.8313477039337158\n",
      "Instance 450, T = 1.0, Proposal = MALA_MC, Acceptance = metropolis, Gap = 0.5118\n",
      "Starting problem instance 451 of 2000 with n = 5\n"
     ]
    },
    {
     "name": "stderr",
     "output_type": "stream",
     "text": [
      "100%|██████████| 1000/1000 [00:02<00:00, 464.09it/s]\n"
     ]
    },
    {
     "name": "stdout",
     "output_type": "stream",
     "text": [
      "\t\tTotal time for config: 2.1582674980163574\n",
      "Instance 451, T = 1.0, Proposal = MALA_MC, Acceptance = metropolis, Gap = 0.6460\n",
      "Starting problem instance 452 of 2000 with n = 6\n"
     ]
    },
    {
     "name": "stderr",
     "output_type": "stream",
     "text": [
      "100%|██████████| 1000/1000 [00:02<00:00, 394.74it/s]\n"
     ]
    },
    {
     "name": "stdout",
     "output_type": "stream",
     "text": [
      "\t\tTotal time for config: 2.533329963684082\n",
      "Instance 452, T = 1.0, Proposal = MALA_MC, Acceptance = metropolis, Gap = 0.0000\n",
      "Warning: Gap is very small, may be inaccurate.\n",
      "Starting problem instance 453 of 2000 with n = 7\n"
     ]
    },
    {
     "name": "stderr",
     "output_type": "stream",
     "text": [
      "100%|██████████| 1000/1000 [00:03<00:00, 330.09it/s]\n"
     ]
    },
    {
     "name": "stdout",
     "output_type": "stream",
     "text": [
      "\t\tTotal time for config: 3.0427968502044678\n",
      "Instance 453, T = 1.0, Proposal = MALA_MC, Acceptance = metropolis, Gap = 0.0000\n",
      "Warning: Gap is very small, may be inaccurate.\n",
      "Starting problem instance 454 of 2000 with n = 8\n"
     ]
    },
    {
     "name": "stderr",
     "output_type": "stream",
     "text": [
      "100%|██████████| 1000/1000 [00:03<00:00, 297.45it/s]\n"
     ]
    },
    {
     "name": "stdout",
     "output_type": "stream",
     "text": [
      "\t\tTotal time for config: 3.3619534969329834\n",
      "Instance 454, T = 1.0, Proposal = MALA_MC, Acceptance = metropolis, Gap = 0.0000\n",
      "Warning: Gap is very small, may be inaccurate.\n",
      "Starting problem instance 455 of 2000 with n = 9\n"
     ]
    },
    {
     "name": "stderr",
     "output_type": "stream",
     "text": [
      "100%|██████████| 1000/1000 [00:04<00:00, 209.69it/s]\n"
     ]
    },
    {
     "name": "stdout",
     "output_type": "stream",
     "text": [
      "\t\tTotal time for config: 4.771038770675659\n",
      "Instance 455, T = 1.0, Proposal = MALA_MC, Acceptance = metropolis, Gap = 0.0000\n",
      "Warning: Gap is very small, may be inaccurate.\n",
      "Starting problem instance 456 of 2000 with n = 10\n"
     ]
    },
    {
     "name": "stderr",
     "output_type": "stream",
     "text": [
      "100%|██████████| 1000/1000 [00:08<00:00, 122.03it/s]\n"
     ]
    },
    {
     "name": "stdout",
     "output_type": "stream",
     "text": [
      "\t\tTotal time for config: 8.203661441802979\n",
      "Instance 456, T = 1.0, Proposal = MALA_MC, Acceptance = metropolis, Gap = 0.0000\n",
      "Warning: Gap is very small, may be inaccurate.\n",
      "Starting problem instance 457 of 2000 with n = 3\n"
     ]
    },
    {
     "name": "stderr",
     "output_type": "stream",
     "text": [
      "100%|██████████| 1000/1000 [00:01<00:00, 870.93it/s]\n"
     ]
    },
    {
     "name": "stdout",
     "output_type": "stream",
     "text": [
      "\t\tTotal time for config: 1.1481962203979492\n",
      "Instance 457, T = 1.0, Proposal = MALA_MC, Acceptance = metropolis, Gap = 0.0312\n",
      "Starting problem instance 458 of 2000 with n = 4\n"
     ]
    },
    {
     "name": "stderr",
     "output_type": "stream",
     "text": [
      "100%|██████████| 1000/1000 [00:01<00:00, 617.09it/s]\n"
     ]
    },
    {
     "name": "stdout",
     "output_type": "stream",
     "text": [
      "\t\tTotal time for config: 1.6245195865631104\n",
      "Instance 458, T = 1.0, Proposal = MALA_MC, Acceptance = metropolis, Gap = 0.1398\n",
      "Starting problem instance 459 of 2000 with n = 5\n"
     ]
    },
    {
     "name": "stderr",
     "output_type": "stream",
     "text": [
      "100%|██████████| 1000/1000 [00:02<00:00, 432.10it/s]\n"
     ]
    },
    {
     "name": "stdout",
     "output_type": "stream",
     "text": [
      "\t\tTotal time for config: 2.3142638206481934\n",
      "Instance 459, T = 1.0, Proposal = MALA_MC, Acceptance = metropolis, Gap = 0.7489\n",
      "Starting problem instance 460 of 2000 with n = 6\n"
     ]
    },
    {
     "name": "stderr",
     "output_type": "stream",
     "text": [
      "100%|██████████| 1000/1000 [00:02<00:00, 400.05it/s]\n"
     ]
    },
    {
     "name": "stdout",
     "output_type": "stream",
     "text": [
      "\t\tTotal time for config: 2.499695301055908\n",
      "Instance 460, T = 1.0, Proposal = MALA_MC, Acceptance = metropolis, Gap = 0.0000\n",
      "Warning: Gap is very small, may be inaccurate.\n",
      "Starting problem instance 461 of 2000 with n = 7\n"
     ]
    },
    {
     "name": "stderr",
     "output_type": "stream",
     "text": [
      "100%|██████████| 1000/1000 [00:02<00:00, 382.52it/s]\n"
     ]
    },
    {
     "name": "stdout",
     "output_type": "stream",
     "text": [
      "\t\tTotal time for config: 2.6302542686462402\n",
      "Instance 461, T = 1.0, Proposal = MALA_MC, Acceptance = metropolis, Gap = 0.0000\n",
      "Warning: Gap is very small, may be inaccurate.\n",
      "Starting problem instance 462 of 2000 with n = 8\n"
     ]
    },
    {
     "name": "stderr",
     "output_type": "stream",
     "text": [
      "100%|██████████| 1000/1000 [00:03<00:00, 295.97it/s]\n"
     ]
    },
    {
     "name": "stdout",
     "output_type": "stream",
     "text": [
      "\t\tTotal time for config: 3.382796287536621\n",
      "Instance 462, T = 1.0, Proposal = MALA_MC, Acceptance = metropolis, Gap = 0.0000\n",
      "Warning: Gap is very small, may be inaccurate.\n",
      "Starting problem instance 463 of 2000 with n = 9\n"
     ]
    },
    {
     "name": "stderr",
     "output_type": "stream",
     "text": [
      "100%|██████████| 1000/1000 [00:04<00:00, 210.55it/s]\n"
     ]
    },
    {
     "name": "stdout",
     "output_type": "stream",
     "text": [
      "\t\tTotal time for config: 4.7498955726623535\n",
      "Instance 463, T = 1.0, Proposal = MALA_MC, Acceptance = metropolis, Gap = 0.0000\n",
      "Warning: Gap is very small, may be inaccurate.\n",
      "Starting problem instance 464 of 2000 with n = 10\n"
     ]
    },
    {
     "name": "stderr",
     "output_type": "stream",
     "text": [
      "100%|██████████| 1000/1000 [00:07<00:00, 135.15it/s]\n"
     ]
    },
    {
     "name": "stdout",
     "output_type": "stream",
     "text": [
      "\t\tTotal time for config: 7.39911413192749\n",
      "Instance 464, T = 1.0, Proposal = MALA_MC, Acceptance = metropolis, Gap = 0.0000\n",
      "Warning: Gap is very small, may be inaccurate.\n",
      "Starting problem instance 465 of 2000 with n = 3\n"
     ]
    },
    {
     "name": "stderr",
     "output_type": "stream",
     "text": [
      "100%|██████████| 1000/1000 [00:01<00:00, 837.64it/s]\n"
     ]
    },
    {
     "name": "stdout",
     "output_type": "stream",
     "text": [
      "\t\tTotal time for config: 1.1938271522521973\n",
      "Instance 465, T = 1.0, Proposal = MALA_MC, Acceptance = metropolis, Gap = 0.4795\n",
      "Starting problem instance 466 of 2000 with n = 4\n"
     ]
    },
    {
     "name": "stderr",
     "output_type": "stream",
     "text": [
      "100%|██████████| 1000/1000 [00:01<00:00, 691.43it/s]\n"
     ]
    },
    {
     "name": "stdout",
     "output_type": "stream",
     "text": [
      "\t\tTotal time for config: 1.4496698379516602\n",
      "Instance 466, T = 1.0, Proposal = MALA_MC, Acceptance = metropolis, Gap = 0.7186\n",
      "Starting problem instance 467 of 2000 with n = 5\n"
     ]
    },
    {
     "name": "stderr",
     "output_type": "stream",
     "text": [
      "100%|██████████| 1000/1000 [00:02<00:00, 474.71it/s]\n"
     ]
    },
    {
     "name": "stdout",
     "output_type": "stream",
     "text": [
      "\t\tTotal time for config: 2.120210647583008\n",
      "Instance 467, T = 1.0, Proposal = MALA_MC, Acceptance = metropolis, Gap = 0.0003\n",
      "Starting problem instance 468 of 2000 with n = 6\n"
     ]
    },
    {
     "name": "stderr",
     "output_type": "stream",
     "text": [
      "100%|██████████| 1000/1000 [00:01<00:00, 543.90it/s]\n"
     ]
    },
    {
     "name": "stdout",
     "output_type": "stream",
     "text": [
      "\t\tTotal time for config: 1.8425683975219727\n",
      "Instance 468, T = 1.0, Proposal = MALA_MC, Acceptance = metropolis, Gap = 0.0000\n",
      "Warning: Gap is very small, may be inaccurate.\n",
      "Starting problem instance 469 of 2000 with n = 7\n"
     ]
    },
    {
     "name": "stderr",
     "output_type": "stream",
     "text": [
      "100%|██████████| 1000/1000 [00:03<00:00, 271.53it/s]\n"
     ]
    },
    {
     "name": "stdout",
     "output_type": "stream",
     "text": [
      "\t\tTotal time for config: 3.6847856044769287\n",
      "Instance 469, T = 1.0, Proposal = MALA_MC, Acceptance = metropolis, Gap = 0.0000\n",
      "Warning: Gap is very small, may be inaccurate.\n",
      "Starting problem instance 470 of 2000 with n = 8\n"
     ]
    },
    {
     "name": "stderr",
     "output_type": "stream",
     "text": [
      "100%|██████████| 1000/1000 [00:06<00:00, 158.49it/s]\n"
     ]
    },
    {
     "name": "stdout",
     "output_type": "stream",
     "text": [
      "\t\tTotal time for config: 6.313632249832153\n",
      "Instance 470, T = 1.0, Proposal = MALA_MC, Acceptance = metropolis, Gap = 0.0000\n",
      "Warning: Gap is very small, may be inaccurate.\n",
      "Starting problem instance 471 of 2000 with n = 9\n"
     ]
    },
    {
     "name": "stderr",
     "output_type": "stream",
     "text": [
      "100%|██████████| 1000/1000 [00:08<00:00, 120.02it/s]\n"
     ]
    },
    {
     "name": "stdout",
     "output_type": "stream",
     "text": [
      "\t\tTotal time for config: 8.336763620376587\n",
      "Instance 471, T = 1.0, Proposal = MALA_MC, Acceptance = metropolis, Gap = 0.0000\n",
      "Warning: Gap is very small, may be inaccurate.\n",
      "Starting problem instance 472 of 2000 with n = 10\n"
     ]
    },
    {
     "name": "stderr",
     "output_type": "stream",
     "text": [
      "100%|██████████| 1000/1000 [00:12<00:00, 79.44it/s]\n"
     ]
    },
    {
     "name": "stdout",
     "output_type": "stream",
     "text": [
      "\t\tTotal time for config: 12.596531867980957\n",
      "Instance 472, T = 1.0, Proposal = MALA_MC, Acceptance = metropolis, Gap = 0.0000\n",
      "Warning: Gap is very small, may be inaccurate.\n",
      "Starting problem instance 473 of 2000 with n = 3\n"
     ]
    },
    {
     "name": "stderr",
     "output_type": "stream",
     "text": [
      "100%|██████████| 1000/1000 [00:02<00:00, 427.88it/s]\n"
     ]
    },
    {
     "name": "stdout",
     "output_type": "stream",
     "text": [
      "\t\tTotal time for config: 2.337078094482422\n",
      "Instance 473, T = 1.0, Proposal = MALA_MC, Acceptance = metropolis, Gap = 0.7594\n",
      "Starting problem instance 474 of 2000 with n = 4\n"
     ]
    },
    {
     "name": "stderr",
     "output_type": "stream",
     "text": [
      "100%|██████████| 1000/1000 [00:03<00:00, 279.18it/s]\n"
     ]
    },
    {
     "name": "stdout",
     "output_type": "stream",
     "text": [
      "\t\tTotal time for config: 3.590087890625\n",
      "Instance 474, T = 1.0, Proposal = MALA_MC, Acceptance = metropolis, Gap = 0.0000\n",
      "Warning: Gap is very small, may be inaccurate.\n",
      "Starting problem instance 475 of 2000 with n = 5\n"
     ]
    },
    {
     "name": "stderr",
     "output_type": "stream",
     "text": [
      "100%|██████████| 1000/1000 [00:05<00:00, 198.49it/s]\n"
     ]
    },
    {
     "name": "stdout",
     "output_type": "stream",
     "text": [
      "\t\tTotal time for config: 5.046048164367676\n",
      "Instance 475, T = 1.0, Proposal = MALA_MC, Acceptance = metropolis, Gap = 0.0057\n",
      "Starting problem instance 476 of 2000 with n = 6\n"
     ]
    },
    {
     "name": "stderr",
     "output_type": "stream",
     "text": [
      "100%|██████████| 1000/1000 [00:04<00:00, 207.43it/s]\n"
     ]
    },
    {
     "name": "stdout",
     "output_type": "stream",
     "text": [
      "\t\tTotal time for config: 4.825020790100098\n",
      "Instance 476, T = 1.0, Proposal = MALA_MC, Acceptance = metropolis, Gap = 0.4390\n",
      "Starting problem instance 477 of 2000 with n = 7\n"
     ]
    },
    {
     "name": "stderr",
     "output_type": "stream",
     "text": [
      "100%|██████████| 1000/1000 [00:05<00:00, 180.52it/s]\n"
     ]
    },
    {
     "name": "stdout",
     "output_type": "stream",
     "text": [
      "\t\tTotal time for config: 5.547496557235718\n",
      "Instance 477, T = 1.0, Proposal = MALA_MC, Acceptance = metropolis, Gap = 0.0000\n",
      "Warning: Gap is very small, may be inaccurate.\n",
      "Starting problem instance 478 of 2000 with n = 8\n"
     ]
    },
    {
     "name": "stderr",
     "output_type": "stream",
     "text": [
      "100%|██████████| 1000/1000 [00:06<00:00, 154.96it/s]\n"
     ]
    },
    {
     "name": "stdout",
     "output_type": "stream",
     "text": [
      "\t\tTotal time for config: 6.453220367431641\n",
      "Instance 478, T = 1.0, Proposal = MALA_MC, Acceptance = metropolis, Gap = 0.0000\n",
      "Warning: Gap is very small, may be inaccurate.\n",
      "Starting problem instance 479 of 2000 with n = 9\n"
     ]
    },
    {
     "name": "stderr",
     "output_type": "stream",
     "text": [
      "100%|██████████| 1000/1000 [00:08<00:00, 121.75it/s]\n"
     ]
    },
    {
     "name": "stdout",
     "output_type": "stream",
     "text": [
      "\t\tTotal time for config: 8.21364688873291\n",
      "Instance 479, T = 1.0, Proposal = MALA_MC, Acceptance = metropolis, Gap = 0.0000\n",
      "Warning: Gap is very small, may be inaccurate.\n",
      "Starting problem instance 480 of 2000 with n = 10\n"
     ]
    },
    {
     "name": "stderr",
     "output_type": "stream",
     "text": [
      "100%|██████████| 1000/1000 [00:13<00:00, 73.75it/s]\n"
     ]
    },
    {
     "name": "stdout",
     "output_type": "stream",
     "text": [
      "\t\tTotal time for config: 13.566895484924316\n",
      "Instance 480, T = 1.0, Proposal = MALA_MC, Acceptance = metropolis, Gap = 0.0000\n",
      "Warning: Gap is very small, may be inaccurate.\n",
      "Starting problem instance 481 of 2000 with n = 3\n"
     ]
    },
    {
     "name": "stderr",
     "output_type": "stream",
     "text": [
      "100%|██████████| 1000/1000 [00:02<00:00, 411.56it/s]\n"
     ]
    },
    {
     "name": "stdout",
     "output_type": "stream",
     "text": [
      "\t\tTotal time for config: 2.4297585487365723\n",
      "Instance 481, T = 1.0, Proposal = MALA_MC, Acceptance = metropolis, Gap = 0.7122\n",
      "Starting problem instance 482 of 2000 with n = 4\n"
     ]
    },
    {
     "name": "stderr",
     "output_type": "stream",
     "text": [
      "100%|██████████| 1000/1000 [00:03<00:00, 265.99it/s]\n"
     ]
    },
    {
     "name": "stdout",
     "output_type": "stream",
     "text": [
      "\t\tTotal time for config: 3.7675764560699463\n",
      "Instance 482, T = 1.0, Proposal = MALA_MC, Acceptance = metropolis, Gap = 0.5421\n",
      "Starting problem instance 483 of 2000 with n = 5\n"
     ]
    },
    {
     "name": "stderr",
     "output_type": "stream",
     "text": [
      "100%|██████████| 1000/1000 [00:05<00:00, 199.16it/s]\n"
     ]
    },
    {
     "name": "stdout",
     "output_type": "stream",
     "text": [
      "\t\tTotal time for config: 5.029321670532227\n",
      "Instance 483, T = 1.0, Proposal = MALA_MC, Acceptance = metropolis, Gap = 0.0332\n",
      "Starting problem instance 484 of 2000 with n = 6\n"
     ]
    },
    {
     "name": "stderr",
     "output_type": "stream",
     "text": [
      "100%|██████████| 1000/1000 [00:05<00:00, 184.90it/s]\n"
     ]
    },
    {
     "name": "stdout",
     "output_type": "stream",
     "text": [
      "\t\tTotal time for config: 5.410754442214966\n",
      "Instance 484, T = 1.0, Proposal = MALA_MC, Acceptance = metropolis, Gap = 0.0548\n",
      "Starting problem instance 485 of 2000 with n = 7\n"
     ]
    },
    {
     "name": "stderr",
     "output_type": "stream",
     "text": [
      "100%|██████████| 1000/1000 [00:06<00:00, 164.92it/s]\n"
     ]
    },
    {
     "name": "stdout",
     "output_type": "stream",
     "text": [
      "\t\tTotal time for config: 6.079108238220215\n",
      "Instance 485, T = 1.0, Proposal = MALA_MC, Acceptance = metropolis, Gap = 0.0000\n",
      "Warning: Gap is very small, may be inaccurate.\n",
      "Starting problem instance 486 of 2000 with n = 8\n"
     ]
    },
    {
     "name": "stderr",
     "output_type": "stream",
     "text": [
      "100%|██████████| 1000/1000 [00:06<00:00, 155.91it/s]\n"
     ]
    },
    {
     "name": "stdout",
     "output_type": "stream",
     "text": [
      "\t\tTotal time for config: 6.4223716259002686\n",
      "Instance 486, T = 1.0, Proposal = MALA_MC, Acceptance = metropolis, Gap = 0.0000\n",
      "Warning: Gap is very small, may be inaccurate.\n",
      "Starting problem instance 487 of 2000 with n = 9\n"
     ]
    },
    {
     "name": "stderr",
     "output_type": "stream",
     "text": [
      "100%|██████████| 1000/1000 [00:08<00:00, 117.91it/s]\n"
     ]
    },
    {
     "name": "stdout",
     "output_type": "stream",
     "text": [
      "\t\tTotal time for config: 8.48349905014038\n",
      "Instance 487, T = 1.0, Proposal = MALA_MC, Acceptance = metropolis, Gap = 0.0000\n",
      "Warning: Gap is very small, may be inaccurate.\n",
      "Starting problem instance 488 of 2000 with n = 10\n"
     ]
    },
    {
     "name": "stderr",
     "output_type": "stream",
     "text": [
      "100%|██████████| 1000/1000 [00:13<00:00, 75.52it/s]\n"
     ]
    },
    {
     "name": "stdout",
     "output_type": "stream",
     "text": [
      "\t\tTotal time for config: 13.240810632705688\n",
      "Instance 488, T = 1.0, Proposal = MALA_MC, Acceptance = metropolis, Gap = 0.0000\n",
      "Warning: Gap is very small, may be inaccurate.\n",
      "Starting problem instance 489 of 2000 with n = 3\n"
     ]
    },
    {
     "name": "stderr",
     "output_type": "stream",
     "text": [
      "100%|██████████| 1000/1000 [00:02<00:00, 415.01it/s]\n"
     ]
    },
    {
     "name": "stdout",
     "output_type": "stream",
     "text": [
      "\t\tTotal time for config: 2.409553050994873\n",
      "Instance 489, T = 1.0, Proposal = MALA_MC, Acceptance = metropolis, Gap = 0.7688\n",
      "Starting problem instance 490 of 2000 with n = 4\n"
     ]
    },
    {
     "name": "stderr",
     "output_type": "stream",
     "text": [
      "100%|██████████| 1000/1000 [00:03<00:00, 250.18it/s]\n"
     ]
    },
    {
     "name": "stdout",
     "output_type": "stream",
     "text": [
      "\t\tTotal time for config: 3.998706579208374\n",
      "Instance 490, T = 1.0, Proposal = MALA_MC, Acceptance = metropolis, Gap = 0.2811\n",
      "Starting problem instance 491 of 2000 with n = 5\n"
     ]
    },
    {
     "name": "stderr",
     "output_type": "stream",
     "text": [
      "100%|██████████| 1000/1000 [00:05<00:00, 195.66it/s]\n"
     ]
    },
    {
     "name": "stdout",
     "output_type": "stream",
     "text": [
      "\t\tTotal time for config: 5.1191582679748535\n",
      "Instance 491, T = 1.0, Proposal = MALA_MC, Acceptance = metropolis, Gap = 0.0533\n",
      "Starting problem instance 492 of 2000 with n = 6\n"
     ]
    },
    {
     "name": "stderr",
     "output_type": "stream",
     "text": [
      "100%|██████████| 1000/1000 [00:05<00:00, 196.14it/s]\n"
     ]
    },
    {
     "name": "stdout",
     "output_type": "stream",
     "text": [
      "\t\tTotal time for config: 5.100221633911133\n",
      "Instance 492, T = 1.0, Proposal = MALA_MC, Acceptance = metropolis, Gap = 0.0000\n",
      "Warning: Gap is very small, may be inaccurate.\n",
      "Starting problem instance 493 of 2000 with n = 7\n"
     ]
    },
    {
     "name": "stderr",
     "output_type": "stream",
     "text": [
      "100%|██████████| 1000/1000 [00:05<00:00, 185.95it/s]\n"
     ]
    },
    {
     "name": "stdout",
     "output_type": "stream",
     "text": [
      "\t\tTotal time for config: 5.381838083267212\n",
      "Instance 493, T = 1.0, Proposal = MALA_MC, Acceptance = metropolis, Gap = 0.0000\n",
      "Warning: Gap is very small, may be inaccurate.\n",
      "Starting problem instance 494 of 2000 with n = 8\n"
     ]
    },
    {
     "name": "stderr",
     "output_type": "stream",
     "text": [
      "100%|██████████| 1000/1000 [00:06<00:00, 154.13it/s]\n"
     ]
    },
    {
     "name": "stdout",
     "output_type": "stream",
     "text": [
      "\t\tTotal time for config: 6.488086223602295\n",
      "Instance 494, T = 1.0, Proposal = MALA_MC, Acceptance = metropolis, Gap = 0.0000\n",
      "Warning: Gap is very small, may be inaccurate.\n",
      "Starting problem instance 495 of 2000 with n = 9\n"
     ]
    },
    {
     "name": "stderr",
     "output_type": "stream",
     "text": [
      "100%|██████████| 1000/1000 [00:08<00:00, 122.00it/s]\n"
     ]
    },
    {
     "name": "stdout",
     "output_type": "stream",
     "text": [
      "\t\tTotal time for config: 8.203348398208618\n",
      "Instance 495, T = 1.0, Proposal = MALA_MC, Acceptance = metropolis, Gap = 0.0000\n",
      "Warning: Gap is very small, may be inaccurate.\n",
      "Starting problem instance 496 of 2000 with n = 10\n"
     ]
    },
    {
     "name": "stderr",
     "output_type": "stream",
     "text": [
      "100%|██████████| 1000/1000 [00:13<00:00, 74.85it/s]\n"
     ]
    },
    {
     "name": "stdout",
     "output_type": "stream",
     "text": [
      "\t\tTotal time for config: 13.362152099609375\n",
      "Instance 496, T = 1.0, Proposal = MALA_MC, Acceptance = metropolis, Gap = 0.0000\n",
      "Warning: Gap is very small, may be inaccurate.\n",
      "Starting problem instance 497 of 2000 with n = 3\n"
     ]
    },
    {
     "name": "stderr",
     "output_type": "stream",
     "text": [
      "100%|██████████| 1000/1000 [00:02<00:00, 430.68it/s]\n"
     ]
    },
    {
     "name": "stdout",
     "output_type": "stream",
     "text": [
      "\t\tTotal time for config: 2.3384196758270264\n",
      "Instance 497, T = 1.0, Proposal = MALA_MC, Acceptance = metropolis, Gap = 0.6961\n",
      "Starting problem instance 498 of 2000 with n = 4\n"
     ]
    },
    {
     "name": "stderr",
     "output_type": "stream",
     "text": [
      "100%|██████████| 1000/1000 [00:03<00:00, 285.63it/s]\n"
     ]
    },
    {
     "name": "stdout",
     "output_type": "stream",
     "text": [
      "\t\tTotal time for config: 3.501023292541504\n",
      "Instance 498, T = 1.0, Proposal = MALA_MC, Acceptance = metropolis, Gap = 0.0286\n",
      "Starting problem instance 499 of 2000 with n = 5\n"
     ]
    },
    {
     "name": "stderr",
     "output_type": "stream",
     "text": [
      "100%|██████████| 1000/1000 [00:04<00:00, 227.52it/s]\n"
     ]
    },
    {
     "name": "stdout",
     "output_type": "stream",
     "text": [
      "\t\tTotal time for config: 4.395206451416016\n",
      "Instance 499, T = 1.0, Proposal = MALA_MC, Acceptance = metropolis, Gap = 0.0000\n",
      "Warning: Gap is very small, may be inaccurate.\n",
      "Starting problem instance 500 of 2000 with n = 6\n"
     ]
    },
    {
     "name": "stderr",
     "output_type": "stream",
     "text": [
      "100%|██████████| 1000/1000 [00:05<00:00, 194.11it/s]\n"
     ]
    },
    {
     "name": "stdout",
     "output_type": "stream",
     "text": [
      "\t\tTotal time for config: 5.168244361877441\n",
      "Instance 500, T = 1.0, Proposal = MALA_MC, Acceptance = metropolis, Gap = 0.5550\n",
      "Starting problem instance 501 of 2000 with n = 7\n"
     ]
    },
    {
     "name": "stderr",
     "output_type": "stream",
     "text": [
      "100%|██████████| 1000/1000 [00:05<00:00, 168.66it/s]\n"
     ]
    },
    {
     "name": "stdout",
     "output_type": "stream",
     "text": [
      "\t\tTotal time for config: 5.92917013168335\n",
      "Instance 501, T = 1.0, Proposal = MALA_MC, Acceptance = metropolis, Gap = 0.0002\n",
      "Starting problem instance 502 of 2000 with n = 8\n"
     ]
    },
    {
     "name": "stderr",
     "output_type": "stream",
     "text": [
      "100%|██████████| 1000/1000 [00:06<00:00, 144.36it/s]\n"
     ]
    },
    {
     "name": "stdout",
     "output_type": "stream",
     "text": [
      "\t\tTotal time for config: 6.93524432182312\n",
      "Instance 502, T = 1.0, Proposal = MALA_MC, Acceptance = metropolis, Gap = 0.0000\n",
      "Warning: Gap is very small, may be inaccurate.\n",
      "Starting problem instance 503 of 2000 with n = 9\n"
     ]
    },
    {
     "name": "stderr",
     "output_type": "stream",
     "text": [
      "100%|██████████| 1000/1000 [00:08<00:00, 116.34it/s]\n"
     ]
    },
    {
     "name": "stdout",
     "output_type": "stream",
     "text": [
      "\t\tTotal time for config: 8.595499515533447\n",
      "Instance 503, T = 1.0, Proposal = MALA_MC, Acceptance = metropolis, Gap = 0.0000\n",
      "Warning: Gap is very small, may be inaccurate.\n",
      "Starting problem instance 504 of 2000 with n = 10\n"
     ]
    },
    {
     "name": "stderr",
     "output_type": "stream",
     "text": [
      "100%|██████████| 1000/1000 [00:13<00:00, 72.89it/s]\n"
     ]
    },
    {
     "name": "stdout",
     "output_type": "stream",
     "text": [
      "\t\tTotal time for config: 13.723258256912231\n",
      "Instance 504, T = 1.0, Proposal = MALA_MC, Acceptance = metropolis, Gap = 0.0000\n",
      "Warning: Gap is very small, may be inaccurate.\n",
      "Starting problem instance 505 of 2000 with n = 3\n"
     ]
    },
    {
     "name": "stderr",
     "output_type": "stream",
     "text": [
      "100%|██████████| 1000/1000 [00:02<00:00, 386.90it/s]\n"
     ]
    },
    {
     "name": "stdout",
     "output_type": "stream",
     "text": [
      "\t\tTotal time for config: 2.5866544246673584\n",
      "Instance 505, T = 1.0, Proposal = MALA_MC, Acceptance = metropolis, Gap = 0.7966\n",
      "Starting problem instance 506 of 2000 with n = 4\n"
     ]
    },
    {
     "name": "stderr",
     "output_type": "stream",
     "text": [
      "100%|██████████| 1000/1000 [00:03<00:00, 263.89it/s]\n"
     ]
    },
    {
     "name": "stdout",
     "output_type": "stream",
     "text": [
      "\t\tTotal time for config: 3.791541814804077\n",
      "Instance 506, T = 1.0, Proposal = MALA_MC, Acceptance = metropolis, Gap = 0.2675\n",
      "Starting problem instance 507 of 2000 with n = 5\n"
     ]
    },
    {
     "name": "stderr",
     "output_type": "stream",
     "text": [
      "100%|██████████| 1000/1000 [00:05<00:00, 191.27it/s]\n"
     ]
    },
    {
     "name": "stdout",
     "output_type": "stream",
     "text": [
      "\t\tTotal time for config: 5.236310958862305\n",
      "Instance 507, T = 1.0, Proposal = MALA_MC, Acceptance = metropolis, Gap = 0.0000\n",
      "Warning: Gap is very small, may be inaccurate.\n",
      "Starting problem instance 508 of 2000 with n = 6\n"
     ]
    },
    {
     "name": "stderr",
     "output_type": "stream",
     "text": [
      "100%|██████████| 1000/1000 [00:05<00:00, 194.01it/s]\n"
     ]
    },
    {
     "name": "stdout",
     "output_type": "stream",
     "text": [
      "\t\tTotal time for config: 5.160736083984375\n",
      "Instance 508, T = 1.0, Proposal = MALA_MC, Acceptance = metropolis, Gap = 0.0000\n",
      "Warning: Gap is very small, may be inaccurate.\n",
      "Starting problem instance 509 of 2000 with n = 7\n"
     ]
    },
    {
     "name": "stderr",
     "output_type": "stream",
     "text": [
      "100%|██████████| 1000/1000 [00:05<00:00, 170.30it/s]\n"
     ]
    },
    {
     "name": "stdout",
     "output_type": "stream",
     "text": [
      "\t\tTotal time for config: 5.872151136398315\n",
      "Instance 509, T = 1.0, Proposal = MALA_MC, Acceptance = metropolis, Gap = 0.0000\n",
      "Warning: Gap is very small, may be inaccurate.\n",
      "Starting problem instance 510 of 2000 with n = 8\n"
     ]
    },
    {
     "name": "stderr",
     "output_type": "stream",
     "text": [
      "100%|██████████| 1000/1000 [00:06<00:00, 158.85it/s]\n"
     ]
    },
    {
     "name": "stdout",
     "output_type": "stream",
     "text": [
      "\t\tTotal time for config: 6.299333810806274\n",
      "Instance 510, T = 1.0, Proposal = MALA_MC, Acceptance = metropolis, Gap = 0.0000\n",
      "Warning: Gap is very small, may be inaccurate.\n",
      "Starting problem instance 511 of 2000 with n = 9\n"
     ]
    },
    {
     "name": "stderr",
     "output_type": "stream",
     "text": [
      "100%|██████████| 1000/1000 [00:08<00:00, 115.31it/s]\n"
     ]
    },
    {
     "name": "stdout",
     "output_type": "stream",
     "text": [
      "\t\tTotal time for config: 8.682519674301147\n",
      "Instance 511, T = 1.0, Proposal = MALA_MC, Acceptance = metropolis, Gap = 0.0000\n",
      "Warning: Gap is very small, may be inaccurate.\n",
      "Starting problem instance 512 of 2000 with n = 10\n"
     ]
    },
    {
     "name": "stderr",
     "output_type": "stream",
     "text": [
      "100%|██████████| 1000/1000 [00:13<00:00, 76.13it/s]\n"
     ]
    },
    {
     "name": "stdout",
     "output_type": "stream",
     "text": [
      "\t\tTotal time for config: 13.140047073364258\n",
      "Instance 512, T = 1.0, Proposal = MALA_MC, Acceptance = metropolis, Gap = 0.0000\n",
      "Warning: Gap is very small, may be inaccurate.\n",
      "Starting problem instance 513 of 2000 with n = 3\n"
     ]
    },
    {
     "name": "stderr",
     "output_type": "stream",
     "text": [
      "100%|██████████| 1000/1000 [00:02<00:00, 415.19it/s]\n"
     ]
    },
    {
     "name": "stdout",
     "output_type": "stream",
     "text": [
      "\t\tTotal time for config: 2.4085233211517334\n",
      "Instance 513, T = 1.0, Proposal = MALA_MC, Acceptance = metropolis, Gap = 0.7576\n",
      "Starting problem instance 514 of 2000 with n = 4\n"
     ]
    },
    {
     "name": "stderr",
     "output_type": "stream",
     "text": [
      "100%|██████████| 1000/1000 [00:03<00:00, 282.57it/s]\n"
     ]
    },
    {
     "name": "stdout",
     "output_type": "stream",
     "text": [
      "\t\tTotal time for config: 3.5429913997650146\n",
      "Instance 514, T = 1.0, Proposal = MALA_MC, Acceptance = metropolis, Gap = 0.5826\n",
      "Starting problem instance 515 of 2000 with n = 5\n"
     ]
    },
    {
     "name": "stderr",
     "output_type": "stream",
     "text": [
      "100%|██████████| 1000/1000 [00:04<00:00, 211.18it/s]\n"
     ]
    },
    {
     "name": "stdout",
     "output_type": "stream",
     "text": [
      "\t\tTotal time for config: 4.745471239089966\n",
      "Instance 515, T = 1.0, Proposal = MALA_MC, Acceptance = metropolis, Gap = 0.0017\n",
      "Starting problem instance 516 of 2000 with n = 6\n"
     ]
    },
    {
     "name": "stderr",
     "output_type": "stream",
     "text": [
      "100%|██████████| 1000/1000 [00:05<00:00, 178.45it/s]\n"
     ]
    },
    {
     "name": "stdout",
     "output_type": "stream",
     "text": [
      "\t\tTotal time for config: 5.62064790725708\n",
      "Instance 516, T = 1.0, Proposal = MALA_MC, Acceptance = metropolis, Gap = 0.6673\n",
      "Starting problem instance 517 of 2000 with n = 7\n"
     ]
    },
    {
     "name": "stderr",
     "output_type": "stream",
     "text": [
      "100%|██████████| 1000/1000 [00:05<00:00, 177.92it/s]\n"
     ]
    },
    {
     "name": "stdout",
     "output_type": "stream",
     "text": [
      "\t\tTotal time for config: 5.6203858852386475\n",
      "Instance 517, T = 1.0, Proposal = MALA_MC, Acceptance = metropolis, Gap = 0.0000\n",
      "Warning: Gap is very small, may be inaccurate.\n",
      "Starting problem instance 518 of 2000 with n = 8\n"
     ]
    },
    {
     "name": "stderr",
     "output_type": "stream",
     "text": [
      "100%|██████████| 1000/1000 [00:06<00:00, 153.95it/s]\n"
     ]
    },
    {
     "name": "stdout",
     "output_type": "stream",
     "text": [
      "\t\tTotal time for config: 6.5057151317596436\n",
      "Instance 518, T = 1.0, Proposal = MALA_MC, Acceptance = metropolis, Gap = 0.0000\n",
      "Warning: Gap is very small, may be inaccurate.\n",
      "Starting problem instance 519 of 2000 with n = 9\n"
     ]
    },
    {
     "name": "stderr",
     "output_type": "stream",
     "text": [
      "100%|██████████| 1000/1000 [00:08<00:00, 123.96it/s]\n"
     ]
    },
    {
     "name": "stdout",
     "output_type": "stream",
     "text": [
      "\t\tTotal time for config: 8.06716513633728\n",
      "Instance 519, T = 1.0, Proposal = MALA_MC, Acceptance = metropolis, Gap = 0.0000\n",
      "Warning: Gap is very small, may be inaccurate.\n",
      "Starting problem instance 520 of 2000 with n = 10\n"
     ]
    },
    {
     "name": "stderr",
     "output_type": "stream",
     "text": [
      "100%|██████████| 1000/1000 [00:13<00:00, 74.87it/s]\n"
     ]
    },
    {
     "name": "stdout",
     "output_type": "stream",
     "text": [
      "\t\tTotal time for config: 13.358962059020996\n",
      "Instance 520, T = 1.0, Proposal = MALA_MC, Acceptance = metropolis, Gap = 0.0000\n",
      "Warning: Gap is very small, may be inaccurate.\n",
      "Starting problem instance 521 of 2000 with n = 3\n"
     ]
    },
    {
     "name": "stderr",
     "output_type": "stream",
     "text": [
      "100%|██████████| 1000/1000 [00:02<00:00, 424.31it/s]\n"
     ]
    },
    {
     "name": "stdout",
     "output_type": "stream",
     "text": [
      "\t\tTotal time for config: 2.3609044551849365\n",
      "Instance 521, T = 1.0, Proposal = MALA_MC, Acceptance = metropolis, Gap = 0.6571\n",
      "Starting problem instance 522 of 2000 with n = 4\n"
     ]
    },
    {
     "name": "stderr",
     "output_type": "stream",
     "text": [
      "100%|██████████| 1000/1000 [00:03<00:00, 291.41it/s]\n"
     ]
    },
    {
     "name": "stdout",
     "output_type": "stream",
     "text": [
      "\t\tTotal time for config: 3.438915729522705\n",
      "Instance 522, T = 1.0, Proposal = MALA_MC, Acceptance = metropolis, Gap = 0.6515\n",
      "Starting problem instance 523 of 2000 with n = 5\n"
     ]
    },
    {
     "name": "stderr",
     "output_type": "stream",
     "text": [
      "100%|██████████| 1000/1000 [00:05<00:00, 190.69it/s]\n"
     ]
    },
    {
     "name": "stdout",
     "output_type": "stream",
     "text": [
      "\t\tTotal time for config: 5.260482549667358\n",
      "Instance 523, T = 1.0, Proposal = MALA_MC, Acceptance = metropolis, Gap = 0.4856\n",
      "Starting problem instance 524 of 2000 with n = 6\n"
     ]
    },
    {
     "name": "stderr",
     "output_type": "stream",
     "text": [
      "100%|██████████| 1000/1000 [00:05<00:00, 190.24it/s]\n"
     ]
    },
    {
     "name": "stdout",
     "output_type": "stream",
     "text": [
      "\t\tTotal time for config: 5.256513833999634\n",
      "Instance 524, T = 1.0, Proposal = MALA_MC, Acceptance = metropolis, Gap = 0.0000\n",
      "Warning: Gap is very small, may be inaccurate.\n",
      "Starting problem instance 525 of 2000 with n = 7\n"
     ]
    },
    {
     "name": "stderr",
     "output_type": "stream",
     "text": [
      "100%|██████████| 1000/1000 [00:05<00:00, 184.57it/s]\n"
     ]
    },
    {
     "name": "stdout",
     "output_type": "stream",
     "text": [
      "\t\tTotal time for config: 5.422234058380127\n",
      "Instance 525, T = 1.0, Proposal = MALA_MC, Acceptance = metropolis, Gap = 0.0000\n",
      "Warning: Gap is very small, may be inaccurate.\n",
      "Starting problem instance 526 of 2000 with n = 8\n"
     ]
    },
    {
     "name": "stderr",
     "output_type": "stream",
     "text": [
      "100%|██████████| 1000/1000 [00:06<00:00, 156.04it/s]\n"
     ]
    },
    {
     "name": "stdout",
     "output_type": "stream",
     "text": [
      "\t\tTotal time for config: 6.4086573123931885\n",
      "Instance 526, T = 1.0, Proposal = MALA_MC, Acceptance = metropolis, Gap = 0.0000\n",
      "Warning: Gap is very small, may be inaccurate.\n",
      "Starting problem instance 527 of 2000 with n = 9\n"
     ]
    },
    {
     "name": "stderr",
     "output_type": "stream",
     "text": [
      "100%|██████████| 1000/1000 [00:08<00:00, 121.78it/s]\n"
     ]
    },
    {
     "name": "stdout",
     "output_type": "stream",
     "text": [
      "\t\tTotal time for config: 8.215672016143799\n",
      "Instance 527, T = 1.0, Proposal = MALA_MC, Acceptance = metropolis, Gap = 0.0000\n",
      "Warning: Gap is very small, may be inaccurate.\n",
      "Starting problem instance 528 of 2000 with n = 10\n"
     ]
    },
    {
     "name": "stderr",
     "output_type": "stream",
     "text": [
      "100%|██████████| 1000/1000 [00:13<00:00, 74.97it/s]\n"
     ]
    },
    {
     "name": "stdout",
     "output_type": "stream",
     "text": [
      "\t\tTotal time for config: 13.33863115310669\n",
      "Instance 528, T = 1.0, Proposal = MALA_MC, Acceptance = metropolis, Gap = 0.0000\n",
      "Warning: Gap is very small, may be inaccurate.\n",
      "Starting problem instance 529 of 2000 with n = 3\n"
     ]
    },
    {
     "name": "stderr",
     "output_type": "stream",
     "text": [
      "100%|██████████| 1000/1000 [00:02<00:00, 442.24it/s]\n"
     ]
    },
    {
     "name": "stdout",
     "output_type": "stream",
     "text": [
      "\t\tTotal time for config: 2.2714414596557617\n",
      "Instance 529, T = 1.0, Proposal = MALA_MC, Acceptance = metropolis, Gap = 0.2364\n",
      "Starting problem instance 530 of 2000 with n = 4\n"
     ]
    },
    {
     "name": "stderr",
     "output_type": "stream",
     "text": [
      "100%|██████████| 1000/1000 [00:03<00:00, 295.60it/s]\n"
     ]
    },
    {
     "name": "stdout",
     "output_type": "stream",
     "text": [
      "\t\tTotal time for config: 3.3869574069976807\n",
      "Instance 530, T = 1.0, Proposal = MALA_MC, Acceptance = metropolis, Gap = 0.0133\n",
      "Starting problem instance 531 of 2000 with n = 5\n"
     ]
    },
    {
     "name": "stderr",
     "output_type": "stream",
     "text": [
      "100%|██████████| 1000/1000 [00:05<00:00, 197.94it/s]\n"
     ]
    },
    {
     "name": "stdout",
     "output_type": "stream",
     "text": [
      "\t\tTotal time for config: 5.058321952819824\n",
      "Instance 531, T = 1.0, Proposal = MALA_MC, Acceptance = metropolis, Gap = 0.7495\n",
      "Starting problem instance 532 of 2000 with n = 6\n"
     ]
    },
    {
     "name": "stderr",
     "output_type": "stream",
     "text": [
      "100%|██████████| 1000/1000 [00:04<00:00, 204.18it/s]\n"
     ]
    },
    {
     "name": "stdout",
     "output_type": "stream",
     "text": [
      "\t\tTotal time for config: 4.910647630691528\n",
      "Instance 532, T = 1.0, Proposal = MALA_MC, Acceptance = metropolis, Gap = 0.0978\n",
      "Starting problem instance 533 of 2000 with n = 7\n"
     ]
    },
    {
     "name": "stderr",
     "output_type": "stream",
     "text": [
      "100%|██████████| 1000/1000 [00:06<00:00, 163.25it/s]\n"
     ]
    },
    {
     "name": "stdout",
     "output_type": "stream",
     "text": [
      "\t\tTotal time for config: 6.133648633956909\n",
      "Instance 533, T = 1.0, Proposal = MALA_MC, Acceptance = metropolis, Gap = 0.0000\n",
      "Warning: Gap is very small, may be inaccurate.\n",
      "Starting problem instance 534 of 2000 with n = 8\n"
     ]
    },
    {
     "name": "stderr",
     "output_type": "stream",
     "text": [
      "100%|██████████| 1000/1000 [00:06<00:00, 143.46it/s]\n"
     ]
    },
    {
     "name": "stdout",
     "output_type": "stream",
     "text": [
      "\t\tTotal time for config: 6.975826978683472\n",
      "Instance 534, T = 1.0, Proposal = MALA_MC, Acceptance = metropolis, Gap = 0.0000\n",
      "Warning: Gap is very small, may be inaccurate.\n",
      "Starting problem instance 535 of 2000 with n = 9\n"
     ]
    },
    {
     "name": "stderr",
     "output_type": "stream",
     "text": [
      "100%|██████████| 1000/1000 [00:08<00:00, 116.59it/s]\n"
     ]
    },
    {
     "name": "stdout",
     "output_type": "stream",
     "text": [
      "\t\tTotal time for config: 8.577150344848633\n",
      "Instance 535, T = 1.0, Proposal = MALA_MC, Acceptance = metropolis, Gap = 0.0000\n",
      "Warning: Gap is very small, may be inaccurate.\n",
      "Starting problem instance 536 of 2000 with n = 10\n"
     ]
    },
    {
     "name": "stderr",
     "output_type": "stream",
     "text": [
      "100%|██████████| 1000/1000 [00:13<00:00, 74.06it/s]\n"
     ]
    },
    {
     "name": "stdout",
     "output_type": "stream",
     "text": [
      "\t\tTotal time for config: 13.510819673538208\n",
      "Instance 536, T = 1.0, Proposal = MALA_MC, Acceptance = metropolis, Gap = 0.0000\n",
      "Warning: Gap is very small, may be inaccurate.\n",
      "Starting problem instance 537 of 2000 with n = 3\n"
     ]
    },
    {
     "name": "stderr",
     "output_type": "stream",
     "text": [
      "100%|██████████| 1000/1000 [00:02<00:00, 485.21it/s]\n"
     ]
    },
    {
     "name": "stdout",
     "output_type": "stream",
     "text": [
      "\t\tTotal time for config: 2.069037675857544\n",
      "Instance 537, T = 1.0, Proposal = MALA_MC, Acceptance = metropolis, Gap = 0.3428\n",
      "Starting problem instance 538 of 2000 with n = 4\n"
     ]
    },
    {
     "name": "stderr",
     "output_type": "stream",
     "text": [
      "100%|██████████| 1000/1000 [00:03<00:00, 266.22it/s]\n"
     ]
    },
    {
     "name": "stdout",
     "output_type": "stream",
     "text": [
      "\t\tTotal time for config: 3.766547441482544\n",
      "Instance 538, T = 1.0, Proposal = MALA_MC, Acceptance = metropolis, Gap = 0.5403\n",
      "Starting problem instance 539 of 2000 with n = 5\n"
     ]
    },
    {
     "name": "stderr",
     "output_type": "stream",
     "text": [
      "100%|██████████| 1000/1000 [00:05<00:00, 198.51it/s]\n"
     ]
    },
    {
     "name": "stdout",
     "output_type": "stream",
     "text": [
      "\t\tTotal time for config: 5.042813539505005\n",
      "Instance 539, T = 1.0, Proposal = MALA_MC, Acceptance = metropolis, Gap = 0.0414\n",
      "Starting problem instance 540 of 2000 with n = 6\n"
     ]
    },
    {
     "name": "stderr",
     "output_type": "stream",
     "text": [
      "100%|██████████| 1000/1000 [00:05<00:00, 185.84it/s]\n"
     ]
    },
    {
     "name": "stdout",
     "output_type": "stream",
     "text": [
      "\t\tTotal time for config: 5.386658430099487\n",
      "Instance 540, T = 1.0, Proposal = MALA_MC, Acceptance = metropolis, Gap = 0.0000\n",
      "Warning: Gap is very small, may be inaccurate.\n",
      "Starting problem instance 541 of 2000 with n = 7\n"
     ]
    },
    {
     "name": "stderr",
     "output_type": "stream",
     "text": [
      "100%|██████████| 1000/1000 [00:05<00:00, 167.07it/s]\n"
     ]
    },
    {
     "name": "stdout",
     "output_type": "stream",
     "text": [
      "\t\tTotal time for config: 5.9983203411102295\n",
      "Instance 541, T = 1.0, Proposal = MALA_MC, Acceptance = metropolis, Gap = 0.0000\n",
      "Warning: Gap is very small, may be inaccurate.\n",
      "Starting problem instance 542 of 2000 with n = 8\n"
     ]
    },
    {
     "name": "stderr",
     "output_type": "stream",
     "text": [
      "100%|██████████| 1000/1000 [00:06<00:00, 144.04it/s]\n"
     ]
    },
    {
     "name": "stdout",
     "output_type": "stream",
     "text": [
      "\t\tTotal time for config: 6.953224182128906\n",
      "Instance 542, T = 1.0, Proposal = MALA_MC, Acceptance = metropolis, Gap = 0.0000\n",
      "Warning: Gap is very small, may be inaccurate.\n",
      "Starting problem instance 543 of 2000 with n = 9\n"
     ]
    },
    {
     "name": "stderr",
     "output_type": "stream",
     "text": [
      "100%|██████████| 1000/1000 [00:09<00:00, 109.84it/s]\n"
     ]
    },
    {
     "name": "stdout",
     "output_type": "stream",
     "text": [
      "\t\tTotal time for config: 9.11241364479065\n",
      "Instance 543, T = 1.0, Proposal = MALA_MC, Acceptance = metropolis, Gap = 0.0000\n",
      "Warning: Gap is very small, may be inaccurate.\n",
      "Starting problem instance 544 of 2000 with n = 10\n"
     ]
    },
    {
     "name": "stderr",
     "output_type": "stream",
     "text": [
      "100%|██████████| 1000/1000 [00:13<00:00, 76.77it/s]\n"
     ]
    },
    {
     "name": "stdout",
     "output_type": "stream",
     "text": [
      "\t\tTotal time for config: 13.025861740112305\n",
      "Instance 544, T = 1.0, Proposal = MALA_MC, Acceptance = metropolis, Gap = 0.0000\n",
      "Warning: Gap is very small, may be inaccurate.\n",
      "Starting problem instance 545 of 2000 with n = 3\n"
     ]
    },
    {
     "name": "stderr",
     "output_type": "stream",
     "text": [
      "100%|██████████| 1000/1000 [00:02<00:00, 427.61it/s]\n"
     ]
    },
    {
     "name": "stdout",
     "output_type": "stream",
     "text": [
      "\t\tTotal time for config: 2.353494644165039\n",
      "Instance 545, T = 1.0, Proposal = MALA_MC, Acceptance = metropolis, Gap = 0.6929\n",
      "Starting problem instance 546 of 2000 with n = 4\n"
     ]
    },
    {
     "name": "stderr",
     "output_type": "stream",
     "text": [
      "100%|██████████| 1000/1000 [00:04<00:00, 249.18it/s]\n"
     ]
    },
    {
     "name": "stdout",
     "output_type": "stream",
     "text": [
      "\t\tTotal time for config: 4.022658348083496\n",
      "Instance 546, T = 1.0, Proposal = MALA_MC, Acceptance = metropolis, Gap = 0.4571\n",
      "Starting problem instance 547 of 2000 with n = 5\n"
     ]
    },
    {
     "name": "stderr",
     "output_type": "stream",
     "text": [
      "100%|██████████| 1000/1000 [00:05<00:00, 189.24it/s]\n"
     ]
    },
    {
     "name": "stdout",
     "output_type": "stream",
     "text": [
      "\t\tTotal time for config: 5.287384271621704\n",
      "Instance 547, T = 1.0, Proposal = MALA_MC, Acceptance = metropolis, Gap = 0.7022\n",
      "Starting problem instance 548 of 2000 with n = 6\n"
     ]
    },
    {
     "name": "stderr",
     "output_type": "stream",
     "text": [
      "100%|██████████| 1000/1000 [00:05<00:00, 186.18it/s]\n"
     ]
    },
    {
     "name": "stdout",
     "output_type": "stream",
     "text": [
      "\t\tTotal time for config: 5.383410930633545\n",
      "Instance 548, T = 1.0, Proposal = MALA_MC, Acceptance = metropolis, Gap = 0.3854\n",
      "Starting problem instance 549 of 2000 with n = 7\n"
     ]
    },
    {
     "name": "stderr",
     "output_type": "stream",
     "text": [
      "100%|██████████| 1000/1000 [00:06<00:00, 159.29it/s]\n"
     ]
    },
    {
     "name": "stdout",
     "output_type": "stream",
     "text": [
      "\t\tTotal time for config: 6.286358118057251\n",
      "Instance 549, T = 1.0, Proposal = MALA_MC, Acceptance = metropolis, Gap = 0.0000\n",
      "Warning: Gap is very small, may be inaccurate.\n",
      "Starting problem instance 550 of 2000 with n = 8\n"
     ]
    },
    {
     "name": "stderr",
     "output_type": "stream",
     "text": [
      "100%|██████████| 1000/1000 [00:07<00:00, 139.15it/s]\n"
     ]
    },
    {
     "name": "stdout",
     "output_type": "stream",
     "text": [
      "\t\tTotal time for config: 7.188251495361328\n",
      "Instance 550, T = 1.0, Proposal = MALA_MC, Acceptance = metropolis, Gap = 0.0000\n",
      "Warning: Gap is very small, may be inaccurate.\n",
      "Starting problem instance 551 of 2000 with n = 9\n"
     ]
    },
    {
     "name": "stderr",
     "output_type": "stream",
     "text": [
      "100%|██████████| 1000/1000 [00:08<00:00, 118.34it/s]\n"
     ]
    },
    {
     "name": "stdout",
     "output_type": "stream",
     "text": [
      "\t\tTotal time for config: 8.452016592025757\n",
      "Instance 551, T = 1.0, Proposal = MALA_MC, Acceptance = metropolis, Gap = 0.0000\n",
      "Warning: Gap is very small, may be inaccurate.\n",
      "Starting problem instance 552 of 2000 with n = 10\n"
     ]
    },
    {
     "name": "stderr",
     "output_type": "stream",
     "text": [
      "100%|██████████| 1000/1000 [00:13<00:00, 73.51it/s]\n"
     ]
    },
    {
     "name": "stdout",
     "output_type": "stream",
     "text": [
      "\t\tTotal time for config: 13.607605457305908\n",
      "Instance 552, T = 1.0, Proposal = MALA_MC, Acceptance = metropolis, Gap = 0.0000\n",
      "Warning: Gap is very small, may be inaccurate.\n",
      "Starting problem instance 553 of 2000 with n = 3\n"
     ]
    },
    {
     "name": "stderr",
     "output_type": "stream",
     "text": [
      "100%|██████████| 1000/1000 [00:02<00:00, 403.47it/s]\n"
     ]
    },
    {
     "name": "stdout",
     "output_type": "stream",
     "text": [
      "\t\tTotal time for config: 2.4819328784942627\n",
      "Instance 553, T = 1.0, Proposal = MALA_MC, Acceptance = metropolis, Gap = 0.6188\n",
      "Starting problem instance 554 of 2000 with n = 4\n"
     ]
    },
    {
     "name": "stderr",
     "output_type": "stream",
     "text": [
      "100%|██████████| 1000/1000 [00:04<00:00, 246.47it/s]\n"
     ]
    },
    {
     "name": "stdout",
     "output_type": "stream",
     "text": [
      "\t\tTotal time for config: 4.065516948699951\n",
      "Instance 554, T = 1.0, Proposal = MALA_MC, Acceptance = metropolis, Gap = 0.3371\n",
      "Starting problem instance 555 of 2000 with n = 5\n"
     ]
    },
    {
     "name": "stderr",
     "output_type": "stream",
     "text": [
      "100%|██████████| 1000/1000 [00:04<00:00, 201.12it/s]\n"
     ]
    },
    {
     "name": "stdout",
     "output_type": "stream",
     "text": [
      "\t\tTotal time for config: 4.980438470840454\n",
      "Instance 555, T = 1.0, Proposal = MALA_MC, Acceptance = metropolis, Gap = 0.3178\n",
      "Starting problem instance 556 of 2000 with n = 6\n"
     ]
    },
    {
     "name": "stderr",
     "output_type": "stream",
     "text": [
      "100%|██████████| 1000/1000 [00:04<00:00, 212.48it/s]\n"
     ]
    },
    {
     "name": "stdout",
     "output_type": "stream",
     "text": [
      "\t\tTotal time for config: 4.714319467544556\n",
      "Instance 556, T = 1.0, Proposal = MALA_MC, Acceptance = metropolis, Gap = 0.0003\n",
      "Starting problem instance 557 of 2000 with n = 7\n"
     ]
    },
    {
     "name": "stderr",
     "output_type": "stream",
     "text": [
      "100%|██████████| 1000/1000 [00:05<00:00, 172.70it/s]\n"
     ]
    },
    {
     "name": "stdout",
     "output_type": "stream",
     "text": [
      "\t\tTotal time for config: 5.799058198928833\n",
      "Instance 557, T = 1.0, Proposal = MALA_MC, Acceptance = metropolis, Gap = 0.0000\n",
      "Warning: Gap is very small, may be inaccurate.\n",
      "Starting problem instance 558 of 2000 with n = 8\n"
     ]
    },
    {
     "name": "stderr",
     "output_type": "stream",
     "text": [
      "100%|██████████| 1000/1000 [00:06<00:00, 157.16it/s]\n"
     ]
    },
    {
     "name": "stdout",
     "output_type": "stream",
     "text": [
      "\t\tTotal time for config: 6.369291305541992\n",
      "Instance 558, T = 1.0, Proposal = MALA_MC, Acceptance = metropolis, Gap = 0.0000\n",
      "Warning: Gap is very small, may be inaccurate.\n",
      "Starting problem instance 559 of 2000 with n = 9\n"
     ]
    },
    {
     "name": "stderr",
     "output_type": "stream",
     "text": [
      "100%|██████████| 1000/1000 [00:08<00:00, 115.47it/s]\n"
     ]
    },
    {
     "name": "stdout",
     "output_type": "stream",
     "text": [
      "\t\tTotal time for config: 8.662259340286255\n",
      "Instance 559, T = 1.0, Proposal = MALA_MC, Acceptance = metropolis, Gap = 0.0000\n",
      "Warning: Gap is very small, may be inaccurate.\n",
      "Starting problem instance 560 of 2000 with n = 10\n"
     ]
    },
    {
     "name": "stderr",
     "output_type": "stream",
     "text": [
      "100%|██████████| 1000/1000 [00:13<00:00, 72.04it/s]\n"
     ]
    },
    {
     "name": "stdout",
     "output_type": "stream",
     "text": [
      "\t\tTotal time for config: 13.880306243896484\n",
      "Instance 560, T = 1.0, Proposal = MALA_MC, Acceptance = metropolis, Gap = 0.0000\n",
      "Warning: Gap is very small, may be inaccurate.\n",
      "Starting problem instance 561 of 2000 with n = 3\n"
     ]
    },
    {
     "name": "stderr",
     "output_type": "stream",
     "text": [
      "100%|██████████| 1000/1000 [00:02<00:00, 417.69it/s]\n"
     ]
    },
    {
     "name": "stdout",
     "output_type": "stream",
     "text": [
      "\t\tTotal time for config: 2.405494213104248\n",
      "Instance 561, T = 1.0, Proposal = MALA_MC, Acceptance = metropolis, Gap = 0.1884\n",
      "Starting problem instance 562 of 2000 with n = 4\n"
     ]
    },
    {
     "name": "stderr",
     "output_type": "stream",
     "text": [
      "100%|██████████| 1000/1000 [00:04<00:00, 241.99it/s]\n"
     ]
    },
    {
     "name": "stdout",
     "output_type": "stream",
     "text": [
      "\t\tTotal time for config: 4.138393878936768\n",
      "Instance 562, T = 1.0, Proposal = MALA_MC, Acceptance = metropolis, Gap = 0.0011\n",
      "Starting problem instance 563 of 2000 with n = 5\n"
     ]
    },
    {
     "name": "stderr",
     "output_type": "stream",
     "text": [
      "100%|██████████| 1000/1000 [00:04<00:00, 202.47it/s]\n"
     ]
    },
    {
     "name": "stdout",
     "output_type": "stream",
     "text": [
      "\t\tTotal time for config: 4.947437047958374\n",
      "Instance 563, T = 1.0, Proposal = MALA_MC, Acceptance = metropolis, Gap = 0.1383\n",
      "Starting problem instance 564 of 2000 with n = 6\n"
     ]
    },
    {
     "name": "stderr",
     "output_type": "stream",
     "text": [
      "100%|██████████| 1000/1000 [00:05<00:00, 186.33it/s]\n"
     ]
    },
    {
     "name": "stdout",
     "output_type": "stream",
     "text": [
      "\t\tTotal time for config: 5.368755578994751\n",
      "Instance 564, T = 1.0, Proposal = MALA_MC, Acceptance = metropolis, Gap = 0.4903\n",
      "Starting problem instance 565 of 2000 with n = 7\n"
     ]
    },
    {
     "name": "stderr",
     "output_type": "stream",
     "text": [
      "100%|██████████| 1000/1000 [00:05<00:00, 181.27it/s]\n"
     ]
    },
    {
     "name": "stdout",
     "output_type": "stream",
     "text": [
      "\t\tTotal time for config: 5.523974895477295\n",
      "Instance 565, T = 1.0, Proposal = MALA_MC, Acceptance = metropolis, Gap = 0.0000\n",
      "Warning: Gap is very small, may be inaccurate.\n",
      "Starting problem instance 566 of 2000 with n = 8\n"
     ]
    },
    {
     "name": "stderr",
     "output_type": "stream",
     "text": [
      "100%|██████████| 1000/1000 [00:06<00:00, 145.99it/s]\n"
     ]
    },
    {
     "name": "stdout",
     "output_type": "stream",
     "text": [
      "\t\tTotal time for config: 6.849801540374756\n",
      "Instance 566, T = 1.0, Proposal = MALA_MC, Acceptance = metropolis, Gap = 0.0000\n",
      "Warning: Gap is very small, may be inaccurate.\n",
      "Starting problem instance 567 of 2000 with n = 9\n"
     ]
    },
    {
     "name": "stderr",
     "output_type": "stream",
     "text": [
      "100%|██████████| 1000/1000 [00:08<00:00, 116.50it/s]\n"
     ]
    },
    {
     "name": "stdout",
     "output_type": "stream",
     "text": [
      "\t\tTotal time for config: 8.588977813720703\n",
      "Instance 567, T = 1.0, Proposal = MALA_MC, Acceptance = metropolis, Gap = 0.0000\n",
      "Warning: Gap is very small, may be inaccurate.\n",
      "Starting problem instance 568 of 2000 with n = 10\n"
     ]
    },
    {
     "name": "stderr",
     "output_type": "stream",
     "text": [
      "100%|██████████| 1000/1000 [00:13<00:00, 72.45it/s]\n"
     ]
    },
    {
     "name": "stdout",
     "output_type": "stream",
     "text": [
      "\t\tTotal time for config: 13.805482149124146\n",
      "Instance 568, T = 1.0, Proposal = MALA_MC, Acceptance = metropolis, Gap = 0.0000\n",
      "Warning: Gap is very small, may be inaccurate.\n",
      "Starting problem instance 569 of 2000 with n = 3\n"
     ]
    },
    {
     "name": "stderr",
     "output_type": "stream",
     "text": [
      "100%|██████████| 1000/1000 [00:02<00:00, 425.98it/s]\n"
     ]
    },
    {
     "name": "stdout",
     "output_type": "stream",
     "text": [
      "\t\tTotal time for config: 2.3475260734558105\n",
      "Instance 569, T = 1.0, Proposal = MALA_MC, Acceptance = metropolis, Gap = 0.5777\n",
      "Starting problem instance 570 of 2000 with n = 4\n"
     ]
    },
    {
     "name": "stderr",
     "output_type": "stream",
     "text": [
      "100%|██████████| 1000/1000 [00:03<00:00, 271.91it/s]\n"
     ]
    },
    {
     "name": "stdout",
     "output_type": "stream",
     "text": [
      "\t\tTotal time for config: 3.693932294845581\n",
      "Instance 570, T = 1.0, Proposal = MALA_MC, Acceptance = metropolis, Gap = 0.5822\n",
      "Starting problem instance 571 of 2000 with n = 5\n"
     ]
    },
    {
     "name": "stderr",
     "output_type": "stream",
     "text": [
      "100%|██████████| 1000/1000 [00:04<00:00, 204.81it/s]\n"
     ]
    },
    {
     "name": "stdout",
     "output_type": "stream",
     "text": [
      "\t\tTotal time for config: 4.882625102996826\n",
      "Instance 571, T = 1.0, Proposal = MALA_MC, Acceptance = metropolis, Gap = 0.6527\n",
      "Starting problem instance 572 of 2000 with n = 6\n"
     ]
    },
    {
     "name": "stderr",
     "output_type": "stream",
     "text": [
      "100%|██████████| 1000/1000 [00:04<00:00, 209.67it/s]\n"
     ]
    },
    {
     "name": "stdout",
     "output_type": "stream",
     "text": [
      "\t\tTotal time for config: 4.76931619644165\n",
      "Instance 572, T = 1.0, Proposal = MALA_MC, Acceptance = metropolis, Gap = 0.0000\n",
      "Warning: Gap is very small, may be inaccurate.\n",
      "Starting problem instance 573 of 2000 with n = 7\n"
     ]
    },
    {
     "name": "stderr",
     "output_type": "stream",
     "text": [
      "100%|██████████| 1000/1000 [00:05<00:00, 179.28it/s]\n"
     ]
    },
    {
     "name": "stdout",
     "output_type": "stream",
     "text": [
      "\t\tTotal time for config: 5.585974216461182\n",
      "Instance 573, T = 1.0, Proposal = MALA_MC, Acceptance = metropolis, Gap = 0.0000\n",
      "Warning: Gap is very small, may be inaccurate.\n",
      "Starting problem instance 574 of 2000 with n = 8\n"
     ]
    },
    {
     "name": "stderr",
     "output_type": "stream",
     "text": [
      "100%|██████████| 1000/1000 [00:06<00:00, 153.59it/s]\n"
     ]
    },
    {
     "name": "stdout",
     "output_type": "stream",
     "text": [
      "\t\tTotal time for config: 6.510931491851807\n",
      "Instance 574, T = 1.0, Proposal = MALA_MC, Acceptance = metropolis, Gap = 0.0000\n",
      "Warning: Gap is very small, may be inaccurate.\n",
      "Starting problem instance 575 of 2000 with n = 9\n"
     ]
    },
    {
     "name": "stderr",
     "output_type": "stream",
     "text": [
      "100%|██████████| 1000/1000 [00:08<00:00, 121.42it/s]\n"
     ]
    },
    {
     "name": "stdout",
     "output_type": "stream",
     "text": [
      "\t\tTotal time for config: 8.239322423934937\n",
      "Instance 575, T = 1.0, Proposal = MALA_MC, Acceptance = metropolis, Gap = 0.0000\n",
      "Warning: Gap is very small, may be inaccurate.\n",
      "Starting problem instance 576 of 2000 with n = 10\n"
     ]
    },
    {
     "name": "stderr",
     "output_type": "stream",
     "text": [
      "100%|██████████| 1000/1000 [00:13<00:00, 75.77it/s]\n"
     ]
    },
    {
     "name": "stdout",
     "output_type": "stream",
     "text": [
      "\t\tTotal time for config: 13.197383880615234\n",
      "Instance 576, T = 1.0, Proposal = MALA_MC, Acceptance = metropolis, Gap = 0.0000\n",
      "Warning: Gap is very small, may be inaccurate.\n",
      "Starting problem instance 577 of 2000 with n = 3\n"
     ]
    },
    {
     "name": "stderr",
     "output_type": "stream",
     "text": [
      "100%|██████████| 1000/1000 [00:02<00:00, 405.82it/s]\n"
     ]
    },
    {
     "name": "stdout",
     "output_type": "stream",
     "text": [
      "\t\tTotal time for config: 2.467315912246704\n",
      "Instance 577, T = 1.0, Proposal = MALA_MC, Acceptance = metropolis, Gap = 0.5566\n",
      "Starting problem instance 578 of 2000 with n = 4\n"
     ]
    },
    {
     "name": "stderr",
     "output_type": "stream",
     "text": [
      "100%|██████████| 1000/1000 [00:04<00:00, 246.91it/s]\n"
     ]
    },
    {
     "name": "stdout",
     "output_type": "stream",
     "text": [
      "\t\tTotal time for config: 4.058819770812988\n",
      "Instance 578, T = 1.0, Proposal = MALA_MC, Acceptance = metropolis, Gap = 0.6633\n",
      "Starting problem instance 579 of 2000 with n = 5\n"
     ]
    },
    {
     "name": "stderr",
     "output_type": "stream",
     "text": [
      "100%|██████████| 1000/1000 [00:05<00:00, 189.86it/s]\n"
     ]
    },
    {
     "name": "stdout",
     "output_type": "stream",
     "text": [
      "\t\tTotal time for config: 5.27137017250061\n",
      "Instance 579, T = 1.0, Proposal = MALA_MC, Acceptance = metropolis, Gap = 0.3398\n",
      "Starting problem instance 580 of 2000 with n = 6\n"
     ]
    },
    {
     "name": "stderr",
     "output_type": "stream",
     "text": [
      "100%|██████████| 1000/1000 [00:05<00:00, 184.63it/s]\n"
     ]
    },
    {
     "name": "stdout",
     "output_type": "stream",
     "text": [
      "\t\tTotal time for config: 5.423476696014404\n",
      "Instance 580, T = 1.0, Proposal = MALA_MC, Acceptance = metropolis, Gap = 0.5279\n",
      "Starting problem instance 581 of 2000 with n = 7\n"
     ]
    },
    {
     "name": "stderr",
     "output_type": "stream",
     "text": [
      "100%|██████████| 1000/1000 [00:05<00:00, 169.64it/s]\n"
     ]
    },
    {
     "name": "stdout",
     "output_type": "stream",
     "text": [
      "\t\tTotal time for config: 5.898385047912598\n",
      "Instance 581, T = 1.0, Proposal = MALA_MC, Acceptance = metropolis, Gap = 0.0000\n",
      "Warning: Gap is very small, may be inaccurate.\n",
      "Starting problem instance 582 of 2000 with n = 8\n"
     ]
    },
    {
     "name": "stderr",
     "output_type": "stream",
     "text": [
      "100%|██████████| 1000/1000 [00:06<00:00, 145.21it/s]\n"
     ]
    },
    {
     "name": "stdout",
     "output_type": "stream",
     "text": [
      "\t\tTotal time for config: 6.89266300201416\n",
      "Instance 582, T = 1.0, Proposal = MALA_MC, Acceptance = metropolis, Gap = 0.0000\n",
      "Warning: Gap is very small, may be inaccurate.\n",
      "Starting problem instance 583 of 2000 with n = 9\n"
     ]
    },
    {
     "name": "stderr",
     "output_type": "stream",
     "text": [
      "100%|██████████| 1000/1000 [00:08<00:00, 122.13it/s]\n"
     ]
    },
    {
     "name": "stdout",
     "output_type": "stream",
     "text": [
      "\t\tTotal time for config: 8.196311950683594\n",
      "Instance 583, T = 1.0, Proposal = MALA_MC, Acceptance = metropolis, Gap = 0.0000\n",
      "Warning: Gap is very small, may be inaccurate.\n",
      "Starting problem instance 584 of 2000 with n = 10\n"
     ]
    },
    {
     "name": "stderr",
     "output_type": "stream",
     "text": [
      "100%|██████████| 1000/1000 [00:14<00:00, 71.39it/s]\n"
     ]
    },
    {
     "name": "stdout",
     "output_type": "stream",
     "text": [
      "\t\tTotal time for config: 14.012266635894775\n",
      "Instance 584, T = 1.0, Proposal = MALA_MC, Acceptance = metropolis, Gap = 0.0000\n",
      "Warning: Gap is very small, may be inaccurate.\n",
      "Starting problem instance 585 of 2000 with n = 3\n"
     ]
    },
    {
     "name": "stderr",
     "output_type": "stream",
     "text": [
      "100%|██████████| 1000/1000 [00:02<00:00, 467.34it/s]\n"
     ]
    },
    {
     "name": "stdout",
     "output_type": "stream",
     "text": [
      "\t\tTotal time for config: 2.1418049335479736\n",
      "Instance 585, T = 1.0, Proposal = MALA_MC, Acceptance = metropolis, Gap = 0.3691\n",
      "Starting problem instance 586 of 2000 with n = 4\n"
     ]
    },
    {
     "name": "stderr",
     "output_type": "stream",
     "text": [
      "100%|██████████| 1000/1000 [00:03<00:00, 278.40it/s]\n"
     ]
    },
    {
     "name": "stdout",
     "output_type": "stream",
     "text": [
      "\t\tTotal time for config: 3.600191116333008\n",
      "Instance 586, T = 1.0, Proposal = MALA_MC, Acceptance = metropolis, Gap = 0.4122\n",
      "Starting problem instance 587 of 2000 with n = 5\n"
     ]
    },
    {
     "name": "stderr",
     "output_type": "stream",
     "text": [
      "100%|██████████| 1000/1000 [00:04<00:00, 238.30it/s]\n"
     ]
    },
    {
     "name": "stdout",
     "output_type": "stream",
     "text": [
      "\t\tTotal time for config: 4.200330495834351\n",
      "Instance 587, T = 1.0, Proposal = MALA_MC, Acceptance = metropolis, Gap = 0.0068\n",
      "Starting problem instance 588 of 2000 with n = 6\n"
     ]
    },
    {
     "name": "stderr",
     "output_type": "stream",
     "text": [
      "100%|██████████| 1000/1000 [00:04<00:00, 206.85it/s]\n"
     ]
    },
    {
     "name": "stdout",
     "output_type": "stream",
     "text": [
      "\t\tTotal time for config: 4.842600584030151\n",
      "Instance 588, T = 1.0, Proposal = MALA_MC, Acceptance = metropolis, Gap = 0.0000\n",
      "Warning: Gap is very small, may be inaccurate.\n",
      "Starting problem instance 589 of 2000 with n = 7\n"
     ]
    },
    {
     "name": "stderr",
     "output_type": "stream",
     "text": [
      "100%|██████████| 1000/1000 [00:05<00:00, 183.46it/s]\n"
     ]
    },
    {
     "name": "stdout",
     "output_type": "stream",
     "text": [
      "\t\tTotal time for config: 5.450656175613403\n",
      "Instance 589, T = 1.0, Proposal = MALA_MC, Acceptance = metropolis, Gap = 0.0000\n",
      "Warning: Gap is very small, may be inaccurate.\n",
      "Starting problem instance 590 of 2000 with n = 8\n"
     ]
    },
    {
     "name": "stderr",
     "output_type": "stream",
     "text": [
      "100%|██████████| 1000/1000 [00:05<00:00, 174.57it/s]\n"
     ]
    },
    {
     "name": "stdout",
     "output_type": "stream",
     "text": [
      "\t\tTotal time for config: 5.736587047576904\n",
      "Instance 590, T = 1.0, Proposal = MALA_MC, Acceptance = metropolis, Gap = 0.0000\n",
      "Warning: Gap is very small, may be inaccurate.\n",
      "Starting problem instance 591 of 2000 with n = 9\n"
     ]
    },
    {
     "name": "stderr",
     "output_type": "stream",
     "text": [
      "100%|██████████| 1000/1000 [00:08<00:00, 121.62it/s]\n"
     ]
    },
    {
     "name": "stdout",
     "output_type": "stream",
     "text": [
      "\t\tTotal time for config: 8.230935096740723\n",
      "Instance 591, T = 1.0, Proposal = MALA_MC, Acceptance = metropolis, Gap = 0.0000\n",
      "Warning: Gap is very small, may be inaccurate.\n",
      "Starting problem instance 592 of 2000 with n = 10\n"
     ]
    },
    {
     "name": "stderr",
     "output_type": "stream",
     "text": [
      "100%|██████████| 1000/1000 [00:12<00:00, 78.90it/s]\n"
     ]
    },
    {
     "name": "stdout",
     "output_type": "stream",
     "text": [
      "\t\tTotal time for config: 12.683599472045898\n",
      "Instance 592, T = 1.0, Proposal = MALA_MC, Acceptance = metropolis, Gap = 0.0000\n",
      "Warning: Gap is very small, may be inaccurate.\n",
      "Starting problem instance 593 of 2000 with n = 3\n"
     ]
    },
    {
     "name": "stderr",
     "output_type": "stream",
     "text": [
      "100%|██████████| 1000/1000 [00:02<00:00, 440.56it/s]\n"
     ]
    },
    {
     "name": "stdout",
     "output_type": "stream",
     "text": [
      "\t\tTotal time for config: 2.2821013927459717\n",
      "Instance 593, T = 1.0, Proposal = MALA_MC, Acceptance = metropolis, Gap = 0.8833\n",
      "Starting problem instance 594 of 2000 with n = 4\n"
     ]
    },
    {
     "name": "stderr",
     "output_type": "stream",
     "text": [
      "100%|██████████| 1000/1000 [00:03<00:00, 257.65it/s]\n"
     ]
    },
    {
     "name": "stdout",
     "output_type": "stream",
     "text": [
      "\t\tTotal time for config: 3.885016918182373\n",
      "Instance 594, T = 1.0, Proposal = MALA_MC, Acceptance = metropolis, Gap = 0.0785\n",
      "Starting problem instance 595 of 2000 with n = 5\n"
     ]
    },
    {
     "name": "stderr",
     "output_type": "stream",
     "text": [
      "100%|██████████| 1000/1000 [00:04<00:00, 211.70it/s]\n"
     ]
    },
    {
     "name": "stdout",
     "output_type": "stream",
     "text": [
      "\t\tTotal time for config: 4.734437942504883\n",
      "Instance 595, T = 1.0, Proposal = MALA_MC, Acceptance = metropolis, Gap = 0.6749\n",
      "Starting problem instance 596 of 2000 with n = 6\n"
     ]
    },
    {
     "name": "stderr",
     "output_type": "stream",
     "text": [
      "100%|██████████| 1000/1000 [00:05<00:00, 193.72it/s]\n"
     ]
    },
    {
     "name": "stdout",
     "output_type": "stream",
     "text": [
      "\t\tTotal time for config: 5.170321464538574\n",
      "Instance 596, T = 1.0, Proposal = MALA_MC, Acceptance = metropolis, Gap = 0.2211\n",
      "Starting problem instance 597 of 2000 with n = 7\n"
     ]
    },
    {
     "name": "stderr",
     "output_type": "stream",
     "text": [
      "100%|██████████| 1000/1000 [00:05<00:00, 172.88it/s]\n"
     ]
    },
    {
     "name": "stdout",
     "output_type": "stream",
     "text": [
      "\t\tTotal time for config: 5.788501501083374\n",
      "Instance 597, T = 1.0, Proposal = MALA_MC, Acceptance = metropolis, Gap = 0.0000\n",
      "Warning: Gap is very small, may be inaccurate.\n",
      "Starting problem instance 598 of 2000 with n = 8\n"
     ]
    },
    {
     "name": "stderr",
     "output_type": "stream",
     "text": [
      "100%|██████████| 1000/1000 [00:06<00:00, 146.76it/s]\n"
     ]
    },
    {
     "name": "stdout",
     "output_type": "stream",
     "text": [
      "\t\tTotal time for config: 6.824205636978149\n",
      "Instance 598, T = 1.0, Proposal = MALA_MC, Acceptance = metropolis, Gap = 0.0000\n",
      "Warning: Gap is very small, may be inaccurate.\n",
      "Starting problem instance 599 of 2000 with n = 9\n"
     ]
    },
    {
     "name": "stderr",
     "output_type": "stream",
     "text": [
      "100%|██████████| 1000/1000 [00:08<00:00, 123.10it/s]\n"
     ]
    },
    {
     "name": "stdout",
     "output_type": "stream",
     "text": [
      "\t\tTotal time for config: 8.127034664154053\n",
      "Instance 599, T = 1.0, Proposal = MALA_MC, Acceptance = metropolis, Gap = 0.0000\n",
      "Warning: Gap is very small, may be inaccurate.\n",
      "Starting problem instance 600 of 2000 with n = 10\n"
     ]
    },
    {
     "name": "stderr",
     "output_type": "stream",
     "text": [
      "100%|██████████| 1000/1000 [00:13<00:00, 75.08it/s]\n"
     ]
    },
    {
     "name": "stdout",
     "output_type": "stream",
     "text": [
      "\t\tTotal time for config: 13.319260120391846\n",
      "Instance 600, T = 1.0, Proposal = MALA_MC, Acceptance = metropolis, Gap = 0.0000\n",
      "Warning: Gap is very small, may be inaccurate.\n",
      "Starting problem instance 601 of 2000 with n = 3\n"
     ]
    },
    {
     "name": "stderr",
     "output_type": "stream",
     "text": [
      "100%|██████████| 1000/1000 [00:02<00:00, 472.85it/s]\n"
     ]
    },
    {
     "name": "stdout",
     "output_type": "stream",
     "text": [
      "\t\tTotal time for config: 2.118312358856201\n",
      "Instance 601, T = 1.0, Proposal = MALA_MC, Acceptance = metropolis, Gap = 0.8795\n",
      "Starting problem instance 602 of 2000 with n = 4\n"
     ]
    },
    {
     "name": "stderr",
     "output_type": "stream",
     "text": [
      "100%|██████████| 1000/1000 [00:03<00:00, 259.27it/s]\n"
     ]
    },
    {
     "name": "stdout",
     "output_type": "stream",
     "text": [
      "\t\tTotal time for config: 3.8595476150512695\n",
      "Instance 602, T = 1.0, Proposal = MALA_MC, Acceptance = metropolis, Gap = 0.4467\n",
      "Starting problem instance 603 of 2000 with n = 5\n"
     ]
    },
    {
     "name": "stderr",
     "output_type": "stream",
     "text": [
      "100%|██████████| 1000/1000 [00:05<00:00, 189.45it/s]\n"
     ]
    },
    {
     "name": "stdout",
     "output_type": "stream",
     "text": [
      "\t\tTotal time for config: 5.286625385284424\n",
      "Instance 603, T = 1.0, Proposal = MALA_MC, Acceptance = metropolis, Gap = 0.0028\n",
      "Starting problem instance 604 of 2000 with n = 6\n"
     ]
    },
    {
     "name": "stderr",
     "output_type": "stream",
     "text": [
      "100%|██████████| 1000/1000 [00:05<00:00, 189.85it/s]\n"
     ]
    },
    {
     "name": "stdout",
     "output_type": "stream",
     "text": [
      "\t\tTotal time for config: 5.271710395812988\n",
      "Instance 604, T = 1.0, Proposal = MALA_MC, Acceptance = metropolis, Gap = 0.0000\n",
      "Warning: Gap is very small, may be inaccurate.\n",
      "Starting problem instance 605 of 2000 with n = 7\n"
     ]
    },
    {
     "name": "stderr",
     "output_type": "stream",
     "text": [
      "100%|██████████| 1000/1000 [00:06<00:00, 162.67it/s]\n"
     ]
    },
    {
     "name": "stdout",
     "output_type": "stream",
     "text": [
      "\t\tTotal time for config: 6.158643484115601\n",
      "Instance 605, T = 1.0, Proposal = MALA_MC, Acceptance = metropolis, Gap = 0.0077\n",
      "Starting problem instance 606 of 2000 with n = 8\n"
     ]
    },
    {
     "name": "stderr",
     "output_type": "stream",
     "text": [
      "100%|██████████| 1000/1000 [00:07<00:00, 141.30it/s]\n"
     ]
    },
    {
     "name": "stdout",
     "output_type": "stream",
     "text": [
      "\t\tTotal time for config: 7.085190057754517\n",
      "Instance 606, T = 1.0, Proposal = MALA_MC, Acceptance = metropolis, Gap = 0.0000\n",
      "Warning: Gap is very small, may be inaccurate.\n",
      "Starting problem instance 607 of 2000 with n = 9\n"
     ]
    },
    {
     "name": "stderr",
     "output_type": "stream",
     "text": [
      "100%|██████████| 1000/1000 [00:07<00:00, 127.44it/s]\n"
     ]
    },
    {
     "name": "stdout",
     "output_type": "stream",
     "text": [
      "\t\tTotal time for config: 7.846882581710815\n",
      "Instance 607, T = 1.0, Proposal = MALA_MC, Acceptance = metropolis, Gap = 0.0000\n",
      "Warning: Gap is very small, may be inaccurate.\n",
      "Starting problem instance 608 of 2000 with n = 10\n"
     ]
    },
    {
     "name": "stderr",
     "output_type": "stream",
     "text": [
      "100%|██████████| 1000/1000 [00:12<00:00, 80.06it/s]\n"
     ]
    },
    {
     "name": "stdout",
     "output_type": "stream",
     "text": [
      "\t\tTotal time for config: 12.490875959396362\n",
      "Instance 608, T = 1.0, Proposal = MALA_MC, Acceptance = metropolis, Gap = 0.0000\n",
      "Warning: Gap is very small, may be inaccurate.\n",
      "Starting problem instance 609 of 2000 with n = 3\n"
     ]
    },
    {
     "name": "stderr",
     "output_type": "stream",
     "text": [
      "100%|██████████| 1000/1000 [00:02<00:00, 422.57it/s]\n"
     ]
    },
    {
     "name": "stdout",
     "output_type": "stream",
     "text": [
      "\t\tTotal time for config: 2.3751399517059326\n",
      "Instance 609, T = 1.0, Proposal = MALA_MC, Acceptance = metropolis, Gap = 0.5932\n",
      "Starting problem instance 610 of 2000 with n = 4\n"
     ]
    },
    {
     "name": "stderr",
     "output_type": "stream",
     "text": [
      "100%|██████████| 1000/1000 [00:03<00:00, 258.03it/s]\n"
     ]
    },
    {
     "name": "stdout",
     "output_type": "stream",
     "text": [
      "\t\tTotal time for config: 3.8754642009735107\n",
      "Instance 610, T = 1.0, Proposal = MALA_MC, Acceptance = metropolis, Gap = 0.6989\n",
      "Starting problem instance 611 of 2000 with n = 5\n"
     ]
    },
    {
     "name": "stderr",
     "output_type": "stream",
     "text": [
      "100%|██████████| 1000/1000 [00:05<00:00, 191.02it/s]\n"
     ]
    },
    {
     "name": "stdout",
     "output_type": "stream",
     "text": [
      "\t\tTotal time for config: 5.236950874328613\n",
      "Instance 611, T = 1.0, Proposal = MALA_MC, Acceptance = metropolis, Gap = 0.1116\n",
      "Starting problem instance 612 of 2000 with n = 6\n"
     ]
    },
    {
     "name": "stderr",
     "output_type": "stream",
     "text": [
      "100%|██████████| 1000/1000 [00:05<00:00, 178.08it/s]\n"
     ]
    },
    {
     "name": "stdout",
     "output_type": "stream",
     "text": [
      "\t\tTotal time for config: 5.624319076538086\n",
      "Instance 612, T = 1.0, Proposal = MALA_MC, Acceptance = metropolis, Gap = 0.7910\n",
      "Starting problem instance 613 of 2000 with n = 7\n"
     ]
    },
    {
     "name": "stderr",
     "output_type": "stream",
     "text": [
      "100%|██████████| 1000/1000 [00:05<00:00, 170.54it/s]\n"
     ]
    },
    {
     "name": "stdout",
     "output_type": "stream",
     "text": [
      "\t\tTotal time for config: 5.863718271255493\n",
      "Instance 613, T = 1.0, Proposal = MALA_MC, Acceptance = metropolis, Gap = 0.2020\n",
      "Starting problem instance 614 of 2000 with n = 8\n"
     ]
    },
    {
     "name": "stderr",
     "output_type": "stream",
     "text": [
      "100%|██████████| 1000/1000 [00:06<00:00, 149.01it/s]\n"
     ]
    },
    {
     "name": "stdout",
     "output_type": "stream",
     "text": [
      "\t\tTotal time for config: 6.714982271194458\n",
      "Instance 614, T = 1.0, Proposal = MALA_MC, Acceptance = metropolis, Gap = 0.0000\n",
      "Warning: Gap is very small, may be inaccurate.\n",
      "Starting problem instance 615 of 2000 with n = 9\n"
     ]
    },
    {
     "name": "stderr",
     "output_type": "stream",
     "text": [
      "100%|██████████| 1000/1000 [00:08<00:00, 119.26it/s]\n"
     ]
    },
    {
     "name": "stdout",
     "output_type": "stream",
     "text": [
      "\t\tTotal time for config: 8.387226343154907\n",
      "Instance 615, T = 1.0, Proposal = MALA_MC, Acceptance = metropolis, Gap = 0.0000\n",
      "Warning: Gap is very small, may be inaccurate.\n",
      "Starting problem instance 616 of 2000 with n = 10\n"
     ]
    },
    {
     "name": "stderr",
     "output_type": "stream",
     "text": [
      "100%|██████████| 1000/1000 [00:14<00:00, 70.98it/s]\n"
     ]
    },
    {
     "name": "stdout",
     "output_type": "stream",
     "text": [
      "\t\tTotal time for config: 14.096632957458496\n",
      "Instance 616, T = 1.0, Proposal = MALA_MC, Acceptance = metropolis, Gap = 0.0000\n",
      "Warning: Gap is very small, may be inaccurate.\n",
      "Starting problem instance 617 of 2000 with n = 3\n"
     ]
    },
    {
     "name": "stderr",
     "output_type": "stream",
     "text": [
      "100%|██████████| 1000/1000 [00:02<00:00, 412.06it/s]\n"
     ]
    },
    {
     "name": "stdout",
     "output_type": "stream",
     "text": [
      "\t\tTotal time for config: 2.435263156890869\n",
      "Instance 617, T = 1.0, Proposal = MALA_MC, Acceptance = metropolis, Gap = 0.5602\n",
      "Starting problem instance 618 of 2000 with n = 4\n"
     ]
    },
    {
     "name": "stderr",
     "output_type": "stream",
     "text": [
      "100%|██████████| 1000/1000 [00:03<00:00, 279.87it/s]\n"
     ]
    },
    {
     "name": "stdout",
     "output_type": "stream",
     "text": [
      "\t\tTotal time for config: 3.582897424697876\n",
      "Instance 618, T = 1.0, Proposal = MALA_MC, Acceptance = metropolis, Gap = 0.6154\n",
      "Starting problem instance 619 of 2000 with n = 5\n"
     ]
    },
    {
     "name": "stderr",
     "output_type": "stream",
     "text": [
      "100%|██████████| 1000/1000 [00:04<00:00, 205.17it/s]\n"
     ]
    },
    {
     "name": "stdout",
     "output_type": "stream",
     "text": [
      "\t\tTotal time for config: 4.88507080078125\n",
      "Instance 619, T = 1.0, Proposal = MALA_MC, Acceptance = metropolis, Gap = 0.0000\n",
      "Warning: Gap is very small, may be inaccurate.\n",
      "Starting problem instance 620 of 2000 with n = 6\n"
     ]
    },
    {
     "name": "stderr",
     "output_type": "stream",
     "text": [
      "100%|██████████| 1000/1000 [00:04<00:00, 209.46it/s]\n"
     ]
    },
    {
     "name": "stdout",
     "output_type": "stream",
     "text": [
      "\t\tTotal time for config: 4.781633615493774\n",
      "Instance 620, T = 1.0, Proposal = MALA_MC, Acceptance = metropolis, Gap = 0.0674\n",
      "Starting problem instance 621 of 2000 with n = 7\n"
     ]
    },
    {
     "name": "stderr",
     "output_type": "stream",
     "text": [
      "100%|██████████| 1000/1000 [00:05<00:00, 180.78it/s]\n"
     ]
    },
    {
     "name": "stdout",
     "output_type": "stream",
     "text": [
      "\t\tTotal time for config: 5.540508031845093\n",
      "Instance 621, T = 1.0, Proposal = MALA_MC, Acceptance = metropolis, Gap = 0.1424\n",
      "Starting problem instance 622 of 2000 with n = 8\n"
     ]
    },
    {
     "name": "stderr",
     "output_type": "stream",
     "text": [
      "100%|██████████| 1000/1000 [00:06<00:00, 163.74it/s]\n"
     ]
    },
    {
     "name": "stdout",
     "output_type": "stream",
     "text": [
      "\t\tTotal time for config: 6.113190412521362\n",
      "Instance 622, T = 1.0, Proposal = MALA_MC, Acceptance = metropolis, Gap = 0.0000\n",
      "Warning: Gap is very small, may be inaccurate.\n",
      "Starting problem instance 623 of 2000 with n = 9\n"
     ]
    },
    {
     "name": "stderr",
     "output_type": "stream",
     "text": [
      "100%|██████████| 1000/1000 [00:08<00:00, 116.15it/s]\n"
     ]
    },
    {
     "name": "stdout",
     "output_type": "stream",
     "text": [
      "\t\tTotal time for config: 8.613571405410767\n",
      "Instance 623, T = 1.0, Proposal = MALA_MC, Acceptance = metropolis, Gap = 0.0000\n",
      "Warning: Gap is very small, may be inaccurate.\n",
      "Starting problem instance 624 of 2000 with n = 10\n"
     ]
    },
    {
     "name": "stderr",
     "output_type": "stream",
     "text": [
      "100%|██████████| 1000/1000 [00:12<00:00, 78.02it/s]\n"
     ]
    },
    {
     "name": "stdout",
     "output_type": "stream",
     "text": [
      "\t\tTotal time for config: 12.82515001296997\n",
      "Instance 624, T = 1.0, Proposal = MALA_MC, Acceptance = metropolis, Gap = 0.0000\n",
      "Warning: Gap is very small, may be inaccurate.\n",
      "Starting problem instance 625 of 2000 with n = 3\n"
     ]
    },
    {
     "name": "stderr",
     "output_type": "stream",
     "text": [
      "100%|██████████| 1000/1000 [00:02<00:00, 419.41it/s]\n"
     ]
    },
    {
     "name": "stdout",
     "output_type": "stream",
     "text": [
      "\t\tTotal time for config: 2.397284984588623\n",
      "Instance 625, T = 1.0, Proposal = MALA_MC, Acceptance = metropolis, Gap = 0.6985\n",
      "Starting problem instance 626 of 2000 with n = 4\n"
     ]
    },
    {
     "name": "stderr",
     "output_type": "stream",
     "text": [
      "100%|██████████| 1000/1000 [00:03<00:00, 279.13it/s]\n"
     ]
    },
    {
     "name": "stdout",
     "output_type": "stream",
     "text": [
      "\t\tTotal time for config: 3.582526922225952\n",
      "Instance 626, T = 1.0, Proposal = MALA_MC, Acceptance = metropolis, Gap = 0.7310\n",
      "Starting problem instance 627 of 2000 with n = 5\n"
     ]
    },
    {
     "name": "stderr",
     "output_type": "stream",
     "text": [
      "100%|██████████| 1000/1000 [00:04<00:00, 213.85it/s]\n"
     ]
    },
    {
     "name": "stdout",
     "output_type": "stream",
     "text": [
      "\t\tTotal time for config: 4.676210403442383\n",
      "Instance 627, T = 1.0, Proposal = MALA_MC, Acceptance = metropolis, Gap = 0.8673\n",
      "Starting problem instance 628 of 2000 with n = 6\n"
     ]
    },
    {
     "name": "stderr",
     "output_type": "stream",
     "text": [
      "100%|██████████| 1000/1000 [00:05<00:00, 186.98it/s]\n"
     ]
    },
    {
     "name": "stdout",
     "output_type": "stream",
     "text": [
      "\t\tTotal time for config: 5.348235130310059\n",
      "Instance 628, T = 1.0, Proposal = MALA_MC, Acceptance = metropolis, Gap = 0.6801\n",
      "Starting problem instance 629 of 2000 with n = 7\n"
     ]
    },
    {
     "name": "stderr",
     "output_type": "stream",
     "text": [
      "100%|██████████| 1000/1000 [00:06<00:00, 161.59it/s]\n"
     ]
    },
    {
     "name": "stdout",
     "output_type": "stream",
     "text": [
      "\t\tTotal time for config: 6.196773290634155\n",
      "Instance 629, T = 1.0, Proposal = MALA_MC, Acceptance = metropolis, Gap = 0.0000\n",
      "Warning: Gap is very small, may be inaccurate.\n",
      "Starting problem instance 630 of 2000 with n = 8\n"
     ]
    },
    {
     "name": "stderr",
     "output_type": "stream",
     "text": [
      "100%|██████████| 1000/1000 [00:06<00:00, 153.73it/s]\n"
     ]
    },
    {
     "name": "stdout",
     "output_type": "stream",
     "text": [
      "\t\tTotal time for config: 6.5215537548065186\n",
      "Instance 630, T = 1.0, Proposal = MALA_MC, Acceptance = metropolis, Gap = 0.0000\n",
      "Warning: Gap is very small, may be inaccurate.\n",
      "Starting problem instance 631 of 2000 with n = 9\n"
     ]
    },
    {
     "name": "stderr",
     "output_type": "stream",
     "text": [
      "100%|██████████| 1000/1000 [00:08<00:00, 115.19it/s]\n"
     ]
    },
    {
     "name": "stdout",
     "output_type": "stream",
     "text": [
      "\t\tTotal time for config: 8.700907707214355\n",
      "Instance 631, T = 1.0, Proposal = MALA_MC, Acceptance = metropolis, Gap = 0.0000\n",
      "Warning: Gap is very small, may be inaccurate.\n",
      "Starting problem instance 632 of 2000 with n = 10\n"
     ]
    },
    {
     "name": "stderr",
     "output_type": "stream",
     "text": [
      "100%|██████████| 1000/1000 [00:12<00:00, 78.24it/s]\n"
     ]
    },
    {
     "name": "stdout",
     "output_type": "stream",
     "text": [
      "\t\tTotal time for config: 12.78047227859497\n",
      "Instance 632, T = 1.0, Proposal = MALA_MC, Acceptance = metropolis, Gap = 0.0000\n",
      "Warning: Gap is very small, may be inaccurate.\n",
      "Starting problem instance 633 of 2000 with n = 3\n"
     ]
    },
    {
     "name": "stderr",
     "output_type": "stream",
     "text": [
      "100%|██████████| 1000/1000 [00:02<00:00, 421.30it/s]\n"
     ]
    },
    {
     "name": "stdout",
     "output_type": "stream",
     "text": [
      "\t\tTotal time for config: 2.381802797317505\n",
      "Instance 633, T = 1.0, Proposal = MALA_MC, Acceptance = metropolis, Gap = 0.6144\n",
      "Starting problem instance 634 of 2000 with n = 4\n"
     ]
    },
    {
     "name": "stderr",
     "output_type": "stream",
     "text": [
      "100%|██████████| 1000/1000 [00:03<00:00, 274.86it/s]\n"
     ]
    },
    {
     "name": "stdout",
     "output_type": "stream",
     "text": [
      "\t\tTotal time for config: 3.644196033477783\n",
      "Instance 634, T = 1.0, Proposal = MALA_MC, Acceptance = metropolis, Gap = 0.8541\n",
      "Starting problem instance 635 of 2000 with n = 5\n"
     ]
    },
    {
     "name": "stderr",
     "output_type": "stream",
     "text": [
      "100%|██████████| 1000/1000 [00:05<00:00, 189.41it/s]\n"
     ]
    },
    {
     "name": "stdout",
     "output_type": "stream",
     "text": [
      "\t\tTotal time for config: 5.287756681442261\n",
      "Instance 635, T = 1.0, Proposal = MALA_MC, Acceptance = metropolis, Gap = 0.2651\n",
      "Starting problem instance 636 of 2000 with n = 6\n"
     ]
    },
    {
     "name": "stderr",
     "output_type": "stream",
     "text": [
      "100%|██████████| 1000/1000 [00:05<00:00, 192.51it/s]\n"
     ]
    },
    {
     "name": "stdout",
     "output_type": "stream",
     "text": [
      "\t\tTotal time for config: 5.196656227111816\n",
      "Instance 636, T = 1.0, Proposal = MALA_MC, Acceptance = metropolis, Gap = 0.0373\n",
      "Starting problem instance 637 of 2000 with n = 7\n"
     ]
    },
    {
     "name": "stderr",
     "output_type": "stream",
     "text": [
      "100%|██████████| 1000/1000 [00:05<00:00, 170.63it/s]\n"
     ]
    },
    {
     "name": "stdout",
     "output_type": "stream",
     "text": [
      "\t\tTotal time for config: 5.86777663230896\n",
      "Instance 637, T = 1.0, Proposal = MALA_MC, Acceptance = metropolis, Gap = 0.0000\n",
      "Warning: Gap is very small, may be inaccurate.\n",
      "Starting problem instance 638 of 2000 with n = 8\n"
     ]
    },
    {
     "name": "stderr",
     "output_type": "stream",
     "text": [
      "100%|██████████| 1000/1000 [00:06<00:00, 144.57it/s]\n"
     ]
    },
    {
     "name": "stdout",
     "output_type": "stream",
     "text": [
      "\t\tTotal time for config: 6.926204681396484\n",
      "Instance 638, T = 1.0, Proposal = MALA_MC, Acceptance = metropolis, Gap = 0.0000\n",
      "Warning: Gap is very small, may be inaccurate.\n",
      "Starting problem instance 639 of 2000 with n = 9\n"
     ]
    },
    {
     "name": "stderr",
     "output_type": "stream",
     "text": [
      "100%|██████████| 1000/1000 [00:08<00:00, 114.90it/s]\n"
     ]
    },
    {
     "name": "stdout",
     "output_type": "stream",
     "text": [
      "\t\tTotal time for config: 8.703508138656616\n",
      "Instance 639, T = 1.0, Proposal = MALA_MC, Acceptance = metropolis, Gap = 0.0000\n",
      "Warning: Gap is very small, may be inaccurate.\n",
      "Starting problem instance 640 of 2000 with n = 10\n"
     ]
    },
    {
     "name": "stderr",
     "output_type": "stream",
     "text": [
      "100%|██████████| 1000/1000 [00:13<00:00, 74.89it/s]\n"
     ]
    },
    {
     "name": "stdout",
     "output_type": "stream",
     "text": [
      "\t\tTotal time for config: 13.35436725616455\n",
      "Instance 640, T = 1.0, Proposal = MALA_MC, Acceptance = metropolis, Gap = 0.0000\n",
      "Warning: Gap is very small, may be inaccurate.\n",
      "Starting problem instance 641 of 2000 with n = 3\n"
     ]
    },
    {
     "name": "stderr",
     "output_type": "stream",
     "text": [
      "100%|██████████| 1000/1000 [00:02<00:00, 429.33it/s]\n"
     ]
    },
    {
     "name": "stdout",
     "output_type": "stream",
     "text": [
      "\t\tTotal time for config: 2.3292179107666016\n",
      "Instance 641, T = 1.0, Proposal = MALA_MC, Acceptance = metropolis, Gap = 0.7211\n",
      "Starting problem instance 642 of 2000 with n = 4\n"
     ]
    },
    {
     "name": "stderr",
     "output_type": "stream",
     "text": [
      "100%|██████████| 1000/1000 [00:04<00:00, 238.29it/s]\n"
     ]
    },
    {
     "name": "stdout",
     "output_type": "stream",
     "text": [
      "\t\tTotal time for config: 4.2046849727630615\n",
      "Instance 642, T = 1.0, Proposal = MALA_MC, Acceptance = metropolis, Gap = 0.3133\n",
      "Starting problem instance 643 of 2000 with n = 5\n"
     ]
    },
    {
     "name": "stderr",
     "output_type": "stream",
     "text": [
      "100%|██████████| 1000/1000 [00:04<00:00, 220.79it/s]\n"
     ]
    },
    {
     "name": "stdout",
     "output_type": "stream",
     "text": [
      "\t\tTotal time for config: 4.538992643356323\n",
      "Instance 643, T = 1.0, Proposal = MALA_MC, Acceptance = metropolis, Gap = 0.8367\n",
      "Starting problem instance 644 of 2000 with n = 6\n"
     ]
    },
    {
     "name": "stderr",
     "output_type": "stream",
     "text": [
      "100%|██████████| 1000/1000 [00:05<00:00, 193.91it/s]\n"
     ]
    },
    {
     "name": "stdout",
     "output_type": "stream",
     "text": [
      "\t\tTotal time for config: 5.173234701156616\n",
      "Instance 644, T = 1.0, Proposal = MALA_MC, Acceptance = metropolis, Gap = 0.0000\n",
      "Warning: Gap is very small, may be inaccurate.\n",
      "Starting problem instance 645 of 2000 with n = 7\n"
     ]
    },
    {
     "name": "stderr",
     "output_type": "stream",
     "text": [
      "100%|██████████| 1000/1000 [00:05<00:00, 175.13it/s]\n"
     ]
    },
    {
     "name": "stdout",
     "output_type": "stream",
     "text": [
      "\t\tTotal time for config: 5.718364953994751\n",
      "Instance 645, T = 1.0, Proposal = MALA_MC, Acceptance = metropolis, Gap = 0.6752\n",
      "Starting problem instance 646 of 2000 with n = 8\n"
     ]
    },
    {
     "name": "stderr",
     "output_type": "stream",
     "text": [
      "100%|██████████| 1000/1000 [00:06<00:00, 149.63it/s]\n"
     ]
    },
    {
     "name": "stdout",
     "output_type": "stream",
     "text": [
      "\t\tTotal time for config: 6.69304084777832\n",
      "Instance 646, T = 1.0, Proposal = MALA_MC, Acceptance = metropolis, Gap = 0.0000\n",
      "Warning: Gap is very small, may be inaccurate.\n",
      "Starting problem instance 647 of 2000 with n = 9\n"
     ]
    },
    {
     "name": "stderr",
     "output_type": "stream",
     "text": [
      "100%|██████████| 1000/1000 [00:08<00:00, 116.01it/s]\n"
     ]
    },
    {
     "name": "stdout",
     "output_type": "stream",
     "text": [
      "\t\tTotal time for config: 8.630743980407715\n",
      "Instance 647, T = 1.0, Proposal = MALA_MC, Acceptance = metropolis, Gap = 0.0000\n",
      "Warning: Gap is very small, may be inaccurate.\n",
      "Starting problem instance 648 of 2000 with n = 10\n"
     ]
    },
    {
     "name": "stderr",
     "output_type": "stream",
     "text": [
      "100%|██████████| 1000/1000 [00:13<00:00, 73.51it/s]\n"
     ]
    },
    {
     "name": "stdout",
     "output_type": "stream",
     "text": [
      "\t\tTotal time for config: 13.610459804534912\n",
      "Instance 648, T = 1.0, Proposal = MALA_MC, Acceptance = metropolis, Gap = 0.0000\n",
      "Warning: Gap is very small, may be inaccurate.\n",
      "Starting problem instance 649 of 2000 with n = 3\n"
     ]
    },
    {
     "name": "stderr",
     "output_type": "stream",
     "text": [
      "100%|██████████| 1000/1000 [00:01<00:00, 502.41it/s]\n"
     ]
    },
    {
     "name": "stdout",
     "output_type": "stream",
     "text": [
      "\t\tTotal time for config: 1.9941504001617432\n",
      "Instance 649, T = 1.0, Proposal = MALA_MC, Acceptance = metropolis, Gap = 0.7637\n",
      "Starting problem instance 650 of 2000 with n = 4\n"
     ]
    },
    {
     "name": "stderr",
     "output_type": "stream",
     "text": [
      "100%|██████████| 1000/1000 [00:03<00:00, 257.07it/s]\n"
     ]
    },
    {
     "name": "stdout",
     "output_type": "stream",
     "text": [
      "\t\tTotal time for config: 3.895737648010254\n",
      "Instance 650, T = 1.0, Proposal = MALA_MC, Acceptance = metropolis, Gap = 0.3605\n",
      "Starting problem instance 651 of 2000 with n = 5\n"
     ]
    },
    {
     "name": "stderr",
     "output_type": "stream",
     "text": [
      "100%|██████████| 1000/1000 [00:05<00:00, 191.21it/s]\n"
     ]
    },
    {
     "name": "stdout",
     "output_type": "stream",
     "text": [
      "\t\tTotal time for config: 5.23620080947876\n",
      "Instance 651, T = 1.0, Proposal = MALA_MC, Acceptance = metropolis, Gap = 0.6141\n",
      "Starting problem instance 652 of 2000 with n = 6\n"
     ]
    },
    {
     "name": "stderr",
     "output_type": "stream",
     "text": [
      "100%|██████████| 1000/1000 [00:05<00:00, 179.98it/s]\n"
     ]
    },
    {
     "name": "stdout",
     "output_type": "stream",
     "text": [
      "\t\tTotal time for config: 5.564396381378174\n",
      "Instance 652, T = 1.0, Proposal = MALA_MC, Acceptance = metropolis, Gap = 0.0157\n",
      "Starting problem instance 653 of 2000 with n = 7\n"
     ]
    },
    {
     "name": "stderr",
     "output_type": "stream",
     "text": [
      "100%|██████████| 1000/1000 [00:05<00:00, 174.01it/s]\n"
     ]
    },
    {
     "name": "stdout",
     "output_type": "stream",
     "text": [
      "\t\tTotal time for config: 5.750256538391113\n",
      "Instance 653, T = 1.0, Proposal = MALA_MC, Acceptance = metropolis, Gap = 0.0000\n",
      "Warning: Gap is very small, may be inaccurate.\n",
      "Starting problem instance 654 of 2000 with n = 8\n"
     ]
    },
    {
     "name": "stderr",
     "output_type": "stream",
     "text": [
      "100%|██████████| 1000/1000 [00:07<00:00, 136.06it/s]\n"
     ]
    },
    {
     "name": "stdout",
     "output_type": "stream",
     "text": [
      "\t\tTotal time for config: 7.3494579792022705\n",
      "Instance 654, T = 1.0, Proposal = MALA_MC, Acceptance = metropolis, Gap = 0.0000\n",
      "Warning: Gap is very small, may be inaccurate.\n",
      "Starting problem instance 655 of 2000 with n = 9\n"
     ]
    },
    {
     "name": "stderr",
     "output_type": "stream",
     "text": [
      "100%|██████████| 1000/1000 [00:08<00:00, 119.30it/s]\n"
     ]
    },
    {
     "name": "stdout",
     "output_type": "stream",
     "text": [
      "\t\tTotal time for config: 8.38229751586914\n",
      "Instance 655, T = 1.0, Proposal = MALA_MC, Acceptance = metropolis, Gap = 0.0000\n",
      "Warning: Gap is very small, may be inaccurate.\n",
      "Starting problem instance 656 of 2000 with n = 10\n"
     ]
    },
    {
     "name": "stderr",
     "output_type": "stream",
     "text": [
      "100%|██████████| 1000/1000 [00:13<00:00, 75.91it/s]\n"
     ]
    },
    {
     "name": "stdout",
     "output_type": "stream",
     "text": [
      "\t\tTotal time for config: 13.174021482467651\n",
      "Instance 656, T = 1.0, Proposal = MALA_MC, Acceptance = metropolis, Gap = 0.0000\n",
      "Warning: Gap is very small, may be inaccurate.\n",
      "Starting problem instance 657 of 2000 with n = 3\n"
     ]
    },
    {
     "name": "stderr",
     "output_type": "stream",
     "text": [
      "100%|██████████| 1000/1000 [00:02<00:00, 387.94it/s]\n"
     ]
    },
    {
     "name": "stdout",
     "output_type": "stream",
     "text": [
      "\t\tTotal time for config: 2.5777041912078857\n",
      "Instance 657, T = 1.0, Proposal = MALA_MC, Acceptance = metropolis, Gap = 0.4689\n",
      "Starting problem instance 658 of 2000 with n = 4\n"
     ]
    },
    {
     "name": "stderr",
     "output_type": "stream",
     "text": [
      "100%|██████████| 1000/1000 [00:03<00:00, 268.94it/s]\n"
     ]
    },
    {
     "name": "stdout",
     "output_type": "stream",
     "text": [
      "\t\tTotal time for config: 3.7182462215423584\n",
      "Instance 658, T = 1.0, Proposal = MALA_MC, Acceptance = metropolis, Gap = 0.6347\n",
      "Starting problem instance 659 of 2000 with n = 5\n"
     ]
    },
    {
     "name": "stderr",
     "output_type": "stream",
     "text": [
      "100%|██████████| 1000/1000 [00:05<00:00, 191.11it/s]\n"
     ]
    },
    {
     "name": "stdout",
     "output_type": "stream",
     "text": [
      "\t\tTotal time for config: 5.23246431350708\n",
      "Instance 659, T = 1.0, Proposal = MALA_MC, Acceptance = metropolis, Gap = 0.5249\n",
      "Starting problem instance 660 of 2000 with n = 6\n"
     ]
    },
    {
     "name": "stderr",
     "output_type": "stream",
     "text": [
      "100%|██████████| 1000/1000 [00:05<00:00, 182.15it/s]\n"
     ]
    },
    {
     "name": "stdout",
     "output_type": "stream",
     "text": [
      "\t\tTotal time for config: 5.498523235321045\n",
      "Instance 660, T = 1.0, Proposal = MALA_MC, Acceptance = metropolis, Gap = 0.0004\n",
      "Starting problem instance 661 of 2000 with n = 7\n"
     ]
    },
    {
     "name": "stderr",
     "output_type": "stream",
     "text": [
      "100%|██████████| 1000/1000 [00:06<00:00, 161.25it/s]\n"
     ]
    },
    {
     "name": "stdout",
     "output_type": "stream",
     "text": [
      "\t\tTotal time for config: 6.209862470626831\n",
      "Instance 661, T = 1.0, Proposal = MALA_MC, Acceptance = metropolis, Gap = 0.0000\n",
      "Warning: Gap is very small, may be inaccurate.\n",
      "Starting problem instance 662 of 2000 with n = 8\n"
     ]
    },
    {
     "name": "stderr",
     "output_type": "stream",
     "text": [
      "100%|██████████| 1000/1000 [00:06<00:00, 147.39it/s]\n"
     ]
    },
    {
     "name": "stdout",
     "output_type": "stream",
     "text": [
      "\t\tTotal time for config: 6.793121576309204\n",
      "Instance 662, T = 1.0, Proposal = MALA_MC, Acceptance = metropolis, Gap = 0.0000\n",
      "Warning: Gap is very small, may be inaccurate.\n",
      "Starting problem instance 663 of 2000 with n = 9\n"
     ]
    },
    {
     "name": "stderr",
     "output_type": "stream",
     "text": [
      "100%|██████████| 1000/1000 [00:08<00:00, 121.78it/s]\n"
     ]
    },
    {
     "name": "stdout",
     "output_type": "stream",
     "text": [
      "\t\tTotal time for config: 8.215220212936401\n",
      "Instance 663, T = 1.0, Proposal = MALA_MC, Acceptance = metropolis, Gap = 0.0000\n",
      "Warning: Gap is very small, may be inaccurate.\n",
      "Starting problem instance 664 of 2000 with n = 10\n"
     ]
    },
    {
     "name": "stderr",
     "output_type": "stream",
     "text": [
      "100%|██████████| 1000/1000 [00:13<00:00, 74.36it/s]\n"
     ]
    },
    {
     "name": "stdout",
     "output_type": "stream",
     "text": [
      "\t\tTotal time for config: 13.45346212387085\n",
      "Instance 664, T = 1.0, Proposal = MALA_MC, Acceptance = metropolis, Gap = 0.0000\n",
      "Warning: Gap is very small, may be inaccurate.\n",
      "Starting problem instance 665 of 2000 with n = 3\n"
     ]
    },
    {
     "name": "stderr",
     "output_type": "stream",
     "text": [
      "100%|██████████| 1000/1000 [00:02<00:00, 413.70it/s]\n"
     ]
    },
    {
     "name": "stdout",
     "output_type": "stream",
     "text": [
      "\t\tTotal time for config: 2.4255764484405518\n",
      "Instance 665, T = 1.0, Proposal = MALA_MC, Acceptance = metropolis, Gap = 0.5151\n",
      "Starting problem instance 666 of 2000 with n = 4\n"
     ]
    },
    {
     "name": "stderr",
     "output_type": "stream",
     "text": [
      "100%|██████████| 1000/1000 [00:03<00:00, 269.23it/s]\n"
     ]
    },
    {
     "name": "stdout",
     "output_type": "stream",
     "text": [
      "\t\tTotal time for config: 3.7142486572265625\n",
      "Instance 666, T = 1.0, Proposal = MALA_MC, Acceptance = metropolis, Gap = 0.5263\n",
      "Starting problem instance 667 of 2000 with n = 5\n"
     ]
    },
    {
     "name": "stderr",
     "output_type": "stream",
     "text": [
      "100%|██████████| 1000/1000 [00:05<00:00, 196.13it/s]\n"
     ]
    },
    {
     "name": "stdout",
     "output_type": "stream",
     "text": [
      "\t\tTotal time for config: 5.107399225234985\n",
      "Instance 667, T = 1.0, Proposal = MALA_MC, Acceptance = metropolis, Gap = 0.0652\n",
      "Starting problem instance 668 of 2000 with n = 6\n"
     ]
    },
    {
     "name": "stderr",
     "output_type": "stream",
     "text": [
      "100%|██████████| 1000/1000 [00:05<00:00, 189.76it/s]\n"
     ]
    },
    {
     "name": "stdout",
     "output_type": "stream",
     "text": [
      "\t\tTotal time for config: 5.278152942657471\n",
      "Instance 668, T = 1.0, Proposal = MALA_MC, Acceptance = metropolis, Gap = 0.5710\n",
      "Starting problem instance 669 of 2000 with n = 7\n"
     ]
    },
    {
     "name": "stderr",
     "output_type": "stream",
     "text": [
      "100%|██████████| 1000/1000 [00:05<00:00, 171.26it/s]\n"
     ]
    },
    {
     "name": "stdout",
     "output_type": "stream",
     "text": [
      "\t\tTotal time for config: 5.841638088226318\n",
      "Instance 669, T = 1.0, Proposal = MALA_MC, Acceptance = metropolis, Gap = 0.0000\n",
      "Warning: Gap is very small, may be inaccurate.\n",
      "Starting problem instance 670 of 2000 with n = 8\n"
     ]
    },
    {
     "name": "stderr",
     "output_type": "stream",
     "text": [
      "100%|██████████| 1000/1000 [00:06<00:00, 145.94it/s]\n"
     ]
    },
    {
     "name": "stdout",
     "output_type": "stream",
     "text": [
      "\t\tTotal time for config: 6.865137577056885\n",
      "Instance 670, T = 1.0, Proposal = MALA_MC, Acceptance = metropolis, Gap = 0.0000\n",
      "Warning: Gap is very small, may be inaccurate.\n",
      "Starting problem instance 671 of 2000 with n = 9\n"
     ]
    },
    {
     "name": "stderr",
     "output_type": "stream",
     "text": [
      "100%|██████████| 1000/1000 [00:08<00:00, 115.06it/s]\n"
     ]
    },
    {
     "name": "stdout",
     "output_type": "stream",
     "text": [
      "\t\tTotal time for config: 8.699042558670044\n",
      "Instance 671, T = 1.0, Proposal = MALA_MC, Acceptance = metropolis, Gap = 0.0000\n",
      "Warning: Gap is very small, may be inaccurate.\n",
      "Starting problem instance 672 of 2000 with n = 10\n"
     ]
    },
    {
     "name": "stderr",
     "output_type": "stream",
     "text": [
      "100%|██████████| 1000/1000 [00:13<00:00, 71.63it/s]\n"
     ]
    },
    {
     "name": "stdout",
     "output_type": "stream",
     "text": [
      "\t\tTotal time for config: 13.963238716125488\n",
      "Instance 672, T = 1.0, Proposal = MALA_MC, Acceptance = metropolis, Gap = 0.0000\n",
      "Warning: Gap is very small, may be inaccurate.\n",
      "Starting problem instance 673 of 2000 with n = 3\n"
     ]
    },
    {
     "name": "stderr",
     "output_type": "stream",
     "text": [
      "100%|██████████| 1000/1000 [00:02<00:00, 415.40it/s]\n"
     ]
    },
    {
     "name": "stdout",
     "output_type": "stream",
     "text": [
      "\t\tTotal time for config: 2.4150898456573486\n",
      "Instance 673, T = 1.0, Proposal = MALA_MC, Acceptance = metropolis, Gap = 0.7769\n",
      "Starting problem instance 674 of 2000 with n = 4\n"
     ]
    },
    {
     "name": "stderr",
     "output_type": "stream",
     "text": [
      "100%|██████████| 1000/1000 [00:03<00:00, 260.26it/s]\n"
     ]
    },
    {
     "name": "stdout",
     "output_type": "stream",
     "text": [
      "\t\tTotal time for config: 3.8502626419067383\n",
      "Instance 674, T = 1.0, Proposal = MALA_MC, Acceptance = metropolis, Gap = 0.1200\n",
      "Starting problem instance 675 of 2000 with n = 5\n"
     ]
    },
    {
     "name": "stderr",
     "output_type": "stream",
     "text": [
      "100%|██████████| 1000/1000 [00:04<00:00, 215.93it/s]\n"
     ]
    },
    {
     "name": "stdout",
     "output_type": "stream",
     "text": [
      "\t\tTotal time for config: 4.631035327911377\n",
      "Instance 675, T = 1.0, Proposal = MALA_MC, Acceptance = metropolis, Gap = 0.2504\n",
      "Starting problem instance 676 of 2000 with n = 6\n"
     ]
    },
    {
     "name": "stderr",
     "output_type": "stream",
     "text": [
      "100%|██████████| 1000/1000 [00:04<00:00, 204.34it/s]\n"
     ]
    },
    {
     "name": "stdout",
     "output_type": "stream",
     "text": [
      "\t\tTotal time for config: 4.897353410720825\n",
      "Instance 676, T = 1.0, Proposal = MALA_MC, Acceptance = metropolis, Gap = 0.0000\n",
      "Warning: Gap is very small, may be inaccurate.\n",
      "Starting problem instance 677 of 2000 with n = 7\n"
     ]
    },
    {
     "name": "stderr",
     "output_type": "stream",
     "text": [
      "100%|██████████| 1000/1000 [00:05<00:00, 182.06it/s]\n"
     ]
    },
    {
     "name": "stdout",
     "output_type": "stream",
     "text": [
      "\t\tTotal time for config: 5.492680788040161\n",
      "Instance 677, T = 1.0, Proposal = MALA_MC, Acceptance = metropolis, Gap = 0.0000\n",
      "Warning: Gap is very small, may be inaccurate.\n",
      "Starting problem instance 678 of 2000 with n = 8\n"
     ]
    },
    {
     "name": "stderr",
     "output_type": "stream",
     "text": [
      "100%|██████████| 1000/1000 [00:06<00:00, 152.81it/s]\n"
     ]
    },
    {
     "name": "stdout",
     "output_type": "stream",
     "text": [
      "\t\tTotal time for config: 6.544040203094482\n",
      "Instance 678, T = 1.0, Proposal = MALA_MC, Acceptance = metropolis, Gap = 0.0000\n",
      "Warning: Gap is very small, may be inaccurate.\n",
      "Starting problem instance 679 of 2000 with n = 9\n"
     ]
    },
    {
     "name": "stderr",
     "output_type": "stream",
     "text": [
      "100%|██████████| 1000/1000 [00:08<00:00, 116.43it/s]\n"
     ]
    },
    {
     "name": "stdout",
     "output_type": "stream",
     "text": [
      "\t\tTotal time for config: 8.588774919509888\n",
      "Instance 679, T = 1.0, Proposal = MALA_MC, Acceptance = metropolis, Gap = 0.0000\n",
      "Warning: Gap is very small, may be inaccurate.\n",
      "Starting problem instance 680 of 2000 with n = 10\n"
     ]
    },
    {
     "name": "stderr",
     "output_type": "stream",
     "text": [
      "100%|██████████| 1000/1000 [00:13<00:00, 75.39it/s]\n"
     ]
    },
    {
     "name": "stdout",
     "output_type": "stream",
     "text": [
      "\t\tTotal time for config: 13.271533250808716\n",
      "Instance 680, T = 1.0, Proposal = MALA_MC, Acceptance = metropolis, Gap = 0.0000\n",
      "Warning: Gap is very small, may be inaccurate.\n",
      "Starting problem instance 681 of 2000 with n = 3\n"
     ]
    },
    {
     "name": "stderr",
     "output_type": "stream",
     "text": [
      "100%|██████████| 1000/1000 [00:02<00:00, 411.84it/s]\n"
     ]
    },
    {
     "name": "stdout",
     "output_type": "stream",
     "text": [
      "\t\tTotal time for config: 2.436941623687744\n",
      "Instance 681, T = 1.0, Proposal = MALA_MC, Acceptance = metropolis, Gap = 0.7946\n",
      "Starting problem instance 682 of 2000 with n = 4\n"
     ]
    },
    {
     "name": "stderr",
     "output_type": "stream",
     "text": [
      "100%|██████████| 1000/1000 [00:03<00:00, 253.72it/s]\n"
     ]
    },
    {
     "name": "stdout",
     "output_type": "stream",
     "text": [
      "\t\tTotal time for config: 3.943739175796509\n",
      "Instance 682, T = 1.0, Proposal = MALA_MC, Acceptance = metropolis, Gap = 0.8028\n",
      "Starting problem instance 683 of 2000 with n = 5\n"
     ]
    },
    {
     "name": "stderr",
     "output_type": "stream",
     "text": [
      "100%|██████████| 1000/1000 [00:05<00:00, 194.00it/s]\n"
     ]
    },
    {
     "name": "stdout",
     "output_type": "stream",
     "text": [
      "\t\tTotal time for config: 5.163619756698608\n",
      "Instance 683, T = 1.0, Proposal = MALA_MC, Acceptance = metropolis, Gap = 0.6359\n",
      "Starting problem instance 684 of 2000 with n = 6\n"
     ]
    },
    {
     "name": "stderr",
     "output_type": "stream",
     "text": [
      "100%|██████████| 1000/1000 [00:05<00:00, 183.47it/s]\n"
     ]
    },
    {
     "name": "stdout",
     "output_type": "stream",
     "text": [
      "\t\tTotal time for config: 5.460891246795654\n",
      "Instance 684, T = 1.0, Proposal = MALA_MC, Acceptance = metropolis, Gap = 0.0014\n",
      "Starting problem instance 685 of 2000 with n = 7\n"
     ]
    },
    {
     "name": "stderr",
     "output_type": "stream",
     "text": [
      "100%|██████████| 1000/1000 [00:05<00:00, 169.41it/s]\n"
     ]
    },
    {
     "name": "stdout",
     "output_type": "stream",
     "text": [
      "\t\tTotal time for config: 5.912399053573608\n",
      "Instance 685, T = 1.0, Proposal = MALA_MC, Acceptance = metropolis, Gap = 0.0000\n",
      "Warning: Gap is very small, may be inaccurate.\n",
      "Starting problem instance 686 of 2000 with n = 8\n"
     ]
    },
    {
     "name": "stderr",
     "output_type": "stream",
     "text": [
      "100%|██████████| 1000/1000 [00:06<00:00, 144.94it/s]\n"
     ]
    },
    {
     "name": "stdout",
     "output_type": "stream",
     "text": [
      "\t\tTotal time for config: 6.903706312179565\n",
      "Instance 686, T = 1.0, Proposal = MALA_MC, Acceptance = metropolis, Gap = 0.0000\n",
      "Warning: Gap is very small, may be inaccurate.\n",
      "Starting problem instance 687 of 2000 with n = 9\n"
     ]
    },
    {
     "name": "stderr",
     "output_type": "stream",
     "text": [
      "100%|██████████| 1000/1000 [00:07<00:00, 125.39it/s]\n"
     ]
    },
    {
     "name": "stdout",
     "output_type": "stream",
     "text": [
      "\t\tTotal time for config: 7.982893943786621\n",
      "Instance 687, T = 1.0, Proposal = MALA_MC, Acceptance = metropolis, Gap = 0.0000\n",
      "Warning: Gap is very small, may be inaccurate.\n",
      "Starting problem instance 688 of 2000 with n = 10\n"
     ]
    },
    {
     "name": "stderr",
     "output_type": "stream",
     "text": [
      "100%|██████████| 1000/1000 [00:13<00:00, 74.71it/s]\n"
     ]
    },
    {
     "name": "stdout",
     "output_type": "stream",
     "text": [
      "\t\tTotal time for config: 13.392101049423218\n",
      "Instance 688, T = 1.0, Proposal = MALA_MC, Acceptance = metropolis, Gap = 0.0000\n",
      "Warning: Gap is very small, may be inaccurate.\n",
      "Starting problem instance 689 of 2000 with n = 3\n"
     ]
    },
    {
     "name": "stderr",
     "output_type": "stream",
     "text": [
      "100%|██████████| 1000/1000 [00:02<00:00, 392.24it/s]\n"
     ]
    },
    {
     "name": "stdout",
     "output_type": "stream",
     "text": [
      "\t\tTotal time for config: 2.5659806728363037\n",
      "Instance 689, T = 1.0, Proposal = MALA_MC, Acceptance = metropolis, Gap = 0.2756\n",
      "Starting problem instance 690 of 2000 with n = 4\n"
     ]
    },
    {
     "name": "stderr",
     "output_type": "stream",
     "text": [
      "100%|██████████| 1000/1000 [00:03<00:00, 270.49it/s]\n"
     ]
    },
    {
     "name": "stdout",
     "output_type": "stream",
     "text": [
      "\t\tTotal time for config: 3.703198194503784\n",
      "Instance 690, T = 1.0, Proposal = MALA_MC, Acceptance = metropolis, Gap = 0.0004\n",
      "Starting problem instance 691 of 2000 with n = 5\n"
     ]
    },
    {
     "name": "stderr",
     "output_type": "stream",
     "text": [
      "100%|██████████| 1000/1000 [00:04<00:00, 204.44it/s]\n"
     ]
    },
    {
     "name": "stdout",
     "output_type": "stream",
     "text": [
      "\t\tTotal time for config: 4.891420364379883\n",
      "Instance 691, T = 1.0, Proposal = MALA_MC, Acceptance = metropolis, Gap = 0.0226\n",
      "Starting problem instance 692 of 2000 with n = 6\n"
     ]
    },
    {
     "name": "stderr",
     "output_type": "stream",
     "text": [
      "100%|██████████| 1000/1000 [00:05<00:00, 190.61it/s]\n"
     ]
    },
    {
     "name": "stdout",
     "output_type": "stream",
     "text": [
      "\t\tTotal time for config: 5.2462849617004395\n",
      "Instance 692, T = 1.0, Proposal = MALA_MC, Acceptance = metropolis, Gap = 0.1617\n",
      "Starting problem instance 693 of 2000 with n = 7\n"
     ]
    },
    {
     "name": "stderr",
     "output_type": "stream",
     "text": [
      "100%|██████████| 1000/1000 [00:05<00:00, 178.68it/s]\n"
     ]
    },
    {
     "name": "stdout",
     "output_type": "stream",
     "text": [
      "\t\tTotal time for config: 5.604752540588379\n",
      "Instance 693, T = 1.0, Proposal = MALA_MC, Acceptance = metropolis, Gap = 0.0000\n",
      "Warning: Gap is very small, may be inaccurate.\n",
      "Starting problem instance 694 of 2000 with n = 8\n"
     ]
    },
    {
     "name": "stderr",
     "output_type": "stream",
     "text": [
      "100%|██████████| 1000/1000 [00:07<00:00, 141.62it/s]\n"
     ]
    },
    {
     "name": "stdout",
     "output_type": "stream",
     "text": [
      "\t\tTotal time for config: 7.071696043014526\n",
      "Instance 694, T = 1.0, Proposal = MALA_MC, Acceptance = metropolis, Gap = 0.0000\n",
      "Warning: Gap is very small, may be inaccurate.\n",
      "Starting problem instance 695 of 2000 with n = 9\n"
     ]
    },
    {
     "name": "stderr",
     "output_type": "stream",
     "text": [
      "100%|██████████| 1000/1000 [00:08<00:00, 122.56it/s]\n"
     ]
    },
    {
     "name": "stdout",
     "output_type": "stream",
     "text": [
      "\t\tTotal time for config: 8.158971071243286\n",
      "Instance 695, T = 1.0, Proposal = MALA_MC, Acceptance = metropolis, Gap = 0.0000\n",
      "Warning: Gap is very small, may be inaccurate.\n",
      "Starting problem instance 696 of 2000 with n = 10\n"
     ]
    },
    {
     "name": "stderr",
     "output_type": "stream",
     "text": [
      "100%|██████████| 1000/1000 [00:14<00:00, 68.98it/s]\n"
     ]
    },
    {
     "name": "stdout",
     "output_type": "stream",
     "text": [
      "\t\tTotal time for config: 14.502583265304565\n",
      "Instance 696, T = 1.0, Proposal = MALA_MC, Acceptance = metropolis, Gap = 0.0000\n",
      "Warning: Gap is very small, may be inaccurate.\n",
      "Starting problem instance 697 of 2000 with n = 3\n"
     ]
    },
    {
     "name": "stderr",
     "output_type": "stream",
     "text": [
      "100%|██████████| 1000/1000 [00:02<00:00, 402.61it/s]\n"
     ]
    },
    {
     "name": "stdout",
     "output_type": "stream",
     "text": [
      "\t\tTotal time for config: 2.491978168487549\n",
      "Instance 697, T = 1.0, Proposal = MALA_MC, Acceptance = metropolis, Gap = 0.7541\n",
      "Starting problem instance 698 of 2000 with n = 4\n"
     ]
    },
    {
     "name": "stderr",
     "output_type": "stream",
     "text": [
      "100%|██████████| 1000/1000 [00:03<00:00, 285.81it/s]\n"
     ]
    },
    {
     "name": "stdout",
     "output_type": "stream",
     "text": [
      "\t\tTotal time for config: 3.5076487064361572\n",
      "Instance 698, T = 1.0, Proposal = MALA_MC, Acceptance = metropolis, Gap = 0.7492\n",
      "Starting problem instance 699 of 2000 with n = 5\n"
     ]
    },
    {
     "name": "stderr",
     "output_type": "stream",
     "text": [
      "100%|██████████| 1000/1000 [00:05<00:00, 194.64it/s]\n"
     ]
    },
    {
     "name": "stdout",
     "output_type": "stream",
     "text": [
      "\t\tTotal time for config: 5.146078586578369\n",
      "Instance 699, T = 1.0, Proposal = MALA_MC, Acceptance = metropolis, Gap = 0.0029\n",
      "Starting problem instance 700 of 2000 with n = 6\n"
     ]
    },
    {
     "name": "stderr",
     "output_type": "stream",
     "text": [
      "100%|██████████| 1000/1000 [00:05<00:00, 182.69it/s]\n"
     ]
    },
    {
     "name": "stdout",
     "output_type": "stream",
     "text": [
      "\t\tTotal time for config: 5.473640203475952\n",
      "Instance 700, T = 1.0, Proposal = MALA_MC, Acceptance = metropolis, Gap = 0.0064\n",
      "Starting problem instance 701 of 2000 with n = 7\n"
     ]
    },
    {
     "name": "stderr",
     "output_type": "stream",
     "text": [
      "100%|██████████| 1000/1000 [00:05<00:00, 177.65it/s]\n"
     ]
    },
    {
     "name": "stdout",
     "output_type": "stream",
     "text": [
      "\t\tTotal time for config: 5.637037992477417\n",
      "Instance 701, T = 1.0, Proposal = MALA_MC, Acceptance = metropolis, Gap = 0.2449\n",
      "Starting problem instance 702 of 2000 with n = 8\n"
     ]
    },
    {
     "name": "stderr",
     "output_type": "stream",
     "text": [
      "100%|██████████| 1000/1000 [00:06<00:00, 149.50it/s]\n"
     ]
    },
    {
     "name": "stdout",
     "output_type": "stream",
     "text": [
      "\t\tTotal time for config: 6.689064979553223\n",
      "Instance 702, T = 1.0, Proposal = MALA_MC, Acceptance = metropolis, Gap = 0.0000\n",
      "Warning: Gap is very small, may be inaccurate.\n",
      "Starting problem instance 703 of 2000 with n = 9\n"
     ]
    },
    {
     "name": "stderr",
     "output_type": "stream",
     "text": [
      "100%|██████████| 1000/1000 [00:08<00:00, 116.94it/s]\n"
     ]
    },
    {
     "name": "stdout",
     "output_type": "stream",
     "text": [
      "\t\tTotal time for config: 8.559536695480347\n",
      "Instance 703, T = 1.0, Proposal = MALA_MC, Acceptance = metropolis, Gap = 0.0000\n",
      "Warning: Gap is very small, may be inaccurate.\n",
      "Starting problem instance 704 of 2000 with n = 10\n"
     ]
    },
    {
     "name": "stderr",
     "output_type": "stream",
     "text": [
      "100%|██████████| 1000/1000 [00:14<00:00, 69.88it/s]\n"
     ]
    },
    {
     "name": "stdout",
     "output_type": "stream",
     "text": [
      "\t\tTotal time for config: 14.311180353164673\n",
      "Instance 704, T = 1.0, Proposal = MALA_MC, Acceptance = metropolis, Gap = 0.0000\n",
      "Warning: Gap is very small, may be inaccurate.\n",
      "Starting problem instance 705 of 2000 with n = 3\n"
     ]
    },
    {
     "name": "stderr",
     "output_type": "stream",
     "text": [
      "100%|██████████| 1000/1000 [00:02<00:00, 406.27it/s]\n"
     ]
    },
    {
     "name": "stdout",
     "output_type": "stream",
     "text": [
      "\t\tTotal time for config: 2.469627857208252\n",
      "Instance 705, T = 1.0, Proposal = MALA_MC, Acceptance = metropolis, Gap = 0.6133\n",
      "Starting problem instance 706 of 2000 with n = 4\n"
     ]
    },
    {
     "name": "stderr",
     "output_type": "stream",
     "text": [
      "100%|██████████| 1000/1000 [00:04<00:00, 246.74it/s]\n"
     ]
    },
    {
     "name": "stdout",
     "output_type": "stream",
     "text": [
      "\t\tTotal time for config: 4.05288290977478\n",
      "Instance 706, T = 1.0, Proposal = MALA_MC, Acceptance = metropolis, Gap = 0.8547\n",
      "Starting problem instance 707 of 2000 with n = 5\n"
     ]
    },
    {
     "name": "stderr",
     "output_type": "stream",
     "text": [
      "100%|██████████| 1000/1000 [00:04<00:00, 210.76it/s]\n"
     ]
    },
    {
     "name": "stdout",
     "output_type": "stream",
     "text": [
      "\t\tTotal time for config: 4.744768381118774\n",
      "Instance 707, T = 1.0, Proposal = MALA_MC, Acceptance = metropolis, Gap = 0.0187\n",
      "Starting problem instance 708 of 2000 with n = 6\n"
     ]
    },
    {
     "name": "stderr",
     "output_type": "stream",
     "text": [
      "100%|██████████| 1000/1000 [00:05<00:00, 196.89it/s]\n"
     ]
    },
    {
     "name": "stdout",
     "output_type": "stream",
     "text": [
      "\t\tTotal time for config: 5.087105751037598\n",
      "Instance 708, T = 1.0, Proposal = MALA_MC, Acceptance = metropolis, Gap = 0.4186\n",
      "Starting problem instance 709 of 2000 with n = 7\n"
     ]
    },
    {
     "name": "stderr",
     "output_type": "stream",
     "text": [
      "100%|██████████| 1000/1000 [00:05<00:00, 195.32it/s]\n"
     ]
    },
    {
     "name": "stdout",
     "output_type": "stream",
     "text": [
      "\t\tTotal time for config: 5.119901180267334\n",
      "Instance 709, T = 1.0, Proposal = MALA_MC, Acceptance = metropolis, Gap = 0.0000\n",
      "Warning: Gap is very small, may be inaccurate.\n",
      "Starting problem instance 710 of 2000 with n = 8\n"
     ]
    },
    {
     "name": "stderr",
     "output_type": "stream",
     "text": [
      "100%|██████████| 1000/1000 [00:06<00:00, 162.53it/s]\n"
     ]
    },
    {
     "name": "stdout",
     "output_type": "stream",
     "text": [
      "\t\tTotal time for config: 6.168928384780884\n",
      "Instance 710, T = 1.0, Proposal = MALA_MC, Acceptance = metropolis, Gap = 0.0000\n",
      "Warning: Gap is very small, may be inaccurate.\n",
      "Starting problem instance 711 of 2000 with n = 9\n"
     ]
    },
    {
     "name": "stderr",
     "output_type": "stream",
     "text": [
      "100%|██████████| 1000/1000 [00:08<00:00, 117.11it/s]\n"
     ]
    },
    {
     "name": "stdout",
     "output_type": "stream",
     "text": [
      "\t\tTotal time for config: 8.547331809997559\n",
      "Instance 711, T = 1.0, Proposal = MALA_MC, Acceptance = metropolis, Gap = 0.0000\n",
      "Warning: Gap is very small, may be inaccurate.\n",
      "Starting problem instance 712 of 2000 with n = 10\n"
     ]
    },
    {
     "name": "stderr",
     "output_type": "stream",
     "text": [
      "100%|██████████| 1000/1000 [00:13<00:00, 73.80it/s]\n"
     ]
    },
    {
     "name": "stdout",
     "output_type": "stream",
     "text": [
      "\t\tTotal time for config: 13.557409763336182\n",
      "Instance 712, T = 1.0, Proposal = MALA_MC, Acceptance = metropolis, Gap = 0.0000\n",
      "Warning: Gap is very small, may be inaccurate.\n",
      "Starting problem instance 713 of 2000 with n = 3\n"
     ]
    },
    {
     "name": "stderr",
     "output_type": "stream",
     "text": [
      "100%|██████████| 1000/1000 [00:02<00:00, 433.68it/s]\n"
     ]
    },
    {
     "name": "stdout",
     "output_type": "stream",
     "text": [
      "\t\tTotal time for config: 2.305860757827759\n",
      "Instance 713, T = 1.0, Proposal = MALA_MC, Acceptance = metropolis, Gap = 0.8167\n",
      "Starting problem instance 714 of 2000 with n = 4\n"
     ]
    },
    {
     "name": "stderr",
     "output_type": "stream",
     "text": [
      "100%|██████████| 1000/1000 [00:04<00:00, 248.73it/s]\n"
     ]
    },
    {
     "name": "stdout",
     "output_type": "stream",
     "text": [
      "\t\tTotal time for config: 4.020363807678223\n",
      "Instance 714, T = 1.0, Proposal = MALA_MC, Acceptance = metropolis, Gap = 0.4979\n",
      "Starting problem instance 715 of 2000 with n = 5\n"
     ]
    },
    {
     "name": "stderr",
     "output_type": "stream",
     "text": [
      "100%|██████████| 1000/1000 [00:05<00:00, 193.32it/s]\n"
     ]
    },
    {
     "name": "stdout",
     "output_type": "stream",
     "text": [
      "\t\tTotal time for config: 5.189189434051514\n",
      "Instance 715, T = 1.0, Proposal = MALA_MC, Acceptance = metropolis, Gap = 0.0000\n",
      "Warning: Gap is very small, may be inaccurate.\n",
      "Starting problem instance 716 of 2000 with n = 6\n"
     ]
    },
    {
     "name": "stderr",
     "output_type": "stream",
     "text": [
      "100%|██████████| 1000/1000 [00:05<00:00, 191.58it/s]\n"
     ]
    },
    {
     "name": "stdout",
     "output_type": "stream",
     "text": [
      "\t\tTotal time for config: 5.228087425231934\n",
      "Instance 716, T = 1.0, Proposal = MALA_MC, Acceptance = metropolis, Gap = 0.4522\n",
      "Starting problem instance 717 of 2000 with n = 7\n"
     ]
    },
    {
     "name": "stderr",
     "output_type": "stream",
     "text": [
      "100%|██████████| 1000/1000 [00:05<00:00, 185.67it/s]\n"
     ]
    },
    {
     "name": "stdout",
     "output_type": "stream",
     "text": [
      "\t\tTotal time for config: 5.385911226272583\n",
      "Instance 717, T = 1.0, Proposal = MALA_MC, Acceptance = metropolis, Gap = 0.0000\n",
      "Warning: Gap is very small, may be inaccurate.\n",
      "Starting problem instance 718 of 2000 with n = 8\n"
     ]
    },
    {
     "name": "stderr",
     "output_type": "stream",
     "text": [
      "100%|██████████| 1000/1000 [00:06<00:00, 152.77it/s]\n"
     ]
    },
    {
     "name": "stdout",
     "output_type": "stream",
     "text": [
      "\t\tTotal time for config: 6.562706232070923\n",
      "Instance 718, T = 1.0, Proposal = MALA_MC, Acceptance = metropolis, Gap = 0.0000\n",
      "Warning: Gap is very small, may be inaccurate.\n",
      "Starting problem instance 719 of 2000 with n = 9\n"
     ]
    },
    {
     "name": "stderr",
     "output_type": "stream",
     "text": [
      "100%|██████████| 1000/1000 [00:08<00:00, 124.98it/s]\n"
     ]
    },
    {
     "name": "stdout",
     "output_type": "stream",
     "text": [
      "\t\tTotal time for config: 8.00972056388855\n",
      "Instance 719, T = 1.0, Proposal = MALA_MC, Acceptance = metropolis, Gap = 0.0000\n",
      "Warning: Gap is very small, may be inaccurate.\n",
      "Starting problem instance 720 of 2000 with n = 10\n"
     ]
    },
    {
     "name": "stderr",
     "output_type": "stream",
     "text": [
      "100%|██████████| 1000/1000 [00:13<00:00, 72.39it/s]\n"
     ]
    },
    {
     "name": "stdout",
     "output_type": "stream",
     "text": [
      "\t\tTotal time for config: 13.821338891983032\n",
      "Instance 720, T = 1.0, Proposal = MALA_MC, Acceptance = metropolis, Gap = 0.0000\n",
      "Warning: Gap is very small, may be inaccurate.\n",
      "Starting problem instance 721 of 2000 with n = 3\n"
     ]
    },
    {
     "name": "stderr",
     "output_type": "stream",
     "text": [
      "100%|██████████| 1000/1000 [00:02<00:00, 414.17it/s]\n"
     ]
    },
    {
     "name": "stdout",
     "output_type": "stream",
     "text": [
      "\t\tTotal time for config: 2.416668653488159\n",
      "Instance 721, T = 1.0, Proposal = MALA_MC, Acceptance = metropolis, Gap = 0.0000\n",
      "Warning: Gap is very small, may be inaccurate.\n",
      "Starting problem instance 722 of 2000 with n = 4\n"
     ]
    },
    {
     "name": "stderr",
     "output_type": "stream",
     "text": [
      "100%|██████████| 1000/1000 [00:03<00:00, 323.65it/s]\n"
     ]
    },
    {
     "name": "stdout",
     "output_type": "stream",
     "text": [
      "\t\tTotal time for config: 3.0897979736328125\n",
      "Instance 722, T = 1.0, Proposal = MALA_MC, Acceptance = metropolis, Gap = 0.4027\n",
      "Starting problem instance 723 of 2000 with n = 5\n"
     ]
    },
    {
     "name": "stderr",
     "output_type": "stream",
     "text": [
      "100%|██████████| 1000/1000 [00:04<00:00, 220.62it/s]\n"
     ]
    },
    {
     "name": "stdout",
     "output_type": "stream",
     "text": [
      "\t\tTotal time for config: 4.532639980316162\n",
      "Instance 723, T = 1.0, Proposal = MALA_MC, Acceptance = metropolis, Gap = 0.4930\n",
      "Starting problem instance 724 of 2000 with n = 6\n"
     ]
    },
    {
     "name": "stderr",
     "output_type": "stream",
     "text": [
      "100%|██████████| 1000/1000 [00:05<00:00, 179.94it/s]\n"
     ]
    },
    {
     "name": "stdout",
     "output_type": "stream",
     "text": [
      "\t\tTotal time for config: 5.5574188232421875\n",
      "Instance 724, T = 1.0, Proposal = MALA_MC, Acceptance = metropolis, Gap = 0.5497\n",
      "Starting problem instance 725 of 2000 with n = 7\n"
     ]
    },
    {
     "name": "stderr",
     "output_type": "stream",
     "text": [
      "100%|██████████| 1000/1000 [00:05<00:00, 181.69it/s]\n"
     ]
    },
    {
     "name": "stdout",
     "output_type": "stream",
     "text": [
      "\t\tTotal time for config: 5.503950119018555\n",
      "Instance 725, T = 1.0, Proposal = MALA_MC, Acceptance = metropolis, Gap = 0.0000\n",
      "Starting problem instance 726 of 2000 with n = 8\n"
     ]
    },
    {
     "name": "stderr",
     "output_type": "stream",
     "text": [
      "100%|██████████| 1000/1000 [00:06<00:00, 146.93it/s]\n"
     ]
    },
    {
     "name": "stdout",
     "output_type": "stream",
     "text": [
      "\t\tTotal time for config: 6.806020975112915\n",
      "Instance 726, T = 1.0, Proposal = MALA_MC, Acceptance = metropolis, Gap = 0.0000\n",
      "Warning: Gap is very small, may be inaccurate.\n",
      "Starting problem instance 727 of 2000 with n = 9\n"
     ]
    },
    {
     "name": "stderr",
     "output_type": "stream",
     "text": [
      "100%|██████████| 1000/1000 [00:07<00:00, 125.84it/s]\n"
     ]
    },
    {
     "name": "stdout",
     "output_type": "stream",
     "text": [
      "\t\tTotal time for config: 7.962493658065796\n",
      "Instance 727, T = 1.0, Proposal = MALA_MC, Acceptance = metropolis, Gap = 0.0000\n",
      "Warning: Gap is very small, may be inaccurate.\n",
      "Starting problem instance 728 of 2000 with n = 10\n"
     ]
    },
    {
     "name": "stderr",
     "output_type": "stream",
     "text": [
      "100%|██████████| 1000/1000 [00:13<00:00, 76.19it/s]\n"
     ]
    },
    {
     "name": "stdout",
     "output_type": "stream",
     "text": [
      "\t\tTotal time for config: 13.132418155670166\n",
      "Instance 728, T = 1.0, Proposal = MALA_MC, Acceptance = metropolis, Gap = 0.0000\n",
      "Warning: Gap is very small, may be inaccurate.\n",
      "Starting problem instance 729 of 2000 with n = 3\n"
     ]
    },
    {
     "name": "stderr",
     "output_type": "stream",
     "text": [
      "100%|██████████| 1000/1000 [00:02<00:00, 458.35it/s]\n"
     ]
    },
    {
     "name": "stdout",
     "output_type": "stream",
     "text": [
      "\t\tTotal time for config: 2.1903786659240723\n",
      "Instance 729, T = 1.0, Proposal = MALA_MC, Acceptance = metropolis, Gap = 0.8348\n",
      "Starting problem instance 730 of 2000 with n = 4\n"
     ]
    },
    {
     "name": "stderr",
     "output_type": "stream",
     "text": [
      "100%|██████████| 1000/1000 [00:03<00:00, 294.06it/s]\n"
     ]
    },
    {
     "name": "stdout",
     "output_type": "stream",
     "text": [
      "\t\tTotal time for config: 3.408773899078369\n",
      "Instance 730, T = 1.0, Proposal = MALA_MC, Acceptance = metropolis, Gap = 0.7240\n",
      "Starting problem instance 731 of 2000 with n = 5\n"
     ]
    },
    {
     "name": "stderr",
     "output_type": "stream",
     "text": [
      "100%|██████████| 1000/1000 [00:05<00:00, 195.81it/s]\n"
     ]
    },
    {
     "name": "stdout",
     "output_type": "stream",
     "text": [
      "\t\tTotal time for config: 5.123246192932129\n",
      "Instance 731, T = 1.0, Proposal = MALA_MC, Acceptance = metropolis, Gap = 0.8177\n",
      "Starting problem instance 732 of 2000 with n = 6\n"
     ]
    },
    {
     "name": "stderr",
     "output_type": "stream",
     "text": [
      "100%|██████████| 1000/1000 [00:05<00:00, 185.67it/s]\n"
     ]
    },
    {
     "name": "stdout",
     "output_type": "stream",
     "text": [
      "\t\tTotal time for config: 5.386038064956665\n",
      "Instance 732, T = 1.0, Proposal = MALA_MC, Acceptance = metropolis, Gap = 0.0070\n",
      "Starting problem instance 733 of 2000 with n = 7\n"
     ]
    },
    {
     "name": "stderr",
     "output_type": "stream",
     "text": [
      "100%|██████████| 1000/1000 [00:05<00:00, 168.38it/s]\n"
     ]
    },
    {
     "name": "stdout",
     "output_type": "stream",
     "text": [
      "\t\tTotal time for config: 5.9471516609191895\n",
      "Instance 733, T = 1.0, Proposal = MALA_MC, Acceptance = metropolis, Gap = 0.0000\n",
      "Warning: Gap is very small, may be inaccurate.\n",
      "Starting problem instance 734 of 2000 with n = 8\n"
     ]
    },
    {
     "name": "stderr",
     "output_type": "stream",
     "text": [
      "100%|██████████| 1000/1000 [00:06<00:00, 147.73it/s]\n"
     ]
    },
    {
     "name": "stdout",
     "output_type": "stream",
     "text": [
      "\t\tTotal time for config: 6.776569843292236\n",
      "Instance 734, T = 1.0, Proposal = MALA_MC, Acceptance = metropolis, Gap = 0.0000\n",
      "Warning: Gap is very small, may be inaccurate.\n",
      "Starting problem instance 735 of 2000 with n = 9\n"
     ]
    },
    {
     "name": "stderr",
     "output_type": "stream",
     "text": [
      "100%|██████████| 1000/1000 [00:08<00:00, 116.19it/s]\n"
     ]
    },
    {
     "name": "stdout",
     "output_type": "stream",
     "text": [
      "\t\tTotal time for config: 8.606384515762329\n",
      "Instance 735, T = 1.0, Proposal = MALA_MC, Acceptance = metropolis, Gap = 0.0000\n",
      "Warning: Gap is very small, may be inaccurate.\n",
      "Starting problem instance 736 of 2000 with n = 10\n"
     ]
    },
    {
     "name": "stderr",
     "output_type": "stream",
     "text": [
      "100%|██████████| 1000/1000 [00:13<00:00, 76.45it/s]\n"
     ]
    },
    {
     "name": "stdout",
     "output_type": "stream",
     "text": [
      "\t\tTotal time for config: 13.089147806167603\n",
      "Instance 736, T = 1.0, Proposal = MALA_MC, Acceptance = metropolis, Gap = 0.0000\n",
      "Warning: Gap is very small, may be inaccurate.\n",
      "Starting problem instance 737 of 2000 with n = 3\n"
     ]
    },
    {
     "name": "stderr",
     "output_type": "stream",
     "text": [
      "100%|██████████| 1000/1000 [00:02<00:00, 416.95it/s]\n"
     ]
    },
    {
     "name": "stdout",
     "output_type": "stream",
     "text": [
      "\t\tTotal time for config: 2.3983583450317383\n",
      "Instance 737, T = 1.0, Proposal = MALA_MC, Acceptance = metropolis, Gap = 0.0000\n",
      "Warning: Gap is very small, may be inaccurate.\n",
      "Starting problem instance 738 of 2000 with n = 4\n"
     ]
    },
    {
     "name": "stderr",
     "output_type": "stream",
     "text": [
      "100%|██████████| 1000/1000 [00:03<00:00, 258.15it/s]\n"
     ]
    },
    {
     "name": "stdout",
     "output_type": "stream",
     "text": [
      "\t\tTotal time for config: 3.8822591304779053\n",
      "Instance 738, T = 1.0, Proposal = MALA_MC, Acceptance = metropolis, Gap = 0.5309\n",
      "Starting problem instance 739 of 2000 with n = 5\n"
     ]
    },
    {
     "name": "stderr",
     "output_type": "stream",
     "text": [
      "100%|██████████| 1000/1000 [00:04<00:00, 228.30it/s]\n"
     ]
    },
    {
     "name": "stdout",
     "output_type": "stream",
     "text": [
      "\t\tTotal time for config: 4.380125522613525\n",
      "Instance 739, T = 1.0, Proposal = MALA_MC, Acceptance = metropolis, Gap = 0.6700\n",
      "Starting problem instance 740 of 2000 with n = 6\n"
     ]
    },
    {
     "name": "stderr",
     "output_type": "stream",
     "text": [
      "100%|██████████| 1000/1000 [00:05<00:00, 189.38it/s]\n"
     ]
    },
    {
     "name": "stdout",
     "output_type": "stream",
     "text": [
      "\t\tTotal time for config: 5.28050684928894\n",
      "Instance 740, T = 1.0, Proposal = MALA_MC, Acceptance = metropolis, Gap = 0.7681\n",
      "Starting problem instance 741 of 2000 with n = 7\n"
     ]
    },
    {
     "name": "stderr",
     "output_type": "stream",
     "text": [
      "100%|██████████| 1000/1000 [00:05<00:00, 174.00it/s]\n"
     ]
    },
    {
     "name": "stdout",
     "output_type": "stream",
     "text": [
      "\t\tTotal time for config: 5.749876022338867\n",
      "Instance 741, T = 1.0, Proposal = MALA_MC, Acceptance = metropolis, Gap = -0.0000\n",
      "Warning: Gap is very small, may be inaccurate.\n",
      "Starting problem instance 742 of 2000 with n = 8\n"
     ]
    },
    {
     "name": "stderr",
     "output_type": "stream",
     "text": [
      "100%|██████████| 1000/1000 [00:06<00:00, 147.15it/s]\n"
     ]
    },
    {
     "name": "stdout",
     "output_type": "stream",
     "text": [
      "\t\tTotal time for config: 6.795736789703369\n",
      "Instance 742, T = 1.0, Proposal = MALA_MC, Acceptance = metropolis, Gap = 0.0000\n",
      "Warning: Gap is very small, may be inaccurate.\n",
      "Starting problem instance 743 of 2000 with n = 9\n"
     ]
    },
    {
     "name": "stderr",
     "output_type": "stream",
     "text": [
      "100%|██████████| 1000/1000 [00:07<00:00, 129.77it/s]\n"
     ]
    },
    {
     "name": "stdout",
     "output_type": "stream",
     "text": [
      "\t\tTotal time for config: 7.7056543827056885\n",
      "Instance 743, T = 1.0, Proposal = MALA_MC, Acceptance = metropolis, Gap = 0.0000\n",
      "Warning: Gap is very small, may be inaccurate.\n",
      "Starting problem instance 744 of 2000 with n = 10\n"
     ]
    },
    {
     "name": "stderr",
     "output_type": "stream",
     "text": [
      "100%|██████████| 1000/1000 [00:13<00:00, 75.12it/s]\n"
     ]
    },
    {
     "name": "stdout",
     "output_type": "stream",
     "text": [
      "\t\tTotal time for config: 13.328165531158447\n",
      "Instance 744, T = 1.0, Proposal = MALA_MC, Acceptance = metropolis, Gap = 0.0000\n",
      "Warning: Gap is very small, may be inaccurate.\n",
      "Starting problem instance 745 of 2000 with n = 3\n"
     ]
    },
    {
     "name": "stderr",
     "output_type": "stream",
     "text": [
      "100%|██████████| 1000/1000 [00:02<00:00, 442.75it/s]\n"
     ]
    },
    {
     "name": "stdout",
     "output_type": "stream",
     "text": [
      "\t\tTotal time for config: 2.258587121963501\n",
      "Instance 745, T = 1.0, Proposal = MALA_MC, Acceptance = metropolis, Gap = 0.9222\n",
      "Starting problem instance 746 of 2000 with n = 4\n"
     ]
    },
    {
     "name": "stderr",
     "output_type": "stream",
     "text": [
      "100%|██████████| 1000/1000 [00:03<00:00, 273.18it/s]\n"
     ]
    },
    {
     "name": "stdout",
     "output_type": "stream",
     "text": [
      "\t\tTotal time for config: 3.6773130893707275\n",
      "Instance 746, T = 1.0, Proposal = MALA_MC, Acceptance = metropolis, Gap = 0.0000\n",
      "Warning: Gap is very small, may be inaccurate.\n",
      "Starting problem instance 747 of 2000 with n = 5\n"
     ]
    },
    {
     "name": "stderr",
     "output_type": "stream",
     "text": [
      "100%|██████████| 1000/1000 [00:04<00:00, 201.36it/s]\n"
     ]
    },
    {
     "name": "stdout",
     "output_type": "stream",
     "text": [
      "\t\tTotal time for config: 4.974490404129028\n",
      "Instance 747, T = 1.0, Proposal = MALA_MC, Acceptance = metropolis, Gap = 0.2126\n",
      "Starting problem instance 748 of 2000 with n = 6\n"
     ]
    },
    {
     "name": "stderr",
     "output_type": "stream",
     "text": [
      "100%|██████████| 1000/1000 [00:04<00:00, 211.45it/s]\n"
     ]
    },
    {
     "name": "stdout",
     "output_type": "stream",
     "text": [
      "\t\tTotal time for config: 4.739211320877075\n",
      "Instance 748, T = 1.0, Proposal = MALA_MC, Acceptance = metropolis, Gap = 0.0083\n",
      "Starting problem instance 749 of 2000 with n = 7\n"
     ]
    },
    {
     "name": "stderr",
     "output_type": "stream",
     "text": [
      "100%|██████████| 1000/1000 [00:05<00:00, 176.71it/s]\n"
     ]
    },
    {
     "name": "stdout",
     "output_type": "stream",
     "text": [
      "\t\tTotal time for config: 5.6709043979644775\n",
      "Instance 749, T = 1.0, Proposal = MALA_MC, Acceptance = metropolis, Gap = 0.0000\n",
      "Warning: Gap is very small, may be inaccurate.\n",
      "Starting problem instance 750 of 2000 with n = 8\n"
     ]
    },
    {
     "name": "stderr",
     "output_type": "stream",
     "text": [
      "100%|██████████| 1000/1000 [00:06<00:00, 156.38it/s]\n"
     ]
    },
    {
     "name": "stdout",
     "output_type": "stream",
     "text": [
      "\t\tTotal time for config: 6.403160572052002\n",
      "Instance 750, T = 1.0, Proposal = MALA_MC, Acceptance = metropolis, Gap = 0.0000\n",
      "Warning: Gap is very small, may be inaccurate.\n",
      "Starting problem instance 751 of 2000 with n = 9\n"
     ]
    },
    {
     "name": "stderr",
     "output_type": "stream",
     "text": [
      "100%|██████████| 1000/1000 [00:07<00:00, 129.74it/s]\n"
     ]
    },
    {
     "name": "stdout",
     "output_type": "stream",
     "text": [
      "\t\tTotal time for config: 7.715996503829956\n",
      "Instance 751, T = 1.0, Proposal = MALA_MC, Acceptance = metropolis, Gap = 0.0000\n",
      "Warning: Gap is very small, may be inaccurate.\n",
      "Starting problem instance 752 of 2000 with n = 10\n"
     ]
    },
    {
     "name": "stderr",
     "output_type": "stream",
     "text": [
      "100%|██████████| 1000/1000 [00:13<00:00, 74.79it/s]\n"
     ]
    },
    {
     "name": "stdout",
     "output_type": "stream",
     "text": [
      "\t\tTotal time for config: 13.379396200180054\n",
      "Instance 752, T = 1.0, Proposal = MALA_MC, Acceptance = metropolis, Gap = 0.0000\n",
      "Warning: Gap is very small, may be inaccurate.\n",
      "Starting problem instance 753 of 2000 with n = 3\n"
     ]
    },
    {
     "name": "stderr",
     "output_type": "stream",
     "text": [
      "100%|██████████| 1000/1000 [00:02<00:00, 412.25it/s]\n"
     ]
    },
    {
     "name": "stdout",
     "output_type": "stream",
     "text": [
      "\t\tTotal time for config: 2.4342665672302246\n",
      "Instance 753, T = 1.0, Proposal = MALA_MC, Acceptance = metropolis, Gap = 0.6874\n",
      "Starting problem instance 754 of 2000 with n = 4\n"
     ]
    },
    {
     "name": "stderr",
     "output_type": "stream",
     "text": [
      "100%|██████████| 1000/1000 [00:03<00:00, 254.51it/s]\n"
     ]
    },
    {
     "name": "stdout",
     "output_type": "stream",
     "text": [
      "\t\tTotal time for config: 3.937279224395752\n",
      "Instance 754, T = 1.0, Proposal = MALA_MC, Acceptance = metropolis, Gap = 0.7840\n",
      "Starting problem instance 755 of 2000 with n = 5\n"
     ]
    },
    {
     "name": "stderr",
     "output_type": "stream",
     "text": [
      "100%|██████████| 1000/1000 [00:05<00:00, 189.16it/s]\n"
     ]
    },
    {
     "name": "stdout",
     "output_type": "stream",
     "text": [
      "\t\tTotal time for config: 5.295117378234863\n",
      "Instance 755, T = 1.0, Proposal = MALA_MC, Acceptance = metropolis, Gap = 0.4444\n",
      "Starting problem instance 756 of 2000 with n = 6\n"
     ]
    },
    {
     "name": "stderr",
     "output_type": "stream",
     "text": [
      "100%|██████████| 1000/1000 [00:05<00:00, 178.70it/s]\n"
     ]
    },
    {
     "name": "stdout",
     "output_type": "stream",
     "text": [
      "\t\tTotal time for config: 5.604166269302368\n",
      "Instance 756, T = 1.0, Proposal = MALA_MC, Acceptance = metropolis, Gap = 0.0166\n",
      "Starting problem instance 757 of 2000 with n = 7\n"
     ]
    },
    {
     "name": "stderr",
     "output_type": "stream",
     "text": [
      "100%|██████████| 1000/1000 [00:05<00:00, 169.27it/s]\n"
     ]
    },
    {
     "name": "stdout",
     "output_type": "stream",
     "text": [
      "\t\tTotal time for config: 5.919105052947998\n",
      "Instance 757, T = 1.0, Proposal = MALA_MC, Acceptance = metropolis, Gap = 0.0094\n",
      "Starting problem instance 758 of 2000 with n = 8\n"
     ]
    },
    {
     "name": "stderr",
     "output_type": "stream",
     "text": [
      "100%|██████████| 1000/1000 [00:06<00:00, 147.98it/s]\n"
     ]
    },
    {
     "name": "stdout",
     "output_type": "stream",
     "text": [
      "\t\tTotal time for config: 6.77191948890686\n",
      "Instance 758, T = 1.0, Proposal = MALA_MC, Acceptance = metropolis, Gap = 0.0000\n",
      "Warning: Gap is very small, may be inaccurate.\n",
      "Starting problem instance 759 of 2000 with n = 9\n"
     ]
    },
    {
     "name": "stderr",
     "output_type": "stream",
     "text": [
      "100%|██████████| 1000/1000 [00:07<00:00, 131.79it/s]\n"
     ]
    },
    {
     "name": "stdout",
     "output_type": "stream",
     "text": [
      "\t\tTotal time for config: 7.5960893630981445\n",
      "Instance 759, T = 1.0, Proposal = MALA_MC, Acceptance = metropolis, Gap = 0.0000\n",
      "Warning: Gap is very small, may be inaccurate.\n",
      "Starting problem instance 760 of 2000 with n = 10\n"
     ]
    },
    {
     "name": "stderr",
     "output_type": "stream",
     "text": [
      "100%|██████████| 1000/1000 [00:13<00:00, 76.56it/s]\n"
     ]
    },
    {
     "name": "stdout",
     "output_type": "stream",
     "text": [
      "\t\tTotal time for config: 13.061112880706787\n",
      "Instance 760, T = 1.0, Proposal = MALA_MC, Acceptance = metropolis, Gap = 0.0000\n",
      "Warning: Gap is very small, may be inaccurate.\n",
      "Starting problem instance 761 of 2000 with n = 3\n"
     ]
    },
    {
     "name": "stderr",
     "output_type": "stream",
     "text": [
      "100%|██████████| 1000/1000 [00:02<00:00, 400.03it/s]\n"
     ]
    },
    {
     "name": "stdout",
     "output_type": "stream",
     "text": [
      "\t\tTotal time for config: 2.4998323917388916\n",
      "Instance 761, T = 1.0, Proposal = MALA_MC, Acceptance = metropolis, Gap = 0.4645\n",
      "Starting problem instance 762 of 2000 with n = 4\n"
     ]
    },
    {
     "name": "stderr",
     "output_type": "stream",
     "text": [
      "100%|██████████| 1000/1000 [00:03<00:00, 255.80it/s]\n"
     ]
    },
    {
     "name": "stdout",
     "output_type": "stream",
     "text": [
      "\t\tTotal time for config: 3.9175148010253906\n",
      "Instance 762, T = 1.0, Proposal = MALA_MC, Acceptance = metropolis, Gap = 0.0136\n",
      "Starting problem instance 763 of 2000 with n = 5\n"
     ]
    },
    {
     "name": "stderr",
     "output_type": "stream",
     "text": [
      "100%|██████████| 1000/1000 [00:04<00:00, 202.67it/s]\n"
     ]
    },
    {
     "name": "stdout",
     "output_type": "stream",
     "text": [
      "\t\tTotal time for config: 4.9342381954193115\n",
      "Instance 763, T = 1.0, Proposal = MALA_MC, Acceptance = metropolis, Gap = 0.0984\n",
      "Starting problem instance 764 of 2000 with n = 6\n"
     ]
    },
    {
     "name": "stderr",
     "output_type": "stream",
     "text": [
      "100%|██████████| 1000/1000 [00:05<00:00, 195.90it/s]\n"
     ]
    },
    {
     "name": "stdout",
     "output_type": "stream",
     "text": [
      "\t\tTotal time for config: 5.104698657989502\n",
      "Instance 764, T = 1.0, Proposal = MALA_MC, Acceptance = metropolis, Gap = 0.0000\n",
      "Warning: Gap is very small, may be inaccurate.\n",
      "Starting problem instance 765 of 2000 with n = 7\n"
     ]
    },
    {
     "name": "stderr",
     "output_type": "stream",
     "text": [
      "100%|██████████| 1000/1000 [00:05<00:00, 180.76it/s]\n"
     ]
    },
    {
     "name": "stdout",
     "output_type": "stream",
     "text": [
      "\t\tTotal time for config: 5.533967018127441\n",
      "Instance 765, T = 1.0, Proposal = MALA_MC, Acceptance = metropolis, Gap = 0.0104\n",
      "Starting problem instance 766 of 2000 with n = 8\n"
     ]
    },
    {
     "name": "stderr",
     "output_type": "stream",
     "text": [
      "100%|██████████| 1000/1000 [00:06<00:00, 147.48it/s]\n"
     ]
    },
    {
     "name": "stdout",
     "output_type": "stream",
     "text": [
      "\t\tTotal time for config: 6.788848400115967\n",
      "Instance 766, T = 1.0, Proposal = MALA_MC, Acceptance = metropolis, Gap = 0.0000\n",
      "Warning: Gap is very small, may be inaccurate.\n",
      "Starting problem instance 767 of 2000 with n = 9\n"
     ]
    },
    {
     "name": "stderr",
     "output_type": "stream",
     "text": [
      "100%|██████████| 1000/1000 [00:08<00:00, 124.96it/s]\n"
     ]
    },
    {
     "name": "stdout",
     "output_type": "stream",
     "text": [
      "\t\tTotal time for config: 8.017138004302979\n",
      "Instance 767, T = 1.0, Proposal = MALA_MC, Acceptance = metropolis, Gap = 0.0000\n",
      "Warning: Gap is very small, may be inaccurate.\n",
      "Starting problem instance 768 of 2000 with n = 10\n"
     ]
    },
    {
     "name": "stderr",
     "output_type": "stream",
     "text": [
      "100%|██████████| 1000/1000 [00:13<00:00, 74.68it/s]\n"
     ]
    },
    {
     "name": "stdout",
     "output_type": "stream",
     "text": [
      "\t\tTotal time for config: 13.399265766143799\n",
      "Instance 768, T = 1.0, Proposal = MALA_MC, Acceptance = metropolis, Gap = 0.0000\n",
      "Warning: Gap is very small, may be inaccurate.\n",
      "Starting problem instance 769 of 2000 with n = 3\n"
     ]
    },
    {
     "name": "stderr",
     "output_type": "stream",
     "text": [
      "100%|██████████| 1000/1000 [00:02<00:00, 422.48it/s]\n"
     ]
    },
    {
     "name": "stdout",
     "output_type": "stream",
     "text": [
      "\t\tTotal time for config: 2.3669872283935547\n",
      "Instance 769, T = 1.0, Proposal = MALA_MC, Acceptance = metropolis, Gap = 0.4811\n",
      "Starting problem instance 770 of 2000 with n = 4\n"
     ]
    },
    {
     "name": "stderr",
     "output_type": "stream",
     "text": [
      "100%|██████████| 1000/1000 [00:03<00:00, 254.13it/s]\n"
     ]
    },
    {
     "name": "stdout",
     "output_type": "stream",
     "text": [
      "\t\tTotal time for config: 3.936429977416992\n",
      "Instance 770, T = 1.0, Proposal = MALA_MC, Acceptance = metropolis, Gap = 0.8359\n",
      "Starting problem instance 771 of 2000 with n = 5\n"
     ]
    },
    {
     "name": "stderr",
     "output_type": "stream",
     "text": [
      "100%|██████████| 1000/1000 [00:04<00:00, 240.77it/s]\n"
     ]
    },
    {
     "name": "stdout",
     "output_type": "stream",
     "text": [
      "\t\tTotal time for config: 4.159790992736816\n",
      "Instance 771, T = 1.0, Proposal = MALA_MC, Acceptance = metropolis, Gap = 0.0000\n",
      "Warning: Gap is very small, may be inaccurate.\n",
      "Starting problem instance 772 of 2000 with n = 6\n"
     ]
    },
    {
     "name": "stderr",
     "output_type": "stream",
     "text": [
      "100%|██████████| 1000/1000 [00:04<00:00, 206.47it/s]\n"
     ]
    },
    {
     "name": "stdout",
     "output_type": "stream",
     "text": [
      "\t\tTotal time for config: 4.851499319076538\n",
      "Instance 772, T = 1.0, Proposal = MALA_MC, Acceptance = metropolis, Gap = 0.0338\n",
      "Starting problem instance 773 of 2000 with n = 7\n"
     ]
    },
    {
     "name": "stderr",
     "output_type": "stream",
     "text": [
      "100%|██████████| 1000/1000 [00:05<00:00, 183.28it/s]\n"
     ]
    },
    {
     "name": "stdout",
     "output_type": "stream",
     "text": [
      "\t\tTotal time for config: 5.4562084674835205\n",
      "Instance 773, T = 1.0, Proposal = MALA_MC, Acceptance = metropolis, Gap = 0.5749\n",
      "Starting problem instance 774 of 2000 with n = 8\n"
     ]
    },
    {
     "name": "stderr",
     "output_type": "stream",
     "text": [
      "100%|██████████| 1000/1000 [00:06<00:00, 147.91it/s]\n"
     ]
    },
    {
     "name": "stdout",
     "output_type": "stream",
     "text": [
      "\t\tTotal time for config: 6.769010782241821\n",
      "Instance 774, T = 1.0, Proposal = MALA_MC, Acceptance = metropolis, Gap = 0.0000\n",
      "Warning: Gap is very small, may be inaccurate.\n",
      "Starting problem instance 775 of 2000 with n = 9\n"
     ]
    },
    {
     "name": "stderr",
     "output_type": "stream",
     "text": [
      "100%|██████████| 1000/1000 [00:08<00:00, 115.86it/s]\n"
     ]
    },
    {
     "name": "stdout",
     "output_type": "stream",
     "text": [
      "\t\tTotal time for config: 8.638882875442505\n",
      "Instance 775, T = 1.0, Proposal = MALA_MC, Acceptance = metropolis, Gap = 0.0000\n",
      "Warning: Gap is very small, may be inaccurate.\n",
      "Starting problem instance 776 of 2000 with n = 10\n"
     ]
    },
    {
     "name": "stderr",
     "output_type": "stream",
     "text": [
      "100%|██████████| 1000/1000 [00:13<00:00, 71.54it/s]\n"
     ]
    },
    {
     "name": "stdout",
     "output_type": "stream",
     "text": [
      "\t\tTotal time for config: 13.978875160217285\n",
      "Instance 776, T = 1.0, Proposal = MALA_MC, Acceptance = metropolis, Gap = 0.0000\n",
      "Warning: Gap is very small, may be inaccurate.\n",
      "Starting problem instance 777 of 2000 with n = 3\n"
     ]
    },
    {
     "name": "stderr",
     "output_type": "stream",
     "text": [
      "100%|██████████| 1000/1000 [00:02<00:00, 478.85it/s]\n"
     ]
    },
    {
     "name": "stdout",
     "output_type": "stream",
     "text": [
      "\t\tTotal time for config: 2.1045475006103516\n",
      "Instance 777, T = 1.0, Proposal = MALA_MC, Acceptance = metropolis, Gap = 0.5285\n",
      "Starting problem instance 778 of 2000 with n = 4\n"
     ]
    },
    {
     "name": "stderr",
     "output_type": "stream",
     "text": [
      "100%|██████████| 1000/1000 [00:03<00:00, 268.06it/s]\n"
     ]
    },
    {
     "name": "stdout",
     "output_type": "stream",
     "text": [
      "\t\tTotal time for config: 3.738666534423828\n",
      "Instance 778, T = 1.0, Proposal = MALA_MC, Acceptance = metropolis, Gap = 0.2159\n",
      "Starting problem instance 779 of 2000 with n = 5\n"
     ]
    },
    {
     "name": "stderr",
     "output_type": "stream",
     "text": [
      "100%|██████████| 1000/1000 [00:05<00:00, 190.64it/s]\n"
     ]
    },
    {
     "name": "stdout",
     "output_type": "stream",
     "text": [
      "\t\tTotal time for config: 5.257188320159912\n",
      "Instance 779, T = 1.0, Proposal = MALA_MC, Acceptance = metropolis, Gap = 0.5508\n",
      "Starting problem instance 780 of 2000 with n = 6\n"
     ]
    },
    {
     "name": "stderr",
     "output_type": "stream",
     "text": [
      "100%|██████████| 1000/1000 [00:04<00:00, 201.40it/s]\n"
     ]
    },
    {
     "name": "stdout",
     "output_type": "stream",
     "text": [
      "\t\tTotal time for config: 4.981252431869507\n",
      "Instance 780, T = 1.0, Proposal = MALA_MC, Acceptance = metropolis, Gap = 0.5434\n",
      "Starting problem instance 781 of 2000 with n = 7\n"
     ]
    },
    {
     "name": "stderr",
     "output_type": "stream",
     "text": [
      "100%|██████████| 1000/1000 [00:05<00:00, 174.08it/s]\n"
     ]
    },
    {
     "name": "stdout",
     "output_type": "stream",
     "text": [
      "\t\tTotal time for config: 5.74888014793396\n",
      "Instance 781, T = 1.0, Proposal = MALA_MC, Acceptance = metropolis, Gap = 0.0000\n",
      "Warning: Gap is very small, may be inaccurate.\n",
      "Starting problem instance 782 of 2000 with n = 8\n"
     ]
    },
    {
     "name": "stderr",
     "output_type": "stream",
     "text": [
      "100%|██████████| 1000/1000 [00:07<00:00, 142.59it/s]\n"
     ]
    },
    {
     "name": "stdout",
     "output_type": "stream",
     "text": [
      "\t\tTotal time for config: 7.012990713119507\n",
      "Instance 782, T = 1.0, Proposal = MALA_MC, Acceptance = metropolis, Gap = 0.0000\n",
      "Warning: Gap is very small, may be inaccurate.\n",
      "Starting problem instance 783 of 2000 with n = 9\n"
     ]
    },
    {
     "name": "stderr",
     "output_type": "stream",
     "text": [
      "100%|██████████| 1000/1000 [00:08<00:00, 123.16it/s]\n"
     ]
    },
    {
     "name": "stdout",
     "output_type": "stream",
     "text": [
      "\t\tTotal time for config: 8.127858638763428\n",
      "Instance 783, T = 1.0, Proposal = MALA_MC, Acceptance = metropolis, Gap = 0.0000\n",
      "Warning: Gap is very small, may be inaccurate.\n",
      "Starting problem instance 784 of 2000 with n = 10\n"
     ]
    },
    {
     "name": "stderr",
     "output_type": "stream",
     "text": [
      "100%|██████████| 1000/1000 [00:13<00:00, 76.04it/s]\n"
     ]
    },
    {
     "name": "stdout",
     "output_type": "stream",
     "text": [
      "\t\tTotal time for config: 13.15399980545044\n",
      "Instance 784, T = 1.0, Proposal = MALA_MC, Acceptance = metropolis, Gap = 0.0000\n",
      "Warning: Gap is very small, may be inaccurate.\n",
      "Starting problem instance 785 of 2000 with n = 3\n"
     ]
    },
    {
     "name": "stderr",
     "output_type": "stream",
     "text": [
      "100%|██████████| 1000/1000 [00:02<00:00, 439.51it/s]\n"
     ]
    },
    {
     "name": "stdout",
     "output_type": "stream",
     "text": [
      "\t\tTotal time for config: 2.283596992492676\n",
      "Instance 785, T = 1.0, Proposal = MALA_MC, Acceptance = metropolis, Gap = 0.7199\n",
      "Starting problem instance 786 of 2000 with n = 4\n"
     ]
    },
    {
     "name": "stderr",
     "output_type": "stream",
     "text": [
      "100%|██████████| 1000/1000 [00:03<00:00, 262.03it/s]\n"
     ]
    },
    {
     "name": "stdout",
     "output_type": "stream",
     "text": [
      "\t\tTotal time for config: 3.8163001537323\n",
      "Instance 786, T = 1.0, Proposal = MALA_MC, Acceptance = metropolis, Gap = 0.5978\n",
      "Starting problem instance 787 of 2000 with n = 5\n"
     ]
    },
    {
     "name": "stderr",
     "output_type": "stream",
     "text": [
      "100%|██████████| 1000/1000 [00:04<00:00, 219.77it/s]\n"
     ]
    },
    {
     "name": "stdout",
     "output_type": "stream",
     "text": [
      "\t\tTotal time for config: 4.558405876159668\n",
      "Instance 787, T = 1.0, Proposal = MALA_MC, Acceptance = metropolis, Gap = 0.5394\n",
      "Starting problem instance 788 of 2000 with n = 6\n"
     ]
    },
    {
     "name": "stderr",
     "output_type": "stream",
     "text": [
      "100%|██████████| 1000/1000 [00:05<00:00, 179.38it/s]\n"
     ]
    },
    {
     "name": "stdout",
     "output_type": "stream",
     "text": [
      "\t\tTotal time for config: 5.582721948623657\n",
      "Instance 788, T = 1.0, Proposal = MALA_MC, Acceptance = metropolis, Gap = 0.5270\n",
      "Starting problem instance 789 of 2000 with n = 7\n"
     ]
    },
    {
     "name": "stderr",
     "output_type": "stream",
     "text": [
      "100%|██████████| 1000/1000 [00:06<00:00, 165.61it/s]\n"
     ]
    },
    {
     "name": "stdout",
     "output_type": "stream",
     "text": [
      "\t\tTotal time for config: 6.046382188796997\n",
      "Instance 789, T = 1.0, Proposal = MALA_MC, Acceptance = metropolis, Gap = 0.0000\n",
      "Warning: Gap is very small, may be inaccurate.\n",
      "Starting problem instance 790 of 2000 with n = 8\n"
     ]
    },
    {
     "name": "stderr",
     "output_type": "stream",
     "text": [
      "100%|██████████| 1000/1000 [00:06<00:00, 155.31it/s]\n"
     ]
    },
    {
     "name": "stdout",
     "output_type": "stream",
     "text": [
      "\t\tTotal time for config: 6.446674108505249\n",
      "Instance 790, T = 1.0, Proposal = MALA_MC, Acceptance = metropolis, Gap = 0.0000\n",
      "Warning: Gap is very small, may be inaccurate.\n",
      "Starting problem instance 791 of 2000 with n = 9\n"
     ]
    },
    {
     "name": "stderr",
     "output_type": "stream",
     "text": [
      "100%|██████████| 1000/1000 [00:08<00:00, 118.39it/s]\n"
     ]
    },
    {
     "name": "stdout",
     "output_type": "stream",
     "text": [
      "\t\tTotal time for config: 8.45487904548645\n",
      "Instance 791, T = 1.0, Proposal = MALA_MC, Acceptance = metropolis, Gap = 0.0000\n",
      "Warning: Gap is very small, may be inaccurate.\n",
      "Starting problem instance 792 of 2000 with n = 10\n"
     ]
    },
    {
     "name": "stderr",
     "output_type": "stream",
     "text": [
      "100%|██████████| 1000/1000 [00:13<00:00, 75.91it/s]\n"
     ]
    },
    {
     "name": "stdout",
     "output_type": "stream",
     "text": [
      "\t\tTotal time for config: 13.174186706542969\n",
      "Instance 792, T = 1.0, Proposal = MALA_MC, Acceptance = metropolis, Gap = 0.0000\n",
      "Warning: Gap is very small, may be inaccurate.\n",
      "Starting problem instance 793 of 2000 with n = 3\n"
     ]
    },
    {
     "name": "stderr",
     "output_type": "stream",
     "text": [
      "100%|██████████| 1000/1000 [00:02<00:00, 428.68it/s]\n"
     ]
    },
    {
     "name": "stdout",
     "output_type": "stream",
     "text": [
      "\t\tTotal time for config: 2.3410518169403076\n",
      "Instance 793, T = 1.0, Proposal = MALA_MC, Acceptance = metropolis, Gap = 0.7369\n",
      "Starting problem instance 794 of 2000 with n = 4\n"
     ]
    },
    {
     "name": "stderr",
     "output_type": "stream",
     "text": [
      "100%|██████████| 1000/1000 [00:04<00:00, 242.33it/s]\n"
     ]
    },
    {
     "name": "stdout",
     "output_type": "stream",
     "text": [
      "\t\tTotal time for config: 4.132762432098389\n",
      "Instance 794, T = 1.0, Proposal = MALA_MC, Acceptance = metropolis, Gap = 0.0000\n",
      "Warning: Gap is very small, may be inaccurate.\n",
      "Starting problem instance 795 of 2000 with n = 5\n"
     ]
    },
    {
     "name": "stderr",
     "output_type": "stream",
     "text": [
      "100%|██████████| 1000/1000 [00:05<00:00, 189.66it/s]\n"
     ]
    },
    {
     "name": "stdout",
     "output_type": "stream",
     "text": [
      "\t\tTotal time for config: 5.274333715438843\n",
      "Instance 795, T = 1.0, Proposal = MALA_MC, Acceptance = metropolis, Gap = 0.0782\n",
      "Starting problem instance 796 of 2000 with n = 6\n"
     ]
    },
    {
     "name": "stderr",
     "output_type": "stream",
     "text": [
      "100%|██████████| 1000/1000 [00:05<00:00, 188.85it/s]\n"
     ]
    },
    {
     "name": "stdout",
     "output_type": "stream",
     "text": [
      "\t\tTotal time for config: 5.3047778606414795\n",
      "Instance 796, T = 1.0, Proposal = MALA_MC, Acceptance = metropolis, Gap = 0.0333\n",
      "Starting problem instance 797 of 2000 with n = 7\n"
     ]
    },
    {
     "name": "stderr",
     "output_type": "stream",
     "text": [
      "100%|██████████| 1000/1000 [00:05<00:00, 179.94it/s]\n"
     ]
    },
    {
     "name": "stdout",
     "output_type": "stream",
     "text": [
      "\t\tTotal time for config: 5.56380820274353\n",
      "Instance 797, T = 1.0, Proposal = MALA_MC, Acceptance = metropolis, Gap = 0.0000\n",
      "Warning: Gap is very small, may be inaccurate.\n",
      "Starting problem instance 798 of 2000 with n = 8\n"
     ]
    },
    {
     "name": "stderr",
     "output_type": "stream",
     "text": [
      "100%|██████████| 1000/1000 [00:06<00:00, 143.84it/s]\n"
     ]
    },
    {
     "name": "stdout",
     "output_type": "stream",
     "text": [
      "\t\tTotal time for config: 6.9580979347229\n",
      "Instance 798, T = 1.0, Proposal = MALA_MC, Acceptance = metropolis, Gap = 0.0000\n",
      "Warning: Gap is very small, may be inaccurate.\n",
      "Starting problem instance 799 of 2000 with n = 9\n"
     ]
    },
    {
     "name": "stderr",
     "output_type": "stream",
     "text": [
      "100%|██████████| 1000/1000 [00:08<00:00, 115.32it/s]\n"
     ]
    },
    {
     "name": "stdout",
     "output_type": "stream",
     "text": [
      "\t\tTotal time for config: 8.671361923217773\n",
      "Instance 799, T = 1.0, Proposal = MALA_MC, Acceptance = metropolis, Gap = 0.0000\n",
      "Warning: Gap is very small, may be inaccurate.\n",
      "Starting problem instance 800 of 2000 with n = 10\n"
     ]
    },
    {
     "name": "stderr",
     "output_type": "stream",
     "text": [
      "100%|██████████| 1000/1000 [00:13<00:00, 71.46it/s]\n"
     ]
    },
    {
     "name": "stdout",
     "output_type": "stream",
     "text": [
      "\t\tTotal time for config: 14.00053596496582\n",
      "Instance 800, T = 1.0, Proposal = MALA_MC, Acceptance = metropolis, Gap = 0.0000\n",
      "Warning: Gap is very small, may be inaccurate.\n",
      "Starting problem instance 801 of 2000 with n = 3\n"
     ]
    },
    {
     "name": "stderr",
     "output_type": "stream",
     "text": [
      "100%|██████████| 1000/1000 [00:02<00:00, 427.61it/s]\n"
     ]
    },
    {
     "name": "stdout",
     "output_type": "stream",
     "text": [
      "\t\tTotal time for config: 2.3385703563690186\n",
      "Instance 801, T = 1.0, Proposal = MALA_MC, Acceptance = metropolis, Gap = 0.8126\n",
      "Starting problem instance 802 of 2000 with n = 4\n"
     ]
    },
    {
     "name": "stderr",
     "output_type": "stream",
     "text": [
      "100%|██████████| 1000/1000 [00:04<00:00, 245.07it/s]\n"
     ]
    },
    {
     "name": "stdout",
     "output_type": "stream",
     "text": [
      "\t\tTotal time for config: 4.088578224182129\n",
      "Instance 802, T = 1.0, Proposal = MALA_MC, Acceptance = metropolis, Gap = 0.6936\n",
      "Starting problem instance 803 of 2000 with n = 5\n"
     ]
    },
    {
     "name": "stderr",
     "output_type": "stream",
     "text": [
      "100%|██████████| 1000/1000 [00:05<00:00, 184.96it/s]\n"
     ]
    },
    {
     "name": "stdout",
     "output_type": "stream",
     "text": [
      "\t\tTotal time for config: 5.415165662765503\n",
      "Instance 803, T = 1.0, Proposal = MALA_MC, Acceptance = metropolis, Gap = 0.5385\n",
      "Starting problem instance 804 of 2000 with n = 6\n"
     ]
    },
    {
     "name": "stderr",
     "output_type": "stream",
     "text": [
      "100%|██████████| 1000/1000 [00:05<00:00, 178.85it/s]\n"
     ]
    },
    {
     "name": "stdout",
     "output_type": "stream",
     "text": [
      "\t\tTotal time for config: 5.59946084022522\n",
      "Instance 804, T = 1.0, Proposal = MALA_MC, Acceptance = metropolis, Gap = 0.0000\n",
      "Warning: Gap is very small, may be inaccurate.\n",
      "Starting problem instance 805 of 2000 with n = 7\n"
     ]
    },
    {
     "name": "stderr",
     "output_type": "stream",
     "text": [
      "100%|██████████| 1000/1000 [00:05<00:00, 167.94it/s]\n"
     ]
    },
    {
     "name": "stdout",
     "output_type": "stream",
     "text": [
      "\t\tTotal time for config: 5.964958190917969\n",
      "Instance 805, T = 1.0, Proposal = MALA_MC, Acceptance = metropolis, Gap = 0.0000\n",
      "Warning: Gap is very small, may be inaccurate.\n",
      "Starting problem instance 806 of 2000 with n = 8\n"
     ]
    },
    {
     "name": "stderr",
     "output_type": "stream",
     "text": [
      "100%|██████████| 1000/1000 [00:06<00:00, 145.50it/s]\n"
     ]
    },
    {
     "name": "stdout",
     "output_type": "stream",
     "text": [
      "\t\tTotal time for config: 6.881088972091675\n",
      "Instance 806, T = 1.0, Proposal = MALA_MC, Acceptance = metropolis, Gap = 0.0000\n",
      "Warning: Gap is very small, may be inaccurate.\n",
      "Starting problem instance 807 of 2000 with n = 9\n"
     ]
    },
    {
     "name": "stderr",
     "output_type": "stream",
     "text": [
      "100%|██████████| 1000/1000 [00:08<00:00, 118.07it/s]\n"
     ]
    },
    {
     "name": "stdout",
     "output_type": "stream",
     "text": [
      "\t\tTotal time for config: 8.469599485397339\n",
      "Instance 807, T = 1.0, Proposal = MALA_MC, Acceptance = metropolis, Gap = 0.0000\n",
      "Warning: Gap is very small, may be inaccurate.\n",
      "Starting problem instance 808 of 2000 with n = 10\n"
     ]
    },
    {
     "name": "stderr",
     "output_type": "stream",
     "text": [
      "100%|██████████| 1000/1000 [00:14<00:00, 71.35it/s]\n"
     ]
    },
    {
     "name": "stdout",
     "output_type": "stream",
     "text": [
      "\t\tTotal time for config: 14.018810510635376\n",
      "Instance 808, T = 1.0, Proposal = MALA_MC, Acceptance = metropolis, Gap = 0.0000\n",
      "Warning: Gap is very small, may be inaccurate.\n",
      "Starting problem instance 809 of 2000 with n = 3\n"
     ]
    },
    {
     "name": "stderr",
     "output_type": "stream",
     "text": [
      "100%|██████████| 1000/1000 [00:02<00:00, 377.45it/s]\n"
     ]
    },
    {
     "name": "stdout",
     "output_type": "stream",
     "text": [
      "\t\tTotal time for config: 2.65804123878479\n",
      "Instance 809, T = 1.0, Proposal = MALA_MC, Acceptance = metropolis, Gap = 0.7067\n",
      "Starting problem instance 810 of 2000 with n = 4\n"
     ]
    },
    {
     "name": "stderr",
     "output_type": "stream",
     "text": [
      "100%|██████████| 1000/1000 [00:03<00:00, 254.33it/s]\n"
     ]
    },
    {
     "name": "stdout",
     "output_type": "stream",
     "text": [
      "\t\tTotal time for config: 3.9401466846466064\n",
      "Instance 810, T = 1.0, Proposal = MALA_MC, Acceptance = metropolis, Gap = 0.7578\n",
      "Starting problem instance 811 of 2000 with n = 5\n"
     ]
    },
    {
     "name": "stderr",
     "output_type": "stream",
     "text": [
      "100%|██████████| 1000/1000 [00:05<00:00, 190.30it/s]\n"
     ]
    },
    {
     "name": "stdout",
     "output_type": "stream",
     "text": [
      "\t\tTotal time for config: 5.25890851020813\n",
      "Instance 811, T = 1.0, Proposal = MALA_MC, Acceptance = metropolis, Gap = 0.0454\n",
      "Starting problem instance 812 of 2000 with n = 6\n"
     ]
    },
    {
     "name": "stderr",
     "output_type": "stream",
     "text": [
      "100%|██████████| 1000/1000 [00:05<00:00, 183.42it/s]\n"
     ]
    },
    {
     "name": "stdout",
     "output_type": "stream",
     "text": [
      "\t\tTotal time for config: 5.456971645355225\n",
      "Instance 812, T = 1.0, Proposal = MALA_MC, Acceptance = metropolis, Gap = 0.0024\n",
      "Starting problem instance 813 of 2000 with n = 7\n"
     ]
    },
    {
     "name": "stderr",
     "output_type": "stream",
     "text": [
      "100%|██████████| 1000/1000 [00:05<00:00, 178.39it/s]\n"
     ]
    },
    {
     "name": "stdout",
     "output_type": "stream",
     "text": [
      "\t\tTotal time for config: 5.611003160476685\n",
      "Instance 813, T = 1.0, Proposal = MALA_MC, Acceptance = metropolis, Gap = 0.0000\n",
      "Warning: Gap is very small, may be inaccurate.\n",
      "Starting problem instance 814 of 2000 with n = 8\n"
     ]
    },
    {
     "name": "stderr",
     "output_type": "stream",
     "text": [
      "100%|██████████| 1000/1000 [00:07<00:00, 138.71it/s]\n"
     ]
    },
    {
     "name": "stdout",
     "output_type": "stream",
     "text": [
      "\t\tTotal time for config: 7.225144624710083\n",
      "Instance 814, T = 1.0, Proposal = MALA_MC, Acceptance = metropolis, Gap = 0.0000\n",
      "Warning: Gap is very small, may be inaccurate.\n",
      "Starting problem instance 815 of 2000 with n = 9\n"
     ]
    },
    {
     "name": "stderr",
     "output_type": "stream",
     "text": [
      "100%|██████████| 1000/1000 [00:08<00:00, 113.56it/s]\n"
     ]
    },
    {
     "name": "stdout",
     "output_type": "stream",
     "text": [
      "\t\tTotal time for config: 8.807778120040894\n",
      "Instance 815, T = 1.0, Proposal = MALA_MC, Acceptance = metropolis, Gap = 0.0000\n",
      "Warning: Gap is very small, may be inaccurate.\n",
      "Starting problem instance 816 of 2000 with n = 10\n"
     ]
    },
    {
     "name": "stderr",
     "output_type": "stream",
     "text": [
      "100%|██████████| 1000/1000 [00:14<00:00, 67.92it/s]\n"
     ]
    },
    {
     "name": "stdout",
     "output_type": "stream",
     "text": [
      "\t\tTotal time for config: 14.722161769866943\n",
      "Instance 816, T = 1.0, Proposal = MALA_MC, Acceptance = metropolis, Gap = 0.0000\n",
      "Warning: Gap is very small, may be inaccurate.\n",
      "Starting problem instance 817 of 2000 with n = 3\n"
     ]
    },
    {
     "name": "stderr",
     "output_type": "stream",
     "text": [
      "100%|██████████| 1000/1000 [00:02<00:00, 396.76it/s]\n"
     ]
    },
    {
     "name": "stdout",
     "output_type": "stream",
     "text": [
      "\t\tTotal time for config: 2.5296549797058105\n",
      "Instance 817, T = 1.0, Proposal = MALA_MC, Acceptance = metropolis, Gap = 0.7292\n",
      "Starting problem instance 818 of 2000 with n = 4\n"
     ]
    },
    {
     "name": "stderr",
     "output_type": "stream",
     "text": [
      "100%|██████████| 1000/1000 [00:03<00:00, 251.16it/s]\n"
     ]
    },
    {
     "name": "stdout",
     "output_type": "stream",
     "text": [
      "\t\tTotal time for config: 3.985020160675049\n",
      "Instance 818, T = 1.0, Proposal = MALA_MC, Acceptance = metropolis, Gap = 0.7001\n",
      "Starting problem instance 819 of 2000 with n = 5\n"
     ]
    },
    {
     "name": "stderr",
     "output_type": "stream",
     "text": [
      "100%|██████████| 1000/1000 [00:05<00:00, 181.85it/s]\n"
     ]
    },
    {
     "name": "stdout",
     "output_type": "stream",
     "text": [
      "\t\tTotal time for config: 5.499035120010376\n",
      "Instance 819, T = 1.0, Proposal = MALA_MC, Acceptance = metropolis, Gap = 0.4607\n",
      "Starting problem instance 820 of 2000 with n = 6\n"
     ]
    },
    {
     "name": "stderr",
     "output_type": "stream",
     "text": [
      "100%|██████████| 1000/1000 [00:05<00:00, 170.70it/s]\n"
     ]
    },
    {
     "name": "stdout",
     "output_type": "stream",
     "text": [
      "\t\tTotal time for config: 5.8665149211883545\n",
      "Instance 820, T = 1.0, Proposal = MALA_MC, Acceptance = metropolis, Gap = 0.0549\n",
      "Starting problem instance 821 of 2000 with n = 7\n"
     ]
    },
    {
     "name": "stderr",
     "output_type": "stream",
     "text": [
      "100%|██████████| 1000/1000 [00:06<00:00, 162.30it/s]\n"
     ]
    },
    {
     "name": "stdout",
     "output_type": "stream",
     "text": [
      "\t\tTotal time for config: 6.169593334197998\n",
      "Instance 821, T = 1.0, Proposal = MALA_MC, Acceptance = metropolis, Gap = 0.0001\n",
      "Starting problem instance 822 of 2000 with n = 8\n"
     ]
    },
    {
     "name": "stderr",
     "output_type": "stream",
     "text": [
      "100%|██████████| 1000/1000 [00:06<00:00, 145.66it/s]\n"
     ]
    },
    {
     "name": "stdout",
     "output_type": "stream",
     "text": [
      "\t\tTotal time for config: 6.879971981048584\n",
      "Instance 822, T = 1.0, Proposal = MALA_MC, Acceptance = metropolis, Gap = 0.0000\n",
      "Warning: Gap is very small, may be inaccurate.\n",
      "Starting problem instance 823 of 2000 with n = 9\n"
     ]
    },
    {
     "name": "stderr",
     "output_type": "stream",
     "text": [
      "100%|██████████| 1000/1000 [00:08<00:00, 111.26it/s]\n"
     ]
    },
    {
     "name": "stdout",
     "output_type": "stream",
     "text": [
      "\t\tTotal time for config: 8.995596170425415\n",
      "Instance 823, T = 1.0, Proposal = MALA_MC, Acceptance = metropolis, Gap = 0.0000\n",
      "Warning: Gap is very small, may be inaccurate.\n",
      "Starting problem instance 824 of 2000 with n = 10\n"
     ]
    },
    {
     "name": "stderr",
     "output_type": "stream",
     "text": [
      "100%|██████████| 1000/1000 [00:14<00:00, 71.10it/s]\n"
     ]
    },
    {
     "name": "stdout",
     "output_type": "stream",
     "text": [
      "\t\tTotal time for config: 14.072832822799683\n",
      "Instance 824, T = 1.0, Proposal = MALA_MC, Acceptance = metropolis, Gap = 0.0000\n",
      "Warning: Gap is very small, may be inaccurate.\n",
      "Starting problem instance 825 of 2000 with n = 3\n"
     ]
    },
    {
     "name": "stderr",
     "output_type": "stream",
     "text": [
      "100%|██████████| 1000/1000 [00:02<00:00, 389.60it/s]\n"
     ]
    },
    {
     "name": "stdout",
     "output_type": "stream",
     "text": [
      "\t\tTotal time for config: 2.570795774459839\n",
      "Instance 825, T = 1.0, Proposal = MALA_MC, Acceptance = metropolis, Gap = 0.8806\n",
      "Starting problem instance 826 of 2000 with n = 4\n"
     ]
    },
    {
     "name": "stderr",
     "output_type": "stream",
     "text": [
      "100%|██████████| 1000/1000 [00:04<00:00, 237.13it/s]\n"
     ]
    },
    {
     "name": "stdout",
     "output_type": "stream",
     "text": [
      "\t\tTotal time for config: 4.219135046005249\n",
      "Instance 826, T = 1.0, Proposal = MALA_MC, Acceptance = metropolis, Gap = 0.8424\n",
      "Starting problem instance 827 of 2000 with n = 5\n"
     ]
    },
    {
     "name": "stderr",
     "output_type": "stream",
     "text": [
      "100%|██████████| 1000/1000 [00:05<00:00, 185.03it/s]\n"
     ]
    },
    {
     "name": "stdout",
     "output_type": "stream",
     "text": [
      "\t\tTotal time for config: 5.406942367553711\n",
      "Instance 827, T = 1.0, Proposal = MALA_MC, Acceptance = metropolis, Gap = 0.2462\n",
      "Starting problem instance 828 of 2000 with n = 6\n"
     ]
    },
    {
     "name": "stderr",
     "output_type": "stream",
     "text": [
      "100%|██████████| 1000/1000 [00:05<00:00, 190.82it/s]\n"
     ]
    },
    {
     "name": "stdout",
     "output_type": "stream",
     "text": [
      "\t\tTotal time for config: 5.245872259140015\n",
      "Instance 828, T = 1.0, Proposal = MALA_MC, Acceptance = metropolis, Gap = 0.0000\n",
      "Warning: Gap is very small, may be inaccurate.\n",
      "Starting problem instance 829 of 2000 with n = 7\n"
     ]
    },
    {
     "name": "stderr",
     "output_type": "stream",
     "text": [
      "100%|██████████| 1000/1000 [00:05<00:00, 172.02it/s]\n"
     ]
    },
    {
     "name": "stdout",
     "output_type": "stream",
     "text": [
      "\t\tTotal time for config: 5.822058916091919\n",
      "Instance 829, T = 1.0, Proposal = MALA_MC, Acceptance = metropolis, Gap = 0.0000\n",
      "Warning: Gap is very small, may be inaccurate.\n",
      "Starting problem instance 830 of 2000 with n = 8\n"
     ]
    },
    {
     "name": "stderr",
     "output_type": "stream",
     "text": [
      "100%|██████████| 1000/1000 [00:07<00:00, 142.41it/s]\n"
     ]
    },
    {
     "name": "stdout",
     "output_type": "stream",
     "text": [
      "\t\tTotal time for config: 7.035033702850342\n",
      "Instance 830, T = 1.0, Proposal = MALA_MC, Acceptance = metropolis, Gap = 0.0000\n",
      "Warning: Gap is very small, may be inaccurate.\n",
      "Starting problem instance 831 of 2000 with n = 9\n"
     ]
    },
    {
     "name": "stderr",
     "output_type": "stream",
     "text": [
      "100%|██████████| 1000/1000 [00:08<00:00, 115.77it/s]\n"
     ]
    },
    {
     "name": "stdout",
     "output_type": "stream",
     "text": [
      "\t\tTotal time for config: 8.640014886856079\n",
      "Instance 831, T = 1.0, Proposal = MALA_MC, Acceptance = metropolis, Gap = 0.0000\n",
      "Warning: Gap is very small, may be inaccurate.\n",
      "Starting problem instance 832 of 2000 with n = 10\n"
     ]
    },
    {
     "name": "stderr",
     "output_type": "stream",
     "text": [
      "100%|██████████| 1000/1000 [00:14<00:00, 68.66it/s]\n"
     ]
    },
    {
     "name": "stdout",
     "output_type": "stream",
     "text": [
      "\t\tTotal time for config: 14.56723427772522\n",
      "Instance 832, T = 1.0, Proposal = MALA_MC, Acceptance = metropolis, Gap = 0.0000\n",
      "Warning: Gap is very small, may be inaccurate.\n",
      "Starting problem instance 833 of 2000 with n = 3\n"
     ]
    },
    {
     "name": "stderr",
     "output_type": "stream",
     "text": [
      "100%|██████████| 1000/1000 [00:02<00:00, 393.47it/s]\n"
     ]
    },
    {
     "name": "stdout",
     "output_type": "stream",
     "text": [
      "\t\tTotal time for config: 2.551565408706665\n",
      "Instance 833, T = 1.0, Proposal = MALA_MC, Acceptance = metropolis, Gap = 0.7433\n",
      "Starting problem instance 834 of 2000 with n = 4\n"
     ]
    },
    {
     "name": "stderr",
     "output_type": "stream",
     "text": [
      "100%|██████████| 1000/1000 [00:03<00:00, 254.63it/s]\n"
     ]
    },
    {
     "name": "stdout",
     "output_type": "stream",
     "text": [
      "\t\tTotal time for config: 3.9272944927215576\n",
      "Instance 834, T = 1.0, Proposal = MALA_MC, Acceptance = metropolis, Gap = 0.0906\n",
      "Starting problem instance 835 of 2000 with n = 5\n"
     ]
    },
    {
     "name": "stderr",
     "output_type": "stream",
     "text": [
      "100%|██████████| 1000/1000 [00:04<00:00, 213.76it/s]\n"
     ]
    },
    {
     "name": "stdout",
     "output_type": "stream",
     "text": [
      "\t\tTotal time for config: 4.67817234992981\n",
      "Instance 835, T = 1.0, Proposal = MALA_MC, Acceptance = metropolis, Gap = 0.0022\n",
      "Starting problem instance 836 of 2000 with n = 6\n"
     ]
    },
    {
     "name": "stderr",
     "output_type": "stream",
     "text": [
      "100%|██████████| 1000/1000 [00:05<00:00, 186.58it/s]\n"
     ]
    },
    {
     "name": "stdout",
     "output_type": "stream",
     "text": [
      "\t\tTotal time for config: 5.359665393829346\n",
      "Instance 836, T = 1.0, Proposal = MALA_MC, Acceptance = metropolis, Gap = 0.6458\n",
      "Starting problem instance 837 of 2000 with n = 7\n"
     ]
    },
    {
     "name": "stderr",
     "output_type": "stream",
     "text": [
      "100%|██████████| 1000/1000 [00:05<00:00, 169.79it/s]\n"
     ]
    },
    {
     "name": "stdout",
     "output_type": "stream",
     "text": [
      "\t\tTotal time for config: 5.89173150062561\n",
      "Instance 837, T = 1.0, Proposal = MALA_MC, Acceptance = metropolis, Gap = 0.0000\n",
      "Warning: Gap is very small, may be inaccurate.\n",
      "Starting problem instance 838 of 2000 with n = 8\n"
     ]
    },
    {
     "name": "stderr",
     "output_type": "stream",
     "text": [
      "100%|██████████| 1000/1000 [00:06<00:00, 151.25it/s]\n"
     ]
    },
    {
     "name": "stdout",
     "output_type": "stream",
     "text": [
      "\t\tTotal time for config: 6.611478805541992\n",
      "Instance 838, T = 1.0, Proposal = MALA_MC, Acceptance = metropolis, Gap = 0.0000\n",
      "Warning: Gap is very small, may be inaccurate.\n",
      "Starting problem instance 839 of 2000 with n = 9\n"
     ]
    },
    {
     "name": "stderr",
     "output_type": "stream",
     "text": [
      "100%|██████████| 1000/1000 [00:08<00:00, 114.00it/s]\n"
     ]
    },
    {
     "name": "stdout",
     "output_type": "stream",
     "text": [
      "\t\tTotal time for config: 8.780428171157837\n",
      "Instance 839, T = 1.0, Proposal = MALA_MC, Acceptance = metropolis, Gap = 0.0000\n",
      "Warning: Gap is very small, may be inaccurate.\n",
      "Starting problem instance 840 of 2000 with n = 10\n"
     ]
    },
    {
     "name": "stderr",
     "output_type": "stream",
     "text": [
      "100%|██████████| 1000/1000 [00:14<00:00, 71.19it/s]\n"
     ]
    },
    {
     "name": "stdout",
     "output_type": "stream",
     "text": [
      "\t\tTotal time for config: 14.046984434127808\n",
      "Instance 840, T = 1.0, Proposal = MALA_MC, Acceptance = metropolis, Gap = 0.0000\n",
      "Warning: Gap is very small, may be inaccurate.\n",
      "Starting problem instance 841 of 2000 with n = 3\n"
     ]
    },
    {
     "name": "stderr",
     "output_type": "stream",
     "text": [
      "100%|██████████| 1000/1000 [00:02<00:00, 386.10it/s]\n"
     ]
    },
    {
     "name": "stdout",
     "output_type": "stream",
     "text": [
      "\t\tTotal time for config: 2.59847354888916\n",
      "Instance 841, T = 1.0, Proposal = MALA_MC, Acceptance = metropolis, Gap = 0.7178\n",
      "Starting problem instance 842 of 2000 with n = 4\n"
     ]
    },
    {
     "name": "stderr",
     "output_type": "stream",
     "text": [
      "100%|██████████| 1000/1000 [00:04<00:00, 248.14it/s]\n"
     ]
    },
    {
     "name": "stdout",
     "output_type": "stream",
     "text": [
      "\t\tTotal time for config: 4.033190011978149\n",
      "Instance 842, T = 1.0, Proposal = MALA_MC, Acceptance = metropolis, Gap = 0.4448\n",
      "Starting problem instance 843 of 2000 with n = 5\n"
     ]
    },
    {
     "name": "stderr",
     "output_type": "stream",
     "text": [
      "100%|██████████| 1000/1000 [00:05<00:00, 181.45it/s]\n"
     ]
    },
    {
     "name": "stdout",
     "output_type": "stream",
     "text": [
      "\t\tTotal time for config: 5.516195774078369\n",
      "Instance 843, T = 1.0, Proposal = MALA_MC, Acceptance = metropolis, Gap = 0.4015\n",
      "Starting problem instance 844 of 2000 with n = 6\n"
     ]
    },
    {
     "name": "stderr",
     "output_type": "stream",
     "text": [
      "100%|██████████| 1000/1000 [00:05<00:00, 190.97it/s]\n"
     ]
    },
    {
     "name": "stdout",
     "output_type": "stream",
     "text": [
      "\t\tTotal time for config: 5.238363981246948\n",
      "Instance 844, T = 1.0, Proposal = MALA_MC, Acceptance = metropolis, Gap = 0.2448\n",
      "Starting problem instance 845 of 2000 with n = 7\n"
     ]
    },
    {
     "name": "stderr",
     "output_type": "stream",
     "text": [
      "100%|██████████| 1000/1000 [00:06<00:00, 159.87it/s]\n"
     ]
    },
    {
     "name": "stdout",
     "output_type": "stream",
     "text": [
      "\t\tTotal time for config: 6.258983135223389\n",
      "Instance 845, T = 1.0, Proposal = MALA_MC, Acceptance = metropolis, Gap = 0.0000\n",
      "Warning: Gap is very small, may be inaccurate.\n",
      "Starting problem instance 846 of 2000 with n = 8\n"
     ]
    },
    {
     "name": "stderr",
     "output_type": "stream",
     "text": [
      "100%|██████████| 1000/1000 [00:07<00:00, 133.81it/s]\n"
     ]
    },
    {
     "name": "stdout",
     "output_type": "stream",
     "text": [
      "\t\tTotal time for config: 7.475733041763306\n",
      "Instance 846, T = 1.0, Proposal = MALA_MC, Acceptance = metropolis, Gap = 0.0000\n",
      "Warning: Gap is very small, may be inaccurate.\n",
      "Starting problem instance 847 of 2000 with n = 9\n"
     ]
    },
    {
     "name": "stderr",
     "output_type": "stream",
     "text": [
      "100%|██████████| 1000/1000 [00:08<00:00, 111.59it/s]\n"
     ]
    },
    {
     "name": "stdout",
     "output_type": "stream",
     "text": [
      "\t\tTotal time for config: 8.96996521949768\n",
      "Instance 847, T = 1.0, Proposal = MALA_MC, Acceptance = metropolis, Gap = 0.0000\n",
      "Warning: Gap is very small, may be inaccurate.\n",
      "Starting problem instance 848 of 2000 with n = 10\n"
     ]
    },
    {
     "name": "stderr",
     "output_type": "stream",
     "text": [
      "100%|██████████| 1000/1000 [00:14<00:00, 68.84it/s]\n"
     ]
    },
    {
     "name": "stdout",
     "output_type": "stream",
     "text": [
      "\t\tTotal time for config: 14.526400089263916\n",
      "Instance 848, T = 1.0, Proposal = MALA_MC, Acceptance = metropolis, Gap = 0.0000\n",
      "Warning: Gap is very small, may be inaccurate.\n",
      "Starting problem instance 849 of 2000 with n = 3\n"
     ]
    },
    {
     "name": "stderr",
     "output_type": "stream",
     "text": [
      "100%|██████████| 1000/1000 [00:02<00:00, 396.83it/s]\n"
     ]
    },
    {
     "name": "stdout",
     "output_type": "stream",
     "text": [
      "\t\tTotal time for config: 2.530777931213379\n",
      "Instance 849, T = 1.0, Proposal = MALA_MC, Acceptance = metropolis, Gap = 0.2011\n",
      "Starting problem instance 850 of 2000 with n = 4\n"
     ]
    },
    {
     "name": "stderr",
     "output_type": "stream",
     "text": [
      "100%|██████████| 1000/1000 [00:03<00:00, 264.19it/s]\n"
     ]
    },
    {
     "name": "stdout",
     "output_type": "stream",
     "text": [
      "\t\tTotal time for config: 3.795010566711426\n",
      "Instance 850, T = 1.0, Proposal = MALA_MC, Acceptance = metropolis, Gap = 0.3157\n",
      "Starting problem instance 851 of 2000 with n = 5\n"
     ]
    },
    {
     "name": "stderr",
     "output_type": "stream",
     "text": [
      "100%|██████████| 1000/1000 [00:05<00:00, 196.01it/s]\n"
     ]
    },
    {
     "name": "stdout",
     "output_type": "stream",
     "text": [
      "\t\tTotal time for config: 5.101876497268677\n",
      "Instance 851, T = 1.0, Proposal = MALA_MC, Acceptance = metropolis, Gap = 0.0010\n",
      "Starting problem instance 852 of 2000 with n = 6\n"
     ]
    },
    {
     "name": "stderr",
     "output_type": "stream",
     "text": [
      "100%|██████████| 1000/1000 [00:05<00:00, 175.12it/s]\n"
     ]
    },
    {
     "name": "stdout",
     "output_type": "stream",
     "text": [
      "\t\tTotal time for config: 5.717774152755737\n",
      "Instance 852, T = 1.0, Proposal = MALA_MC, Acceptance = metropolis, Gap = 0.5911\n",
      "Starting problem instance 853 of 2000 with n = 7\n"
     ]
    },
    {
     "name": "stderr",
     "output_type": "stream",
     "text": [
      "100%|██████████| 1000/1000 [00:03<00:00, 288.60it/s]\n"
     ]
    },
    {
     "name": "stdout",
     "output_type": "stream",
     "text": [
      "\t\tTotal time for config: 3.4752445220947266\n",
      "Instance 853, T = 1.0, Proposal = MALA_MC, Acceptance = metropolis, Gap = 0.0000\n",
      "Warning: Gap is very small, may be inaccurate.\n",
      "Starting problem instance 854 of 2000 with n = 8\n"
     ]
    },
    {
     "name": "stderr",
     "output_type": "stream",
     "text": [
      "100%|██████████| 1000/1000 [23:38<00:00,  1.42s/it]\n"
     ]
    },
    {
     "name": "stdout",
     "output_type": "stream",
     "text": [
      "\t\tTotal time for config: 1418.8917763233185\n",
      "Instance 854, T = 1.0, Proposal = MALA_MC, Acceptance = metropolis, Gap = 0.0000\n",
      "Warning: Gap is very small, may be inaccurate.\n",
      "Starting problem instance 855 of 2000 with n = 9\n"
     ]
    },
    {
     "name": "stderr",
     "output_type": "stream",
     "text": [
      "100%|██████████| 1000/1000 [00:08<00:00, 112.10it/s]\n"
     ]
    },
    {
     "name": "stdout",
     "output_type": "stream",
     "text": [
      "\t\tTotal time for config: 8.940603971481323\n",
      "Instance 855, T = 1.0, Proposal = MALA_MC, Acceptance = metropolis, Gap = 0.0000\n",
      "Warning: Gap is very small, may be inaccurate.\n",
      "Starting problem instance 856 of 2000 with n = 10\n"
     ]
    },
    {
     "name": "stderr",
     "output_type": "stream",
     "text": [
      "100%|██████████| 1000/1000 [00:12<00:00, 82.80it/s]\n"
     ]
    },
    {
     "name": "stdout",
     "output_type": "stream",
     "text": [
      "\t\tTotal time for config: 12.083099603652954\n",
      "Instance 856, T = 1.0, Proposal = MALA_MC, Acceptance = metropolis, Gap = 0.0000\n",
      "Warning: Gap is very small, may be inaccurate.\n",
      "Starting problem instance 857 of 2000 with n = 3\n"
     ]
    },
    {
     "name": "stderr",
     "output_type": "stream",
     "text": [
      "100%|██████████| 1000/1000 [00:01<00:00, 540.77it/s]\n"
     ]
    },
    {
     "name": "stdout",
     "output_type": "stream",
     "text": [
      "\t\tTotal time for config: 1.8492064476013184\n",
      "Instance 857, T = 1.0, Proposal = MALA_MC, Acceptance = metropolis, Gap = 0.7112\n",
      "Starting problem instance 858 of 2000 with n = 4\n"
     ]
    },
    {
     "name": "stderr",
     "output_type": "stream",
     "text": [
      "100%|██████████| 1000/1000 [00:02<00:00, 346.22it/s]\n"
     ]
    },
    {
     "name": "stdout",
     "output_type": "stream",
     "text": [
      "\t\tTotal time for config: 2.894331932067871\n",
      "Instance 858, T = 1.0, Proposal = MALA_MC, Acceptance = metropolis, Gap = 0.8613\n",
      "Starting problem instance 859 of 2000 with n = 5\n"
     ]
    },
    {
     "name": "stderr",
     "output_type": "stream",
     "text": [
      "100%|██████████| 1000/1000 [00:03<00:00, 275.67it/s]\n"
     ]
    },
    {
     "name": "stdout",
     "output_type": "stream",
     "text": [
      "\t\tTotal time for config: 3.631960153579712\n",
      "Instance 859, T = 1.0, Proposal = MALA_MC, Acceptance = metropolis, Gap = 0.1931\n",
      "Starting problem instance 860 of 2000 with n = 6\n"
     ]
    },
    {
     "name": "stderr",
     "output_type": "stream",
     "text": [
      "100%|██████████| 1000/1000 [00:02<00:00, 423.41it/s]\n"
     ]
    },
    {
     "name": "stdout",
     "output_type": "stream",
     "text": [
      "\t\tTotal time for config: 2.3677978515625\n",
      "Instance 860, T = 1.0, Proposal = MALA_MC, Acceptance = metropolis, Gap = 0.0167\n",
      "Starting problem instance 861 of 2000 with n = 7\n"
     ]
    },
    {
     "name": "stderr",
     "output_type": "stream",
     "text": [
      "100%|██████████| 1000/1000 [00:02<00:00, 355.33it/s]\n"
     ]
    },
    {
     "name": "stdout",
     "output_type": "stream",
     "text": [
      "\t\tTotal time for config: 2.817249298095703\n",
      "Instance 861, T = 1.0, Proposal = MALA_MC, Acceptance = metropolis, Gap = 0.0000\n",
      "Warning: Gap is very small, may be inaccurate.\n",
      "Starting problem instance 862 of 2000 with n = 8\n"
     ]
    },
    {
     "name": "stderr",
     "output_type": "stream",
     "text": [
      "100%|██████████| 1000/1000 [00:03<00:00, 288.97it/s]\n"
     ]
    },
    {
     "name": "stdout",
     "output_type": "stream",
     "text": [
      "\t\tTotal time for config: 3.4639577865600586\n",
      "Instance 862, T = 1.0, Proposal = MALA_MC, Acceptance = metropolis, Gap = 0.0000\n",
      "Warning: Gap is very small, may be inaccurate.\n",
      "Starting problem instance 863 of 2000 with n = 9\n"
     ]
    },
    {
     "name": "stderr",
     "output_type": "stream",
     "text": [
      "100%|██████████| 1000/1000 [00:04<00:00, 209.37it/s]\n"
     ]
    },
    {
     "name": "stdout",
     "output_type": "stream",
     "text": [
      "\t\tTotal time for config: 4.776128768920898\n",
      "Instance 863, T = 1.0, Proposal = MALA_MC, Acceptance = metropolis, Gap = 0.0000\n",
      "Warning: Gap is very small, may be inaccurate.\n",
      "Starting problem instance 864 of 2000 with n = 10\n"
     ]
    },
    {
     "name": "stderr",
     "output_type": "stream",
     "text": [
      "100%|██████████| 1000/1000 [00:07<00:00, 130.35it/s]\n"
     ]
    },
    {
     "name": "stdout",
     "output_type": "stream",
     "text": [
      "\t\tTotal time for config: 7.6718761920928955\n",
      "Instance 864, T = 1.0, Proposal = MALA_MC, Acceptance = metropolis, Gap = 0.0000\n",
      "Warning: Gap is very small, may be inaccurate.\n",
      "Starting problem instance 865 of 2000 with n = 3\n"
     ]
    },
    {
     "name": "stderr",
     "output_type": "stream",
     "text": [
      "100%|██████████| 1000/1000 [00:01<00:00, 687.67it/s]\n"
     ]
    },
    {
     "name": "stdout",
     "output_type": "stream",
     "text": [
      "\t\tTotal time for config: 1.4598116874694824\n",
      "Instance 865, T = 1.0, Proposal = MALA_MC, Acceptance = metropolis, Gap = 0.8112\n",
      "Starting problem instance 866 of 2000 with n = 4\n"
     ]
    },
    {
     "name": "stderr",
     "output_type": "stream",
     "text": [
      "100%|██████████| 1000/1000 [00:01<00:00, 579.64it/s]\n"
     ]
    },
    {
     "name": "stdout",
     "output_type": "stream",
     "text": [
      "\t\tTotal time for config: 1.7299442291259766\n",
      "Instance 866, T = 1.0, Proposal = MALA_MC, Acceptance = metropolis, Gap = 0.0980\n",
      "Starting problem instance 867 of 2000 with n = 5\n"
     ]
    },
    {
     "name": "stderr",
     "output_type": "stream",
     "text": [
      "100%|██████████| 1000/1000 [00:01<00:00, 565.11it/s]\n"
     ]
    },
    {
     "name": "stdout",
     "output_type": "stream",
     "text": [
      "\t\tTotal time for config: 1.7745540142059326\n",
      "Instance 867, T = 1.0, Proposal = MALA_MC, Acceptance = metropolis, Gap = 0.1772\n",
      "Starting problem instance 868 of 2000 with n = 6\n"
     ]
    },
    {
     "name": "stderr",
     "output_type": "stream",
     "text": [
      "100%|██████████| 1000/1000 [00:02<00:00, 497.78it/s]\n"
     ]
    },
    {
     "name": "stdout",
     "output_type": "stream",
     "text": [
      "\t\tTotal time for config: 2.0275251865386963\n",
      "Instance 868, T = 1.0, Proposal = MALA_MC, Acceptance = metropolis, Gap = 0.0000\n",
      "Warning: Gap is very small, may be inaccurate.\n",
      "Starting problem instance 869 of 2000 with n = 7\n"
     ]
    },
    {
     "name": "stderr",
     "output_type": "stream",
     "text": [
      "100%|██████████| 1000/1000 [00:02<00:00, 334.18it/s]\n"
     ]
    },
    {
     "name": "stdout",
     "output_type": "stream",
     "text": [
      "\t\tTotal time for config: 2.994419574737549\n",
      "Instance 869, T = 1.0, Proposal = MALA_MC, Acceptance = metropolis, Gap = 0.0000\n",
      "Warning: Gap is very small, may be inaccurate.\n",
      "Starting problem instance 870 of 2000 with n = 8\n"
     ]
    },
    {
     "name": "stderr",
     "output_type": "stream",
     "text": [
      "100%|██████████| 1000/1000 [00:04<00:00, 249.19it/s]\n"
     ]
    },
    {
     "name": "stdout",
     "output_type": "stream",
     "text": [
      "\t\tTotal time for config: 4.018038272857666\n",
      "Instance 870, T = 1.0, Proposal = MALA_MC, Acceptance = metropolis, Gap = 0.0000\n",
      "Warning: Gap is very small, may be inaccurate.\n",
      "Starting problem instance 871 of 2000 with n = 9\n"
     ]
    },
    {
     "name": "stderr",
     "output_type": "stream",
     "text": [
      "100%|██████████| 1000/1000 [00:05<00:00, 174.76it/s]\n"
     ]
    },
    {
     "name": "stdout",
     "output_type": "stream",
     "text": [
      "\t\tTotal time for config: 5.7221901416778564\n",
      "Instance 871, T = 1.0, Proposal = MALA_MC, Acceptance = metropolis, Gap = 0.0000\n",
      "Warning: Gap is very small, may be inaccurate.\n",
      "Starting problem instance 872 of 2000 with n = 10\n"
     ]
    },
    {
     "name": "stderr",
     "output_type": "stream",
     "text": [
      "100%|██████████| 1000/1000 [00:11<00:00, 87.57it/s] \n"
     ]
    },
    {
     "name": "stdout",
     "output_type": "stream",
     "text": [
      "\t\tTotal time for config: 11.423510551452637\n",
      "Instance 872, T = 1.0, Proposal = MALA_MC, Acceptance = metropolis, Gap = 0.0000\n",
      "Warning: Gap is very small, may be inaccurate.\n",
      "Starting problem instance 873 of 2000 with n = 3\n"
     ]
    },
    {
     "name": "stderr",
     "output_type": "stream",
     "text": [
      "100%|██████████| 1000/1000 [00:00<00:00, 1012.11it/s]\n"
     ]
    },
    {
     "name": "stdout",
     "output_type": "stream",
     "text": [
      "\t\tTotal time for config: 0.9920470714569092\n",
      "Instance 873, T = 1.0, Proposal = MALA_MC, Acceptance = metropolis, Gap = 0.6144\n",
      "Starting problem instance 874 of 2000 with n = 4\n"
     ]
    },
    {
     "name": "stderr",
     "output_type": "stream",
     "text": [
      "100%|██████████| 1000/1000 [00:01<00:00, 616.64it/s]\n"
     ]
    },
    {
     "name": "stdout",
     "output_type": "stream",
     "text": [
      "\t\tTotal time for config: 1.6257202625274658\n",
      "Instance 874, T = 1.0, Proposal = MALA_MC, Acceptance = metropolis, Gap = 0.2709\n",
      "Starting problem instance 875 of 2000 with n = 5\n"
     ]
    },
    {
     "name": "stderr",
     "output_type": "stream",
     "text": [
      "100%|██████████| 1000/1000 [00:02<00:00, 435.59it/s]\n"
     ]
    },
    {
     "name": "stdout",
     "output_type": "stream",
     "text": [
      "\t\tTotal time for config: 2.2997381687164307\n",
      "Instance 875, T = 1.0, Proposal = MALA_MC, Acceptance = metropolis, Gap = 0.4882\n",
      "Starting problem instance 876 of 2000 with n = 6\n"
     ]
    },
    {
     "name": "stderr",
     "output_type": "stream",
     "text": [
      "100%|██████████| 1000/1000 [00:02<00:00, 441.47it/s]\n"
     ]
    },
    {
     "name": "stdout",
     "output_type": "stream",
     "text": [
      "\t\tTotal time for config: 2.26715087890625\n",
      "Instance 876, T = 1.0, Proposal = MALA_MC, Acceptance = metropolis, Gap = 0.0000\n",
      "Starting problem instance 877 of 2000 with n = 7\n"
     ]
    },
    {
     "name": "stderr",
     "output_type": "stream",
     "text": [
      "100%|██████████| 1000/1000 [00:03<00:00, 315.76it/s]\n"
     ]
    },
    {
     "name": "stdout",
     "output_type": "stream",
     "text": [
      "\t\tTotal time for config: 3.1692886352539062\n",
      "Instance 877, T = 1.0, Proposal = MALA_MC, Acceptance = metropolis, Gap = 0.0867\n",
      "Starting problem instance 878 of 2000 with n = 8\n"
     ]
    },
    {
     "name": "stderr",
     "output_type": "stream",
     "text": [
      "100%|██████████| 1000/1000 [00:03<00:00, 263.36it/s]\n"
     ]
    },
    {
     "name": "stdout",
     "output_type": "stream",
     "text": [
      "\t\tTotal time for config: 3.801378011703491\n",
      "Instance 878, T = 1.0, Proposal = MALA_MC, Acceptance = metropolis, Gap = 0.0000\n",
      "Warning: Gap is very small, may be inaccurate.\n",
      "Starting problem instance 879 of 2000 with n = 9\n"
     ]
    },
    {
     "name": "stderr",
     "output_type": "stream",
     "text": [
      "100%|██████████| 1000/1000 [00:05<00:00, 167.11it/s]\n"
     ]
    },
    {
     "name": "stdout",
     "output_type": "stream",
     "text": [
      "\t\tTotal time for config: 5.9912402629852295\n",
      "Instance 879, T = 1.0, Proposal = MALA_MC, Acceptance = metropolis, Gap = 0.0000\n",
      "Warning: Gap is very small, may be inaccurate.\n",
      "Starting problem instance 880 of 2000 with n = 10\n"
     ]
    },
    {
     "name": "stderr",
     "output_type": "stream",
     "text": [
      "100%|██████████| 1000/1000 [00:09<00:00, 110.08it/s]\n"
     ]
    },
    {
     "name": "stdout",
     "output_type": "stream",
     "text": [
      "\t\tTotal time for config: 9.086997985839844\n",
      "Instance 880, T = 1.0, Proposal = MALA_MC, Acceptance = metropolis, Gap = 0.0000\n",
      "Warning: Gap is very small, may be inaccurate.\n",
      "Starting problem instance 881 of 2000 with n = 3\n"
     ]
    },
    {
     "name": "stderr",
     "output_type": "stream",
     "text": [
      "100%|██████████| 1000/1000 [00:01<00:00, 878.37it/s]\n"
     ]
    },
    {
     "name": "stdout",
     "output_type": "stream",
     "text": [
      "\t\tTotal time for config: 1.1427714824676514\n",
      "Instance 881, T = 1.0, Proposal = MALA_MC, Acceptance = metropolis, Gap = 0.7478\n",
      "Starting problem instance 882 of 2000 with n = 4\n"
     ]
    },
    {
     "name": "stderr",
     "output_type": "stream",
     "text": [
      "100%|██████████| 1000/1000 [00:01<00:00, 629.35it/s]\n"
     ]
    },
    {
     "name": "stdout",
     "output_type": "stream",
     "text": [
      "\t\tTotal time for config: 1.5948259830474854\n",
      "Instance 882, T = 1.0, Proposal = MALA_MC, Acceptance = metropolis, Gap = 0.2197\n",
      "Starting problem instance 883 of 2000 with n = 5\n"
     ]
    },
    {
     "name": "stderr",
     "output_type": "stream",
     "text": [
      "100%|██████████| 1000/1000 [00:02<00:00, 468.13it/s]\n"
     ]
    },
    {
     "name": "stdout",
     "output_type": "stream",
     "text": [
      "\t\tTotal time for config: 2.14093017578125\n",
      "Instance 883, T = 1.0, Proposal = MALA_MC, Acceptance = metropolis, Gap = 0.1367\n",
      "Starting problem instance 884 of 2000 with n = 6\n"
     ]
    },
    {
     "name": "stderr",
     "output_type": "stream",
     "text": [
      "100%|██████████| 1000/1000 [00:02<00:00, 454.09it/s]\n"
     ]
    },
    {
     "name": "stdout",
     "output_type": "stream",
     "text": [
      "\t\tTotal time for config: 2.207361936569214\n",
      "Instance 884, T = 1.0, Proposal = MALA_MC, Acceptance = metropolis, Gap = 0.6822\n",
      "Starting problem instance 885 of 2000 with n = 7\n"
     ]
    },
    {
     "name": "stderr",
     "output_type": "stream",
     "text": [
      "100%|██████████| 1000/1000 [00:02<00:00, 372.67it/s]\n"
     ]
    },
    {
     "name": "stdout",
     "output_type": "stream",
     "text": [
      "\t\tTotal time for config: 2.683372735977173\n",
      "Instance 885, T = 1.0, Proposal = MALA_MC, Acceptance = metropolis, Gap = 0.0000\n",
      "Warning: Gap is very small, may be inaccurate.\n",
      "Starting problem instance 886 of 2000 with n = 8\n"
     ]
    },
    {
     "name": "stderr",
     "output_type": "stream",
     "text": [
      "100%|██████████| 1000/1000 [00:03<00:00, 284.48it/s]\n"
     ]
    },
    {
     "name": "stdout",
     "output_type": "stream",
     "text": [
      "\t\tTotal time for config: 3.5193192958831787\n",
      "Instance 886, T = 1.0, Proposal = MALA_MC, Acceptance = metropolis, Gap = 0.0000\n",
      "Warning: Gap is very small, may be inaccurate.\n",
      "Starting problem instance 887 of 2000 with n = 9\n"
     ]
    },
    {
     "name": "stderr",
     "output_type": "stream",
     "text": [
      "100%|██████████| 1000/1000 [00:05<00:00, 180.75it/s]\n"
     ]
    },
    {
     "name": "stdout",
     "output_type": "stream",
     "text": [
      "\t\tTotal time for config: 5.5326502323150635\n",
      "Instance 887, T = 1.0, Proposal = MALA_MC, Acceptance = metropolis, Gap = 0.0000\n",
      "Warning: Gap is very small, may be inaccurate.\n",
      "Starting problem instance 888 of 2000 with n = 10\n"
     ]
    },
    {
     "name": "stderr",
     "output_type": "stream",
     "text": [
      "100%|██████████| 1000/1000 [00:10<00:00, 93.75it/s]\n"
     ]
    },
    {
     "name": "stdout",
     "output_type": "stream",
     "text": [
      "\t\tTotal time for config: 10.668460607528687\n",
      "Instance 888, T = 1.0, Proposal = MALA_MC, Acceptance = metropolis, Gap = 0.0000\n",
      "Warning: Gap is very small, may be inaccurate.\n",
      "Starting problem instance 889 of 2000 with n = 3\n"
     ]
    },
    {
     "name": "stderr",
     "output_type": "stream",
     "text": [
      "100%|██████████| 1000/1000 [00:01<00:00, 765.60it/s]\n"
     ]
    },
    {
     "name": "stdout",
     "output_type": "stream",
     "text": [
      "\t\tTotal time for config: 1.3121426105499268\n",
      "Instance 889, T = 1.0, Proposal = MALA_MC, Acceptance = metropolis, Gap = 0.6850\n",
      "Starting problem instance 890 of 2000 with n = 4\n"
     ]
    },
    {
     "name": "stderr",
     "output_type": "stream",
     "text": [
      "100%|██████████| 1000/1000 [00:01<00:00, 605.87it/s]\n"
     ]
    },
    {
     "name": "stdout",
     "output_type": "stream",
     "text": [
      "\t\tTotal time for config: 1.6545190811157227\n",
      "Instance 890, T = 1.0, Proposal = MALA_MC, Acceptance = metropolis, Gap = 0.8933\n",
      "Starting problem instance 891 of 2000 with n = 5\n"
     ]
    },
    {
     "name": "stderr",
     "output_type": "stream",
     "text": [
      "100%|██████████| 1000/1000 [00:02<00:00, 499.50it/s]\n"
     ]
    },
    {
     "name": "stdout",
     "output_type": "stream",
     "text": [
      "\t\tTotal time for config: 2.007002115249634\n",
      "Instance 891, T = 1.0, Proposal = MALA_MC, Acceptance = metropolis, Gap = 0.2756\n",
      "Starting problem instance 892 of 2000 with n = 6\n"
     ]
    },
    {
     "name": "stderr",
     "output_type": "stream",
     "text": [
      "100%|██████████| 1000/1000 [00:02<00:00, 470.30it/s]\n"
     ]
    },
    {
     "name": "stdout",
     "output_type": "stream",
     "text": [
      "\t\tTotal time for config: 2.1315793991088867\n",
      "Instance 892, T = 1.0, Proposal = MALA_MC, Acceptance = metropolis, Gap = 0.4024\n",
      "Starting problem instance 893 of 2000 with n = 7\n"
     ]
    },
    {
     "name": "stderr",
     "output_type": "stream",
     "text": [
      "100%|██████████| 1000/1000 [00:02<00:00, 384.23it/s]\n"
     ]
    },
    {
     "name": "stdout",
     "output_type": "stream",
     "text": [
      "\t\tTotal time for config: 2.606590747833252\n",
      "Instance 893, T = 1.0, Proposal = MALA_MC, Acceptance = metropolis, Gap = 0.0000\n",
      "Warning: Gap is very small, may be inaccurate.\n",
      "Starting problem instance 894 of 2000 with n = 8\n"
     ]
    },
    {
     "name": "stderr",
     "output_type": "stream",
     "text": [
      "100%|██████████| 1000/1000 [00:03<00:00, 277.92it/s]\n"
     ]
    },
    {
     "name": "stdout",
     "output_type": "stream",
     "text": [
      "\t\tTotal time for config: 3.6031014919281006\n",
      "Instance 894, T = 1.0, Proposal = MALA_MC, Acceptance = metropolis, Gap = 0.0000\n",
      "Warning: Gap is very small, may be inaccurate.\n",
      "Starting problem instance 895 of 2000 with n = 9\n"
     ]
    },
    {
     "name": "stderr",
     "output_type": "stream",
     "text": [
      "100%|██████████| 1000/1000 [00:05<00:00, 178.12it/s]\n"
     ]
    },
    {
     "name": "stdout",
     "output_type": "stream",
     "text": [
      "\t\tTotal time for config: 5.619085073471069\n",
      "Instance 895, T = 1.0, Proposal = MALA_MC, Acceptance = metropolis, Gap = 0.0000\n",
      "Warning: Gap is very small, may be inaccurate.\n",
      "Starting problem instance 896 of 2000 with n = 10\n"
     ]
    },
    {
     "name": "stderr",
     "output_type": "stream",
     "text": [
      "100%|██████████| 1000/1000 [00:09<00:00, 101.66it/s]\n"
     ]
    },
    {
     "name": "stdout",
     "output_type": "stream",
     "text": [
      "\t\tTotal time for config: 9.84245777130127\n",
      "Instance 896, T = 1.0, Proposal = MALA_MC, Acceptance = metropolis, Gap = 0.0000\n",
      "Warning: Gap is very small, may be inaccurate.\n",
      "Starting problem instance 897 of 2000 with n = 3\n"
     ]
    },
    {
     "name": "stderr",
     "output_type": "stream",
     "text": [
      "100%|██████████| 1000/1000 [00:01<00:00, 815.61it/s]\n"
     ]
    },
    {
     "name": "stdout",
     "output_type": "stream",
     "text": [
      "\t\tTotal time for config: 1.2301244735717773\n",
      "Instance 897, T = 1.0, Proposal = MALA_MC, Acceptance = metropolis, Gap = 0.9102\n",
      "Starting problem instance 898 of 2000 with n = 4\n"
     ]
    },
    {
     "name": "stderr",
     "output_type": "stream",
     "text": [
      "100%|██████████| 1000/1000 [00:01<00:00, 630.71it/s]\n"
     ]
    },
    {
     "name": "stdout",
     "output_type": "stream",
     "text": [
      "\t\tTotal time for config: 1.6024224758148193\n",
      "Instance 898, T = 1.0, Proposal = MALA_MC, Acceptance = metropolis, Gap = 0.7763\n",
      "Starting problem instance 899 of 2000 with n = 5\n"
     ]
    },
    {
     "name": "stderr",
     "output_type": "stream",
     "text": [
      "100%|██████████| 1000/1000 [00:02<00:00, 429.58it/s]\n"
     ]
    },
    {
     "name": "stdout",
     "output_type": "stream",
     "text": [
      "\t\tTotal time for config: 2.332047462463379\n",
      "Instance 899, T = 1.0, Proposal = MALA_MC, Acceptance = metropolis, Gap = 0.0000\n",
      "Warning: Gap is very small, may be inaccurate.\n",
      "Starting problem instance 900 of 2000 with n = 6\n"
     ]
    },
    {
     "name": "stderr",
     "output_type": "stream",
     "text": [
      "100%|██████████| 1000/1000 [00:02<00:00, 451.71it/s]\n"
     ]
    },
    {
     "name": "stdout",
     "output_type": "stream",
     "text": [
      "\t\tTotal time for config: 2.217843532562256\n",
      "Instance 900, T = 1.0, Proposal = MALA_MC, Acceptance = metropolis, Gap = 0.0001\n",
      "Starting problem instance 901 of 2000 with n = 7\n"
     ]
    },
    {
     "name": "stderr",
     "output_type": "stream",
     "text": [
      "100%|██████████| 1000/1000 [00:02<00:00, 391.68it/s]\n"
     ]
    },
    {
     "name": "stdout",
     "output_type": "stream",
     "text": [
      "\t\tTotal time for config: 2.55812931060791\n",
      "Instance 901, T = 1.0, Proposal = MALA_MC, Acceptance = metropolis, Gap = 0.0000\n",
      "Warning: Gap is very small, may be inaccurate.\n",
      "Starting problem instance 902 of 2000 with n = 8\n"
     ]
    },
    {
     "name": "stderr",
     "output_type": "stream",
     "text": [
      "100%|██████████| 1000/1000 [00:03<00:00, 303.10it/s]\n"
     ]
    },
    {
     "name": "stdout",
     "output_type": "stream",
     "text": [
      "\t\tTotal time for config: 3.3063504695892334\n",
      "Instance 902, T = 1.0, Proposal = MALA_MC, Acceptance = metropolis, Gap = 0.0000\n",
      "Warning: Gap is very small, may be inaccurate.\n",
      "Starting problem instance 903 of 2000 with n = 9\n"
     ]
    },
    {
     "name": "stderr",
     "output_type": "stream",
     "text": [
      "100%|██████████| 1000/1000 [00:05<00:00, 191.24it/s]\n"
     ]
    },
    {
     "name": "stdout",
     "output_type": "stream",
     "text": [
      "\t\tTotal time for config: 5.234431743621826\n",
      "Instance 903, T = 1.0, Proposal = MALA_MC, Acceptance = metropolis, Gap = 0.0000\n",
      "Warning: Gap is very small, may be inaccurate.\n",
      "Starting problem instance 904 of 2000 with n = 10\n"
     ]
    },
    {
     "name": "stderr",
     "output_type": "stream",
     "text": [
      "100%|██████████| 1000/1000 [00:10<00:00, 91.03it/s] \n"
     ]
    },
    {
     "name": "stdout",
     "output_type": "stream",
     "text": [
      "\t\tTotal time for config: 10.98783540725708\n",
      "Instance 904, T = 1.0, Proposal = MALA_MC, Acceptance = metropolis, Gap = 0.0000\n",
      "Warning: Gap is very small, may be inaccurate.\n",
      "Starting problem instance 905 of 2000 with n = 3\n"
     ]
    },
    {
     "name": "stderr",
     "output_type": "stream",
     "text": [
      "100%|██████████| 1000/1000 [00:00<00:00, 1167.43it/s]\n"
     ]
    },
    {
     "name": "stdout",
     "output_type": "stream",
     "text": [
      "\t\tTotal time for config: 0.8885190486907959\n",
      "Instance 905, T = 1.0, Proposal = MALA_MC, Acceptance = metropolis, Gap = 0.2867\n",
      "Starting problem instance 906 of 2000 with n = 4\n"
     ]
    },
    {
     "name": "stderr",
     "output_type": "stream",
     "text": [
      "100%|██████████| 1000/1000 [00:01<00:00, 594.24it/s]\n"
     ]
    },
    {
     "name": "stdout",
     "output_type": "stream",
     "text": [
      "\t\tTotal time for config: 1.6860706806182861\n",
      "Instance 906, T = 1.0, Proposal = MALA_MC, Acceptance = metropolis, Gap = 0.0488\n",
      "Starting problem instance 907 of 2000 with n = 5\n"
     ]
    },
    {
     "name": "stderr",
     "output_type": "stream",
     "text": [
      "100%|██████████| 1000/1000 [00:01<00:00, 514.35it/s]\n"
     ]
    },
    {
     "name": "stdout",
     "output_type": "stream",
     "text": [
      "\t\tTotal time for config: 1.9502520561218262\n",
      "Instance 907, T = 1.0, Proposal = MALA_MC, Acceptance = metropolis, Gap = 0.0000\n",
      "Warning: Gap is very small, may be inaccurate.\n",
      "Starting problem instance 908 of 2000 with n = 6\n"
     ]
    },
    {
     "name": "stderr",
     "output_type": "stream",
     "text": [
      "100%|██████████| 1000/1000 [00:02<00:00, 480.26it/s]\n"
     ]
    },
    {
     "name": "stdout",
     "output_type": "stream",
     "text": [
      "\t\tTotal time for config: 2.0891880989074707\n",
      "Instance 908, T = 1.0, Proposal = MALA_MC, Acceptance = metropolis, Gap = 0.0000\n",
      "Warning: Gap is very small, may be inaccurate.\n",
      "Starting problem instance 909 of 2000 with n = 7\n"
     ]
    },
    {
     "name": "stderr",
     "output_type": "stream",
     "text": [
      "100%|██████████| 1000/1000 [00:02<00:00, 401.07it/s]\n"
     ]
    },
    {
     "name": "stdout",
     "output_type": "stream",
     "text": [
      "\t\tTotal time for config: 2.498321294784546\n",
      "Instance 909, T = 1.0, Proposal = MALA_MC, Acceptance = metropolis, Gap = 0.0000\n",
      "Warning: Gap is very small, may be inaccurate.\n",
      "Starting problem instance 910 of 2000 with n = 8\n"
     ]
    },
    {
     "name": "stderr",
     "output_type": "stream",
     "text": [
      "100%|██████████| 1000/1000 [00:03<00:00, 295.82it/s]\n"
     ]
    },
    {
     "name": "stdout",
     "output_type": "stream",
     "text": [
      "\t\tTotal time for config: 3.384807825088501\n",
      "Instance 910, T = 1.0, Proposal = MALA_MC, Acceptance = metropolis, Gap = 0.0000\n",
      "Warning: Gap is very small, may be inaccurate.\n",
      "Starting problem instance 911 of 2000 with n = 9\n"
     ]
    },
    {
     "name": "stderr",
     "output_type": "stream",
     "text": [
      "100%|██████████| 1000/1000 [00:05<00:00, 189.06it/s]\n"
     ]
    },
    {
     "name": "stdout",
     "output_type": "stream",
     "text": [
      "\t\tTotal time for config: 5.293237686157227\n",
      "Instance 911, T = 1.0, Proposal = MALA_MC, Acceptance = metropolis, Gap = 0.0000\n",
      "Warning: Gap is very small, may be inaccurate.\n",
      "Starting problem instance 912 of 2000 with n = 10\n"
     ]
    },
    {
     "name": "stderr",
     "output_type": "stream",
     "text": [
      "100%|██████████| 1000/1000 [00:09<00:00, 101.02it/s]\n"
     ]
    },
    {
     "name": "stdout",
     "output_type": "stream",
     "text": [
      "\t\tTotal time for config: 9.905471324920654\n",
      "Instance 912, T = 1.0, Proposal = MALA_MC, Acceptance = metropolis, Gap = 0.0000\n",
      "Warning: Gap is very small, may be inaccurate.\n",
      "Starting problem instance 913 of 2000 with n = 3\n"
     ]
    },
    {
     "name": "stderr",
     "output_type": "stream",
     "text": [
      "100%|██████████| 1000/1000 [00:01<00:00, 884.23it/s]\n"
     ]
    },
    {
     "name": "stdout",
     "output_type": "stream",
     "text": [
      "\t\tTotal time for config: 1.1320137977600098\n",
      "Instance 913, T = 1.0, Proposal = MALA_MC, Acceptance = metropolis, Gap = 0.0000\n",
      "Starting problem instance 914 of 2000 with n = 4\n"
     ]
    },
    {
     "name": "stderr",
     "output_type": "stream",
     "text": [
      "100%|██████████| 1000/1000 [00:01<00:00, 640.70it/s]\n"
     ]
    },
    {
     "name": "stdout",
     "output_type": "stream",
     "text": [
      "\t\tTotal time for config: 1.5671584606170654\n",
      "Instance 914, T = 1.0, Proposal = MALA_MC, Acceptance = metropolis, Gap = 0.3431\n",
      "Starting problem instance 915 of 2000 with n = 5\n"
     ]
    },
    {
     "name": "stderr",
     "output_type": "stream",
     "text": [
      "100%|██████████| 1000/1000 [00:01<00:00, 509.22it/s]\n"
     ]
    },
    {
     "name": "stdout",
     "output_type": "stream",
     "text": [
      "\t\tTotal time for config: 1.9717857837677002\n",
      "Instance 915, T = 1.0, Proposal = MALA_MC, Acceptance = metropolis, Gap = 0.0000\n",
      "Warning: Gap is very small, may be inaccurate.\n",
      "Starting problem instance 916 of 2000 with n = 6\n"
     ]
    },
    {
     "name": "stderr",
     "output_type": "stream",
     "text": [
      "100%|██████████| 1000/1000 [00:02<00:00, 455.46it/s]\n"
     ]
    },
    {
     "name": "stdout",
     "output_type": "stream",
     "text": [
      "\t\tTotal time for config: 2.199892520904541\n",
      "Instance 916, T = 1.0, Proposal = MALA_MC, Acceptance = metropolis, Gap = 0.0000\n",
      "Warning: Gap is very small, may be inaccurate.\n",
      "Starting problem instance 917 of 2000 with n = 7\n"
     ]
    },
    {
     "name": "stderr",
     "output_type": "stream",
     "text": [
      "100%|██████████| 1000/1000 [00:02<00:00, 383.29it/s]\n"
     ]
    },
    {
     "name": "stdout",
     "output_type": "stream",
     "text": [
      "\t\tTotal time for config: 2.614116668701172\n",
      "Instance 917, T = 1.0, Proposal = MALA_MC, Acceptance = metropolis, Gap = 0.0000\n",
      "Warning: Gap is very small, may be inaccurate.\n",
      "Starting problem instance 918 of 2000 with n = 8\n"
     ]
    },
    {
     "name": "stderr",
     "output_type": "stream",
     "text": [
      "100%|██████████| 1000/1000 [00:03<00:00, 307.46it/s]\n"
     ]
    },
    {
     "name": "stdout",
     "output_type": "stream",
     "text": [
      "\t\tTotal time for config: 3.2583279609680176\n",
      "Instance 918, T = 1.0, Proposal = MALA_MC, Acceptance = metropolis, Gap = 0.0000\n",
      "Warning: Gap is very small, may be inaccurate.\n",
      "Starting problem instance 919 of 2000 with n = 9\n"
     ]
    },
    {
     "name": "stderr",
     "output_type": "stream",
     "text": [
      "100%|██████████| 1000/1000 [00:05<00:00, 188.14it/s]\n"
     ]
    },
    {
     "name": "stdout",
     "output_type": "stream",
     "text": [
      "\t\tTotal time for config: 5.32024621963501\n",
      "Instance 919, T = 1.0, Proposal = MALA_MC, Acceptance = metropolis, Gap = 0.0000\n",
      "Warning: Gap is very small, may be inaccurate.\n",
      "Starting problem instance 920 of 2000 with n = 10\n"
     ]
    },
    {
     "name": "stderr",
     "output_type": "stream",
     "text": [
      "100%|██████████| 1000/1000 [00:10<00:00, 94.15it/s]\n"
     ]
    },
    {
     "name": "stdout",
     "output_type": "stream",
     "text": [
      "\t\tTotal time for config: 10.624422788619995\n",
      "Instance 920, T = 1.0, Proposal = MALA_MC, Acceptance = metropolis, Gap = 0.0000\n",
      "Warning: Gap is very small, may be inaccurate.\n",
      "Starting problem instance 921 of 2000 with n = 3\n"
     ]
    },
    {
     "name": "stderr",
     "output_type": "stream",
     "text": [
      "100%|██████████| 1000/1000 [00:00<00:00, 1086.21it/s]\n"
     ]
    },
    {
     "name": "stdout",
     "output_type": "stream",
     "text": [
      "\t\tTotal time for config: 0.9206321239471436\n",
      "Instance 921, T = 1.0, Proposal = MALA_MC, Acceptance = metropolis, Gap = 0.8562\n",
      "Starting problem instance 922 of 2000 with n = 4\n"
     ]
    },
    {
     "name": "stderr",
     "output_type": "stream",
     "text": [
      "100%|██████████| 1000/1000 [00:01<00:00, 569.81it/s]\n"
     ]
    },
    {
     "name": "stdout",
     "output_type": "stream",
     "text": [
      "\t\tTotal time for config: 1.7570176124572754\n",
      "Instance 922, T = 1.0, Proposal = MALA_MC, Acceptance = metropolis, Gap = 0.7675\n",
      "Starting problem instance 923 of 2000 with n = 5\n"
     ]
    },
    {
     "name": "stderr",
     "output_type": "stream",
     "text": [
      "100%|██████████| 1000/1000 [00:02<00:00, 426.19it/s]\n"
     ]
    },
    {
     "name": "stdout",
     "output_type": "stream",
     "text": [
      "\t\tTotal time for config: 2.3505923748016357\n",
      "Instance 923, T = 1.0, Proposal = MALA_MC, Acceptance = metropolis, Gap = 0.0654\n",
      "Starting problem instance 924 of 2000 with n = 6\n"
     ]
    },
    {
     "name": "stderr",
     "output_type": "stream",
     "text": [
      "100%|██████████| 1000/1000 [00:02<00:00, 390.26it/s]\n"
     ]
    },
    {
     "name": "stdout",
     "output_type": "stream",
     "text": [
      "\t\tTotal time for config: 2.568406343460083\n",
      "Instance 924, T = 1.0, Proposal = MALA_MC, Acceptance = metropolis, Gap = 0.7422\n",
      "Starting problem instance 925 of 2000 with n = 7\n"
     ]
    },
    {
     "name": "stderr",
     "output_type": "stream",
     "text": [
      "100%|██████████| 1000/1000 [00:02<00:00, 379.05it/s]\n"
     ]
    },
    {
     "name": "stdout",
     "output_type": "stream",
     "text": [
      "\t\tTotal time for config: 2.645181179046631\n",
      "Instance 925, T = 1.0, Proposal = MALA_MC, Acceptance = metropolis, Gap = 0.6000\n",
      "Starting problem instance 926 of 2000 with n = 8\n"
     ]
    },
    {
     "name": "stderr",
     "output_type": "stream",
     "text": [
      "100%|██████████| 1000/1000 [00:03<00:00, 269.94it/s]\n"
     ]
    },
    {
     "name": "stdout",
     "output_type": "stream",
     "text": [
      "\t\tTotal time for config: 3.7114224433898926\n",
      "Instance 926, T = 1.0, Proposal = MALA_MC, Acceptance = metropolis, Gap = -0.0000\n",
      "Warning: Gap is very small, may be inaccurate.\n",
      "Starting problem instance 927 of 2000 with n = 9\n"
     ]
    },
    {
     "name": "stderr",
     "output_type": "stream",
     "text": [
      "100%|██████████| 1000/1000 [00:05<00:00, 170.59it/s]\n"
     ]
    },
    {
     "name": "stdout",
     "output_type": "stream",
     "text": [
      "\t\tTotal time for config: 5.8668296337127686\n",
      "Instance 927, T = 1.0, Proposal = MALA_MC, Acceptance = metropolis, Gap = 0.0000\n",
      "Warning: Gap is very small, may be inaccurate.\n",
      "Starting problem instance 928 of 2000 with n = 10\n"
     ]
    },
    {
     "name": "stderr",
     "output_type": "stream",
     "text": [
      "100%|██████████| 1000/1000 [00:12<00:00, 80.48it/s]\n"
     ]
    },
    {
     "name": "stdout",
     "output_type": "stream",
     "text": [
      "\t\tTotal time for config: 12.431470155715942\n",
      "Instance 928, T = 1.0, Proposal = MALA_MC, Acceptance = metropolis, Gap = 0.0000\n",
      "Warning: Gap is very small, may be inaccurate.\n",
      "Starting problem instance 929 of 2000 with n = 3\n"
     ]
    },
    {
     "name": "stderr",
     "output_type": "stream",
     "text": [
      "100%|██████████| 1000/1000 [00:01<00:00, 680.27it/s]\n"
     ]
    },
    {
     "name": "stdout",
     "output_type": "stream",
     "text": [
      "\t\tTotal time for config: 1.4771339893341064\n",
      "Instance 929, T = 1.0, Proposal = MALA_MC, Acceptance = metropolis, Gap = 0.9100\n",
      "Starting problem instance 930 of 2000 with n = 4\n"
     ]
    },
    {
     "name": "stderr",
     "output_type": "stream",
     "text": [
      "100%|██████████| 1000/1000 [00:01<00:00, 536.51it/s]\n"
     ]
    },
    {
     "name": "stdout",
     "output_type": "stream",
     "text": [
      "\t\tTotal time for config: 1.8699746131896973\n",
      "Instance 930, T = 1.0, Proposal = MALA_MC, Acceptance = metropolis, Gap = 0.6642\n",
      "Starting problem instance 931 of 2000 with n = 5\n"
     ]
    },
    {
     "name": "stderr",
     "output_type": "stream",
     "text": [
      "100%|██████████| 1000/1000 [00:02<00:00, 444.20it/s]\n"
     ]
    },
    {
     "name": "stdout",
     "output_type": "stream",
     "text": [
      "\t\tTotal time for config: 2.257559061050415\n",
      "Instance 931, T = 1.0, Proposal = MALA_MC, Acceptance = metropolis, Gap = 0.0000\n",
      "Warning: Gap is very small, may be inaccurate.\n",
      "Starting problem instance 932 of 2000 with n = 6\n"
     ]
    },
    {
     "name": "stderr",
     "output_type": "stream",
     "text": [
      "100%|██████████| 1000/1000 [00:02<00:00, 341.49it/s]\n"
     ]
    },
    {
     "name": "stdout",
     "output_type": "stream",
     "text": [
      "\t\tTotal time for config: 2.935141086578369\n",
      "Instance 932, T = 1.0, Proposal = MALA_MC, Acceptance = metropolis, Gap = 0.0000\n",
      "Warning: Gap is very small, may be inaccurate.\n",
      "Starting problem instance 933 of 2000 with n = 7\n"
     ]
    },
    {
     "name": "stderr",
     "output_type": "stream",
     "text": [
      "100%|██████████| 1000/1000 [00:03<00:00, 264.43it/s]\n"
     ]
    },
    {
     "name": "stdout",
     "output_type": "stream",
     "text": [
      "\t\tTotal time for config: 3.7863681316375732\n",
      "Instance 933, T = 1.0, Proposal = MALA_MC, Acceptance = metropolis, Gap = 0.0000\n",
      "Warning: Gap is very small, may be inaccurate.\n",
      "Starting problem instance 934 of 2000 with n = 8\n"
     ]
    },
    {
     "name": "stderr",
     "output_type": "stream",
     "text": [
      "100%|██████████| 1000/1000 [00:04<00:00, 210.77it/s]\n"
     ]
    },
    {
     "name": "stdout",
     "output_type": "stream",
     "text": [
      "\t\tTotal time for config: 4.750454902648926\n",
      "Instance 934, T = 1.0, Proposal = MALA_MC, Acceptance = metropolis, Gap = 0.0000\n",
      "Warning: Gap is very small, may be inaccurate.\n",
      "Starting problem instance 935 of 2000 with n = 9\n"
     ]
    },
    {
     "name": "stderr",
     "output_type": "stream",
     "text": [
      "100%|██████████| 1000/1000 [00:06<00:00, 162.78it/s]\n"
     ]
    },
    {
     "name": "stdout",
     "output_type": "stream",
     "text": [
      "\t\tTotal time for config: 6.148996353149414\n",
      "Instance 935, T = 1.0, Proposal = MALA_MC, Acceptance = metropolis, Gap = 0.0000\n",
      "Warning: Gap is very small, may be inaccurate.\n",
      "Starting problem instance 936 of 2000 with n = 10\n"
     ]
    },
    {
     "name": "stderr",
     "output_type": "stream",
     "text": [
      "100%|██████████| 1000/1000 [00:11<00:00, 89.28it/s]\n"
     ]
    },
    {
     "name": "stdout",
     "output_type": "stream",
     "text": [
      "\t\tTotal time for config: 11.204621076583862\n",
      "Instance 936, T = 1.0, Proposal = MALA_MC, Acceptance = metropolis, Gap = 0.0000\n",
      "Warning: Gap is very small, may be inaccurate.\n",
      "Starting problem instance 937 of 2000 with n = 3\n"
     ]
    },
    {
     "name": "stderr",
     "output_type": "stream",
     "text": [
      "100%|██████████| 1000/1000 [00:01<00:00, 682.54it/s]\n"
     ]
    },
    {
     "name": "stdout",
     "output_type": "stream",
     "text": [
      "\t\tTotal time for config: 1.470146656036377\n",
      "Instance 937, T = 1.0, Proposal = MALA_MC, Acceptance = metropolis, Gap = 0.4733\n",
      "Starting problem instance 938 of 2000 with n = 4\n"
     ]
    },
    {
     "name": "stderr",
     "output_type": "stream",
     "text": [
      "100%|██████████| 1000/1000 [00:02<00:00, 488.72it/s]\n"
     ]
    },
    {
     "name": "stdout",
     "output_type": "stream",
     "text": [
      "\t\tTotal time for config: 2.051170825958252\n",
      "Instance 938, T = 1.0, Proposal = MALA_MC, Acceptance = metropolis, Gap = 0.0294\n",
      "Starting problem instance 939 of 2000 with n = 5\n"
     ]
    },
    {
     "name": "stderr",
     "output_type": "stream",
     "text": [
      "100%|██████████| 1000/1000 [00:02<00:00, 445.73it/s]\n"
     ]
    },
    {
     "name": "stdout",
     "output_type": "stream",
     "text": [
      "\t\tTotal time for config: 2.249523401260376\n",
      "Instance 939, T = 1.0, Proposal = MALA_MC, Acceptance = metropolis, Gap = 0.7343\n",
      "Starting problem instance 940 of 2000 with n = 6\n"
     ]
    },
    {
     "name": "stderr",
     "output_type": "stream",
     "text": [
      "100%|██████████| 1000/1000 [00:02<00:00, 409.55it/s]\n"
     ]
    },
    {
     "name": "stdout",
     "output_type": "stream",
     "text": [
      "\t\tTotal time for config: 2.445688247680664\n",
      "Instance 940, T = 1.0, Proposal = MALA_MC, Acceptance = metropolis, Gap = 0.0604\n",
      "Starting problem instance 941 of 2000 with n = 7\n"
     ]
    },
    {
     "name": "stderr",
     "output_type": "stream",
     "text": [
      "100%|██████████| 1000/1000 [00:02<00:00, 338.87it/s]\n"
     ]
    },
    {
     "name": "stdout",
     "output_type": "stream",
     "text": [
      "\t\tTotal time for config: 2.9560177326202393\n",
      "Instance 941, T = 1.0, Proposal = MALA_MC, Acceptance = metropolis, Gap = 0.1767\n",
      "Starting problem instance 942 of 2000 with n = 8\n"
     ]
    },
    {
     "name": "stderr",
     "output_type": "stream",
     "text": [
      "100%|██████████| 1000/1000 [00:03<00:00, 272.51it/s]\n"
     ]
    },
    {
     "name": "stdout",
     "output_type": "stream",
     "text": [
      "\t\tTotal time for config: 3.6756739616394043\n",
      "Instance 942, T = 1.0, Proposal = MALA_MC, Acceptance = metropolis, Gap = 0.0000\n",
      "Warning: Gap is very small, may be inaccurate.\n",
      "Starting problem instance 943 of 2000 with n = 9\n"
     ]
    },
    {
     "name": "stderr",
     "output_type": "stream",
     "text": [
      "100%|██████████| 1000/1000 [00:06<00:00, 166.67it/s]\n"
     ]
    },
    {
     "name": "stdout",
     "output_type": "stream",
     "text": [
      "\t\tTotal time for config: 6.0039074420928955\n",
      "Instance 943, T = 1.0, Proposal = MALA_MC, Acceptance = metropolis, Gap = 0.0000\n",
      "Warning: Gap is very small, may be inaccurate.\n",
      "Starting problem instance 944 of 2000 with n = 10\n"
     ]
    },
    {
     "name": "stderr",
     "output_type": "stream",
     "text": [
      "100%|██████████| 1000/1000 [00:11<00:00, 85.23it/s]\n"
     ]
    },
    {
     "name": "stdout",
     "output_type": "stream",
     "text": [
      "\t\tTotal time for config: 11.738782405853271\n",
      "Instance 944, T = 1.0, Proposal = MALA_MC, Acceptance = metropolis, Gap = 0.0000\n",
      "Warning: Gap is very small, may be inaccurate.\n",
      "Starting problem instance 945 of 2000 with n = 3\n"
     ]
    },
    {
     "name": "stderr",
     "output_type": "stream",
     "text": [
      "100%|██████████| 1000/1000 [00:01<00:00, 675.09it/s]\n"
     ]
    },
    {
     "name": "stdout",
     "output_type": "stream",
     "text": [
      "\t\tTotal time for config: 1.4852616786956787\n",
      "Instance 945, T = 1.0, Proposal = MALA_MC, Acceptance = metropolis, Gap = 0.6668\n",
      "Starting problem instance 946 of 2000 with n = 4\n"
     ]
    },
    {
     "name": "stderr",
     "output_type": "stream",
     "text": [
      "100%|██████████| 1000/1000 [00:01<00:00, 530.65it/s]\n"
     ]
    },
    {
     "name": "stdout",
     "output_type": "stream",
     "text": [
      "\t\tTotal time for config: 1.889435052871704\n",
      "Instance 946, T = 1.0, Proposal = MALA_MC, Acceptance = metropolis, Gap = 0.2921\n",
      "Starting problem instance 947 of 2000 with n = 5\n"
     ]
    },
    {
     "name": "stderr",
     "output_type": "stream",
     "text": [
      "100%|██████████| 1000/1000 [00:02<00:00, 458.93it/s]\n"
     ]
    },
    {
     "name": "stdout",
     "output_type": "stream",
     "text": [
      "\t\tTotal time for config: 2.1829755306243896\n",
      "Instance 947, T = 1.0, Proposal = MALA_MC, Acceptance = metropolis, Gap = 0.4767\n",
      "Starting problem instance 948 of 2000 with n = 6\n"
     ]
    },
    {
     "name": "stderr",
     "output_type": "stream",
     "text": [
      "100%|██████████| 1000/1000 [00:02<00:00, 423.43it/s]\n"
     ]
    },
    {
     "name": "stdout",
     "output_type": "stream",
     "text": [
      "\t\tTotal time for config: 2.3666675090789795\n",
      "Instance 948, T = 1.0, Proposal = MALA_MC, Acceptance = metropolis, Gap = 0.0777\n",
      "Starting problem instance 949 of 2000 with n = 7\n"
     ]
    },
    {
     "name": "stderr",
     "output_type": "stream",
     "text": [
      "100%|██████████| 1000/1000 [00:02<00:00, 357.21it/s]\n"
     ]
    },
    {
     "name": "stdout",
     "output_type": "stream",
     "text": [
      "\t\tTotal time for config: 2.8044497966766357\n",
      "Instance 949, T = 1.0, Proposal = MALA_MC, Acceptance = metropolis, Gap = 0.0000\n",
      "Warning: Gap is very small, may be inaccurate.\n",
      "Starting problem instance 950 of 2000 with n = 8\n"
     ]
    },
    {
     "name": "stderr",
     "output_type": "stream",
     "text": [
      "100%|██████████| 1000/1000 [00:03<00:00, 283.31it/s]\n"
     ]
    },
    {
     "name": "stdout",
     "output_type": "stream",
     "text": [
      "\t\tTotal time for config: 3.535670042037964\n",
      "Instance 950, T = 1.0, Proposal = MALA_MC, Acceptance = metropolis, Gap = 0.0000\n",
      "Warning: Gap is very small, may be inaccurate.\n",
      "Starting problem instance 951 of 2000 with n = 9\n"
     ]
    },
    {
     "name": "stderr",
     "output_type": "stream",
     "text": [
      "100%|██████████| 1000/1000 [00:04<00:00, 225.11it/s]\n"
     ]
    },
    {
     "name": "stdout",
     "output_type": "stream",
     "text": [
      "\t\tTotal time for config: 4.448399543762207\n",
      "Instance 951, T = 1.0, Proposal = MALA_MC, Acceptance = metropolis, Gap = 0.0000\n",
      "Warning: Gap is very small, may be inaccurate.\n",
      "Starting problem instance 952 of 2000 with n = 10\n"
     ]
    },
    {
     "name": "stderr",
     "output_type": "stream",
     "text": [
      "100%|██████████| 1000/1000 [00:06<00:00, 144.17it/s]\n"
     ]
    },
    {
     "name": "stdout",
     "output_type": "stream",
     "text": [
      "\t\tTotal time for config: 6.9404685497283936\n",
      "Instance 952, T = 1.0, Proposal = MALA_MC, Acceptance = metropolis, Gap = 0.0000\n",
      "Warning: Gap is very small, may be inaccurate.\n",
      "Starting problem instance 953 of 2000 with n = 3\n"
     ]
    },
    {
     "name": "stderr",
     "output_type": "stream",
     "text": [
      "100%|██████████| 1000/1000 [00:00<00:00, 1055.44it/s]\n"
     ]
    },
    {
     "name": "stdout",
     "output_type": "stream",
     "text": [
      "\t\tTotal time for config: 0.9524943828582764\n",
      "Instance 953, T = 1.0, Proposal = MALA_MC, Acceptance = metropolis, Gap = 0.4064\n",
      "Starting problem instance 954 of 2000 with n = 4\n"
     ]
    },
    {
     "name": "stderr",
     "output_type": "stream",
     "text": [
      "100%|██████████| 1000/1000 [00:01<00:00, 713.68it/s]\n"
     ]
    },
    {
     "name": "stdout",
     "output_type": "stream",
     "text": [
      "\t\tTotal time for config: 1.4045829772949219\n",
      "Instance 954, T = 1.0, Proposal = MALA_MC, Acceptance = metropolis, Gap = 0.0846\n",
      "Starting problem instance 955 of 2000 with n = 5\n"
     ]
    },
    {
     "name": "stderr",
     "output_type": "stream",
     "text": [
      "100%|██████████| 1000/1000 [00:01<00:00, 637.30it/s]\n"
     ]
    },
    {
     "name": "stdout",
     "output_type": "stream",
     "text": [
      "\t\tTotal time for config: 1.5734434127807617\n",
      "Instance 955, T = 1.0, Proposal = MALA_MC, Acceptance = metropolis, Gap = 0.0000\n",
      "Warning: Gap is very small, may be inaccurate.\n",
      "Starting problem instance 956 of 2000 with n = 6\n"
     ]
    },
    {
     "name": "stderr",
     "output_type": "stream",
     "text": [
      "100%|██████████| 1000/1000 [00:01<00:00, 582.25it/s]\n"
     ]
    },
    {
     "name": "stdout",
     "output_type": "stream",
     "text": [
      "\t\tTotal time for config: 1.7204899787902832\n",
      "Instance 956, T = 1.0, Proposal = MALA_MC, Acceptance = metropolis, Gap = 0.2431\n",
      "Starting problem instance 957 of 2000 with n = 7\n"
     ]
    },
    {
     "name": "stderr",
     "output_type": "stream",
     "text": [
      "100%|██████████| 1000/1000 [00:02<00:00, 465.10it/s]\n"
     ]
    },
    {
     "name": "stdout",
     "output_type": "stream",
     "text": [
      "\t\tTotal time for config: 2.154083490371704\n",
      "Instance 957, T = 1.0, Proposal = MALA_MC, Acceptance = metropolis, Gap = 0.0000\n",
      "Warning: Gap is very small, may be inaccurate.\n",
      "Starting problem instance 958 of 2000 with n = 8\n"
     ]
    },
    {
     "name": "stderr",
     "output_type": "stream",
     "text": [
      "100%|██████████| 1000/1000 [00:02<00:00, 389.08it/s]\n"
     ]
    },
    {
     "name": "stdout",
     "output_type": "stream",
     "text": [
      "\t\tTotal time for config: 2.575282573699951\n",
      "Instance 958, T = 1.0, Proposal = MALA_MC, Acceptance = metropolis, Gap = 0.0000\n",
      "Warning: Gap is very small, may be inaccurate.\n",
      "Starting problem instance 959 of 2000 with n = 9\n"
     ]
    },
    {
     "name": "stderr",
     "output_type": "stream",
     "text": [
      "100%|██████████| 1000/1000 [00:03<00:00, 252.12it/s]\n"
     ]
    },
    {
     "name": "stdout",
     "output_type": "stream",
     "text": [
      "\t\tTotal time for config: 3.9693634510040283\n",
      "Instance 959, T = 1.0, Proposal = MALA_MC, Acceptance = metropolis, Gap = 0.0000\n",
      "Warning: Gap is very small, may be inaccurate.\n",
      "Starting problem instance 960 of 2000 with n = 10\n"
     ]
    },
    {
     "name": "stderr",
     "output_type": "stream",
     "text": [
      "100%|██████████| 1000/1000 [00:06<00:00, 152.94it/s]\n"
     ]
    },
    {
     "name": "stdout",
     "output_type": "stream",
     "text": [
      "\t\tTotal time for config: 6.541518926620483\n",
      "Instance 960, T = 1.0, Proposal = MALA_MC, Acceptance = metropolis, Gap = 0.0000\n",
      "Warning: Gap is very small, may be inaccurate.\n",
      "Starting problem instance 961 of 2000 with n = 3\n"
     ]
    },
    {
     "name": "stderr",
     "output_type": "stream",
     "text": [
      "100%|██████████| 1000/1000 [00:00<00:00, 1195.81it/s]\n"
     ]
    },
    {
     "name": "stdout",
     "output_type": "stream",
     "text": [
      "\t\tTotal time for config: 0.8402523994445801\n",
      "Instance 961, T = 1.0, Proposal = MALA_MC, Acceptance = metropolis, Gap = 0.8133\n",
      "Starting problem instance 962 of 2000 with n = 4\n"
     ]
    },
    {
     "name": "stderr",
     "output_type": "stream",
     "text": [
      "100%|██████████| 1000/1000 [00:01<00:00, 931.81it/s]\n"
     ]
    },
    {
     "name": "stdout",
     "output_type": "stream",
     "text": [
      "\t\tTotal time for config: 1.0764544010162354\n",
      "Instance 962, T = 1.0, Proposal = MALA_MC, Acceptance = metropolis, Gap = 0.7864\n",
      "Starting problem instance 963 of 2000 with n = 5\n"
     ]
    },
    {
     "name": "stderr",
     "output_type": "stream",
     "text": [
      "100%|██████████| 1000/1000 [00:01<00:00, 773.11it/s]\n"
     ]
    },
    {
     "name": "stdout",
     "output_type": "stream",
     "text": [
      "\t\tTotal time for config: 1.2964885234832764\n",
      "Instance 963, T = 1.0, Proposal = MALA_MC, Acceptance = metropolis, Gap = 0.4246\n",
      "Starting problem instance 964 of 2000 with n = 6\n"
     ]
    },
    {
     "name": "stderr",
     "output_type": "stream",
     "text": [
      "100%|██████████| 1000/1000 [00:01<00:00, 737.62it/s]\n"
     ]
    },
    {
     "name": "stdout",
     "output_type": "stream",
     "text": [
      "\t\tTotal time for config: 1.3607966899871826\n",
      "Instance 964, T = 1.0, Proposal = MALA_MC, Acceptance = metropolis, Gap = 0.0004\n",
      "Starting problem instance 965 of 2000 with n = 7\n"
     ]
    },
    {
     "name": "stderr",
     "output_type": "stream",
     "text": [
      "100%|██████████| 1000/1000 [00:01<00:00, 598.13it/s]\n"
     ]
    },
    {
     "name": "stdout",
     "output_type": "stream",
     "text": [
      "\t\tTotal time for config: 1.6759915351867676\n",
      "Instance 965, T = 1.0, Proposal = MALA_MC, Acceptance = metropolis, Gap = 0.0004\n",
      "Starting problem instance 966 of 2000 with n = 8\n"
     ]
    },
    {
     "name": "stderr",
     "output_type": "stream",
     "text": [
      "100%|██████████| 1000/1000 [00:02<00:00, 403.50it/s]\n"
     ]
    },
    {
     "name": "stdout",
     "output_type": "stream",
     "text": [
      "\t\tTotal time for config: 2.4814233779907227\n",
      "Instance 966, T = 1.0, Proposal = MALA_MC, Acceptance = metropolis, Gap = 0.0000\n",
      "Warning: Gap is very small, may be inaccurate.\n",
      "Starting problem instance 967 of 2000 with n = 9\n"
     ]
    },
    {
     "name": "stderr",
     "output_type": "stream",
     "text": [
      "100%|██████████| 1000/1000 [00:03<00:00, 264.92it/s]\n"
     ]
    },
    {
     "name": "stdout",
     "output_type": "stream",
     "text": [
      "\t\tTotal time for config: 3.7790842056274414\n",
      "Instance 967, T = 1.0, Proposal = MALA_MC, Acceptance = metropolis, Gap = 0.0000\n",
      "Warning: Gap is very small, may be inaccurate.\n",
      "Starting problem instance 968 of 2000 with n = 10\n"
     ]
    },
    {
     "name": "stderr",
     "output_type": "stream",
     "text": [
      "100%|██████████| 1000/1000 [00:07<00:00, 136.08it/s]\n"
     ]
    },
    {
     "name": "stdout",
     "output_type": "stream",
     "text": [
      "\t\tTotal time for config: 7.35237193107605\n",
      "Instance 968, T = 1.0, Proposal = MALA_MC, Acceptance = metropolis, Gap = 0.0000\n",
      "Warning: Gap is very small, may be inaccurate.\n",
      "Starting problem instance 969 of 2000 with n = 3\n"
     ]
    },
    {
     "name": "stderr",
     "output_type": "stream",
     "text": [
      "100%|██████████| 1000/1000 [00:00<00:00, 1159.08it/s]\n"
     ]
    },
    {
     "name": "stdout",
     "output_type": "stream",
     "text": [
      "\t\tTotal time for config: 0.8653669357299805\n",
      "Instance 969, T = 1.0, Proposal = MALA_MC, Acceptance = metropolis, Gap = 0.7472\n",
      "Starting problem instance 970 of 2000 with n = 4\n"
     ]
    },
    {
     "name": "stderr",
     "output_type": "stream",
     "text": [
      "100%|██████████| 1000/1000 [00:01<00:00, 920.31it/s]\n"
     ]
    },
    {
     "name": "stdout",
     "output_type": "stream",
     "text": [
      "\t\tTotal time for config: 1.090167760848999\n",
      "Instance 970, T = 1.0, Proposal = MALA_MC, Acceptance = metropolis, Gap = 0.3849\n",
      "Starting problem instance 971 of 2000 with n = 5\n"
     ]
    },
    {
     "name": "stderr",
     "output_type": "stream",
     "text": [
      "100%|██████████| 1000/1000 [00:01<00:00, 806.40it/s]\n"
     ]
    },
    {
     "name": "stdout",
     "output_type": "stream",
     "text": [
      "\t\tTotal time for config: 1.2440905570983887\n",
      "Instance 971, T = 1.0, Proposal = MALA_MC, Acceptance = metropolis, Gap = 0.0018\n",
      "Starting problem instance 972 of 2000 with n = 6\n"
     ]
    },
    {
     "name": "stderr",
     "output_type": "stream",
     "text": [
      "100%|██████████| 1000/1000 [00:01<00:00, 685.60it/s]\n"
     ]
    },
    {
     "name": "stdout",
     "output_type": "stream",
     "text": [
      "\t\tTotal time for config: 1.4615826606750488\n",
      "Instance 972, T = 1.0, Proposal = MALA_MC, Acceptance = metropolis, Gap = 0.0246\n",
      "Starting problem instance 973 of 2000 with n = 7\n"
     ]
    },
    {
     "name": "stderr",
     "output_type": "stream",
     "text": [
      "100%|██████████| 1000/1000 [00:01<00:00, 617.34it/s]\n"
     ]
    },
    {
     "name": "stdout",
     "output_type": "stream",
     "text": [
      "\t\tTotal time for config: 1.6236672401428223\n",
      "Instance 973, T = 1.0, Proposal = MALA_MC, Acceptance = metropolis, Gap = 0.0000\n",
      "Warning: Gap is very small, may be inaccurate.\n",
      "Starting problem instance 974 of 2000 with n = 8\n"
     ]
    },
    {
     "name": "stderr",
     "output_type": "stream",
     "text": [
      "100%|██████████| 1000/1000 [00:02<00:00, 456.89it/s]\n"
     ]
    },
    {
     "name": "stdout",
     "output_type": "stream",
     "text": [
      "\t\tTotal time for config: 2.1936490535736084\n",
      "Instance 974, T = 1.0, Proposal = MALA_MC, Acceptance = metropolis, Gap = 0.0000\n",
      "Warning: Gap is very small, may be inaccurate.\n",
      "Starting problem instance 975 of 2000 with n = 9\n"
     ]
    },
    {
     "name": "stderr",
     "output_type": "stream",
     "text": [
      "100%|██████████| 1000/1000 [00:03<00:00, 300.30it/s]\n"
     ]
    },
    {
     "name": "stdout",
     "output_type": "stream",
     "text": [
      "\t\tTotal time for config: 3.333085060119629\n",
      "Instance 975, T = 1.0, Proposal = MALA_MC, Acceptance = metropolis, Gap = 0.0000\n",
      "Warning: Gap is very small, may be inaccurate.\n",
      "Starting problem instance 976 of 2000 with n = 10\n"
     ]
    },
    {
     "name": "stderr",
     "output_type": "stream",
     "text": [
      "100%|██████████| 1000/1000 [00:06<00:00, 148.32it/s]\n"
     ]
    },
    {
     "name": "stdout",
     "output_type": "stream",
     "text": [
      "\t\tTotal time for config: 6.745490074157715\n",
      "Instance 976, T = 1.0, Proposal = MALA_MC, Acceptance = metropolis, Gap = 0.0000\n",
      "Warning: Gap is very small, may be inaccurate.\n",
      "Starting problem instance 977 of 2000 with n = 3\n"
     ]
    },
    {
     "name": "stderr",
     "output_type": "stream",
     "text": [
      "100%|██████████| 1000/1000 [00:00<00:00, 1019.27it/s]\n"
     ]
    },
    {
     "name": "stdout",
     "output_type": "stream",
     "text": [
      "\t\tTotal time for config: 0.9826688766479492\n",
      "Instance 977, T = 1.0, Proposal = MALA_MC, Acceptance = metropolis, Gap = 0.7640\n",
      "Starting problem instance 978 of 2000 with n = 4\n"
     ]
    },
    {
     "name": "stderr",
     "output_type": "stream",
     "text": [
      "100%|██████████| 1000/1000 [00:01<00:00, 763.40it/s]\n"
     ]
    },
    {
     "name": "stdout",
     "output_type": "stream",
     "text": [
      "\t\tTotal time for config: 1.3144235610961914\n",
      "Instance 978, T = 1.0, Proposal = MALA_MC, Acceptance = metropolis, Gap = 0.0000\n",
      "Warning: Gap is very small, may be inaccurate.\n",
      "Starting problem instance 979 of 2000 with n = 5\n"
     ]
    },
    {
     "name": "stderr",
     "output_type": "stream",
     "text": [
      "100%|██████████| 1000/1000 [00:01<00:00, 653.50it/s]\n"
     ]
    },
    {
     "name": "stdout",
     "output_type": "stream",
     "text": [
      "\t\tTotal time for config: 1.5342309474945068\n",
      "Instance 979, T = 1.0, Proposal = MALA_MC, Acceptance = metropolis, Gap = 0.0000\n",
      "Starting problem instance 980 of 2000 with n = 6\n"
     ]
    },
    {
     "name": "stderr",
     "output_type": "stream",
     "text": [
      "100%|██████████| 1000/1000 [00:01<00:00, 613.18it/s]\n"
     ]
    },
    {
     "name": "stdout",
     "output_type": "stream",
     "text": [
      "\t\tTotal time for config: 1.6337978839874268\n",
      "Instance 980, T = 1.0, Proposal = MALA_MC, Acceptance = metropolis, Gap = 0.0439\n",
      "Starting problem instance 981 of 2000 with n = 7\n"
     ]
    },
    {
     "name": "stderr",
     "output_type": "stream",
     "text": [
      "100%|██████████| 1000/1000 [00:01<00:00, 520.39it/s]\n"
     ]
    },
    {
     "name": "stdout",
     "output_type": "stream",
     "text": [
      "\t\tTotal time for config: 1.9255635738372803\n",
      "Instance 981, T = 1.0, Proposal = MALA_MC, Acceptance = metropolis, Gap = 0.0000\n",
      "Warning: Gap is very small, may be inaccurate.\n",
      "Starting problem instance 982 of 2000 with n = 8\n"
     ]
    },
    {
     "name": "stderr",
     "output_type": "stream",
     "text": [
      "100%|██████████| 1000/1000 [00:02<00:00, 398.48it/s]\n"
     ]
    },
    {
     "name": "stdout",
     "output_type": "stream",
     "text": [
      "\t\tTotal time for config: 2.512585163116455\n",
      "Instance 982, T = 1.0, Proposal = MALA_MC, Acceptance = metropolis, Gap = 0.0000\n",
      "Warning: Gap is very small, may be inaccurate.\n",
      "Starting problem instance 983 of 2000 with n = 9\n"
     ]
    },
    {
     "name": "stderr",
     "output_type": "stream",
     "text": [
      "100%|██████████| 1000/1000 [00:03<00:00, 282.63it/s]\n"
     ]
    },
    {
     "name": "stdout",
     "output_type": "stream",
     "text": [
      "\t\tTotal time for config: 3.5436222553253174\n",
      "Instance 983, T = 1.0, Proposal = MALA_MC, Acceptance = metropolis, Gap = -0.0000\n",
      "Warning: Gap is very small, may be inaccurate.\n",
      "Starting problem instance 984 of 2000 with n = 10\n"
     ]
    },
    {
     "name": "stderr",
     "output_type": "stream",
     "text": [
      "100%|██████████| 1000/1000 [00:06<00:00, 155.16it/s]\n"
     ]
    },
    {
     "name": "stdout",
     "output_type": "stream",
     "text": [
      "\t\tTotal time for config: 6.450430154800415\n",
      "Instance 984, T = 1.0, Proposal = MALA_MC, Acceptance = metropolis, Gap = 0.0000\n",
      "Warning: Gap is very small, may be inaccurate.\n",
      "Starting problem instance 985 of 2000 with n = 3\n"
     ]
    },
    {
     "name": "stderr",
     "output_type": "stream",
     "text": [
      "100%|██████████| 1000/1000 [00:00<00:00, 1144.41it/s]\n"
     ]
    },
    {
     "name": "stdout",
     "output_type": "stream",
     "text": [
      "\t\tTotal time for config: 0.877328634262085\n",
      "Instance 985, T = 1.0, Proposal = MALA_MC, Acceptance = metropolis, Gap = 0.1021\n",
      "Starting problem instance 986 of 2000 with n = 4\n"
     ]
    },
    {
     "name": "stderr",
     "output_type": "stream",
     "text": [
      "100%|██████████| 1000/1000 [00:01<00:00, 943.73it/s]\n"
     ]
    },
    {
     "name": "stdout",
     "output_type": "stream",
     "text": [
      "\t\tTotal time for config: 1.0626616477966309\n",
      "Instance 986, T = 1.0, Proposal = MALA_MC, Acceptance = metropolis, Gap = 0.6131\n",
      "Starting problem instance 987 of 2000 with n = 5\n"
     ]
    },
    {
     "name": "stderr",
     "output_type": "stream",
     "text": [
      "100%|██████████| 1000/1000 [00:01<00:00, 754.95it/s]\n"
     ]
    },
    {
     "name": "stdout",
     "output_type": "stream",
     "text": [
      "\t\tTotal time for config: 1.3276758193969727\n",
      "Instance 987, T = 1.0, Proposal = MALA_MC, Acceptance = metropolis, Gap = 0.0000\n",
      "Warning: Gap is very small, may be inaccurate.\n",
      "Starting problem instance 988 of 2000 with n = 6\n"
     ]
    },
    {
     "name": "stderr",
     "output_type": "stream",
     "text": [
      "100%|██████████| 1000/1000 [00:01<00:00, 650.39it/s]\n"
     ]
    },
    {
     "name": "stdout",
     "output_type": "stream",
     "text": [
      "\t\tTotal time for config: 1.5404865741729736\n",
      "Instance 988, T = 1.0, Proposal = MALA_MC, Acceptance = metropolis, Gap = 0.0047\n",
      "Starting problem instance 989 of 2000 with n = 7\n"
     ]
    },
    {
     "name": "stderr",
     "output_type": "stream",
     "text": [
      "100%|██████████| 1000/1000 [00:01<00:00, 501.44it/s]\n"
     ]
    },
    {
     "name": "stdout",
     "output_type": "stream",
     "text": [
      "\t\tTotal time for config: 1.9972805976867676\n",
      "Instance 989, T = 1.0, Proposal = MALA_MC, Acceptance = metropolis, Gap = 0.0000\n",
      "Starting problem instance 990 of 2000 with n = 8\n"
     ]
    },
    {
     "name": "stderr",
     "output_type": "stream",
     "text": [
      "100%|██████████| 1000/1000 [00:02<00:00, 379.88it/s]\n"
     ]
    },
    {
     "name": "stdout",
     "output_type": "stream",
     "text": [
      "\t\tTotal time for config: 2.636098623275757\n",
      "Instance 990, T = 1.0, Proposal = MALA_MC, Acceptance = metropolis, Gap = 0.0000\n",
      "Warning: Gap is very small, may be inaccurate.\n",
      "Starting problem instance 991 of 2000 with n = 9\n"
     ]
    },
    {
     "name": "stderr",
     "output_type": "stream",
     "text": [
      "100%|██████████| 1000/1000 [00:04<00:00, 232.77it/s]\n"
     ]
    },
    {
     "name": "stdout",
     "output_type": "stream",
     "text": [
      "\t\tTotal time for config: 4.299109697341919\n",
      "Instance 991, T = 1.0, Proposal = MALA_MC, Acceptance = metropolis, Gap = 0.0000\n",
      "Warning: Gap is very small, may be inaccurate.\n",
      "Starting problem instance 992 of 2000 with n = 10\n"
     ]
    },
    {
     "name": "stderr",
     "output_type": "stream",
     "text": [
      "100%|██████████| 1000/1000 [00:06<00:00, 147.25it/s]\n"
     ]
    },
    {
     "name": "stdout",
     "output_type": "stream",
     "text": [
      "\t\tTotal time for config: 6.795295715332031\n",
      "Instance 992, T = 1.0, Proposal = MALA_MC, Acceptance = metropolis, Gap = 0.0000\n",
      "Warning: Gap is very small, may be inaccurate.\n",
      "Starting problem instance 993 of 2000 with n = 3\n"
     ]
    },
    {
     "name": "stderr",
     "output_type": "stream",
     "text": [
      "100%|██████████| 1000/1000 [00:00<00:00, 1070.26it/s]\n"
     ]
    },
    {
     "name": "stdout",
     "output_type": "stream",
     "text": [
      "\t\tTotal time for config: 0.9367678165435791\n",
      "Instance 993, T = 1.0, Proposal = MALA_MC, Acceptance = metropolis, Gap = 0.7592\n",
      "Starting problem instance 994 of 2000 with n = 4\n"
     ]
    },
    {
     "name": "stderr",
     "output_type": "stream",
     "text": [
      "100%|██████████| 1000/1000 [00:01<00:00, 841.47it/s]\n"
     ]
    },
    {
     "name": "stdout",
     "output_type": "stream",
     "text": [
      "\t\tTotal time for config: 1.191471815109253\n",
      "Instance 994, T = 1.0, Proposal = MALA_MC, Acceptance = metropolis, Gap = 0.6322\n",
      "Starting problem instance 995 of 2000 with n = 5\n"
     ]
    },
    {
     "name": "stderr",
     "output_type": "stream",
     "text": [
      "100%|██████████| 1000/1000 [00:01<00:00, 606.51it/s]\n"
     ]
    },
    {
     "name": "stdout",
     "output_type": "stream",
     "text": [
      "\t\tTotal time for config: 1.6527140140533447\n",
      "Instance 995, T = 1.0, Proposal = MALA_MC, Acceptance = metropolis, Gap = 0.1014\n",
      "Starting problem instance 996 of 2000 with n = 6\n"
     ]
    },
    {
     "name": "stderr",
     "output_type": "stream",
     "text": [
      "100%|██████████| 1000/1000 [00:01<00:00, 527.77it/s]\n"
     ]
    },
    {
     "name": "stdout",
     "output_type": "stream",
     "text": [
      "\t\tTotal time for config: 1.8981130123138428\n",
      "Instance 996, T = 1.0, Proposal = MALA_MC, Acceptance = metropolis, Gap = 0.0000\n",
      "Warning: Gap is very small, may be inaccurate.\n",
      "Starting problem instance 997 of 2000 with n = 7\n"
     ]
    },
    {
     "name": "stderr",
     "output_type": "stream",
     "text": [
      "100%|██████████| 1000/1000 [00:02<00:00, 468.75it/s]\n"
     ]
    },
    {
     "name": "stdout",
     "output_type": "stream",
     "text": [
      "\t\tTotal time for config: 2.1373167037963867\n",
      "Instance 997, T = 1.0, Proposal = MALA_MC, Acceptance = metropolis, Gap = 0.0000\n",
      "Warning: Gap is very small, may be inaccurate.\n",
      "Starting problem instance 998 of 2000 with n = 8\n"
     ]
    },
    {
     "name": "stderr",
     "output_type": "stream",
     "text": [
      "100%|██████████| 1000/1000 [00:02<00:00, 385.09it/s]\n"
     ]
    },
    {
     "name": "stdout",
     "output_type": "stream",
     "text": [
      "\t\tTotal time for config: 2.600830078125\n",
      "Instance 998, T = 1.0, Proposal = MALA_MC, Acceptance = metropolis, Gap = 0.0000\n",
      "Warning: Gap is very small, may be inaccurate.\n",
      "Starting problem instance 999 of 2000 with n = 9\n"
     ]
    },
    {
     "name": "stderr",
     "output_type": "stream",
     "text": [
      "100%|██████████| 1000/1000 [00:03<00:00, 274.40it/s]\n"
     ]
    },
    {
     "name": "stdout",
     "output_type": "stream",
     "text": [
      "\t\tTotal time for config: 3.6483705043792725\n",
      "Instance 999, T = 1.0, Proposal = MALA_MC, Acceptance = metropolis, Gap = 0.0000\n",
      "Warning: Gap is very small, may be inaccurate.\n",
      "Starting problem instance 1000 of 2000 with n = 10\n"
     ]
    },
    {
     "name": "stderr",
     "output_type": "stream",
     "text": [
      "100%|██████████| 1000/1000 [00:06<00:00, 151.08it/s]\n"
     ]
    },
    {
     "name": "stdout",
     "output_type": "stream",
     "text": [
      "\t\tTotal time for config: 6.620956659317017\n",
      "Instance 1000, T = 1.0, Proposal = MALA_MC, Acceptance = metropolis, Gap = 0.0000\n",
      "Warning: Gap is very small, may be inaccurate.\n",
      "Starting problem instance 1001 of 2000 with n = 3\n"
     ]
    },
    {
     "name": "stderr",
     "output_type": "stream",
     "text": [
      "100%|██████████| 1000/1000 [00:00<00:00, 1190.18it/s]\n"
     ]
    },
    {
     "name": "stdout",
     "output_type": "stream",
     "text": [
      "\t\tTotal time for config: 0.8431224822998047\n",
      "Instance 1001, T = 1.0, Proposal = MALA_MC, Acceptance = metropolis, Gap = 0.7070\n",
      "Starting problem instance 1002 of 2000 with n = 4\n"
     ]
    },
    {
     "name": "stderr",
     "output_type": "stream",
     "text": [
      "100%|██████████| 1000/1000 [00:01<00:00, 860.32it/s]\n"
     ]
    },
    {
     "name": "stdout",
     "output_type": "stream",
     "text": [
      "\t\tTotal time for config: 1.1664116382598877\n",
      "Instance 1002, T = 1.0, Proposal = MALA_MC, Acceptance = metropolis, Gap = 0.1149\n",
      "Starting problem instance 1003 of 2000 with n = 5\n"
     ]
    },
    {
     "name": "stderr",
     "output_type": "stream",
     "text": [
      "100%|██████████| 1000/1000 [00:01<00:00, 618.20it/s]\n"
     ]
    },
    {
     "name": "stdout",
     "output_type": "stream",
     "text": [
      "\t\tTotal time for config: 1.6216180324554443\n",
      "Instance 1003, T = 1.0, Proposal = MALA_MC, Acceptance = metropolis, Gap = 0.5509\n",
      "Starting problem instance 1004 of 2000 with n = 6\n"
     ]
    },
    {
     "name": "stderr",
     "output_type": "stream",
     "text": [
      "100%|██████████| 1000/1000 [00:01<00:00, 576.21it/s]\n"
     ]
    },
    {
     "name": "stdout",
     "output_type": "stream",
     "text": [
      "\t\tTotal time for config: 1.739365577697754\n",
      "Instance 1004, T = 1.0, Proposal = MALA_MC, Acceptance = metropolis, Gap = 0.3348\n",
      "Starting problem instance 1005 of 2000 with n = 7\n"
     ]
    },
    {
     "name": "stderr",
     "output_type": "stream",
     "text": [
      "100%|██████████| 1000/1000 [00:02<00:00, 481.62it/s]\n"
     ]
    },
    {
     "name": "stdout",
     "output_type": "stream",
     "text": [
      "\t\tTotal time for config: 2.079840660095215\n",
      "Instance 1005, T = 1.0, Proposal = MALA_MC, Acceptance = metropolis, Gap = 0.0000\n",
      "Warning: Gap is very small, may be inaccurate.\n",
      "Starting problem instance 1006 of 2000 with n = 8\n"
     ]
    },
    {
     "name": "stderr",
     "output_type": "stream",
     "text": [
      "100%|██████████| 1000/1000 [00:02<00:00, 373.71it/s]\n"
     ]
    },
    {
     "name": "stdout",
     "output_type": "stream",
     "text": [
      "\t\tTotal time for config: 2.6789281368255615\n",
      "Instance 1006, T = 1.0, Proposal = MALA_MC, Acceptance = metropolis, Gap = 0.0000\n",
      "Warning: Gap is very small, may be inaccurate.\n",
      "Starting problem instance 1007 of 2000 with n = 9\n"
     ]
    },
    {
     "name": "stderr",
     "output_type": "stream",
     "text": [
      "100%|██████████| 1000/1000 [00:03<00:00, 250.81it/s]\n"
     ]
    },
    {
     "name": "stdout",
     "output_type": "stream",
     "text": [
      "\t\tTotal time for config: 3.9891693592071533\n",
      "Instance 1007, T = 1.0, Proposal = MALA_MC, Acceptance = metropolis, Gap = 0.0000\n",
      "Warning: Gap is very small, may be inaccurate.\n",
      "Starting problem instance 1008 of 2000 with n = 10\n"
     ]
    },
    {
     "name": "stderr",
     "output_type": "stream",
     "text": [
      "100%|██████████| 1000/1000 [00:07<00:00, 135.52it/s]\n"
     ]
    },
    {
     "name": "stdout",
     "output_type": "stream",
     "text": [
      "\t\tTotal time for config: 7.382828950881958\n",
      "Instance 1008, T = 1.0, Proposal = MALA_MC, Acceptance = metropolis, Gap = 0.0000\n",
      "Warning: Gap is very small, may be inaccurate.\n",
      "Starting problem instance 1009 of 2000 with n = 3\n"
     ]
    },
    {
     "name": "stderr",
     "output_type": "stream",
     "text": [
      "100%|██████████| 1000/1000 [00:00<00:00, 1040.22it/s]\n"
     ]
    },
    {
     "name": "stdout",
     "output_type": "stream",
     "text": [
      "\t\tTotal time for config: 0.9656867980957031\n",
      "Instance 1009, T = 1.0, Proposal = MALA_MC, Acceptance = metropolis, Gap = 0.9749\n",
      "Starting problem instance 1010 of 2000 with n = 4\n"
     ]
    },
    {
     "name": "stderr",
     "output_type": "stream",
     "text": [
      "100%|██████████| 1000/1000 [00:01<00:00, 741.66it/s]\n"
     ]
    },
    {
     "name": "stdout",
     "output_type": "stream",
     "text": [
      "\t\tTotal time for config: 1.3523683547973633\n",
      "Instance 1010, T = 1.0, Proposal = MALA_MC, Acceptance = metropolis, Gap = 0.8609\n",
      "Starting problem instance 1011 of 2000 with n = 5\n"
     ]
    },
    {
     "name": "stderr",
     "output_type": "stream",
     "text": [
      "100%|██████████| 1000/1000 [00:01<00:00, 591.20it/s]\n"
     ]
    },
    {
     "name": "stdout",
     "output_type": "stream",
     "text": [
      "\t\tTotal time for config: 1.6944589614868164\n",
      "Instance 1011, T = 1.0, Proposal = MALA_MC, Acceptance = metropolis, Gap = 0.2169\n",
      "Starting problem instance 1012 of 2000 with n = 6\n"
     ]
    },
    {
     "name": "stderr",
     "output_type": "stream",
     "text": [
      "100%|██████████| 1000/1000 [00:02<00:00, 499.59it/s]\n"
     ]
    },
    {
     "name": "stdout",
     "output_type": "stream",
     "text": [
      "\t\tTotal time for config: 2.005681037902832\n",
      "Instance 1012, T = 1.0, Proposal = MALA_MC, Acceptance = metropolis, Gap = 0.0027\n",
      "Starting problem instance 1013 of 2000 with n = 7\n"
     ]
    },
    {
     "name": "stderr",
     "output_type": "stream",
     "text": [
      "100%|██████████| 1000/1000 [00:02<00:00, 445.01it/s]\n"
     ]
    },
    {
     "name": "stdout",
     "output_type": "stream",
     "text": [
      "\t\tTotal time for config: 2.2521469593048096\n",
      "Instance 1013, T = 1.0, Proposal = MALA_MC, Acceptance = metropolis, Gap = 0.0000\n",
      "Warning: Gap is very small, may be inaccurate.\n",
      "Starting problem instance 1014 of 2000 with n = 8\n"
     ]
    },
    {
     "name": "stderr",
     "output_type": "stream",
     "text": [
      "100%|██████████| 1000/1000 [00:02<00:00, 386.69it/s]\n"
     ]
    },
    {
     "name": "stdout",
     "output_type": "stream",
     "text": [
      "\t\tTotal time for config: 2.5902013778686523\n",
      "Instance 1014, T = 1.0, Proposal = MALA_MC, Acceptance = metropolis, Gap = 0.0000\n",
      "Warning: Gap is very small, may be inaccurate.\n",
      "Starting problem instance 1015 of 2000 with n = 9\n"
     ]
    },
    {
     "name": "stderr",
     "output_type": "stream",
     "text": [
      "100%|██████████| 1000/1000 [00:03<00:00, 255.45it/s]\n"
     ]
    },
    {
     "name": "stdout",
     "output_type": "stream",
     "text": [
      "\t\tTotal time for config: 3.9185361862182617\n",
      "Instance 1015, T = 1.0, Proposal = MALA_MC, Acceptance = metropolis, Gap = 0.0000\n",
      "Warning: Gap is very small, may be inaccurate.\n",
      "Starting problem instance 1016 of 2000 with n = 10\n"
     ]
    },
    {
     "name": "stderr",
     "output_type": "stream",
     "text": [
      "100%|██████████| 1000/1000 [00:07<00:00, 130.55it/s]\n"
     ]
    },
    {
     "name": "stdout",
     "output_type": "stream",
     "text": [
      "\t\tTotal time for config: 7.663769721984863\n",
      "Instance 1016, T = 1.0, Proposal = MALA_MC, Acceptance = metropolis, Gap = 0.0000\n",
      "Warning: Gap is very small, may be inaccurate.\n",
      "Starting problem instance 1017 of 2000 with n = 3\n"
     ]
    },
    {
     "name": "stderr",
     "output_type": "stream",
     "text": [
      "100%|██████████| 1000/1000 [00:01<00:00, 938.84it/s]\n"
     ]
    },
    {
     "name": "stdout",
     "output_type": "stream",
     "text": [
      "\t\tTotal time for config: 1.0682578086853027\n",
      "Instance 1017, T = 1.0, Proposal = MALA_MC, Acceptance = metropolis, Gap = 0.0094\n",
      "Starting problem instance 1018 of 2000 with n = 4\n"
     ]
    },
    {
     "name": "stderr",
     "output_type": "stream",
     "text": [
      "100%|██████████| 1000/1000 [00:01<00:00, 619.16it/s]\n"
     ]
    },
    {
     "name": "stdout",
     "output_type": "stream",
     "text": [
      "\t\tTotal time for config: 1.619110345840454\n",
      "Instance 1018, T = 1.0, Proposal = MALA_MC, Acceptance = metropolis, Gap = 0.7010\n",
      "Starting problem instance 1019 of 2000 with n = 5\n"
     ]
    },
    {
     "name": "stderr",
     "output_type": "stream",
     "text": [
      "100%|██████████| 1000/1000 [00:01<00:00, 518.75it/s]\n"
     ]
    },
    {
     "name": "stdout",
     "output_type": "stream",
     "text": [
      "\t\tTotal time for config: 1.9327092170715332\n",
      "Instance 1019, T = 1.0, Proposal = MALA_MC, Acceptance = metropolis, Gap = 0.0000\n",
      "Warning: Gap is very small, may be inaccurate.\n",
      "Starting problem instance 1020 of 2000 with n = 6\n"
     ]
    },
    {
     "name": "stderr",
     "output_type": "stream",
     "text": [
      "100%|██████████| 1000/1000 [00:01<00:00, 528.26it/s]\n"
     ]
    },
    {
     "name": "stdout",
     "output_type": "stream",
     "text": [
      "\t\tTotal time for config: 1.8973331451416016\n",
      "Instance 1020, T = 1.0, Proposal = MALA_MC, Acceptance = metropolis, Gap = 0.0000\n",
      "Warning: Gap is very small, may be inaccurate.\n",
      "Starting problem instance 1021 of 2000 with n = 7\n"
     ]
    },
    {
     "name": "stderr",
     "output_type": "stream",
     "text": [
      "100%|██████████| 1000/1000 [00:02<00:00, 477.83it/s]\n"
     ]
    },
    {
     "name": "stdout",
     "output_type": "stream",
     "text": [
      "\t\tTotal time for config: 2.0948715209960938\n",
      "Instance 1021, T = 1.0, Proposal = MALA_MC, Acceptance = metropolis, Gap = 0.3011\n",
      "Starting problem instance 1022 of 2000 with n = 8\n"
     ]
    },
    {
     "name": "stderr",
     "output_type": "stream",
     "text": [
      "100%|██████████| 1000/1000 [00:02<00:00, 366.70it/s]\n"
     ]
    },
    {
     "name": "stdout",
     "output_type": "stream",
     "text": [
      "\t\tTotal time for config: 2.7310984134674072\n",
      "Instance 1022, T = 1.0, Proposal = MALA_MC, Acceptance = metropolis, Gap = 0.0000\n",
      "Warning: Gap is very small, may be inaccurate.\n",
      "Starting problem instance 1023 of 2000 with n = 9\n"
     ]
    },
    {
     "name": "stderr",
     "output_type": "stream",
     "text": [
      "100%|██████████| 1000/1000 [00:04<00:00, 242.93it/s]\n"
     ]
    },
    {
     "name": "stdout",
     "output_type": "stream",
     "text": [
      "\t\tTotal time for config: 4.120431423187256\n",
      "Instance 1023, T = 1.0, Proposal = MALA_MC, Acceptance = metropolis, Gap = 0.0000\n",
      "Warning: Gap is very small, may be inaccurate.\n",
      "Starting problem instance 1024 of 2000 with n = 10\n"
     ]
    },
    {
     "name": "stderr",
     "output_type": "stream",
     "text": [
      "100%|██████████| 1000/1000 [00:06<00:00, 144.07it/s]\n"
     ]
    },
    {
     "name": "stdout",
     "output_type": "stream",
     "text": [
      "\t\tTotal time for config: 6.944215536117554\n",
      "Instance 1024, T = 1.0, Proposal = MALA_MC, Acceptance = metropolis, Gap = 0.0000\n",
      "Warning: Gap is very small, may be inaccurate.\n",
      "Starting problem instance 1025 of 2000 with n = 3\n"
     ]
    },
    {
     "name": "stderr",
     "output_type": "stream",
     "text": [
      "100%|██████████| 1000/1000 [00:00<00:00, 1174.10it/s]\n"
     ]
    },
    {
     "name": "stdout",
     "output_type": "stream",
     "text": [
      "\t\tTotal time for config: 0.8547303676605225\n",
      "Instance 1025, T = 1.0, Proposal = MALA_MC, Acceptance = metropolis, Gap = 0.8725\n",
      "Starting problem instance 1026 of 2000 with n = 4\n"
     ]
    },
    {
     "name": "stderr",
     "output_type": "stream",
     "text": [
      "100%|██████████| 1000/1000 [00:01<00:00, 764.48it/s]\n"
     ]
    },
    {
     "name": "stdout",
     "output_type": "stream",
     "text": [
      "\t\tTotal time for config: 1.3115499019622803\n",
      "Instance 1026, T = 1.0, Proposal = MALA_MC, Acceptance = metropolis, Gap = 0.7922\n",
      "Starting problem instance 1027 of 2000 with n = 5\n"
     ]
    },
    {
     "name": "stderr",
     "output_type": "stream",
     "text": [
      "100%|██████████| 1000/1000 [00:01<00:00, 633.39it/s]\n"
     ]
    },
    {
     "name": "stdout",
     "output_type": "stream",
     "text": [
      "\t\tTotal time for config: 1.5830628871917725\n",
      "Instance 1027, T = 1.0, Proposal = MALA_MC, Acceptance = metropolis, Gap = 0.6337\n",
      "Starting problem instance 1028 of 2000 with n = 6\n"
     ]
    },
    {
     "name": "stderr",
     "output_type": "stream",
     "text": [
      "100%|██████████| 1000/1000 [00:01<00:00, 620.32it/s]\n"
     ]
    },
    {
     "name": "stdout",
     "output_type": "stream",
     "text": [
      "\t\tTotal time for config: 1.6160626411437988\n",
      "Instance 1028, T = 1.0, Proposal = MALA_MC, Acceptance = metropolis, Gap = 0.0000\n",
      "Warning: Gap is very small, may be inaccurate.\n",
      "Starting problem instance 1029 of 2000 with n = 7\n"
     ]
    },
    {
     "name": "stderr",
     "output_type": "stream",
     "text": [
      "100%|██████████| 1000/1000 [00:01<00:00, 500.45it/s]\n"
     ]
    },
    {
     "name": "stdout",
     "output_type": "stream",
     "text": [
      "\t\tTotal time for config: 2.001155376434326\n",
      "Instance 1029, T = 1.0, Proposal = MALA_MC, Acceptance = metropolis, Gap = 0.0000\n",
      "Warning: Gap is very small, may be inaccurate.\n",
      "Starting problem instance 1030 of 2000 with n = 8\n"
     ]
    },
    {
     "name": "stderr",
     "output_type": "stream",
     "text": [
      "100%|██████████| 1000/1000 [00:02<00:00, 419.77it/s]\n"
     ]
    },
    {
     "name": "stdout",
     "output_type": "stream",
     "text": [
      "\t\tTotal time for config: 2.38603138923645\n",
      "Instance 1030, T = 1.0, Proposal = MALA_MC, Acceptance = metropolis, Gap = 0.0000\n",
      "Warning: Gap is very small, may be inaccurate.\n",
      "Starting problem instance 1031 of 2000 with n = 9\n"
     ]
    },
    {
     "name": "stderr",
     "output_type": "stream",
     "text": [
      "100%|██████████| 1000/1000 [00:03<00:00, 268.74it/s]\n"
     ]
    },
    {
     "name": "stdout",
     "output_type": "stream",
     "text": [
      "\t\tTotal time for config: 3.724594831466675\n",
      "Instance 1031, T = 1.0, Proposal = MALA_MC, Acceptance = metropolis, Gap = 0.0000\n",
      "Warning: Gap is very small, may be inaccurate.\n",
      "Starting problem instance 1032 of 2000 with n = 10\n"
     ]
    },
    {
     "name": "stderr",
     "output_type": "stream",
     "text": [
      "100%|██████████| 1000/1000 [00:06<00:00, 147.64it/s]\n"
     ]
    },
    {
     "name": "stdout",
     "output_type": "stream",
     "text": [
      "\t\tTotal time for config: 6.777324438095093\n",
      "Instance 1032, T = 1.0, Proposal = MALA_MC, Acceptance = metropolis, Gap = 0.0000\n",
      "Warning: Gap is very small, may be inaccurate.\n",
      "Starting problem instance 1033 of 2000 with n = 3\n"
     ]
    },
    {
     "name": "stderr",
     "output_type": "stream",
     "text": [
      "100%|██████████| 1000/1000 [00:00<00:00, 1135.16it/s]\n"
     ]
    },
    {
     "name": "stdout",
     "output_type": "stream",
     "text": [
      "\t\tTotal time for config: 0.882993221282959\n",
      "Instance 1033, T = 1.0, Proposal = MALA_MC, Acceptance = metropolis, Gap = 0.8620\n",
      "Starting problem instance 1034 of 2000 with n = 4\n"
     ]
    },
    {
     "name": "stderr",
     "output_type": "stream",
     "text": [
      "100%|██████████| 1000/1000 [00:01<00:00, 726.56it/s]\n"
     ]
    },
    {
     "name": "stdout",
     "output_type": "stream",
     "text": [
      "\t\tTotal time for config: 1.3811061382293701\n",
      "Instance 1034, T = 1.0, Proposal = MALA_MC, Acceptance = metropolis, Gap = 0.5254\n",
      "Starting problem instance 1035 of 2000 with n = 5\n"
     ]
    },
    {
     "name": "stderr",
     "output_type": "stream",
     "text": [
      "100%|██████████| 1000/1000 [00:01<00:00, 575.24it/s]\n"
     ]
    },
    {
     "name": "stdout",
     "output_type": "stream",
     "text": [
      "\t\tTotal time for config: 1.742326259613037\n",
      "Instance 1035, T = 1.0, Proposal = MALA_MC, Acceptance = metropolis, Gap = 0.7993\n",
      "Starting problem instance 1036 of 2000 with n = 6\n"
     ]
    },
    {
     "name": "stderr",
     "output_type": "stream",
     "text": [
      "100%|██████████| 1000/1000 [00:01<00:00, 563.46it/s]\n"
     ]
    },
    {
     "name": "stdout",
     "output_type": "stream",
     "text": [
      "\t\tTotal time for config: 1.7795462608337402\n",
      "Instance 1036, T = 1.0, Proposal = MALA_MC, Acceptance = metropolis, Gap = 0.0255\n",
      "Starting problem instance 1037 of 2000 with n = 7\n"
     ]
    },
    {
     "name": "stderr",
     "output_type": "stream",
     "text": [
      "100%|██████████| 1000/1000 [00:01<00:00, 527.59it/s]\n"
     ]
    },
    {
     "name": "stdout",
     "output_type": "stream",
     "text": [
      "\t\tTotal time for config: 1.899407148361206\n",
      "Instance 1037, T = 1.0, Proposal = MALA_MC, Acceptance = metropolis, Gap = 0.0000\n",
      "Warning: Gap is very small, may be inaccurate.\n",
      "Starting problem instance 1038 of 2000 with n = 8\n"
     ]
    },
    {
     "name": "stderr",
     "output_type": "stream",
     "text": [
      "100%|██████████| 1000/1000 [00:02<00:00, 419.16it/s]\n"
     ]
    },
    {
     "name": "stdout",
     "output_type": "stream",
     "text": [
      "\t\tTotal time for config: 2.390678882598877\n",
      "Instance 1038, T = 1.0, Proposal = MALA_MC, Acceptance = metropolis, Gap = 0.0000\n",
      "Warning: Gap is very small, may be inaccurate.\n",
      "Starting problem instance 1039 of 2000 with n = 9\n"
     ]
    },
    {
     "name": "stderr",
     "output_type": "stream",
     "text": [
      "100%|██████████| 1000/1000 [00:03<00:00, 290.63it/s]\n"
     ]
    },
    {
     "name": "stdout",
     "output_type": "stream",
     "text": [
      "\t\tTotal time for config: 3.4447691440582275\n",
      "Instance 1039, T = 1.0, Proposal = MALA_MC, Acceptance = metropolis, Gap = 0.0000\n",
      "Warning: Gap is very small, may be inaccurate.\n",
      "Starting problem instance 1040 of 2000 with n = 10\n"
     ]
    },
    {
     "name": "stderr",
     "output_type": "stream",
     "text": [
      "100%|██████████| 1000/1000 [00:06<00:00, 143.75it/s]\n"
     ]
    },
    {
     "name": "stdout",
     "output_type": "stream",
     "text": [
      "\t\tTotal time for config: 6.960631370544434\n",
      "Instance 1040, T = 1.0, Proposal = MALA_MC, Acceptance = metropolis, Gap = 0.0000\n",
      "Warning: Gap is very small, may be inaccurate.\n",
      "Starting problem instance 1041 of 2000 with n = 3\n"
     ]
    },
    {
     "name": "stderr",
     "output_type": "stream",
     "text": [
      "100%|██████████| 1000/1000 [00:01<00:00, 860.63it/s]\n"
     ]
    },
    {
     "name": "stdout",
     "output_type": "stream",
     "text": [
      "\t\tTotal time for config: 1.1660094261169434\n",
      "Instance 1041, T = 1.0, Proposal = MALA_MC, Acceptance = metropolis, Gap = 0.5492\n",
      "Starting problem instance 1042 of 2000 with n = 4\n"
     ]
    },
    {
     "name": "stderr",
     "output_type": "stream",
     "text": [
      "100%|██████████| 1000/1000 [00:01<00:00, 754.39it/s]\n"
     ]
    },
    {
     "name": "stdout",
     "output_type": "stream",
     "text": [
      "\t\tTotal time for config: 1.3294742107391357\n",
      "Instance 1042, T = 1.0, Proposal = MALA_MC, Acceptance = metropolis, Gap = 0.7613\n",
      "Starting problem instance 1043 of 2000 with n = 5\n"
     ]
    },
    {
     "name": "stderr",
     "output_type": "stream",
     "text": [
      "100%|██████████| 1000/1000 [00:01<00:00, 663.58it/s]\n"
     ]
    },
    {
     "name": "stdout",
     "output_type": "stream",
     "text": [
      "\t\tTotal time for config: 1.5122451782226562\n",
      "Instance 1043, T = 1.0, Proposal = MALA_MC, Acceptance = metropolis, Gap = 0.5449\n",
      "Starting problem instance 1044 of 2000 with n = 6\n"
     ]
    },
    {
     "name": "stderr",
     "output_type": "stream",
     "text": [
      "100%|██████████| 1000/1000 [00:01<00:00, 615.15it/s]\n"
     ]
    },
    {
     "name": "stdout",
     "output_type": "stream",
     "text": [
      "\t\tTotal time for config: 1.6300599575042725\n",
      "Instance 1044, T = 1.0, Proposal = MALA_MC, Acceptance = metropolis, Gap = 0.4592\n",
      "Starting problem instance 1045 of 2000 with n = 7\n"
     ]
    },
    {
     "name": "stderr",
     "output_type": "stream",
     "text": [
      "100%|██████████| 1000/1000 [00:01<00:00, 536.16it/s]\n"
     ]
    },
    {
     "name": "stdout",
     "output_type": "stream",
     "text": [
      "\t\tTotal time for config: 1.8680288791656494\n",
      "Instance 1045, T = 1.0, Proposal = MALA_MC, Acceptance = metropolis, Gap = 0.0000\n",
      "Warning: Gap is very small, may be inaccurate.\n",
      "Starting problem instance 1046 of 2000 with n = 8\n"
     ]
    },
    {
     "name": "stderr",
     "output_type": "stream",
     "text": [
      "100%|██████████| 1000/1000 [00:03<00:00, 324.27it/s]\n"
     ]
    },
    {
     "name": "stdout",
     "output_type": "stream",
     "text": [
      "\t\tTotal time for config: 3.0869197845458984\n",
      "Instance 1046, T = 1.0, Proposal = MALA_MC, Acceptance = metropolis, Gap = 0.0000\n",
      "Warning: Gap is very small, may be inaccurate.\n",
      "Starting problem instance 1047 of 2000 with n = 9\n"
     ]
    },
    {
     "name": "stderr",
     "output_type": "stream",
     "text": [
      "100%|██████████| 1000/1000 [00:05<00:00, 172.69it/s]\n"
     ]
    },
    {
     "name": "stdout",
     "output_type": "stream",
     "text": [
      "\t\tTotal time for config: 5.795539617538452\n",
      "Instance 1047, T = 1.0, Proposal = MALA_MC, Acceptance = metropolis, Gap = 0.0000\n",
      "Warning: Gap is very small, may be inaccurate.\n",
      "Starting problem instance 1048 of 2000 with n = 10\n"
     ]
    },
    {
     "name": "stderr",
     "output_type": "stream",
     "text": [
      "100%|██████████| 1000/1000 [00:09<00:00, 102.21it/s]\n"
     ]
    },
    {
     "name": "stdout",
     "output_type": "stream",
     "text": [
      "\t\tTotal time for config: 9.78857970237732\n",
      "Instance 1048, T = 1.0, Proposal = MALA_MC, Acceptance = metropolis, Gap = 0.0000\n",
      "Warning: Gap is very small, may be inaccurate.\n",
      "Starting problem instance 1049 of 2000 with n = 3\n"
     ]
    },
    {
     "name": "stderr",
     "output_type": "stream",
     "text": [
      "100%|██████████| 1000/1000 [00:01<00:00, 830.21it/s]\n"
     ]
    },
    {
     "name": "stdout",
     "output_type": "stream",
     "text": [
      "\t\tTotal time for config: 1.2097618579864502\n",
      "Instance 1049, T = 1.0, Proposal = MALA_MC, Acceptance = metropolis, Gap = 0.6934\n",
      "Starting problem instance 1050 of 2000 with n = 4\n"
     ]
    },
    {
     "name": "stderr",
     "output_type": "stream",
     "text": [
      "100%|██████████| 1000/1000 [00:01<00:00, 645.43it/s]\n"
     ]
    },
    {
     "name": "stdout",
     "output_type": "stream",
     "text": [
      "\t\tTotal time for config: 1.5544283390045166\n",
      "Instance 1050, T = 1.0, Proposal = MALA_MC, Acceptance = metropolis, Gap = 0.7378\n",
      "Starting problem instance 1051 of 2000 with n = 5\n"
     ]
    },
    {
     "name": "stderr",
     "output_type": "stream",
     "text": [
      "100%|██████████| 1000/1000 [00:01<00:00, 526.87it/s]\n"
     ]
    },
    {
     "name": "stdout",
     "output_type": "stream",
     "text": [
      "\t\tTotal time for config: 1.9022960662841797\n",
      "Instance 1051, T = 1.0, Proposal = MALA_MC, Acceptance = metropolis, Gap = 0.3150\n",
      "Starting problem instance 1052 of 2000 with n = 6\n"
     ]
    },
    {
     "name": "stderr",
     "output_type": "stream",
     "text": [
      "100%|██████████| 1000/1000 [00:02<00:00, 494.72it/s]\n"
     ]
    },
    {
     "name": "stdout",
     "output_type": "stream",
     "text": [
      "\t\tTotal time for config: 2.0273261070251465\n",
      "Instance 1052, T = 1.0, Proposal = MALA_MC, Acceptance = metropolis, Gap = 0.0100\n",
      "Starting problem instance 1053 of 2000 with n = 7\n"
     ]
    },
    {
     "name": "stderr",
     "output_type": "stream",
     "text": [
      "100%|██████████| 1000/1000 [00:02<00:00, 414.52it/s]\n"
     ]
    },
    {
     "name": "stdout",
     "output_type": "stream",
     "text": [
      "\t\tTotal time for config: 2.417187452316284\n",
      "Instance 1053, T = 1.0, Proposal = MALA_MC, Acceptance = metropolis, Gap = 0.0000\n",
      "Warning: Gap is very small, may be inaccurate.\n",
      "Starting problem instance 1054 of 2000 with n = 8\n"
     ]
    },
    {
     "name": "stderr",
     "output_type": "stream",
     "text": [
      "100%|██████████| 1000/1000 [00:03<00:00, 314.30it/s]\n"
     ]
    },
    {
     "name": "stdout",
     "output_type": "stream",
     "text": [
      "\t\tTotal time for config: 3.1856772899627686\n",
      "Instance 1054, T = 1.0, Proposal = MALA_MC, Acceptance = metropolis, Gap = 0.0000\n",
      "Warning: Gap is very small, may be inaccurate.\n",
      "Starting problem instance 1055 of 2000 with n = 9\n"
     ]
    },
    {
     "name": "stderr",
     "output_type": "stream",
     "text": [
      "100%|██████████| 1000/1000 [00:04<00:00, 204.24it/s]\n"
     ]
    },
    {
     "name": "stdout",
     "output_type": "stream",
     "text": [
      "\t\tTotal time for config: 4.900275945663452\n",
      "Instance 1055, T = 1.0, Proposal = MALA_MC, Acceptance = metropolis, Gap = 0.0000\n",
      "Warning: Gap is very small, may be inaccurate.\n",
      "Starting problem instance 1056 of 2000 with n = 10\n"
     ]
    },
    {
     "name": "stderr",
     "output_type": "stream",
     "text": [
      "100%|██████████| 1000/1000 [00:09<00:00, 104.46it/s]\n"
     ]
    },
    {
     "name": "stdout",
     "output_type": "stream",
     "text": [
      "\t\tTotal time for config: 9.578169822692871\n",
      "Instance 1056, T = 1.0, Proposal = MALA_MC, Acceptance = metropolis, Gap = 0.0000\n",
      "Warning: Gap is very small, may be inaccurate.\n",
      "Starting problem instance 1057 of 2000 with n = 3\n"
     ]
    },
    {
     "name": "stderr",
     "output_type": "stream",
     "text": [
      "100%|██████████| 1000/1000 [00:01<00:00, 909.25it/s]\n"
     ]
    },
    {
     "name": "stdout",
     "output_type": "stream",
     "text": [
      "\t\tTotal time for config: 1.1157033443450928\n",
      "Instance 1057, T = 1.0, Proposal = MALA_MC, Acceptance = metropolis, Gap = 0.2796\n",
      "Starting problem instance 1058 of 2000 with n = 4\n"
     ]
    },
    {
     "name": "stderr",
     "output_type": "stream",
     "text": [
      "100%|██████████| 1000/1000 [00:01<00:00, 768.60it/s]\n"
     ]
    },
    {
     "name": "stdout",
     "output_type": "stream",
     "text": [
      "\t\tTotal time for config: 1.332902431488037\n",
      "Instance 1058, T = 1.0, Proposal = MALA_MC, Acceptance = metropolis, Gap = 0.5771\n",
      "Starting problem instance 1059 of 2000 with n = 5\n"
     ]
    },
    {
     "name": "stderr",
     "output_type": "stream",
     "text": [
      "100%|██████████| 1000/1000 [00:01<00:00, 961.05it/s]\n"
     ]
    },
    {
     "name": "stdout",
     "output_type": "stream",
     "text": [
      "\t\tTotal time for config: 1.0405330657958984\n",
      "Instance 1059, T = 1.0, Proposal = MALA_MC, Acceptance = metropolis, Gap = 0.0000\n",
      "Warning: Gap is very small, may be inaccurate.\n",
      "Starting problem instance 1060 of 2000 with n = 6\n"
     ]
    },
    {
     "name": "stderr",
     "output_type": "stream",
     "text": [
      "100%|██████████| 1000/1000 [00:00<00:00, 1133.29it/s]\n"
     ]
    },
    {
     "name": "stdout",
     "output_type": "stream",
     "text": [
      "\t\tTotal time for config: 0.882390022277832\n",
      "Instance 1060, T = 1.0, Proposal = MALA_MC, Acceptance = metropolis, Gap = 0.0000\n",
      "Warning: Gap is very small, may be inaccurate.\n",
      "Starting problem instance 1061 of 2000 with n = 7\n"
     ]
    },
    {
     "name": "stderr",
     "output_type": "stream",
     "text": [
      "100%|██████████| 1000/1000 [45:11<00:00,  2.71s/it] \n"
     ]
    },
    {
     "name": "stdout",
     "output_type": "stream",
     "text": [
      "\t\tTotal time for config: 2711.037199497223\n",
      "Instance 1061, T = 1.0, Proposal = MALA_MC, Acceptance = metropolis, Gap = 0.0000\n",
      "Warning: Gap is very small, may be inaccurate.\n",
      "Starting problem instance 1062 of 2000 with n = 8\n"
     ]
    },
    {
     "name": "stderr",
     "output_type": "stream",
     "text": [
      "100%|██████████| 1000/1000 [00:03<00:00, 263.19it/s]\n"
     ]
    },
    {
     "name": "stdout",
     "output_type": "stream",
     "text": [
      "\t\tTotal time for config: 3.7994894981384277\n",
      "Instance 1062, T = 1.0, Proposal = MALA_MC, Acceptance = metropolis, Gap = 0.0000\n",
      "Warning: Gap is very small, may be inaccurate.\n",
      "Starting problem instance 1063 of 2000 with n = 9\n"
     ]
    },
    {
     "name": "stderr",
     "output_type": "stream",
     "text": [
      "100%|██████████| 1000/1000 [00:06<00:00, 151.54it/s]\n"
     ]
    },
    {
     "name": "stdout",
     "output_type": "stream",
     "text": [
      "\t\tTotal time for config: 6.611724376678467\n",
      "Instance 1063, T = 1.0, Proposal = MALA_MC, Acceptance = metropolis, Gap = 0.0000\n",
      "Warning: Gap is very small, may be inaccurate.\n",
      "Starting problem instance 1064 of 2000 with n = 10\n"
     ]
    },
    {
     "name": "stderr",
     "output_type": "stream",
     "text": [
      "100%|██████████| 1000/1000 [00:09<00:00, 107.50it/s]\n"
     ]
    },
    {
     "name": "stdout",
     "output_type": "stream",
     "text": [
      "\t\tTotal time for config: 9.303254842758179\n",
      "Instance 1064, T = 1.0, Proposal = MALA_MC, Acceptance = metropolis, Gap = 0.0000\n",
      "Warning: Gap is very small, may be inaccurate.\n",
      "Starting problem instance 1065 of 2000 with n = 3\n"
     ]
    },
    {
     "name": "stderr",
     "output_type": "stream",
     "text": [
      "100%|██████████| 1000/1000 [00:00<00:00, 1248.67it/s]\n"
     ]
    },
    {
     "name": "stdout",
     "output_type": "stream",
     "text": [
      "\t\tTotal time for config: 0.8018534183502197\n",
      "Instance 1065, T = 1.0, Proposal = MALA_MC, Acceptance = metropolis, Gap = 0.2400\n",
      "Starting problem instance 1066 of 2000 with n = 4\n"
     ]
    },
    {
     "name": "stderr",
     "output_type": "stream",
     "text": [
      "100%|██████████| 1000/1000 [00:01<00:00, 921.72it/s]\n"
     ]
    },
    {
     "name": "stdout",
     "output_type": "stream",
     "text": [
      "\t\tTotal time for config: 1.086928129196167\n",
      "Instance 1066, T = 1.0, Proposal = MALA_MC, Acceptance = metropolis, Gap = 0.2137\n",
      "Starting problem instance 1067 of 2000 with n = 5\n"
     ]
    },
    {
     "name": "stderr",
     "output_type": "stream",
     "text": [
      "100%|██████████| 1000/1000 [00:01<00:00, 732.70it/s]\n"
     ]
    },
    {
     "name": "stdout",
     "output_type": "stream",
     "text": [
      "\t\tTotal time for config: 1.3666982650756836\n",
      "Instance 1067, T = 1.0, Proposal = MALA_MC, Acceptance = metropolis, Gap = 0.3154\n",
      "Starting problem instance 1068 of 2000 with n = 6\n"
     ]
    },
    {
     "name": "stderr",
     "output_type": "stream",
     "text": [
      "100%|██████████| 1000/1000 [00:01<00:00, 669.64it/s]\n"
     ]
    },
    {
     "name": "stdout",
     "output_type": "stream",
     "text": [
      "\t\tTotal time for config: 1.495577096939087\n",
      "Instance 1068, T = 1.0, Proposal = MALA_MC, Acceptance = metropolis, Gap = 0.0000\n",
      "Warning: Gap is very small, may be inaccurate.\n",
      "Starting problem instance 1069 of 2000 with n = 7\n"
     ]
    },
    {
     "name": "stderr",
     "output_type": "stream",
     "text": [
      "100%|██████████| 1000/1000 [00:01<00:00, 605.55it/s]\n"
     ]
    },
    {
     "name": "stdout",
     "output_type": "stream",
     "text": [
      "\t\tTotal time for config: 1.6534686088562012\n",
      "Instance 1069, T = 1.0, Proposal = MALA_MC, Acceptance = metropolis, Gap = 0.0000\n",
      "Warning: Gap is very small, may be inaccurate.\n",
      "Starting problem instance 1070 of 2000 with n = 8\n"
     ]
    },
    {
     "name": "stderr",
     "output_type": "stream",
     "text": [
      "100%|██████████| 1000/1000 [00:02<00:00, 491.29it/s]\n"
     ]
    },
    {
     "name": "stdout",
     "output_type": "stream",
     "text": [
      "\t\tTotal time for config: 2.0490052700042725\n",
      "Instance 1070, T = 1.0, Proposal = MALA_MC, Acceptance = metropolis, Gap = 0.0000\n",
      "Warning: Gap is very small, may be inaccurate.\n",
      "Starting problem instance 1071 of 2000 with n = 9\n"
     ]
    },
    {
     "name": "stderr",
     "output_type": "stream",
     "text": [
      "100%|██████████| 1000/1000 [00:03<00:00, 294.32it/s]\n"
     ]
    },
    {
     "name": "stdout",
     "output_type": "stream",
     "text": [
      "\t\tTotal time for config: 3.3977015018463135\n",
      "Instance 1071, T = 1.0, Proposal = MALA_MC, Acceptance = metropolis, Gap = 0.0000\n",
      "Warning: Gap is very small, may be inaccurate.\n",
      "Starting problem instance 1072 of 2000 with n = 10\n"
     ]
    },
    {
     "name": "stderr",
     "output_type": "stream",
     "text": [
      "100%|██████████| 1000/1000 [00:06<00:00, 158.40it/s]\n"
     ]
    },
    {
     "name": "stdout",
     "output_type": "stream",
     "text": [
      "\t\tTotal time for config: 6.315136432647705\n",
      "Instance 1072, T = 1.0, Proposal = MALA_MC, Acceptance = metropolis, Gap = 0.0000\n",
      "Warning: Gap is very small, may be inaccurate.\n",
      "Starting problem instance 1073 of 2000 with n = 3\n"
     ]
    },
    {
     "name": "stderr",
     "output_type": "stream",
     "text": [
      "100%|██████████| 1000/1000 [00:00<00:00, 1068.66it/s]\n"
     ]
    },
    {
     "name": "stdout",
     "output_type": "stream",
     "text": [
      "\t\tTotal time for config: 0.9363529682159424\n",
      "Instance 1073, T = 1.0, Proposal = MALA_MC, Acceptance = metropolis, Gap = 0.9182\n",
      "Starting problem instance 1074 of 2000 with n = 4\n"
     ]
    },
    {
     "name": "stderr",
     "output_type": "stream",
     "text": [
      "100%|██████████| 1000/1000 [00:01<00:00, 578.01it/s]\n"
     ]
    },
    {
     "name": "stdout",
     "output_type": "stream",
     "text": [
      "\t\tTotal time for config: 1.730071783065796\n",
      "Instance 1074, T = 1.0, Proposal = MALA_MC, Acceptance = metropolis, Gap = 0.4830\n",
      "Starting problem instance 1075 of 2000 with n = 5\n"
     ]
    },
    {
     "name": "stderr",
     "output_type": "stream",
     "text": [
      "100%|██████████| 1000/1000 [00:02<00:00, 453.44it/s]\n"
     ]
    },
    {
     "name": "stdout",
     "output_type": "stream",
     "text": [
      "\t\tTotal time for config: 2.205339193344116\n",
      "Instance 1075, T = 1.0, Proposal = MALA_MC, Acceptance = metropolis, Gap = 0.8244\n",
      "Starting problem instance 1076 of 2000 with n = 6\n"
     ]
    },
    {
     "name": "stderr",
     "output_type": "stream",
     "text": [
      "100%|██████████| 1000/1000 [00:01<00:00, 599.92it/s]\n"
     ]
    },
    {
     "name": "stdout",
     "output_type": "stream",
     "text": [
      "\t\tTotal time for config: 1.6678974628448486\n",
      "Instance 1076, T = 1.0, Proposal = MALA_MC, Acceptance = metropolis, Gap = 0.0000\n",
      "Starting problem instance 1077 of 2000 with n = 7\n"
     ]
    },
    {
     "name": "stderr",
     "output_type": "stream",
     "text": [
      "100%|██████████| 1000/1000 [00:02<00:00, 350.87it/s]\n"
     ]
    },
    {
     "name": "stdout",
     "output_type": "stream",
     "text": [
      "\t\tTotal time for config: 2.850071430206299\n",
      "Instance 1077, T = 1.0, Proposal = MALA_MC, Acceptance = metropolis, Gap = 0.0000\n",
      "Warning: Gap is very small, may be inaccurate.\n",
      "Starting problem instance 1078 of 2000 with n = 8\n"
     ]
    },
    {
     "name": "stderr",
     "output_type": "stream",
     "text": [
      "100%|██████████| 1000/1000 [00:03<00:00, 311.27it/s]\n"
     ]
    },
    {
     "name": "stdout",
     "output_type": "stream",
     "text": [
      "\t\tTotal time for config: 3.2126054763793945\n",
      "Instance 1078, T = 1.0, Proposal = MALA_MC, Acceptance = metropolis, Gap = 0.0000\n",
      "Warning: Gap is very small, may be inaccurate.\n",
      "Starting problem instance 1079 of 2000 with n = 9\n"
     ]
    },
    {
     "name": "stderr",
     "output_type": "stream",
     "text": [
      "100%|██████████| 1000/1000 [00:03<00:00, 256.50it/s]\n"
     ]
    },
    {
     "name": "stdout",
     "output_type": "stream",
     "text": [
      "\t\tTotal time for config: 3.9016213417053223\n",
      "Instance 1079, T = 1.0, Proposal = MALA_MC, Acceptance = metropolis, Gap = 0.0000\n",
      "Warning: Gap is very small, may be inaccurate.\n",
      "Starting problem instance 1080 of 2000 with n = 10\n"
     ]
    },
    {
     "name": "stderr",
     "output_type": "stream",
     "text": [
      "100%|██████████| 1000/1000 [00:06<00:00, 151.16it/s]\n"
     ]
    },
    {
     "name": "stdout",
     "output_type": "stream",
     "text": [
      "\t\tTotal time for config: 6.6153645515441895\n",
      "Instance 1080, T = 1.0, Proposal = MALA_MC, Acceptance = metropolis, Gap = 0.0000\n",
      "Warning: Gap is very small, may be inaccurate.\n",
      "Starting problem instance 1081 of 2000 with n = 3\n"
     ]
    },
    {
     "name": "stderr",
     "output_type": "stream",
     "text": [
      "100%|██████████| 1000/1000 [00:00<00:00, 1186.55it/s]\n"
     ]
    },
    {
     "name": "stdout",
     "output_type": "stream",
     "text": [
      "\t\tTotal time for config: 0.8603956699371338\n",
      "Instance 1081, T = 1.0, Proposal = MALA_MC, Acceptance = metropolis, Gap = 0.4610\n",
      "Starting problem instance 1082 of 2000 with n = 4\n"
     ]
    },
    {
     "name": "stderr",
     "output_type": "stream",
     "text": [
      "100%|██████████| 1000/1000 [00:01<00:00, 869.15it/s]\n"
     ]
    },
    {
     "name": "stdout",
     "output_type": "stream",
     "text": [
      "\t\tTotal time for config: 1.1505508422851562\n",
      "Instance 1082, T = 1.0, Proposal = MALA_MC, Acceptance = metropolis, Gap = 0.0924\n",
      "Starting problem instance 1083 of 2000 with n = 5\n"
     ]
    },
    {
     "name": "stderr",
     "output_type": "stream",
     "text": [
      "100%|██████████| 1000/1000 [00:01<00:00, 650.00it/s]\n"
     ]
    },
    {
     "name": "stdout",
     "output_type": "stream",
     "text": [
      "\t\tTotal time for config: 1.5544300079345703\n",
      "Instance 1083, T = 1.0, Proposal = MALA_MC, Acceptance = metropolis, Gap = 0.0388\n",
      "Starting problem instance 1084 of 2000 with n = 6\n"
     ]
    },
    {
     "name": "stderr",
     "output_type": "stream",
     "text": [
      "100%|██████████| 1000/1000 [00:01<00:00, 500.14it/s]\n"
     ]
    },
    {
     "name": "stdout",
     "output_type": "stream",
     "text": [
      "\t\tTotal time for config: 2.010833978652954\n",
      "Instance 1084, T = 1.0, Proposal = MALA_MC, Acceptance = metropolis, Gap = 0.0000\n",
      "Warning: Gap is very small, may be inaccurate.\n",
      "Starting problem instance 1085 of 2000 with n = 7\n"
     ]
    },
    {
     "name": "stderr",
     "output_type": "stream",
     "text": [
      "100%|██████████| 1000/1000 [00:01<00:00, 504.38it/s]\n"
     ]
    },
    {
     "name": "stdout",
     "output_type": "stream",
     "text": [
      "\t\tTotal time for config: 1.9857306480407715\n",
      "Instance 1085, T = 1.0, Proposal = MALA_MC, Acceptance = metropolis, Gap = 0.5788\n",
      "Starting problem instance 1086 of 2000 with n = 8\n"
     ]
    },
    {
     "name": "stderr",
     "output_type": "stream",
     "text": [
      "100%|██████████| 1000/1000 [00:02<00:00, 387.94it/s]\n"
     ]
    },
    {
     "name": "stdout",
     "output_type": "stream",
     "text": [
      "\t\tTotal time for config: 2.5796611309051514\n",
      "Instance 1086, T = 1.0, Proposal = MALA_MC, Acceptance = metropolis, Gap = 0.0000\n",
      "Warning: Gap is very small, may be inaccurate.\n",
      "Starting problem instance 1087 of 2000 with n = 9\n"
     ]
    },
    {
     "name": "stderr",
     "output_type": "stream",
     "text": [
      "100%|██████████| 1000/1000 [00:03<00:00, 283.07it/s]\n"
     ]
    },
    {
     "name": "stdout",
     "output_type": "stream",
     "text": [
      "\t\tTotal time for config: 3.5327067375183105\n",
      "Instance 1087, T = 1.0, Proposal = MALA_MC, Acceptance = metropolis, Gap = 0.0000\n",
      "Warning: Gap is very small, may be inaccurate.\n",
      "Starting problem instance 1088 of 2000 with n = 10\n"
     ]
    },
    {
     "name": "stderr",
     "output_type": "stream",
     "text": [
      "100%|██████████| 1000/1000 [00:06<00:00, 152.31it/s]\n"
     ]
    },
    {
     "name": "stdout",
     "output_type": "stream",
     "text": [
      "\t\tTotal time for config: 6.565593242645264\n",
      "Instance 1088, T = 1.0, Proposal = MALA_MC, Acceptance = metropolis, Gap = 0.0000\n",
      "Warning: Gap is very small, may be inaccurate.\n",
      "Starting problem instance 1089 of 2000 with n = 3\n"
     ]
    },
    {
     "name": "stderr",
     "output_type": "stream",
     "text": [
      "100%|██████████| 1000/1000 [00:00<00:00, 1057.27it/s]\n"
     ]
    },
    {
     "name": "stdout",
     "output_type": "stream",
     "text": [
      "\t\tTotal time for config: 0.9471638202667236\n",
      "Instance 1089, T = 1.0, Proposal = MALA_MC, Acceptance = metropolis, Gap = 0.9356\n",
      "Starting problem instance 1090 of 2000 with n = 4\n"
     ]
    },
    {
     "name": "stderr",
     "output_type": "stream",
     "text": [
      "100%|██████████| 1000/1000 [00:01<00:00, 982.62it/s]\n"
     ]
    },
    {
     "name": "stdout",
     "output_type": "stream",
     "text": [
      "\t\tTotal time for config: 1.0176899433135986\n",
      "Instance 1090, T = 1.0, Proposal = MALA_MC, Acceptance = metropolis, Gap = 0.5125\n",
      "Starting problem instance 1091 of 2000 with n = 5\n"
     ]
    },
    {
     "name": "stderr",
     "output_type": "stream",
     "text": [
      "100%|██████████| 1000/1000 [00:00<00:00, 1087.19it/s]\n"
     ]
    },
    {
     "name": "stdout",
     "output_type": "stream",
     "text": [
      "\t\tTotal time for config: 0.9355432987213135\n",
      "Instance 1091, T = 1.0, Proposal = MALA_MC, Acceptance = metropolis, Gap = 0.3043\n",
      "Starting problem instance 1092 of 2000 with n = 6\n"
     ]
    },
    {
     "name": "stderr",
     "output_type": "stream",
     "text": [
      "100%|██████████| 1000/1000 [00:01<00:00, 962.07it/s]\n"
     ]
    },
    {
     "name": "stdout",
     "output_type": "stream",
     "text": [
      "\t\tTotal time for config: 1.0404269695281982\n",
      "Instance 1092, T = 1.0, Proposal = MALA_MC, Acceptance = metropolis, Gap = 0.0000\n",
      "Warning: Gap is very small, may be inaccurate.\n",
      "Starting problem instance 1093 of 2000 with n = 7\n"
     ]
    },
    {
     "name": "stderr",
     "output_type": "stream",
     "text": [
      "100%|██████████| 1000/1000 [00:01<00:00, 645.27it/s]\n"
     ]
    },
    {
     "name": "stdout",
     "output_type": "stream",
     "text": [
      "\t\tTotal time for config: 1.5527572631835938\n",
      "Instance 1093, T = 1.0, Proposal = MALA_MC, Acceptance = metropolis, Gap = 0.0000\n",
      "Warning: Gap is very small, may be inaccurate.\n",
      "Starting problem instance 1094 of 2000 with n = 8\n"
     ]
    },
    {
     "name": "stderr",
     "output_type": "stream",
     "text": [
      "100%|██████████| 1000/1000 [00:01<00:00, 541.03it/s]\n"
     ]
    },
    {
     "name": "stdout",
     "output_type": "stream",
     "text": [
      "\t\tTotal time for config: 1.8503336906433105\n",
      "Instance 1094, T = 1.0, Proposal = MALA_MC, Acceptance = metropolis, Gap = 0.0000\n",
      "Warning: Gap is very small, may be inaccurate.\n",
      "Starting problem instance 1095 of 2000 with n = 9\n"
     ]
    },
    {
     "name": "stderr",
     "output_type": "stream",
     "text": [
      "100%|██████████| 1000/1000 [00:02<00:00, 393.77it/s]\n"
     ]
    },
    {
     "name": "stdout",
     "output_type": "stream",
     "text": [
      "\t\tTotal time for config: 2.542609691619873\n",
      "Instance 1095, T = 1.0, Proposal = MALA_MC, Acceptance = metropolis, Gap = 0.0000\n",
      "Warning: Gap is very small, may be inaccurate.\n",
      "Starting problem instance 1096 of 2000 with n = 10\n"
     ]
    },
    {
     "name": "stderr",
     "output_type": "stream",
     "text": [
      "100%|██████████| 1000/1000 [00:04<00:00, 214.72it/s]\n"
     ]
    },
    {
     "name": "stdout",
     "output_type": "stream",
     "text": [
      "\t\tTotal time for config: 4.659254312515259\n",
      "Instance 1096, T = 1.0, Proposal = MALA_MC, Acceptance = metropolis, Gap = 0.0000\n",
      "Warning: Gap is very small, may be inaccurate.\n",
      "Starting problem instance 1097 of 2000 with n = 3\n"
     ]
    },
    {
     "name": "stderr",
     "output_type": "stream",
     "text": [
      "100%|██████████| 1000/1000 [00:00<00:00, 1643.35it/s]\n"
     ]
    },
    {
     "name": "stdout",
     "output_type": "stream",
     "text": [
      "\t\tTotal time for config: 0.6115648746490479\n",
      "Instance 1097, T = 1.0, Proposal = MALA_MC, Acceptance = metropolis, Gap = 0.2918\n",
      "Starting problem instance 1098 of 2000 with n = 4\n"
     ]
    },
    {
     "name": "stderr",
     "output_type": "stream",
     "text": [
      "100%|██████████| 1000/1000 [00:00<00:00, 1117.31it/s]\n"
     ]
    },
    {
     "name": "stdout",
     "output_type": "stream",
     "text": [
      "\t\tTotal time for config: 0.897005558013916\n",
      "Instance 1098, T = 1.0, Proposal = MALA_MC, Acceptance = metropolis, Gap = 0.6911\n",
      "Starting problem instance 1099 of 2000 with n = 5\n"
     ]
    },
    {
     "name": "stderr",
     "output_type": "stream",
     "text": [
      "100%|██████████| 1000/1000 [00:01<00:00, 874.73it/s]\n"
     ]
    },
    {
     "name": "stdout",
     "output_type": "stream",
     "text": [
      "\t\tTotal time for config: 1.1442162990570068\n",
      "Instance 1099, T = 1.0, Proposal = MALA_MC, Acceptance = metropolis, Gap = 0.5930\n",
      "Starting problem instance 1100 of 2000 with n = 6\n"
     ]
    },
    {
     "name": "stderr",
     "output_type": "stream",
     "text": [
      "100%|██████████| 1000/1000 [00:01<00:00, 818.47it/s]\n"
     ]
    },
    {
     "name": "stdout",
     "output_type": "stream",
     "text": [
      "\t\tTotal time for config: 1.2238743305206299\n",
      "Instance 1100, T = 1.0, Proposal = MALA_MC, Acceptance = metropolis, Gap = 0.7522\n",
      "Starting problem instance 1101 of 2000 with n = 7\n"
     ]
    },
    {
     "name": "stderr",
     "output_type": "stream",
     "text": [
      "100%|██████████| 1000/1000 [00:01<00:00, 725.30it/s]\n"
     ]
    },
    {
     "name": "stdout",
     "output_type": "stream",
     "text": [
      "\t\tTotal time for config: 1.3797385692596436\n",
      "Instance 1101, T = 1.0, Proposal = MALA_MC, Acceptance = metropolis, Gap = 0.0000\n",
      "Warning: Gap is very small, may be inaccurate.\n",
      "Starting problem instance 1102 of 2000 with n = 8\n"
     ]
    },
    {
     "name": "stderr",
     "output_type": "stream",
     "text": [
      "100%|██████████| 1000/1000 [00:01<00:00, 568.17it/s]\n"
     ]
    },
    {
     "name": "stdout",
     "output_type": "stream",
     "text": [
      "\t\tTotal time for config: 1.7619495391845703\n",
      "Instance 1102, T = 1.0, Proposal = MALA_MC, Acceptance = metropolis, Gap = 0.0000\n",
      "Warning: Gap is very small, may be inaccurate.\n",
      "Starting problem instance 1103 of 2000 with n = 9\n"
     ]
    },
    {
     "name": "stderr",
     "output_type": "stream",
     "text": [
      "100%|██████████| 1000/1000 [00:02<00:00, 387.68it/s]\n"
     ]
    },
    {
     "name": "stdout",
     "output_type": "stream",
     "text": [
      "\t\tTotal time for config: 2.5825839042663574\n",
      "Instance 1103, T = 1.0, Proposal = MALA_MC, Acceptance = metropolis, Gap = 0.0000\n",
      "Warning: Gap is very small, may be inaccurate.\n",
      "Starting problem instance 1104 of 2000 with n = 10\n"
     ]
    },
    {
     "name": "stderr",
     "output_type": "stream",
     "text": [
      "100%|██████████| 1000/1000 [00:05<00:00, 194.35it/s]\n"
     ]
    },
    {
     "name": "stdout",
     "output_type": "stream",
     "text": [
      "\t\tTotal time for config: 5.148517847061157\n",
      "Instance 1104, T = 1.0, Proposal = MALA_MC, Acceptance = metropolis, Gap = 0.0000\n",
      "Warning: Gap is very small, may be inaccurate.\n",
      "Starting problem instance 1105 of 2000 with n = 3\n"
     ]
    },
    {
     "name": "stderr",
     "output_type": "stream",
     "text": [
      "100%|██████████| 1000/1000 [00:00<00:00, 1222.96it/s]\n"
     ]
    },
    {
     "name": "stdout",
     "output_type": "stream",
     "text": [
      "\t\tTotal time for config: 0.8218190670013428\n",
      "Instance 1105, T = 1.0, Proposal = MALA_MC, Acceptance = metropolis, Gap = 0.6188\n",
      "Starting problem instance 1106 of 2000 with n = 4\n"
     ]
    },
    {
     "name": "stderr",
     "output_type": "stream",
     "text": [
      "100%|██████████| 1000/1000 [00:00<00:00, 1146.35it/s]\n"
     ]
    },
    {
     "name": "stdout",
     "output_type": "stream",
     "text": [
      "\t\tTotal time for config: 0.8744759559631348\n",
      "Instance 1106, T = 1.0, Proposal = MALA_MC, Acceptance = metropolis, Gap = 0.1605\n",
      "Starting problem instance 1107 of 2000 with n = 5\n"
     ]
    },
    {
     "name": "stderr",
     "output_type": "stream",
     "text": [
      "100%|██████████| 1000/1000 [00:01<00:00, 962.42it/s]\n"
     ]
    },
    {
     "name": "stdout",
     "output_type": "stream",
     "text": [
      "\t\tTotal time for config: 1.0431811809539795\n",
      "Instance 1107, T = 1.0, Proposal = MALA_MC, Acceptance = metropolis, Gap = 0.0754\n",
      "Starting problem instance 1108 of 2000 with n = 6\n"
     ]
    },
    {
     "name": "stderr",
     "output_type": "stream",
     "text": [
      "100%|██████████| 1000/1000 [00:01<00:00, 829.40it/s]\n"
     ]
    },
    {
     "name": "stdout",
     "output_type": "stream",
     "text": [
      "\t\tTotal time for config: 1.208662748336792\n",
      "Instance 1108, T = 1.0, Proposal = MALA_MC, Acceptance = metropolis, Gap = 0.0000\n",
      "Warning: Gap is very small, may be inaccurate.\n",
      "Starting problem instance 1109 of 2000 with n = 7\n"
     ]
    },
    {
     "name": "stderr",
     "output_type": "stream",
     "text": [
      "100%|██████████| 1000/1000 [00:01<00:00, 729.41it/s]\n"
     ]
    },
    {
     "name": "stdout",
     "output_type": "stream",
     "text": [
      "\t\tTotal time for config: 1.373511552810669\n",
      "Instance 1109, T = 1.0, Proposal = MALA_MC, Acceptance = metropolis, Gap = 0.0000\n",
      "Warning: Gap is very small, may be inaccurate.\n",
      "Starting problem instance 1110 of 2000 with n = 8\n"
     ]
    },
    {
     "name": "stderr",
     "output_type": "stream",
     "text": [
      "100%|██████████| 1000/1000 [00:01<00:00, 554.83it/s]\n"
     ]
    },
    {
     "name": "stdout",
     "output_type": "stream",
     "text": [
      "\t\tTotal time for config: 1.8045103549957275\n",
      "Instance 1110, T = 1.0, Proposal = MALA_MC, Acceptance = metropolis, Gap = 0.0000\n",
      "Warning: Gap is very small, may be inaccurate.\n",
      "Starting problem instance 1111 of 2000 with n = 9\n"
     ]
    },
    {
     "name": "stderr",
     "output_type": "stream",
     "text": [
      "100%|██████████| 1000/1000 [00:02<00:00, 405.65it/s]\n"
     ]
    },
    {
     "name": "stdout",
     "output_type": "stream",
     "text": [
      "\t\tTotal time for config: 2.469069004058838\n",
      "Instance 1111, T = 1.0, Proposal = MALA_MC, Acceptance = metropolis, Gap = 0.0000\n",
      "Warning: Gap is very small, may be inaccurate.\n",
      "Starting problem instance 1112 of 2000 with n = 10\n"
     ]
    },
    {
     "name": "stderr",
     "output_type": "stream",
     "text": [
      "100%|██████████| 1000/1000 [00:05<00:00, 192.48it/s]\n"
     ]
    },
    {
     "name": "stdout",
     "output_type": "stream",
     "text": [
      "\t\tTotal time for config: 5.199726343154907\n",
      "Instance 1112, T = 1.0, Proposal = MALA_MC, Acceptance = metropolis, Gap = 0.0000\n",
      "Warning: Gap is very small, may be inaccurate.\n",
      "Starting problem instance 1113 of 2000 with n = 3\n"
     ]
    },
    {
     "name": "stderr",
     "output_type": "stream",
     "text": [
      "100%|██████████| 1000/1000 [00:00<00:00, 1480.18it/s]\n"
     ]
    },
    {
     "name": "stdout",
     "output_type": "stream",
     "text": [
      "\t\tTotal time for config: 0.6795504093170166\n",
      "Instance 1113, T = 1.0, Proposal = MALA_MC, Acceptance = metropolis, Gap = 0.6576\n",
      "Starting problem instance 1114 of 2000 with n = 4\n"
     ]
    },
    {
     "name": "stderr",
     "output_type": "stream",
     "text": [
      "100%|██████████| 1000/1000 [00:00<00:00, 1142.99it/s]\n"
     ]
    },
    {
     "name": "stdout",
     "output_type": "stream",
     "text": [
      "\t\tTotal time for config: 0.8778047561645508\n",
      "Instance 1114, T = 1.0, Proposal = MALA_MC, Acceptance = metropolis, Gap = 0.4006\n",
      "Starting problem instance 1115 of 2000 with n = 5\n"
     ]
    },
    {
     "name": "stderr",
     "output_type": "stream",
     "text": [
      "100%|██████████| 1000/1000 [00:01<00:00, 949.42it/s]\n"
     ]
    },
    {
     "name": "stdout",
     "output_type": "stream",
     "text": [
      "\t\tTotal time for config: 1.0542700290679932\n",
      "Instance 1115, T = 1.0, Proposal = MALA_MC, Acceptance = metropolis, Gap = 0.8689\n",
      "Starting problem instance 1116 of 2000 with n = 6\n"
     ]
    },
    {
     "name": "stderr",
     "output_type": "stream",
     "text": [
      "100%|██████████| 1000/1000 [00:01<00:00, 840.39it/s]\n"
     ]
    },
    {
     "name": "stdout",
     "output_type": "stream",
     "text": [
      "\t\tTotal time for config: 1.192925214767456\n",
      "Instance 1116, T = 1.0, Proposal = MALA_MC, Acceptance = metropolis, Gap = 0.0029\n",
      "Starting problem instance 1117 of 2000 with n = 7\n"
     ]
    },
    {
     "name": "stderr",
     "output_type": "stream",
     "text": [
      "100%|██████████| 1000/1000 [00:01<00:00, 700.47it/s]\n"
     ]
    },
    {
     "name": "stdout",
     "output_type": "stream",
     "text": [
      "\t\tTotal time for config: 1.429781436920166\n",
      "Instance 1117, T = 1.0, Proposal = MALA_MC, Acceptance = metropolis, Gap = 0.0046\n",
      "Starting problem instance 1118 of 2000 with n = 8\n"
     ]
    },
    {
     "name": "stderr",
     "output_type": "stream",
     "text": [
      "100%|██████████| 1000/1000 [00:01<00:00, 585.44it/s]\n"
     ]
    },
    {
     "name": "stdout",
     "output_type": "stream",
     "text": [
      "\t\tTotal time for config: 1.711078405380249\n",
      "Instance 1118, T = 1.0, Proposal = MALA_MC, Acceptance = metropolis, Gap = 0.0000\n",
      "Warning: Gap is very small, may be inaccurate.\n",
      "Starting problem instance 1119 of 2000 with n = 9\n"
     ]
    },
    {
     "name": "stderr",
     "output_type": "stream",
     "text": [
      "100%|██████████| 1000/1000 [00:02<00:00, 394.00it/s]\n"
     ]
    },
    {
     "name": "stdout",
     "output_type": "stream",
     "text": [
      "\t\tTotal time for config: 2.5390639305114746\n",
      "Instance 1119, T = 1.0, Proposal = MALA_MC, Acceptance = metropolis, Gap = 0.0000\n",
      "Warning: Gap is very small, may be inaccurate.\n",
      "Starting problem instance 1120 of 2000 with n = 10\n"
     ]
    },
    {
     "name": "stderr",
     "output_type": "stream",
     "text": [
      "100%|██████████| 1000/1000 [00:05<00:00, 194.90it/s]\n"
     ]
    },
    {
     "name": "stdout",
     "output_type": "stream",
     "text": [
      "\t\tTotal time for config: 5.1318042278289795\n",
      "Instance 1120, T = 1.0, Proposal = MALA_MC, Acceptance = metropolis, Gap = 0.0000\n",
      "Warning: Gap is very small, may be inaccurate.\n",
      "Starting problem instance 1121 of 2000 with n = 3\n"
     ]
    },
    {
     "name": "stderr",
     "output_type": "stream",
     "text": [
      "100%|██████████| 1000/1000 [00:00<00:00, 1371.65it/s]\n"
     ]
    },
    {
     "name": "stdout",
     "output_type": "stream",
     "text": [
      "\t\tTotal time for config: 0.7319934368133545\n",
      "Instance 1121, T = 1.0, Proposal = MALA_MC, Acceptance = metropolis, Gap = 0.8895\n",
      "Starting problem instance 1122 of 2000 with n = 4\n"
     ]
    },
    {
     "name": "stderr",
     "output_type": "stream",
     "text": [
      "100%|██████████| 1000/1000 [00:00<00:00, 1067.80it/s]\n"
     ]
    },
    {
     "name": "stdout",
     "output_type": "stream",
     "text": [
      "\t\tTotal time for config: 0.9404847621917725\n",
      "Instance 1122, T = 1.0, Proposal = MALA_MC, Acceptance = metropolis, Gap = 0.7023\n",
      "Starting problem instance 1123 of 2000 with n = 5\n"
     ]
    },
    {
     "name": "stderr",
     "output_type": "stream",
     "text": [
      "100%|██████████| 1000/1000 [00:01<00:00, 800.01it/s]\n"
     ]
    },
    {
     "name": "stdout",
     "output_type": "stream",
     "text": [
      "\t\tTotal time for config: 1.2539219856262207\n",
      "Instance 1123, T = 1.0, Proposal = MALA_MC, Acceptance = metropolis, Gap = 0.0219\n",
      "Starting problem instance 1124 of 2000 with n = 6\n"
     ]
    },
    {
     "name": "stderr",
     "output_type": "stream",
     "text": [
      "100%|██████████| 1000/1000 [00:01<00:00, 687.35it/s]\n"
     ]
    },
    {
     "name": "stdout",
     "output_type": "stream",
     "text": [
      "\t\tTotal time for config: 1.4589381217956543\n",
      "Instance 1124, T = 1.0, Proposal = MALA_MC, Acceptance = metropolis, Gap = 0.7948\n",
      "Starting problem instance 1125 of 2000 with n = 7\n"
     ]
    },
    {
     "name": "stderr",
     "output_type": "stream",
     "text": [
      "100%|██████████| 1000/1000 [00:01<00:00, 672.32it/s]\n"
     ]
    },
    {
     "name": "stdout",
     "output_type": "stream",
     "text": [
      "\t\tTotal time for config: 1.4893910884857178\n",
      "Instance 1125, T = 1.0, Proposal = MALA_MC, Acceptance = metropolis, Gap = 0.0000\n",
      "Warning: Gap is very small, may be inaccurate.\n",
      "Starting problem instance 1126 of 2000 with n = 8\n"
     ]
    },
    {
     "name": "stderr",
     "output_type": "stream",
     "text": [
      "100%|██████████| 1000/1000 [00:01<00:00, 532.12it/s]\n"
     ]
    },
    {
     "name": "stdout",
     "output_type": "stream",
     "text": [
      "\t\tTotal time for config: 1.882349967956543\n",
      "Instance 1126, T = 1.0, Proposal = MALA_MC, Acceptance = metropolis, Gap = 0.0000\n",
      "Warning: Gap is very small, may be inaccurate.\n",
      "Starting problem instance 1127 of 2000 with n = 9\n"
     ]
    },
    {
     "name": "stderr",
     "output_type": "stream",
     "text": [
      "100%|██████████| 1000/1000 [00:02<00:00, 341.28it/s]\n"
     ]
    },
    {
     "name": "stdout",
     "output_type": "stream",
     "text": [
      "\t\tTotal time for config: 2.9331181049346924\n",
      "Instance 1127, T = 1.0, Proposal = MALA_MC, Acceptance = metropolis, Gap = 0.0000\n",
      "Warning: Gap is very small, may be inaccurate.\n",
      "Starting problem instance 1128 of 2000 with n = 10\n"
     ]
    },
    {
     "name": "stderr",
     "output_type": "stream",
     "text": [
      "100%|██████████| 1000/1000 [00:05<00:00, 190.96it/s]\n"
     ]
    },
    {
     "name": "stdout",
     "output_type": "stream",
     "text": [
      "\t\tTotal time for config: 5.239775657653809\n",
      "Instance 1128, T = 1.0, Proposal = MALA_MC, Acceptance = metropolis, Gap = 0.0000\n",
      "Warning: Gap is very small, may be inaccurate.\n",
      "Starting problem instance 1129 of 2000 with n = 3\n"
     ]
    },
    {
     "name": "stderr",
     "output_type": "stream",
     "text": [
      "100%|██████████| 1000/1000 [00:00<00:00, 1217.26it/s]\n"
     ]
    },
    {
     "name": "stdout",
     "output_type": "stream",
     "text": [
      "\t\tTotal time for config: 0.8244259357452393\n",
      "Instance 1129, T = 1.0, Proposal = MALA_MC, Acceptance = metropolis, Gap = 0.6627\n",
      "Starting problem instance 1130 of 2000 with n = 4\n"
     ]
    },
    {
     "name": "stderr",
     "output_type": "stream",
     "text": [
      "100%|██████████| 1000/1000 [00:00<00:00, 1015.74it/s]\n"
     ]
    },
    {
     "name": "stdout",
     "output_type": "stream",
     "text": [
      "\t\tTotal time for config: 0.9865138530731201\n",
      "Instance 1130, T = 1.0, Proposal = MALA_MC, Acceptance = metropolis, Gap = 0.6537\n",
      "Starting problem instance 1131 of 2000 with n = 5\n"
     ]
    },
    {
     "name": "stderr",
     "output_type": "stream",
     "text": [
      "100%|██████████| 1000/1000 [00:01<00:00, 929.37it/s]\n"
     ]
    },
    {
     "name": "stdout",
     "output_type": "stream",
     "text": [
      "\t\tTotal time for config: 1.077962875366211\n",
      "Instance 1131, T = 1.0, Proposal = MALA_MC, Acceptance = metropolis, Gap = 0.3500\n",
      "Starting problem instance 1132 of 2000 with n = 6\n"
     ]
    },
    {
     "name": "stderr",
     "output_type": "stream",
     "text": [
      "100%|██████████| 1000/1000 [00:01<00:00, 794.42it/s]\n"
     ]
    },
    {
     "name": "stdout",
     "output_type": "stream",
     "text": [
      "\t\tTotal time for config: 1.2608249187469482\n",
      "Instance 1132, T = 1.0, Proposal = MALA_MC, Acceptance = metropolis, Gap = 0.0000\n",
      "Starting problem instance 1133 of 2000 with n = 7\n"
     ]
    },
    {
     "name": "stderr",
     "output_type": "stream",
     "text": [
      "100%|██████████| 1000/1000 [00:01<00:00, 599.00it/s]\n"
     ]
    },
    {
     "name": "stdout",
     "output_type": "stream",
     "text": [
      "\t\tTotal time for config: 1.6703872680664062\n",
      "Instance 1133, T = 1.0, Proposal = MALA_MC, Acceptance = metropolis, Gap = 0.0000\n",
      "Warning: Gap is very small, may be inaccurate.\n",
      "Starting problem instance 1134 of 2000 with n = 8\n"
     ]
    },
    {
     "name": "stderr",
     "output_type": "stream",
     "text": [
      "100%|██████████| 1000/1000 [00:01<00:00, 529.33it/s]\n"
     ]
    },
    {
     "name": "stdout",
     "output_type": "stream",
     "text": [
      "\t\tTotal time for config: 1.892326831817627\n",
      "Instance 1134, T = 1.0, Proposal = MALA_MC, Acceptance = metropolis, Gap = 0.0000\n",
      "Warning: Gap is very small, may be inaccurate.\n",
      "Starting problem instance 1135 of 2000 with n = 9\n"
     ]
    },
    {
     "name": "stderr",
     "output_type": "stream",
     "text": [
      "100%|██████████| 1000/1000 [00:02<00:00, 352.32it/s]\n"
     ]
    },
    {
     "name": "stdout",
     "output_type": "stream",
     "text": [
      "\t\tTotal time for config: 2.841336727142334\n",
      "Instance 1135, T = 1.0, Proposal = MALA_MC, Acceptance = metropolis, Gap = 0.0000\n",
      "Warning: Gap is very small, may be inaccurate.\n",
      "Starting problem instance 1136 of 2000 with n = 10\n"
     ]
    },
    {
     "name": "stderr",
     "output_type": "stream",
     "text": [
      "100%|██████████| 1000/1000 [00:05<00:00, 179.19it/s]\n"
     ]
    },
    {
     "name": "stdout",
     "output_type": "stream",
     "text": [
      "\t\tTotal time for config: 5.583715438842773\n",
      "Instance 1136, T = 1.0, Proposal = MALA_MC, Acceptance = metropolis, Gap = 0.0000\n",
      "Warning: Gap is very small, may be inaccurate.\n",
      "Starting problem instance 1137 of 2000 with n = 3\n"
     ]
    },
    {
     "name": "stderr",
     "output_type": "stream",
     "text": [
      "100%|██████████| 1000/1000 [00:01<00:00, 979.48it/s]\n"
     ]
    },
    {
     "name": "stdout",
     "output_type": "stream",
     "text": [
      "\t\tTotal time for config: 1.0240039825439453\n",
      "Instance 1137, T = 1.0, Proposal = MALA_MC, Acceptance = metropolis, Gap = 0.6971\n",
      "Starting problem instance 1138 of 2000 with n = 4\n"
     ]
    },
    {
     "name": "stderr",
     "output_type": "stream",
     "text": [
      "100%|██████████| 1000/1000 [00:01<00:00, 732.46it/s]\n"
     ]
    },
    {
     "name": "stdout",
     "output_type": "stream",
     "text": [
      "\t\tTotal time for config: 1.3693432807922363\n",
      "Instance 1138, T = 1.0, Proposal = MALA_MC, Acceptance = metropolis, Gap = 0.0255\n",
      "Starting problem instance 1139 of 2000 with n = 5\n"
     ]
    },
    {
     "name": "stderr",
     "output_type": "stream",
     "text": [
      "100%|██████████| 1000/1000 [00:01<00:00, 647.23it/s]\n"
     ]
    },
    {
     "name": "stdout",
     "output_type": "stream",
     "text": [
      "\t\tTotal time for config: 1.5480704307556152\n",
      "Instance 1139, T = 1.0, Proposal = MALA_MC, Acceptance = metropolis, Gap = 0.5391\n",
      "Starting problem instance 1140 of 2000 with n = 6\n"
     ]
    },
    {
     "name": "stderr",
     "output_type": "stream",
     "text": [
      "100%|██████████| 1000/1000 [00:01<00:00, 586.89it/s]\n"
     ]
    },
    {
     "name": "stdout",
     "output_type": "stream",
     "text": [
      "\t\tTotal time for config: 1.708021879196167\n",
      "Instance 1140, T = 1.0, Proposal = MALA_MC, Acceptance = metropolis, Gap = 0.0000\n",
      "Warning: Gap is very small, may be inaccurate.\n",
      "Starting problem instance 1141 of 2000 with n = 7\n"
     ]
    },
    {
     "name": "stderr",
     "output_type": "stream",
     "text": [
      "100%|██████████| 1000/1000 [00:01<00:00, 623.82it/s]\n"
     ]
    },
    {
     "name": "stdout",
     "output_type": "stream",
     "text": [
      "\t\tTotal time for config: 1.6060190200805664\n",
      "Instance 1141, T = 1.0, Proposal = MALA_MC, Acceptance = metropolis, Gap = 0.0365\n",
      "Starting problem instance 1142 of 2000 with n = 8\n"
     ]
    },
    {
     "name": "stderr",
     "output_type": "stream",
     "text": [
      "100%|██████████| 1000/1000 [00:01<00:00, 601.30it/s]\n"
     ]
    },
    {
     "name": "stdout",
     "output_type": "stream",
     "text": [
      "\t\tTotal time for config: 1.665067195892334\n",
      "Instance 1142, T = 1.0, Proposal = MALA_MC, Acceptance = metropolis, Gap = 0.0000\n",
      "Warning: Gap is very small, may be inaccurate.\n",
      "Starting problem instance 1143 of 2000 with n = 9\n"
     ]
    },
    {
     "name": "stderr",
     "output_type": "stream",
     "text": [
      "100%|██████████| 1000/1000 [00:02<00:00, 384.29it/s]\n"
     ]
    },
    {
     "name": "stdout",
     "output_type": "stream",
     "text": [
      "\t\tTotal time for config: 2.6042356491088867\n",
      "Instance 1143, T = 1.0, Proposal = MALA_MC, Acceptance = metropolis, Gap = 0.0000\n",
      "Warning: Gap is very small, may be inaccurate.\n",
      "Starting problem instance 1144 of 2000 with n = 10\n"
     ]
    },
    {
     "name": "stderr",
     "output_type": "stream",
     "text": [
      "100%|██████████| 1000/1000 [00:04<00:00, 207.07it/s]\n"
     ]
    },
    {
     "name": "stdout",
     "output_type": "stream",
     "text": [
      "\t\tTotal time for config: 4.832360029220581\n",
      "Instance 1144, T = 1.0, Proposal = MALA_MC, Acceptance = metropolis, Gap = 0.0000\n",
      "Warning: Gap is very small, may be inaccurate.\n",
      "Starting problem instance 1145 of 2000 with n = 3\n"
     ]
    },
    {
     "name": "stderr",
     "output_type": "stream",
     "text": [
      "100%|██████████| 1000/1000 [00:00<00:00, 1632.58it/s]\n"
     ]
    },
    {
     "name": "stdout",
     "output_type": "stream",
     "text": [
      "\t\tTotal time for config: 0.6155474185943604\n",
      "Instance 1145, T = 1.0, Proposal = MALA_MC, Acceptance = metropolis, Gap = 0.6034\n",
      "Starting problem instance 1146 of 2000 with n = 4\n"
     ]
    },
    {
     "name": "stderr",
     "output_type": "stream",
     "text": [
      "100%|██████████| 1000/1000 [00:00<00:00, 1197.97it/s]\n"
     ]
    },
    {
     "name": "stdout",
     "output_type": "stream",
     "text": [
      "\t\tTotal time for config: 0.8377087116241455\n",
      "Instance 1146, T = 1.0, Proposal = MALA_MC, Acceptance = metropolis, Gap = 0.7615\n",
      "Starting problem instance 1147 of 2000 with n = 5\n"
     ]
    },
    {
     "name": "stderr",
     "output_type": "stream",
     "text": [
      "100%|██████████| 1000/1000 [00:01<00:00, 872.51it/s]\n"
     ]
    },
    {
     "name": "stdout",
     "output_type": "stream",
     "text": [
      "\t\tTotal time for config: 1.1480886936187744\n",
      "Instance 1147, T = 1.0, Proposal = MALA_MC, Acceptance = metropolis, Gap = 0.6869\n",
      "Starting problem instance 1148 of 2000 with n = 6\n"
     ]
    },
    {
     "name": "stderr",
     "output_type": "stream",
     "text": [
      "100%|██████████| 1000/1000 [00:01<00:00, 732.43it/s]\n"
     ]
    },
    {
     "name": "stdout",
     "output_type": "stream",
     "text": [
      "\t\tTotal time for config: 1.3672666549682617\n",
      "Instance 1148, T = 1.0, Proposal = MALA_MC, Acceptance = metropolis, Gap = 0.0000\n",
      "Warning: Gap is very small, may be inaccurate.\n",
      "Starting problem instance 1149 of 2000 with n = 7\n"
     ]
    },
    {
     "name": "stderr",
     "output_type": "stream",
     "text": [
      "100%|██████████| 1000/1000 [00:01<00:00, 639.72it/s]\n"
     ]
    },
    {
     "name": "stdout",
     "output_type": "stream",
     "text": [
      "\t\tTotal time for config: 1.5652029514312744\n",
      "Instance 1149, T = 1.0, Proposal = MALA_MC, Acceptance = metropolis, Gap = 0.0000\n",
      "Warning: Gap is very small, may be inaccurate.\n",
      "Starting problem instance 1150 of 2000 with n = 8\n"
     ]
    },
    {
     "name": "stderr",
     "output_type": "stream",
     "text": [
      "100%|██████████| 1000/1000 [00:01<00:00, 521.21it/s]\n"
     ]
    },
    {
     "name": "stdout",
     "output_type": "stream",
     "text": [
      "\t\tTotal time for config: 1.921618938446045\n",
      "Instance 1150, T = 1.0, Proposal = MALA_MC, Acceptance = metropolis, Gap = 0.0000\n",
      "Warning: Gap is very small, may be inaccurate.\n",
      "Starting problem instance 1151 of 2000 with n = 9\n"
     ]
    },
    {
     "name": "stderr",
     "output_type": "stream",
     "text": [
      "100%|██████████| 1000/1000 [00:02<00:00, 342.40it/s]\n"
     ]
    },
    {
     "name": "stdout",
     "output_type": "stream",
     "text": [
      "\t\tTotal time for config: 2.923571825027466\n",
      "Instance 1151, T = 1.0, Proposal = MALA_MC, Acceptance = metropolis, Gap = 0.0000\n",
      "Warning: Gap is very small, may be inaccurate.\n",
      "Starting problem instance 1152 of 2000 with n = 10\n"
     ]
    },
    {
     "name": "stderr",
     "output_type": "stream",
     "text": [
      "100%|██████████| 1000/1000 [00:05<00:00, 197.70it/s]\n"
     ]
    },
    {
     "name": "stdout",
     "output_type": "stream",
     "text": [
      "\t\tTotal time for config: 5.060170650482178\n",
      "Instance 1152, T = 1.0, Proposal = MALA_MC, Acceptance = metropolis, Gap = 0.0000\n",
      "Warning: Gap is very small, may be inaccurate.\n",
      "Starting problem instance 1153 of 2000 with n = 3\n"
     ]
    },
    {
     "name": "stderr",
     "output_type": "stream",
     "text": [
      "100%|██████████| 1000/1000 [00:00<00:00, 1254.83it/s]\n"
     ]
    },
    {
     "name": "stdout",
     "output_type": "stream",
     "text": [
      "\t\tTotal time for config: 0.7989482879638672\n",
      "Instance 1153, T = 1.0, Proposal = MALA_MC, Acceptance = metropolis, Gap = 0.4535\n",
      "Starting problem instance 1154 of 2000 with n = 4\n"
     ]
    },
    {
     "name": "stderr",
     "output_type": "stream",
     "text": [
      "100%|██████████| 1000/1000 [00:00<00:00, 1054.68it/s]\n"
     ]
    },
    {
     "name": "stdout",
     "output_type": "stream",
     "text": [
      "\t\tTotal time for config: 0.9502251148223877\n",
      "Instance 1154, T = 1.0, Proposal = MALA_MC, Acceptance = metropolis, Gap = 0.2190\n",
      "Starting problem instance 1155 of 2000 with n = 5\n"
     ]
    },
    {
     "name": "stderr",
     "output_type": "stream",
     "text": [
      "100%|██████████| 1000/1000 [00:01<00:00, 862.80it/s]\n"
     ]
    },
    {
     "name": "stdout",
     "output_type": "stream",
     "text": [
      "\t\tTotal time for config: 1.1610543727874756\n",
      "Instance 1155, T = 1.0, Proposal = MALA_MC, Acceptance = metropolis, Gap = 0.0000\n",
      "Warning: Gap is very small, may be inaccurate.\n",
      "Starting problem instance 1156 of 2000 with n = 6\n"
     ]
    },
    {
     "name": "stderr",
     "output_type": "stream",
     "text": [
      "100%|██████████| 1000/1000 [00:01<00:00, 788.00it/s]\n"
     ]
    },
    {
     "name": "stdout",
     "output_type": "stream",
     "text": [
      "\t\tTotal time for config: 1.2720181941986084\n",
      "Instance 1156, T = 1.0, Proposal = MALA_MC, Acceptance = metropolis, Gap = 0.2577\n",
      "Starting problem instance 1157 of 2000 with n = 7\n"
     ]
    },
    {
     "name": "stderr",
     "output_type": "stream",
     "text": [
      "100%|██████████| 1000/1000 [00:01<00:00, 576.66it/s]\n"
     ]
    },
    {
     "name": "stdout",
     "output_type": "stream",
     "text": [
      "\t\tTotal time for config: 1.739030361175537\n",
      "Instance 1157, T = 1.0, Proposal = MALA_MC, Acceptance = metropolis, Gap = 0.0000\n",
      "Warning: Gap is very small, may be inaccurate.\n",
      "Starting problem instance 1158 of 2000 with n = 8\n"
     ]
    },
    {
     "name": "stderr",
     "output_type": "stream",
     "text": [
      "100%|██████████| 1000/1000 [00:01<00:00, 547.08it/s]\n"
     ]
    },
    {
     "name": "stdout",
     "output_type": "stream",
     "text": [
      "\t\tTotal time for config: 1.8308749198913574\n",
      "Instance 1158, T = 1.0, Proposal = MALA_MC, Acceptance = metropolis, Gap = 0.0000\n",
      "Warning: Gap is very small, may be inaccurate.\n",
      "Starting problem instance 1159 of 2000 with n = 9\n"
     ]
    },
    {
     "name": "stderr",
     "output_type": "stream",
     "text": [
      "100%|██████████| 1000/1000 [00:02<00:00, 378.10it/s]\n"
     ]
    },
    {
     "name": "stdout",
     "output_type": "stream",
     "text": [
      "\t\tTotal time for config: 2.6473946571350098\n",
      "Instance 1159, T = 1.0, Proposal = MALA_MC, Acceptance = metropolis, Gap = 0.0000\n",
      "Warning: Gap is very small, may be inaccurate.\n",
      "Starting problem instance 1160 of 2000 with n = 10\n"
     ]
    },
    {
     "name": "stderr",
     "output_type": "stream",
     "text": [
      "100%|██████████| 1000/1000 [00:04<00:00, 201.13it/s]\n"
     ]
    },
    {
     "name": "stdout",
     "output_type": "stream",
     "text": [
      "\t\tTotal time for config: 4.974088668823242\n",
      "Instance 1160, T = 1.0, Proposal = MALA_MC, Acceptance = metropolis, Gap = 0.0000\n",
      "Warning: Gap is very small, may be inaccurate.\n",
      "Starting problem instance 1161 of 2000 with n = 3\n"
     ]
    },
    {
     "name": "stderr",
     "output_type": "stream",
     "text": [
      "100%|██████████| 1000/1000 [00:00<00:00, 1370.61it/s]\n"
     ]
    },
    {
     "name": "stdout",
     "output_type": "stream",
     "text": [
      "\t\tTotal time for config: 0.7325577735900879\n",
      "Instance 1161, T = 1.0, Proposal = MALA_MC, Acceptance = metropolis, Gap = 0.8733\n",
      "Starting problem instance 1162 of 2000 with n = 4\n"
     ]
    },
    {
     "name": "stderr",
     "output_type": "stream",
     "text": [
      "100%|██████████| 1000/1000 [00:00<00:00, 1173.28it/s]\n"
     ]
    },
    {
     "name": "stdout",
     "output_type": "stream",
     "text": [
      "\t\tTotal time for config: 0.8560476303100586\n",
      "Instance 1162, T = 1.0, Proposal = MALA_MC, Acceptance = metropolis, Gap = 0.1178\n",
      "Starting problem instance 1163 of 2000 with n = 5\n"
     ]
    },
    {
     "name": "stderr",
     "output_type": "stream",
     "text": [
      "100%|██████████| 1000/1000 [00:01<00:00, 866.07it/s]\n"
     ]
    },
    {
     "name": "stdout",
     "output_type": "stream",
     "text": [
      "\t\tTotal time for config: 1.1555376052856445\n",
      "Instance 1163, T = 1.0, Proposal = MALA_MC, Acceptance = metropolis, Gap = 0.2964\n",
      "Starting problem instance 1164 of 2000 with n = 6\n"
     ]
    },
    {
     "name": "stderr",
     "output_type": "stream",
     "text": [
      "100%|██████████| 1000/1000 [00:01<00:00, 881.88it/s]\n"
     ]
    },
    {
     "name": "stdout",
     "output_type": "stream",
     "text": [
      "\t\tTotal time for config: 1.1349749565124512\n",
      "Instance 1164, T = 1.0, Proposal = MALA_MC, Acceptance = metropolis, Gap = 0.0014\n",
      "Starting problem instance 1165 of 2000 with n = 7\n"
     ]
    },
    {
     "name": "stderr",
     "output_type": "stream",
     "text": [
      "100%|██████████| 1000/1000 [00:01<00:00, 769.97it/s]\n"
     ]
    },
    {
     "name": "stdout",
     "output_type": "stream",
     "text": [
      "\t\tTotal time for config: 1.3037409782409668\n",
      "Instance 1165, T = 1.0, Proposal = MALA_MC, Acceptance = metropolis, Gap = 0.0545\n",
      "Starting problem instance 1166 of 2000 with n = 8\n"
     ]
    },
    {
     "name": "stderr",
     "output_type": "stream",
     "text": [
      "100%|██████████| 1000/1000 [00:01<00:00, 563.68it/s]\n"
     ]
    },
    {
     "name": "stdout",
     "output_type": "stream",
     "text": [
      "\t\tTotal time for config: 1.7779741287231445\n",
      "Instance 1166, T = 1.0, Proposal = MALA_MC, Acceptance = metropolis, Gap = 0.0000\n",
      "Warning: Gap is very small, may be inaccurate.\n",
      "Starting problem instance 1167 of 2000 with n = 9\n"
     ]
    },
    {
     "name": "stderr",
     "output_type": "stream",
     "text": [
      "100%|██████████| 1000/1000 [00:03<00:00, 314.70it/s]\n"
     ]
    },
    {
     "name": "stdout",
     "output_type": "stream",
     "text": [
      "\t\tTotal time for config: 3.1806695461273193\n",
      "Instance 1167, T = 1.0, Proposal = MALA_MC, Acceptance = metropolis, Gap = 0.0000\n",
      "Warning: Gap is very small, may be inaccurate.\n",
      "Starting problem instance 1168 of 2000 with n = 10\n"
     ]
    },
    {
     "name": "stderr",
     "output_type": "stream",
     "text": [
      "100%|██████████| 1000/1000 [00:05<00:00, 167.10it/s]\n"
     ]
    },
    {
     "name": "stdout",
     "output_type": "stream",
     "text": [
      "\t\tTotal time for config: 5.987332820892334\n",
      "Instance 1168, T = 1.0, Proposal = MALA_MC, Acceptance = metropolis, Gap = 0.0000\n",
      "Warning: Gap is very small, may be inaccurate.\n",
      "Starting problem instance 1169 of 2000 with n = 3\n"
     ]
    },
    {
     "name": "stderr",
     "output_type": "stream",
     "text": [
      "100%|██████████| 1000/1000 [00:00<00:00, 1112.47it/s]\n"
     ]
    },
    {
     "name": "stdout",
     "output_type": "stream",
     "text": [
      "\t\tTotal time for config: 0.9019508361816406\n",
      "Instance 1169, T = 1.0, Proposal = MALA_MC, Acceptance = metropolis, Gap = 0.6283\n",
      "Starting problem instance 1170 of 2000 with n = 4\n"
     ]
    },
    {
     "name": "stderr",
     "output_type": "stream",
     "text": [
      "100%|██████████| 1000/1000 [00:01<00:00, 999.20it/s]\n"
     ]
    },
    {
     "name": "stdout",
     "output_type": "stream",
     "text": [
      "\t\tTotal time for config: 1.0038514137268066\n",
      "Instance 1170, T = 1.0, Proposal = MALA_MC, Acceptance = metropolis, Gap = 0.0204\n",
      "Starting problem instance 1171 of 2000 with n = 5\n"
     ]
    },
    {
     "name": "stderr",
     "output_type": "stream",
     "text": [
      "100%|██████████| 1000/1000 [00:01<00:00, 816.91it/s]\n"
     ]
    },
    {
     "name": "stdout",
     "output_type": "stream",
     "text": [
      "\t\tTotal time for config: 1.22611403465271\n",
      "Instance 1171, T = 1.0, Proposal = MALA_MC, Acceptance = metropolis, Gap = 0.0001\n",
      "Starting problem instance 1172 of 2000 with n = 6\n"
     ]
    },
    {
     "name": "stderr",
     "output_type": "stream",
     "text": [
      "100%|██████████| 1000/1000 [00:01<00:00, 725.34it/s]\n"
     ]
    },
    {
     "name": "stdout",
     "output_type": "stream",
     "text": [
      "\t\tTotal time for config: 1.3827106952667236\n",
      "Instance 1172, T = 1.0, Proposal = MALA_MC, Acceptance = metropolis, Gap = 0.0011\n",
      "Starting problem instance 1173 of 2000 with n = 7\n"
     ]
    },
    {
     "name": "stderr",
     "output_type": "stream",
     "text": [
      "100%|██████████| 1000/1000 [00:01<00:00, 740.91it/s]\n"
     ]
    },
    {
     "name": "stdout",
     "output_type": "stream",
     "text": [
      "\t\tTotal time for config: 1.352708101272583\n",
      "Instance 1173, T = 1.0, Proposal = MALA_MC, Acceptance = metropolis, Gap = 0.0473\n",
      "Starting problem instance 1174 of 2000 with n = 8\n"
     ]
    },
    {
     "name": "stderr",
     "output_type": "stream",
     "text": [
      "100%|██████████| 1000/1000 [00:01<00:00, 609.60it/s]\n"
     ]
    },
    {
     "name": "stdout",
     "output_type": "stream",
     "text": [
      "\t\tTotal time for config: 1.6434617042541504\n",
      "Instance 1174, T = 1.0, Proposal = MALA_MC, Acceptance = metropolis, Gap = 0.0000\n",
      "Warning: Gap is very small, may be inaccurate.\n",
      "Starting problem instance 1175 of 2000 with n = 9\n"
     ]
    },
    {
     "name": "stderr",
     "output_type": "stream",
     "text": [
      "100%|██████████| 1000/1000 [00:02<00:00, 380.29it/s]\n"
     ]
    },
    {
     "name": "stdout",
     "output_type": "stream",
     "text": [
      "\t\tTotal time for config: 2.63163685798645\n",
      "Instance 1175, T = 1.0, Proposal = MALA_MC, Acceptance = metropolis, Gap = 0.0000\n",
      "Warning: Gap is very small, may be inaccurate.\n",
      "Starting problem instance 1176 of 2000 with n = 10\n"
     ]
    },
    {
     "name": "stderr",
     "output_type": "stream",
     "text": [
      "100%|██████████| 1000/1000 [00:04<00:00, 215.66it/s]\n"
     ]
    },
    {
     "name": "stdout",
     "output_type": "stream",
     "text": [
      "\t\tTotal time for config: 4.63996958732605\n",
      "Instance 1176, T = 1.0, Proposal = MALA_MC, Acceptance = metropolis, Gap = 0.0000\n",
      "Warning: Gap is very small, may be inaccurate.\n",
      "Starting problem instance 1177 of 2000 with n = 3\n"
     ]
    },
    {
     "name": "stderr",
     "output_type": "stream",
     "text": [
      "100%|██████████| 1000/1000 [00:00<00:00, 1538.11it/s]\n"
     ]
    },
    {
     "name": "stdout",
     "output_type": "stream",
     "text": [
      "\t\tTotal time for config: 0.6521000862121582\n",
      "Instance 1177, T = 1.0, Proposal = MALA_MC, Acceptance = metropolis, Gap = 0.8729\n",
      "Starting problem instance 1178 of 2000 with n = 4\n"
     ]
    },
    {
     "name": "stderr",
     "output_type": "stream",
     "text": [
      "100%|██████████| 1000/1000 [00:00<00:00, 1142.82it/s]\n"
     ]
    },
    {
     "name": "stdout",
     "output_type": "stream",
     "text": [
      "\t\tTotal time for config: 0.8770229816436768\n",
      "Instance 1178, T = 1.0, Proposal = MALA_MC, Acceptance = metropolis, Gap = 0.5345\n",
      "Starting problem instance 1179 of 2000 with n = 5\n"
     ]
    },
    {
     "name": "stderr",
     "output_type": "stream",
     "text": [
      "100%|██████████| 1000/1000 [00:01<00:00, 961.68it/s]\n"
     ]
    },
    {
     "name": "stdout",
     "output_type": "stream",
     "text": [
      "\t\tTotal time for config: 1.0429000854492188\n",
      "Instance 1179, T = 1.0, Proposal = MALA_MC, Acceptance = metropolis, Gap = 0.1921\n",
      "Starting problem instance 1180 of 2000 with n = 6\n"
     ]
    },
    {
     "name": "stderr",
     "output_type": "stream",
     "text": [
      "100%|██████████| 1000/1000 [00:01<00:00, 832.13it/s]\n"
     ]
    },
    {
     "name": "stdout",
     "output_type": "stream",
     "text": [
      "\t\tTotal time for config: 1.2037482261657715\n",
      "Instance 1180, T = 1.0, Proposal = MALA_MC, Acceptance = metropolis, Gap = 0.0000\n",
      "Warning: Gap is very small, may be inaccurate.\n",
      "Starting problem instance 1181 of 2000 with n = 7\n"
     ]
    },
    {
     "name": "stderr",
     "output_type": "stream",
     "text": [
      "100%|██████████| 1000/1000 [00:01<00:00, 695.08it/s]\n"
     ]
    },
    {
     "name": "stdout",
     "output_type": "stream",
     "text": [
      "\t\tTotal time for config: 1.4407153129577637\n",
      "Instance 1181, T = 1.0, Proposal = MALA_MC, Acceptance = metropolis, Gap = 0.2445\n",
      "Starting problem instance 1182 of 2000 with n = 8\n"
     ]
    },
    {
     "name": "stderr",
     "output_type": "stream",
     "text": [
      "100%|██████████| 1000/1000 [00:01<00:00, 518.24it/s]\n"
     ]
    },
    {
     "name": "stdout",
     "output_type": "stream",
     "text": [
      "\t\tTotal time for config: 1.9347343444824219\n",
      "Instance 1182, T = 1.0, Proposal = MALA_MC, Acceptance = metropolis, Gap = 0.0000\n",
      "Warning: Gap is very small, may be inaccurate.\n",
      "Starting problem instance 1183 of 2000 with n = 9\n"
     ]
    },
    {
     "name": "stderr",
     "output_type": "stream",
     "text": [
      "100%|██████████| 1000/1000 [00:02<00:00, 368.36it/s]\n"
     ]
    },
    {
     "name": "stdout",
     "output_type": "stream",
     "text": [
      "\t\tTotal time for config: 2.717649459838867\n",
      "Instance 1183, T = 1.0, Proposal = MALA_MC, Acceptance = metropolis, Gap = 0.0000\n",
      "Warning: Gap is very small, may be inaccurate.\n",
      "Starting problem instance 1184 of 2000 with n = 10\n"
     ]
    },
    {
     "name": "stderr",
     "output_type": "stream",
     "text": [
      "100%|██████████| 1000/1000 [00:05<00:00, 198.53it/s]\n"
     ]
    },
    {
     "name": "stdout",
     "output_type": "stream",
     "text": [
      "\t\tTotal time for config: 5.039865493774414\n",
      "Instance 1184, T = 1.0, Proposal = MALA_MC, Acceptance = metropolis, Gap = 0.0000\n",
      "Warning: Gap is very small, may be inaccurate.\n",
      "Starting problem instance 1185 of 2000 with n = 3\n"
     ]
    },
    {
     "name": "stderr",
     "output_type": "stream",
     "text": [
      "100%|██████████| 1000/1000 [00:00<00:00, 1286.49it/s]\n"
     ]
    },
    {
     "name": "stdout",
     "output_type": "stream",
     "text": [
      "\t\tTotal time for config: 0.7783396244049072\n",
      "Instance 1185, T = 1.0, Proposal = MALA_MC, Acceptance = metropolis, Gap = 0.8103\n",
      "Starting problem instance 1186 of 2000 with n = 4\n"
     ]
    },
    {
     "name": "stderr",
     "output_type": "stream",
     "text": [
      "100%|██████████| 1000/1000 [00:00<00:00, 1051.76it/s]\n"
     ]
    },
    {
     "name": "stdout",
     "output_type": "stream",
     "text": [
      "\t\tTotal time for config: 0.9528288841247559\n",
      "Instance 1186, T = 1.0, Proposal = MALA_MC, Acceptance = metropolis, Gap = 0.3522\n",
      "Starting problem instance 1187 of 2000 with n = 5\n"
     ]
    },
    {
     "name": "stderr",
     "output_type": "stream",
     "text": [
      "100%|██████████| 1000/1000 [00:01<00:00, 844.66it/s]\n"
     ]
    },
    {
     "name": "stdout",
     "output_type": "stream",
     "text": [
      "\t\tTotal time for config: 1.1849908828735352\n",
      "Instance 1187, T = 1.0, Proposal = MALA_MC, Acceptance = metropolis, Gap = 0.0001\n",
      "Starting problem instance 1188 of 2000 with n = 6\n"
     ]
    },
    {
     "name": "stderr",
     "output_type": "stream",
     "text": [
      "100%|██████████| 1000/1000 [00:01<00:00, 861.25it/s]\n"
     ]
    },
    {
     "name": "stdout",
     "output_type": "stream",
     "text": [
      "\t\tTotal time for config: 1.163154125213623\n",
      "Instance 1188, T = 1.0, Proposal = MALA_MC, Acceptance = metropolis, Gap = 0.4063\n",
      "Starting problem instance 1189 of 2000 with n = 7\n"
     ]
    },
    {
     "name": "stderr",
     "output_type": "stream",
     "text": [
      "100%|██████████| 1000/1000 [00:01<00:00, 763.51it/s]\n"
     ]
    },
    {
     "name": "stdout",
     "output_type": "stream",
     "text": [
      "\t\tTotal time for config: 1.3127009868621826\n",
      "Instance 1189, T = 1.0, Proposal = MALA_MC, Acceptance = metropolis, Gap = 0.1574\n",
      "Starting problem instance 1190 of 2000 with n = 8\n"
     ]
    },
    {
     "name": "stderr",
     "output_type": "stream",
     "text": [
      "100%|██████████| 1000/1000 [00:01<00:00, 604.89it/s]\n"
     ]
    },
    {
     "name": "stdout",
     "output_type": "stream",
     "text": [
      "\t\tTotal time for config: 1.6563012599945068\n",
      "Instance 1190, T = 1.0, Proposal = MALA_MC, Acceptance = metropolis, Gap = 0.0000\n",
      "Warning: Gap is very small, may be inaccurate.\n",
      "Starting problem instance 1191 of 2000 with n = 9\n"
     ]
    },
    {
     "name": "stderr",
     "output_type": "stream",
     "text": [
      "100%|██████████| 1000/1000 [00:02<00:00, 396.07it/s]\n"
     ]
    },
    {
     "name": "stdout",
     "output_type": "stream",
     "text": [
      "\t\tTotal time for config: 2.5277912616729736\n",
      "Instance 1191, T = 1.0, Proposal = MALA_MC, Acceptance = metropolis, Gap = 0.0000\n",
      "Starting problem instance 1192 of 2000 with n = 10\n"
     ]
    },
    {
     "name": "stderr",
     "output_type": "stream",
     "text": [
      "100%|██████████| 1000/1000 [00:04<00:00, 214.30it/s]\n"
     ]
    },
    {
     "name": "stdout",
     "output_type": "stream",
     "text": [
      "\t\tTotal time for config: 4.669474363327026\n",
      "Instance 1192, T = 1.0, Proposal = MALA_MC, Acceptance = metropolis, Gap = 0.0000\n",
      "Warning: Gap is very small, may be inaccurate.\n",
      "Starting problem instance 1193 of 2000 with n = 3\n"
     ]
    },
    {
     "name": "stderr",
     "output_type": "stream",
     "text": [
      "100%|██████████| 1000/1000 [00:00<00:00, 1215.50it/s]\n"
     ]
    },
    {
     "name": "stdout",
     "output_type": "stream",
     "text": [
      "\t\tTotal time for config: 0.8256838321685791\n",
      "Instance 1193, T = 1.0, Proposal = MALA_MC, Acceptance = metropolis, Gap = 0.7097\n",
      "Starting problem instance 1194 of 2000 with n = 4\n"
     ]
    },
    {
     "name": "stderr",
     "output_type": "stream",
     "text": [
      "100%|██████████| 1000/1000 [00:00<00:00, 1197.95it/s]\n"
     ]
    },
    {
     "name": "stdout",
     "output_type": "stream",
     "text": [
      "\t\tTotal time for config: 0.8378758430480957\n",
      "Instance 1194, T = 1.0, Proposal = MALA_MC, Acceptance = metropolis, Gap = 0.1511\n",
      "Starting problem instance 1195 of 2000 with n = 5\n"
     ]
    },
    {
     "name": "stderr",
     "output_type": "stream",
     "text": [
      "100%|██████████| 1000/1000 [00:01<00:00, 877.23it/s]\n"
     ]
    },
    {
     "name": "stdout",
     "output_type": "stream",
     "text": [
      "\t\tTotal time for config: 1.1428489685058594\n",
      "Instance 1195, T = 1.0, Proposal = MALA_MC, Acceptance = metropolis, Gap = 0.0453\n",
      "Starting problem instance 1196 of 2000 with n = 6\n"
     ]
    },
    {
     "name": "stderr",
     "output_type": "stream",
     "text": [
      "100%|██████████| 1000/1000 [00:01<00:00, 716.23it/s]\n"
     ]
    },
    {
     "name": "stdout",
     "output_type": "stream",
     "text": [
      "\t\tTotal time for config: 1.3981282711029053\n",
      "Instance 1196, T = 1.0, Proposal = MALA_MC, Acceptance = metropolis, Gap = 0.2476\n",
      "Starting problem instance 1197 of 2000 with n = 7\n"
     ]
    },
    {
     "name": "stderr",
     "output_type": "stream",
     "text": [
      "100%|██████████| 1000/1000 [00:02<00:00, 399.76it/s]\n"
     ]
    },
    {
     "name": "stdout",
     "output_type": "stream",
     "text": [
      "\t\tTotal time for config: 2.5034945011138916\n",
      "Instance 1197, T = 1.0, Proposal = MALA_MC, Acceptance = metropolis, Gap = 0.0000\n",
      "Warning: Gap is very small, may be inaccurate.\n",
      "Starting problem instance 1198 of 2000 with n = 8\n"
     ]
    },
    {
     "name": "stderr",
     "output_type": "stream",
     "text": [
      "100%|██████████| 1000/1000 [00:03<00:00, 332.61it/s]\n"
     ]
    },
    {
     "name": "stdout",
     "output_type": "stream",
     "text": [
      "\t\tTotal time for config: 3.0104596614837646\n",
      "Instance 1198, T = 1.0, Proposal = MALA_MC, Acceptance = metropolis, Gap = 0.0000\n",
      "Warning: Gap is very small, may be inaccurate.\n",
      "Starting problem instance 1199 of 2000 with n = 9\n"
     ]
    },
    {
     "name": "stderr",
     "output_type": "stream",
     "text": [
      "100%|██████████| 1000/1000 [00:03<00:00, 271.35it/s]\n"
     ]
    },
    {
     "name": "stdout",
     "output_type": "stream",
     "text": [
      "\t\tTotal time for config: 3.6892964839935303\n",
      "Instance 1199, T = 1.0, Proposal = MALA_MC, Acceptance = metropolis, Gap = 0.0000\n",
      "Warning: Gap is very small, may be inaccurate.\n",
      "Starting problem instance 1200 of 2000 with n = 10\n"
     ]
    },
    {
     "name": "stderr",
     "output_type": "stream",
     "text": [
      "100%|██████████| 1000/1000 [00:06<00:00, 163.45it/s]\n"
     ]
    },
    {
     "name": "stdout",
     "output_type": "stream",
     "text": [
      "\t\tTotal time for config: 6.1210174560546875\n",
      "Instance 1200, T = 1.0, Proposal = MALA_MC, Acceptance = metropolis, Gap = 0.0000\n",
      "Warning: Gap is very small, may be inaccurate.\n",
      "Starting problem instance 1201 of 2000 with n = 3\n"
     ]
    },
    {
     "name": "stderr",
     "output_type": "stream",
     "text": [
      "100%|██████████| 1000/1000 [00:00<00:00, 1533.85it/s]\n"
     ]
    },
    {
     "name": "stdout",
     "output_type": "stream",
     "text": [
      "\t\tTotal time for config: 0.6549472808837891\n",
      "Instance 1201, T = 1.0, Proposal = MALA_MC, Acceptance = metropolis, Gap = 0.7489\n",
      "Starting problem instance 1202 of 2000 with n = 4\n"
     ]
    },
    {
     "name": "stderr",
     "output_type": "stream",
     "text": [
      "100%|██████████| 1000/1000 [00:01<00:00, 937.49it/s]\n"
     ]
    },
    {
     "name": "stdout",
     "output_type": "stream",
     "text": [
      "\t\tTotal time for config: 1.0707271099090576\n",
      "Instance 1202, T = 1.0, Proposal = MALA_MC, Acceptance = metropolis, Gap = 0.1863\n",
      "Starting problem instance 1203 of 2000 with n = 5\n"
     ]
    },
    {
     "name": "stderr",
     "output_type": "stream",
     "text": [
      "100%|██████████| 1000/1000 [00:01<00:00, 739.11it/s]\n"
     ]
    },
    {
     "name": "stdout",
     "output_type": "stream",
     "text": [
      "\t\tTotal time for config: 1.3549151420593262\n",
      "Instance 1203, T = 1.0, Proposal = MALA_MC, Acceptance = metropolis, Gap = 0.4775\n",
      "Starting problem instance 1204 of 2000 with n = 6\n"
     ]
    },
    {
     "name": "stderr",
     "output_type": "stream",
     "text": [
      "100%|██████████| 1000/1000 [00:01<00:00, 709.55it/s]\n"
     ]
    },
    {
     "name": "stdout",
     "output_type": "stream",
     "text": [
      "\t\tTotal time for config: 1.4123246669769287\n",
      "Instance 1204, T = 1.0, Proposal = MALA_MC, Acceptance = metropolis, Gap = 0.0000\n",
      "Warning: Gap is very small, may be inaccurate.\n",
      "Starting problem instance 1205 of 2000 with n = 7\n"
     ]
    },
    {
     "name": "stderr",
     "output_type": "stream",
     "text": [
      "100%|██████████| 1000/1000 [00:01<00:00, 607.41it/s]\n"
     ]
    },
    {
     "name": "stdout",
     "output_type": "stream",
     "text": [
      "\t\tTotal time for config: 1.6484334468841553\n",
      "Instance 1205, T = 1.0, Proposal = MALA_MC, Acceptance = metropolis, Gap = 0.0000\n",
      "Warning: Gap is very small, may be inaccurate.\n",
      "Starting problem instance 1206 of 2000 with n = 8\n"
     ]
    },
    {
     "name": "stderr",
     "output_type": "stream",
     "text": [
      "100%|██████████| 1000/1000 [00:02<00:00, 467.78it/s]\n"
     ]
    },
    {
     "name": "stdout",
     "output_type": "stream",
     "text": [
      "\t\tTotal time for config: 2.1408231258392334\n",
      "Instance 1206, T = 1.0, Proposal = MALA_MC, Acceptance = metropolis, Gap = 0.0000\n",
      "Warning: Gap is very small, may be inaccurate.\n",
      "Starting problem instance 1207 of 2000 with n = 9\n"
     ]
    },
    {
     "name": "stderr",
     "output_type": "stream",
     "text": [
      "100%|██████████| 1000/1000 [00:02<00:00, 343.37it/s]\n"
     ]
    },
    {
     "name": "stdout",
     "output_type": "stream",
     "text": [
      "\t\tTotal time for config: 2.9142861366271973\n",
      "Instance 1207, T = 1.0, Proposal = MALA_MC, Acceptance = metropolis, Gap = 0.0000\n",
      "Warning: Gap is very small, may be inaccurate.\n",
      "Starting problem instance 1208 of 2000 with n = 10\n"
     ]
    },
    {
     "name": "stderr",
     "output_type": "stream",
     "text": [
      "100%|██████████| 1000/1000 [00:05<00:00, 177.10it/s]\n"
     ]
    },
    {
     "name": "stdout",
     "output_type": "stream",
     "text": [
      "\t\tTotal time for config: 5.650603294372559\n",
      "Instance 1208, T = 1.0, Proposal = MALA_MC, Acceptance = metropolis, Gap = 0.0000\n",
      "Warning: Gap is very small, may be inaccurate.\n",
      "Starting problem instance 1209 of 2000 with n = 3\n"
     ]
    },
    {
     "name": "stderr",
     "output_type": "stream",
     "text": [
      "100%|██████████| 1000/1000 [00:00<00:00, 1162.14it/s]\n"
     ]
    },
    {
     "name": "stdout",
     "output_type": "stream",
     "text": [
      "\t\tTotal time for config: 0.8634817600250244\n",
      "Instance 1209, T = 1.0, Proposal = MALA_MC, Acceptance = metropolis, Gap = 0.7948\n",
      "Starting problem instance 1210 of 2000 with n = 4\n"
     ]
    },
    {
     "name": "stderr",
     "output_type": "stream",
     "text": [
      "100%|██████████| 1000/1000 [00:01<00:00, 897.17it/s]\n"
     ]
    },
    {
     "name": "stdout",
     "output_type": "stream",
     "text": [
      "\t\tTotal time for config: 1.116635799407959\n",
      "Instance 1210, T = 1.0, Proposal = MALA_MC, Acceptance = metropolis, Gap = 0.5472\n",
      "Starting problem instance 1211 of 2000 with n = 5\n"
     ]
    },
    {
     "name": "stderr",
     "output_type": "stream",
     "text": [
      "100%|██████████| 1000/1000 [00:01<00:00, 574.26it/s]\n"
     ]
    },
    {
     "name": "stdout",
     "output_type": "stream",
     "text": [
      "\t\tTotal time for config: 1.7433569431304932\n",
      "Instance 1211, T = 1.0, Proposal = MALA_MC, Acceptance = metropolis, Gap = 0.3458\n",
      "Starting problem instance 1212 of 2000 with n = 6\n"
     ]
    },
    {
     "name": "stderr",
     "output_type": "stream",
     "text": [
      "100%|██████████| 1000/1000 [00:01<00:00, 659.16it/s]\n"
     ]
    },
    {
     "name": "stdout",
     "output_type": "stream",
     "text": [
      "\t\tTotal time for config: 1.5200319290161133\n",
      "Instance 1212, T = 1.0, Proposal = MALA_MC, Acceptance = metropolis, Gap = 0.0000\n",
      "Warning: Gap is very small, may be inaccurate.\n",
      "Starting problem instance 1213 of 2000 with n = 7\n"
     ]
    },
    {
     "name": "stderr",
     "output_type": "stream",
     "text": [
      "100%|██████████| 1000/1000 [00:01<00:00, 699.81it/s]\n"
     ]
    },
    {
     "name": "stdout",
     "output_type": "stream",
     "text": [
      "\t\tTotal time for config: 1.4309279918670654\n",
      "Instance 1213, T = 1.0, Proposal = MALA_MC, Acceptance = metropolis, Gap = 0.0000\n",
      "Warning: Gap is very small, may be inaccurate.\n",
      "Starting problem instance 1214 of 2000 with n = 8\n"
     ]
    },
    {
     "name": "stderr",
     "output_type": "stream",
     "text": [
      "100%|██████████| 1000/1000 [00:01<00:00, 543.03it/s]\n"
     ]
    },
    {
     "name": "stdout",
     "output_type": "stream",
     "text": [
      "\t\tTotal time for config: 1.84456467628479\n",
      "Instance 1214, T = 1.0, Proposal = MALA_MC, Acceptance = metropolis, Gap = 0.0000\n",
      "Warning: Gap is very small, may be inaccurate.\n",
      "Starting problem instance 1215 of 2000 with n = 9\n"
     ]
    },
    {
     "name": "stderr",
     "output_type": "stream",
     "text": [
      "100%|██████████| 1000/1000 [00:02<00:00, 362.01it/s]\n"
     ]
    },
    {
     "name": "stdout",
     "output_type": "stream",
     "text": [
      "\t\tTotal time for config: 2.766376495361328\n",
      "Instance 1215, T = 1.0, Proposal = MALA_MC, Acceptance = metropolis, Gap = 0.0000\n",
      "Warning: Gap is very small, may be inaccurate.\n",
      "Starting problem instance 1216 of 2000 with n = 10\n"
     ]
    },
    {
     "name": "stderr",
     "output_type": "stream",
     "text": [
      "100%|██████████| 1000/1000 [00:04<00:00, 208.33it/s]\n"
     ]
    },
    {
     "name": "stdout",
     "output_type": "stream",
     "text": [
      "\t\tTotal time for config: 4.803141117095947\n",
      "Instance 1216, T = 1.0, Proposal = MALA_MC, Acceptance = metropolis, Gap = 0.0000\n",
      "Warning: Gap is very small, may be inaccurate.\n",
      "Starting problem instance 1217 of 2000 with n = 3\n"
     ]
    },
    {
     "name": "stderr",
     "output_type": "stream",
     "text": [
      "100%|██████████| 1000/1000 [00:00<00:00, 1236.80it/s]\n"
     ]
    },
    {
     "name": "stdout",
     "output_type": "stream",
     "text": [
      "\t\tTotal time for config: 0.8105208873748779\n",
      "Instance 1217, T = 1.0, Proposal = MALA_MC, Acceptance = metropolis, Gap = 0.3479\n",
      "Starting problem instance 1218 of 2000 with n = 4\n"
     ]
    },
    {
     "name": "stderr",
     "output_type": "stream",
     "text": [
      "100%|██████████| 1000/1000 [00:00<00:00, 1095.79it/s]\n"
     ]
    },
    {
     "name": "stdout",
     "output_type": "stream",
     "text": [
      "\t\tTotal time for config: 0.9135921001434326\n",
      "Instance 1218, T = 1.0, Proposal = MALA_MC, Acceptance = metropolis, Gap = 0.6511\n",
      "Starting problem instance 1219 of 2000 with n = 5\n"
     ]
    },
    {
     "name": "stderr",
     "output_type": "stream",
     "text": [
      "100%|██████████| 1000/1000 [00:01<00:00, 880.25it/s]\n"
     ]
    },
    {
     "name": "stdout",
     "output_type": "stream",
     "text": [
      "\t\tTotal time for config: 1.1379570960998535\n",
      "Instance 1219, T = 1.0, Proposal = MALA_MC, Acceptance = metropolis, Gap = 0.0755\n",
      "Starting problem instance 1220 of 2000 with n = 6\n"
     ]
    },
    {
     "name": "stderr",
     "output_type": "stream",
     "text": [
      "100%|██████████| 1000/1000 [00:01<00:00, 655.90it/s]\n"
     ]
    },
    {
     "name": "stdout",
     "output_type": "stream",
     "text": [
      "\t\tTotal time for config: 1.5276145935058594\n",
      "Instance 1220, T = 1.0, Proposal = MALA_MC, Acceptance = metropolis, Gap = 0.0011\n",
      "Starting problem instance 1221 of 2000 with n = 7\n"
     ]
    },
    {
     "name": "stderr",
     "output_type": "stream",
     "text": [
      "100%|██████████| 1000/1000 [00:01<00:00, 594.74it/s]\n"
     ]
    },
    {
     "name": "stdout",
     "output_type": "stream",
     "text": [
      "\t\tTotal time for config: 1.6843721866607666\n",
      "Instance 1221, T = 1.0, Proposal = MALA_MC, Acceptance = metropolis, Gap = 0.0000\n",
      "Warning: Gap is very small, may be inaccurate.\n",
      "Starting problem instance 1222 of 2000 with n = 8\n"
     ]
    },
    {
     "name": "stderr",
     "output_type": "stream",
     "text": [
      "100%|██████████| 1000/1000 [00:02<00:00, 482.86it/s]\n"
     ]
    },
    {
     "name": "stdout",
     "output_type": "stream",
     "text": [
      "\t\tTotal time for config: 2.07391095161438\n",
      "Instance 1222, T = 1.0, Proposal = MALA_MC, Acceptance = metropolis, Gap = 0.0000\n",
      "Warning: Gap is very small, may be inaccurate.\n",
      "Starting problem instance 1223 of 2000 with n = 9\n"
     ]
    },
    {
     "name": "stderr",
     "output_type": "stream",
     "text": [
      "100%|██████████| 1000/1000 [00:02<00:00, 341.93it/s]\n"
     ]
    },
    {
     "name": "stdout",
     "output_type": "stream",
     "text": [
      "\t\tTotal time for config: 2.925593137741089\n",
      "Instance 1223, T = 1.0, Proposal = MALA_MC, Acceptance = metropolis, Gap = -0.0000\n",
      "Warning: Gap is very small, may be inaccurate.\n",
      "Starting problem instance 1224 of 2000 with n = 10\n"
     ]
    },
    {
     "name": "stderr",
     "output_type": "stream",
     "text": [
      "100%|██████████| 1000/1000 [00:05<00:00, 187.84it/s]\n"
     ]
    },
    {
     "name": "stdout",
     "output_type": "stream",
     "text": [
      "\t\tTotal time for config: 5.324624538421631\n",
      "Instance 1224, T = 1.0, Proposal = MALA_MC, Acceptance = metropolis, Gap = 0.0000\n",
      "Warning: Gap is very small, may be inaccurate.\n",
      "Starting problem instance 1225 of 2000 with n = 3\n"
     ]
    },
    {
     "name": "stderr",
     "output_type": "stream",
     "text": [
      "100%|██████████| 1000/1000 [00:00<00:00, 1277.48it/s]\n"
     ]
    },
    {
     "name": "stdout",
     "output_type": "stream",
     "text": [
      "\t\tTotal time for config: 0.7876908779144287\n",
      "Instance 1225, T = 1.0, Proposal = MALA_MC, Acceptance = metropolis, Gap = 0.8434\n",
      "Starting problem instance 1226 of 2000 with n = 4\n"
     ]
    },
    {
     "name": "stderr",
     "output_type": "stream",
     "text": [
      "100%|██████████| 1000/1000 [00:01<00:00, 967.15it/s]\n"
     ]
    },
    {
     "name": "stdout",
     "output_type": "stream",
     "text": [
      "\t\tTotal time for config: 1.037994623184204\n",
      "Instance 1226, T = 1.0, Proposal = MALA_MC, Acceptance = metropolis, Gap = 0.0089\n",
      "Starting problem instance 1227 of 2000 with n = 5\n"
     ]
    },
    {
     "name": "stderr",
     "output_type": "stream",
     "text": [
      "100%|██████████| 1000/1000 [00:01<00:00, 787.18it/s]\n"
     ]
    },
    {
     "name": "stdout",
     "output_type": "stream",
     "text": [
      "\t\tTotal time for config: 1.2733068466186523\n",
      "Instance 1227, T = 1.0, Proposal = MALA_MC, Acceptance = metropolis, Gap = 0.0003\n",
      "Starting problem instance 1228 of 2000 with n = 6\n"
     ]
    },
    {
     "name": "stderr",
     "output_type": "stream",
     "text": [
      "100%|██████████| 1000/1000 [00:01<00:00, 641.97it/s]\n"
     ]
    },
    {
     "name": "stdout",
     "output_type": "stream",
     "text": [
      "\t\tTotal time for config: 1.5588164329528809\n",
      "Instance 1228, T = 1.0, Proposal = MALA_MC, Acceptance = metropolis, Gap = 0.0000\n",
      "Warning: Gap is very small, may be inaccurate.\n",
      "Starting problem instance 1229 of 2000 with n = 7\n"
     ]
    },
    {
     "name": "stderr",
     "output_type": "stream",
     "text": [
      "100%|██████████| 1000/1000 [00:01<00:00, 694.36it/s]\n"
     ]
    },
    {
     "name": "stdout",
     "output_type": "stream",
     "text": [
      "\t\tTotal time for config: 1.4421262741088867\n",
      "Instance 1229, T = 1.0, Proposal = MALA_MC, Acceptance = metropolis, Gap = 0.0000\n",
      "Warning: Gap is very small, may be inaccurate.\n",
      "Starting problem instance 1230 of 2000 with n = 8\n"
     ]
    },
    {
     "name": "stderr",
     "output_type": "stream",
     "text": [
      "100%|██████████| 1000/1000 [00:01<00:00, 504.62it/s]\n"
     ]
    },
    {
     "name": "stdout",
     "output_type": "stream",
     "text": [
      "\t\tTotal time for config: 1.9846749305725098\n",
      "Instance 1230, T = 1.0, Proposal = MALA_MC, Acceptance = metropolis, Gap = 0.0000\n",
      "Warning: Gap is very small, may be inaccurate.\n",
      "Starting problem instance 1231 of 2000 with n = 9\n"
     ]
    },
    {
     "name": "stderr",
     "output_type": "stream",
     "text": [
      "100%|██████████| 1000/1000 [00:02<00:00, 358.43it/s]\n"
     ]
    },
    {
     "name": "stdout",
     "output_type": "stream",
     "text": [
      "\t\tTotal time for config: 2.7938997745513916\n",
      "Instance 1231, T = 1.0, Proposal = MALA_MC, Acceptance = metropolis, Gap = 0.0000\n",
      "Warning: Gap is very small, may be inaccurate.\n",
      "Starting problem instance 1232 of 2000 with n = 10\n"
     ]
    },
    {
     "name": "stderr",
     "output_type": "stream",
     "text": [
      "100%|██████████| 1000/1000 [00:05<00:00, 195.51it/s]\n"
     ]
    },
    {
     "name": "stdout",
     "output_type": "stream",
     "text": [
      "\t\tTotal time for config: 5.117708683013916\n",
      "Instance 1232, T = 1.0, Proposal = MALA_MC, Acceptance = metropolis, Gap = 0.0000\n",
      "Warning: Gap is very small, may be inaccurate.\n",
      "Starting problem instance 1233 of 2000 with n = 3\n"
     ]
    },
    {
     "name": "stderr",
     "output_type": "stream",
     "text": [
      "100%|██████████| 1000/1000 [00:00<00:00, 1130.95it/s]\n"
     ]
    },
    {
     "name": "stdout",
     "output_type": "stream",
     "text": [
      "\t\tTotal time for config: 0.8851358890533447\n",
      "Instance 1233, T = 1.0, Proposal = MALA_MC, Acceptance = metropolis, Gap = 0.5473\n",
      "Starting problem instance 1234 of 2000 with n = 4\n"
     ]
    },
    {
     "name": "stderr",
     "output_type": "stream",
     "text": [
      "100%|██████████| 1000/1000 [00:01<00:00, 954.90it/s]\n"
     ]
    },
    {
     "name": "stdout",
     "output_type": "stream",
     "text": [
      "\t\tTotal time for config: 1.0482425689697266\n",
      "Instance 1234, T = 1.0, Proposal = MALA_MC, Acceptance = metropolis, Gap = 0.7333\n",
      "Starting problem instance 1235 of 2000 with n = 5\n"
     ]
    },
    {
     "name": "stderr",
     "output_type": "stream",
     "text": [
      "100%|██████████| 1000/1000 [00:01<00:00, 773.14it/s]\n"
     ]
    },
    {
     "name": "stdout",
     "output_type": "stream",
     "text": [
      "\t\tTotal time for config: 1.2963714599609375\n",
      "Instance 1235, T = 1.0, Proposal = MALA_MC, Acceptance = metropolis, Gap = 0.2156\n",
      "Starting problem instance 1236 of 2000 with n = 6\n"
     ]
    },
    {
     "name": "stderr",
     "output_type": "stream",
     "text": [
      "100%|██████████| 1000/1000 [00:01<00:00, 658.73it/s]\n"
     ]
    },
    {
     "name": "stdout",
     "output_type": "stream",
     "text": [
      "\t\tTotal time for config: 1.521066427230835\n",
      "Instance 1236, T = 1.0, Proposal = MALA_MC, Acceptance = metropolis, Gap = 0.0000\n",
      "Warning: Gap is very small, may be inaccurate.\n",
      "Starting problem instance 1237 of 2000 with n = 7\n"
     ]
    },
    {
     "name": "stderr",
     "output_type": "stream",
     "text": [
      "100%|██████████| 1000/1000 [00:01<00:00, 624.85it/s]\n"
     ]
    },
    {
     "name": "stdout",
     "output_type": "stream",
     "text": [
      "\t\tTotal time for config: 1.6024384498596191\n",
      "Instance 1237, T = 1.0, Proposal = MALA_MC, Acceptance = metropolis, Gap = 0.0000\n",
      "Starting problem instance 1238 of 2000 with n = 8\n"
     ]
    },
    {
     "name": "stderr",
     "output_type": "stream",
     "text": [
      "100%|██████████| 1000/1000 [00:02<00:00, 475.47it/s]\n"
     ]
    },
    {
     "name": "stdout",
     "output_type": "stream",
     "text": [
      "\t\tTotal time for config: 2.1051909923553467\n",
      "Instance 1238, T = 1.0, Proposal = MALA_MC, Acceptance = metropolis, Gap = 0.0574\n",
      "Starting problem instance 1239 of 2000 with n = 9\n"
     ]
    },
    {
     "name": "stderr",
     "output_type": "stream",
     "text": [
      "100%|██████████| 1000/1000 [00:03<00:00, 329.20it/s]\n"
     ]
    },
    {
     "name": "stdout",
     "output_type": "stream",
     "text": [
      "\t\tTotal time for config: 3.0396299362182617\n",
      "Instance 1239, T = 1.0, Proposal = MALA_MC, Acceptance = metropolis, Gap = 0.0000\n",
      "Warning: Gap is very small, may be inaccurate.\n",
      "Starting problem instance 1240 of 2000 with n = 10\n"
     ]
    },
    {
     "name": "stderr",
     "output_type": "stream",
     "text": [
      "100%|██████████| 1000/1000 [00:05<00:00, 189.55it/s]\n"
     ]
    },
    {
     "name": "stdout",
     "output_type": "stream",
     "text": [
      "\t\tTotal time for config: 5.279649257659912\n",
      "Instance 1240, T = 1.0, Proposal = MALA_MC, Acceptance = metropolis, Gap = 0.0000\n",
      "Warning: Gap is very small, may be inaccurate.\n",
      "Starting problem instance 1241 of 2000 with n = 3\n"
     ]
    },
    {
     "name": "stderr",
     "output_type": "stream",
     "text": [
      "100%|██████████| 1000/1000 [00:00<00:00, 1377.47it/s]\n"
     ]
    },
    {
     "name": "stdout",
     "output_type": "stream",
     "text": [
      "\t\tTotal time for config: 0.7289414405822754\n",
      "Instance 1241, T = 1.0, Proposal = MALA_MC, Acceptance = metropolis, Gap = 0.3550\n",
      "Starting problem instance 1242 of 2000 with n = 4\n"
     ]
    },
    {
     "name": "stderr",
     "output_type": "stream",
     "text": [
      "100%|██████████| 1000/1000 [00:01<00:00, 930.34it/s]\n"
     ]
    },
    {
     "name": "stdout",
     "output_type": "stream",
     "text": [
      "\t\tTotal time for config: 1.078812599182129\n",
      "Instance 1242, T = 1.0, Proposal = MALA_MC, Acceptance = metropolis, Gap = 0.3888\n",
      "Starting problem instance 1243 of 2000 with n = 5\n"
     ]
    },
    {
     "name": "stderr",
     "output_type": "stream",
     "text": [
      "100%|██████████| 1000/1000 [00:01<00:00, 830.61it/s]\n"
     ]
    },
    {
     "name": "stdout",
     "output_type": "stream",
     "text": [
      "\t\tTotal time for config: 1.2070484161376953\n",
      "Instance 1243, T = 1.0, Proposal = MALA_MC, Acceptance = metropolis, Gap = 0.3164\n",
      "Starting problem instance 1244 of 2000 with n = 6\n"
     ]
    },
    {
     "name": "stderr",
     "output_type": "stream",
     "text": [
      "100%|██████████| 1000/1000 [00:01<00:00, 750.87it/s]\n"
     ]
    },
    {
     "name": "stdout",
     "output_type": "stream",
     "text": [
      "\t\tTotal time for config: 1.334947109222412\n",
      "Instance 1244, T = 1.0, Proposal = MALA_MC, Acceptance = metropolis, Gap = 0.1088\n",
      "Starting problem instance 1245 of 2000 with n = 7\n"
     ]
    },
    {
     "name": "stderr",
     "output_type": "stream",
     "text": [
      "100%|██████████| 1000/1000 [00:01<00:00, 636.33it/s]\n"
     ]
    },
    {
     "name": "stdout",
     "output_type": "stream",
     "text": [
      "\t\tTotal time for config: 1.5735442638397217\n",
      "Instance 1245, T = 1.0, Proposal = MALA_MC, Acceptance = metropolis, Gap = 0.0001\n",
      "Starting problem instance 1246 of 2000 with n = 8\n"
     ]
    },
    {
     "name": "stderr",
     "output_type": "stream",
     "text": [
      "100%|██████████| 1000/1000 [00:01<00:00, 502.97it/s]\n"
     ]
    },
    {
     "name": "stdout",
     "output_type": "stream",
     "text": [
      "\t\tTotal time for config: 1.9901840686798096\n",
      "Instance 1246, T = 1.0, Proposal = MALA_MC, Acceptance = metropolis, Gap = 0.0000\n",
      "Warning: Gap is very small, may be inaccurate.\n",
      "Starting problem instance 1247 of 2000 with n = 9\n"
     ]
    },
    {
     "name": "stderr",
     "output_type": "stream",
     "text": [
      "100%|██████████| 1000/1000 [00:02<00:00, 368.74it/s]\n"
     ]
    },
    {
     "name": "stdout",
     "output_type": "stream",
     "text": [
      "\t\tTotal time for config: 2.7150256633758545\n",
      "Instance 1247, T = 1.0, Proposal = MALA_MC, Acceptance = metropolis, Gap = 0.0000\n",
      "Warning: Gap is very small, may be inaccurate.\n",
      "Starting problem instance 1248 of 2000 with n = 10\n"
     ]
    },
    {
     "name": "stderr",
     "output_type": "stream",
     "text": [
      "100%|██████████| 1000/1000 [00:05<00:00, 184.44it/s]\n"
     ]
    },
    {
     "name": "stdout",
     "output_type": "stream",
     "text": [
      "\t\tTotal time for config: 5.423843622207642\n",
      "Instance 1248, T = 1.0, Proposal = MALA_MC, Acceptance = metropolis, Gap = 0.0000\n",
      "Warning: Gap is very small, may be inaccurate.\n",
      "Starting problem instance 1249 of 2000 with n = 3\n"
     ]
    },
    {
     "name": "stderr",
     "output_type": "stream",
     "text": [
      "100%|██████████| 1000/1000 [00:00<00:00, 1239.44it/s]\n"
     ]
    },
    {
     "name": "stdout",
     "output_type": "stream",
     "text": [
      "\t\tTotal time for config: 0.8097944259643555\n",
      "Instance 1249, T = 1.0, Proposal = MALA_MC, Acceptance = metropolis, Gap = 0.8213\n",
      "Starting problem instance 1250 of 2000 with n = 4\n"
     ]
    },
    {
     "name": "stderr",
     "output_type": "stream",
     "text": [
      "100%|██████████| 1000/1000 [00:00<00:00, 1108.69it/s]\n"
     ]
    },
    {
     "name": "stdout",
     "output_type": "stream",
     "text": [
      "\t\tTotal time for config: 0.9040110111236572\n",
      "Instance 1250, T = 1.0, Proposal = MALA_MC, Acceptance = metropolis, Gap = 0.3877\n",
      "Starting problem instance 1251 of 2000 with n = 5\n"
     ]
    },
    {
     "name": "stderr",
     "output_type": "stream",
     "text": [
      "100%|██████████| 1000/1000 [00:01<00:00, 832.98it/s]\n"
     ]
    },
    {
     "name": "stdout",
     "output_type": "stream",
     "text": [
      "\t\tTotal time for config: 1.2035858631134033\n",
      "Instance 1251, T = 1.0, Proposal = MALA_MC, Acceptance = metropolis, Gap = 0.3128\n",
      "Starting problem instance 1252 of 2000 with n = 6\n"
     ]
    },
    {
     "name": "stderr",
     "output_type": "stream",
     "text": [
      "100%|██████████| 1000/1000 [00:01<00:00, 764.58it/s]\n"
     ]
    },
    {
     "name": "stdout",
     "output_type": "stream",
     "text": [
      "\t\tTotal time for config: 1.3098416328430176\n",
      "Instance 1252, T = 1.0, Proposal = MALA_MC, Acceptance = metropolis, Gap = 0.0000\n",
      "Warning: Gap is very small, may be inaccurate.\n",
      "Starting problem instance 1253 of 2000 with n = 7\n"
     ]
    },
    {
     "name": "stderr",
     "output_type": "stream",
     "text": [
      "100%|██████████| 1000/1000 [00:01<00:00, 702.29it/s]\n"
     ]
    },
    {
     "name": "stdout",
     "output_type": "stream",
     "text": [
      "\t\tTotal time for config: 1.425936222076416\n",
      "Instance 1253, T = 1.0, Proposal = MALA_MC, Acceptance = metropolis, Gap = 0.0000\n",
      "Warning: Gap is very small, may be inaccurate.\n",
      "Starting problem instance 1254 of 2000 with n = 8\n"
     ]
    },
    {
     "name": "stderr",
     "output_type": "stream",
     "text": [
      "100%|██████████| 1000/1000 [00:02<00:00, 435.09it/s]\n"
     ]
    },
    {
     "name": "stdout",
     "output_type": "stream",
     "text": [
      "\t\tTotal time for config: 2.300443649291992\n",
      "Instance 1254, T = 1.0, Proposal = MALA_MC, Acceptance = metropolis, Gap = 0.0000\n",
      "Warning: Gap is very small, may be inaccurate.\n",
      "Starting problem instance 1255 of 2000 with n = 9\n"
     ]
    },
    {
     "name": "stderr",
     "output_type": "stream",
     "text": [
      "100%|██████████| 1000/1000 [00:02<00:00, 351.49it/s]\n"
     ]
    },
    {
     "name": "stdout",
     "output_type": "stream",
     "text": [
      "\t\tTotal time for config: 2.8481104373931885\n",
      "Instance 1255, T = 1.0, Proposal = MALA_MC, Acceptance = metropolis, Gap = 0.0000\n",
      "Warning: Gap is very small, may be inaccurate.\n",
      "Starting problem instance 1256 of 2000 with n = 10\n"
     ]
    },
    {
     "name": "stderr",
     "output_type": "stream",
     "text": [
      "100%|██████████| 1000/1000 [00:05<00:00, 185.61it/s]\n"
     ]
    },
    {
     "name": "stdout",
     "output_type": "stream",
     "text": [
      "\t\tTotal time for config: 5.388644456863403\n",
      "Instance 1256, T = 1.0, Proposal = MALA_MC, Acceptance = metropolis, Gap = 0.0000\n",
      "Warning: Gap is very small, may be inaccurate.\n",
      "Starting problem instance 1257 of 2000 with n = 3\n"
     ]
    },
    {
     "name": "stderr",
     "output_type": "stream",
     "text": [
      "100%|██████████| 1000/1000 [00:00<00:00, 1091.44it/s]\n"
     ]
    },
    {
     "name": "stdout",
     "output_type": "stream",
     "text": [
      "\t\tTotal time for config: 0.9182231426239014\n",
      "Instance 1257, T = 1.0, Proposal = MALA_MC, Acceptance = metropolis, Gap = 0.8333\n",
      "Starting problem instance 1258 of 2000 with n = 4\n"
     ]
    },
    {
     "name": "stderr",
     "output_type": "stream",
     "text": [
      "100%|██████████| 1000/1000 [00:01<00:00, 965.78it/s]\n"
     ]
    },
    {
     "name": "stdout",
     "output_type": "stream",
     "text": [
      "\t\tTotal time for config: 1.0384256839752197\n",
      "Instance 1258, T = 1.0, Proposal = MALA_MC, Acceptance = metropolis, Gap = 0.8078\n",
      "Starting problem instance 1259 of 2000 with n = 5\n"
     ]
    },
    {
     "name": "stderr",
     "output_type": "stream",
     "text": [
      "100%|██████████| 1000/1000 [00:01<00:00, 856.11it/s]\n"
     ]
    },
    {
     "name": "stdout",
     "output_type": "stream",
     "text": [
      "\t\tTotal time for config: 1.1711490154266357\n",
      "Instance 1259, T = 1.0, Proposal = MALA_MC, Acceptance = metropolis, Gap = 0.0000\n",
      "Warning: Gap is very small, may be inaccurate.\n",
      "Starting problem instance 1260 of 2000 with n = 6\n"
     ]
    },
    {
     "name": "stderr",
     "output_type": "stream",
     "text": [
      "100%|██████████| 1000/1000 [00:01<00:00, 780.02it/s]\n"
     ]
    },
    {
     "name": "stdout",
     "output_type": "stream",
     "text": [
      "\t\tTotal time for config: 1.2839648723602295\n",
      "Instance 1260, T = 1.0, Proposal = MALA_MC, Acceptance = metropolis, Gap = 0.2387\n",
      "Starting problem instance 1261 of 2000 with n = 7\n"
     ]
    },
    {
     "name": "stderr",
     "output_type": "stream",
     "text": [
      "100%|██████████| 1000/1000 [00:01<00:00, 689.28it/s]\n"
     ]
    },
    {
     "name": "stdout",
     "output_type": "stream",
     "text": [
      "\t\tTotal time for config: 1.4537997245788574\n",
      "Instance 1261, T = 1.0, Proposal = MALA_MC, Acceptance = metropolis, Gap = 0.0000\n",
      "Warning: Gap is very small, may be inaccurate.\n",
      "Starting problem instance 1262 of 2000 with n = 8\n"
     ]
    },
    {
     "name": "stderr",
     "output_type": "stream",
     "text": [
      "100%|██████████| 1000/1000 [00:01<00:00, 547.05it/s]\n"
     ]
    },
    {
     "name": "stdout",
     "output_type": "stream",
     "text": [
      "\t\tTotal time for config: 1.8310503959655762\n",
      "Instance 1262, T = 1.0, Proposal = MALA_MC, Acceptance = metropolis, Gap = 0.0133\n",
      "Starting problem instance 1263 of 2000 with n = 9\n"
     ]
    },
    {
     "name": "stderr",
     "output_type": "stream",
     "text": [
      "100%|██████████| 1000/1000 [00:02<00:00, 352.37it/s]\n"
     ]
    },
    {
     "name": "stdout",
     "output_type": "stream",
     "text": [
      "\t\tTotal time for config: 2.840799331665039\n",
      "Instance 1263, T = 1.0, Proposal = MALA_MC, Acceptance = metropolis, Gap = 0.0000\n",
      "Warning: Gap is very small, may be inaccurate.\n",
      "Starting problem instance 1264 of 2000 with n = 10\n"
     ]
    },
    {
     "name": "stderr",
     "output_type": "stream",
     "text": [
      "100%|██████████| 1000/1000 [00:05<00:00, 183.87it/s]\n"
     ]
    },
    {
     "name": "stdout",
     "output_type": "stream",
     "text": [
      "\t\tTotal time for config: 5.4408228397369385\n",
      "Instance 1264, T = 1.0, Proposal = MALA_MC, Acceptance = metropolis, Gap = 0.0000\n",
      "Warning: Gap is very small, may be inaccurate.\n",
      "Starting problem instance 1265 of 2000 with n = 3\n"
     ]
    },
    {
     "name": "stderr",
     "output_type": "stream",
     "text": [
      "100%|██████████| 1000/1000 [00:00<00:00, 1189.40it/s]\n"
     ]
    },
    {
     "name": "stdout",
     "output_type": "stream",
     "text": [
      "\t\tTotal time for config: 0.8428347110748291\n",
      "Instance 1265, T = 1.0, Proposal = MALA_MC, Acceptance = metropolis, Gap = 0.7810\n",
      "Starting problem instance 1266 of 2000 with n = 4\n"
     ]
    },
    {
     "name": "stderr",
     "output_type": "stream",
     "text": [
      "100%|██████████| 1000/1000 [00:01<00:00, 926.21it/s]\n"
     ]
    },
    {
     "name": "stdout",
     "output_type": "stream",
     "text": [
      "\t\tTotal time for config: 1.0821568965911865\n",
      "Instance 1266, T = 1.0, Proposal = MALA_MC, Acceptance = metropolis, Gap = 0.2677\n",
      "Starting problem instance 1267 of 2000 with n = 5\n"
     ]
    },
    {
     "name": "stderr",
     "output_type": "stream",
     "text": [
      "100%|██████████| 1000/1000 [00:01<00:00, 777.27it/s]\n"
     ]
    },
    {
     "name": "stdout",
     "output_type": "stream",
     "text": [
      "\t\tTotal time for config: 1.2885563373565674\n",
      "Instance 1267, T = 1.0, Proposal = MALA_MC, Acceptance = metropolis, Gap = 0.0000\n",
      "Starting problem instance 1268 of 2000 with n = 6\n"
     ]
    },
    {
     "name": "stderr",
     "output_type": "stream",
     "text": [
      "100%|██████████| 1000/1000 [00:01<00:00, 628.61it/s]\n"
     ]
    },
    {
     "name": "stdout",
     "output_type": "stream",
     "text": [
      "\t\tTotal time for config: 1.5938692092895508\n",
      "Instance 1268, T = 1.0, Proposal = MALA_MC, Acceptance = metropolis, Gap = 0.0000\n",
      "Warning: Gap is very small, may be inaccurate.\n",
      "Starting problem instance 1269 of 2000 with n = 7\n"
     ]
    },
    {
     "name": "stderr",
     "output_type": "stream",
     "text": [
      "100%|██████████| 1000/1000 [00:01<00:00, 553.37it/s]\n"
     ]
    },
    {
     "name": "stdout",
     "output_type": "stream",
     "text": [
      "\t\tTotal time for config: 1.8111498355865479\n",
      "Instance 1269, T = 1.0, Proposal = MALA_MC, Acceptance = metropolis, Gap = 0.0000\n",
      "Warning: Gap is very small, may be inaccurate.\n",
      "Starting problem instance 1270 of 2000 with n = 8\n"
     ]
    },
    {
     "name": "stderr",
     "output_type": "stream",
     "text": [
      "100%|██████████| 1000/1000 [00:02<00:00, 426.56it/s]\n"
     ]
    },
    {
     "name": "stdout",
     "output_type": "stream",
     "text": [
      "\t\tTotal time for config: 2.3473477363586426\n",
      "Instance 1270, T = 1.0, Proposal = MALA_MC, Acceptance = metropolis, Gap = 0.0000\n",
      "Warning: Gap is very small, may be inaccurate.\n",
      "Starting problem instance 1271 of 2000 with n = 9\n"
     ]
    },
    {
     "name": "stderr",
     "output_type": "stream",
     "text": [
      "100%|██████████| 1000/1000 [00:03<00:00, 332.85it/s]\n"
     ]
    },
    {
     "name": "stdout",
     "output_type": "stream",
     "text": [
      "\t\tTotal time for config: 3.0063626766204834\n",
      "Instance 1271, T = 1.0, Proposal = MALA_MC, Acceptance = metropolis, Gap = 0.0000\n",
      "Warning: Gap is very small, may be inaccurate.\n",
      "Starting problem instance 1272 of 2000 with n = 10\n"
     ]
    },
    {
     "name": "stderr",
     "output_type": "stream",
     "text": [
      "100%|██████████| 1000/1000 [00:05<00:00, 185.18it/s]\n"
     ]
    },
    {
     "name": "stdout",
     "output_type": "stream",
     "text": [
      "\t\tTotal time for config: 5.402002811431885\n",
      "Instance 1272, T = 1.0, Proposal = MALA_MC, Acceptance = metropolis, Gap = -0.0000\n",
      "Warning: Gap is very small, may be inaccurate.\n",
      "Starting problem instance 1273 of 2000 with n = 3\n"
     ]
    },
    {
     "name": "stderr",
     "output_type": "stream",
     "text": [
      "100%|██████████| 1000/1000 [00:00<00:00, 1214.92it/s]\n"
     ]
    },
    {
     "name": "stdout",
     "output_type": "stream",
     "text": [
      "\t\tTotal time for config: 0.826878547668457\n",
      "Instance 1273, T = 1.0, Proposal = MALA_MC, Acceptance = metropolis, Gap = 0.7711\n",
      "Starting problem instance 1274 of 2000 with n = 4\n"
     ]
    },
    {
     "name": "stderr",
     "output_type": "stream",
     "text": [
      "100%|██████████| 1000/1000 [00:01<00:00, 896.50it/s]\n"
     ]
    },
    {
     "name": "stdout",
     "output_type": "stream",
     "text": [
      "\t\tTotal time for config: 1.1184208393096924\n",
      "Instance 1274, T = 1.0, Proposal = MALA_MC, Acceptance = metropolis, Gap = 0.6827\n",
      "Starting problem instance 1275 of 2000 with n = 5\n"
     ]
    },
    {
     "name": "stderr",
     "output_type": "stream",
     "text": [
      "100%|██████████| 1000/1000 [00:01<00:00, 806.21it/s]\n"
     ]
    },
    {
     "name": "stdout",
     "output_type": "stream",
     "text": [
      "\t\tTotal time for config: 1.2425639629364014\n",
      "Instance 1275, T = 1.0, Proposal = MALA_MC, Acceptance = metropolis, Gap = 0.0000\n",
      "Warning: Gap is very small, may be inaccurate.\n",
      "Starting problem instance 1276 of 2000 with n = 6\n"
     ]
    },
    {
     "name": "stderr",
     "output_type": "stream",
     "text": [
      "100%|██████████| 1000/1000 [00:01<00:00, 811.48it/s]\n"
     ]
    },
    {
     "name": "stdout",
     "output_type": "stream",
     "text": [
      "\t\tTotal time for config: 1.2353804111480713\n",
      "Instance 1276, T = 1.0, Proposal = MALA_MC, Acceptance = metropolis, Gap = 0.6527\n",
      "Starting problem instance 1277 of 2000 with n = 7\n"
     ]
    },
    {
     "name": "stderr",
     "output_type": "stream",
     "text": [
      "100%|██████████| 1000/1000 [00:01<00:00, 675.68it/s]\n"
     ]
    },
    {
     "name": "stdout",
     "output_type": "stream",
     "text": [
      "\t\tTotal time for config: 1.4819588661193848\n",
      "Instance 1277, T = 1.0, Proposal = MALA_MC, Acceptance = metropolis, Gap = 0.0000\n",
      "Warning: Gap is very small, may be inaccurate.\n",
      "Starting problem instance 1278 of 2000 with n = 8\n"
     ]
    },
    {
     "name": "stderr",
     "output_type": "stream",
     "text": [
      "100%|██████████| 1000/1000 [00:02<00:00, 497.27it/s]\n"
     ]
    },
    {
     "name": "stdout",
     "output_type": "stream",
     "text": [
      "\t\tTotal time for config: 2.0129599571228027\n",
      "Instance 1278, T = 1.0, Proposal = MALA_MC, Acceptance = metropolis, Gap = 0.0000\n",
      "Warning: Gap is very small, may be inaccurate.\n",
      "Starting problem instance 1279 of 2000 with n = 9\n"
     ]
    },
    {
     "name": "stderr",
     "output_type": "stream",
     "text": [
      "100%|██████████| 1000/1000 [00:03<00:00, 313.15it/s]\n"
     ]
    },
    {
     "name": "stdout",
     "output_type": "stream",
     "text": [
      "\t\tTotal time for config: 3.196349620819092\n",
      "Instance 1279, T = 1.0, Proposal = MALA_MC, Acceptance = metropolis, Gap = 0.0000\n",
      "Warning: Gap is very small, may be inaccurate.\n",
      "Starting problem instance 1280 of 2000 with n = 10\n"
     ]
    },
    {
     "name": "stderr",
     "output_type": "stream",
     "text": [
      "100%|██████████| 1000/1000 [00:05<00:00, 183.45it/s]\n"
     ]
    },
    {
     "name": "stdout",
     "output_type": "stream",
     "text": [
      "\t\tTotal time for config: 5.453479290008545\n",
      "Instance 1280, T = 1.0, Proposal = MALA_MC, Acceptance = metropolis, Gap = 0.0000\n",
      "Warning: Gap is very small, may be inaccurate.\n",
      "Starting problem instance 1281 of 2000 with n = 3\n"
     ]
    },
    {
     "name": "stderr",
     "output_type": "stream",
     "text": [
      "100%|██████████| 1000/1000 [00:00<00:00, 1187.77it/s]\n"
     ]
    },
    {
     "name": "stdout",
     "output_type": "stream",
     "text": [
      "\t\tTotal time for config: 0.8448307514190674\n",
      "Instance 1281, T = 1.0, Proposal = MALA_MC, Acceptance = metropolis, Gap = 0.7320\n",
      "Starting problem instance 1282 of 2000 with n = 4\n"
     ]
    },
    {
     "name": "stderr",
     "output_type": "stream",
     "text": [
      "100%|██████████| 1000/1000 [00:00<00:00, 1174.28it/s]\n"
     ]
    },
    {
     "name": "stdout",
     "output_type": "stream",
     "text": [
      "\t\tTotal time for config: 0.854597806930542\n",
      "Instance 1282, T = 1.0, Proposal = MALA_MC, Acceptance = metropolis, Gap = 0.2011\n",
      "Starting problem instance 1283 of 2000 with n = 5\n"
     ]
    },
    {
     "name": "stderr",
     "output_type": "stream",
     "text": [
      "100%|██████████| 1000/1000 [00:01<00:00, 890.05it/s]\n"
     ]
    },
    {
     "name": "stdout",
     "output_type": "stream",
     "text": [
      "\t\tTotal time for config: 1.1254677772521973\n",
      "Instance 1283, T = 1.0, Proposal = MALA_MC, Acceptance = metropolis, Gap = 0.0001\n",
      "Starting problem instance 1284 of 2000 with n = 6\n"
     ]
    },
    {
     "name": "stderr",
     "output_type": "stream",
     "text": [
      "100%|██████████| 1000/1000 [00:01<00:00, 767.43it/s]\n"
     ]
    },
    {
     "name": "stdout",
     "output_type": "stream",
     "text": [
      "\t\tTotal time for config: 1.3040716648101807\n",
      "Instance 1284, T = 1.0, Proposal = MALA_MC, Acceptance = metropolis, Gap = 0.0000\n",
      "Warning: Gap is very small, may be inaccurate.\n",
      "Starting problem instance 1285 of 2000 with n = 7\n"
     ]
    },
    {
     "name": "stderr",
     "output_type": "stream",
     "text": [
      "100%|██████████| 1000/1000 [00:01<00:00, 619.65it/s]\n"
     ]
    },
    {
     "name": "stdout",
     "output_type": "stream",
     "text": [
      "\t\tTotal time for config: 1.6148464679718018\n",
      "Instance 1285, T = 1.0, Proposal = MALA_MC, Acceptance = metropolis, Gap = 0.0000\n",
      "Warning: Gap is very small, may be inaccurate.\n",
      "Starting problem instance 1286 of 2000 with n = 8\n"
     ]
    },
    {
     "name": "stderr",
     "output_type": "stream",
     "text": [
      "100%|██████████| 1000/1000 [00:01<00:00, 511.33it/s]\n"
     ]
    },
    {
     "name": "stdout",
     "output_type": "stream",
     "text": [
      "\t\tTotal time for config: 1.9586906433105469\n",
      "Instance 1286, T = 1.0, Proposal = MALA_MC, Acceptance = metropolis, Gap = 0.0000\n",
      "Warning: Gap is very small, may be inaccurate.\n",
      "Starting problem instance 1287 of 2000 with n = 9\n"
     ]
    },
    {
     "name": "stderr",
     "output_type": "stream",
     "text": [
      "100%|██████████| 1000/1000 [00:02<00:00, 349.24it/s]\n"
     ]
    },
    {
     "name": "stdout",
     "output_type": "stream",
     "text": [
      "\t\tTotal time for config: 2.8664557933807373\n",
      "Instance 1287, T = 1.0, Proposal = MALA_MC, Acceptance = metropolis, Gap = 0.0000\n",
      "Warning: Gap is very small, may be inaccurate.\n",
      "Starting problem instance 1288 of 2000 with n = 10\n"
     ]
    },
    {
     "name": "stderr",
     "output_type": "stream",
     "text": [
      "100%|██████████| 1000/1000 [00:04<00:00, 207.66it/s]\n"
     ]
    },
    {
     "name": "stdout",
     "output_type": "stream",
     "text": [
      "\t\tTotal time for config: 4.817648887634277\n",
      "Instance 1288, T = 1.0, Proposal = MALA_MC, Acceptance = metropolis, Gap = 0.0000\n",
      "Warning: Gap is very small, may be inaccurate.\n",
      "Starting problem instance 1289 of 2000 with n = 3\n"
     ]
    },
    {
     "name": "stderr",
     "output_type": "stream",
     "text": [
      "100%|██████████| 1000/1000 [00:00<00:00, 1192.78it/s]\n"
     ]
    },
    {
     "name": "stdout",
     "output_type": "stream",
     "text": [
      "\t\tTotal time for config: 0.843374490737915\n",
      "Instance 1289, T = 1.0, Proposal = MALA_MC, Acceptance = metropolis, Gap = 0.7896\n",
      "Starting problem instance 1290 of 2000 with n = 4\n"
     ]
    },
    {
     "name": "stderr",
     "output_type": "stream",
     "text": [
      "100%|██████████| 1000/1000 [00:00<00:00, 1115.31it/s]\n"
     ]
    },
    {
     "name": "stdout",
     "output_type": "stream",
     "text": [
      "\t\tTotal time for config: 0.8986246585845947\n",
      "Instance 1290, T = 1.0, Proposal = MALA_MC, Acceptance = metropolis, Gap = 0.2355\n",
      "Starting problem instance 1291 of 2000 with n = 5\n"
     ]
    },
    {
     "name": "stderr",
     "output_type": "stream",
     "text": [
      "100%|██████████| 1000/1000 [00:01<00:00, 833.61it/s]\n"
     ]
    },
    {
     "name": "stdout",
     "output_type": "stream",
     "text": [
      "\t\tTotal time for config: 1.202568531036377\n",
      "Instance 1291, T = 1.0, Proposal = MALA_MC, Acceptance = metropolis, Gap = 0.4618\n",
      "Starting problem instance 1292 of 2000 with n = 6\n"
     ]
    },
    {
     "name": "stderr",
     "output_type": "stream",
     "text": [
      "100%|██████████| 1000/1000 [00:01<00:00, 770.08it/s]\n"
     ]
    },
    {
     "name": "stdout",
     "output_type": "stream",
     "text": [
      "\t\tTotal time for config: 1.3026149272918701\n",
      "Instance 1292, T = 1.0, Proposal = MALA_MC, Acceptance = metropolis, Gap = 0.0000\n",
      "Warning: Gap is very small, may be inaccurate.\n",
      "Starting problem instance 1293 of 2000 with n = 7\n"
     ]
    },
    {
     "name": "stderr",
     "output_type": "stream",
     "text": [
      "100%|██████████| 1000/1000 [00:01<00:00, 682.74it/s]\n"
     ]
    },
    {
     "name": "stdout",
     "output_type": "stream",
     "text": [
      "\t\tTotal time for config: 1.4666590690612793\n",
      "Instance 1293, T = 1.0, Proposal = MALA_MC, Acceptance = metropolis, Gap = 0.0122\n",
      "Starting problem instance 1294 of 2000 with n = 8\n"
     ]
    },
    {
     "name": "stderr",
     "output_type": "stream",
     "text": [
      "100%|██████████| 1000/1000 [00:01<00:00, 593.18it/s]\n"
     ]
    },
    {
     "name": "stdout",
     "output_type": "stream",
     "text": [
      "\t\tTotal time for config: 1.688810110092163\n",
      "Instance 1294, T = 1.0, Proposal = MALA_MC, Acceptance = metropolis, Gap = 0.0000\n",
      "Warning: Gap is very small, may be inaccurate.\n",
      "Starting problem instance 1295 of 2000 with n = 9\n"
     ]
    },
    {
     "name": "stderr",
     "output_type": "stream",
     "text": [
      "100%|██████████| 1000/1000 [00:02<00:00, 382.04it/s]\n"
     ]
    },
    {
     "name": "stdout",
     "output_type": "stream",
     "text": [
      "\t\tTotal time for config: 2.620558023452759\n",
      "Instance 1295, T = 1.0, Proposal = MALA_MC, Acceptance = metropolis, Gap = 0.0000\n",
      "Warning: Gap is very small, may be inaccurate.\n",
      "Starting problem instance 1296 of 2000 with n = 10\n"
     ]
    },
    {
     "name": "stderr",
     "output_type": "stream",
     "text": [
      "100%|██████████| 1000/1000 [00:05<00:00, 188.24it/s]\n"
     ]
    },
    {
     "name": "stdout",
     "output_type": "stream",
     "text": [
      "\t\tTotal time for config: 5.315426349639893\n",
      "Instance 1296, T = 1.0, Proposal = MALA_MC, Acceptance = metropolis, Gap = 0.0000\n",
      "Warning: Gap is very small, may be inaccurate.\n",
      "Starting problem instance 1297 of 2000 with n = 3\n"
     ]
    },
    {
     "name": "stderr",
     "output_type": "stream",
     "text": [
      "100%|██████████| 1000/1000 [00:00<00:00, 1394.26it/s]\n"
     ]
    },
    {
     "name": "stdout",
     "output_type": "stream",
     "text": [
      "\t\tTotal time for config: 0.7191352844238281\n",
      "Instance 1297, T = 1.0, Proposal = MALA_MC, Acceptance = metropolis, Gap = 0.7336\n",
      "Starting problem instance 1298 of 2000 with n = 4\n"
     ]
    },
    {
     "name": "stderr",
     "output_type": "stream",
     "text": [
      "100%|██████████| 1000/1000 [00:00<00:00, 1183.09it/s]\n"
     ]
    },
    {
     "name": "stdout",
     "output_type": "stream",
     "text": [
      "\t\tTotal time for config: 0.8481123447418213\n",
      "Instance 1298, T = 1.0, Proposal = MALA_MC, Acceptance = metropolis, Gap = 0.1664\n",
      "Starting problem instance 1299 of 2000 with n = 5\n"
     ]
    },
    {
     "name": "stderr",
     "output_type": "stream",
     "text": [
      "100%|██████████| 1000/1000 [00:01<00:00, 785.82it/s]\n"
     ]
    },
    {
     "name": "stdout",
     "output_type": "stream",
     "text": [
      "\t\tTotal time for config: 1.2744572162628174\n",
      "Instance 1299, T = 1.0, Proposal = MALA_MC, Acceptance = metropolis, Gap = 0.4117\n",
      "Starting problem instance 1300 of 2000 with n = 6\n"
     ]
    },
    {
     "name": "stderr",
     "output_type": "stream",
     "text": [
      "100%|██████████| 1000/1000 [00:01<00:00, 772.55it/s]\n"
     ]
    },
    {
     "name": "stdout",
     "output_type": "stream",
     "text": [
      "\t\tTotal time for config: 1.2973785400390625\n",
      "Instance 1300, T = 1.0, Proposal = MALA_MC, Acceptance = metropolis, Gap = 0.0000\n",
      "Warning: Gap is very small, may be inaccurate.\n",
      "Starting problem instance 1301 of 2000 with n = 7\n"
     ]
    },
    {
     "name": "stderr",
     "output_type": "stream",
     "text": [
      "100%|██████████| 1000/1000 [00:01<00:00, 655.25it/s]\n"
     ]
    },
    {
     "name": "stdout",
     "output_type": "stream",
     "text": [
      "\t\tTotal time for config: 1.528156042098999\n",
      "Instance 1301, T = 1.0, Proposal = MALA_MC, Acceptance = metropolis, Gap = 0.0000\n",
      "Warning: Gap is very small, may be inaccurate.\n",
      "Starting problem instance 1302 of 2000 with n = 8\n"
     ]
    },
    {
     "name": "stderr",
     "output_type": "stream",
     "text": [
      "100%|██████████| 1000/1000 [00:01<00:00, 567.70it/s]\n"
     ]
    },
    {
     "name": "stdout",
     "output_type": "stream",
     "text": [
      "\t\tTotal time for config: 1.7644813060760498\n",
      "Instance 1302, T = 1.0, Proposal = MALA_MC, Acceptance = metropolis, Gap = 0.0000\n",
      "Warning: Gap is very small, may be inaccurate.\n",
      "Starting problem instance 1303 of 2000 with n = 9\n"
     ]
    },
    {
     "name": "stderr",
     "output_type": "stream",
     "text": [
      "100%|██████████| 1000/1000 [00:02<00:00, 396.21it/s]\n"
     ]
    },
    {
     "name": "stdout",
     "output_type": "stream",
     "text": [
      "\t\tTotal time for config: 2.526998519897461\n",
      "Instance 1303, T = 1.0, Proposal = MALA_MC, Acceptance = metropolis, Gap = 0.0000\n",
      "Warning: Gap is very small, may be inaccurate.\n",
      "Starting problem instance 1304 of 2000 with n = 10\n"
     ]
    },
    {
     "name": "stderr",
     "output_type": "stream",
     "text": [
      "100%|██████████| 1000/1000 [00:04<00:00, 213.77it/s]\n"
     ]
    },
    {
     "name": "stdout",
     "output_type": "stream",
     "text": [
      "\t\tTotal time for config: 4.678902864456177\n",
      "Instance 1304, T = 1.0, Proposal = MALA_MC, Acceptance = metropolis, Gap = 0.0000\n",
      "Warning: Gap is very small, may be inaccurate.\n",
      "Starting problem instance 1305 of 2000 with n = 3\n"
     ]
    },
    {
     "name": "stderr",
     "output_type": "stream",
     "text": [
      "100%|██████████| 1000/1000 [00:00<00:00, 1229.35it/s]\n"
     ]
    },
    {
     "name": "stdout",
     "output_type": "stream",
     "text": [
      "\t\tTotal time for config: 0.8154442310333252\n",
      "Instance 1305, T = 1.0, Proposal = MALA_MC, Acceptance = metropolis, Gap = 0.6726\n",
      "Starting problem instance 1306 of 2000 with n = 4\n"
     ]
    },
    {
     "name": "stderr",
     "output_type": "stream",
     "text": [
      "100%|██████████| 1000/1000 [00:01<00:00, 923.25it/s]\n"
     ]
    },
    {
     "name": "stdout",
     "output_type": "stream",
     "text": [
      "\t\tTotal time for config: 1.0862579345703125\n",
      "Instance 1306, T = 1.0, Proposal = MALA_MC, Acceptance = metropolis, Gap = 0.4471\n",
      "Starting problem instance 1307 of 2000 with n = 5\n"
     ]
    },
    {
     "name": "stderr",
     "output_type": "stream",
     "text": [
      "100%|██████████| 1000/1000 [00:01<00:00, 803.46it/s]\n"
     ]
    },
    {
     "name": "stdout",
     "output_type": "stream",
     "text": [
      "\t\tTotal time for config: 1.2475051879882812\n",
      "Instance 1307, T = 1.0, Proposal = MALA_MC, Acceptance = metropolis, Gap = 0.0000\n",
      "Warning: Gap is very small, may be inaccurate.\n",
      "Starting problem instance 1308 of 2000 with n = 6\n"
     ]
    },
    {
     "name": "stderr",
     "output_type": "stream",
     "text": [
      "100%|██████████| 1000/1000 [00:01<00:00, 796.30it/s]\n"
     ]
    },
    {
     "name": "stdout",
     "output_type": "stream",
     "text": [
      "\t\tTotal time for config: 1.257760763168335\n",
      "Instance 1308, T = 1.0, Proposal = MALA_MC, Acceptance = metropolis, Gap = 0.2422\n",
      "Starting problem instance 1309 of 2000 with n = 7\n"
     ]
    },
    {
     "name": "stderr",
     "output_type": "stream",
     "text": [
      "100%|██████████| 1000/1000 [00:01<00:00, 673.98it/s]\n"
     ]
    },
    {
     "name": "stdout",
     "output_type": "stream",
     "text": [
      "\t\tTotal time for config: 1.4867641925811768\n",
      "Instance 1309, T = 1.0, Proposal = MALA_MC, Acceptance = metropolis, Gap = 0.0000\n",
      "Warning: Gap is very small, may be inaccurate.\n",
      "Starting problem instance 1310 of 2000 with n = 8\n"
     ]
    },
    {
     "name": "stderr",
     "output_type": "stream",
     "text": [
      "100%|██████████| 1000/1000 [00:01<00:00, 519.43it/s]\n"
     ]
    },
    {
     "name": "stdout",
     "output_type": "stream",
     "text": [
      "\t\tTotal time for config: 1.928203821182251\n",
      "Instance 1310, T = 1.0, Proposal = MALA_MC, Acceptance = metropolis, Gap = 0.0000\n",
      "Warning: Gap is very small, may be inaccurate.\n",
      "Starting problem instance 1311 of 2000 with n = 9\n"
     ]
    },
    {
     "name": "stderr",
     "output_type": "stream",
     "text": [
      "100%|██████████| 1000/1000 [00:02<00:00, 401.76it/s]\n"
     ]
    },
    {
     "name": "stdout",
     "output_type": "stream",
     "text": [
      "\t\tTotal time for config: 2.4917314052581787\n",
      "Instance 1311, T = 1.0, Proposal = MALA_MC, Acceptance = metropolis, Gap = 0.0000\n",
      "Warning: Gap is very small, may be inaccurate.\n",
      "Starting problem instance 1312 of 2000 with n = 10\n"
     ]
    },
    {
     "name": "stderr",
     "output_type": "stream",
     "text": [
      "100%|██████████| 1000/1000 [00:04<00:00, 207.54it/s]\n"
     ]
    },
    {
     "name": "stdout",
     "output_type": "stream",
     "text": [
      "\t\tTotal time for config: 4.821528911590576\n",
      "Instance 1312, T = 1.0, Proposal = MALA_MC, Acceptance = metropolis, Gap = 0.0000\n",
      "Warning: Gap is very small, may be inaccurate.\n",
      "Starting problem instance 1313 of 2000 with n = 3\n"
     ]
    },
    {
     "name": "stderr",
     "output_type": "stream",
     "text": [
      "100%|██████████| 1000/1000 [00:00<00:00, 1347.13it/s]\n"
     ]
    },
    {
     "name": "stdout",
     "output_type": "stream",
     "text": [
      "\t\tTotal time for config: 0.7453229427337646\n",
      "Instance 1313, T = 1.0, Proposal = MALA_MC, Acceptance = metropolis, Gap = 0.7085\n",
      "Starting problem instance 1314 of 2000 with n = 4\n"
     ]
    },
    {
     "name": "stderr",
     "output_type": "stream",
     "text": [
      "100%|██████████| 1000/1000 [00:00<00:00, 1114.64it/s]\n"
     ]
    },
    {
     "name": "stdout",
     "output_type": "stream",
     "text": [
      "\t\tTotal time for config: 0.899193525314331\n",
      "Instance 1314, T = 1.0, Proposal = MALA_MC, Acceptance = metropolis, Gap = 0.0374\n",
      "Starting problem instance 1315 of 2000 with n = 5\n"
     ]
    },
    {
     "name": "stderr",
     "output_type": "stream",
     "text": [
      "100%|██████████| 1000/1000 [00:01<00:00, 966.26it/s]\n"
     ]
    },
    {
     "name": "stdout",
     "output_type": "stream",
     "text": [
      "\t\tTotal time for config: 1.0370054244995117\n",
      "Instance 1315, T = 1.0, Proposal = MALA_MC, Acceptance = metropolis, Gap = 0.0072\n",
      "Starting problem instance 1316 of 2000 with n = 6\n"
     ]
    },
    {
     "name": "stderr",
     "output_type": "stream",
     "text": [
      "100%|██████████| 1000/1000 [00:01<00:00, 816.47it/s]\n"
     ]
    },
    {
     "name": "stdout",
     "output_type": "stream",
     "text": [
      "\t\tTotal time for config: 1.227306604385376\n",
      "Instance 1316, T = 1.0, Proposal = MALA_MC, Acceptance = metropolis, Gap = 0.4628\n",
      "Starting problem instance 1317 of 2000 with n = 7\n"
     ]
    },
    {
     "name": "stderr",
     "output_type": "stream",
     "text": [
      "100%|██████████| 1000/1000 [00:01<00:00, 744.84it/s]\n"
     ]
    },
    {
     "name": "stdout",
     "output_type": "stream",
     "text": [
      "\t\tTotal time for config: 1.3457667827606201\n",
      "Instance 1317, T = 1.0, Proposal = MALA_MC, Acceptance = metropolis, Gap = 0.0000\n",
      "Warning: Gap is very small, may be inaccurate.\n",
      "Starting problem instance 1318 of 2000 with n = 8\n"
     ]
    },
    {
     "name": "stderr",
     "output_type": "stream",
     "text": [
      "100%|██████████| 1000/1000 [00:01<00:00, 559.08it/s]\n"
     ]
    },
    {
     "name": "stdout",
     "output_type": "stream",
     "text": [
      "\t\tTotal time for config: 1.790623664855957\n",
      "Instance 1318, T = 1.0, Proposal = MALA_MC, Acceptance = metropolis, Gap = 0.0000\n",
      "Warning: Gap is very small, may be inaccurate.\n",
      "Starting problem instance 1319 of 2000 with n = 9\n"
     ]
    },
    {
     "name": "stderr",
     "output_type": "stream",
     "text": [
      "100%|██████████| 1000/1000 [00:02<00:00, 397.79it/s]\n"
     ]
    },
    {
     "name": "stdout",
     "output_type": "stream",
     "text": [
      "\t\tTotal time for config: 2.515968084335327\n",
      "Instance 1319, T = 1.0, Proposal = MALA_MC, Acceptance = metropolis, Gap = 0.0000\n",
      "Warning: Gap is very small, may be inaccurate.\n",
      "Starting problem instance 1320 of 2000 with n = 10\n"
     ]
    },
    {
     "name": "stderr",
     "output_type": "stream",
     "text": [
      "100%|██████████| 1000/1000 [00:04<00:00, 218.71it/s]\n"
     ]
    },
    {
     "name": "stdout",
     "output_type": "stream",
     "text": [
      "\t\tTotal time for config: 4.574237108230591\n",
      "Instance 1320, T = 1.0, Proposal = MALA_MC, Acceptance = metropolis, Gap = 0.0000\n",
      "Warning: Gap is very small, may be inaccurate.\n",
      "Starting problem instance 1321 of 2000 with n = 3\n"
     ]
    },
    {
     "name": "stderr",
     "output_type": "stream",
     "text": [
      "100%|██████████| 1000/1000 [00:00<00:00, 1136.76it/s]\n"
     ]
    },
    {
     "name": "stdout",
     "output_type": "stream",
     "text": [
      "\t\tTotal time for config: 0.8845148086547852\n",
      "Instance 1321, T = 1.0, Proposal = MALA_MC, Acceptance = metropolis, Gap = 0.7038\n",
      "Starting problem instance 1322 of 2000 with n = 4\n"
     ]
    },
    {
     "name": "stderr",
     "output_type": "stream",
     "text": [
      "100%|██████████| 1000/1000 [00:00<00:00, 1123.91it/s]\n"
     ]
    },
    {
     "name": "stdout",
     "output_type": "stream",
     "text": [
      "\t\tTotal time for config: 0.8926222324371338\n",
      "Instance 1322, T = 1.0, Proposal = MALA_MC, Acceptance = metropolis, Gap = 0.0489\n",
      "Starting problem instance 1323 of 2000 with n = 5\n"
     ]
    },
    {
     "name": "stderr",
     "output_type": "stream",
     "text": [
      "100%|██████████| 1000/1000 [00:01<00:00, 899.52it/s]\n"
     ]
    },
    {
     "name": "stdout",
     "output_type": "stream",
     "text": [
      "\t\tTotal time for config: 1.11441969871521\n",
      "Instance 1323, T = 1.0, Proposal = MALA_MC, Acceptance = metropolis, Gap = 0.0000\n",
      "Warning: Gap is very small, may be inaccurate.\n",
      "Starting problem instance 1324 of 2000 with n = 6\n"
     ]
    },
    {
     "name": "stderr",
     "output_type": "stream",
     "text": [
      "100%|██████████| 1000/1000 [00:01<00:00, 844.31it/s]\n"
     ]
    },
    {
     "name": "stdout",
     "output_type": "stream",
     "text": [
      "\t\tTotal time for config: 1.1864266395568848\n",
      "Instance 1324, T = 1.0, Proposal = MALA_MC, Acceptance = metropolis, Gap = 0.0000\n",
      "Warning: Gap is very small, may be inaccurate.\n",
      "Starting problem instance 1325 of 2000 with n = 7\n"
     ]
    },
    {
     "name": "stderr",
     "output_type": "stream",
     "text": [
      "100%|██████████| 1000/1000 [00:01<00:00, 724.23it/s]\n"
     ]
    },
    {
     "name": "stdout",
     "output_type": "stream",
     "text": [
      "\t\tTotal time for config: 1.3827810287475586\n",
      "Instance 1325, T = 1.0, Proposal = MALA_MC, Acceptance = metropolis, Gap = 0.0000\n",
      "Warning: Gap is very small, may be inaccurate.\n",
      "Starting problem instance 1326 of 2000 with n = 8\n"
     ]
    },
    {
     "name": "stderr",
     "output_type": "stream",
     "text": [
      "100%|██████████| 1000/1000 [00:01<00:00, 575.99it/s]\n"
     ]
    },
    {
     "name": "stdout",
     "output_type": "stream",
     "text": [
      "\t\tTotal time for config: 1.7381925582885742\n",
      "Instance 1326, T = 1.0, Proposal = MALA_MC, Acceptance = metropolis, Gap = 0.0000\n",
      "Warning: Gap is very small, may be inaccurate.\n",
      "Starting problem instance 1327 of 2000 with n = 9\n"
     ]
    },
    {
     "name": "stderr",
     "output_type": "stream",
     "text": [
      "100%|██████████| 1000/1000 [00:02<00:00, 387.49it/s]\n"
     ]
    },
    {
     "name": "stdout",
     "output_type": "stream",
     "text": [
      "\t\tTotal time for config: 2.5846900939941406\n",
      "Instance 1327, T = 1.0, Proposal = MALA_MC, Acceptance = metropolis, Gap = 0.0000\n",
      "Warning: Gap is very small, may be inaccurate.\n",
      "Starting problem instance 1328 of 2000 with n = 10\n"
     ]
    },
    {
     "name": "stderr",
     "output_type": "stream",
     "text": [
      "100%|██████████| 1000/1000 [00:05<00:00, 192.82it/s]\n"
     ]
    },
    {
     "name": "stdout",
     "output_type": "stream",
     "text": [
      "\t\tTotal time for config: 5.189423084259033\n",
      "Instance 1328, T = 1.0, Proposal = MALA_MC, Acceptance = metropolis, Gap = 0.0000\n",
      "Warning: Gap is very small, may be inaccurate.\n",
      "Starting problem instance 1329 of 2000 with n = 3\n"
     ]
    },
    {
     "name": "stderr",
     "output_type": "stream",
     "text": [
      "100%|██████████| 1000/1000 [00:00<00:00, 1448.86it/s]\n"
     ]
    },
    {
     "name": "stdout",
     "output_type": "stream",
     "text": [
      "\t\tTotal time for config: 0.6942031383514404\n",
      "Instance 1329, T = 1.0, Proposal = MALA_MC, Acceptance = metropolis, Gap = 0.5274\n",
      "Starting problem instance 1330 of 2000 with n = 4\n"
     ]
    },
    {
     "name": "stderr",
     "output_type": "stream",
     "text": [
      "100%|██████████| 1000/1000 [00:01<00:00, 942.94it/s]\n"
     ]
    },
    {
     "name": "stdout",
     "output_type": "stream",
     "text": [
      "\t\tTotal time for config: 1.063478708267212\n",
      "Instance 1330, T = 1.0, Proposal = MALA_MC, Acceptance = metropolis, Gap = 0.7874\n",
      "Starting problem instance 1331 of 2000 with n = 5\n"
     ]
    },
    {
     "name": "stderr",
     "output_type": "stream",
     "text": [
      "100%|██████████| 1000/1000 [00:01<00:00, 906.73it/s]\n"
     ]
    },
    {
     "name": "stdout",
     "output_type": "stream",
     "text": [
      "\t\tTotal time for config: 1.1069307327270508\n",
      "Instance 1331, T = 1.0, Proposal = MALA_MC, Acceptance = metropolis, Gap = 0.0000\n",
      "Warning: Gap is very small, may be inaccurate.\n",
      "Starting problem instance 1332 of 2000 with n = 6\n"
     ]
    },
    {
     "name": "stderr",
     "output_type": "stream",
     "text": [
      "100%|██████████| 1000/1000 [00:01<00:00, 852.66it/s]\n"
     ]
    },
    {
     "name": "stdout",
     "output_type": "stream",
     "text": [
      "\t\tTotal time for config: 1.1747729778289795\n",
      "Instance 1332, T = 1.0, Proposal = MALA_MC, Acceptance = metropolis, Gap = 0.0015\n",
      "Starting problem instance 1333 of 2000 with n = 7\n"
     ]
    },
    {
     "name": "stderr",
     "output_type": "stream",
     "text": [
      "100%|██████████| 1000/1000 [00:01<00:00, 802.35it/s]\n"
     ]
    },
    {
     "name": "stdout",
     "output_type": "stream",
     "text": [
      "\t\tTotal time for config: 1.2483198642730713\n",
      "Instance 1333, T = 1.0, Proposal = MALA_MC, Acceptance = metropolis, Gap = 0.0000\n",
      "Warning: Gap is very small, may be inaccurate.\n",
      "Starting problem instance 1334 of 2000 with n = 8\n"
     ]
    },
    {
     "name": "stderr",
     "output_type": "stream",
     "text": [
      "100%|██████████| 1000/1000 [00:01<00:00, 612.80it/s]\n"
     ]
    },
    {
     "name": "stdout",
     "output_type": "stream",
     "text": [
      "\t\tTotal time for config: 1.6348893642425537\n",
      "Instance 1334, T = 1.0, Proposal = MALA_MC, Acceptance = metropolis, Gap = 0.0000\n",
      "Warning: Gap is very small, may be inaccurate.\n",
      "Starting problem instance 1335 of 2000 with n = 9\n"
     ]
    },
    {
     "name": "stderr",
     "output_type": "stream",
     "text": [
      "100%|██████████| 1000/1000 [00:02<00:00, 426.78it/s]\n"
     ]
    },
    {
     "name": "stdout",
     "output_type": "stream",
     "text": [
      "\t\tTotal time for config: 2.3442301750183105\n",
      "Instance 1335, T = 1.0, Proposal = MALA_MC, Acceptance = metropolis, Gap = 0.0000\n",
      "Warning: Gap is very small, may be inaccurate.\n",
      "Starting problem instance 1336 of 2000 with n = 10\n"
     ]
    },
    {
     "name": "stderr",
     "output_type": "stream",
     "text": [
      "100%|██████████| 1000/1000 [00:04<00:00, 236.60it/s]\n"
     ]
    },
    {
     "name": "stdout",
     "output_type": "stream",
     "text": [
      "\t\tTotal time for config: 4.229603052139282\n",
      "Instance 1336, T = 1.0, Proposal = MALA_MC, Acceptance = metropolis, Gap = 0.0000\n",
      "Warning: Gap is very small, may be inaccurate.\n",
      "Starting problem instance 1337 of 2000 with n = 3\n"
     ]
    },
    {
     "name": "stderr",
     "output_type": "stream",
     "text": [
      "100%|██████████| 1000/1000 [00:00<00:00, 1444.37it/s]\n"
     ]
    },
    {
     "name": "stdout",
     "output_type": "stream",
     "text": [
      "\t\tTotal time for config: 0.6952414512634277\n",
      "Instance 1337, T = 1.0, Proposal = MALA_MC, Acceptance = metropolis, Gap = 0.6678\n",
      "Starting problem instance 1338 of 2000 with n = 4\n"
     ]
    },
    {
     "name": "stderr",
     "output_type": "stream",
     "text": [
      "100%|██████████| 1000/1000 [00:00<00:00, 1159.10it/s]\n"
     ]
    },
    {
     "name": "stdout",
     "output_type": "stream",
     "text": [
      "\t\tTotal time for config: 0.8658511638641357\n",
      "Instance 1338, T = 1.0, Proposal = MALA_MC, Acceptance = metropolis, Gap = 0.7623\n",
      "Starting problem instance 1339 of 2000 with n = 5\n"
     ]
    },
    {
     "name": "stderr",
     "output_type": "stream",
     "text": [
      "100%|██████████| 1000/1000 [00:01<00:00, 852.25it/s]\n"
     ]
    },
    {
     "name": "stdout",
     "output_type": "stream",
     "text": [
      "\t\tTotal time for config: 1.1755123138427734\n",
      "Instance 1339, T = 1.0, Proposal = MALA_MC, Acceptance = metropolis, Gap = 0.7244\n",
      "Starting problem instance 1340 of 2000 with n = 6\n"
     ]
    },
    {
     "name": "stderr",
     "output_type": "stream",
     "text": [
      "100%|██████████| 1000/1000 [00:01<00:00, 971.73it/s]\n"
     ]
    },
    {
     "name": "stdout",
     "output_type": "stream",
     "text": [
      "\t\tTotal time for config: 1.0301024913787842\n",
      "Instance 1340, T = 1.0, Proposal = MALA_MC, Acceptance = metropolis, Gap = 0.3521\n",
      "Starting problem instance 1341 of 2000 with n = 7\n"
     ]
    },
    {
     "name": "stderr",
     "output_type": "stream",
     "text": [
      "100%|██████████| 1000/1000 [00:01<00:00, 773.75it/s]\n"
     ]
    },
    {
     "name": "stdout",
     "output_type": "stream",
     "text": [
      "\t\tTotal time for config: 1.2954120635986328\n",
      "Instance 1341, T = 1.0, Proposal = MALA_MC, Acceptance = metropolis, Gap = 0.0594\n",
      "Starting problem instance 1342 of 2000 with n = 8\n"
     ]
    },
    {
     "name": "stderr",
     "output_type": "stream",
     "text": [
      "100%|██████████| 1000/1000 [00:01<00:00, 680.27it/s]\n"
     ]
    },
    {
     "name": "stdout",
     "output_type": "stream",
     "text": [
      "\t\tTotal time for config: 1.4719862937927246\n",
      "Instance 1342, T = 1.0, Proposal = MALA_MC, Acceptance = metropolis, Gap = 0.0000\n",
      "Warning: Gap is very small, may be inaccurate.\n",
      "Starting problem instance 1343 of 2000 with n = 9\n"
     ]
    },
    {
     "name": "stderr",
     "output_type": "stream",
     "text": [
      "100%|██████████| 1000/1000 [00:02<00:00, 430.28it/s]\n"
     ]
    },
    {
     "name": "stdout",
     "output_type": "stream",
     "text": [
      "\t\tTotal time for config: 2.3261327743530273\n",
      "Instance 1343, T = 1.0, Proposal = MALA_MC, Acceptance = metropolis, Gap = 0.0000\n",
      "Warning: Gap is very small, may be inaccurate.\n",
      "Starting problem instance 1344 of 2000 with n = 10\n"
     ]
    },
    {
     "name": "stderr",
     "output_type": "stream",
     "text": [
      "100%|██████████| 1000/1000 [00:04<00:00, 239.33it/s]\n"
     ]
    },
    {
     "name": "stdout",
     "output_type": "stream",
     "text": [
      "\t\tTotal time for config: 4.180347204208374\n",
      "Instance 1344, T = 1.0, Proposal = MALA_MC, Acceptance = metropolis, Gap = 0.0000\n",
      "Warning: Gap is very small, may be inaccurate.\n",
      "Starting problem instance 1345 of 2000 with n = 3\n"
     ]
    },
    {
     "name": "stderr",
     "output_type": "stream",
     "text": [
      "100%|██████████| 1000/1000 [00:00<00:00, 1619.78it/s]\n"
     ]
    },
    {
     "name": "stdout",
     "output_type": "stream",
     "text": [
      "\t\tTotal time for config: 0.6203639507293701\n",
      "Instance 1345, T = 1.0, Proposal = MALA_MC, Acceptance = metropolis, Gap = 0.2286\n",
      "Starting problem instance 1346 of 2000 with n = 4\n"
     ]
    },
    {
     "name": "stderr",
     "output_type": "stream",
     "text": [
      "100%|██████████| 1000/1000 [00:00<00:00, 1313.69it/s]\n"
     ]
    },
    {
     "name": "stdout",
     "output_type": "stream",
     "text": [
      "\t\tTotal time for config: 0.7641594409942627\n",
      "Instance 1346, T = 1.0, Proposal = MALA_MC, Acceptance = metropolis, Gap = 0.6463\n",
      "Starting problem instance 1347 of 2000 with n = 5\n"
     ]
    },
    {
     "name": "stderr",
     "output_type": "stream",
     "text": [
      "100%|██████████| 1000/1000 [00:00<00:00, 1033.11it/s]\n"
     ]
    },
    {
     "name": "stdout",
     "output_type": "stream",
     "text": [
      "\t\tTotal time for config: 0.969954252243042\n",
      "Instance 1347, T = 1.0, Proposal = MALA_MC, Acceptance = metropolis, Gap = 0.1166\n",
      "Starting problem instance 1348 of 2000 with n = 6\n"
     ]
    },
    {
     "name": "stderr",
     "output_type": "stream",
     "text": [
      "100%|██████████| 1000/1000 [00:01<00:00, 983.44it/s]\n"
     ]
    },
    {
     "name": "stdout",
     "output_type": "stream",
     "text": [
      "\t\tTotal time for config: 1.018550157546997\n",
      "Instance 1348, T = 1.0, Proposal = MALA_MC, Acceptance = metropolis, Gap = 0.0000\n",
      "Warning: Gap is very small, may be inaccurate.\n",
      "Starting problem instance 1349 of 2000 with n = 7\n"
     ]
    },
    {
     "name": "stderr",
     "output_type": "stream",
     "text": [
      "100%|██████████| 1000/1000 [00:01<00:00, 824.79it/s]\n"
     ]
    },
    {
     "name": "stdout",
     "output_type": "stream",
     "text": [
      "\t\tTotal time for config: 1.214418888092041\n",
      "Instance 1349, T = 1.0, Proposal = MALA_MC, Acceptance = metropolis, Gap = 0.0000\n",
      "Warning: Gap is very small, may be inaccurate.\n",
      "Starting problem instance 1350 of 2000 with n = 8\n"
     ]
    },
    {
     "name": "stderr",
     "output_type": "stream",
     "text": [
      "100%|██████████| 1000/1000 [00:01<00:00, 595.56it/s]\n"
     ]
    },
    {
     "name": "stdout",
     "output_type": "stream",
     "text": [
      "\t\tTotal time for config: 1.683119535446167\n",
      "Instance 1350, T = 1.0, Proposal = MALA_MC, Acceptance = metropolis, Gap = 0.0000\n",
      "Warning: Gap is very small, may be inaccurate.\n",
      "Starting problem instance 1351 of 2000 with n = 9\n"
     ]
    },
    {
     "name": "stderr",
     "output_type": "stream",
     "text": [
      "100%|██████████| 1000/1000 [00:02<00:00, 357.71it/s]\n"
     ]
    },
    {
     "name": "stdout",
     "output_type": "stream",
     "text": [
      "\t\tTotal time for config: 2.7985475063323975\n",
      "Instance 1351, T = 1.0, Proposal = MALA_MC, Acceptance = metropolis, Gap = 0.0000\n",
      "Warning: Gap is very small, may be inaccurate.\n",
      "Starting problem instance 1352 of 2000 with n = 10\n"
     ]
    },
    {
     "name": "stderr",
     "output_type": "stream",
     "text": [
      "100%|██████████| 1000/1000 [00:04<00:00, 201.88it/s]\n"
     ]
    },
    {
     "name": "stdout",
     "output_type": "stream",
     "text": [
      "\t\tTotal time for config: 4.956393718719482\n",
      "Instance 1352, T = 1.0, Proposal = MALA_MC, Acceptance = metropolis, Gap = 0.0000\n",
      "Warning: Gap is very small, may be inaccurate.\n",
      "Starting problem instance 1353 of 2000 with n = 3\n"
     ]
    },
    {
     "name": "stderr",
     "output_type": "stream",
     "text": [
      "100%|██████████| 1000/1000 [00:00<00:00, 1417.57it/s]\n"
     ]
    },
    {
     "name": "stdout",
     "output_type": "stream",
     "text": [
      "\t\tTotal time for config: 0.7084219455718994\n",
      "Instance 1353, T = 1.0, Proposal = MALA_MC, Acceptance = metropolis, Gap = 0.8460\n",
      "Starting problem instance 1354 of 2000 with n = 4\n"
     ]
    },
    {
     "name": "stderr",
     "output_type": "stream",
     "text": [
      "100%|██████████| 1000/1000 [00:00<00:00, 1069.55it/s]\n"
     ]
    },
    {
     "name": "stdout",
     "output_type": "stream",
     "text": [
      "\t\tTotal time for config: 0.9369208812713623\n",
      "Instance 1354, T = 1.0, Proposal = MALA_MC, Acceptance = metropolis, Gap = 0.6356\n",
      "Starting problem instance 1355 of 2000 with n = 5\n"
     ]
    },
    {
     "name": "stderr",
     "output_type": "stream",
     "text": [
      "100%|██████████| 1000/1000 [00:01<00:00, 963.20it/s]\n"
     ]
    },
    {
     "name": "stdout",
     "output_type": "stream",
     "text": [
      "\t\tTotal time for config: 1.0402021408081055\n",
      "Instance 1355, T = 1.0, Proposal = MALA_MC, Acceptance = metropolis, Gap = 0.0037\n",
      "Starting problem instance 1356 of 2000 with n = 6\n"
     ]
    },
    {
     "name": "stderr",
     "output_type": "stream",
     "text": [
      "100%|██████████| 1000/1000 [00:01<00:00, 889.80it/s]\n"
     ]
    },
    {
     "name": "stdout",
     "output_type": "stream",
     "text": [
      "\t\tTotal time for config: 1.1278083324432373\n",
      "Instance 1356, T = 1.0, Proposal = MALA_MC, Acceptance = metropolis, Gap = 0.0000\n",
      "Warning: Gap is very small, may be inaccurate.\n",
      "Starting problem instance 1357 of 2000 with n = 7\n"
     ]
    },
    {
     "name": "stderr",
     "output_type": "stream",
     "text": [
      "100%|██████████| 1000/1000 [00:01<00:00, 769.14it/s]\n"
     ]
    },
    {
     "name": "stdout",
     "output_type": "stream",
     "text": [
      "\t\tTotal time for config: 1.3031423091888428\n",
      "Instance 1357, T = 1.0, Proposal = MALA_MC, Acceptance = metropolis, Gap = 0.0000\n",
      "Warning: Gap is very small, may be inaccurate.\n",
      "Starting problem instance 1358 of 2000 with n = 8\n"
     ]
    },
    {
     "name": "stderr",
     "output_type": "stream",
     "text": [
      "100%|██████████| 1000/1000 [00:01<00:00, 586.29it/s]\n"
     ]
    },
    {
     "name": "stdout",
     "output_type": "stream",
     "text": [
      "\t\tTotal time for config: 1.70863676071167\n",
      "Instance 1358, T = 1.0, Proposal = MALA_MC, Acceptance = metropolis, Gap = 0.0000\n",
      "Warning: Gap is very small, may be inaccurate.\n",
      "Starting problem instance 1359 of 2000 with n = 9\n"
     ]
    },
    {
     "name": "stderr",
     "output_type": "stream",
     "text": [
      "100%|██████████| 1000/1000 [00:02<00:00, 390.87it/s]\n"
     ]
    },
    {
     "name": "stdout",
     "output_type": "stream",
     "text": [
      "\t\tTotal time for config: 2.5594301223754883\n",
      "Instance 1359, T = 1.0, Proposal = MALA_MC, Acceptance = metropolis, Gap = 0.0000\n",
      "Warning: Gap is very small, may be inaccurate.\n",
      "Starting problem instance 1360 of 2000 with n = 10\n"
     ]
    },
    {
     "name": "stderr",
     "output_type": "stream",
     "text": [
      "100%|██████████| 1000/1000 [00:04<00:00, 202.21it/s]\n"
     ]
    },
    {
     "name": "stdout",
     "output_type": "stream",
     "text": [
      "\t\tTotal time for config: 4.947402715682983\n",
      "Instance 1360, T = 1.0, Proposal = MALA_MC, Acceptance = metropolis, Gap = 0.0000\n",
      "Warning: Gap is very small, may be inaccurate.\n",
      "Starting problem instance 1361 of 2000 with n = 3\n"
     ]
    },
    {
     "name": "stderr",
     "output_type": "stream",
     "text": [
      "100%|██████████| 1000/1000 [00:00<00:00, 1647.90it/s]\n"
     ]
    },
    {
     "name": "stdout",
     "output_type": "stream",
     "text": [
      "\t\tTotal time for config: 0.6082403659820557\n",
      "Instance 1361, T = 1.0, Proposal = MALA_MC, Acceptance = metropolis, Gap = 0.6546\n",
      "Starting problem instance 1362 of 2000 with n = 4\n"
     ]
    },
    {
     "name": "stderr",
     "output_type": "stream",
     "text": [
      "100%|██████████| 1000/1000 [00:00<00:00, 1226.64it/s]\n"
     ]
    },
    {
     "name": "stdout",
     "output_type": "stream",
     "text": [
      "\t\tTotal time for config: 0.8171498775482178\n",
      "Instance 1362, T = 1.0, Proposal = MALA_MC, Acceptance = metropolis, Gap = 0.4951\n",
      "Starting problem instance 1363 of 2000 with n = 5\n"
     ]
    },
    {
     "name": "stderr",
     "output_type": "stream",
     "text": [
      "100%|██████████| 1000/1000 [00:01<00:00, 862.56it/s]\n"
     ]
    },
    {
     "name": "stdout",
     "output_type": "stream",
     "text": [
      "\t\tTotal time for config: 1.1613378524780273\n",
      "Instance 1363, T = 1.0, Proposal = MALA_MC, Acceptance = metropolis, Gap = 0.0006\n",
      "Starting problem instance 1364 of 2000 with n = 6\n"
     ]
    },
    {
     "name": "stderr",
     "output_type": "stream",
     "text": [
      "100%|██████████| 1000/1000 [00:00<00:00, 1122.17it/s]\n"
     ]
    },
    {
     "name": "stdout",
     "output_type": "stream",
     "text": [
      "\t\tTotal time for config: 0.8911287784576416\n",
      "Instance 1364, T = 1.0, Proposal = MALA_MC, Acceptance = metropolis, Gap = 0.0909\n",
      "Starting problem instance 1365 of 2000 with n = 7\n"
     ]
    },
    {
     "name": "stderr",
     "output_type": "stream",
     "text": [
      "100%|██████████| 1000/1000 [00:01<00:00, 830.90it/s]\n"
     ]
    },
    {
     "name": "stdout",
     "output_type": "stream",
     "text": [
      "\t\tTotal time for config: 1.203512191772461\n",
      "Instance 1365, T = 1.0, Proposal = MALA_MC, Acceptance = metropolis, Gap = 0.0108\n",
      "Starting problem instance 1366 of 2000 with n = 8\n"
     ]
    },
    {
     "name": "stderr",
     "output_type": "stream",
     "text": [
      "100%|██████████| 1000/1000 [00:01<00:00, 511.67it/s]\n"
     ]
    },
    {
     "name": "stdout",
     "output_type": "stream",
     "text": [
      "\t\tTotal time for config: 1.9543802738189697\n",
      "Instance 1366, T = 1.0, Proposal = MALA_MC, Acceptance = metropolis, Gap = 0.0000\n",
      "Warning: Gap is very small, may be inaccurate.\n",
      "Starting problem instance 1367 of 2000 with n = 9\n"
     ]
    },
    {
     "name": "stderr",
     "output_type": "stream",
     "text": [
      "100%|██████████| 1000/1000 [1:31:24<00:00,  5.48s/it] \n"
     ]
    },
    {
     "name": "stdout",
     "output_type": "stream",
     "text": [
      "\t\tTotal time for config: 5484.576276540756\n",
      "Instance 1367, T = 1.0, Proposal = MALA_MC, Acceptance = metropolis, Gap = 0.0000\n",
      "Warning: Gap is very small, may be inaccurate.\n",
      "Starting problem instance 1368 of 2000 with n = 10\n"
     ]
    },
    {
     "name": "stderr",
     "output_type": "stream",
     "text": [
      "100%|██████████| 1000/1000 [00:05<00:00, 177.86it/s]\n"
     ]
    },
    {
     "name": "stdout",
     "output_type": "stream",
     "text": [
      "\t\tTotal time for config: 5.625349044799805\n",
      "Instance 1368, T = 1.0, Proposal = MALA_MC, Acceptance = metropolis, Gap = 0.0000\n",
      "Warning: Gap is very small, may be inaccurate.\n",
      "Starting problem instance 1369 of 2000 with n = 3\n"
     ]
    },
    {
     "name": "stderr",
     "output_type": "stream",
     "text": [
      "100%|██████████| 1000/1000 [00:01<00:00, 756.13it/s]\n"
     ]
    },
    {
     "name": "stdout",
     "output_type": "stream",
     "text": [
      "\t\tTotal time for config: 1.3276853561401367\n",
      "Instance 1369, T = 1.0, Proposal = MALA_MC, Acceptance = metropolis, Gap = 0.3967\n",
      "Starting problem instance 1370 of 2000 with n = 4\n"
     ]
    },
    {
     "name": "stderr",
     "output_type": "stream",
     "text": [
      "100%|██████████| 1000/1000 [00:01<00:00, 548.81it/s]\n"
     ]
    },
    {
     "name": "stdout",
     "output_type": "stream",
     "text": [
      "\t\tTotal time for config: 1.83011794090271\n",
      "Instance 1370, T = 1.0, Proposal = MALA_MC, Acceptance = metropolis, Gap = 0.7800\n",
      "Starting problem instance 1371 of 2000 with n = 5\n"
     ]
    },
    {
     "name": "stderr",
     "output_type": "stream",
     "text": [
      "100%|██████████| 1000/1000 [00:02<00:00, 441.92it/s]\n"
     ]
    },
    {
     "name": "stdout",
     "output_type": "stream",
     "text": [
      "\t\tTotal time for config: 2.2663657665252686\n",
      "Instance 1371, T = 1.0, Proposal = MALA_MC, Acceptance = metropolis, Gap = 0.0017\n",
      "Starting problem instance 1372 of 2000 with n = 6\n"
     ]
    },
    {
     "name": "stderr",
     "output_type": "stream",
     "text": [
      "100%|██████████| 1000/1000 [00:02<00:00, 389.27it/s]\n"
     ]
    },
    {
     "name": "stdout",
     "output_type": "stream",
     "text": [
      "\t\tTotal time for config: 2.5709288120269775\n",
      "Instance 1372, T = 1.0, Proposal = MALA_MC, Acceptance = metropolis, Gap = 0.5655\n",
      "Starting problem instance 1373 of 2000 with n = 7\n"
     ]
    },
    {
     "name": "stderr",
     "output_type": "stream",
     "text": [
      "100%|██████████| 1000/1000 [00:02<00:00, 412.11it/s]\n"
     ]
    },
    {
     "name": "stdout",
     "output_type": "stream",
     "text": [
      "\t\tTotal time for config: 2.4347386360168457\n",
      "Instance 1373, T = 1.0, Proposal = MALA_MC, Acceptance = metropolis, Gap = 0.5244\n",
      "Starting problem instance 1374 of 2000 with n = 8\n"
     ]
    },
    {
     "name": "stderr",
     "output_type": "stream",
     "text": [
      "100%|██████████| 1000/1000 [00:04<00:00, 242.53it/s]\n"
     ]
    },
    {
     "name": "stdout",
     "output_type": "stream",
     "text": [
      "\t\tTotal time for config: 4.131417751312256\n",
      "Instance 1374, T = 1.0, Proposal = MALA_MC, Acceptance = metropolis, Gap = 0.0000\n",
      "Warning: Gap is very small, may be inaccurate.\n",
      "Starting problem instance 1375 of 2000 with n = 9\n"
     ]
    },
    {
     "name": "stderr",
     "output_type": "stream",
     "text": [
      "100%|██████████| 1000/1000 [00:05<00:00, 172.50it/s]\n"
     ]
    },
    {
     "name": "stdout",
     "output_type": "stream",
     "text": [
      "\t\tTotal time for config: 5.797098636627197\n",
      "Instance 1375, T = 1.0, Proposal = MALA_MC, Acceptance = metropolis, Gap = 0.0000\n",
      "Warning: Gap is very small, may be inaccurate.\n",
      "Starting problem instance 1376 of 2000 with n = 10\n"
     ]
    },
    {
     "name": "stderr",
     "output_type": "stream",
     "text": [
      "100%|██████████| 1000/1000 [00:11<00:00, 89.97it/s]\n"
     ]
    },
    {
     "name": "stdout",
     "output_type": "stream",
     "text": [
      "\t\tTotal time for config: 11.118752002716064\n",
      "Instance 1376, T = 1.0, Proposal = MALA_MC, Acceptance = metropolis, Gap = 0.0000\n",
      "Warning: Gap is very small, may be inaccurate.\n",
      "Starting problem instance 1377 of 2000 with n = 3\n"
     ]
    },
    {
     "name": "stderr",
     "output_type": "stream",
     "text": [
      "100%|██████████| 1000/1000 [00:01<00:00, 619.06it/s]\n"
     ]
    },
    {
     "name": "stdout",
     "output_type": "stream",
     "text": [
      "\t\tTotal time for config: 1.6170225143432617\n",
      "Instance 1377, T = 1.0, Proposal = MALA_MC, Acceptance = metropolis, Gap = 0.3011\n",
      "Starting problem instance 1378 of 2000 with n = 4\n"
     ]
    },
    {
     "name": "stderr",
     "output_type": "stream",
     "text": [
      "100%|██████████| 1000/1000 [00:02<00:00, 351.68it/s]\n"
     ]
    },
    {
     "name": "stdout",
     "output_type": "stream",
     "text": [
      "\t\tTotal time for config: 2.858691453933716\n",
      "Instance 1378, T = 1.0, Proposal = MALA_MC, Acceptance = metropolis, Gap = 0.1786\n",
      "Starting problem instance 1379 of 2000 with n = 5\n"
     ]
    },
    {
     "name": "stderr",
     "output_type": "stream",
     "text": [
      "100%|██████████| 1000/1000 [00:02<00:00, 469.40it/s]\n"
     ]
    },
    {
     "name": "stdout",
     "output_type": "stream",
     "text": [
      "\t\tTotal time for config: 2.136260986328125\n",
      "Instance 1379, T = 1.0, Proposal = MALA_MC, Acceptance = metropolis, Gap = 0.0000\n",
      "Warning: Gap is very small, may be inaccurate.\n",
      "Starting problem instance 1380 of 2000 with n = 6\n"
     ]
    },
    {
     "name": "stderr",
     "output_type": "stream",
     "text": [
      "100%|██████████| 1000/1000 [00:02<00:00, 445.31it/s]\n"
     ]
    },
    {
     "name": "stdout",
     "output_type": "stream",
     "text": [
      "\t\tTotal time for config: 2.248136281967163\n",
      "Instance 1380, T = 1.0, Proposal = MALA_MC, Acceptance = metropolis, Gap = 0.0000\n",
      "Warning: Gap is very small, may be inaccurate.\n",
      "Starting problem instance 1381 of 2000 with n = 7\n"
     ]
    },
    {
     "name": "stderr",
     "output_type": "stream",
     "text": [
      "100%|██████████| 1000/1000 [00:02<00:00, 388.33it/s]\n"
     ]
    },
    {
     "name": "stdout",
     "output_type": "stream",
     "text": [
      "\t\tTotal time for config: 2.58284068107605\n",
      "Instance 1381, T = 1.0, Proposal = MALA_MC, Acceptance = metropolis, Gap = 0.0000\n",
      "Warning: Gap is very small, may be inaccurate.\n",
      "Starting problem instance 1382 of 2000 with n = 8\n"
     ]
    },
    {
     "name": "stderr",
     "output_type": "stream",
     "text": [
      "100%|██████████| 1000/1000 [00:02<00:00, 338.95it/s]\n"
     ]
    },
    {
     "name": "stdout",
     "output_type": "stream",
     "text": [
      "\t\tTotal time for config: 2.956369638442993\n",
      "Instance 1382, T = 1.0, Proposal = MALA_MC, Acceptance = metropolis, Gap = 0.0000\n",
      "Warning: Gap is very small, may be inaccurate.\n",
      "Starting problem instance 1383 of 2000 with n = 9\n"
     ]
    },
    {
     "name": "stderr",
     "output_type": "stream",
     "text": [
      "100%|██████████| 1000/1000 [00:04<00:00, 243.08it/s]\n"
     ]
    },
    {
     "name": "stdout",
     "output_type": "stream",
     "text": [
      "\t\tTotal time for config: 4.113883972167969\n",
      "Instance 1383, T = 1.0, Proposal = MALA_MC, Acceptance = metropolis, Gap = 0.0000\n",
      "Warning: Gap is very small, may be inaccurate.\n",
      "Starting problem instance 1384 of 2000 with n = 10\n"
     ]
    },
    {
     "name": "stderr",
     "output_type": "stream",
     "text": [
      "100%|██████████| 1000/1000 [00:08<00:00, 118.34it/s]\n"
     ]
    },
    {
     "name": "stdout",
     "output_type": "stream",
     "text": [
      "\t\tTotal time for config: 8.450252056121826\n",
      "Instance 1384, T = 1.0, Proposal = MALA_MC, Acceptance = metropolis, Gap = 0.0000\n",
      "Warning: Gap is very small, may be inaccurate.\n",
      "Starting problem instance 1385 of 2000 with n = 3\n"
     ]
    },
    {
     "name": "stderr",
     "output_type": "stream",
     "text": [
      "100%|██████████| 1000/1000 [00:00<00:00, 1083.43it/s]\n"
     ]
    },
    {
     "name": "stdout",
     "output_type": "stream",
     "text": [
      "\t\tTotal time for config: 0.922997236251831\n",
      "Instance 1385, T = 1.0, Proposal = MALA_MC, Acceptance = metropolis, Gap = 0.5670\n",
      "Starting problem instance 1386 of 2000 with n = 4\n"
     ]
    },
    {
     "name": "stderr",
     "output_type": "stream",
     "text": [
      "100%|██████████| 1000/1000 [00:01<00:00, 862.72it/s]\n"
     ]
    },
    {
     "name": "stdout",
     "output_type": "stream",
     "text": [
      "\t\tTotal time for config: 1.1591272354125977\n",
      "Instance 1386, T = 1.0, Proposal = MALA_MC, Acceptance = metropolis, Gap = 0.7372\n",
      "Starting problem instance 1387 of 2000 with n = 5\n"
     ]
    },
    {
     "name": "stderr",
     "output_type": "stream",
     "text": [
      "100%|██████████| 1000/1000 [00:01<00:00, 612.33it/s]\n"
     ]
    },
    {
     "name": "stdout",
     "output_type": "stream",
     "text": [
      "\t\tTotal time for config: 1.6331186294555664\n",
      "Instance 1387, T = 1.0, Proposal = MALA_MC, Acceptance = metropolis, Gap = 0.3308\n",
      "Starting problem instance 1388 of 2000 with n = 6\n"
     ]
    },
    {
     "name": "stderr",
     "output_type": "stream",
     "text": [
      "100%|██████████| 1000/1000 [00:01<00:00, 504.49it/s]\n"
     ]
    },
    {
     "name": "stdout",
     "output_type": "stream",
     "text": [
      "\t\tTotal time for config: 1.9829561710357666\n",
      "Instance 1388, T = 1.0, Proposal = MALA_MC, Acceptance = metropolis, Gap = 0.0000\n",
      "Warning: Gap is very small, may be inaccurate.\n",
      "Starting problem instance 1389 of 2000 with n = 7\n"
     ]
    },
    {
     "name": "stderr",
     "output_type": "stream",
     "text": [
      "100%|██████████| 1000/1000 [00:02<00:00, 384.29it/s]\n"
     ]
    },
    {
     "name": "stdout",
     "output_type": "stream",
     "text": [
      "\t\tTotal time for config: 2.6021718978881836\n",
      "Instance 1389, T = 1.0, Proposal = MALA_MC, Acceptance = metropolis, Gap = 0.0000\n",
      "Warning: Gap is very small, may be inaccurate.\n",
      "Starting problem instance 1390 of 2000 with n = 8\n"
     ]
    },
    {
     "name": "stderr",
     "output_type": "stream",
     "text": [
      "100%|██████████| 1000/1000 [00:02<00:00, 418.61it/s]\n"
     ]
    },
    {
     "name": "stdout",
     "output_type": "stream",
     "text": [
      "\t\tTotal time for config: 2.4028406143188477\n",
      "Instance 1390, T = 1.0, Proposal = MALA_MC, Acceptance = metropolis, Gap = 0.0000\n",
      "Warning: Gap is very small, may be inaccurate.\n",
      "Starting problem instance 1391 of 2000 with n = 9\n"
     ]
    },
    {
     "name": "stderr",
     "output_type": "stream",
     "text": [
      "100%|██████████| 1000/1000 [00:04<00:00, 233.02it/s]\n"
     ]
    },
    {
     "name": "stdout",
     "output_type": "stream",
     "text": [
      "\t\tTotal time for config: 4.299726486206055\n",
      "Instance 1391, T = 1.0, Proposal = MALA_MC, Acceptance = metropolis, Gap = 0.0000\n",
      "Warning: Gap is very small, may be inaccurate.\n",
      "Starting problem instance 1392 of 2000 with n = 10\n"
     ]
    },
    {
     "name": "stderr",
     "output_type": "stream",
     "text": [
      "100%|██████████| 1000/1000 [00:11<00:00, 85.60it/s]\n"
     ]
    },
    {
     "name": "stdout",
     "output_type": "stream",
     "text": [
      "\t\tTotal time for config: 11.682997465133667\n",
      "Instance 1392, T = 1.0, Proposal = MALA_MC, Acceptance = metropolis, Gap = 0.0000\n",
      "Warning: Gap is very small, may be inaccurate.\n",
      "Starting problem instance 1393 of 2000 with n = 3\n"
     ]
    },
    {
     "name": "stderr",
     "output_type": "stream",
     "text": [
      "100%|██████████| 1000/1000 [00:02<00:00, 463.45it/s]\n"
     ]
    },
    {
     "name": "stdout",
     "output_type": "stream",
     "text": [
      "\t\tTotal time for config: 2.1723904609680176\n",
      "Instance 1393, T = 1.0, Proposal = MALA_MC, Acceptance = metropolis, Gap = 0.1797\n",
      "Starting problem instance 1394 of 2000 with n = 4\n"
     ]
    },
    {
     "name": "stderr",
     "output_type": "stream",
     "text": [
      "100%|██████████| 1000/1000 [00:02<00:00, 354.98it/s]\n"
     ]
    },
    {
     "name": "stdout",
     "output_type": "stream",
     "text": [
      "\t\tTotal time for config: 2.8256168365478516\n",
      "Instance 1394, T = 1.0, Proposal = MALA_MC, Acceptance = metropolis, Gap = 0.6360\n",
      "Starting problem instance 1395 of 2000 with n = 5\n"
     ]
    },
    {
     "name": "stderr",
     "output_type": "stream",
     "text": [
      "100%|██████████| 1000/1000 [00:03<00:00, 284.08it/s]\n"
     ]
    },
    {
     "name": "stdout",
     "output_type": "stream",
     "text": [
      "\t\tTotal time for config: 3.520491123199463\n",
      "Instance 1395, T = 1.0, Proposal = MALA_MC, Acceptance = metropolis, Gap = 0.5920\n",
      "Starting problem instance 1396 of 2000 with n = 6\n"
     ]
    },
    {
     "name": "stderr",
     "output_type": "stream",
     "text": [
      "100%|██████████| 1000/1000 [00:04<00:00, 244.35it/s]\n"
     ]
    },
    {
     "name": "stdout",
     "output_type": "stream",
     "text": [
      "\t\tTotal time for config: 4.110668182373047\n",
      "Instance 1396, T = 1.0, Proposal = MALA_MC, Acceptance = metropolis, Gap = 0.8016\n",
      "Starting problem instance 1397 of 2000 with n = 7\n"
     ]
    },
    {
     "name": "stderr",
     "output_type": "stream",
     "text": [
      "100%|██████████| 1000/1000 [00:04<00:00, 205.68it/s]\n"
     ]
    },
    {
     "name": "stdout",
     "output_type": "stream",
     "text": [
      "\t\tTotal time for config: 4.870177507400513\n",
      "Instance 1397, T = 1.0, Proposal = MALA_MC, Acceptance = metropolis, Gap = 0.0018\n",
      "Starting problem instance 1398 of 2000 with n = 8\n"
     ]
    },
    {
     "name": "stderr",
     "output_type": "stream",
     "text": [
      "100%|██████████| 1000/1000 [00:06<00:00, 149.21it/s]\n"
     ]
    },
    {
     "name": "stdout",
     "output_type": "stream",
     "text": [
      "\t\tTotal time for config: 6.701779365539551\n",
      "Instance 1398, T = 1.0, Proposal = MALA_MC, Acceptance = metropolis, Gap = 0.0000\n",
      "Warning: Gap is very small, may be inaccurate.\n",
      "Starting problem instance 1399 of 2000 with n = 9\n"
     ]
    },
    {
     "name": "stderr",
     "output_type": "stream",
     "text": [
      "100%|██████████| 1000/1000 [00:10<00:00, 98.54it/s]\n"
     ]
    },
    {
     "name": "stdout",
     "output_type": "stream",
     "text": [
      "\t\tTotal time for config: 10.1495041847229\n",
      "Instance 1399, T = 1.0, Proposal = MALA_MC, Acceptance = metropolis, Gap = 0.0000\n",
      "Warning: Gap is very small, may be inaccurate.\n",
      "Starting problem instance 1400 of 2000 with n = 10\n"
     ]
    },
    {
     "name": "stderr",
     "output_type": "stream",
     "text": [
      "100%|██████████| 1000/1000 [00:19<00:00, 52.36it/s]\n"
     ]
    },
    {
     "name": "stdout",
     "output_type": "stream",
     "text": [
      "\t\tTotal time for config: 19.100169897079468\n",
      "Instance 1400, T = 1.0, Proposal = MALA_MC, Acceptance = metropolis, Gap = 0.0000\n",
      "Warning: Gap is very small, may be inaccurate.\n",
      "Starting problem instance 1401 of 2000 with n = 3\n"
     ]
    },
    {
     "name": "stderr",
     "output_type": "stream",
     "text": [
      "100%|██████████| 1000/1000 [00:02<00:00, 425.23it/s]\n"
     ]
    },
    {
     "name": "stdout",
     "output_type": "stream",
     "text": [
      "\t\tTotal time for config: 2.3609068393707275\n",
      "Instance 1401, T = 1.0, Proposal = MALA_MC, Acceptance = metropolis, Gap = 0.8371\n",
      "Starting problem instance 1402 of 2000 with n = 4\n"
     ]
    },
    {
     "name": "stderr",
     "output_type": "stream",
     "text": [
      "100%|██████████| 1000/1000 [00:02<00:00, 351.30it/s]\n"
     ]
    },
    {
     "name": "stdout",
     "output_type": "stream",
     "text": [
      "\t\tTotal time for config: 2.8546090126037598\n",
      "Instance 1402, T = 1.0, Proposal = MALA_MC, Acceptance = metropolis, Gap = 0.0000\n",
      "Warning: Gap is very small, may be inaccurate.\n",
      "Starting problem instance 1403 of 2000 with n = 5\n"
     ]
    },
    {
     "name": "stderr",
     "output_type": "stream",
     "text": [
      "100%|██████████| 1000/1000 [00:03<00:00, 279.22it/s]\n"
     ]
    },
    {
     "name": "stdout",
     "output_type": "stream",
     "text": [
      "\t\tTotal time for config: 3.589080333709717\n",
      "Instance 1403, T = 1.0, Proposal = MALA_MC, Acceptance = metropolis, Gap = 0.6182\n",
      "Starting problem instance 1404 of 2000 with n = 6\n"
     ]
    },
    {
     "name": "stderr",
     "output_type": "stream",
     "text": [
      "100%|██████████| 1000/1000 [00:04<00:00, 242.24it/s]\n"
     ]
    },
    {
     "name": "stdout",
     "output_type": "stream",
     "text": [
      "\t\tTotal time for config: 4.136717081069946\n",
      "Instance 1404, T = 1.0, Proposal = MALA_MC, Acceptance = metropolis, Gap = 0.2908\n",
      "Starting problem instance 1405 of 2000 with n = 7\n"
     ]
    },
    {
     "name": "stderr",
     "output_type": "stream",
     "text": [
      "100%|██████████| 1000/1000 [00:04<00:00, 200.38it/s]\n"
     ]
    },
    {
     "name": "stdout",
     "output_type": "stream",
     "text": [
      "\t\tTotal time for config: 5.001937389373779\n",
      "Instance 1405, T = 1.0, Proposal = MALA_MC, Acceptance = metropolis, Gap = 0.0000\n",
      "Warning: Gap is very small, may be inaccurate.\n",
      "Starting problem instance 1406 of 2000 with n = 8\n"
     ]
    },
    {
     "name": "stderr",
     "output_type": "stream",
     "text": [
      "100%|██████████| 1000/1000 [00:06<00:00, 154.79it/s]\n"
     ]
    },
    {
     "name": "stdout",
     "output_type": "stream",
     "text": [
      "\t\tTotal time for config: 6.4685893058776855\n",
      "Instance 1406, T = 1.0, Proposal = MALA_MC, Acceptance = metropolis, Gap = 0.0000\n",
      "Warning: Gap is very small, may be inaccurate.\n",
      "Starting problem instance 1407 of 2000 with n = 9\n"
     ]
    },
    {
     "name": "stderr",
     "output_type": "stream",
     "text": [
      "100%|██████████| 1000/1000 [00:10<00:00, 98.35it/s]\n"
     ]
    },
    {
     "name": "stdout",
     "output_type": "stream",
     "text": [
      "\t\tTotal time for config: 10.173293590545654\n",
      "Instance 1407, T = 1.0, Proposal = MALA_MC, Acceptance = metropolis, Gap = -0.0000\n",
      "Warning: Gap is very small, may be inaccurate.\n",
      "Starting problem instance 1408 of 2000 with n = 10\n"
     ]
    },
    {
     "name": "stderr",
     "output_type": "stream",
     "text": [
      "100%|██████████| 1000/1000 [00:18<00:00, 53.14it/s]\n"
     ]
    },
    {
     "name": "stdout",
     "output_type": "stream",
     "text": [
      "\t\tTotal time for config: 18.83049201965332\n",
      "Instance 1408, T = 1.0, Proposal = MALA_MC, Acceptance = metropolis, Gap = 0.0000\n",
      "Warning: Gap is very small, may be inaccurate.\n",
      "Starting problem instance 1409 of 2000 with n = 3\n"
     ]
    },
    {
     "name": "stderr",
     "output_type": "stream",
     "text": [
      "100%|██████████| 1000/1000 [00:02<00:00, 451.52it/s]\n"
     ]
    },
    {
     "name": "stdout",
     "output_type": "stream",
     "text": [
      "\t\tTotal time for config: 2.221472978591919\n",
      "Instance 1409, T = 1.0, Proposal = MALA_MC, Acceptance = metropolis, Gap = 0.7798\n",
      "Starting problem instance 1410 of 2000 with n = 4\n"
     ]
    },
    {
     "name": "stderr",
     "output_type": "stream",
     "text": [
      "100%|██████████| 1000/1000 [00:03<00:00, 308.70it/s]\n"
     ]
    },
    {
     "name": "stdout",
     "output_type": "stream",
     "text": [
      "\t\tTotal time for config: 3.2458415031433105\n",
      "Instance 1410, T = 1.0, Proposal = MALA_MC, Acceptance = metropolis, Gap = 0.4311\n",
      "Starting problem instance 1411 of 2000 with n = 5\n"
     ]
    },
    {
     "name": "stderr",
     "output_type": "stream",
     "text": [
      "100%|██████████| 1000/1000 [00:03<00:00, 273.56it/s]\n"
     ]
    },
    {
     "name": "stdout",
     "output_type": "stream",
     "text": [
      "\t\tTotal time for config: 3.671753168106079\n",
      "Instance 1411, T = 1.0, Proposal = MALA_MC, Acceptance = metropolis, Gap = 0.5100\n",
      "Starting problem instance 1412 of 2000 with n = 6\n"
     ]
    },
    {
     "name": "stderr",
     "output_type": "stream",
     "text": [
      "100%|██████████| 1000/1000 [00:03<00:00, 255.77it/s]\n"
     ]
    },
    {
     "name": "stdout",
     "output_type": "stream",
     "text": [
      "\t\tTotal time for config: 3.918454885482788\n",
      "Instance 1412, T = 1.0, Proposal = MALA_MC, Acceptance = metropolis, Gap = 0.7118\n",
      "Starting problem instance 1413 of 2000 with n = 7\n"
     ]
    },
    {
     "name": "stderr",
     "output_type": "stream",
     "text": [
      "100%|██████████| 1000/1000 [00:04<00:00, 205.35it/s]\n"
     ]
    },
    {
     "name": "stdout",
     "output_type": "stream",
     "text": [
      "\t\tTotal time for config: 4.878534555435181\n",
      "Instance 1413, T = 1.0, Proposal = MALA_MC, Acceptance = metropolis, Gap = 0.0000\n",
      "Warning: Gap is very small, may be inaccurate.\n",
      "Starting problem instance 1414 of 2000 with n = 8\n"
     ]
    },
    {
     "name": "stderr",
     "output_type": "stream",
     "text": [
      "100%|██████████| 1000/1000 [00:06<00:00, 158.33it/s]\n"
     ]
    },
    {
     "name": "stdout",
     "output_type": "stream",
     "text": [
      "\t\tTotal time for config: 6.315962791442871\n",
      "Instance 1414, T = 1.0, Proposal = MALA_MC, Acceptance = metropolis, Gap = 0.0000\n",
      "Warning: Gap is very small, may be inaccurate.\n",
      "Starting problem instance 1415 of 2000 with n = 9\n"
     ]
    },
    {
     "name": "stderr",
     "output_type": "stream",
     "text": [
      "100%|██████████| 1000/1000 [00:10<00:00, 98.63it/s]\n"
     ]
    },
    {
     "name": "stdout",
     "output_type": "stream",
     "text": [
      "\t\tTotal time for config: 10.1471266746521\n",
      "Instance 1415, T = 1.0, Proposal = MALA_MC, Acceptance = metropolis, Gap = 0.0000\n",
      "Warning: Gap is very small, may be inaccurate.\n",
      "Starting problem instance 1416 of 2000 with n = 10\n"
     ]
    },
    {
     "name": "stderr",
     "output_type": "stream",
     "text": [
      "100%|██████████| 1000/1000 [00:19<00:00, 52.19it/s]\n"
     ]
    },
    {
     "name": "stdout",
     "output_type": "stream",
     "text": [
      "\t\tTotal time for config: 19.17358136177063\n",
      "Instance 1416, T = 1.0, Proposal = MALA_MC, Acceptance = metropolis, Gap = 0.0000\n",
      "Warning: Gap is very small, may be inaccurate.\n",
      "Starting problem instance 1417 of 2000 with n = 3\n"
     ]
    },
    {
     "name": "stderr",
     "output_type": "stream",
     "text": [
      "100%|██████████| 1000/1000 [00:02<00:00, 468.51it/s]\n"
     ]
    },
    {
     "name": "stdout",
     "output_type": "stream",
     "text": [
      "\t\tTotal time for config: 2.150301218032837\n",
      "Instance 1417, T = 1.0, Proposal = MALA_MC, Acceptance = metropolis, Gap = 0.7544\n",
      "Starting problem instance 1418 of 2000 with n = 4\n"
     ]
    },
    {
     "name": "stderr",
     "output_type": "stream",
     "text": [
      "100%|██████████| 1000/1000 [00:03<00:00, 327.84it/s]\n"
     ]
    },
    {
     "name": "stdout",
     "output_type": "stream",
     "text": [
      "\t\tTotal time for config: 3.061108112335205\n",
      "Instance 1418, T = 1.0, Proposal = MALA_MC, Acceptance = metropolis, Gap = 0.4611\n",
      "Starting problem instance 1419 of 2000 with n = 5\n"
     ]
    },
    {
     "name": "stderr",
     "output_type": "stream",
     "text": [
      "100%|██████████| 1000/1000 [00:03<00:00, 271.24it/s]\n"
     ]
    },
    {
     "name": "stdout",
     "output_type": "stream",
     "text": [
      "\t\tTotal time for config: 3.70261549949646\n",
      "Instance 1419, T = 1.0, Proposal = MALA_MC, Acceptance = metropolis, Gap = 0.0023\n",
      "Starting problem instance 1420 of 2000 with n = 6\n"
     ]
    },
    {
     "name": "stderr",
     "output_type": "stream",
     "text": [
      "100%|██████████| 1000/1000 [00:04<00:00, 246.56it/s]\n"
     ]
    },
    {
     "name": "stdout",
     "output_type": "stream",
     "text": [
      "\t\tTotal time for config: 4.066433668136597\n",
      "Instance 1420, T = 1.0, Proposal = MALA_MC, Acceptance = metropolis, Gap = 0.0000\n",
      "Warning: Gap is very small, may be inaccurate.\n",
      "Starting problem instance 1421 of 2000 with n = 7\n"
     ]
    },
    {
     "name": "stderr",
     "output_type": "stream",
     "text": [
      "100%|██████████| 1000/1000 [00:04<00:00, 209.33it/s]\n"
     ]
    },
    {
     "name": "stdout",
     "output_type": "stream",
     "text": [
      "\t\tTotal time for config: 4.784499406814575\n",
      "Instance 1421, T = 1.0, Proposal = MALA_MC, Acceptance = metropolis, Gap = 0.0000\n",
      "Warning: Gap is very small, may be inaccurate.\n",
      "Starting problem instance 1422 of 2000 with n = 8\n"
     ]
    },
    {
     "name": "stderr",
     "output_type": "stream",
     "text": [
      "100%|██████████| 1000/1000 [00:06<00:00, 154.54it/s]\n"
     ]
    },
    {
     "name": "stdout",
     "output_type": "stream",
     "text": [
      "\t\tTotal time for config: 6.478138446807861\n",
      "Instance 1422, T = 1.0, Proposal = MALA_MC, Acceptance = metropolis, Gap = 0.0000\n",
      "Warning: Gap is very small, may be inaccurate.\n",
      "Starting problem instance 1423 of 2000 with n = 9\n"
     ]
    },
    {
     "name": "stderr",
     "output_type": "stream",
     "text": [
      "100%|██████████| 1000/1000 [00:08<00:00, 121.03it/s]\n"
     ]
    },
    {
     "name": "stdout",
     "output_type": "stream",
     "text": [
      "\t\tTotal time for config: 8.265935182571411\n",
      "Instance 1423, T = 1.0, Proposal = MALA_MC, Acceptance = metropolis, Gap = 0.0000\n",
      "Warning: Gap is very small, may be inaccurate.\n",
      "Starting problem instance 1424 of 2000 with n = 10\n"
     ]
    },
    {
     "name": "stderr",
     "output_type": "stream",
     "text": [
      "100%|██████████| 1000/1000 [17:11:37<00:00, 61.90s/it]    \n"
     ]
    },
    {
     "name": "stdout",
     "output_type": "stream",
     "text": [
      "\t\tTotal time for config: 61897.007449150085\n",
      "Instance 1424, T = 1.0, Proposal = MALA_MC, Acceptance = metropolis, Gap = 0.0000\n",
      "Warning: Gap is very small, may be inaccurate.\n",
      "Starting problem instance 1425 of 2000 with n = 3\n"
     ]
    },
    {
     "name": "stderr",
     "output_type": "stream",
     "text": [
      "100%|██████████| 1000/1000 [00:03<00:00, 303.20it/s]\n"
     ]
    },
    {
     "name": "stdout",
     "output_type": "stream",
     "text": [
      "\t\tTotal time for config: 3.309130907058716\n",
      "Instance 1425, T = 1.0, Proposal = MALA_MC, Acceptance = metropolis, Gap = 0.3122\n",
      "Starting problem instance 1426 of 2000 with n = 4\n"
     ]
    },
    {
     "name": "stderr",
     "output_type": "stream",
     "text": [
      "100%|██████████| 1000/1000 [00:02<00:00, 373.31it/s]\n"
     ]
    },
    {
     "name": "stdout",
     "output_type": "stream",
     "text": [
      "\t\tTotal time for config: 2.6875789165496826\n",
      "Instance 1426, T = 1.0, Proposal = MALA_MC, Acceptance = metropolis, Gap = 0.6956\n",
      "Starting problem instance 1427 of 2000 with n = 5\n"
     ]
    },
    {
     "name": "stderr",
     "output_type": "stream",
     "text": [
      "100%|██████████| 1000/1000 [00:02<00:00, 373.25it/s]\n"
     ]
    },
    {
     "name": "stdout",
     "output_type": "stream",
     "text": [
      "\t\tTotal time for config: 2.683056592941284\n",
      "Instance 1427, T = 1.0, Proposal = MALA_MC, Acceptance = metropolis, Gap = 0.0000\n",
      "Warning: Gap is very small, may be inaccurate.\n",
      "Starting problem instance 1428 of 2000 with n = 6\n"
     ]
    },
    {
     "name": "stderr",
     "output_type": "stream",
     "text": [
      "100%|██████████| 1000/1000 [00:02<00:00, 355.94it/s]\n"
     ]
    },
    {
     "name": "stdout",
     "output_type": "stream",
     "text": [
      "\t\tTotal time for config: 2.81817889213562\n",
      "Instance 1428, T = 1.0, Proposal = MALA_MC, Acceptance = metropolis, Gap = 0.7273\n",
      "Starting problem instance 1429 of 2000 with n = 7\n"
     ]
    },
    {
     "name": "stderr",
     "output_type": "stream",
     "text": [
      "100%|██████████| 1000/1000 [00:03<00:00, 292.08it/s]\n"
     ]
    },
    {
     "name": "stdout",
     "output_type": "stream",
     "text": [
      "\t\tTotal time for config: 3.430239677429199\n",
      "Instance 1429, T = 1.0, Proposal = MALA_MC, Acceptance = metropolis, Gap = 0.0000\n",
      "Warning: Gap is very small, may be inaccurate.\n",
      "Starting problem instance 1430 of 2000 with n = 8\n"
     ]
    },
    {
     "name": "stderr",
     "output_type": "stream",
     "text": [
      "100%|██████████| 1000/1000 [00:04<00:00, 222.49it/s]\n"
     ]
    },
    {
     "name": "stdout",
     "output_type": "stream",
     "text": [
      "\t\tTotal time for config: 4.500624895095825\n",
      "Instance 1430, T = 1.0, Proposal = MALA_MC, Acceptance = metropolis, Gap = 0.0000\n",
      "Warning: Gap is very small, may be inaccurate.\n",
      "Starting problem instance 1431 of 2000 with n = 9\n"
     ]
    },
    {
     "name": "stderr",
     "output_type": "stream",
     "text": [
      "100%|██████████| 1000/1000 [00:06<00:00, 164.68it/s]\n"
     ]
    },
    {
     "name": "stdout",
     "output_type": "stream",
     "text": [
      "\t\tTotal time for config: 6.0734474658966064\n",
      "Instance 1431, T = 1.0, Proposal = MALA_MC, Acceptance = metropolis, Gap = 0.0000\n",
      "Warning: Gap is very small, may be inaccurate.\n",
      "Starting problem instance 1432 of 2000 with n = 10\n"
     ]
    },
    {
     "name": "stderr",
     "output_type": "stream",
     "text": [
      "100%|██████████| 1000/1000 [00:09<00:00, 104.42it/s]\n"
     ]
    },
    {
     "name": "stdout",
     "output_type": "stream",
     "text": [
      "\t\tTotal time for config: 9.580248832702637\n",
      "Instance 1432, T = 1.0, Proposal = MALA_MC, Acceptance = metropolis, Gap = 0.0000\n",
      "Warning: Gap is very small, may be inaccurate.\n",
      "Starting problem instance 1433 of 2000 with n = 3\n"
     ]
    },
    {
     "name": "stderr",
     "output_type": "stream",
     "text": [
      "100%|██████████| 1000/1000 [00:01<00:00, 692.60it/s]\n"
     ]
    },
    {
     "name": "stdout",
     "output_type": "stream",
     "text": [
      "\t\tTotal time for config: 1.4456629753112793\n",
      "Instance 1433, T = 1.0, Proposal = MALA_MC, Acceptance = metropolis, Gap = 0.6644\n",
      "Starting problem instance 1434 of 2000 with n = 4\n"
     ]
    },
    {
     "name": "stderr",
     "output_type": "stream",
     "text": [
      "100%|██████████| 1000/1000 [00:02<00:00, 441.53it/s]\n"
     ]
    },
    {
     "name": "stdout",
     "output_type": "stream",
     "text": [
      "\t\tTotal time for config: 2.270275831222534\n",
      "Instance 1434, T = 1.0, Proposal = MALA_MC, Acceptance = metropolis, Gap = 0.5955\n",
      "Starting problem instance 1435 of 2000 with n = 5\n"
     ]
    },
    {
     "name": "stderr",
     "output_type": "stream",
     "text": [
      "100%|██████████| 1000/1000 [00:01<00:00, 611.56it/s]\n"
     ]
    },
    {
     "name": "stdout",
     "output_type": "stream",
     "text": [
      "\t\tTotal time for config: 1.6381666660308838\n",
      "Instance 1435, T = 1.0, Proposal = MALA_MC, Acceptance = metropolis, Gap = 0.4895\n",
      "Starting problem instance 1436 of 2000 with n = 6\n"
     ]
    },
    {
     "name": "stderr",
     "output_type": "stream",
     "text": [
      "100%|██████████| 1000/1000 [00:02<00:00, 478.68it/s]\n"
     ]
    },
    {
     "name": "stdout",
     "output_type": "stream",
     "text": [
      "\t\tTotal time for config: 2.0902209281921387\n",
      "Instance 1436, T = 1.0, Proposal = MALA_MC, Acceptance = metropolis, Gap = 0.5775\n",
      "Starting problem instance 1437 of 2000 with n = 7\n"
     ]
    },
    {
     "name": "stderr",
     "output_type": "stream",
     "text": [
      "100%|██████████| 1000/1000 [00:01<00:00, 545.65it/s]\n"
     ]
    },
    {
     "name": "stdout",
     "output_type": "stream",
     "text": [
      "\t\tTotal time for config: 1.84053373336792\n",
      "Instance 1437, T = 1.0, Proposal = MALA_MC, Acceptance = metropolis, Gap = 0.0012\n",
      "Starting problem instance 1438 of 2000 with n = 8\n"
     ]
    },
    {
     "name": "stderr",
     "output_type": "stream",
     "text": [
      "100%|██████████| 1000/1000 [00:02<00:00, 451.66it/s]\n"
     ]
    },
    {
     "name": "stdout",
     "output_type": "stream",
     "text": [
      "\t\tTotal time for config: 2.217033624649048\n",
      "Instance 1438, T = 1.0, Proposal = MALA_MC, Acceptance = metropolis, Gap = 0.0000\n",
      "Warning: Gap is very small, may be inaccurate.\n",
      "Starting problem instance 1439 of 2000 with n = 9\n"
     ]
    },
    {
     "name": "stderr",
     "output_type": "stream",
     "text": [
      "100%|██████████| 1000/1000 [00:03<00:00, 267.38it/s]\n"
     ]
    },
    {
     "name": "stdout",
     "output_type": "stream",
     "text": [
      "\t\tTotal time for config: 3.739946126937866\n",
      "Instance 1439, T = 1.0, Proposal = MALA_MC, Acceptance = metropolis, Gap = 0.0000\n",
      "Warning: Gap is very small, may be inaccurate.\n",
      "Starting problem instance 1440 of 2000 with n = 10\n"
     ]
    },
    {
     "name": "stderr",
     "output_type": "stream",
     "text": [
      "100%|██████████| 1000/1000 [00:06<00:00, 146.68it/s]\n"
     ]
    },
    {
     "name": "stdout",
     "output_type": "stream",
     "text": [
      "\t\tTotal time for config: 6.821689605712891\n",
      "Instance 1440, T = 1.0, Proposal = MALA_MC, Acceptance = metropolis, Gap = 0.0000\n",
      "Warning: Gap is very small, may be inaccurate.\n",
      "Starting problem instance 1441 of 2000 with n = 3\n"
     ]
    },
    {
     "name": "stderr",
     "output_type": "stream",
     "text": [
      "100%|██████████| 1000/1000 [00:00<00:00, 1275.74it/s]\n"
     ]
    },
    {
     "name": "stdout",
     "output_type": "stream",
     "text": [
      "\t\tTotal time for config: 0.7921764850616455\n",
      "Instance 1441, T = 1.0, Proposal = MALA_MC, Acceptance = metropolis, Gap = 0.7626\n",
      "Starting problem instance 1442 of 2000 with n = 4\n"
     ]
    },
    {
     "name": "stderr",
     "output_type": "stream",
     "text": [
      "100%|██████████| 1000/1000 [00:01<00:00, 826.70it/s]\n"
     ]
    },
    {
     "name": "stdout",
     "output_type": "stream",
     "text": [
      "\t\tTotal time for config: 1.2137668132781982\n",
      "Instance 1442, T = 1.0, Proposal = MALA_MC, Acceptance = metropolis, Gap = 0.7559\n",
      "Starting problem instance 1443 of 2000 with n = 5\n"
     ]
    },
    {
     "name": "stderr",
     "output_type": "stream",
     "text": [
      "100%|██████████| 1000/1000 [00:01<00:00, 656.66it/s]\n"
     ]
    },
    {
     "name": "stdout",
     "output_type": "stream",
     "text": [
      "\t\tTotal time for config: 1.5279240608215332\n",
      "Instance 1443, T = 1.0, Proposal = MALA_MC, Acceptance = metropolis, Gap = 0.7278\n",
      "Starting problem instance 1444 of 2000 with n = 6\n"
     ]
    },
    {
     "name": "stderr",
     "output_type": "stream",
     "text": [
      "100%|██████████| 1000/1000 [00:01<00:00, 548.03it/s]\n"
     ]
    },
    {
     "name": "stdout",
     "output_type": "stream",
     "text": [
      "\t\tTotal time for config: 1.8299391269683838\n",
      "Instance 1444, T = 1.0, Proposal = MALA_MC, Acceptance = metropolis, Gap = 0.1419\n",
      "Starting problem instance 1445 of 2000 with n = 7\n"
     ]
    },
    {
     "name": "stderr",
     "output_type": "stream",
     "text": [
      "100%|██████████| 1000/1000 [00:02<00:00, 435.97it/s]\n"
     ]
    },
    {
     "name": "stdout",
     "output_type": "stream",
     "text": [
      "\t\tTotal time for config: 2.29902720451355\n",
      "Instance 1445, T = 1.0, Proposal = MALA_MC, Acceptance = metropolis, Gap = 0.0000\n",
      "Warning: Gap is very small, may be inaccurate.\n",
      "Starting problem instance 1446 of 2000 with n = 8\n"
     ]
    },
    {
     "name": "stderr",
     "output_type": "stream",
     "text": [
      "100%|██████████| 1000/1000 [00:02<00:00, 399.97it/s]\n"
     ]
    },
    {
     "name": "stdout",
     "output_type": "stream",
     "text": [
      "\t\tTotal time for config: 2.500159502029419\n",
      "Instance 1446, T = 1.0, Proposal = MALA_MC, Acceptance = metropolis, Gap = 0.0000\n",
      "Warning: Gap is very small, may be inaccurate.\n",
      "Starting problem instance 1447 of 2000 with n = 9\n"
     ]
    },
    {
     "name": "stderr",
     "output_type": "stream",
     "text": [
      "100%|██████████| 1000/1000 [00:04<00:00, 238.99it/s]\n"
     ]
    },
    {
     "name": "stdout",
     "output_type": "stream",
     "text": [
      "\t\tTotal time for config: 4.189743518829346\n",
      "Instance 1447, T = 1.0, Proposal = MALA_MC, Acceptance = metropolis, Gap = 0.0000\n",
      "Warning: Gap is very small, may be inaccurate.\n",
      "Starting problem instance 1448 of 2000 with n = 10\n"
     ]
    },
    {
     "name": "stderr",
     "output_type": "stream",
     "text": [
      "100%|██████████| 1000/1000 [00:06<00:00, 145.99it/s]\n"
     ]
    },
    {
     "name": "stdout",
     "output_type": "stream",
     "text": [
      "\t\tTotal time for config: 6.849911689758301\n",
      "Instance 1448, T = 1.0, Proposal = MALA_MC, Acceptance = metropolis, Gap = 0.0000\n",
      "Warning: Gap is very small, may be inaccurate.\n",
      "Starting problem instance 1449 of 2000 with n = 3\n"
     ]
    },
    {
     "name": "stderr",
     "output_type": "stream",
     "text": [
      "100%|██████████| 1000/1000 [00:00<00:00, 1411.50it/s]\n"
     ]
    },
    {
     "name": "stdout",
     "output_type": "stream",
     "text": [
      "\t\tTotal time for config: 0.7131490707397461\n",
      "Instance 1449, T = 1.0, Proposal = MALA_MC, Acceptance = metropolis, Gap = 0.6878\n",
      "Starting problem instance 1450 of 2000 with n = 4\n"
     ]
    },
    {
     "name": "stderr",
     "output_type": "stream",
     "text": [
      "100%|██████████| 1000/1000 [00:01<00:00, 849.15it/s]\n"
     ]
    },
    {
     "name": "stdout",
     "output_type": "stream",
     "text": [
      "\t\tTotal time for config: 1.181535243988037\n",
      "Instance 1450, T = 1.0, Proposal = MALA_MC, Acceptance = metropolis, Gap = 0.6236\n",
      "Starting problem instance 1451 of 2000 with n = 5\n"
     ]
    },
    {
     "name": "stderr",
     "output_type": "stream",
     "text": [
      "100%|██████████| 1000/1000 [00:01<00:00, 552.33it/s]\n"
     ]
    },
    {
     "name": "stdout",
     "output_type": "stream",
     "text": [
      "\t\tTotal time for config: 1.8236896991729736\n",
      "Instance 1451, T = 1.0, Proposal = MALA_MC, Acceptance = metropolis, Gap = 0.3928\n",
      "Starting problem instance 1452 of 2000 with n = 6\n"
     ]
    },
    {
     "name": "stderr",
     "output_type": "stream",
     "text": [
      "100%|██████████| 1000/1000 [00:01<00:00, 531.94it/s]\n"
     ]
    },
    {
     "name": "stdout",
     "output_type": "stream",
     "text": [
      "\t\tTotal time for config: 1.8799018859863281\n",
      "Instance 1452, T = 1.0, Proposal = MALA_MC, Acceptance = metropolis, Gap = 0.0000\n",
      "Warning: Gap is very small, may be inaccurate.\n",
      "Starting problem instance 1453 of 2000 with n = 7\n"
     ]
    },
    {
     "name": "stderr",
     "output_type": "stream",
     "text": [
      "100%|██████████| 1000/1000 [00:02<00:00, 385.09it/s]\n"
     ]
    },
    {
     "name": "stdout",
     "output_type": "stream",
     "text": [
      "\t\tTotal time for config: 2.5967817306518555\n",
      "Instance 1453, T = 1.0, Proposal = MALA_MC, Acceptance = metropolis, Gap = 0.0000\n",
      "Warning: Gap is very small, may be inaccurate.\n",
      "Starting problem instance 1454 of 2000 with n = 8\n"
     ]
    },
    {
     "name": "stderr",
     "output_type": "stream",
     "text": [
      "100%|██████████| 1000/1000 [00:02<00:00, 384.14it/s]\n"
     ]
    },
    {
     "name": "stdout",
     "output_type": "stream",
     "text": [
      "\t\tTotal time for config: 2.6031949520111084\n",
      "Instance 1454, T = 1.0, Proposal = MALA_MC, Acceptance = metropolis, Gap = 0.0000\n",
      "Warning: Gap is very small, may be inaccurate.\n",
      "Starting problem instance 1455 of 2000 with n = 9\n"
     ]
    },
    {
     "name": "stderr",
     "output_type": "stream",
     "text": [
      "100%|██████████| 1000/1000 [00:03<00:00, 327.15it/s]\n"
     ]
    },
    {
     "name": "stdout",
     "output_type": "stream",
     "text": [
      "\t\tTotal time for config: 3.0577428340911865\n",
      "Instance 1455, T = 1.0, Proposal = MALA_MC, Acceptance = metropolis, Gap = 0.0000\n",
      "Warning: Gap is very small, may be inaccurate.\n",
      "Starting problem instance 1456 of 2000 with n = 10\n"
     ]
    },
    {
     "name": "stderr",
     "output_type": "stream",
     "text": [
      "100%|██████████| 1000/1000 [00:05<00:00, 177.63it/s]\n"
     ]
    },
    {
     "name": "stdout",
     "output_type": "stream",
     "text": [
      "\t\tTotal time for config: 5.63337254524231\n",
      "Instance 1456, T = 1.0, Proposal = MALA_MC, Acceptance = metropolis, Gap = 0.0000\n",
      "Warning: Gap is very small, may be inaccurate.\n",
      "Starting problem instance 1457 of 2000 with n = 3\n"
     ]
    },
    {
     "name": "stderr",
     "output_type": "stream",
     "text": [
      "100%|██████████| 1000/1000 [00:00<00:00, 1493.71it/s]\n"
     ]
    },
    {
     "name": "stdout",
     "output_type": "stream",
     "text": [
      "\t\tTotal time for config: 0.6704912185668945\n",
      "Instance 1457, T = 1.0, Proposal = MALA_MC, Acceptance = metropolis, Gap = 0.6969\n",
      "Starting problem instance 1458 of 2000 with n = 4\n"
     ]
    },
    {
     "name": "stderr",
     "output_type": "stream",
     "text": [
      "100%|██████████| 1000/1000 [00:00<00:00, 1150.99it/s]\n"
     ]
    },
    {
     "name": "stdout",
     "output_type": "stream",
     "text": [
      "\t\tTotal time for config: 0.8853023052215576\n",
      "Instance 1458, T = 1.0, Proposal = MALA_MC, Acceptance = metropolis, Gap = 0.7599\n",
      "Starting problem instance 1459 of 2000 with n = 5\n"
     ]
    },
    {
     "name": "stderr",
     "output_type": "stream",
     "text": [
      "100%|██████████| 1000/1000 [00:01<00:00, 812.96it/s]\n"
     ]
    },
    {
     "name": "stdout",
     "output_type": "stream",
     "text": [
      "\t\tTotal time for config: 1.23240327835083\n",
      "Instance 1459, T = 1.0, Proposal = MALA_MC, Acceptance = metropolis, Gap = 0.0000\n",
      "Warning: Gap is very small, may be inaccurate.\n",
      "Starting problem instance 1460 of 2000 with n = 6\n"
     ]
    },
    {
     "name": "stderr",
     "output_type": "stream",
     "text": [
      "100%|██████████| 1000/1000 [00:01<00:00, 844.60it/s]\n"
     ]
    },
    {
     "name": "stdout",
     "output_type": "stream",
     "text": [
      "\t\tTotal time for config: 1.199418306350708\n",
      "Instance 1460, T = 1.0, Proposal = MALA_MC, Acceptance = metropolis, Gap = 0.7296\n",
      "Starting problem instance 1461 of 2000 with n = 7\n"
     ]
    },
    {
     "name": "stderr",
     "output_type": "stream",
     "text": [
      "100%|██████████| 1000/1000 [00:01<00:00, 691.81it/s]\n"
     ]
    },
    {
     "name": "stdout",
     "output_type": "stream",
     "text": [
      "\t\tTotal time for config: 1.4459941387176514\n",
      "Instance 1461, T = 1.0, Proposal = MALA_MC, Acceptance = metropolis, Gap = 0.0000\n",
      "Warning: Gap is very small, may be inaccurate.\n",
      "Starting problem instance 1462 of 2000 with n = 8\n"
     ]
    },
    {
     "name": "stderr",
     "output_type": "stream",
     "text": [
      "100%|██████████| 1000/1000 [00:01<00:00, 528.43it/s]\n"
     ]
    },
    {
     "name": "stdout",
     "output_type": "stream",
     "text": [
      "\t\tTotal time for config: 1.892404556274414\n",
      "Instance 1462, T = 1.0, Proposal = MALA_MC, Acceptance = metropolis, Gap = 0.0011\n",
      "Starting problem instance 1463 of 2000 with n = 9\n"
     ]
    },
    {
     "name": "stderr",
     "output_type": "stream",
     "text": [
      "100%|██████████| 1000/1000 [00:02<00:00, 343.11it/s]\n"
     ]
    },
    {
     "name": "stdout",
     "output_type": "stream",
     "text": [
      "\t\tTotal time for config: 2.9159011840820312\n",
      "Instance 1463, T = 1.0, Proposal = MALA_MC, Acceptance = metropolis, Gap = 0.0000\n",
      "Warning: Gap is very small, may be inaccurate.\n",
      "Starting problem instance 1464 of 2000 with n = 10\n"
     ]
    },
    {
     "name": "stderr",
     "output_type": "stream",
     "text": [
      "100%|██████████| 1000/1000 [00:05<00:00, 189.31it/s]\n"
     ]
    },
    {
     "name": "stdout",
     "output_type": "stream",
     "text": [
      "\t\tTotal time for config: 5.282419204711914\n",
      "Instance 1464, T = 1.0, Proposal = MALA_MC, Acceptance = metropolis, Gap = 0.0000\n",
      "Warning: Gap is very small, may be inaccurate.\n",
      "Starting problem instance 1465 of 2000 with n = 3\n"
     ]
    },
    {
     "name": "stderr",
     "output_type": "stream",
     "text": [
      "100%|██████████| 1000/1000 [00:01<00:00, 789.51it/s]\n"
     ]
    },
    {
     "name": "stdout",
     "output_type": "stream",
     "text": [
      "\t\tTotal time for config: 1.2738029956817627\n",
      "Instance 1465, T = 1.0, Proposal = MALA_MC, Acceptance = metropolis, Gap = 0.7163\n",
      "Starting problem instance 1466 of 2000 with n = 4\n"
     ]
    },
    {
     "name": "stderr",
     "output_type": "stream",
     "text": [
      "100%|██████████| 1000/1000 [00:01<00:00, 694.11it/s]\n"
     ]
    },
    {
     "name": "stdout",
     "output_type": "stream",
     "text": [
      "\t\tTotal time for config: 1.4406931400299072\n",
      "Instance 1466, T = 1.0, Proposal = MALA_MC, Acceptance = metropolis, Gap = 0.5080\n",
      "Starting problem instance 1467 of 2000 with n = 5\n"
     ]
    },
    {
     "name": "stderr",
     "output_type": "stream",
     "text": [
      "100%|██████████| 1000/1000 [00:01<00:00, 504.28it/s]\n"
     ]
    },
    {
     "name": "stdout",
     "output_type": "stream",
     "text": [
      "\t\tTotal time for config: 1.9830255508422852\n",
      "Instance 1467, T = 1.0, Proposal = MALA_MC, Acceptance = metropolis, Gap = 0.0000\n",
      "Warning: Gap is very small, may be inaccurate.\n",
      "Starting problem instance 1468 of 2000 with n = 6\n"
     ]
    },
    {
     "name": "stderr",
     "output_type": "stream",
     "text": [
      "100%|██████████| 1000/1000 [00:01<00:00, 698.30it/s]\n"
     ]
    },
    {
     "name": "stdout",
     "output_type": "stream",
     "text": [
      "\t\tTotal time for config: 1.4327242374420166\n",
      "Instance 1468, T = 1.0, Proposal = MALA_MC, Acceptance = metropolis, Gap = 0.0000\n",
      "Warning: Gap is very small, may be inaccurate.\n",
      "Starting problem instance 1469 of 2000 with n = 7\n"
     ]
    },
    {
     "name": "stderr",
     "output_type": "stream",
     "text": [
      "100%|██████████| 1000/1000 [00:02<00:00, 495.95it/s]\n"
     ]
    },
    {
     "name": "stdout",
     "output_type": "stream",
     "text": [
      "\t\tTotal time for config: 2.016334295272827\n",
      "Instance 1469, T = 1.0, Proposal = MALA_MC, Acceptance = metropolis, Gap = 0.0000\n",
      "Warning: Gap is very small, may be inaccurate.\n",
      "Starting problem instance 1470 of 2000 with n = 8\n"
     ]
    },
    {
     "name": "stderr",
     "output_type": "stream",
     "text": [
      "100%|██████████| 1000/1000 [00:03<00:00, 300.36it/s]\n"
     ]
    },
    {
     "name": "stdout",
     "output_type": "stream",
     "text": [
      "\t\tTotal time for config: 3.3292958736419678\n",
      "Instance 1470, T = 1.0, Proposal = MALA_MC, Acceptance = metropolis, Gap = 0.0000\n",
      "Warning: Gap is very small, may be inaccurate.\n",
      "Starting problem instance 1471 of 2000 with n = 9\n"
     ]
    },
    {
     "name": "stderr",
     "output_type": "stream",
     "text": [
      "100%|██████████| 1000/1000 [00:04<00:00, 201.58it/s]\n"
     ]
    },
    {
     "name": "stdout",
     "output_type": "stream",
     "text": [
      "\t\tTotal time for config: 4.966003894805908\n",
      "Instance 1471, T = 1.0, Proposal = MALA_MC, Acceptance = metropolis, Gap = 0.0000\n",
      "Warning: Gap is very small, may be inaccurate.\n",
      "Starting problem instance 1472 of 2000 with n = 10\n"
     ]
    },
    {
     "name": "stderr",
     "output_type": "stream",
     "text": [
      "100%|██████████| 1000/1000 [00:08<00:00, 112.57it/s]\n"
     ]
    },
    {
     "name": "stdout",
     "output_type": "stream",
     "text": [
      "\t\tTotal time for config: 8.889085292816162\n",
      "Instance 1472, T = 1.0, Proposal = MALA_MC, Acceptance = metropolis, Gap = 0.0000\n",
      "Warning: Gap is very small, may be inaccurate.\n",
      "Starting problem instance 1473 of 2000 with n = 3\n"
     ]
    },
    {
     "name": "stderr",
     "output_type": "stream",
     "text": [
      "100%|██████████| 1000/1000 [00:00<00:00, 1438.83it/s]\n"
     ]
    },
    {
     "name": "stdout",
     "output_type": "stream",
     "text": [
      "\t\tTotal time for config: 0.698005199432373\n",
      "Instance 1473, T = 1.0, Proposal = MALA_MC, Acceptance = metropolis, Gap = 0.0220\n",
      "Starting problem instance 1474 of 2000 with n = 4\n"
     ]
    },
    {
     "name": "stderr",
     "output_type": "stream",
     "text": [
      "100%|██████████| 1000/1000 [00:01<00:00, 759.74it/s]\n"
     ]
    },
    {
     "name": "stdout",
     "output_type": "stream",
     "text": [
      "\t\tTotal time for config: 1.3346529006958008\n",
      "Instance 1474, T = 1.0, Proposal = MALA_MC, Acceptance = metropolis, Gap = 0.5874\n",
      "Starting problem instance 1475 of 2000 with n = 5\n"
     ]
    },
    {
     "name": "stderr",
     "output_type": "stream",
     "text": [
      "100%|██████████| 1000/1000 [00:01<00:00, 808.82it/s]\n"
     ]
    },
    {
     "name": "stdout",
     "output_type": "stream",
     "text": [
      "\t\tTotal time for config: 1.2393877506256104\n",
      "Instance 1475, T = 1.0, Proposal = MALA_MC, Acceptance = metropolis, Gap = 0.0000\n",
      "Warning: Gap is very small, may be inaccurate.\n",
      "Starting problem instance 1476 of 2000 with n = 6\n"
     ]
    },
    {
     "name": "stderr",
     "output_type": "stream",
     "text": [
      "100%|██████████| 1000/1000 [00:01<00:00, 763.28it/s]\n"
     ]
    },
    {
     "name": "stdout",
     "output_type": "stream",
     "text": [
      "\t\tTotal time for config: 1.3111271858215332\n",
      "Instance 1476, T = 1.0, Proposal = MALA_MC, Acceptance = metropolis, Gap = 0.0000\n",
      "Warning: Gap is very small, may be inaccurate.\n",
      "Starting problem instance 1477 of 2000 with n = 7\n"
     ]
    },
    {
     "name": "stderr",
     "output_type": "stream",
     "text": [
      "100%|██████████| 1000/1000 [00:02<00:00, 498.88it/s]\n"
     ]
    },
    {
     "name": "stdout",
     "output_type": "stream",
     "text": [
      "\t\tTotal time for config: 2.0065207481384277\n",
      "Instance 1477, T = 1.0, Proposal = MALA_MC, Acceptance = metropolis, Gap = 0.0000\n",
      "Warning: Gap is very small, may be inaccurate.\n",
      "Starting problem instance 1478 of 2000 with n = 8\n"
     ]
    },
    {
     "name": "stderr",
     "output_type": "stream",
     "text": [
      "100%|██████████| 1000/1000 [00:02<00:00, 382.18it/s]\n"
     ]
    },
    {
     "name": "stdout",
     "output_type": "stream",
     "text": [
      "\t\tTotal time for config: 2.6165647506713867\n",
      "Instance 1478, T = 1.0, Proposal = MALA_MC, Acceptance = metropolis, Gap = 0.0000\n",
      "Warning: Gap is very small, may be inaccurate.\n",
      "Starting problem instance 1479 of 2000 with n = 9\n"
     ]
    },
    {
     "name": "stderr",
     "output_type": "stream",
     "text": [
      "100%|██████████| 1000/1000 [00:03<00:00, 310.83it/s]\n"
     ]
    },
    {
     "name": "stdout",
     "output_type": "stream",
     "text": [
      "\t\tTotal time for config: 3.23239803314209\n",
      "Instance 1479, T = 1.0, Proposal = MALA_MC, Acceptance = metropolis, Gap = 0.0000\n",
      "Warning: Gap is very small, may be inaccurate.\n",
      "Starting problem instance 1480 of 2000 with n = 10\n"
     ]
    },
    {
     "name": "stderr",
     "output_type": "stream",
     "text": [
      "100%|██████████| 1000/1000 [00:09<00:00, 100.26it/s]\n"
     ]
    },
    {
     "name": "stdout",
     "output_type": "stream",
     "text": [
      "\t\tTotal time for config: 9.980757713317871\n",
      "Instance 1480, T = 1.0, Proposal = MALA_MC, Acceptance = metropolis, Gap = 0.0000\n",
      "Warning: Gap is very small, may be inaccurate.\n",
      "Starting problem instance 1481 of 2000 with n = 3\n"
     ]
    },
    {
     "name": "stderr",
     "output_type": "stream",
     "text": [
      "100%|██████████| 1000/1000 [00:01<00:00, 793.48it/s]\n"
     ]
    },
    {
     "name": "stdout",
     "output_type": "stream",
     "text": [
      "\t\tTotal time for config: 1.2602713108062744\n",
      "Instance 1481, T = 1.0, Proposal = MALA_MC, Acceptance = metropolis, Gap = 0.6274\n",
      "Starting problem instance 1482 of 2000 with n = 4\n"
     ]
    },
    {
     "name": "stderr",
     "output_type": "stream",
     "text": [
      "100%|██████████| 1000/1000 [00:01<00:00, 638.15it/s]\n"
     ]
    },
    {
     "name": "stdout",
     "output_type": "stream",
     "text": [
      "\t\tTotal time for config: 1.5732300281524658\n",
      "Instance 1482, T = 1.0, Proposal = MALA_MC, Acceptance = metropolis, Gap = 0.3980\n",
      "Starting problem instance 1483 of 2000 with n = 5\n"
     ]
    },
    {
     "name": "stderr",
     "output_type": "stream",
     "text": [
      "100%|██████████| 1000/1000 [00:01<00:00, 536.07it/s]\n"
     ]
    },
    {
     "name": "stdout",
     "output_type": "stream",
     "text": [
      "\t\tTotal time for config: 1.8732097148895264\n",
      "Instance 1483, T = 1.0, Proposal = MALA_MC, Acceptance = metropolis, Gap = 0.4606\n",
      "Starting problem instance 1484 of 2000 with n = 6\n"
     ]
    },
    {
     "name": "stderr",
     "output_type": "stream",
     "text": [
      "100%|██████████| 1000/1000 [00:01<00:00, 555.46it/s]\n"
     ]
    },
    {
     "name": "stdout",
     "output_type": "stream",
     "text": [
      "\t\tTotal time for config: 1.8003242015838623\n",
      "Instance 1484, T = 1.0, Proposal = MALA_MC, Acceptance = metropolis, Gap = 0.0231\n",
      "Starting problem instance 1485 of 2000 with n = 7\n"
     ]
    },
    {
     "name": "stderr",
     "output_type": "stream",
     "text": [
      "100%|██████████| 1000/1000 [00:02<00:00, 428.87it/s]\n"
     ]
    },
    {
     "name": "stdout",
     "output_type": "stream",
     "text": [
      "\t\tTotal time for config: 2.3316962718963623\n",
      "Instance 1485, T = 1.0, Proposal = MALA_MC, Acceptance = metropolis, Gap = 0.3205\n",
      "Starting problem instance 1486 of 2000 with n = 8\n"
     ]
    },
    {
     "name": "stderr",
     "output_type": "stream",
     "text": [
      "100%|██████████| 1000/1000 [00:02<00:00, 468.68it/s]\n"
     ]
    },
    {
     "name": "stdout",
     "output_type": "stream",
     "text": [
      "\t\tTotal time for config: 2.133638858795166\n",
      "Instance 1486, T = 1.0, Proposal = MALA_MC, Acceptance = metropolis, Gap = 0.0000\n",
      "Warning: Gap is very small, may be inaccurate.\n",
      "Starting problem instance 1487 of 2000 with n = 9\n"
     ]
    },
    {
     "name": "stderr",
     "output_type": "stream",
     "text": [
      "100%|██████████| 1000/1000 [00:04<00:00, 246.87it/s]\n"
     ]
    },
    {
     "name": "stdout",
     "output_type": "stream",
     "text": [
      "\t\tTotal time for config: 4.067018508911133\n",
      "Instance 1487, T = 1.0, Proposal = MALA_MC, Acceptance = metropolis, Gap = 0.0000\n",
      "Warning: Gap is very small, may be inaccurate.\n",
      "Starting problem instance 1488 of 2000 with n = 10\n"
     ]
    },
    {
     "name": "stderr",
     "output_type": "stream",
     "text": [
      "100%|██████████| 1000/1000 [00:06<00:00, 157.48it/s]\n"
     ]
    },
    {
     "name": "stdout",
     "output_type": "stream",
     "text": [
      "\t\tTotal time for config: 6.3501293659210205\n",
      "Instance 1488, T = 1.0, Proposal = MALA_MC, Acceptance = metropolis, Gap = 0.0000\n",
      "Warning: Gap is very small, may be inaccurate.\n",
      "Starting problem instance 1489 of 2000 with n = 3\n"
     ]
    },
    {
     "name": "stderr",
     "output_type": "stream",
     "text": [
      "100%|██████████| 1000/1000 [00:00<00:00, 1333.97it/s]\n"
     ]
    },
    {
     "name": "stdout",
     "output_type": "stream",
     "text": [
      "\t\tTotal time for config: 0.7496392726898193\n",
      "Instance 1489, T = 1.0, Proposal = MALA_MC, Acceptance = metropolis, Gap = 0.3633\n",
      "Starting problem instance 1490 of 2000 with n = 4\n"
     ]
    },
    {
     "name": "stderr",
     "output_type": "stream",
     "text": [
      "100%|██████████| 1000/1000 [00:00<00:00, 1034.06it/s]\n"
     ]
    },
    {
     "name": "stdout",
     "output_type": "stream",
     "text": [
      "\t\tTotal time for config: 0.9670653343200684\n",
      "Instance 1490, T = 1.0, Proposal = MALA_MC, Acceptance = metropolis, Gap = 0.6644\n",
      "Starting problem instance 1491 of 2000 with n = 5\n"
     ]
    },
    {
     "name": "stderr",
     "output_type": "stream",
     "text": [
      "100%|██████████| 1000/1000 [00:01<00:00, 810.67it/s]\n"
     ]
    },
    {
     "name": "stdout",
     "output_type": "stream",
     "text": [
      "\t\tTotal time for config: 1.2335546016693115\n",
      "Instance 1491, T = 1.0, Proposal = MALA_MC, Acceptance = metropolis, Gap = 0.0155\n",
      "Starting problem instance 1492 of 2000 with n = 6\n"
     ]
    },
    {
     "name": "stderr",
     "output_type": "stream",
     "text": [
      "100%|██████████| 1000/1000 [00:01<00:00, 822.22it/s]\n"
     ]
    },
    {
     "name": "stdout",
     "output_type": "stream",
     "text": [
      "\t\tTotal time for config: 1.2162220478057861\n",
      "Instance 1492, T = 1.0, Proposal = MALA_MC, Acceptance = metropolis, Gap = 0.6562\n",
      "Starting problem instance 1493 of 2000 with n = 7\n"
     ]
    },
    {
     "name": "stderr",
     "output_type": "stream",
     "text": [
      "100%|██████████| 1000/1000 [00:01<00:00, 568.89it/s]\n"
     ]
    },
    {
     "name": "stdout",
     "output_type": "stream",
     "text": [
      "\t\tTotal time for config: 1.7578084468841553\n",
      "Instance 1493, T = 1.0, Proposal = MALA_MC, Acceptance = metropolis, Gap = 0.0000\n",
      "Warning: Gap is very small, may be inaccurate.\n",
      "Starting problem instance 1494 of 2000 with n = 8\n"
     ]
    },
    {
     "name": "stderr",
     "output_type": "stream",
     "text": [
      "100%|██████████| 1000/1000 [00:02<00:00, 394.69it/s]\n"
     ]
    },
    {
     "name": "stdout",
     "output_type": "stream",
     "text": [
      "\t\tTotal time for config: 2.5336203575134277\n",
      "Instance 1494, T = 1.0, Proposal = MALA_MC, Acceptance = metropolis, Gap = 0.0000\n",
      "Warning: Gap is very small, may be inaccurate.\n",
      "Starting problem instance 1495 of 2000 with n = 9\n"
     ]
    },
    {
     "name": "stderr",
     "output_type": "stream",
     "text": [
      "100%|██████████| 1000/1000 [00:03<00:00, 270.29it/s]\n"
     ]
    },
    {
     "name": "stdout",
     "output_type": "stream",
     "text": [
      "\t\tTotal time for config: 3.716171979904175\n",
      "Instance 1495, T = 1.0, Proposal = MALA_MC, Acceptance = metropolis, Gap = 0.0000\n",
      "Warning: Gap is very small, may be inaccurate.\n",
      "Starting problem instance 1496 of 2000 with n = 10\n"
     ]
    },
    {
     "name": "stderr",
     "output_type": "stream",
     "text": [
      "100%|██████████| 1000/1000 [00:06<00:00, 145.64it/s]\n"
     ]
    },
    {
     "name": "stdout",
     "output_type": "stream",
     "text": [
      "\t\tTotal time for config: 6.8661792278289795\n",
      "Instance 1496, T = 1.0, Proposal = MALA_MC, Acceptance = metropolis, Gap = 0.0000\n",
      "Warning: Gap is very small, may be inaccurate.\n",
      "Starting problem instance 1497 of 2000 with n = 3\n"
     ]
    },
    {
     "name": "stderr",
     "output_type": "stream",
     "text": [
      "100%|██████████| 1000/1000 [00:00<00:00, 1300.01it/s]\n"
     ]
    },
    {
     "name": "stdout",
     "output_type": "stream",
     "text": [
      "\t\tTotal time for config: 0.7866356372833252\n",
      "Instance 1497, T = 1.0, Proposal = MALA_MC, Acceptance = metropolis, Gap = 0.7998\n",
      "Starting problem instance 1498 of 2000 with n = 4\n"
     ]
    },
    {
     "name": "stderr",
     "output_type": "stream",
     "text": [
      "100%|██████████| 1000/1000 [00:01<00:00, 777.83it/s]\n"
     ]
    },
    {
     "name": "stdout",
     "output_type": "stream",
     "text": [
      "\t\tTotal time for config: 1.288559913635254\n",
      "Instance 1498, T = 1.0, Proposal = MALA_MC, Acceptance = metropolis, Gap = 0.2280\n",
      "Starting problem instance 1499 of 2000 with n = 5\n"
     ]
    },
    {
     "name": "stderr",
     "output_type": "stream",
     "text": [
      "100%|██████████| 1000/1000 [00:01<00:00, 631.59it/s]\n"
     ]
    },
    {
     "name": "stdout",
     "output_type": "stream",
     "text": [
      "\t\tTotal time for config: 1.583317756652832\n",
      "Instance 1499, T = 1.0, Proposal = MALA_MC, Acceptance = metropolis, Gap = 0.0000\n",
      "Warning: Gap is very small, may be inaccurate.\n",
      "Starting problem instance 1500 of 2000 with n = 6\n"
     ]
    },
    {
     "name": "stderr",
     "output_type": "stream",
     "text": [
      "100%|██████████| 1000/1000 [00:01<00:00, 698.33it/s]\n"
     ]
    },
    {
     "name": "stdout",
     "output_type": "stream",
     "text": [
      "\t\tTotal time for config: 1.4319899082183838\n",
      "Instance 1500, T = 1.0, Proposal = MALA_MC, Acceptance = metropolis, Gap = 0.0000\n",
      "Warning: Gap is very small, may be inaccurate.\n",
      "Starting problem instance 1501 of 2000 with n = 7\n"
     ]
    },
    {
     "name": "stderr",
     "output_type": "stream",
     "text": [
      "100%|██████████| 1000/1000 [00:01<00:00, 517.73it/s]\n"
     ]
    },
    {
     "name": "stdout",
     "output_type": "stream",
     "text": [
      "\t\tTotal time for config: 1.9325203895568848\n",
      "Instance 1501, T = 1.0, Proposal = MALA_MC, Acceptance = metropolis, Gap = 0.0000\n",
      "Warning: Gap is very small, may be inaccurate.\n",
      "Starting problem instance 1502 of 2000 with n = 8\n"
     ]
    },
    {
     "name": "stderr",
     "output_type": "stream",
     "text": [
      "100%|██████████| 1000/1000 [00:02<00:00, 416.04it/s]\n"
     ]
    },
    {
     "name": "stdout",
     "output_type": "stream",
     "text": [
      "\t\tTotal time for config: 2.406611919403076\n",
      "Instance 1502, T = 1.0, Proposal = MALA_MC, Acceptance = metropolis, Gap = 0.0000\n",
      "Warning: Gap is very small, may be inaccurate.\n",
      "Starting problem instance 1503 of 2000 with n = 9\n"
     ]
    },
    {
     "name": "stderr",
     "output_type": "stream",
     "text": [
      "100%|██████████| 1000/1000 [00:03<00:00, 271.01it/s]\n"
     ]
    },
    {
     "name": "stdout",
     "output_type": "stream",
     "text": [
      "\t\tTotal time for config: 3.690840482711792\n",
      "Instance 1503, T = 1.0, Proposal = MALA_MC, Acceptance = metropolis, Gap = 0.0000\n",
      "Warning: Gap is very small, may be inaccurate.\n",
      "Starting problem instance 1504 of 2000 with n = 10\n"
     ]
    },
    {
     "name": "stderr",
     "output_type": "stream",
     "text": [
      "100%|██████████| 1000/1000 [00:06<00:00, 156.17it/s]\n"
     ]
    },
    {
     "name": "stdout",
     "output_type": "stream",
     "text": [
      "\t\tTotal time for config: 6.4064483642578125\n",
      "Instance 1504, T = 1.0, Proposal = MALA_MC, Acceptance = metropolis, Gap = 0.0000\n",
      "Warning: Gap is very small, may be inaccurate.\n",
      "Starting problem instance 1505 of 2000 with n = 3\n"
     ]
    },
    {
     "name": "stderr",
     "output_type": "stream",
     "text": [
      "100%|██████████| 1000/1000 [00:00<00:00, 1267.86it/s]\n"
     ]
    },
    {
     "name": "stdout",
     "output_type": "stream",
     "text": [
      "\t\tTotal time for config: 0.7936341762542725\n",
      "Instance 1505, T = 1.0, Proposal = MALA_MC, Acceptance = metropolis, Gap = 0.8937\n",
      "Starting problem instance 1506 of 2000 with n = 4\n"
     ]
    },
    {
     "name": "stderr",
     "output_type": "stream",
     "text": [
      "100%|██████████| 1000/1000 [00:01<00:00, 999.64it/s]\n"
     ]
    },
    {
     "name": "stdout",
     "output_type": "stream",
     "text": [
      "\t\tTotal time for config: 1.0043516159057617\n",
      "Instance 1506, T = 1.0, Proposal = MALA_MC, Acceptance = metropolis, Gap = 0.1262\n",
      "Starting problem instance 1507 of 2000 with n = 5\n"
     ]
    },
    {
     "name": "stderr",
     "output_type": "stream",
     "text": [
      "100%|██████████| 1000/1000 [00:01<00:00, 796.86it/s]\n"
     ]
    },
    {
     "name": "stdout",
     "output_type": "stream",
     "text": [
      "\t\tTotal time for config: 1.2591984272003174\n",
      "Instance 1507, T = 1.0, Proposal = MALA_MC, Acceptance = metropolis, Gap = 0.7843\n",
      "Starting problem instance 1508 of 2000 with n = 6\n"
     ]
    },
    {
     "name": "stderr",
     "output_type": "stream",
     "text": [
      "100%|██████████| 1000/1000 [00:01<00:00, 780.95it/s]\n"
     ]
    },
    {
     "name": "stdout",
     "output_type": "stream",
     "text": [
      "\t\tTotal time for config: 1.2834293842315674\n",
      "Instance 1508, T = 1.0, Proposal = MALA_MC, Acceptance = metropolis, Gap = 0.6051\n",
      "Starting problem instance 1509 of 2000 with n = 7\n"
     ]
    },
    {
     "name": "stderr",
     "output_type": "stream",
     "text": [
      "100%|██████████| 1000/1000 [00:01<00:00, 566.03it/s]\n"
     ]
    },
    {
     "name": "stdout",
     "output_type": "stream",
     "text": [
      "\t\tTotal time for config: 1.7705893516540527\n",
      "Instance 1509, T = 1.0, Proposal = MALA_MC, Acceptance = metropolis, Gap = 0.4856\n",
      "Starting problem instance 1510 of 2000 with n = 8\n"
     ]
    },
    {
     "name": "stderr",
     "output_type": "stream",
     "text": [
      "100%|██████████| 1000/1000 [00:02<00:00, 465.97it/s]\n"
     ]
    },
    {
     "name": "stdout",
     "output_type": "stream",
     "text": [
      "\t\tTotal time for config: 2.15014386177063\n",
      "Instance 1510, T = 1.0, Proposal = MALA_MC, Acceptance = metropolis, Gap = 0.0000\n",
      "Warning: Gap is very small, may be inaccurate.\n",
      "Starting problem instance 1511 of 2000 with n = 9\n"
     ]
    },
    {
     "name": "stderr",
     "output_type": "stream",
     "text": [
      "100%|██████████| 1000/1000 [00:03<00:00, 266.00it/s]\n"
     ]
    },
    {
     "name": "stdout",
     "output_type": "stream",
     "text": [
      "\t\tTotal time for config: 3.761385202407837\n",
      "Instance 1511, T = 1.0, Proposal = MALA_MC, Acceptance = metropolis, Gap = 0.0000\n",
      "Warning: Gap is very small, may be inaccurate.\n",
      "Starting problem instance 1512 of 2000 with n = 10\n"
     ]
    },
    {
     "name": "stderr",
     "output_type": "stream",
     "text": [
      "100%|██████████| 1000/1000 [00:07<00:00, 139.88it/s]\n"
     ]
    },
    {
     "name": "stdout",
     "output_type": "stream",
     "text": [
      "\t\tTotal time for config: 7.152702331542969\n",
      "Instance 1512, T = 1.0, Proposal = MALA_MC, Acceptance = metropolis, Gap = 0.0000\n",
      "Warning: Gap is very small, may be inaccurate.\n",
      "Starting problem instance 1513 of 2000 with n = 3\n"
     ]
    },
    {
     "name": "stderr",
     "output_type": "stream",
     "text": [
      "100%|██████████| 1000/1000 [00:00<00:00, 1379.24it/s]\n"
     ]
    },
    {
     "name": "stdout",
     "output_type": "stream",
     "text": [
      "\t\tTotal time for config: 0.7290303707122803\n",
      "Instance 1513, T = 1.0, Proposal = MALA_MC, Acceptance = metropolis, Gap = 0.7755\n",
      "Starting problem instance 1514 of 2000 with n = 4\n"
     ]
    },
    {
     "name": "stderr",
     "output_type": "stream",
     "text": [
      "100%|██████████| 1000/1000 [00:00<00:00, 1011.21it/s]\n"
     ]
    },
    {
     "name": "stdout",
     "output_type": "stream",
     "text": [
      "\t\tTotal time for config: 0.9918830394744873\n",
      "Instance 1514, T = 1.0, Proposal = MALA_MC, Acceptance = metropolis, Gap = 0.3014\n",
      "Starting problem instance 1515 of 2000 with n = 5\n"
     ]
    },
    {
     "name": "stderr",
     "output_type": "stream",
     "text": [
      "100%|██████████| 1000/1000 [00:01<00:00, 689.98it/s]\n"
     ]
    },
    {
     "name": "stdout",
     "output_type": "stream",
     "text": [
      "\t\tTotal time for config: 1.4523253440856934\n",
      "Instance 1515, T = 1.0, Proposal = MALA_MC, Acceptance = metropolis, Gap = 0.0097\n",
      "Starting problem instance 1516 of 2000 with n = 6\n"
     ]
    },
    {
     "name": "stderr",
     "output_type": "stream",
     "text": [
      "100%|██████████| 1000/1000 [00:01<00:00, 691.69it/s]\n"
     ]
    },
    {
     "name": "stdout",
     "output_type": "stream",
     "text": [
      "\t\tTotal time for config: 1.4499328136444092\n",
      "Instance 1516, T = 1.0, Proposal = MALA_MC, Acceptance = metropolis, Gap = 0.0683\n",
      "Starting problem instance 1517 of 2000 with n = 7\n"
     ]
    },
    {
     "name": "stderr",
     "output_type": "stream",
     "text": [
      "100%|██████████| 1000/1000 [00:02<00:00, 491.92it/s]\n"
     ]
    },
    {
     "name": "stdout",
     "output_type": "stream",
     "text": [
      "\t\tTotal time for config: 2.0389537811279297\n",
      "Instance 1517, T = 1.0, Proposal = MALA_MC, Acceptance = metropolis, Gap = 0.0000\n",
      "Warning: Gap is very small, may be inaccurate.\n",
      "Starting problem instance 1518 of 2000 with n = 8\n"
     ]
    },
    {
     "name": "stderr",
     "output_type": "stream",
     "text": [
      "100%|██████████| 1000/1000 [00:02<00:00, 449.37it/s]\n"
     ]
    },
    {
     "name": "stdout",
     "output_type": "stream",
     "text": [
      "\t\tTotal time for config: 2.2333638668060303\n",
      "Instance 1518, T = 1.0, Proposal = MALA_MC, Acceptance = metropolis, Gap = 0.0000\n",
      "Warning: Gap is very small, may be inaccurate.\n",
      "Starting problem instance 1519 of 2000 with n = 9\n"
     ]
    },
    {
     "name": "stderr",
     "output_type": "stream",
     "text": [
      "100%|██████████| 1000/1000 [00:03<00:00, 278.95it/s]\n"
     ]
    },
    {
     "name": "stdout",
     "output_type": "stream",
     "text": [
      "\t\tTotal time for config: 3.5889217853546143\n",
      "Instance 1519, T = 1.0, Proposal = MALA_MC, Acceptance = metropolis, Gap = 0.0000\n",
      "Warning: Gap is very small, may be inaccurate.\n",
      "Starting problem instance 1520 of 2000 with n = 10\n"
     ]
    },
    {
     "name": "stderr",
     "output_type": "stream",
     "text": [
      "100%|██████████| 1000/1000 [00:07<00:00, 136.86it/s]\n"
     ]
    },
    {
     "name": "stdout",
     "output_type": "stream",
     "text": [
      "\t\tTotal time for config: 7.3103485107421875\n",
      "Instance 1520, T = 1.0, Proposal = MALA_MC, Acceptance = metropolis, Gap = 0.0000\n",
      "Warning: Gap is very small, may be inaccurate.\n",
      "Starting problem instance 1521 of 2000 with n = 3\n"
     ]
    },
    {
     "name": "stderr",
     "output_type": "stream",
     "text": [
      "100%|██████████| 1000/1000 [00:00<00:00, 1359.63it/s]\n"
     ]
    },
    {
     "name": "stdout",
     "output_type": "stream",
     "text": [
      "\t\tTotal time for config: 0.7394819259643555\n",
      "Instance 1521, T = 1.0, Proposal = MALA_MC, Acceptance = metropolis, Gap = 0.3619\n",
      "Starting problem instance 1522 of 2000 with n = 4\n"
     ]
    },
    {
     "name": "stderr",
     "output_type": "stream",
     "text": [
      "100%|██████████| 1000/1000 [00:01<00:00, 873.50it/s]\n"
     ]
    },
    {
     "name": "stdout",
     "output_type": "stream",
     "text": [
      "\t\tTotal time for config: 1.1488237380981445\n",
      "Instance 1522, T = 1.0, Proposal = MALA_MC, Acceptance = metropolis, Gap = 0.5322\n",
      "Starting problem instance 1523 of 2000 with n = 5\n"
     ]
    },
    {
     "name": "stderr",
     "output_type": "stream",
     "text": [
      "100%|██████████| 1000/1000 [00:01<00:00, 748.72it/s]\n"
     ]
    },
    {
     "name": "stdout",
     "output_type": "stream",
     "text": [
      "\t\tTotal time for config: 1.3386046886444092\n",
      "Instance 1523, T = 1.0, Proposal = MALA_MC, Acceptance = metropolis, Gap = 0.0013\n",
      "Starting problem instance 1524 of 2000 with n = 6\n"
     ]
    },
    {
     "name": "stderr",
     "output_type": "stream",
     "text": [
      "100%|██████████| 1000/1000 [00:01<00:00, 654.34it/s]\n"
     ]
    },
    {
     "name": "stdout",
     "output_type": "stream",
     "text": [
      "\t\tTotal time for config: 1.5332839488983154\n",
      "Instance 1524, T = 1.0, Proposal = MALA_MC, Acceptance = metropolis, Gap = 0.0000\n",
      "Warning: Gap is very small, may be inaccurate.\n",
      "Starting problem instance 1525 of 2000 with n = 7\n"
     ]
    },
    {
     "name": "stderr",
     "output_type": "stream",
     "text": [
      "100%|██████████| 1000/1000 [00:02<00:00, 406.61it/s]\n"
     ]
    },
    {
     "name": "stdout",
     "output_type": "stream",
     "text": [
      "\t\tTotal time for config: 2.4635345935821533\n",
      "Instance 1525, T = 1.0, Proposal = MALA_MC, Acceptance = metropolis, Gap = 0.0077\n",
      "Starting problem instance 1526 of 2000 with n = 8\n"
     ]
    },
    {
     "name": "stderr",
     "output_type": "stream",
     "text": [
      "100%|██████████| 1000/1000 [00:02<00:00, 359.79it/s]\n"
     ]
    },
    {
     "name": "stdout",
     "output_type": "stream",
     "text": [
      "\t\tTotal time for config: 2.785392999649048\n",
      "Instance 1526, T = 1.0, Proposal = MALA_MC, Acceptance = metropolis, Gap = 0.0000\n",
      "Warning: Gap is very small, may be inaccurate.\n",
      "Starting problem instance 1527 of 2000 with n = 9\n"
     ]
    },
    {
     "name": "stderr",
     "output_type": "stream",
     "text": [
      "100%|██████████| 1000/1000 [00:03<00:00, 265.92it/s]\n"
     ]
    },
    {
     "name": "stdout",
     "output_type": "stream",
     "text": [
      "\t\tTotal time for config: 3.7644848823547363\n",
      "Instance 1527, T = 1.0, Proposal = MALA_MC, Acceptance = metropolis, Gap = 0.0000\n",
      "Warning: Gap is very small, may be inaccurate.\n",
      "Starting problem instance 1528 of 2000 with n = 10\n"
     ]
    },
    {
     "name": "stderr",
     "output_type": "stream",
     "text": [
      "100%|██████████| 1000/1000 [00:07<00:00, 128.25it/s]\n"
     ]
    },
    {
     "name": "stdout",
     "output_type": "stream",
     "text": [
      "\t\tTotal time for config: 7.801607370376587\n",
      "Instance 1528, T = 1.0, Proposal = MALA_MC, Acceptance = metropolis, Gap = 0.0000\n",
      "Warning: Gap is very small, may be inaccurate.\n",
      "Starting problem instance 1529 of 2000 with n = 3\n"
     ]
    },
    {
     "name": "stderr",
     "output_type": "stream",
     "text": [
      "100%|██████████| 1000/1000 [00:01<00:00, 886.44it/s]\n"
     ]
    },
    {
     "name": "stdout",
     "output_type": "stream",
     "text": [
      "\t\tTotal time for config: 1.1321165561676025\n",
      "Instance 1529, T = 1.0, Proposal = MALA_MC, Acceptance = metropolis, Gap = 0.7248\n",
      "Starting problem instance 1530 of 2000 with n = 4\n"
     ]
    },
    {
     "name": "stderr",
     "output_type": "stream",
     "text": [
      "100%|██████████| 1000/1000 [00:01<00:00, 762.89it/s]\n"
     ]
    },
    {
     "name": "stdout",
     "output_type": "stream",
     "text": [
      "\t\tTotal time for config: 1.3138399124145508\n",
      "Instance 1530, T = 1.0, Proposal = MALA_MC, Acceptance = metropolis, Gap = 0.2986\n",
      "Starting problem instance 1531 of 2000 with n = 5\n"
     ]
    },
    {
     "name": "stderr",
     "output_type": "stream",
     "text": [
      "100%|██████████| 1000/1000 [00:01<00:00, 535.60it/s]\n"
     ]
    },
    {
     "name": "stdout",
     "output_type": "stream",
     "text": [
      "\t\tTotal time for config: 1.8701045513153076\n",
      "Instance 1531, T = 1.0, Proposal = MALA_MC, Acceptance = metropolis, Gap = 0.7522\n",
      "Starting problem instance 1532 of 2000 with n = 6\n"
     ]
    },
    {
     "name": "stderr",
     "output_type": "stream",
     "text": [
      "100%|██████████| 1000/1000 [00:01<00:00, 500.43it/s]\n"
     ]
    },
    {
     "name": "stdout",
     "output_type": "stream",
     "text": [
      "\t\tTotal time for config: 2.0026509761810303\n",
      "Instance 1532, T = 1.0, Proposal = MALA_MC, Acceptance = metropolis, Gap = 0.0000\n",
      "Warning: Gap is very small, may be inaccurate.\n",
      "Starting problem instance 1533 of 2000 with n = 7\n"
     ]
    },
    {
     "name": "stderr",
     "output_type": "stream",
     "text": [
      "100%|██████████| 1000/1000 [00:02<00:00, 427.74it/s]\n"
     ]
    },
    {
     "name": "stdout",
     "output_type": "stream",
     "text": [
      "\t\tTotal time for config: 2.3429348468780518\n",
      "Instance 1533, T = 1.0, Proposal = MALA_MC, Acceptance = metropolis, Gap = 0.0000\n",
      "Warning: Gap is very small, may be inaccurate.\n",
      "Starting problem instance 1534 of 2000 with n = 8\n"
     ]
    },
    {
     "name": "stderr",
     "output_type": "stream",
     "text": [
      "100%|██████████| 1000/1000 [00:02<00:00, 385.02it/s]\n"
     ]
    },
    {
     "name": "stdout",
     "output_type": "stream",
     "text": [
      "\t\tTotal time for config: 2.602642297744751\n",
      "Instance 1534, T = 1.0, Proposal = MALA_MC, Acceptance = metropolis, Gap = 0.0305\n",
      "Starting problem instance 1535 of 2000 with n = 9\n"
     ]
    },
    {
     "name": "stderr",
     "output_type": "stream",
     "text": [
      "100%|██████████| 1000/1000 [00:04<00:00, 220.39it/s]\n"
     ]
    },
    {
     "name": "stdout",
     "output_type": "stream",
     "text": [
      "\t\tTotal time for config: 4.540889024734497\n",
      "Instance 1535, T = 1.0, Proposal = MALA_MC, Acceptance = metropolis, Gap = 0.0000\n",
      "Warning: Gap is very small, may be inaccurate.\n",
      "Starting problem instance 1536 of 2000 with n = 10\n"
     ]
    },
    {
     "name": "stderr",
     "output_type": "stream",
     "text": [
      "100%|██████████| 1000/1000 [00:06<00:00, 144.56it/s]\n"
     ]
    },
    {
     "name": "stdout",
     "output_type": "stream",
     "text": [
      "\t\tTotal time for config: 6.92110800743103\n",
      "Instance 1536, T = 1.0, Proposal = MALA_MC, Acceptance = metropolis, Gap = 0.0000\n",
      "Warning: Gap is very small, may be inaccurate.\n",
      "Starting problem instance 1537 of 2000 with n = 3\n"
     ]
    },
    {
     "name": "stderr",
     "output_type": "stream",
     "text": [
      "100%|██████████| 1000/1000 [00:00<00:00, 1344.64it/s]\n"
     ]
    },
    {
     "name": "stdout",
     "output_type": "stream",
     "text": [
      "\t\tTotal time for config: 0.7456839084625244\n",
      "Instance 1537, T = 1.0, Proposal = MALA_MC, Acceptance = metropolis, Gap = 0.0000\n",
      "Warning: Gap is very small, may be inaccurate.\n",
      "Starting problem instance 1538 of 2000 with n = 4\n"
     ]
    },
    {
     "name": "stderr",
     "output_type": "stream",
     "text": [
      "100%|██████████| 1000/1000 [00:01<00:00, 829.00it/s]\n"
     ]
    },
    {
     "name": "stdout",
     "output_type": "stream",
     "text": [
      "\t\tTotal time for config: 1.2120757102966309\n",
      "Instance 1538, T = 1.0, Proposal = MALA_MC, Acceptance = metropolis, Gap = 0.5786\n",
      "Starting problem instance 1539 of 2000 with n = 5\n"
     ]
    },
    {
     "name": "stderr",
     "output_type": "stream",
     "text": [
      "100%|██████████| 1000/1000 [00:01<00:00, 636.96it/s]\n"
     ]
    },
    {
     "name": "stdout",
     "output_type": "stream",
     "text": [
      "\t\tTotal time for config: 1.5729379653930664\n",
      "Instance 1539, T = 1.0, Proposal = MALA_MC, Acceptance = metropolis, Gap = 0.0222\n",
      "Starting problem instance 1540 of 2000 with n = 6\n"
     ]
    },
    {
     "name": "stderr",
     "output_type": "stream",
     "text": [
      "100%|██████████| 1000/1000 [00:01<00:00, 680.58it/s]\n"
     ]
    },
    {
     "name": "stdout",
     "output_type": "stream",
     "text": [
      "\t\tTotal time for config: 1.4713008403778076\n",
      "Instance 1540, T = 1.0, Proposal = MALA_MC, Acceptance = metropolis, Gap = 0.0164\n",
      "Starting problem instance 1541 of 2000 with n = 7\n"
     ]
    },
    {
     "name": "stderr",
     "output_type": "stream",
     "text": [
      "100%|██████████| 1000/1000 [00:01<00:00, 520.07it/s]\n"
     ]
    },
    {
     "name": "stdout",
     "output_type": "stream",
     "text": [
      "\t\tTotal time for config: 1.9262428283691406\n",
      "Instance 1541, T = 1.0, Proposal = MALA_MC, Acceptance = metropolis, Gap = 0.0733\n",
      "Starting problem instance 1542 of 2000 with n = 8\n"
     ]
    },
    {
     "name": "stderr",
     "output_type": "stream",
     "text": [
      "100%|██████████| 1000/1000 [00:02<00:00, 445.52it/s]\n"
     ]
    },
    {
     "name": "stdout",
     "output_type": "stream",
     "text": [
      "\t\tTotal time for config: 2.2477400302886963\n",
      "Instance 1542, T = 1.0, Proposal = MALA_MC, Acceptance = metropolis, Gap = 0.0000\n",
      "Warning: Gap is very small, may be inaccurate.\n",
      "Starting problem instance 1543 of 2000 with n = 9\n"
     ]
    },
    {
     "name": "stderr",
     "output_type": "stream",
     "text": [
      "100%|██████████| 1000/1000 [00:03<00:00, 260.64it/s]\n"
     ]
    },
    {
     "name": "stdout",
     "output_type": "stream",
     "text": [
      "\t\tTotal time for config: 3.840378999710083\n",
      "Instance 1543, T = 1.0, Proposal = MALA_MC, Acceptance = metropolis, Gap = 0.0000\n",
      "Warning: Gap is very small, may be inaccurate.\n",
      "Starting problem instance 1544 of 2000 with n = 10\n"
     ]
    },
    {
     "name": "stderr",
     "output_type": "stream",
     "text": [
      "100%|██████████| 1000/1000 [00:07<00:00, 136.16it/s]\n"
     ]
    },
    {
     "name": "stdout",
     "output_type": "stream",
     "text": [
      "\t\tTotal time for config: 7.348121643066406\n",
      "Instance 1544, T = 1.0, Proposal = MALA_MC, Acceptance = metropolis, Gap = 0.0000\n",
      "Warning: Gap is very small, may be inaccurate.\n",
      "Starting problem instance 1545 of 2000 with n = 3\n"
     ]
    },
    {
     "name": "stderr",
     "output_type": "stream",
     "text": [
      "100%|██████████| 1000/1000 [00:00<00:00, 1446.93it/s]\n"
     ]
    },
    {
     "name": "stdout",
     "output_type": "stream",
     "text": [
      "\t\tTotal time for config: 0.6951241493225098\n",
      "Instance 1545, T = 1.0, Proposal = MALA_MC, Acceptance = metropolis, Gap = 0.9200\n",
      "Starting problem instance 1546 of 2000 with n = 4\n"
     ]
    },
    {
     "name": "stderr",
     "output_type": "stream",
     "text": [
      "100%|██████████| 1000/1000 [00:01<00:00, 821.26it/s]\n"
     ]
    },
    {
     "name": "stdout",
     "output_type": "stream",
     "text": [
      "\t\tTotal time for config: 1.2216179370880127\n",
      "Instance 1546, T = 1.0, Proposal = MALA_MC, Acceptance = metropolis, Gap = 0.7942\n",
      "Starting problem instance 1547 of 2000 with n = 5\n"
     ]
    },
    {
     "name": "stderr",
     "output_type": "stream",
     "text": [
      "100%|██████████| 1000/1000 [00:01<00:00, 790.13it/s]\n"
     ]
    },
    {
     "name": "stdout",
     "output_type": "stream",
     "text": [
      "\t\tTotal time for config: 1.2706022262573242\n",
      "Instance 1547, T = 1.0, Proposal = MALA_MC, Acceptance = metropolis, Gap = 0.2930\n",
      "Starting problem instance 1548 of 2000 with n = 6\n"
     ]
    },
    {
     "name": "stderr",
     "output_type": "stream",
     "text": [
      "100%|██████████| 1000/1000 [00:01<00:00, 785.70it/s]\n"
     ]
    },
    {
     "name": "stdout",
     "output_type": "stream",
     "text": [
      "\t\tTotal time for config: 1.2748081684112549\n",
      "Instance 1548, T = 1.0, Proposal = MALA_MC, Acceptance = metropolis, Gap = 0.0000\n",
      "Warning: Gap is very small, may be inaccurate.\n",
      "Starting problem instance 1549 of 2000 with n = 7\n"
     ]
    },
    {
     "name": "stderr",
     "output_type": "stream",
     "text": [
      "100%|██████████| 1000/1000 [00:01<00:00, 565.21it/s]\n"
     ]
    },
    {
     "name": "stdout",
     "output_type": "stream",
     "text": [
      "\t\tTotal time for config: 1.771775484085083\n",
      "Instance 1549, T = 1.0, Proposal = MALA_MC, Acceptance = metropolis, Gap = 0.0000\n",
      "Warning: Gap is very small, may be inaccurate.\n",
      "Starting problem instance 1550 of 2000 with n = 8\n"
     ]
    },
    {
     "name": "stderr",
     "output_type": "stream",
     "text": [
      "100%|██████████| 1000/1000 [00:02<00:00, 422.41it/s]\n"
     ]
    },
    {
     "name": "stdout",
     "output_type": "stream",
     "text": [
      "\t\tTotal time for config: 2.3707668781280518\n",
      "Instance 1550, T = 1.0, Proposal = MALA_MC, Acceptance = metropolis, Gap = 0.0000\n",
      "Warning: Gap is very small, may be inaccurate.\n",
      "Starting problem instance 1551 of 2000 with n = 9\n"
     ]
    },
    {
     "name": "stderr",
     "output_type": "stream",
     "text": [
      "100%|██████████| 1000/1000 [00:03<00:00, 277.92it/s]\n"
     ]
    },
    {
     "name": "stdout",
     "output_type": "stream",
     "text": [
      "\t\tTotal time for config: 3.6012072563171387\n",
      "Instance 1551, T = 1.0, Proposal = MALA_MC, Acceptance = metropolis, Gap = 0.0000\n",
      "Warning: Gap is very small, may be inaccurate.\n",
      "Starting problem instance 1552 of 2000 with n = 10\n"
     ]
    },
    {
     "name": "stderr",
     "output_type": "stream",
     "text": [
      "100%|██████████| 1000/1000 [00:08<00:00, 118.55it/s]\n"
     ]
    },
    {
     "name": "stdout",
     "output_type": "stream",
     "text": [
      "\t\tTotal time for config: 8.43904709815979\n",
      "Instance 1552, T = 1.0, Proposal = MALA_MC, Acceptance = metropolis, Gap = 0.0000\n",
      "Warning: Gap is very small, may be inaccurate.\n",
      "Starting problem instance 1553 of 2000 with n = 3\n"
     ]
    },
    {
     "name": "stderr",
     "output_type": "stream",
     "text": [
      "100%|██████████| 1000/1000 [00:01<00:00, 722.63it/s]\n"
     ]
    },
    {
     "name": "stdout",
     "output_type": "stream",
     "text": [
      "\t\tTotal time for config: 1.3889906406402588\n",
      "Instance 1553, T = 1.0, Proposal = MALA_MC, Acceptance = metropolis, Gap = 0.7523\n",
      "Starting problem instance 1554 of 2000 with n = 4\n"
     ]
    },
    {
     "name": "stderr",
     "output_type": "stream",
     "text": [
      "100%|██████████| 1000/1000 [00:01<00:00, 557.42it/s]\n"
     ]
    },
    {
     "name": "stdout",
     "output_type": "stream",
     "text": [
      "\t\tTotal time for config: 1.7979745864868164\n",
      "Instance 1554, T = 1.0, Proposal = MALA_MC, Acceptance = metropolis, Gap = 0.0122\n",
      "Starting problem instance 1555 of 2000 with n = 5\n"
     ]
    },
    {
     "name": "stderr",
     "output_type": "stream",
     "text": [
      "100%|██████████| 1000/1000 [00:02<00:00, 462.23it/s]\n"
     ]
    },
    {
     "name": "stdout",
     "output_type": "stream",
     "text": [
      "\t\tTotal time for config: 2.1696314811706543\n",
      "Instance 1555, T = 1.0, Proposal = MALA_MC, Acceptance = metropolis, Gap = 0.5116\n",
      "Starting problem instance 1556 of 2000 with n = 6\n"
     ]
    },
    {
     "name": "stderr",
     "output_type": "stream",
     "text": [
      "100%|██████████| 1000/1000 [00:02<00:00, 470.22it/s]\n"
     ]
    },
    {
     "name": "stdout",
     "output_type": "stream",
     "text": [
      "\t\tTotal time for config: 2.1307477951049805\n",
      "Instance 1556, T = 1.0, Proposal = MALA_MC, Acceptance = metropolis, Gap = 0.0000\n",
      "Starting problem instance 1557 of 2000 with n = 7\n"
     ]
    },
    {
     "name": "stderr",
     "output_type": "stream",
     "text": [
      "100%|██████████| 1000/1000 [00:02<00:00, 448.04it/s]\n"
     ]
    },
    {
     "name": "stdout",
     "output_type": "stream",
     "text": [
      "\t\tTotal time for config: 2.235991954803467\n",
      "Instance 1557, T = 1.0, Proposal = MALA_MC, Acceptance = metropolis, Gap = 0.6978\n",
      "Starting problem instance 1558 of 2000 with n = 8\n"
     ]
    },
    {
     "name": "stderr",
     "output_type": "stream",
     "text": [
      "100%|██████████| 1000/1000 [00:02<00:00, 402.00it/s]\n"
     ]
    },
    {
     "name": "stdout",
     "output_type": "stream",
     "text": [
      "\t\tTotal time for config: 2.492724657058716\n",
      "Instance 1558, T = 1.0, Proposal = MALA_MC, Acceptance = metropolis, Gap = 0.0000\n",
      "Warning: Gap is very small, may be inaccurate.\n",
      "Starting problem instance 1559 of 2000 with n = 9\n"
     ]
    },
    {
     "name": "stderr",
     "output_type": "stream",
     "text": [
      "100%|██████████| 1000/1000 [00:03<00:00, 314.60it/s]\n"
     ]
    },
    {
     "name": "stdout",
     "output_type": "stream",
     "text": [
      "\t\tTotal time for config: 3.184674024581909\n",
      "Instance 1559, T = 1.0, Proposal = MALA_MC, Acceptance = metropolis, Gap = 0.0000\n",
      "Warning: Gap is very small, may be inaccurate.\n",
      "Starting problem instance 1560 of 2000 with n = 10\n"
     ]
    },
    {
     "name": "stderr",
     "output_type": "stream",
     "text": [
      "100%|██████████| 1000/1000 [00:06<00:00, 154.74it/s]\n"
     ]
    },
    {
     "name": "stdout",
     "output_type": "stream",
     "text": [
      "\t\tTotal time for config: 6.465837240219116\n",
      "Instance 1560, T = 1.0, Proposal = MALA_MC, Acceptance = metropolis, Gap = 0.0000\n",
      "Warning: Gap is very small, may be inaccurate.\n",
      "Starting problem instance 1561 of 2000 with n = 3\n"
     ]
    },
    {
     "name": "stderr",
     "output_type": "stream",
     "text": [
      "100%|██████████| 1000/1000 [00:00<00:00, 1168.20it/s]\n"
     ]
    },
    {
     "name": "stdout",
     "output_type": "stream",
     "text": [
      "\t\tTotal time for config: 0.8587546348571777\n",
      "Instance 1561, T = 1.0, Proposal = MALA_MC, Acceptance = metropolis, Gap = 0.6842\n",
      "Starting problem instance 1562 of 2000 with n = 4\n"
     ]
    },
    {
     "name": "stderr",
     "output_type": "stream",
     "text": [
      "100%|██████████| 1000/1000 [00:01<00:00, 965.56it/s]\n"
     ]
    },
    {
     "name": "stdout",
     "output_type": "stream",
     "text": [
      "\t\tTotal time for config: 1.0400340557098389\n",
      "Instance 1562, T = 1.0, Proposal = MALA_MC, Acceptance = metropolis, Gap = 0.5994\n",
      "Starting problem instance 1563 of 2000 with n = 5\n"
     ]
    },
    {
     "name": "stderr",
     "output_type": "stream",
     "text": [
      "100%|██████████| 1000/1000 [00:01<00:00, 837.78it/s]\n"
     ]
    },
    {
     "name": "stdout",
     "output_type": "stream",
     "text": [
      "\t\tTotal time for config: 1.1978425979614258\n",
      "Instance 1563, T = 1.0, Proposal = MALA_MC, Acceptance = metropolis, Gap = 0.6211\n",
      "Starting problem instance 1564 of 2000 with n = 6\n"
     ]
    },
    {
     "name": "stderr",
     "output_type": "stream",
     "text": [
      "100%|██████████| 1000/1000 [00:01<00:00, 801.91it/s]\n"
     ]
    },
    {
     "name": "stdout",
     "output_type": "stream",
     "text": [
      "\t\tTotal time for config: 1.2503318786621094\n",
      "Instance 1564, T = 1.0, Proposal = MALA_MC, Acceptance = metropolis, Gap = 0.0284\n",
      "Starting problem instance 1565 of 2000 with n = 7\n"
     ]
    },
    {
     "name": "stderr",
     "output_type": "stream",
     "text": [
      "100%|██████████| 1000/1000 [00:01<00:00, 540.99it/s]\n"
     ]
    },
    {
     "name": "stdout",
     "output_type": "stream",
     "text": [
      "\t\tTotal time for config: 1.8515303134918213\n",
      "Instance 1565, T = 1.0, Proposal = MALA_MC, Acceptance = metropolis, Gap = 0.0000\n",
      "Warning: Gap is very small, may be inaccurate.\n",
      "Starting problem instance 1566 of 2000 with n = 8\n"
     ]
    },
    {
     "name": "stderr",
     "output_type": "stream",
     "text": [
      "100%|██████████| 1000/1000 [00:02<00:00, 406.96it/s]\n"
     ]
    },
    {
     "name": "stdout",
     "output_type": "stream",
     "text": [
      "\t\tTotal time for config: 2.46026873588562\n",
      "Instance 1566, T = 1.0, Proposal = MALA_MC, Acceptance = metropolis, Gap = 0.0000\n",
      "Warning: Gap is very small, may be inaccurate.\n",
      "Starting problem instance 1567 of 2000 with n = 9\n"
     ]
    },
    {
     "name": "stderr",
     "output_type": "stream",
     "text": [
      "100%|██████████| 1000/1000 [00:03<00:00, 297.45it/s]\n"
     ]
    },
    {
     "name": "stdout",
     "output_type": "stream",
     "text": [
      "\t\tTotal time for config: 3.3658764362335205\n",
      "Instance 1567, T = 1.0, Proposal = MALA_MC, Acceptance = metropolis, Gap = 0.0000\n",
      "Warning: Gap is very small, may be inaccurate.\n",
      "Starting problem instance 1568 of 2000 with n = 10\n"
     ]
    },
    {
     "name": "stderr",
     "output_type": "stream",
     "text": [
      "100%|██████████| 1000/1000 [00:06<00:00, 148.00it/s]\n"
     ]
    },
    {
     "name": "stdout",
     "output_type": "stream",
     "text": [
      "\t\tTotal time for config: 6.7596986293792725\n",
      "Instance 1568, T = 1.0, Proposal = MALA_MC, Acceptance = metropolis, Gap = 0.0000\n",
      "Warning: Gap is very small, may be inaccurate.\n",
      "Starting problem instance 1569 of 2000 with n = 3\n"
     ]
    },
    {
     "name": "stderr",
     "output_type": "stream",
     "text": [
      "100%|██████████| 1000/1000 [00:00<00:00, 1488.58it/s]\n"
     ]
    },
    {
     "name": "stdout",
     "output_type": "stream",
     "text": [
      "\t\tTotal time for config: 0.6747775077819824\n",
      "Instance 1569, T = 1.0, Proposal = MALA_MC, Acceptance = metropolis, Gap = 0.8264\n",
      "Starting problem instance 1570 of 2000 with n = 4\n"
     ]
    },
    {
     "name": "stderr",
     "output_type": "stream",
     "text": [
      "100%|██████████| 1000/1000 [00:00<00:00, 1107.78it/s]\n"
     ]
    },
    {
     "name": "stdout",
     "output_type": "stream",
     "text": [
      "\t\tTotal time for config: 0.9066603183746338\n",
      "Instance 1570, T = 1.0, Proposal = MALA_MC, Acceptance = metropolis, Gap = 0.4582\n",
      "Starting problem instance 1571 of 2000 with n = 5\n"
     ]
    },
    {
     "name": "stderr",
     "output_type": "stream",
     "text": [
      "100%|██████████| 1000/1000 [00:01<00:00, 900.65it/s]\n"
     ]
    },
    {
     "name": "stdout",
     "output_type": "stream",
     "text": [
      "\t\tTotal time for config: 1.1133356094360352\n",
      "Instance 1571, T = 1.0, Proposal = MALA_MC, Acceptance = metropolis, Gap = 0.0000\n",
      "Starting problem instance 1572 of 2000 with n = 6\n"
     ]
    },
    {
     "name": "stderr",
     "output_type": "stream",
     "text": [
      "100%|██████████| 1000/1000 [00:01<00:00, 844.31it/s]\n"
     ]
    },
    {
     "name": "stdout",
     "output_type": "stream",
     "text": [
      "\t\tTotal time for config: 1.1873819828033447\n",
      "Instance 1572, T = 1.0, Proposal = MALA_MC, Acceptance = metropolis, Gap = 0.1073\n",
      "Starting problem instance 1573 of 2000 with n = 7\n"
     ]
    },
    {
     "name": "stderr",
     "output_type": "stream",
     "text": [
      "100%|██████████| 1000/1000 [00:01<00:00, 613.28it/s]\n"
     ]
    },
    {
     "name": "stdout",
     "output_type": "stream",
     "text": [
      "\t\tTotal time for config: 1.6345045566558838\n",
      "Instance 1573, T = 1.0, Proposal = MALA_MC, Acceptance = metropolis, Gap = 0.0000\n",
      "Warning: Gap is very small, may be inaccurate.\n",
      "Starting problem instance 1574 of 2000 with n = 8\n"
     ]
    },
    {
     "name": "stderr",
     "output_type": "stream",
     "text": [
      "100%|██████████| 1000/1000 [00:01<00:00, 509.29it/s]\n"
     ]
    },
    {
     "name": "stdout",
     "output_type": "stream",
     "text": [
      "\t\tTotal time for config: 1.9675512313842773\n",
      "Instance 1574, T = 1.0, Proposal = MALA_MC, Acceptance = metropolis, Gap = 0.0000\n",
      "Warning: Gap is very small, may be inaccurate.\n",
      "Starting problem instance 1575 of 2000 with n = 9\n"
     ]
    },
    {
     "name": "stderr",
     "output_type": "stream",
     "text": [
      "100%|██████████| 1000/1000 [00:03<00:00, 311.65it/s]\n"
     ]
    },
    {
     "name": "stdout",
     "output_type": "stream",
     "text": [
      "\t\tTotal time for config: 3.2121083736419678\n",
      "Instance 1575, T = 1.0, Proposal = MALA_MC, Acceptance = metropolis, Gap = 0.0000\n",
      "Warning: Gap is very small, may be inaccurate.\n",
      "Starting problem instance 1576 of 2000 with n = 10\n"
     ]
    },
    {
     "name": "stderr",
     "output_type": "stream",
     "text": [
      "100%|██████████| 1000/1000 [00:06<00:00, 143.90it/s]\n"
     ]
    },
    {
     "name": "stdout",
     "output_type": "stream",
     "text": [
      "\t\tTotal time for config: 6.952268838882446\n",
      "Instance 1576, T = 1.0, Proposal = MALA_MC, Acceptance = metropolis, Gap = 0.0000\n",
      "Warning: Gap is very small, may be inaccurate.\n",
      "Starting problem instance 1577 of 2000 with n = 3\n"
     ]
    },
    {
     "name": "stderr",
     "output_type": "stream",
     "text": [
      "100%|██████████| 1000/1000 [00:00<00:00, 1054.13it/s]\n"
     ]
    },
    {
     "name": "stdout",
     "output_type": "stream",
     "text": [
      "\t\tTotal time for config: 0.9516251087188721\n",
      "Instance 1577, T = 1.0, Proposal = MALA_MC, Acceptance = metropolis, Gap = 0.7124\n",
      "Starting problem instance 1578 of 2000 with n = 4\n"
     ]
    },
    {
     "name": "stderr",
     "output_type": "stream",
     "text": [
      "100%|██████████| 1000/1000 [00:01<00:00, 923.70it/s]\n"
     ]
    },
    {
     "name": "stdout",
     "output_type": "stream",
     "text": [
      "\t\tTotal time for config: 1.0863773822784424\n",
      "Instance 1578, T = 1.0, Proposal = MALA_MC, Acceptance = metropolis, Gap = 0.5465\n",
      "Starting problem instance 1579 of 2000 with n = 5\n"
     ]
    },
    {
     "name": "stderr",
     "output_type": "stream",
     "text": [
      "100%|██████████| 1000/1000 [00:01<00:00, 793.26it/s]\n"
     ]
    },
    {
     "name": "stdout",
     "output_type": "stream",
     "text": [
      "\t\tTotal time for config: 1.2646284103393555\n",
      "Instance 1579, T = 1.0, Proposal = MALA_MC, Acceptance = metropolis, Gap = 0.1044\n",
      "Starting problem instance 1580 of 2000 with n = 6\n"
     ]
    },
    {
     "name": "stderr",
     "output_type": "stream",
     "text": [
      "100%|██████████| 1000/1000 [00:01<00:00, 790.56it/s]\n"
     ]
    },
    {
     "name": "stdout",
     "output_type": "stream",
     "text": [
      "\t\tTotal time for config: 1.2679603099822998\n",
      "Instance 1580, T = 1.0, Proposal = MALA_MC, Acceptance = metropolis, Gap = 0.0000\n",
      "Warning: Gap is very small, may be inaccurate.\n",
      "Starting problem instance 1581 of 2000 with n = 7\n"
     ]
    },
    {
     "name": "stderr",
     "output_type": "stream",
     "text": [
      "100%|██████████| 1000/1000 [00:01<00:00, 615.21it/s]\n"
     ]
    },
    {
     "name": "stdout",
     "output_type": "stream",
     "text": [
      "\t\tTotal time for config: 1.6294853687286377\n",
      "Instance 1581, T = 1.0, Proposal = MALA_MC, Acceptance = metropolis, Gap = 0.0000\n",
      "Warning: Gap is very small, may be inaccurate.\n",
      "Starting problem instance 1582 of 2000 with n = 8\n"
     ]
    },
    {
     "name": "stderr",
     "output_type": "stream",
     "text": [
      "100%|██████████| 1000/1000 [00:02<00:00, 487.76it/s]\n"
     ]
    },
    {
     "name": "stdout",
     "output_type": "stream",
     "text": [
      "\t\tTotal time for config: 2.0532054901123047\n",
      "Instance 1582, T = 1.0, Proposal = MALA_MC, Acceptance = metropolis, Gap = 0.0056\n",
      "Starting problem instance 1583 of 2000 with n = 9\n"
     ]
    },
    {
     "name": "stderr",
     "output_type": "stream",
     "text": [
      "100%|██████████| 1000/1000 [00:03<00:00, 304.80it/s]\n"
     ]
    },
    {
     "name": "stdout",
     "output_type": "stream",
     "text": [
      "\t\tTotal time for config: 3.2866714000701904\n",
      "Instance 1583, T = 1.0, Proposal = MALA_MC, Acceptance = metropolis, Gap = 0.0000\n",
      "Warning: Gap is very small, may be inaccurate.\n",
      "Starting problem instance 1584 of 2000 with n = 10\n"
     ]
    },
    {
     "name": "stderr",
     "output_type": "stream",
     "text": [
      "100%|██████████| 1000/1000 [00:05<00:00, 169.08it/s]\n"
     ]
    },
    {
     "name": "stdout",
     "output_type": "stream",
     "text": [
      "\t\tTotal time for config: 5.917603254318237\n",
      "Instance 1584, T = 1.0, Proposal = MALA_MC, Acceptance = metropolis, Gap = 0.0000\n",
      "Warning: Gap is very small, may be inaccurate.\n",
      "Starting problem instance 1585 of 2000 with n = 3\n"
     ]
    },
    {
     "name": "stderr",
     "output_type": "stream",
     "text": [
      "100%|██████████| 1000/1000 [00:00<00:00, 1795.37it/s]\n"
     ]
    },
    {
     "name": "stdout",
     "output_type": "stream",
     "text": [
      "\t\tTotal time for config: 0.5613429546356201\n",
      "Instance 1585, T = 1.0, Proposal = MALA_MC, Acceptance = metropolis, Gap = 0.0342\n",
      "Starting problem instance 1586 of 2000 with n = 4\n"
     ]
    },
    {
     "name": "stderr",
     "output_type": "stream",
     "text": [
      "100%|██████████| 1000/1000 [00:00<00:00, 1080.70it/s]\n"
     ]
    },
    {
     "name": "stdout",
     "output_type": "stream",
     "text": [
      "\t\tTotal time for config: 0.9290182590484619\n",
      "Instance 1586, T = 1.0, Proposal = MALA_MC, Acceptance = metropolis, Gap = 0.5934\n",
      "Starting problem instance 1587 of 2000 with n = 5\n"
     ]
    },
    {
     "name": "stderr",
     "output_type": "stream",
     "text": [
      "100%|██████████| 1000/1000 [00:00<00:00, 1031.59it/s]\n"
     ]
    },
    {
     "name": "stdout",
     "output_type": "stream",
     "text": [
      "\t\tTotal time for config: 0.9713597297668457\n",
      "Instance 1587, T = 1.0, Proposal = MALA_MC, Acceptance = metropolis, Gap = 0.5645\n",
      "Starting problem instance 1588 of 2000 with n = 6\n"
     ]
    },
    {
     "name": "stderr",
     "output_type": "stream",
     "text": [
      "100%|██████████| 1000/1000 [00:01<00:00, 724.81it/s]\n"
     ]
    },
    {
     "name": "stdout",
     "output_type": "stream",
     "text": [
      "\t\tTotal time for config: 1.3954763412475586\n",
      "Instance 1588, T = 1.0, Proposal = MALA_MC, Acceptance = metropolis, Gap = 0.0087\n",
      "Starting problem instance 1589 of 2000 with n = 7\n"
     ]
    },
    {
     "name": "stderr",
     "output_type": "stream",
     "text": [
      "100%|██████████| 1000/1000 [00:01<00:00, 685.10it/s]\n"
     ]
    },
    {
     "name": "stdout",
     "output_type": "stream",
     "text": [
      "\t\tTotal time for config: 1.4636671543121338\n",
      "Instance 1589, T = 1.0, Proposal = MALA_MC, Acceptance = metropolis, Gap = 0.0056\n",
      "Starting problem instance 1590 of 2000 with n = 8\n"
     ]
    },
    {
     "name": "stderr",
     "output_type": "stream",
     "text": [
      "100%|██████████| 1000/1000 [00:01<00:00, 526.87it/s]\n"
     ]
    },
    {
     "name": "stdout",
     "output_type": "stream",
     "text": [
      "\t\tTotal time for config: 1.90254545211792\n",
      "Instance 1590, T = 1.0, Proposal = MALA_MC, Acceptance = metropolis, Gap = 0.0000\n",
      "Warning: Gap is very small, may be inaccurate.\n",
      "Starting problem instance 1591 of 2000 with n = 9\n"
     ]
    },
    {
     "name": "stderr",
     "output_type": "stream",
     "text": [
      "100%|██████████| 1000/1000 [00:03<00:00, 316.17it/s]\n"
     ]
    },
    {
     "name": "stdout",
     "output_type": "stream",
     "text": [
      "\t\tTotal time for config: 3.168308734893799\n",
      "Instance 1591, T = 1.0, Proposal = MALA_MC, Acceptance = metropolis, Gap = 0.0000\n",
      "Warning: Gap is very small, may be inaccurate.\n",
      "Starting problem instance 1592 of 2000 with n = 10\n"
     ]
    },
    {
     "name": "stderr",
     "output_type": "stream",
     "text": [
      "100%|██████████| 1000/1000 [00:05<00:00, 168.72it/s]\n"
     ]
    },
    {
     "name": "stdout",
     "output_type": "stream",
     "text": [
      "\t\tTotal time for config: 5.931896209716797\n",
      "Instance 1592, T = 1.0, Proposal = MALA_MC, Acceptance = metropolis, Gap = 0.0000\n",
      "Warning: Gap is very small, may be inaccurate.\n",
      "Starting problem instance 1593 of 2000 with n = 3\n"
     ]
    },
    {
     "name": "stderr",
     "output_type": "stream",
     "text": [
      "100%|██████████| 1000/1000 [00:00<00:00, 1546.59it/s]\n"
     ]
    },
    {
     "name": "stdout",
     "output_type": "stream",
     "text": [
      "\t\tTotal time for config: 0.650794506072998\n",
      "Instance 1593, T = 1.0, Proposal = MALA_MC, Acceptance = metropolis, Gap = 0.6176\n",
      "Starting problem instance 1594 of 2000 with n = 4\n"
     ]
    },
    {
     "name": "stderr",
     "output_type": "stream",
     "text": [
      "100%|██████████| 1000/1000 [00:00<00:00, 1095.21it/s]\n"
     ]
    },
    {
     "name": "stdout",
     "output_type": "stream",
     "text": [
      "\t\tTotal time for config: 0.9171254634857178\n",
      "Instance 1594, T = 1.0, Proposal = MALA_MC, Acceptance = metropolis, Gap = 0.7571\n",
      "Starting problem instance 1595 of 2000 with n = 5\n"
     ]
    },
    {
     "name": "stderr",
     "output_type": "stream",
     "text": [
      "100%|██████████| 1000/1000 [00:01<00:00, 938.48it/s]\n"
     ]
    },
    {
     "name": "stdout",
     "output_type": "stream",
     "text": [
      "\t\tTotal time for config: 1.0685219764709473\n",
      "Instance 1595, T = 1.0, Proposal = MALA_MC, Acceptance = metropolis, Gap = 0.1000\n",
      "Starting problem instance 1596 of 2000 with n = 6\n"
     ]
    },
    {
     "name": "stderr",
     "output_type": "stream",
     "text": [
      "100%|██████████| 1000/1000 [00:01<00:00, 838.78it/s]\n"
     ]
    },
    {
     "name": "stdout",
     "output_type": "stream",
     "text": [
      "\t\tTotal time for config: 1.1946709156036377\n",
      "Instance 1596, T = 1.0, Proposal = MALA_MC, Acceptance = metropolis, Gap = 0.0844\n",
      "Starting problem instance 1597 of 2000 with n = 7\n"
     ]
    },
    {
     "name": "stderr",
     "output_type": "stream",
     "text": [
      "100%|██████████| 1000/1000 [00:01<00:00, 584.53it/s]\n"
     ]
    },
    {
     "name": "stdout",
     "output_type": "stream",
     "text": [
      "\t\tTotal time for config: 1.7142016887664795\n",
      "Instance 1597, T = 1.0, Proposal = MALA_MC, Acceptance = metropolis, Gap = 0.0000\n",
      "Warning: Gap is very small, may be inaccurate.\n",
      "Starting problem instance 1598 of 2000 with n = 8\n"
     ]
    },
    {
     "name": "stderr",
     "output_type": "stream",
     "text": [
      "100%|██████████| 1000/1000 [00:02<00:00, 452.72it/s]\n"
     ]
    },
    {
     "name": "stdout",
     "output_type": "stream",
     "text": [
      "\t\tTotal time for config: 2.2127950191497803\n",
      "Instance 1598, T = 1.0, Proposal = MALA_MC, Acceptance = metropolis, Gap = 0.0000\n",
      "Starting problem instance 1599 of 2000 with n = 9\n"
     ]
    },
    {
     "name": "stderr",
     "output_type": "stream",
     "text": [
      "100%|██████████| 1000/1000 [00:03<00:00, 331.73it/s]\n"
     ]
    },
    {
     "name": "stdout",
     "output_type": "stream",
     "text": [
      "\t\tTotal time for config: 3.018735408782959\n",
      "Instance 1599, T = 1.0, Proposal = MALA_MC, Acceptance = metropolis, Gap = 0.0000\n",
      "Warning: Gap is very small, may be inaccurate.\n",
      "Starting problem instance 1600 of 2000 with n = 10\n"
     ]
    },
    {
     "name": "stderr",
     "output_type": "stream",
     "text": [
      "100%|██████████| 1000/1000 [00:05<00:00, 172.18it/s]\n"
     ]
    },
    {
     "name": "stdout",
     "output_type": "stream",
     "text": [
      "\t\tTotal time for config: 5.812161922454834\n",
      "Instance 1600, T = 1.0, Proposal = MALA_MC, Acceptance = metropolis, Gap = 0.0000\n",
      "Warning: Gap is very small, may be inaccurate.\n",
      "Starting problem instance 1601 of 2000 with n = 3\n"
     ]
    },
    {
     "name": "stderr",
     "output_type": "stream",
     "text": [
      "100%|██████████| 1000/1000 [00:00<00:00, 1391.94it/s]\n"
     ]
    },
    {
     "name": "stdout",
     "output_type": "stream",
     "text": [
      "\t\tTotal time for config: 0.7224013805389404\n",
      "Instance 1601, T = 1.0, Proposal = MALA_MC, Acceptance = metropolis, Gap = 0.7811\n",
      "Starting problem instance 1602 of 2000 with n = 4\n"
     ]
    },
    {
     "name": "stderr",
     "output_type": "stream",
     "text": [
      "100%|██████████| 1000/1000 [00:00<00:00, 1143.30it/s]\n"
     ]
    },
    {
     "name": "stdout",
     "output_type": "stream",
     "text": [
      "\t\tTotal time for config: 0.8780641555786133\n",
      "Instance 1602, T = 1.0, Proposal = MALA_MC, Acceptance = metropolis, Gap = 0.7748\n",
      "Starting problem instance 1603 of 2000 with n = 5\n"
     ]
    },
    {
     "name": "stderr",
     "output_type": "stream",
     "text": [
      "100%|██████████| 1000/1000 [00:01<00:00, 856.06it/s]\n"
     ]
    },
    {
     "name": "stdout",
     "output_type": "stream",
     "text": [
      "\t\tTotal time for config: 1.1701159477233887\n",
      "Instance 1603, T = 1.0, Proposal = MALA_MC, Acceptance = metropolis, Gap = 0.0067\n",
      "Starting problem instance 1604 of 2000 with n = 6\n"
     ]
    },
    {
     "name": "stderr",
     "output_type": "stream",
     "text": [
      "100%|██████████| 1000/1000 [00:01<00:00, 809.18it/s]\n"
     ]
    },
    {
     "name": "stdout",
     "output_type": "stream",
     "text": [
      "\t\tTotal time for config: 1.236816167831421\n",
      "Instance 1604, T = 1.0, Proposal = MALA_MC, Acceptance = metropolis, Gap = 0.2903\n",
      "Starting problem instance 1605 of 2000 with n = 7\n"
     ]
    },
    {
     "name": "stderr",
     "output_type": "stream",
     "text": [
      "100%|██████████| 1000/1000 [00:01<00:00, 604.92it/s]\n"
     ]
    },
    {
     "name": "stdout",
     "output_type": "stream",
     "text": [
      "\t\tTotal time for config: 1.6577014923095703\n",
      "Instance 1605, T = 1.0, Proposal = MALA_MC, Acceptance = metropolis, Gap = 0.1452\n",
      "Starting problem instance 1606 of 2000 with n = 8\n"
     ]
    },
    {
     "name": "stderr",
     "output_type": "stream",
     "text": [
      "100%|██████████| 1000/1000 [00:02<00:00, 450.37it/s]\n"
     ]
    },
    {
     "name": "stdout",
     "output_type": "stream",
     "text": [
      "\t\tTotal time for config: 2.224846124649048\n",
      "Instance 1606, T = 1.0, Proposal = MALA_MC, Acceptance = metropolis, Gap = 0.0000\n",
      "Warning: Gap is very small, may be inaccurate.\n",
      "Starting problem instance 1607 of 2000 with n = 9\n"
     ]
    },
    {
     "name": "stderr",
     "output_type": "stream",
     "text": [
      "100%|██████████| 1000/1000 [00:03<00:00, 285.40it/s]\n"
     ]
    },
    {
     "name": "stdout",
     "output_type": "stream",
     "text": [
      "\t\tTotal time for config: 3.506232500076294\n",
      "Instance 1607, T = 1.0, Proposal = MALA_MC, Acceptance = metropolis, Gap = 0.0000\n",
      "Warning: Gap is very small, may be inaccurate.\n",
      "Starting problem instance 1608 of 2000 with n = 10\n"
     ]
    },
    {
     "name": "stderr",
     "output_type": "stream",
     "text": [
      "100%|██████████| 1000/1000 [00:05<00:00, 167.29it/s]\n"
     ]
    },
    {
     "name": "stdout",
     "output_type": "stream",
     "text": [
      "\t\tTotal time for config: 5.9815833568573\n",
      "Instance 1608, T = 1.0, Proposal = MALA_MC, Acceptance = metropolis, Gap = 0.0000\n",
      "Warning: Gap is very small, may be inaccurate.\n",
      "Starting problem instance 1609 of 2000 with n = 3\n"
     ]
    },
    {
     "name": "stderr",
     "output_type": "stream",
     "text": [
      "100%|██████████| 1000/1000 [00:00<00:00, 1499.72it/s]\n"
     ]
    },
    {
     "name": "stdout",
     "output_type": "stream",
     "text": [
      "\t\tTotal time for config: 0.6717855930328369\n",
      "Instance 1609, T = 1.0, Proposal = MALA_MC, Acceptance = metropolis, Gap = 0.7358\n",
      "Starting problem instance 1610 of 2000 with n = 4\n"
     ]
    },
    {
     "name": "stderr",
     "output_type": "stream",
     "text": [
      "100%|██████████| 1000/1000 [00:00<00:00, 1049.29it/s]\n"
     ]
    },
    {
     "name": "stdout",
     "output_type": "stream",
     "text": [
      "\t\tTotal time for config: 0.9571774005889893\n",
      "Instance 1610, T = 1.0, Proposal = MALA_MC, Acceptance = metropolis, Gap = 0.7980\n",
      "Starting problem instance 1611 of 2000 with n = 5\n"
     ]
    },
    {
     "name": "stderr",
     "output_type": "stream",
     "text": [
      "100%|██████████| 1000/1000 [00:01<00:00, 866.56it/s]\n"
     ]
    },
    {
     "name": "stdout",
     "output_type": "stream",
     "text": [
      "\t\tTotal time for config: 1.1569581031799316\n",
      "Instance 1611, T = 1.0, Proposal = MALA_MC, Acceptance = metropolis, Gap = 0.0394\n",
      "Starting problem instance 1612 of 2000 with n = 6\n"
     ]
    },
    {
     "name": "stderr",
     "output_type": "stream",
     "text": [
      "100%|██████████| 1000/1000 [00:01<00:00, 741.78it/s]\n"
     ]
    },
    {
     "name": "stdout",
     "output_type": "stream",
     "text": [
      "\t\tTotal time for config: 1.3522820472717285\n",
      "Instance 1612, T = 1.0, Proposal = MALA_MC, Acceptance = metropolis, Gap = 0.0000\n",
      "Warning: Gap is very small, may be inaccurate.\n",
      "Starting problem instance 1613 of 2000 with n = 7\n"
     ]
    },
    {
     "name": "stderr",
     "output_type": "stream",
     "text": [
      "100%|██████████| 1000/1000 [00:01<00:00, 570.14it/s]\n"
     ]
    },
    {
     "name": "stdout",
     "output_type": "stream",
     "text": [
      "\t\tTotal time for config: 1.7582728862762451\n",
      "Instance 1613, T = 1.0, Proposal = MALA_MC, Acceptance = metropolis, Gap = 0.0000\n",
      "Warning: Gap is very small, may be inaccurate.\n",
      "Starting problem instance 1614 of 2000 with n = 8\n"
     ]
    },
    {
     "name": "stderr",
     "output_type": "stream",
     "text": [
      "100%|██████████| 1000/1000 [00:02<00:00, 456.67it/s]\n"
     ]
    },
    {
     "name": "stdout",
     "output_type": "stream",
     "text": [
      "\t\tTotal time for config: 2.193871259689331\n",
      "Instance 1614, T = 1.0, Proposal = MALA_MC, Acceptance = metropolis, Gap = 0.0000\n",
      "Warning: Gap is very small, may be inaccurate.\n",
      "Starting problem instance 1615 of 2000 with n = 9\n"
     ]
    },
    {
     "name": "stderr",
     "output_type": "stream",
     "text": [
      "100%|██████████| 1000/1000 [00:03<00:00, 295.54it/s]\n"
     ]
    },
    {
     "name": "stdout",
     "output_type": "stream",
     "text": [
      "\t\tTotal time for config: 3.387716054916382\n",
      "Instance 1615, T = 1.0, Proposal = MALA_MC, Acceptance = metropolis, Gap = 0.0000\n",
      "Warning: Gap is very small, may be inaccurate.\n",
      "Starting problem instance 1616 of 2000 with n = 10\n"
     ]
    },
    {
     "name": "stderr",
     "output_type": "stream",
     "text": [
      "100%|██████████| 1000/1000 [00:06<00:00, 148.96it/s]\n"
     ]
    },
    {
     "name": "stdout",
     "output_type": "stream",
     "text": [
      "\t\tTotal time for config: 6.718116283416748\n",
      "Instance 1616, T = 1.0, Proposal = MALA_MC, Acceptance = metropolis, Gap = 0.0000\n",
      "Warning: Gap is very small, may be inaccurate.\n",
      "Starting problem instance 1617 of 2000 with n = 3\n"
     ]
    },
    {
     "name": "stderr",
     "output_type": "stream",
     "text": [
      "100%|██████████| 1000/1000 [00:00<00:00, 1074.00it/s]\n"
     ]
    },
    {
     "name": "stdout",
     "output_type": "stream",
     "text": [
      "\t\tTotal time for config: 0.9359016418457031\n",
      "Instance 1617, T = 1.0, Proposal = MALA_MC, Acceptance = metropolis, Gap = 0.6466\n",
      "Starting problem instance 1618 of 2000 with n = 4\n"
     ]
    },
    {
     "name": "stderr",
     "output_type": "stream",
     "text": [
      "100%|██████████| 1000/1000 [00:01<00:00, 643.57it/s]\n"
     ]
    },
    {
     "name": "stdout",
     "output_type": "stream",
     "text": [
      "\t\tTotal time for config: 1.5588831901550293\n",
      "Instance 1618, T = 1.0, Proposal = MALA_MC, Acceptance = metropolis, Gap = 0.1665\n",
      "Starting problem instance 1619 of 2000 with n = 5\n"
     ]
    },
    {
     "name": "stderr",
     "output_type": "stream",
     "text": [
      "100%|██████████| 1000/1000 [00:01<00:00, 700.45it/s]\n"
     ]
    },
    {
     "name": "stdout",
     "output_type": "stream",
     "text": [
      "\t\tTotal time for config: 1.4321413040161133\n",
      "Instance 1619, T = 1.0, Proposal = MALA_MC, Acceptance = metropolis, Gap = 0.5979\n",
      "Starting problem instance 1620 of 2000 with n = 6\n"
     ]
    },
    {
     "name": "stderr",
     "output_type": "stream",
     "text": [
      "100%|██████████| 1000/1000 [00:01<00:00, 764.42it/s]\n"
     ]
    },
    {
     "name": "stdout",
     "output_type": "stream",
     "text": [
      "\t\tTotal time for config: 1.312016487121582\n",
      "Instance 1620, T = 1.0, Proposal = MALA_MC, Acceptance = metropolis, Gap = 0.5048\n",
      "Starting problem instance 1621 of 2000 with n = 7\n"
     ]
    },
    {
     "name": "stderr",
     "output_type": "stream",
     "text": [
      "100%|██████████| 1000/1000 [00:01<00:00, 610.31it/s]\n"
     ]
    },
    {
     "name": "stdout",
     "output_type": "stream",
     "text": [
      "\t\tTotal time for config: 1.640404224395752\n",
      "Instance 1621, T = 1.0, Proposal = MALA_MC, Acceptance = metropolis, Gap = 0.0000\n",
      "Warning: Gap is very small, may be inaccurate.\n",
      "Starting problem instance 1622 of 2000 with n = 8\n"
     ]
    },
    {
     "name": "stderr",
     "output_type": "stream",
     "text": [
      "100%|██████████| 1000/1000 [00:02<00:00, 431.17it/s]\n"
     ]
    },
    {
     "name": "stdout",
     "output_type": "stream",
     "text": [
      "\t\tTotal time for config: 2.324732542037964\n",
      "Instance 1622, T = 1.0, Proposal = MALA_MC, Acceptance = metropolis, Gap = 0.0000\n",
      "Warning: Gap is very small, may be inaccurate.\n",
      "Starting problem instance 1623 of 2000 with n = 9\n"
     ]
    },
    {
     "name": "stderr",
     "output_type": "stream",
     "text": [
      "100%|██████████| 1000/1000 [00:03<00:00, 298.46it/s]\n"
     ]
    },
    {
     "name": "stdout",
     "output_type": "stream",
     "text": [
      "\t\tTotal time for config: 3.355565309524536\n",
      "Instance 1623, T = 1.0, Proposal = MALA_MC, Acceptance = metropolis, Gap = 0.0000\n",
      "Warning: Gap is very small, may be inaccurate.\n",
      "Starting problem instance 1624 of 2000 with n = 10\n"
     ]
    },
    {
     "name": "stderr",
     "output_type": "stream",
     "text": [
      "100%|██████████| 1000/1000 [00:06<00:00, 161.10it/s]\n"
     ]
    },
    {
     "name": "stdout",
     "output_type": "stream",
     "text": [
      "\t\tTotal time for config: 6.212573528289795\n",
      "Instance 1624, T = 1.0, Proposal = MALA_MC, Acceptance = metropolis, Gap = 0.0000\n",
      "Warning: Gap is very small, may be inaccurate.\n",
      "Starting problem instance 1625 of 2000 with n = 3\n"
     ]
    },
    {
     "name": "stderr",
     "output_type": "stream",
     "text": [
      "100%|██████████| 1000/1000 [00:00<00:00, 1614.73it/s]\n"
     ]
    },
    {
     "name": "stdout",
     "output_type": "stream",
     "text": [
      "\t\tTotal time for config: 0.622366189956665\n",
      "Instance 1625, T = 1.0, Proposal = MALA_MC, Acceptance = metropolis, Gap = 0.6811\n",
      "Starting problem instance 1626 of 2000 with n = 4\n"
     ]
    },
    {
     "name": "stderr",
     "output_type": "stream",
     "text": [
      "100%|██████████| 1000/1000 [00:00<00:00, 1050.88it/s]\n"
     ]
    },
    {
     "name": "stdout",
     "output_type": "stream",
     "text": [
      "\t\tTotal time for config: 0.9555890560150146\n",
      "Instance 1626, T = 1.0, Proposal = MALA_MC, Acceptance = metropolis, Gap = 0.3725\n",
      "Starting problem instance 1627 of 2000 with n = 5\n"
     ]
    },
    {
     "name": "stderr",
     "output_type": "stream",
     "text": [
      "100%|██████████| 1000/1000 [00:01<00:00, 871.95it/s]\n"
     ]
    },
    {
     "name": "stdout",
     "output_type": "stream",
     "text": [
      "\t\tTotal time for config: 1.151916265487671\n",
      "Instance 1627, T = 1.0, Proposal = MALA_MC, Acceptance = metropolis, Gap = 0.0703\n",
      "Starting problem instance 1628 of 2000 with n = 6\n"
     ]
    },
    {
     "name": "stderr",
     "output_type": "stream",
     "text": [
      "100%|██████████| 1000/1000 [00:01<00:00, 727.04it/s]\n"
     ]
    },
    {
     "name": "stdout",
     "output_type": "stream",
     "text": [
      "\t\tTotal time for config: 1.378735065460205\n",
      "Instance 1628, T = 1.0, Proposal = MALA_MC, Acceptance = metropolis, Gap = 0.0000\n",
      "Warning: Gap is very small, may be inaccurate.\n",
      "Starting problem instance 1629 of 2000 with n = 7\n"
     ]
    },
    {
     "name": "stderr",
     "output_type": "stream",
     "text": [
      "100%|██████████| 1000/1000 [00:01<00:00, 620.76it/s]\n"
     ]
    },
    {
     "name": "stdout",
     "output_type": "stream",
     "text": [
      "\t\tTotal time for config: 1.6149957180023193\n",
      "Instance 1629, T = 1.0, Proposal = MALA_MC, Acceptance = metropolis, Gap = 0.1641\n",
      "Starting problem instance 1630 of 2000 with n = 8\n"
     ]
    },
    {
     "name": "stderr",
     "output_type": "stream",
     "text": [
      "100%|██████████| 1000/1000 [00:02<00:00, 466.30it/s]\n"
     ]
    },
    {
     "name": "stdout",
     "output_type": "stream",
     "text": [
      "\t\tTotal time for config: 2.1484904289245605\n",
      "Instance 1630, T = 1.0, Proposal = MALA_MC, Acceptance = metropolis, Gap = 0.0486\n",
      "Starting problem instance 1631 of 2000 with n = 9\n"
     ]
    },
    {
     "name": "stderr",
     "output_type": "stream",
     "text": [
      "100%|██████████| 1000/1000 [00:03<00:00, 286.16it/s]\n"
     ]
    },
    {
     "name": "stdout",
     "output_type": "stream",
     "text": [
      "\t\tTotal time for config: 3.4971210956573486\n",
      "Instance 1631, T = 1.0, Proposal = MALA_MC, Acceptance = metropolis, Gap = 0.0000\n",
      "Warning: Gap is very small, may be inaccurate.\n",
      "Starting problem instance 1632 of 2000 with n = 10\n"
     ]
    },
    {
     "name": "stderr",
     "output_type": "stream",
     "text": [
      "100%|██████████| 1000/1000 [00:06<00:00, 157.58it/s]\n"
     ]
    },
    {
     "name": "stdout",
     "output_type": "stream",
     "text": [
      "\t\tTotal time for config: 6.3489158153533936\n",
      "Instance 1632, T = 1.0, Proposal = MALA_MC, Acceptance = metropolis, Gap = 0.0000\n",
      "Warning: Gap is very small, may be inaccurate.\n",
      "Starting problem instance 1633 of 2000 with n = 3\n"
     ]
    },
    {
     "name": "stderr",
     "output_type": "stream",
     "text": [
      "100%|██████████| 1000/1000 [00:00<00:00, 1093.11it/s]\n"
     ]
    },
    {
     "name": "stdout",
     "output_type": "stream",
     "text": [
      "\t\tTotal time for config: 0.9178156852722168\n",
      "Instance 1633, T = 1.0, Proposal = MALA_MC, Acceptance = metropolis, Gap = 0.8011\n",
      "Starting problem instance 1634 of 2000 with n = 4\n"
     ]
    },
    {
     "name": "stderr",
     "output_type": "stream",
     "text": [
      "100%|██████████| 1000/1000 [00:00<00:00, 1007.41it/s]\n"
     ]
    },
    {
     "name": "stdout",
     "output_type": "stream",
     "text": [
      "\t\tTotal time for config: 0.9956519603729248\n",
      "Instance 1634, T = 1.0, Proposal = MALA_MC, Acceptance = metropolis, Gap = 0.8563\n",
      "Starting problem instance 1635 of 2000 with n = 5\n"
     ]
    },
    {
     "name": "stderr",
     "output_type": "stream",
     "text": [
      "100%|██████████| 1000/1000 [00:01<00:00, 904.81it/s]\n"
     ]
    },
    {
     "name": "stdout",
     "output_type": "stream",
     "text": [
      "\t\tTotal time for config: 1.1066515445709229\n",
      "Instance 1635, T = 1.0, Proposal = MALA_MC, Acceptance = metropolis, Gap = 0.0134\n",
      "Starting problem instance 1636 of 2000 with n = 6\n"
     ]
    },
    {
     "name": "stderr",
     "output_type": "stream",
     "text": [
      "100%|██████████| 1000/1000 [00:01<00:00, 798.56it/s]\n"
     ]
    },
    {
     "name": "stdout",
     "output_type": "stream",
     "text": [
      "\t\tTotal time for config: 1.2689964771270752\n",
      "Instance 1636, T = 1.0, Proposal = MALA_MC, Acceptance = metropolis, Gap = 0.0000\n",
      "Warning: Gap is very small, may be inaccurate.\n",
      "Starting problem instance 1637 of 2000 with n = 7\n"
     ]
    },
    {
     "name": "stderr",
     "output_type": "stream",
     "text": [
      "100%|██████████| 1000/1000 [00:01<00:00, 614.16it/s]\n"
     ]
    },
    {
     "name": "stdout",
     "output_type": "stream",
     "text": [
      "\t\tTotal time for config: 1.632380723953247\n",
      "Instance 1637, T = 1.0, Proposal = MALA_MC, Acceptance = metropolis, Gap = 0.0000\n",
      "Warning: Gap is very small, may be inaccurate.\n",
      "Starting problem instance 1638 of 2000 with n = 8\n"
     ]
    },
    {
     "name": "stderr",
     "output_type": "stream",
     "text": [
      "100%|██████████| 1000/1000 [00:02<00:00, 463.22it/s]\n"
     ]
    },
    {
     "name": "stdout",
     "output_type": "stream",
     "text": [
      "\t\tTotal time for config: 2.1619882583618164\n",
      "Instance 1638, T = 1.0, Proposal = MALA_MC, Acceptance = metropolis, Gap = 0.0000\n",
      "Warning: Gap is very small, may be inaccurate.\n",
      "Starting problem instance 1639 of 2000 with n = 9\n"
     ]
    },
    {
     "name": "stderr",
     "output_type": "stream",
     "text": [
      "100%|██████████| 1000/1000 [00:03<00:00, 297.67it/s]\n"
     ]
    },
    {
     "name": "stdout",
     "output_type": "stream",
     "text": [
      "\t\tTotal time for config: 3.3626134395599365\n",
      "Instance 1639, T = 1.0, Proposal = MALA_MC, Acceptance = metropolis, Gap = 0.0000\n",
      "Warning: Gap is very small, may be inaccurate.\n",
      "Starting problem instance 1640 of 2000 with n = 10\n"
     ]
    },
    {
     "name": "stderr",
     "output_type": "stream",
     "text": [
      "100%|██████████| 1000/1000 [00:06<00:00, 162.06it/s]\n"
     ]
    },
    {
     "name": "stdout",
     "output_type": "stream",
     "text": [
      "\t\tTotal time for config: 6.173527717590332\n",
      "Instance 1640, T = 1.0, Proposal = MALA_MC, Acceptance = metropolis, Gap = 0.0000\n",
      "Warning: Gap is very small, may be inaccurate.\n",
      "Starting problem instance 1641 of 2000 with n = 3\n"
     ]
    },
    {
     "name": "stderr",
     "output_type": "stream",
     "text": [
      "100%|██████████| 1000/1000 [00:00<00:00, 1328.04it/s]\n"
     ]
    },
    {
     "name": "stdout",
     "output_type": "stream",
     "text": [
      "\t\tTotal time for config: 0.7559859752655029\n",
      "Instance 1641, T = 1.0, Proposal = MALA_MC, Acceptance = metropolis, Gap = 0.2840\n",
      "Starting problem instance 1642 of 2000 with n = 4\n"
     ]
    },
    {
     "name": "stderr",
     "output_type": "stream",
     "text": [
      "100%|██████████| 1000/1000 [00:00<00:00, 1120.75it/s]\n"
     ]
    },
    {
     "name": "stdout",
     "output_type": "stream",
     "text": [
      "\t\tTotal time for config: 0.8952484130859375\n",
      "Instance 1642, T = 1.0, Proposal = MALA_MC, Acceptance = metropolis, Gap = 0.7197\n",
      "Starting problem instance 1643 of 2000 with n = 5\n"
     ]
    },
    {
     "name": "stderr",
     "output_type": "stream",
     "text": [
      "100%|██████████| 1000/1000 [00:01<00:00, 807.09it/s]\n"
     ]
    },
    {
     "name": "stdout",
     "output_type": "stream",
     "text": [
      "\t\tTotal time for config: 1.2432003021240234\n",
      "Instance 1643, T = 1.0, Proposal = MALA_MC, Acceptance = metropolis, Gap = 0.5523\n",
      "Starting problem instance 1644 of 2000 with n = 6\n"
     ]
    },
    {
     "name": "stderr",
     "output_type": "stream",
     "text": [
      "100%|██████████| 1000/1000 [00:01<00:00, 797.62it/s]\n"
     ]
    },
    {
     "name": "stdout",
     "output_type": "stream",
     "text": [
      "\t\tTotal time for config: 1.2567405700683594\n",
      "Instance 1644, T = 1.0, Proposal = MALA_MC, Acceptance = metropolis, Gap = 0.0000\n",
      "Warning: Gap is very small, may be inaccurate.\n",
      "Starting problem instance 1645 of 2000 with n = 7\n"
     ]
    },
    {
     "name": "stderr",
     "output_type": "stream",
     "text": [
      "100%|██████████| 1000/1000 [00:01<00:00, 595.92it/s]\n"
     ]
    },
    {
     "name": "stdout",
     "output_type": "stream",
     "text": [
      "\t\tTotal time for config: 1.682234764099121\n",
      "Instance 1645, T = 1.0, Proposal = MALA_MC, Acceptance = metropolis, Gap = 0.0000\n",
      "Warning: Gap is very small, may be inaccurate.\n",
      "Starting problem instance 1646 of 2000 with n = 8\n"
     ]
    },
    {
     "name": "stderr",
     "output_type": "stream",
     "text": [
      "100%|██████████| 1000/1000 [00:02<00:00, 443.68it/s]\n"
     ]
    },
    {
     "name": "stdout",
     "output_type": "stream",
     "text": [
      "\t\tTotal time for config: 2.2587478160858154\n",
      "Instance 1646, T = 1.0, Proposal = MALA_MC, Acceptance = metropolis, Gap = 0.0000\n",
      "Warning: Gap is very small, may be inaccurate.\n",
      "Starting problem instance 1647 of 2000 with n = 9\n"
     ]
    },
    {
     "name": "stderr",
     "output_type": "stream",
     "text": [
      "100%|██████████| 1000/1000 [00:03<00:00, 251.88it/s]\n"
     ]
    },
    {
     "name": "stdout",
     "output_type": "stream",
     "text": [
      "\t\tTotal time for config: 3.9762206077575684\n",
      "Instance 1647, T = 1.0, Proposal = MALA_MC, Acceptance = metropolis, Gap = 0.0000\n",
      "Warning: Gap is very small, may be inaccurate.\n",
      "Starting problem instance 1648 of 2000 with n = 10\n"
     ]
    },
    {
     "name": "stderr",
     "output_type": "stream",
     "text": [
      "100%|██████████| 1000/1000 [00:06<00:00, 156.55it/s]\n"
     ]
    },
    {
     "name": "stdout",
     "output_type": "stream",
     "text": [
      "\t\tTotal time for config: 6.390607118606567\n",
      "Instance 1648, T = 1.0, Proposal = MALA_MC, Acceptance = metropolis, Gap = 0.0000\n",
      "Warning: Gap is very small, may be inaccurate.\n",
      "Starting problem instance 1649 of 2000 with n = 3\n"
     ]
    },
    {
     "name": "stderr",
     "output_type": "stream",
     "text": [
      "100%|██████████| 1000/1000 [00:00<00:00, 1154.54it/s]\n"
     ]
    },
    {
     "name": "stdout",
     "output_type": "stream",
     "text": [
      "\t\tTotal time for config: 0.869295597076416\n",
      "Instance 1649, T = 1.0, Proposal = MALA_MC, Acceptance = metropolis, Gap = 0.6970\n",
      "Starting problem instance 1650 of 2000 with n = 4\n"
     ]
    },
    {
     "name": "stderr",
     "output_type": "stream",
     "text": [
      "100%|██████████| 1000/1000 [00:00<00:00, 1061.99it/s]\n"
     ]
    },
    {
     "name": "stdout",
     "output_type": "stream",
     "text": [
      "\t\tTotal time for config: 0.9465291500091553\n",
      "Instance 1650, T = 1.0, Proposal = MALA_MC, Acceptance = metropolis, Gap = 0.5081\n",
      "Starting problem instance 1651 of 2000 with n = 5\n"
     ]
    },
    {
     "name": "stderr",
     "output_type": "stream",
     "text": [
      "100%|██████████| 1000/1000 [00:01<00:00, 861.77it/s]\n"
     ]
    },
    {
     "name": "stdout",
     "output_type": "stream",
     "text": [
      "\t\tTotal time for config: 1.1624131202697754\n",
      "Instance 1651, T = 1.0, Proposal = MALA_MC, Acceptance = metropolis, Gap = 0.5141\n",
      "Starting problem instance 1652 of 2000 with n = 6\n"
     ]
    },
    {
     "name": "stderr",
     "output_type": "stream",
     "text": [
      "100%|██████████| 1000/1000 [00:01<00:00, 800.35it/s]\n"
     ]
    },
    {
     "name": "stdout",
     "output_type": "stream",
     "text": [
      "\t\tTotal time for config: 1.2494497299194336\n",
      "Instance 1652, T = 1.0, Proposal = MALA_MC, Acceptance = metropolis, Gap = 0.2125\n",
      "Starting problem instance 1653 of 2000 with n = 7\n"
     ]
    },
    {
     "name": "stderr",
     "output_type": "stream",
     "text": [
      "100%|██████████| 1000/1000 [00:01<00:00, 596.05it/s]\n"
     ]
    },
    {
     "name": "stdout",
     "output_type": "stream",
     "text": [
      "\t\tTotal time for config: 1.6828839778900146\n",
      "Instance 1653, T = 1.0, Proposal = MALA_MC, Acceptance = metropolis, Gap = 0.0959\n",
      "Starting problem instance 1654 of 2000 with n = 8\n"
     ]
    },
    {
     "name": "stderr",
     "output_type": "stream",
     "text": [
      "100%|██████████| 1000/1000 [00:02<00:00, 438.34it/s]\n"
     ]
    },
    {
     "name": "stdout",
     "output_type": "stream",
     "text": [
      "\t\tTotal time for config: 2.2844204902648926\n",
      "Instance 1654, T = 1.0, Proposal = MALA_MC, Acceptance = metropolis, Gap = 0.0000\n",
      "Warning: Gap is very small, may be inaccurate.\n",
      "Starting problem instance 1655 of 2000 with n = 9\n"
     ]
    },
    {
     "name": "stderr",
     "output_type": "stream",
     "text": [
      "100%|██████████| 1000/1000 [00:03<00:00, 270.59it/s]\n"
     ]
    },
    {
     "name": "stdout",
     "output_type": "stream",
     "text": [
      "\t\tTotal time for config: 3.7052228450775146\n",
      "Instance 1655, T = 1.0, Proposal = MALA_MC, Acceptance = metropolis, Gap = 0.0000\n",
      "Warning: Gap is very small, may be inaccurate.\n",
      "Starting problem instance 1656 of 2000 with n = 10\n"
     ]
    },
    {
     "name": "stderr",
     "output_type": "stream",
     "text": [
      "100%|██████████| 1000/1000 [00:07<00:00, 138.21it/s]\n"
     ]
    },
    {
     "name": "stdout",
     "output_type": "stream",
     "text": [
      "\t\tTotal time for config: 7.239291191101074\n",
      "Instance 1656, T = 1.0, Proposal = MALA_MC, Acceptance = metropolis, Gap = 0.0000\n",
      "Warning: Gap is very small, may be inaccurate.\n",
      "Starting problem instance 1657 of 2000 with n = 3\n"
     ]
    },
    {
     "name": "stderr",
     "output_type": "stream",
     "text": [
      "100%|██████████| 1000/1000 [00:00<00:00, 1334.95it/s]\n"
     ]
    },
    {
     "name": "stdout",
     "output_type": "stream",
     "text": [
      "\t\tTotal time for config: 0.755380392074585\n",
      "Instance 1657, T = 1.0, Proposal = MALA_MC, Acceptance = metropolis, Gap = 0.7811\n",
      "Starting problem instance 1658 of 2000 with n = 4\n"
     ]
    },
    {
     "name": "stderr",
     "output_type": "stream",
     "text": [
      "100%|██████████| 1000/1000 [00:01<00:00, 826.51it/s]\n"
     ]
    },
    {
     "name": "stdout",
     "output_type": "stream",
     "text": [
      "\t\tTotal time for config: 1.2139074802398682\n",
      "Instance 1658, T = 1.0, Proposal = MALA_MC, Acceptance = metropolis, Gap = 0.2932\n",
      "Starting problem instance 1659 of 2000 with n = 5\n"
     ]
    },
    {
     "name": "stderr",
     "output_type": "stream",
     "text": [
      "100%|██████████| 1000/1000 [00:01<00:00, 515.60it/s]\n"
     ]
    },
    {
     "name": "stdout",
     "output_type": "stream",
     "text": [
      "\t\tTotal time for config: 1.9429068565368652\n",
      "Instance 1659, T = 1.0, Proposal = MALA_MC, Acceptance = metropolis, Gap = 0.0000\n",
      "Warning: Gap is very small, may be inaccurate.\n",
      "Starting problem instance 1660 of 2000 with n = 6\n"
     ]
    },
    {
     "name": "stderr",
     "output_type": "stream",
     "text": [
      "100%|██████████| 1000/1000 [00:02<00:00, 495.52it/s]\n"
     ]
    },
    {
     "name": "stdout",
     "output_type": "stream",
     "text": [
      "\t\tTotal time for config: 2.0210986137390137\n",
      "Instance 1660, T = 1.0, Proposal = MALA_MC, Acceptance = metropolis, Gap = 0.0133\n",
      "Starting problem instance 1661 of 2000 with n = 7\n"
     ]
    },
    {
     "name": "stderr",
     "output_type": "stream",
     "text": [
      "100%|██████████| 1000/1000 [00:01<00:00, 501.92it/s]\n"
     ]
    },
    {
     "name": "stdout",
     "output_type": "stream",
     "text": [
      "\t\tTotal time for config: 1.9963531494140625\n",
      "Instance 1661, T = 1.0, Proposal = MALA_MC, Acceptance = metropolis, Gap = 0.0000\n",
      "Warning: Gap is very small, may be inaccurate.\n",
      "Starting problem instance 1662 of 2000 with n = 8\n"
     ]
    },
    {
     "name": "stderr",
     "output_type": "stream",
     "text": [
      "100%|██████████| 1000/1000 [00:02<00:00, 377.48it/s]\n"
     ]
    },
    {
     "name": "stdout",
     "output_type": "stream",
     "text": [
      "\t\tTotal time for config: 2.6531264781951904\n",
      "Instance 1662, T = 1.0, Proposal = MALA_MC, Acceptance = metropolis, Gap = 0.1903\n",
      "Starting problem instance 1663 of 2000 with n = 9\n"
     ]
    },
    {
     "name": "stderr",
     "output_type": "stream",
     "text": [
      "100%|██████████| 1000/1000 [00:03<00:00, 256.61it/s]\n"
     ]
    },
    {
     "name": "stdout",
     "output_type": "stream",
     "text": [
      "\t\tTotal time for config: 3.9009926319122314\n",
      "Instance 1663, T = 1.0, Proposal = MALA_MC, Acceptance = metropolis, Gap = 0.0000\n",
      "Warning: Gap is very small, may be inaccurate.\n",
      "Starting problem instance 1664 of 2000 with n = 10\n"
     ]
    },
    {
     "name": "stderr",
     "output_type": "stream",
     "text": [
      "100%|██████████| 1000/1000 [00:06<00:00, 164.15it/s]\n"
     ]
    },
    {
     "name": "stdout",
     "output_type": "stream",
     "text": [
      "\t\tTotal time for config: 6.0944507122039795\n",
      "Instance 1664, T = 1.0, Proposal = MALA_MC, Acceptance = metropolis, Gap = 0.0000\n",
      "Warning: Gap is very small, may be inaccurate.\n",
      "Starting problem instance 1665 of 2000 with n = 3\n"
     ]
    },
    {
     "name": "stderr",
     "output_type": "stream",
     "text": [
      "100%|██████████| 1000/1000 [00:00<00:00, 1455.61it/s]\n"
     ]
    },
    {
     "name": "stdout",
     "output_type": "stream",
     "text": [
      "\t\tTotal time for config: 0.692500114440918\n",
      "Instance 1665, T = 1.0, Proposal = MALA_MC, Acceptance = metropolis, Gap = 0.8034\n",
      "Starting problem instance 1666 of 2000 with n = 4\n"
     ]
    },
    {
     "name": "stderr",
     "output_type": "stream",
     "text": [
      "100%|██████████| 1000/1000 [00:00<00:00, 1118.33it/s]\n"
     ]
    },
    {
     "name": "stdout",
     "output_type": "stream",
     "text": [
      "\t\tTotal time for config: 0.8971371650695801\n",
      "Instance 1666, T = 1.0, Proposal = MALA_MC, Acceptance = metropolis, Gap = 0.7355\n",
      "Starting problem instance 1667 of 2000 with n = 5\n"
     ]
    },
    {
     "name": "stderr",
     "output_type": "stream",
     "text": [
      "100%|██████████| 1000/1000 [00:01<00:00, 893.69it/s]\n"
     ]
    },
    {
     "name": "stdout",
     "output_type": "stream",
     "text": [
      "\t\tTotal time for config: 1.1229381561279297\n",
      "Instance 1667, T = 1.0, Proposal = MALA_MC, Acceptance = metropolis, Gap = 0.7515\n",
      "Starting problem instance 1668 of 2000 with n = 6\n"
     ]
    },
    {
     "name": "stderr",
     "output_type": "stream",
     "text": [
      "100%|██████████| 1000/1000 [00:01<00:00, 737.83it/s]\n"
     ]
    },
    {
     "name": "stdout",
     "output_type": "stream",
     "text": [
      "\t\tTotal time for config: 1.3602869510650635\n",
      "Instance 1668, T = 1.0, Proposal = MALA_MC, Acceptance = metropolis, Gap = 0.0000\n",
      "Warning: Gap is very small, may be inaccurate.\n",
      "Starting problem instance 1669 of 2000 with n = 7\n"
     ]
    },
    {
     "name": "stderr",
     "output_type": "stream",
     "text": [
      "100%|██████████| 1000/1000 [00:01<00:00, 637.10it/s]\n"
     ]
    },
    {
     "name": "stdout",
     "output_type": "stream",
     "text": [
      "\t\tTotal time for config: 1.5737285614013672\n",
      "Instance 1669, T = 1.0, Proposal = MALA_MC, Acceptance = metropolis, Gap = 0.0522\n",
      "Starting problem instance 1670 of 2000 with n = 8\n"
     ]
    },
    {
     "name": "stderr",
     "output_type": "stream",
     "text": [
      "100%|██████████| 1000/1000 [00:02<00:00, 462.03it/s]\n"
     ]
    },
    {
     "name": "stdout",
     "output_type": "stream",
     "text": [
      "\t\tTotal time for config: 2.167726516723633\n",
      "Instance 1670, T = 1.0, Proposal = MALA_MC, Acceptance = metropolis, Gap = 0.0000\n",
      "Warning: Gap is very small, may be inaccurate.\n",
      "Starting problem instance 1671 of 2000 with n = 9\n"
     ]
    },
    {
     "name": "stderr",
     "output_type": "stream",
     "text": [
      "100%|██████████| 1000/1000 [00:03<00:00, 285.48it/s]\n"
     ]
    },
    {
     "name": "stdout",
     "output_type": "stream",
     "text": [
      "\t\tTotal time for config: 3.5062756538391113\n",
      "Instance 1671, T = 1.0, Proposal = MALA_MC, Acceptance = metropolis, Gap = 0.0000\n",
      "Warning: Gap is very small, may be inaccurate.\n",
      "Starting problem instance 1672 of 2000 with n = 10\n"
     ]
    },
    {
     "name": "stderr",
     "output_type": "stream",
     "text": [
      "100%|██████████| 1000/1000 [00:06<00:00, 160.28it/s]\n"
     ]
    },
    {
     "name": "stdout",
     "output_type": "stream",
     "text": [
      "\t\tTotal time for config: 6.241973876953125\n",
      "Instance 1672, T = 1.0, Proposal = MALA_MC, Acceptance = metropolis, Gap = 0.0000\n",
      "Warning: Gap is very small, may be inaccurate.\n",
      "Starting problem instance 1673 of 2000 with n = 3\n"
     ]
    },
    {
     "name": "stderr",
     "output_type": "stream",
     "text": [
      "100%|██████████| 1000/1000 [00:00<00:00, 1497.53it/s]\n"
     ]
    },
    {
     "name": "stdout",
     "output_type": "stream",
     "text": [
      "\t\tTotal time for config: 0.6717641353607178\n",
      "Instance 1673, T = 1.0, Proposal = MALA_MC, Acceptance = metropolis, Gap = 0.7719\n",
      "Starting problem instance 1674 of 2000 with n = 4\n"
     ]
    },
    {
     "name": "stderr",
     "output_type": "stream",
     "text": [
      "100%|██████████| 1000/1000 [00:00<00:00, 1006.19it/s]\n"
     ]
    },
    {
     "name": "stdout",
     "output_type": "stream",
     "text": [
      "\t\tTotal time for config: 0.9968492984771729\n",
      "Instance 1674, T = 1.0, Proposal = MALA_MC, Acceptance = metropolis, Gap = 0.7059\n",
      "Starting problem instance 1675 of 2000 with n = 5\n"
     ]
    },
    {
     "name": "stderr",
     "output_type": "stream",
     "text": [
      "100%|██████████| 1000/1000 [00:01<00:00, 915.90it/s]\n"
     ]
    },
    {
     "name": "stdout",
     "output_type": "stream",
     "text": [
      "\t\tTotal time for config: 1.0958187580108643\n",
      "Instance 1675, T = 1.0, Proposal = MALA_MC, Acceptance = metropolis, Gap = 0.0000\n",
      "Warning: Gap is very small, may be inaccurate.\n",
      "Starting problem instance 1676 of 2000 with n = 6\n"
     ]
    },
    {
     "name": "stderr",
     "output_type": "stream",
     "text": [
      "100%|██████████| 1000/1000 [00:01<00:00, 720.83it/s]\n"
     ]
    },
    {
     "name": "stdout",
     "output_type": "stream",
     "text": [
      "\t\tTotal time for config: 1.3902275562286377\n",
      "Instance 1676, T = 1.0, Proposal = MALA_MC, Acceptance = metropolis, Gap = 0.0000\n",
      "Warning: Gap is very small, may be inaccurate.\n",
      "Starting problem instance 1677 of 2000 with n = 7\n"
     ]
    },
    {
     "name": "stderr",
     "output_type": "stream",
     "text": [
      "100%|██████████| 1000/1000 [00:01<00:00, 577.60it/s]\n"
     ]
    },
    {
     "name": "stdout",
     "output_type": "stream",
     "text": [
      "\t\tTotal time for config: 1.734236717224121\n",
      "Instance 1677, T = 1.0, Proposal = MALA_MC, Acceptance = metropolis, Gap = 0.0000\n",
      "Warning: Gap is very small, may be inaccurate.\n",
      "Starting problem instance 1678 of 2000 with n = 8\n"
     ]
    },
    {
     "name": "stderr",
     "output_type": "stream",
     "text": [
      "100%|██████████| 1000/1000 [00:02<00:00, 478.82it/s]\n"
     ]
    },
    {
     "name": "stdout",
     "output_type": "stream",
     "text": [
      "\t\tTotal time for config: 2.092057704925537\n",
      "Instance 1678, T = 1.0, Proposal = MALA_MC, Acceptance = metropolis, Gap = 0.0000\n",
      "Warning: Gap is very small, may be inaccurate.\n",
      "Starting problem instance 1679 of 2000 with n = 9\n"
     ]
    },
    {
     "name": "stderr",
     "output_type": "stream",
     "text": [
      "100%|██████████| 1000/1000 [00:03<00:00, 312.12it/s]\n"
     ]
    },
    {
     "name": "stdout",
     "output_type": "stream",
     "text": [
      "\t\tTotal time for config: 3.207852840423584\n",
      "Instance 1679, T = 1.0, Proposal = MALA_MC, Acceptance = metropolis, Gap = 0.0000\n",
      "Warning: Gap is very small, may be inaccurate.\n",
      "Starting problem instance 1680 of 2000 with n = 10\n"
     ]
    },
    {
     "name": "stderr",
     "output_type": "stream",
     "text": [
      "100%|██████████| 1000/1000 [00:06<00:00, 156.25it/s]\n"
     ]
    },
    {
     "name": "stdout",
     "output_type": "stream",
     "text": [
      "\t\tTotal time for config: 6.404783487319946\n",
      "Instance 1680, T = 1.0, Proposal = MALA_MC, Acceptance = metropolis, Gap = -0.0000\n",
      "Warning: Gap is very small, may be inaccurate.\n",
      "Starting problem instance 1681 of 2000 with n = 3\n"
     ]
    },
    {
     "name": "stderr",
     "output_type": "stream",
     "text": [
      "100%|██████████| 1000/1000 [00:00<00:00, 1136.43it/s]\n"
     ]
    },
    {
     "name": "stdout",
     "output_type": "stream",
     "text": [
      "\t\tTotal time for config: 0.8839120864868164\n",
      "Instance 1681, T = 1.0, Proposal = MALA_MC, Acceptance = metropolis, Gap = 0.7996\n",
      "Starting problem instance 1682 of 2000 with n = 4\n"
     ]
    },
    {
     "name": "stderr",
     "output_type": "stream",
     "text": [
      "100%|██████████| 1000/1000 [00:01<00:00, 925.65it/s]\n"
     ]
    },
    {
     "name": "stdout",
     "output_type": "stream",
     "text": [
      "\t\tTotal time for config: 1.0842945575714111\n",
      "Instance 1682, T = 1.0, Proposal = MALA_MC, Acceptance = metropolis, Gap = 0.6810\n",
      "Starting problem instance 1683 of 2000 with n = 5\n"
     ]
    },
    {
     "name": "stderr",
     "output_type": "stream",
     "text": [
      "100%|██████████| 1000/1000 [00:01<00:00, 755.79it/s]\n"
     ]
    },
    {
     "name": "stdout",
     "output_type": "stream",
     "text": [
      "\t\tTotal time for config: 1.3261234760284424\n",
      "Instance 1683, T = 1.0, Proposal = MALA_MC, Acceptance = metropolis, Gap = 0.7566\n",
      "Starting problem instance 1684 of 2000 with n = 6\n"
     ]
    },
    {
     "name": "stderr",
     "output_type": "stream",
     "text": [
      "100%|██████████| 1000/1000 [00:01<00:00, 653.13it/s]\n"
     ]
    },
    {
     "name": "stdout",
     "output_type": "stream",
     "text": [
      "\t\tTotal time for config: 1.534433364868164\n",
      "Instance 1684, T = 1.0, Proposal = MALA_MC, Acceptance = metropolis, Gap = 0.0000\n",
      "Warning: Gap is very small, may be inaccurate.\n",
      "Starting problem instance 1685 of 2000 with n = 7\n"
     ]
    },
    {
     "name": "stderr",
     "output_type": "stream",
     "text": [
      "100%|██████████| 1000/1000 [00:02<00:00, 463.00it/s]\n"
     ]
    },
    {
     "name": "stdout",
     "output_type": "stream",
     "text": [
      "\t\tTotal time for config: 2.163872241973877\n",
      "Instance 1685, T = 1.0, Proposal = MALA_MC, Acceptance = metropolis, Gap = 0.0000\n",
      "Warning: Gap is very small, may be inaccurate.\n",
      "Starting problem instance 1686 of 2000 with n = 8\n"
     ]
    },
    {
     "name": "stderr",
     "output_type": "stream",
     "text": [
      "100%|██████████| 1000/1000 [00:04<00:00, 246.76it/s]\n"
     ]
    },
    {
     "name": "stdout",
     "output_type": "stream",
     "text": [
      "\t\tTotal time for config: 4.056471109390259\n",
      "Instance 1686, T = 1.0, Proposal = MALA_MC, Acceptance = metropolis, Gap = 0.0000\n",
      "Warning: Gap is very small, may be inaccurate.\n",
      "Starting problem instance 1687 of 2000 with n = 9\n"
     ]
    },
    {
     "name": "stderr",
     "output_type": "stream",
     "text": [
      "100%|██████████| 1000/1000 [00:05<00:00, 186.41it/s]\n"
     ]
    },
    {
     "name": "stdout",
     "output_type": "stream",
     "text": [
      "\t\tTotal time for config: 5.369157314300537\n",
      "Instance 1687, T = 1.0, Proposal = MALA_MC, Acceptance = metropolis, Gap = 0.0000\n",
      "Warning: Gap is very small, may be inaccurate.\n",
      "Starting problem instance 1688 of 2000 with n = 10\n"
     ]
    },
    {
     "name": "stderr",
     "output_type": "stream",
     "text": [
      "100%|██████████| 1000/1000 [00:09<00:00, 100.03it/s]\n"
     ]
    },
    {
     "name": "stdout",
     "output_type": "stream",
     "text": [
      "\t\tTotal time for config: 10.000041484832764\n",
      "Instance 1688, T = 1.0, Proposal = MALA_MC, Acceptance = metropolis, Gap = 0.0000\n",
      "Warning: Gap is very small, may be inaccurate.\n",
      "Starting problem instance 1689 of 2000 with n = 3\n"
     ]
    },
    {
     "name": "stderr",
     "output_type": "stream",
     "text": [
      "100%|██████████| 1000/1000 [00:01<00:00, 958.19it/s]\n"
     ]
    },
    {
     "name": "stdout",
     "output_type": "stream",
     "text": [
      "\t\tTotal time for config: 1.0436327457427979\n",
      "Instance 1689, T = 1.0, Proposal = MALA_MC, Acceptance = metropolis, Gap = 0.6684\n",
      "Starting problem instance 1690 of 2000 with n = 4\n"
     ]
    },
    {
     "name": "stderr",
     "output_type": "stream",
     "text": [
      "100%|██████████| 1000/1000 [00:01<00:00, 664.75it/s]\n"
     ]
    },
    {
     "name": "stdout",
     "output_type": "stream",
     "text": [
      "\t\tTotal time for config: 1.5090508460998535\n",
      "Instance 1690, T = 1.0, Proposal = MALA_MC, Acceptance = metropolis, Gap = 0.7556\n",
      "Starting problem instance 1691 of 2000 with n = 5\n"
     ]
    },
    {
     "name": "stderr",
     "output_type": "stream",
     "text": [
      "100%|██████████| 1000/1000 [00:01<00:00, 538.30it/s]\n"
     ]
    },
    {
     "name": "stdout",
     "output_type": "stream",
     "text": [
      "\t\tTotal time for config: 1.8629868030548096\n",
      "Instance 1691, T = 1.0, Proposal = MALA_MC, Acceptance = metropolis, Gap = 0.0000\n",
      "Warning: Gap is very small, may be inaccurate.\n",
      "Starting problem instance 1692 of 2000 with n = 6\n"
     ]
    },
    {
     "name": "stderr",
     "output_type": "stream",
     "text": [
      "100%|██████████| 1000/1000 [00:01<00:00, 506.28it/s]\n"
     ]
    },
    {
     "name": "stdout",
     "output_type": "stream",
     "text": [
      "\t\tTotal time for config: 1.9801888465881348\n",
      "Instance 1692, T = 1.0, Proposal = MALA_MC, Acceptance = metropolis, Gap = 0.0000\n",
      "Warning: Gap is very small, may be inaccurate.\n",
      "Starting problem instance 1693 of 2000 with n = 7\n"
     ]
    },
    {
     "name": "stderr",
     "output_type": "stream",
     "text": [
      "100%|██████████| 1000/1000 [00:02<00:00, 402.64it/s]\n"
     ]
    },
    {
     "name": "stdout",
     "output_type": "stream",
     "text": [
      "\t\tTotal time for config: 2.4896206855773926\n",
      "Instance 1693, T = 1.0, Proposal = MALA_MC, Acceptance = metropolis, Gap = 0.0000\n",
      "Warning: Gap is very small, may be inaccurate.\n",
      "Starting problem instance 1694 of 2000 with n = 8\n"
     ]
    },
    {
     "name": "stderr",
     "output_type": "stream",
     "text": [
      "100%|██████████| 1000/1000 [00:03<00:00, 331.59it/s]\n"
     ]
    },
    {
     "name": "stdout",
     "output_type": "stream",
     "text": [
      "\t\tTotal time for config: 3.021097183227539\n",
      "Instance 1694, T = 1.0, Proposal = MALA_MC, Acceptance = metropolis, Gap = 0.0000\n",
      "Warning: Gap is very small, may be inaccurate.\n",
      "Starting problem instance 1695 of 2000 with n = 9\n"
     ]
    },
    {
     "name": "stderr",
     "output_type": "stream",
     "text": [
      "100%|██████████| 1000/1000 [00:04<00:00, 201.90it/s]\n"
     ]
    },
    {
     "name": "stdout",
     "output_type": "stream",
     "text": [
      "\t\tTotal time for config: 4.95931601524353\n",
      "Instance 1695, T = 1.0, Proposal = MALA_MC, Acceptance = metropolis, Gap = 0.0000\n",
      "Warning: Gap is very small, may be inaccurate.\n",
      "Starting problem instance 1696 of 2000 with n = 10\n"
     ]
    },
    {
     "name": "stderr",
     "output_type": "stream",
     "text": [
      "100%|██████████| 1000/1000 [00:10<00:00, 97.65it/s]\n"
     ]
    },
    {
     "name": "stdout",
     "output_type": "stream",
     "text": [
      "\t\tTotal time for config: 10.245701313018799\n",
      "Instance 1696, T = 1.0, Proposal = MALA_MC, Acceptance = metropolis, Gap = -0.0000\n",
      "Warning: Gap is very small, may be inaccurate.\n",
      "Starting problem instance 1697 of 2000 with n = 3\n"
     ]
    },
    {
     "name": "stderr",
     "output_type": "stream",
     "text": [
      "100%|██████████| 1000/1000 [00:01<00:00, 915.06it/s]\n"
     ]
    },
    {
     "name": "stdout",
     "output_type": "stream",
     "text": [
      "\t\tTotal time for config: 1.0948264598846436\n",
      "Instance 1697, T = 1.0, Proposal = MALA_MC, Acceptance = metropolis, Gap = 0.2967\n",
      "Starting problem instance 1698 of 2000 with n = 4\n"
     ]
    },
    {
     "name": "stderr",
     "output_type": "stream",
     "text": [
      "100%|██████████| 1000/1000 [00:01<00:00, 639.94it/s]\n"
     ]
    },
    {
     "name": "stdout",
     "output_type": "stream",
     "text": [
      "\t\tTotal time for config: 1.5666658878326416\n",
      "Instance 1698, T = 1.0, Proposal = MALA_MC, Acceptance = metropolis, Gap = 0.0129\n",
      "Starting problem instance 1699 of 2000 with n = 5\n"
     ]
    },
    {
     "name": "stderr",
     "output_type": "stream",
     "text": [
      "100%|██████████| 1000/1000 [00:01<00:00, 543.03it/s]\n"
     ]
    },
    {
     "name": "stdout",
     "output_type": "stream",
     "text": [
      "\t\tTotal time for config: 1.8455085754394531\n",
      "Instance 1699, T = 1.0, Proposal = MALA_MC, Acceptance = metropolis, Gap = 0.5823\n",
      "Starting problem instance 1700 of 2000 with n = 6\n"
     ]
    },
    {
     "name": "stderr",
     "output_type": "stream",
     "text": [
      "100%|██████████| 1000/1000 [00:01<00:00, 515.91it/s]\n"
     ]
    },
    {
     "name": "stdout",
     "output_type": "stream",
     "text": [
      "\t\tTotal time for config: 1.942324161529541\n",
      "Instance 1700, T = 1.0, Proposal = MALA_MC, Acceptance = metropolis, Gap = 0.2853\n",
      "Starting problem instance 1701 of 2000 with n = 7\n"
     ]
    },
    {
     "name": "stderr",
     "output_type": "stream",
     "text": [
      "100%|██████████| 1000/1000 [00:02<00:00, 422.96it/s]\n"
     ]
    },
    {
     "name": "stdout",
     "output_type": "stream",
     "text": [
      "\t\tTotal time for config: 2.371492862701416\n",
      "Instance 1701, T = 1.0, Proposal = MALA_MC, Acceptance = metropolis, Gap = 0.0000\n",
      "Warning: Gap is very small, may be inaccurate.\n",
      "Starting problem instance 1702 of 2000 with n = 8\n"
     ]
    },
    {
     "name": "stderr",
     "output_type": "stream",
     "text": [
      "100%|██████████| 1000/1000 [00:03<00:00, 321.53it/s]\n"
     ]
    },
    {
     "name": "stdout",
     "output_type": "stream",
     "text": [
      "\t\tTotal time for config: 3.1149868965148926\n",
      "Instance 1702, T = 1.0, Proposal = MALA_MC, Acceptance = metropolis, Gap = 0.0032\n",
      "Starting problem instance 1703 of 2000 with n = 9\n"
     ]
    },
    {
     "name": "stderr",
     "output_type": "stream",
     "text": [
      "100%|██████████| 1000/1000 [00:04<00:00, 201.78it/s]\n"
     ]
    },
    {
     "name": "stdout",
     "output_type": "stream",
     "text": [
      "\t\tTotal time for config: 4.961478233337402\n",
      "Instance 1703, T = 1.0, Proposal = MALA_MC, Acceptance = metropolis, Gap = 0.0000\n",
      "Warning: Gap is very small, may be inaccurate.\n",
      "Starting problem instance 1704 of 2000 with n = 10\n"
     ]
    },
    {
     "name": "stderr",
     "output_type": "stream",
     "text": [
      "100%|██████████| 1000/1000 [00:09<00:00, 100.94it/s]\n"
     ]
    },
    {
     "name": "stdout",
     "output_type": "stream",
     "text": [
      "\t\tTotal time for config: 9.909651517868042\n",
      "Instance 1704, T = 1.0, Proposal = MALA_MC, Acceptance = metropolis, Gap = 0.0000\n",
      "Warning: Gap is very small, may be inaccurate.\n",
      "Starting problem instance 1705 of 2000 with n = 3\n"
     ]
    },
    {
     "name": "stderr",
     "output_type": "stream",
     "text": [
      "100%|██████████| 1000/1000 [00:01<00:00, 821.68it/s]\n"
     ]
    },
    {
     "name": "stdout",
     "output_type": "stream",
     "text": [
      "\t\tTotal time for config: 1.221024990081787\n",
      "Instance 1705, T = 1.0, Proposal = MALA_MC, Acceptance = metropolis, Gap = 0.5894\n",
      "Starting problem instance 1706 of 2000 with n = 4\n"
     ]
    },
    {
     "name": "stderr",
     "output_type": "stream",
     "text": [
      "100%|██████████| 1000/1000 [00:01<00:00, 707.64it/s]\n"
     ]
    },
    {
     "name": "stdout",
     "output_type": "stream",
     "text": [
      "\t\tTotal time for config: 1.4161536693572998\n",
      "Instance 1706, T = 1.0, Proposal = MALA_MC, Acceptance = metropolis, Gap = 0.0233\n",
      "Starting problem instance 1707 of 2000 with n = 5\n"
     ]
    },
    {
     "name": "stderr",
     "output_type": "stream",
     "text": [
      "100%|██████████| 1000/1000 [00:01<00:00, 531.27it/s]\n"
     ]
    },
    {
     "name": "stdout",
     "output_type": "stream",
     "text": [
      "\t\tTotal time for config: 1.8871493339538574\n",
      "Instance 1707, T = 1.0, Proposal = MALA_MC, Acceptance = metropolis, Gap = 0.0000\n",
      "Warning: Gap is very small, may be inaccurate.\n",
      "Starting problem instance 1708 of 2000 with n = 6\n"
     ]
    },
    {
     "name": "stderr",
     "output_type": "stream",
     "text": [
      "100%|██████████| 1000/1000 [00:02<00:00, 471.58it/s]\n"
     ]
    },
    {
     "name": "stdout",
     "output_type": "stream",
     "text": [
      "\t\tTotal time for config: 2.1250088214874268\n",
      "Instance 1708, T = 1.0, Proposal = MALA_MC, Acceptance = metropolis, Gap = 0.1655\n",
      "Starting problem instance 1709 of 2000 with n = 7\n"
     ]
    },
    {
     "name": "stderr",
     "output_type": "stream",
     "text": [
      "100%|██████████| 1000/1000 [00:02<00:00, 441.59it/s]\n"
     ]
    },
    {
     "name": "stdout",
     "output_type": "stream",
     "text": [
      "\t\tTotal time for config: 2.2685396671295166\n",
      "Instance 1709, T = 1.0, Proposal = MALA_MC, Acceptance = metropolis, Gap = 0.5773\n",
      "Starting problem instance 1710 of 2000 with n = 8\n"
     ]
    },
    {
     "name": "stderr",
     "output_type": "stream",
     "text": [
      "100%|██████████| 1000/1000 [00:02<00:00, 372.81it/s]\n"
     ]
    },
    {
     "name": "stdout",
     "output_type": "stream",
     "text": [
      "\t\tTotal time for config: 2.682347059249878\n",
      "Instance 1710, T = 1.0, Proposal = MALA_MC, Acceptance = metropolis, Gap = 0.0000\n",
      "Warning: Gap is very small, may be inaccurate.\n",
      "Starting problem instance 1711 of 2000 with n = 9\n"
     ]
    },
    {
     "name": "stderr",
     "output_type": "stream",
     "text": [
      "100%|██████████| 1000/1000 [3:33:30<00:00, 12.81s/it] \n"
     ]
    },
    {
     "name": "stdout",
     "output_type": "stream",
     "text": [
      "\t\tTotal time for config: 12810.522214889526\n",
      "Instance 1711, T = 1.0, Proposal = MALA_MC, Acceptance = metropolis, Gap = 0.0000\n",
      "Warning: Gap is very small, may be inaccurate.\n",
      "Starting problem instance 1712 of 2000 with n = 10\n"
     ]
    },
    {
     "name": "stderr",
     "output_type": "stream",
     "text": [
      "100%|██████████| 1000/1000 [00:11<00:00, 84.65it/s] \n"
     ]
    },
    {
     "name": "stdout",
     "output_type": "stream",
     "text": [
      "\t\tTotal time for config: 11.824164867401123\n",
      "Instance 1712, T = 1.0, Proposal = MALA_MC, Acceptance = metropolis, Gap = 0.0000\n",
      "Warning: Gap is very small, may be inaccurate.\n",
      "Starting problem instance 1713 of 2000 with n = 3\n"
     ]
    },
    {
     "name": "stderr",
     "output_type": "stream",
     "text": [
      "100%|██████████| 1000/1000 [00:00<00:00, 1465.96it/s]\n"
     ]
    },
    {
     "name": "stdout",
     "output_type": "stream",
     "text": [
      "\t\tTotal time for config: 0.695105791091919\n",
      "Instance 1713, T = 1.0, Proposal = MALA_MC, Acceptance = metropolis, Gap = 0.2031\n",
      "Starting problem instance 1714 of 2000 with n = 4\n"
     ]
    },
    {
     "name": "stderr",
     "output_type": "stream",
     "text": [
      "100%|██████████| 1000/1000 [00:01<00:00, 646.85it/s]\n"
     ]
    },
    {
     "name": "stdout",
     "output_type": "stream",
     "text": [
      "\t\tTotal time for config: 1.5546464920043945\n",
      "Instance 1714, T = 1.0, Proposal = MALA_MC, Acceptance = metropolis, Gap = 0.3409\n",
      "Starting problem instance 1715 of 2000 with n = 5\n"
     ]
    },
    {
     "name": "stderr",
     "output_type": "stream",
     "text": [
      "100%|██████████| 1000/1000 [00:02<00:00, 368.15it/s]\n"
     ]
    },
    {
     "name": "stdout",
     "output_type": "stream",
     "text": [
      "\t\tTotal time for config: 2.726876735687256\n",
      "Instance 1715, T = 1.0, Proposal = MALA_MC, Acceptance = metropolis, Gap = 0.0000\n",
      "Warning: Gap is very small, may be inaccurate.\n",
      "Starting problem instance 1716 of 2000 with n = 6\n"
     ]
    },
    {
     "name": "stderr",
     "output_type": "stream",
     "text": [
      "100%|██████████| 1000/1000 [00:02<00:00, 350.13it/s]\n"
     ]
    },
    {
     "name": "stdout",
     "output_type": "stream",
     "text": [
      "\t\tTotal time for config: 2.8601253032684326\n",
      "Instance 1716, T = 1.0, Proposal = MALA_MC, Acceptance = metropolis, Gap = 0.0327\n",
      "Starting problem instance 1717 of 2000 with n = 7\n"
     ]
    },
    {
     "name": "stderr",
     "output_type": "stream",
     "text": [
      "100%|██████████| 1000/1000 [00:02<00:00, 452.58it/s]\n"
     ]
    },
    {
     "name": "stdout",
     "output_type": "stream",
     "text": [
      "\t\tTotal time for config: 2.216484546661377\n",
      "Instance 1717, T = 1.0, Proposal = MALA_MC, Acceptance = metropolis, Gap = 0.0000\n",
      "Warning: Gap is very small, may be inaccurate.\n",
      "Starting problem instance 1718 of 2000 with n = 8\n"
     ]
    },
    {
     "name": "stderr",
     "output_type": "stream",
     "text": [
      "100%|██████████| 1000/1000 [00:03<00:00, 288.32it/s]\n"
     ]
    },
    {
     "name": "stdout",
     "output_type": "stream",
     "text": [
      "\t\tTotal time for config: 3.478987455368042\n",
      "Instance 1718, T = 1.0, Proposal = MALA_MC, Acceptance = metropolis, Gap = 0.0000\n",
      "Warning: Gap is very small, may be inaccurate.\n",
      "Starting problem instance 1719 of 2000 with n = 9\n"
     ]
    },
    {
     "name": "stderr",
     "output_type": "stream",
     "text": [
      "100%|██████████| 1000/1000 [00:03<00:00, 281.32it/s]\n"
     ]
    },
    {
     "name": "stdout",
     "output_type": "stream",
     "text": [
      "\t\tTotal time for config: 3.562668561935425\n",
      "Instance 1719, T = 1.0, Proposal = MALA_MC, Acceptance = metropolis, Gap = 0.0000\n",
      "Warning: Gap is very small, may be inaccurate.\n",
      "Starting problem instance 1720 of 2000 with n = 10\n"
     ]
    },
    {
     "name": "stderr",
     "output_type": "stream",
     "text": [
      "100%|██████████| 1000/1000 [00:07<00:00, 128.62it/s]\n"
     ]
    },
    {
     "name": "stdout",
     "output_type": "stream",
     "text": [
      "\t\tTotal time for config: 7.774832725524902\n",
      "Instance 1720, T = 1.0, Proposal = MALA_MC, Acceptance = metropolis, Gap = 0.0000\n",
      "Warning: Gap is very small, may be inaccurate.\n",
      "Starting problem instance 1721 of 2000 with n = 3\n"
     ]
    },
    {
     "name": "stderr",
     "output_type": "stream",
     "text": [
      "100%|██████████| 1000/1000 [00:00<00:00, 1263.93it/s]\n"
     ]
    },
    {
     "name": "stdout",
     "output_type": "stream",
     "text": [
      "\t\tTotal time for config: 0.801720142364502\n",
      "Instance 1721, T = 1.0, Proposal = MALA_MC, Acceptance = metropolis, Gap = 0.6462\n",
      "Starting problem instance 1722 of 2000 with n = 4\n"
     ]
    },
    {
     "name": "stderr",
     "output_type": "stream",
     "text": [
      "100%|██████████| 1000/1000 [00:00<00:00, 1169.08it/s]\n"
     ]
    },
    {
     "name": "stdout",
     "output_type": "stream",
     "text": [
      "\t\tTotal time for config: 0.8553726673126221\n",
      "Instance 1722, T = 1.0, Proposal = MALA_MC, Acceptance = metropolis, Gap = 0.6489\n",
      "Starting problem instance 1723 of 2000 with n = 5\n"
     ]
    },
    {
     "name": "stderr",
     "output_type": "stream",
     "text": [
      "100%|██████████| 1000/1000 [00:01<00:00, 823.35it/s]\n"
     ]
    },
    {
     "name": "stdout",
     "output_type": "stream",
     "text": [
      "\t\tTotal time for config: 1.2145540714263916\n",
      "Instance 1723, T = 1.0, Proposal = MALA_MC, Acceptance = metropolis, Gap = 0.0000\n",
      "Starting problem instance 1724 of 2000 with n = 6\n"
     ]
    },
    {
     "name": "stderr",
     "output_type": "stream",
     "text": [
      "100%|██████████| 1000/1000 [00:01<00:00, 668.49it/s]\n"
     ]
    },
    {
     "name": "stdout",
     "output_type": "stream",
     "text": [
      "\t\tTotal time for config: 1.5060813426971436\n",
      "Instance 1724, T = 1.0, Proposal = MALA_MC, Acceptance = metropolis, Gap = 0.0000\n",
      "Warning: Gap is very small, may be inaccurate.\n",
      "Starting problem instance 1725 of 2000 with n = 7\n"
     ]
    },
    {
     "name": "stderr",
     "output_type": "stream",
     "text": [
      "100%|██████████| 1000/1000 [00:01<00:00, 595.81it/s]\n"
     ]
    },
    {
     "name": "stdout",
     "output_type": "stream",
     "text": [
      "\t\tTotal time for config: 1.6783831119537354\n",
      "Instance 1725, T = 1.0, Proposal = MALA_MC, Acceptance = metropolis, Gap = 0.0000\n",
      "Warning: Gap is very small, may be inaccurate.\n",
      "Starting problem instance 1726 of 2000 with n = 8\n"
     ]
    },
    {
     "name": "stderr",
     "output_type": "stream",
     "text": [
      "100%|██████████| 1000/1000 [00:02<00:00, 408.54it/s]\n"
     ]
    },
    {
     "name": "stdout",
     "output_type": "stream",
     "text": [
      "\t\tTotal time for config: 2.447748899459839\n",
      "Instance 1726, T = 1.0, Proposal = MALA_MC, Acceptance = metropolis, Gap = 0.0000\n",
      "Warning: Gap is very small, may be inaccurate.\n",
      "Starting problem instance 1727 of 2000 with n = 9\n"
     ]
    },
    {
     "name": "stderr",
     "output_type": "stream",
     "text": [
      "100%|██████████| 1000/1000 [00:03<00:00, 272.42it/s]\n"
     ]
    },
    {
     "name": "stdout",
     "output_type": "stream",
     "text": [
      "\t\tTotal time for config: 3.670861005783081\n",
      "Instance 1727, T = 1.0, Proposal = MALA_MC, Acceptance = metropolis, Gap = 0.0000\n",
      "Warning: Gap is very small, may be inaccurate.\n",
      "Starting problem instance 1728 of 2000 with n = 10\n"
     ]
    },
    {
     "name": "stderr",
     "output_type": "stream",
     "text": [
      "100%|██████████| 1000/1000 [00:06<00:00, 145.77it/s]\n"
     ]
    },
    {
     "name": "stdout",
     "output_type": "stream",
     "text": [
      "\t\tTotal time for config: 6.860328197479248\n",
      "Instance 1728, T = 1.0, Proposal = MALA_MC, Acceptance = metropolis, Gap = 0.0000\n",
      "Warning: Gap is very small, may be inaccurate.\n",
      "Starting problem instance 1729 of 2000 with n = 3\n"
     ]
    },
    {
     "name": "stderr",
     "output_type": "stream",
     "text": [
      "100%|██████████| 1000/1000 [00:00<00:00, 1497.37it/s]\n"
     ]
    },
    {
     "name": "stdout",
     "output_type": "stream",
     "text": [
      "\t\tTotal time for config: 0.6709644794464111\n",
      "Instance 1729, T = 1.0, Proposal = MALA_MC, Acceptance = metropolis, Gap = 0.9064\n",
      "Starting problem instance 1730 of 2000 with n = 4\n"
     ]
    },
    {
     "name": "stderr",
     "output_type": "stream",
     "text": [
      "100%|██████████| 1000/1000 [00:00<00:00, 1107.34it/s]\n"
     ]
    },
    {
     "name": "stdout",
     "output_type": "stream",
     "text": [
      "\t\tTotal time for config: 0.9030656814575195\n",
      "Instance 1730, T = 1.0, Proposal = MALA_MC, Acceptance = metropolis, Gap = 0.6425\n",
      "Starting problem instance 1731 of 2000 with n = 5\n"
     ]
    },
    {
     "name": "stderr",
     "output_type": "stream",
     "text": [
      "100%|██████████| 1000/1000 [00:01<00:00, 972.94it/s]\n"
     ]
    },
    {
     "name": "stdout",
     "output_type": "stream",
     "text": [
      "\t\tTotal time for config: 1.0278167724609375\n",
      "Instance 1731, T = 1.0, Proposal = MALA_MC, Acceptance = metropolis, Gap = 0.8609\n",
      "Starting problem instance 1732 of 2000 with n = 6\n"
     ]
    },
    {
     "name": "stderr",
     "output_type": "stream",
     "text": [
      "100%|██████████| 1000/1000 [00:01<00:00, 859.84it/s]\n"
     ]
    },
    {
     "name": "stdout",
     "output_type": "stream",
     "text": [
      "\t\tTotal time for config: 1.1630120277404785\n",
      "Instance 1732, T = 1.0, Proposal = MALA_MC, Acceptance = metropolis, Gap = 0.0073\n",
      "Starting problem instance 1733 of 2000 with n = 7\n"
     ]
    },
    {
     "name": "stderr",
     "output_type": "stream",
     "text": [
      "100%|██████████| 1000/1000 [00:02<00:00, 412.05it/s]\n"
     ]
    },
    {
     "name": "stdout",
     "output_type": "stream",
     "text": [
      "\t\tTotal time for config: 2.4268991947174072\n",
      "Instance 1733, T = 1.0, Proposal = MALA_MC, Acceptance = metropolis, Gap = 0.0424\n",
      "Starting problem instance 1734 of 2000 with n = 8\n"
     ]
    },
    {
     "name": "stderr",
     "output_type": "stream",
     "text": [
      "100%|██████████| 1000/1000 [00:02<00:00, 362.55it/s]\n"
     ]
    },
    {
     "name": "stdout",
     "output_type": "stream",
     "text": [
      "\t\tTotal time for config: 2.769702911376953\n",
      "Instance 1734, T = 1.0, Proposal = MALA_MC, Acceptance = metropolis, Gap = 0.0000\n",
      "Warning: Gap is very small, may be inaccurate.\n",
      "Starting problem instance 1735 of 2000 with n = 9\n"
     ]
    },
    {
     "name": "stderr",
     "output_type": "stream",
     "text": [
      "100%|██████████| 1000/1000 [00:03<00:00, 330.89it/s]\n"
     ]
    },
    {
     "name": "stdout",
     "output_type": "stream",
     "text": [
      "\t\tTotal time for config: 3.022127628326416\n",
      "Instance 1735, T = 1.0, Proposal = MALA_MC, Acceptance = metropolis, Gap = 0.0000\n",
      "Warning: Gap is very small, may be inaccurate.\n",
      "Starting problem instance 1736 of 2000 with n = 10\n"
     ]
    },
    {
     "name": "stderr",
     "output_type": "stream",
     "text": [
      "100%|██████████| 1000/1000 [00:06<00:00, 155.17it/s]\n"
     ]
    },
    {
     "name": "stdout",
     "output_type": "stream",
     "text": [
      "\t\tTotal time for config: 6.444662809371948\n",
      "Instance 1736, T = 1.0, Proposal = MALA_MC, Acceptance = metropolis, Gap = 0.0000\n",
      "Warning: Gap is very small, may be inaccurate.\n",
      "Starting problem instance 1737 of 2000 with n = 3\n"
     ]
    },
    {
     "name": "stderr",
     "output_type": "stream",
     "text": [
      "100%|██████████| 1000/1000 [00:00<00:00, 1202.74it/s]\n"
     ]
    },
    {
     "name": "stdout",
     "output_type": "stream",
     "text": [
      "\t\tTotal time for config: 0.8314335346221924\n",
      "Instance 1737, T = 1.0, Proposal = MALA_MC, Acceptance = metropolis, Gap = 0.6873\n",
      "Starting problem instance 1738 of 2000 with n = 4\n"
     ]
    },
    {
     "name": "stderr",
     "output_type": "stream",
     "text": [
      "100%|██████████| 1000/1000 [00:01<00:00, 864.62it/s]\n"
     ]
    },
    {
     "name": "stdout",
     "output_type": "stream",
     "text": [
      "\t\tTotal time for config: 1.156571865081787\n",
      "Instance 1738, T = 1.0, Proposal = MALA_MC, Acceptance = metropolis, Gap = 0.0939\n",
      "Starting problem instance 1739 of 2000 with n = 5\n"
     ]
    },
    {
     "name": "stderr",
     "output_type": "stream",
     "text": [
      "100%|██████████| 1000/1000 [00:01<00:00, 799.39it/s]\n"
     ]
    },
    {
     "name": "stdout",
     "output_type": "stream",
     "text": [
      "\t\tTotal time for config: 1.2669169902801514\n",
      "Instance 1739, T = 1.0, Proposal = MALA_MC, Acceptance = metropolis, Gap = 0.7191\n",
      "Starting problem instance 1740 of 2000 with n = 6\n"
     ]
    },
    {
     "name": "stderr",
     "output_type": "stream",
     "text": [
      "100%|██████████| 1000/1000 [00:02<00:00, 399.80it/s]\n"
     ]
    },
    {
     "name": "stdout",
     "output_type": "stream",
     "text": [
      "\t\tTotal time for config: 2.5012412071228027\n",
      "Instance 1740, T = 1.0, Proposal = MALA_MC, Acceptance = metropolis, Gap = 0.0000\n",
      "Warning: Gap is very small, may be inaccurate.\n",
      "Starting problem instance 1741 of 2000 with n = 7\n"
     ]
    },
    {
     "name": "stderr",
     "output_type": "stream",
     "text": [
      "100%|██████████| 1000/1000 [00:02<00:00, 357.23it/s]\n"
     ]
    },
    {
     "name": "stdout",
     "output_type": "stream",
     "text": [
      "\t\tTotal time for config: 2.7993435859680176\n",
      "Instance 1741, T = 1.0, Proposal = MALA_MC, Acceptance = metropolis, Gap = 0.0000\n",
      "Warning: Gap is very small, may be inaccurate.\n",
      "Starting problem instance 1742 of 2000 with n = 8\n"
     ]
    },
    {
     "name": "stderr",
     "output_type": "stream",
     "text": [
      "100%|██████████| 1000/1000 [00:03<00:00, 267.82it/s]\n"
     ]
    },
    {
     "name": "stdout",
     "output_type": "stream",
     "text": [
      "\t\tTotal time for config: 3.733781576156616\n",
      "Instance 1742, T = 1.0, Proposal = MALA_MC, Acceptance = metropolis, Gap = 0.0000\n",
      "Warning: Gap is very small, may be inaccurate.\n",
      "Starting problem instance 1743 of 2000 with n = 9\n"
     ]
    },
    {
     "name": "stderr",
     "output_type": "stream",
     "text": [
      "100%|██████████| 1000/1000 [00:10<00:00, 96.64it/s]\n"
     ]
    },
    {
     "name": "stdout",
     "output_type": "stream",
     "text": [
      "\t\tTotal time for config: 10.35828423500061\n",
      "Instance 1743, T = 1.0, Proposal = MALA_MC, Acceptance = metropolis, Gap = 0.0000\n",
      "Warning: Gap is very small, may be inaccurate.\n",
      "Starting problem instance 1744 of 2000 with n = 10\n"
     ]
    },
    {
     "name": "stderr",
     "output_type": "stream",
     "text": [
      "100%|██████████| 1000/1000 [00:19<00:00, 51.96it/s]\n"
     ]
    },
    {
     "name": "stdout",
     "output_type": "stream",
     "text": [
      "\t\tTotal time for config: 19.244733333587646\n",
      "Instance 1744, T = 1.0, Proposal = MALA_MC, Acceptance = metropolis, Gap = 0.0000\n",
      "Warning: Gap is very small, may be inaccurate.\n",
      "Starting problem instance 1745 of 2000 with n = 3\n"
     ]
    },
    {
     "name": "stderr",
     "output_type": "stream",
     "text": [
      "100%|██████████| 1000/1000 [00:02<00:00, 460.29it/s]\n"
     ]
    },
    {
     "name": "stdout",
     "output_type": "stream",
     "text": [
      "\t\tTotal time for config: 2.175311803817749\n",
      "Instance 1745, T = 1.0, Proposal = MALA_MC, Acceptance = metropolis, Gap = 0.5432\n",
      "Starting problem instance 1746 of 2000 with n = 4\n"
     ]
    },
    {
     "name": "stderr",
     "output_type": "stream",
     "text": [
      "100%|██████████| 1000/1000 [00:03<00:00, 324.49it/s]\n"
     ]
    },
    {
     "name": "stdout",
     "output_type": "stream",
     "text": [
      "\t\tTotal time for config: 3.0824432373046875\n",
      "Instance 1746, T = 1.0, Proposal = MALA_MC, Acceptance = metropolis, Gap = 0.7479\n",
      "Starting problem instance 1747 of 2000 with n = 5\n"
     ]
    },
    {
     "name": "stderr",
     "output_type": "stream",
     "text": [
      "100%|██████████| 1000/1000 [00:03<00:00, 279.25it/s]\n"
     ]
    },
    {
     "name": "stdout",
     "output_type": "stream",
     "text": [
      "\t\tTotal time for config: 3.5898945331573486\n",
      "Instance 1747, T = 1.0, Proposal = MALA_MC, Acceptance = metropolis, Gap = 0.0556\n",
      "Starting problem instance 1748 of 2000 with n = 6\n"
     ]
    },
    {
     "name": "stderr",
     "output_type": "stream",
     "text": [
      "100%|██████████| 1000/1000 [00:04<00:00, 239.85it/s]\n"
     ]
    },
    {
     "name": "stdout",
     "output_type": "stream",
     "text": [
      "\t\tTotal time for config: 4.169347286224365\n",
      "Instance 1748, T = 1.0, Proposal = MALA_MC, Acceptance = metropolis, Gap = 0.0016\n",
      "Starting problem instance 1749 of 2000 with n = 7\n"
     ]
    },
    {
     "name": "stderr",
     "output_type": "stream",
     "text": [
      "100%|██████████| 1000/1000 [00:05<00:00, 192.30it/s]\n"
     ]
    },
    {
     "name": "stdout",
     "output_type": "stream",
     "text": [
      "\t\tTotal time for config: 5.200270891189575\n",
      "Instance 1749, T = 1.0, Proposal = MALA_MC, Acceptance = metropolis, Gap = 0.0000\n",
      "Warning: Gap is very small, may be inaccurate.\n",
      "Starting problem instance 1750 of 2000 with n = 8\n"
     ]
    },
    {
     "name": "stderr",
     "output_type": "stream",
     "text": [
      "100%|██████████| 1000/1000 [00:06<00:00, 161.25it/s]\n"
     ]
    },
    {
     "name": "stdout",
     "output_type": "stream",
     "text": [
      "\t\tTotal time for config: 6.217854022979736\n",
      "Instance 1750, T = 1.0, Proposal = MALA_MC, Acceptance = metropolis, Gap = 0.0000\n",
      "Warning: Gap is very small, may be inaccurate.\n",
      "Starting problem instance 1751 of 2000 with n = 9\n"
     ]
    },
    {
     "name": "stderr",
     "output_type": "stream",
     "text": [
      "100%|██████████| 1000/1000 [00:10<00:00, 95.98it/s]\n"
     ]
    },
    {
     "name": "stdout",
     "output_type": "stream",
     "text": [
      "\t\tTotal time for config: 10.426559925079346\n",
      "Instance 1751, T = 1.0, Proposal = MALA_MC, Acceptance = metropolis, Gap = 0.0000\n",
      "Warning: Gap is very small, may be inaccurate.\n",
      "Starting problem instance 1752 of 2000 with n = 10\n"
     ]
    },
    {
     "name": "stderr",
     "output_type": "stream",
     "text": [
      "100%|██████████| 1000/1000 [00:18<00:00, 53.24it/s]\n"
     ]
    },
    {
     "name": "stdout",
     "output_type": "stream",
     "text": [
      "\t\tTotal time for config: 18.791614294052124\n",
      "Instance 1752, T = 1.0, Proposal = MALA_MC, Acceptance = metropolis, Gap = 0.0000\n",
      "Warning: Gap is very small, may be inaccurate.\n",
      "Starting problem instance 1753 of 2000 with n = 3\n"
     ]
    },
    {
     "name": "stderr",
     "output_type": "stream",
     "text": [
      "100%|██████████| 1000/1000 [00:02<00:00, 420.27it/s]\n"
     ]
    },
    {
     "name": "stdout",
     "output_type": "stream",
     "text": [
      "\t\tTotal time for config: 2.381397247314453\n",
      "Instance 1753, T = 1.0, Proposal = MALA_MC, Acceptance = metropolis, Gap = 0.7550\n",
      "Starting problem instance 1754 of 2000 with n = 4\n"
     ]
    },
    {
     "name": "stderr",
     "output_type": "stream",
     "text": [
      "100%|██████████| 1000/1000 [00:02<00:00, 343.75it/s]\n"
     ]
    },
    {
     "name": "stdout",
     "output_type": "stream",
     "text": [
      "\t\tTotal time for config: 2.9172351360321045\n",
      "Instance 1754, T = 1.0, Proposal = MALA_MC, Acceptance = metropolis, Gap = 0.7048\n",
      "Starting problem instance 1755 of 2000 with n = 5\n"
     ]
    },
    {
     "name": "stderr",
     "output_type": "stream",
     "text": [
      "100%|██████████| 1000/1000 [00:03<00:00, 262.32it/s]\n"
     ]
    },
    {
     "name": "stdout",
     "output_type": "stream",
     "text": [
      "\t\tTotal time for config: 3.8185276985168457\n",
      "Instance 1755, T = 1.0, Proposal = MALA_MC, Acceptance = metropolis, Gap = 0.3747\n",
      "Starting problem instance 1756 of 2000 with n = 6\n"
     ]
    },
    {
     "name": "stderr",
     "output_type": "stream",
     "text": [
      "100%|██████████| 1000/1000 [00:04<00:00, 225.28it/s]\n"
     ]
    },
    {
     "name": "stdout",
     "output_type": "stream",
     "text": [
      "\t\tTotal time for config: 4.447428941726685\n",
      "Instance 1756, T = 1.0, Proposal = MALA_MC, Acceptance = metropolis, Gap = 0.6001\n",
      "Starting problem instance 1757 of 2000 with n = 7\n"
     ]
    },
    {
     "name": "stderr",
     "output_type": "stream",
     "text": [
      "100%|██████████| 1000/1000 [00:05<00:00, 196.25it/s]\n"
     ]
    },
    {
     "name": "stdout",
     "output_type": "stream",
     "text": [
      "\t\tTotal time for config: 5.112324476242065\n",
      "Instance 1757, T = 1.0, Proposal = MALA_MC, Acceptance = metropolis, Gap = 0.0699\n",
      "Starting problem instance 1758 of 2000 with n = 8\n"
     ]
    },
    {
     "name": "stderr",
     "output_type": "stream",
     "text": [
      "100%|██████████| 1000/1000 [00:06<00:00, 146.82it/s]\n"
     ]
    },
    {
     "name": "stdout",
     "output_type": "stream",
     "text": [
      "\t\tTotal time for config: 6.819509029388428\n",
      "Instance 1758, T = 1.0, Proposal = MALA_MC, Acceptance = metropolis, Gap = 0.0000\n",
      "Warning: Gap is very small, may be inaccurate.\n",
      "Starting problem instance 1759 of 2000 with n = 9\n"
     ]
    },
    {
     "name": "stderr",
     "output_type": "stream",
     "text": [
      "100%|██████████| 1000/1000 [00:10<00:00, 98.14it/s]\n"
     ]
    },
    {
     "name": "stdout",
     "output_type": "stream",
     "text": [
      "\t\tTotal time for config: 10.197613716125488\n",
      "Instance 1759, T = 1.0, Proposal = MALA_MC, Acceptance = metropolis, Gap = 0.0000\n",
      "Warning: Gap is very small, may be inaccurate.\n",
      "Starting problem instance 1760 of 2000 with n = 10\n"
     ]
    },
    {
     "name": "stderr",
     "output_type": "stream",
     "text": [
      "100%|██████████| 1000/1000 [00:19<00:00, 50.29it/s]\n"
     ]
    },
    {
     "name": "stdout",
     "output_type": "stream",
     "text": [
      "\t\tTotal time for config: 19.89216136932373\n",
      "Instance 1760, T = 1.0, Proposal = MALA_MC, Acceptance = metropolis, Gap = 0.0000\n",
      "Warning: Gap is very small, may be inaccurate.\n",
      "Starting problem instance 1761 of 2000 with n = 3\n"
     ]
    },
    {
     "name": "stderr",
     "output_type": "stream",
     "text": [
      "100%|██████████| 1000/1000 [00:02<00:00, 424.49it/s]\n"
     ]
    },
    {
     "name": "stdout",
     "output_type": "stream",
     "text": [
      "\t\tTotal time for config: 2.3683271408081055\n",
      "Instance 1761, T = 1.0, Proposal = MALA_MC, Acceptance = metropolis, Gap = 0.4589\n",
      "Starting problem instance 1762 of 2000 with n = 4\n"
     ]
    },
    {
     "name": "stderr",
     "output_type": "stream",
     "text": [
      "100%|██████████| 1000/1000 [00:03<00:00, 280.83it/s]\n"
     ]
    },
    {
     "name": "stdout",
     "output_type": "stream",
     "text": [
      "\t\tTotal time for config: 3.566021680831909\n",
      "Instance 1762, T = 1.0, Proposal = MALA_MC, Acceptance = metropolis, Gap = 0.1119\n",
      "Starting problem instance 1763 of 2000 with n = 5\n"
     ]
    },
    {
     "name": "stderr",
     "output_type": "stream",
     "text": [
      "100%|██████████| 1000/1000 [00:04<00:00, 243.15it/s]\n"
     ]
    },
    {
     "name": "stdout",
     "output_type": "stream",
     "text": [
      "\t\tTotal time for config: 4.12225866317749\n",
      "Instance 1763, T = 1.0, Proposal = MALA_MC, Acceptance = metropolis, Gap = 0.2056\n",
      "Starting problem instance 1764 of 2000 with n = 6\n"
     ]
    },
    {
     "name": "stderr",
     "output_type": "stream",
     "text": [
      "100%|██████████| 1000/1000 [00:04<00:00, 227.80it/s]\n"
     ]
    },
    {
     "name": "stdout",
     "output_type": "stream",
     "text": [
      "\t\tTotal time for config: 4.404798269271851\n",
      "Instance 1764, T = 1.0, Proposal = MALA_MC, Acceptance = metropolis, Gap = 0.0298\n",
      "Starting problem instance 1765 of 2000 with n = 7\n"
     ]
    },
    {
     "name": "stderr",
     "output_type": "stream",
     "text": [
      "100%|██████████| 1000/1000 [00:05<00:00, 176.32it/s]\n"
     ]
    },
    {
     "name": "stdout",
     "output_type": "stream",
     "text": [
      "\t\tTotal time for config: 5.678369045257568\n",
      "Instance 1765, T = 1.0, Proposal = MALA_MC, Acceptance = metropolis, Gap = 0.0000\n",
      "Warning: Gap is very small, may be inaccurate.\n",
      "Starting problem instance 1766 of 2000 with n = 8\n"
     ]
    },
    {
     "name": "stderr",
     "output_type": "stream",
     "text": [
      "100%|██████████| 1000/1000 [00:07<00:00, 137.43it/s]\n"
     ]
    },
    {
     "name": "stdout",
     "output_type": "stream",
     "text": [
      "\t\tTotal time for config: 7.292311429977417\n",
      "Instance 1766, T = 1.0, Proposal = MALA_MC, Acceptance = metropolis, Gap = 0.0000\n",
      "Warning: Gap is very small, may be inaccurate.\n",
      "Starting problem instance 1767 of 2000 with n = 9\n"
     ]
    },
    {
     "name": "stderr",
     "output_type": "stream",
     "text": [
      "100%|██████████| 1000/1000 [00:10<00:00, 92.71it/s]\n"
     ]
    },
    {
     "name": "stdout",
     "output_type": "stream",
     "text": [
      "\t\tTotal time for config: 10.798661470413208\n",
      "Instance 1767, T = 1.0, Proposal = MALA_MC, Acceptance = metropolis, Gap = 0.0000\n",
      "Warning: Gap is very small, may be inaccurate.\n",
      "Starting problem instance 1768 of 2000 with n = 10\n"
     ]
    },
    {
     "name": "stderr",
     "output_type": "stream",
     "text": [
      "100%|██████████| 1000/1000 [00:19<00:00, 52.16it/s]\n"
     ]
    },
    {
     "name": "stdout",
     "output_type": "stream",
     "text": [
      "\t\tTotal time for config: 19.18058681488037\n",
      "Instance 1768, T = 1.0, Proposal = MALA_MC, Acceptance = metropolis, Gap = 0.0000\n",
      "Warning: Gap is very small, may be inaccurate.\n",
      "Starting problem instance 1769 of 2000 with n = 3\n"
     ]
    },
    {
     "name": "stderr",
     "output_type": "stream",
     "text": [
      "100%|██████████| 1000/1000 [00:02<00:00, 455.85it/s]\n"
     ]
    },
    {
     "name": "stdout",
     "output_type": "stream",
     "text": [
      "\t\tTotal time for config: 2.226111650466919\n",
      "Instance 1769, T = 1.0, Proposal = MALA_MC, Acceptance = metropolis, Gap = 0.8730\n",
      "Starting problem instance 1770 of 2000 with n = 4\n"
     ]
    },
    {
     "name": "stderr",
     "output_type": "stream",
     "text": [
      "100%|██████████| 1000/1000 [00:03<00:00, 299.67it/s]\n"
     ]
    },
    {
     "name": "stdout",
     "output_type": "stream",
     "text": [
      "\t\tTotal time for config: 3.350327253341675\n",
      "Instance 1770, T = 1.0, Proposal = MALA_MC, Acceptance = metropolis, Gap = 0.7756\n",
      "Starting problem instance 1771 of 2000 with n = 5\n"
     ]
    },
    {
     "name": "stderr",
     "output_type": "stream",
     "text": [
      "100%|██████████| 1000/1000 [00:04<00:00, 227.27it/s]\n"
     ]
    },
    {
     "name": "stdout",
     "output_type": "stream",
     "text": [
      "\t\tTotal time for config: 4.409690856933594\n",
      "Instance 1771, T = 1.0, Proposal = MALA_MC, Acceptance = metropolis, Gap = 0.2900\n",
      "Starting problem instance 1772 of 2000 with n = 6\n"
     ]
    },
    {
     "name": "stderr",
     "output_type": "stream",
     "text": [
      "100%|██████████| 1000/1000 [00:04<00:00, 222.83it/s]\n"
     ]
    },
    {
     "name": "stdout",
     "output_type": "stream",
     "text": [
      "\t\tTotal time for config: 4.5007123947143555\n",
      "Instance 1772, T = 1.0, Proposal = MALA_MC, Acceptance = metropolis, Gap = 0.0645\n",
      "Starting problem instance 1773 of 2000 with n = 7\n"
     ]
    },
    {
     "name": "stderr",
     "output_type": "stream",
     "text": [
      "100%|██████████| 1000/1000 [00:05<00:00, 177.78it/s]\n"
     ]
    },
    {
     "name": "stdout",
     "output_type": "stream",
     "text": [
      "\t\tTotal time for config: 5.634593963623047\n",
      "Instance 1773, T = 1.0, Proposal = MALA_MC, Acceptance = metropolis, Gap = 0.0000\n",
      "Warning: Gap is very small, may be inaccurate.\n",
      "Starting problem instance 1774 of 2000 with n = 8\n"
     ]
    },
    {
     "name": "stderr",
     "output_type": "stream",
     "text": [
      "100%|██████████| 1000/1000 [00:07<00:00, 135.74it/s]\n"
     ]
    },
    {
     "name": "stdout",
     "output_type": "stream",
     "text": [
      "\t\tTotal time for config: 7.369271755218506\n",
      "Instance 1774, T = 1.0, Proposal = MALA_MC, Acceptance = metropolis, Gap = 0.0000\n",
      "Warning: Gap is very small, may be inaccurate.\n",
      "Starting problem instance 1775 of 2000 with n = 9\n"
     ]
    },
    {
     "name": "stderr",
     "output_type": "stream",
     "text": [
      "100%|██████████| 1000/1000 [00:10<00:00, 92.50it/s]\n"
     ]
    },
    {
     "name": "stdout",
     "output_type": "stream",
     "text": [
      "\t\tTotal time for config: 10.819052457809448\n",
      "Instance 1775, T = 1.0, Proposal = MALA_MC, Acceptance = metropolis, Gap = 0.0000\n",
      "Warning: Gap is very small, may be inaccurate.\n",
      "Starting problem instance 1776 of 2000 with n = 10\n"
     ]
    },
    {
     "name": "stderr",
     "output_type": "stream",
     "text": [
      "100%|██████████| 1000/1000 [00:20<00:00, 49.86it/s]\n"
     ]
    },
    {
     "name": "stdout",
     "output_type": "stream",
     "text": [
      "\t\tTotal time for config: 20.06797480583191\n",
      "Instance 1776, T = 1.0, Proposal = MALA_MC, Acceptance = metropolis, Gap = 0.0000\n",
      "Warning: Gap is very small, may be inaccurate.\n",
      "Starting problem instance 1777 of 2000 with n = 3\n"
     ]
    },
    {
     "name": "stderr",
     "output_type": "stream",
     "text": [
      "100%|██████████| 1000/1000 [00:02<00:00, 429.98it/s]\n"
     ]
    },
    {
     "name": "stdout",
     "output_type": "stream",
     "text": [
      "\t\tTotal time for config: 2.341662883758545\n",
      "Instance 1777, T = 1.0, Proposal = MALA_MC, Acceptance = metropolis, Gap = 0.5630\n",
      "Starting problem instance 1778 of 2000 with n = 4\n"
     ]
    },
    {
     "name": "stderr",
     "output_type": "stream",
     "text": [
      "100%|██████████| 1000/1000 [00:02<00:00, 334.49it/s]\n"
     ]
    },
    {
     "name": "stdout",
     "output_type": "stream",
     "text": [
      "\t\tTotal time for config: 2.9896678924560547\n",
      "Instance 1778, T = 1.0, Proposal = MALA_MC, Acceptance = metropolis, Gap = 0.6089\n",
      "Starting problem instance 1779 of 2000 with n = 5\n"
     ]
    },
    {
     "name": "stderr",
     "output_type": "stream",
     "text": [
      "100%|██████████| 1000/1000 [00:03<00:00, 262.60it/s]\n"
     ]
    },
    {
     "name": "stdout",
     "output_type": "stream",
     "text": [
      "\t\tTotal time for config: 3.808115243911743\n",
      "Instance 1779, T = 1.0, Proposal = MALA_MC, Acceptance = metropolis, Gap = 0.0000\n",
      "Warning: Gap is very small, may be inaccurate.\n",
      "Starting problem instance 1780 of 2000 with n = 6\n"
     ]
    },
    {
     "name": "stderr",
     "output_type": "stream",
     "text": [
      "100%|██████████| 1000/1000 [00:04<00:00, 226.69it/s]\n"
     ]
    },
    {
     "name": "stdout",
     "output_type": "stream",
     "text": [
      "\t\tTotal time for config: 4.4243457317352295\n",
      "Instance 1780, T = 1.0, Proposal = MALA_MC, Acceptance = metropolis, Gap = 0.0044\n",
      "Starting problem instance 1781 of 2000 with n = 7\n"
     ]
    },
    {
     "name": "stderr",
     "output_type": "stream",
     "text": [
      "100%|██████████| 1000/1000 [00:05<00:00, 182.21it/s]\n"
     ]
    },
    {
     "name": "stdout",
     "output_type": "stream",
     "text": [
      "\t\tTotal time for config: 5.4965293407440186\n",
      "Instance 1781, T = 1.0, Proposal = MALA_MC, Acceptance = metropolis, Gap = 0.0000\n",
      "Warning: Gap is very small, may be inaccurate.\n",
      "Starting problem instance 1782 of 2000 with n = 8\n"
     ]
    },
    {
     "name": "stderr",
     "output_type": "stream",
     "text": [
      "100%|██████████| 1000/1000 [00:06<00:00, 146.97it/s]\n"
     ]
    },
    {
     "name": "stdout",
     "output_type": "stream",
     "text": [
      "\t\tTotal time for config: 6.813206195831299\n",
      "Instance 1782, T = 1.0, Proposal = MALA_MC, Acceptance = metropolis, Gap = 0.0000\n",
      "Warning: Gap is very small, may be inaccurate.\n",
      "Starting problem instance 1783 of 2000 with n = 9\n"
     ]
    },
    {
     "name": "stderr",
     "output_type": "stream",
     "text": [
      "100%|██████████| 1000/1000 [00:10<00:00, 94.53it/s]\n"
     ]
    },
    {
     "name": "stdout",
     "output_type": "stream",
     "text": [
      "\t\tTotal time for config: 10.583661794662476\n",
      "Instance 1783, T = 1.0, Proposal = MALA_MC, Acceptance = metropolis, Gap = 0.0000\n",
      "Warning: Gap is very small, may be inaccurate.\n",
      "Starting problem instance 1784 of 2000 with n = 10\n"
     ]
    },
    {
     "name": "stderr",
     "output_type": "stream",
     "text": [
      "100%|██████████| 1000/1000 [00:19<00:00, 51.48it/s]\n"
     ]
    },
    {
     "name": "stdout",
     "output_type": "stream",
     "text": [
      "\t\tTotal time for config: 19.42624044418335\n",
      "Instance 1784, T = 1.0, Proposal = MALA_MC, Acceptance = metropolis, Gap = 0.0000\n",
      "Warning: Gap is very small, may be inaccurate.\n",
      "Starting problem instance 1785 of 2000 with n = 3\n"
     ]
    },
    {
     "name": "stderr",
     "output_type": "stream",
     "text": [
      "100%|██████████| 1000/1000 [00:02<00:00, 432.55it/s]\n"
     ]
    },
    {
     "name": "stdout",
     "output_type": "stream",
     "text": [
      "\t\tTotal time for config: 2.3244292736053467\n",
      "Instance 1785, T = 1.0, Proposal = MALA_MC, Acceptance = metropolis, Gap = 0.7084\n",
      "Starting problem instance 1786 of 2000 with n = 4\n"
     ]
    },
    {
     "name": "stderr",
     "output_type": "stream",
     "text": [
      "100%|██████████| 1000/1000 [00:03<00:00, 325.16it/s]\n"
     ]
    },
    {
     "name": "stdout",
     "output_type": "stream",
     "text": [
      "\t\tTotal time for config: 3.091938018798828\n",
      "Instance 1786, T = 1.0, Proposal = MALA_MC, Acceptance = metropolis, Gap = 0.8220\n",
      "Starting problem instance 1787 of 2000 with n = 5\n"
     ]
    },
    {
     "name": "stderr",
     "output_type": "stream",
     "text": [
      "100%|██████████| 1000/1000 [00:04<00:00, 240.51it/s]\n"
     ]
    },
    {
     "name": "stdout",
     "output_type": "stream",
     "text": [
      "\t\tTotal time for config: 4.16884970664978\n",
      "Instance 1787, T = 1.0, Proposal = MALA_MC, Acceptance = metropolis, Gap = 0.0011\n",
      "Starting problem instance 1788 of 2000 with n = 6\n"
     ]
    },
    {
     "name": "stderr",
     "output_type": "stream",
     "text": [
      "100%|██████████| 1000/1000 [00:04<00:00, 247.32it/s]\n"
     ]
    },
    {
     "name": "stdout",
     "output_type": "stream",
     "text": [
      "\t\tTotal time for config: 4.058314561843872\n",
      "Instance 1788, T = 1.0, Proposal = MALA_MC, Acceptance = metropolis, Gap = 0.5864\n",
      "Starting problem instance 1789 of 2000 with n = 7\n"
     ]
    },
    {
     "name": "stderr",
     "output_type": "stream",
     "text": [
      "100%|██████████| 1000/1000 [00:05<00:00, 190.11it/s]\n"
     ]
    },
    {
     "name": "stdout",
     "output_type": "stream",
     "text": [
      "\t\tTotal time for config: 5.263604640960693\n",
      "Instance 1789, T = 1.0, Proposal = MALA_MC, Acceptance = metropolis, Gap = 0.0007\n",
      "Starting problem instance 1790 of 2000 with n = 8\n"
     ]
    },
    {
     "name": "stderr",
     "output_type": "stream",
     "text": [
      "100%|██████████| 1000/1000 [00:06<00:00, 150.76it/s]\n"
     ]
    },
    {
     "name": "stdout",
     "output_type": "stream",
     "text": [
      "\t\tTotal time for config: 6.633157014846802\n",
      "Instance 1790, T = 1.0, Proposal = MALA_MC, Acceptance = metropolis, Gap = 0.0000\n",
      "Warning: Gap is very small, may be inaccurate.\n",
      "Starting problem instance 1791 of 2000 with n = 9\n"
     ]
    },
    {
     "name": "stderr",
     "output_type": "stream",
     "text": [
      "100%|██████████| 1000/1000 [00:10<00:00, 93.32it/s]\n"
     ]
    },
    {
     "name": "stdout",
     "output_type": "stream",
     "text": [
      "\t\tTotal time for config: 10.715275764465332\n",
      "Instance 1791, T = 1.0, Proposal = MALA_MC, Acceptance = metropolis, Gap = 0.0000\n",
      "Warning: Gap is very small, may be inaccurate.\n",
      "Starting problem instance 1792 of 2000 with n = 10\n"
     ]
    },
    {
     "name": "stderr",
     "output_type": "stream",
     "text": [
      "100%|██████████| 1000/1000 [00:19<00:00, 51.34it/s]\n"
     ]
    },
    {
     "name": "stdout",
     "output_type": "stream",
     "text": [
      "\t\tTotal time for config: 19.47988748550415\n",
      "Instance 1792, T = 1.0, Proposal = MALA_MC, Acceptance = metropolis, Gap = 0.0000\n",
      "Warning: Gap is very small, may be inaccurate.\n",
      "Starting problem instance 1793 of 2000 with n = 3\n"
     ]
    },
    {
     "name": "stderr",
     "output_type": "stream",
     "text": [
      "100%|██████████| 1000/1000 [00:02<00:00, 380.19it/s]\n"
     ]
    },
    {
     "name": "stdout",
     "output_type": "stream",
     "text": [
      "\t\tTotal time for config: 2.630244016647339\n",
      "Instance 1793, T = 1.0, Proposal = MALA_MC, Acceptance = metropolis, Gap = 0.5731\n",
      "Starting problem instance 1794 of 2000 with n = 4\n"
     ]
    },
    {
     "name": "stderr",
     "output_type": "stream",
     "text": [
      "100%|██████████| 1000/1000 [00:03<00:00, 315.96it/s]\n"
     ]
    },
    {
     "name": "stdout",
     "output_type": "stream",
     "text": [
      "\t\tTotal time for config: 3.168778419494629\n",
      "Instance 1794, T = 1.0, Proposal = MALA_MC, Acceptance = metropolis, Gap = 0.4534\n",
      "Starting problem instance 1795 of 2000 with n = 5\n"
     ]
    },
    {
     "name": "stderr",
     "output_type": "stream",
     "text": [
      "100%|██████████| 1000/1000 [00:03<00:00, 254.61it/s]\n"
     ]
    },
    {
     "name": "stdout",
     "output_type": "stream",
     "text": [
      "\t\tTotal time for config: 3.950119733810425\n",
      "Instance 1795, T = 1.0, Proposal = MALA_MC, Acceptance = metropolis, Gap = 0.8076\n",
      "Starting problem instance 1796 of 2000 with n = 6\n"
     ]
    },
    {
     "name": "stderr",
     "output_type": "stream",
     "text": [
      "100%|██████████| 1000/1000 [00:04<00:00, 234.42it/s]\n"
     ]
    },
    {
     "name": "stdout",
     "output_type": "stream",
     "text": [
      "\t\tTotal time for config: 4.2669677734375\n",
      "Instance 1796, T = 1.0, Proposal = MALA_MC, Acceptance = metropolis, Gap = 0.0000\n",
      "Warning: Gap is very small, may be inaccurate.\n",
      "Starting problem instance 1797 of 2000 with n = 7\n"
     ]
    },
    {
     "name": "stderr",
     "output_type": "stream",
     "text": [
      "100%|██████████| 1000/1000 [00:05<00:00, 195.86it/s]\n"
     ]
    },
    {
     "name": "stdout",
     "output_type": "stream",
     "text": [
      "\t\tTotal time for config: 5.105666637420654\n",
      "Instance 1797, T = 1.0, Proposal = MALA_MC, Acceptance = metropolis, Gap = 0.0058\n",
      "Starting problem instance 1798 of 2000 with n = 8\n"
     ]
    },
    {
     "name": "stderr",
     "output_type": "stream",
     "text": [
      "100%|██████████| 1000/1000 [00:06<00:00, 143.81it/s]\n"
     ]
    },
    {
     "name": "stdout",
     "output_type": "stream",
     "text": [
      "\t\tTotal time for config: 6.961544990539551\n",
      "Instance 1798, T = 1.0, Proposal = MALA_MC, Acceptance = metropolis, Gap = 0.0000\n",
      "Warning: Gap is very small, may be inaccurate.\n",
      "Starting problem instance 1799 of 2000 with n = 9\n"
     ]
    },
    {
     "name": "stderr",
     "output_type": "stream",
     "text": [
      "100%|██████████| 1000/1000 [00:10<00:00, 93.28it/s]\n"
     ]
    },
    {
     "name": "stdout",
     "output_type": "stream",
     "text": [
      "\t\tTotal time for config: 10.725327014923096\n",
      "Instance 1799, T = 1.0, Proposal = MALA_MC, Acceptance = metropolis, Gap = 0.0000\n",
      "Warning: Gap is very small, may be inaccurate.\n",
      "Starting problem instance 1800 of 2000 with n = 10\n"
     ]
    },
    {
     "name": "stderr",
     "output_type": "stream",
     "text": [
      "100%|██████████| 1000/1000 [00:19<00:00, 50.84it/s]\n"
     ]
    },
    {
     "name": "stdout",
     "output_type": "stream",
     "text": [
      "\t\tTotal time for config: 19.671531438827515\n",
      "Instance 1800, T = 1.0, Proposal = MALA_MC, Acceptance = metropolis, Gap = 0.0000\n",
      "Warning: Gap is very small, may be inaccurate.\n",
      "Starting problem instance 1801 of 2000 with n = 3\n"
     ]
    },
    {
     "name": "stderr",
     "output_type": "stream",
     "text": [
      "100%|██████████| 1000/1000 [00:02<00:00, 458.09it/s]\n"
     ]
    },
    {
     "name": "stdout",
     "output_type": "stream",
     "text": [
      "\t\tTotal time for config: 2.196486711502075\n",
      "Instance 1801, T = 1.0, Proposal = MALA_MC, Acceptance = metropolis, Gap = 0.8672\n",
      "Starting problem instance 1802 of 2000 with n = 4\n"
     ]
    },
    {
     "name": "stderr",
     "output_type": "stream",
     "text": [
      "100%|██████████| 1000/1000 [00:02<00:00, 349.62it/s]\n"
     ]
    },
    {
     "name": "stdout",
     "output_type": "stream",
     "text": [
      "\t\tTotal time for config: 2.8602092266082764\n",
      "Instance 1802, T = 1.0, Proposal = MALA_MC, Acceptance = metropolis, Gap = 0.5300\n",
      "Starting problem instance 1803 of 2000 with n = 5\n"
     ]
    },
    {
     "name": "stderr",
     "output_type": "stream",
     "text": [
      "100%|██████████| 1000/1000 [00:03<00:00, 277.80it/s]\n"
     ]
    },
    {
     "name": "stdout",
     "output_type": "stream",
     "text": [
      "\t\tTotal time for config: 3.618285655975342\n",
      "Instance 1803, T = 1.0, Proposal = MALA_MC, Acceptance = metropolis, Gap = 0.5181\n",
      "Starting problem instance 1804 of 2000 with n = 6\n"
     ]
    },
    {
     "name": "stderr",
     "output_type": "stream",
     "text": [
      "100%|██████████| 1000/1000 [00:04<00:00, 238.94it/s]\n"
     ]
    },
    {
     "name": "stdout",
     "output_type": "stream",
     "text": [
      "\t\tTotal time for config: 4.1880388259887695\n",
      "Instance 1804, T = 1.0, Proposal = MALA_MC, Acceptance = metropolis, Gap = 0.0097\n",
      "Starting problem instance 1805 of 2000 with n = 7\n"
     ]
    },
    {
     "name": "stderr",
     "output_type": "stream",
     "text": [
      "100%|██████████| 1000/1000 [00:05<00:00, 174.47it/s]\n"
     ]
    },
    {
     "name": "stdout",
     "output_type": "stream",
     "text": [
      "\t\tTotal time for config: 5.73944616317749\n",
      "Instance 1805, T = 1.0, Proposal = MALA_MC, Acceptance = metropolis, Gap = 0.0733\n",
      "Starting problem instance 1806 of 2000 with n = 8\n"
     ]
    },
    {
     "name": "stderr",
     "output_type": "stream",
     "text": [
      "100%|██████████| 1000/1000 [00:06<00:00, 152.30it/s]\n"
     ]
    },
    {
     "name": "stdout",
     "output_type": "stream",
     "text": [
      "\t\tTotal time for config: 6.579477548599243\n",
      "Instance 1806, T = 1.0, Proposal = MALA_MC, Acceptance = metropolis, Gap = 0.0000\n",
      "Warning: Gap is very small, may be inaccurate.\n",
      "Starting problem instance 1807 of 2000 with n = 9\n"
     ]
    },
    {
     "name": "stderr",
     "output_type": "stream",
     "text": [
      "100%|██████████| 1000/1000 [00:10<00:00, 94.50it/s]\n"
     ]
    },
    {
     "name": "stdout",
     "output_type": "stream",
     "text": [
      "\t\tTotal time for config: 10.603856801986694\n",
      "Instance 1807, T = 1.0, Proposal = MALA_MC, Acceptance = metropolis, Gap = 0.0000\n",
      "Warning: Gap is very small, may be inaccurate.\n",
      "Starting problem instance 1808 of 2000 with n = 10\n"
     ]
    },
    {
     "name": "stderr",
     "output_type": "stream",
     "text": [
      "100%|██████████| 1000/1000 [00:19<00:00, 51.39it/s]\n"
     ]
    },
    {
     "name": "stdout",
     "output_type": "stream",
     "text": [
      "\t\tTotal time for config: 19.470552921295166\n",
      "Instance 1808, T = 1.0, Proposal = MALA_MC, Acceptance = metropolis, Gap = 0.0000\n",
      "Warning: Gap is very small, may be inaccurate.\n",
      "Starting problem instance 1809 of 2000 with n = 3\n"
     ]
    },
    {
     "name": "stderr",
     "output_type": "stream",
     "text": [
      "100%|██████████| 1000/1000 [00:02<00:00, 443.79it/s]\n"
     ]
    },
    {
     "name": "stdout",
     "output_type": "stream",
     "text": [
      "\t\tTotal time for config: 2.2532947063446045\n",
      "Instance 1809, T = 1.0, Proposal = MALA_MC, Acceptance = metropolis, Gap = 0.8065\n",
      "Starting problem instance 1810 of 2000 with n = 4\n"
     ]
    },
    {
     "name": "stderr",
     "output_type": "stream",
     "text": [
      "100%|██████████| 1000/1000 [00:03<00:00, 255.39it/s]\n"
     ]
    },
    {
     "name": "stdout",
     "output_type": "stream",
     "text": [
      "\t\tTotal time for config: 3.9228622913360596\n",
      "Instance 1810, T = 1.0, Proposal = MALA_MC, Acceptance = metropolis, Gap = 0.8241\n",
      "Starting problem instance 1811 of 2000 with n = 5\n"
     ]
    },
    {
     "name": "stderr",
     "output_type": "stream",
     "text": [
      "100%|██████████| 1000/1000 [00:04<00:00, 245.96it/s]\n"
     ]
    },
    {
     "name": "stdout",
     "output_type": "stream",
     "text": [
      "\t\tTotal time for config: 4.065671920776367\n",
      "Instance 1811, T = 1.0, Proposal = MALA_MC, Acceptance = metropolis, Gap = 0.8461\n",
      "Starting problem instance 1812 of 2000 with n = 6\n"
     ]
    },
    {
     "name": "stderr",
     "output_type": "stream",
     "text": [
      "100%|██████████| 1000/1000 [00:04<00:00, 240.02it/s]\n"
     ]
    },
    {
     "name": "stdout",
     "output_type": "stream",
     "text": [
      "\t\tTotal time for config: 4.166238069534302\n",
      "Instance 1812, T = 1.0, Proposal = MALA_MC, Acceptance = metropolis, Gap = 0.0000\n",
      "Warning: Gap is very small, may be inaccurate.\n",
      "Starting problem instance 1813 of 2000 with n = 7\n"
     ]
    },
    {
     "name": "stderr",
     "output_type": "stream",
     "text": [
      "100%|██████████| 1000/1000 [00:04<00:00, 201.90it/s]\n"
     ]
    },
    {
     "name": "stdout",
     "output_type": "stream",
     "text": [
      "\t\tTotal time for config: 4.954076290130615\n",
      "Instance 1813, T = 1.0, Proposal = MALA_MC, Acceptance = metropolis, Gap = 0.0133\n",
      "Starting problem instance 1814 of 2000 with n = 8\n"
     ]
    },
    {
     "name": "stderr",
     "output_type": "stream",
     "text": [
      "100%|██████████| 1000/1000 [00:06<00:00, 153.22it/s]\n"
     ]
    },
    {
     "name": "stdout",
     "output_type": "stream",
     "text": [
      "\t\tTotal time for config: 6.5356056690216064\n",
      "Instance 1814, T = 1.0, Proposal = MALA_MC, Acceptance = metropolis, Gap = 0.0000\n",
      "Warning: Gap is very small, may be inaccurate.\n",
      "Starting problem instance 1815 of 2000 with n = 9\n"
     ]
    },
    {
     "name": "stderr",
     "output_type": "stream",
     "text": [
      "100%|██████████| 1000/1000 [00:10<00:00, 91.87it/s]\n"
     ]
    },
    {
     "name": "stdout",
     "output_type": "stream",
     "text": [
      "\t\tTotal time for config: 10.894426584243774\n",
      "Instance 1815, T = 1.0, Proposal = MALA_MC, Acceptance = metropolis, Gap = 0.0000\n",
      "Warning: Gap is very small, may be inaccurate.\n",
      "Starting problem instance 1816 of 2000 with n = 10\n"
     ]
    },
    {
     "name": "stderr",
     "output_type": "stream",
     "text": [
      "100%|██████████| 1000/1000 [00:19<00:00, 52.38it/s]\n"
     ]
    },
    {
     "name": "stdout",
     "output_type": "stream",
     "text": [
      "\t\tTotal time for config: 19.093360662460327\n",
      "Instance 1816, T = 1.0, Proposal = MALA_MC, Acceptance = metropolis, Gap = 0.0000\n",
      "Warning: Gap is very small, may be inaccurate.\n",
      "Starting problem instance 1817 of 2000 with n = 3\n"
     ]
    },
    {
     "name": "stderr",
     "output_type": "stream",
     "text": [
      "100%|██████████| 1000/1000 [00:02<00:00, 457.89it/s]\n"
     ]
    },
    {
     "name": "stdout",
     "output_type": "stream",
     "text": [
      "\t\tTotal time for config: 2.183915853500366\n",
      "Instance 1817, T = 1.0, Proposal = MALA_MC, Acceptance = metropolis, Gap = 0.3173\n",
      "Starting problem instance 1818 of 2000 with n = 4\n"
     ]
    },
    {
     "name": "stderr",
     "output_type": "stream",
     "text": [
      "100%|██████████| 1000/1000 [00:02<00:00, 376.11it/s]\n"
     ]
    },
    {
     "name": "stdout",
     "output_type": "stream",
     "text": [
      "\t\tTotal time for config: 2.666881799697876\n",
      "Instance 1818, T = 1.0, Proposal = MALA_MC, Acceptance = metropolis, Gap = 0.6317\n",
      "Starting problem instance 1819 of 2000 with n = 5\n"
     ]
    },
    {
     "name": "stderr",
     "output_type": "stream",
     "text": [
      "100%|██████████| 1000/1000 [00:03<00:00, 275.64it/s]\n"
     ]
    },
    {
     "name": "stdout",
     "output_type": "stream",
     "text": [
      "\t\tTotal time for config: 3.6336214542388916\n",
      "Instance 1819, T = 1.0, Proposal = MALA_MC, Acceptance = metropolis, Gap = 0.0046\n",
      "Starting problem instance 1820 of 2000 with n = 6\n"
     ]
    },
    {
     "name": "stderr",
     "output_type": "stream",
     "text": [
      "100%|██████████| 1000/1000 [00:04<00:00, 247.85it/s]\n"
     ]
    },
    {
     "name": "stdout",
     "output_type": "stream",
     "text": [
      "\t\tTotal time for config: 4.034662961959839\n",
      "Instance 1820, T = 1.0, Proposal = MALA_MC, Acceptance = metropolis, Gap = 0.5834\n",
      "Starting problem instance 1821 of 2000 with n = 7\n"
     ]
    },
    {
     "name": "stderr",
     "output_type": "stream",
     "text": [
      "100%|██████████| 1000/1000 [00:04<00:00, 201.26it/s]\n"
     ]
    },
    {
     "name": "stdout",
     "output_type": "stream",
     "text": [
      "\t\tTotal time for config: 4.976712703704834\n",
      "Instance 1821, T = 1.0, Proposal = MALA_MC, Acceptance = metropolis, Gap = 0.0000\n",
      "Warning: Gap is very small, may be inaccurate.\n",
      "Starting problem instance 1822 of 2000 with n = 8\n"
     ]
    },
    {
     "name": "stderr",
     "output_type": "stream",
     "text": [
      "100%|██████████| 1000/1000 [00:07<00:00, 141.95it/s]\n"
     ]
    },
    {
     "name": "stdout",
     "output_type": "stream",
     "text": [
      "\t\tTotal time for config: 7.060897588729858\n",
      "Instance 1822, T = 1.0, Proposal = MALA_MC, Acceptance = metropolis, Gap = 0.0015\n",
      "Starting problem instance 1823 of 2000 with n = 9\n"
     ]
    },
    {
     "name": "stderr",
     "output_type": "stream",
     "text": [
      "100%|██████████| 1000/1000 [00:10<00:00, 94.37it/s]\n"
     ]
    },
    {
     "name": "stdout",
     "output_type": "stream",
     "text": [
      "\t\tTotal time for config: 10.603997707366943\n",
      "Instance 1823, T = 1.0, Proposal = MALA_MC, Acceptance = metropolis, Gap = -0.0000\n",
      "Warning: Gap is very small, may be inaccurate.\n",
      "Starting problem instance 1824 of 2000 with n = 10\n"
     ]
    },
    {
     "name": "stderr",
     "output_type": "stream",
     "text": [
      "100%|██████████| 1000/1000 [00:19<00:00, 52.33it/s]\n"
     ]
    },
    {
     "name": "stdout",
     "output_type": "stream",
     "text": [
      "\t\tTotal time for config: 19.11677384376526\n",
      "Instance 1824, T = 1.0, Proposal = MALA_MC, Acceptance = metropolis, Gap = 0.0000\n",
      "Warning: Gap is very small, may be inaccurate.\n",
      "Starting problem instance 1825 of 2000 with n = 3\n"
     ]
    },
    {
     "name": "stderr",
     "output_type": "stream",
     "text": [
      "100%|██████████| 1000/1000 [00:02<00:00, 423.44it/s]\n"
     ]
    },
    {
     "name": "stdout",
     "output_type": "stream",
     "text": [
      "\t\tTotal time for config: 2.37807297706604\n",
      "Instance 1825, T = 1.0, Proposal = MALA_MC, Acceptance = metropolis, Gap = 0.6844\n",
      "Starting problem instance 1826 of 2000 with n = 4\n"
     ]
    },
    {
     "name": "stderr",
     "output_type": "stream",
     "text": [
      "100%|██████████| 1000/1000 [00:03<00:00, 313.65it/s]\n"
     ]
    },
    {
     "name": "stdout",
     "output_type": "stream",
     "text": [
      "\t\tTotal time for config: 3.1928629875183105\n",
      "Instance 1826, T = 1.0, Proposal = MALA_MC, Acceptance = metropolis, Gap = 0.7456\n",
      "Starting problem instance 1827 of 2000 with n = 5\n"
     ]
    },
    {
     "name": "stderr",
     "output_type": "stream",
     "text": [
      "100%|██████████| 1000/1000 [00:04<00:00, 247.05it/s]\n"
     ]
    },
    {
     "name": "stdout",
     "output_type": "stream",
     "text": [
      "\t\tTotal time for config: 4.054631233215332\n",
      "Instance 1827, T = 1.0, Proposal = MALA_MC, Acceptance = metropolis, Gap = 0.4128\n",
      "Starting problem instance 1828 of 2000 with n = 6\n"
     ]
    },
    {
     "name": "stderr",
     "output_type": "stream",
     "text": [
      "100%|██████████| 1000/1000 [00:04<00:00, 240.85it/s]\n"
     ]
    },
    {
     "name": "stdout",
     "output_type": "stream",
     "text": [
      "\t\tTotal time for config: 4.1548850536346436\n",
      "Instance 1828, T = 1.0, Proposal = MALA_MC, Acceptance = metropolis, Gap = 0.0000\n",
      "Warning: Gap is very small, may be inaccurate.\n",
      "Starting problem instance 1829 of 2000 with n = 7\n"
     ]
    },
    {
     "name": "stderr",
     "output_type": "stream",
     "text": [
      "100%|██████████| 1000/1000 [00:05<00:00, 169.39it/s]\n"
     ]
    },
    {
     "name": "stdout",
     "output_type": "stream",
     "text": [
      "\t\tTotal time for config: 5.904932260513306\n",
      "Instance 1829, T = 1.0, Proposal = MALA_MC, Acceptance = metropolis, Gap = 0.0251\n",
      "Starting problem instance 1830 of 2000 with n = 8\n"
     ]
    },
    {
     "name": "stderr",
     "output_type": "stream",
     "text": [
      "100%|██████████| 1000/1000 [00:06<00:00, 147.60it/s]\n"
     ]
    },
    {
     "name": "stdout",
     "output_type": "stream",
     "text": [
      "\t\tTotal time for config: 6.791408538818359\n",
      "Instance 1830, T = 1.0, Proposal = MALA_MC, Acceptance = metropolis, Gap = 0.0000\n",
      "Warning: Gap is very small, may be inaccurate.\n",
      "Starting problem instance 1831 of 2000 with n = 9\n"
     ]
    },
    {
     "name": "stderr",
     "output_type": "stream",
     "text": [
      "100%|██████████| 1000/1000 [00:10<00:00, 94.21it/s]\n"
     ]
    },
    {
     "name": "stdout",
     "output_type": "stream",
     "text": [
      "\t\tTotal time for config: 10.619240283966064\n",
      "Instance 1831, T = 1.0, Proposal = MALA_MC, Acceptance = metropolis, Gap = 0.0000\n",
      "Warning: Gap is very small, may be inaccurate.\n",
      "Starting problem instance 1832 of 2000 with n = 10\n"
     ]
    },
    {
     "name": "stderr",
     "output_type": "stream",
     "text": [
      "100%|██████████| 1000/1000 [00:18<00:00, 52.76it/s]\n"
     ]
    },
    {
     "name": "stdout",
     "output_type": "stream",
     "text": [
      "\t\tTotal time for config: 18.96075987815857\n",
      "Instance 1832, T = 1.0, Proposal = MALA_MC, Acceptance = metropolis, Gap = 0.0000\n",
      "Warning: Gap is very small, may be inaccurate.\n",
      "Starting problem instance 1833 of 2000 with n = 3\n"
     ]
    },
    {
     "name": "stderr",
     "output_type": "stream",
     "text": [
      "100%|██████████| 1000/1000 [00:02<00:00, 466.26it/s]\n"
     ]
    },
    {
     "name": "stdout",
     "output_type": "stream",
     "text": [
      "\t\tTotal time for config: 2.1447112560272217\n",
      "Instance 1833, T = 1.0, Proposal = MALA_MC, Acceptance = metropolis, Gap = 0.8817\n",
      "Starting problem instance 1834 of 2000 with n = 4\n"
     ]
    },
    {
     "name": "stderr",
     "output_type": "stream",
     "text": [
      "100%|██████████| 1000/1000 [00:03<00:00, 329.98it/s]\n"
     ]
    },
    {
     "name": "stdout",
     "output_type": "stream",
     "text": [
      "\t\tTotal time for config: 3.0305049419403076\n",
      "Instance 1834, T = 1.0, Proposal = MALA_MC, Acceptance = metropolis, Gap = 0.5255\n",
      "Starting problem instance 1835 of 2000 with n = 5\n"
     ]
    },
    {
     "name": "stderr",
     "output_type": "stream",
     "text": [
      "100%|██████████| 1000/1000 [00:03<00:00, 252.11it/s]\n"
     ]
    },
    {
     "name": "stdout",
     "output_type": "stream",
     "text": [
      "\t\tTotal time for config: 3.9852328300476074\n",
      "Instance 1835, T = 1.0, Proposal = MALA_MC, Acceptance = metropolis, Gap = 0.6092\n",
      "Starting problem instance 1836 of 2000 with n = 6\n"
     ]
    },
    {
     "name": "stderr",
     "output_type": "stream",
     "text": [
      "100%|██████████| 1000/1000 [00:04<00:00, 231.48it/s]\n"
     ]
    },
    {
     "name": "stdout",
     "output_type": "stream",
     "text": [
      "\t\tTotal time for config: 4.33048939704895\n",
      "Instance 1836, T = 1.0, Proposal = MALA_MC, Acceptance = metropolis, Gap = 0.1602\n",
      "Starting problem instance 1837 of 2000 with n = 7\n"
     ]
    },
    {
     "name": "stderr",
     "output_type": "stream",
     "text": [
      "100%|██████████| 1000/1000 [00:04<00:00, 201.60it/s]\n"
     ]
    },
    {
     "name": "stdout",
     "output_type": "stream",
     "text": [
      "\t\tTotal time for config: 4.971554517745972\n",
      "Instance 1837, T = 1.0, Proposal = MALA_MC, Acceptance = metropolis, Gap = 0.0000\n",
      "Warning: Gap is very small, may be inaccurate.\n",
      "Starting problem instance 1838 of 2000 with n = 8\n"
     ]
    },
    {
     "name": "stderr",
     "output_type": "stream",
     "text": [
      "100%|██████████| 1000/1000 [00:07<00:00, 141.91it/s]\n"
     ]
    },
    {
     "name": "stdout",
     "output_type": "stream",
     "text": [
      "\t\tTotal time for config: 7.046895503997803\n",
      "Instance 1838, T = 1.0, Proposal = MALA_MC, Acceptance = metropolis, Gap = 0.0000\n",
      "Warning: Gap is very small, may be inaccurate.\n",
      "Starting problem instance 1839 of 2000 with n = 9\n"
     ]
    },
    {
     "name": "stderr",
     "output_type": "stream",
     "text": [
      "100%|██████████| 1000/1000 [00:10<00:00, 91.84it/s]\n"
     ]
    },
    {
     "name": "stdout",
     "output_type": "stream",
     "text": [
      "\t\tTotal time for config: 10.890136241912842\n",
      "Instance 1839, T = 1.0, Proposal = MALA_MC, Acceptance = metropolis, Gap = 0.0000\n",
      "Warning: Gap is very small, may be inaccurate.\n",
      "Starting problem instance 1840 of 2000 with n = 10\n"
     ]
    },
    {
     "name": "stderr",
     "output_type": "stream",
     "text": [
      "100%|██████████| 1000/1000 [00:19<00:00, 51.33it/s]\n"
     ]
    },
    {
     "name": "stdout",
     "output_type": "stream",
     "text": [
      "\t\tTotal time for config: 19.481444597244263\n",
      "Instance 1840, T = 1.0, Proposal = MALA_MC, Acceptance = metropolis, Gap = 0.0000\n",
      "Warning: Gap is very small, may be inaccurate.\n",
      "Starting problem instance 1841 of 2000 with n = 3\n"
     ]
    },
    {
     "name": "stderr",
     "output_type": "stream",
     "text": [
      "100%|██████████| 1000/1000 [00:02<00:00, 452.16it/s]\n"
     ]
    },
    {
     "name": "stdout",
     "output_type": "stream",
     "text": [
      "\t\tTotal time for config: 2.2198376655578613\n",
      "Instance 1841, T = 1.0, Proposal = MALA_MC, Acceptance = metropolis, Gap = 0.5138\n",
      "Starting problem instance 1842 of 2000 with n = 4\n"
     ]
    },
    {
     "name": "stderr",
     "output_type": "stream",
     "text": [
      "100%|██████████| 1000/1000 [00:02<00:00, 357.22it/s]\n"
     ]
    },
    {
     "name": "stdout",
     "output_type": "stream",
     "text": [
      "\t\tTotal time for config: 2.818168878555298\n",
      "Instance 1842, T = 1.0, Proposal = MALA_MC, Acceptance = metropolis, Gap = 0.4044\n",
      "Starting problem instance 1843 of 2000 with n = 5\n"
     ]
    },
    {
     "name": "stderr",
     "output_type": "stream",
     "text": [
      "100%|██████████| 1000/1000 [00:03<00:00, 313.99it/s]\n"
     ]
    },
    {
     "name": "stdout",
     "output_type": "stream",
     "text": [
      "\t\tTotal time for config: 3.1848506927490234\n",
      "Instance 1843, T = 1.0, Proposal = MALA_MC, Acceptance = metropolis, Gap = 0.0421\n",
      "Starting problem instance 1844 of 2000 with n = 6\n"
     ]
    },
    {
     "name": "stderr",
     "output_type": "stream",
     "text": [
      "100%|██████████| 1000/1000 [00:03<00:00, 267.65it/s]\n"
     ]
    },
    {
     "name": "stdout",
     "output_type": "stream",
     "text": [
      "\t\tTotal time for config: 3.7616281509399414\n",
      "Instance 1844, T = 1.0, Proposal = MALA_MC, Acceptance = metropolis, Gap = 0.0000\n",
      "Warning: Gap is very small, may be inaccurate.\n",
      "Starting problem instance 1845 of 2000 with n = 7\n"
     ]
    },
    {
     "name": "stderr",
     "output_type": "stream",
     "text": [
      "100%|██████████| 1000/1000 [00:04<00:00, 207.82it/s]\n"
     ]
    },
    {
     "name": "stdout",
     "output_type": "stream",
     "text": [
      "\t\tTotal time for config: 4.826672792434692\n",
      "Instance 1845, T = 1.0, Proposal = MALA_MC, Acceptance = metropolis, Gap = 0.0000\n",
      "Warning: Gap is very small, may be inaccurate.\n",
      "Starting problem instance 1846 of 2000 with n = 8\n"
     ]
    },
    {
     "name": "stderr",
     "output_type": "stream",
     "text": [
      "100%|██████████| 1000/1000 [00:06<00:00, 155.81it/s]\n"
     ]
    },
    {
     "name": "stdout",
     "output_type": "stream",
     "text": [
      "\t\tTotal time for config: 6.432451486587524\n",
      "Instance 1846, T = 1.0, Proposal = MALA_MC, Acceptance = metropolis, Gap = 0.0000\n",
      "Warning: Gap is very small, may be inaccurate.\n",
      "Starting problem instance 1847 of 2000 with n = 9\n"
     ]
    },
    {
     "name": "stderr",
     "output_type": "stream",
     "text": [
      "100%|██████████| 1000/1000 [00:10<00:00, 97.77it/s]\n"
     ]
    },
    {
     "name": "stdout",
     "output_type": "stream",
     "text": [
      "\t\tTotal time for config: 10.235217571258545\n",
      "Instance 1847, T = 1.0, Proposal = MALA_MC, Acceptance = metropolis, Gap = 0.0000\n",
      "Warning: Gap is very small, may be inaccurate.\n",
      "Starting problem instance 1848 of 2000 with n = 10\n"
     ]
    },
    {
     "name": "stderr",
     "output_type": "stream",
     "text": [
      "100%|██████████| 1000/1000 [00:18<00:00, 53.53it/s]\n"
     ]
    },
    {
     "name": "stdout",
     "output_type": "stream",
     "text": [
      "\t\tTotal time for config: 18.692487001419067\n",
      "Instance 1848, T = 1.0, Proposal = MALA_MC, Acceptance = metropolis, Gap = 0.0000\n",
      "Warning: Gap is very small, may be inaccurate.\n",
      "Starting problem instance 1849 of 2000 with n = 3\n"
     ]
    },
    {
     "name": "stderr",
     "output_type": "stream",
     "text": [
      "100%|██████████| 1000/1000 [00:02<00:00, 394.57it/s]\n"
     ]
    },
    {
     "name": "stdout",
     "output_type": "stream",
     "text": [
      "\t\tTotal time for config: 2.5555944442749023\n",
      "Instance 1849, T = 1.0, Proposal = MALA_MC, Acceptance = metropolis, Gap = 0.5671\n",
      "Starting problem instance 1850 of 2000 with n = 4\n"
     ]
    },
    {
     "name": "stderr",
     "output_type": "stream",
     "text": [
      "100%|██████████| 1000/1000 [00:03<00:00, 302.86it/s]\n"
     ]
    },
    {
     "name": "stdout",
     "output_type": "stream",
     "text": [
      "\t\tTotal time for config: 3.308835744857788\n",
      "Instance 1850, T = 1.0, Proposal = MALA_MC, Acceptance = metropolis, Gap = 0.7176\n",
      "Starting problem instance 1851 of 2000 with n = 5\n"
     ]
    },
    {
     "name": "stderr",
     "output_type": "stream",
     "text": [
      "100%|██████████| 1000/1000 [00:03<00:00, 267.71it/s]\n"
     ]
    },
    {
     "name": "stdout",
     "output_type": "stream",
     "text": [
      "\t\tTotal time for config: 3.740809202194214\n",
      "Instance 1851, T = 1.0, Proposal = MALA_MC, Acceptance = metropolis, Gap = 0.3064\n",
      "Starting problem instance 1852 of 2000 with n = 6\n"
     ]
    },
    {
     "name": "stderr",
     "output_type": "stream",
     "text": [
      "100%|██████████| 1000/1000 [00:04<00:00, 244.70it/s]\n"
     ]
    },
    {
     "name": "stdout",
     "output_type": "stream",
     "text": [
      "\t\tTotal time for config: 4.094410419464111\n",
      "Instance 1852, T = 1.0, Proposal = MALA_MC, Acceptance = metropolis, Gap = 0.0016\n",
      "Starting problem instance 1853 of 2000 with n = 7\n"
     ]
    },
    {
     "name": "stderr",
     "output_type": "stream",
     "text": [
      "100%|██████████| 1000/1000 [00:05<00:00, 195.86it/s]\n"
     ]
    },
    {
     "name": "stdout",
     "output_type": "stream",
     "text": [
      "\t\tTotal time for config: 5.128197193145752\n",
      "Instance 1853, T = 1.0, Proposal = MALA_MC, Acceptance = metropolis, Gap = 0.0000\n",
      "Warning: Gap is very small, may be inaccurate.\n",
      "Starting problem instance 1854 of 2000 with n = 8\n"
     ]
    },
    {
     "name": "stderr",
     "output_type": "stream",
     "text": [
      "100%|██████████| 1000/1000 [00:06<00:00, 149.46it/s]\n"
     ]
    },
    {
     "name": "stdout",
     "output_type": "stream",
     "text": [
      "\t\tTotal time for config: 6.690536975860596\n",
      "Instance 1854, T = 1.0, Proposal = MALA_MC, Acceptance = metropolis, Gap = 0.0000\n",
      "Warning: Gap is very small, may be inaccurate.\n",
      "Starting problem instance 1855 of 2000 with n = 9\n"
     ]
    },
    {
     "name": "stderr",
     "output_type": "stream",
     "text": [
      "100%|██████████| 1000/1000 [00:10<00:00, 95.28it/s]\n"
     ]
    },
    {
     "name": "stdout",
     "output_type": "stream",
     "text": [
      "\t\tTotal time for config: 10.521178722381592\n",
      "Instance 1855, T = 1.0, Proposal = MALA_MC, Acceptance = metropolis, Gap = 0.0000\n",
      "Warning: Gap is very small, may be inaccurate.\n",
      "Starting problem instance 1856 of 2000 with n = 10\n"
     ]
    },
    {
     "name": "stderr",
     "output_type": "stream",
     "text": [
      "100%|██████████| 1000/1000 [00:19<00:00, 51.75it/s]\n"
     ]
    },
    {
     "name": "stdout",
     "output_type": "stream",
     "text": [
      "\t\tTotal time for config: 19.331820487976074\n",
      "Instance 1856, T = 1.0, Proposal = MALA_MC, Acceptance = metropolis, Gap = 0.0000\n",
      "Warning: Gap is very small, may be inaccurate.\n",
      "Starting problem instance 1857 of 2000 with n = 3\n"
     ]
    },
    {
     "name": "stderr",
     "output_type": "stream",
     "text": [
      "100%|██████████| 1000/1000 [00:02<00:00, 416.04it/s]\n"
     ]
    },
    {
     "name": "stdout",
     "output_type": "stream",
     "text": [
      "\t\tTotal time for config: 2.4089813232421875\n",
      "Instance 1857, T = 1.0, Proposal = MALA_MC, Acceptance = metropolis, Gap = 0.6189\n",
      "Starting problem instance 1858 of 2000 with n = 4\n"
     ]
    },
    {
     "name": "stderr",
     "output_type": "stream",
     "text": [
      "100%|██████████| 1000/1000 [00:02<00:00, 334.00it/s]\n"
     ]
    },
    {
     "name": "stdout",
     "output_type": "stream",
     "text": [
      "\t\tTotal time for config: 3.0077452659606934\n",
      "Instance 1858, T = 1.0, Proposal = MALA_MC, Acceptance = metropolis, Gap = 0.0000\n",
      "Warning: Gap is very small, may be inaccurate.\n",
      "Starting problem instance 1859 of 2000 with n = 5\n"
     ]
    },
    {
     "name": "stderr",
     "output_type": "stream",
     "text": [
      "100%|██████████| 1000/1000 [00:03<00:00, 256.05it/s]\n"
     ]
    },
    {
     "name": "stdout",
     "output_type": "stream",
     "text": [
      "\t\tTotal time for config: 3.913731098175049\n",
      "Instance 1859, T = 1.0, Proposal = MALA_MC, Acceptance = metropolis, Gap = 0.0000\n",
      "Warning: Gap is very small, may be inaccurate.\n",
      "Starting problem instance 1860 of 2000 with n = 6\n"
     ]
    },
    {
     "name": "stderr",
     "output_type": "stream",
     "text": [
      "100%|██████████| 1000/1000 [00:04<00:00, 247.54it/s]\n"
     ]
    },
    {
     "name": "stdout",
     "output_type": "stream",
     "text": [
      "\t\tTotal time for config: 4.043722152709961\n",
      "Instance 1860, T = 1.0, Proposal = MALA_MC, Acceptance = metropolis, Gap = 0.0167\n",
      "Starting problem instance 1861 of 2000 with n = 7\n"
     ]
    },
    {
     "name": "stderr",
     "output_type": "stream",
     "text": [
      "100%|██████████| 1000/1000 [00:05<00:00, 200.00it/s]\n"
     ]
    },
    {
     "name": "stdout",
     "output_type": "stream",
     "text": [
      "\t\tTotal time for config: 5.000063180923462\n",
      "Instance 1861, T = 1.0, Proposal = MALA_MC, Acceptance = metropolis, Gap = 0.0000\n",
      "Warning: Gap is very small, may be inaccurate.\n",
      "Starting problem instance 1862 of 2000 with n = 8\n"
     ]
    },
    {
     "name": "stderr",
     "output_type": "stream",
     "text": [
      "100%|██████████| 1000/1000 [00:06<00:00, 157.62it/s]\n"
     ]
    },
    {
     "name": "stdout",
     "output_type": "stream",
     "text": [
      "\t\tTotal time for config: 6.350018501281738\n",
      "Instance 1862, T = 1.0, Proposal = MALA_MC, Acceptance = metropolis, Gap = 0.0000\n",
      "Warning: Gap is very small, may be inaccurate.\n",
      "Starting problem instance 1863 of 2000 with n = 9\n"
     ]
    },
    {
     "name": "stderr",
     "output_type": "stream",
     "text": [
      "100%|██████████| 1000/1000 [00:10<00:00, 98.51it/s]\n"
     ]
    },
    {
     "name": "stdout",
     "output_type": "stream",
     "text": [
      "\t\tTotal time for config: 10.167431116104126\n",
      "Instance 1863, T = 1.0, Proposal = MALA_MC, Acceptance = metropolis, Gap = 0.0000\n",
      "Warning: Gap is very small, may be inaccurate.\n",
      "Starting problem instance 1864 of 2000 with n = 10\n"
     ]
    },
    {
     "name": "stderr",
     "output_type": "stream",
     "text": [
      "100%|██████████| 1000/1000 [00:18<00:00, 53.07it/s]\n"
     ]
    },
    {
     "name": "stdout",
     "output_type": "stream",
     "text": [
      "\t\tTotal time for config: 18.844019651412964\n",
      "Instance 1864, T = 1.0, Proposal = MALA_MC, Acceptance = metropolis, Gap = 0.0000\n",
      "Warning: Gap is very small, may be inaccurate.\n",
      "Starting problem instance 1865 of 2000 with n = 3\n"
     ]
    },
    {
     "name": "stderr",
     "output_type": "stream",
     "text": [
      "100%|██████████| 1000/1000 [00:02<00:00, 460.51it/s]\n"
     ]
    },
    {
     "name": "stdout",
     "output_type": "stream",
     "text": [
      "\t\tTotal time for config: 2.17724871635437\n",
      "Instance 1865, T = 1.0, Proposal = MALA_MC, Acceptance = metropolis, Gap = 0.4263\n",
      "Starting problem instance 1866 of 2000 with n = 4\n"
     ]
    },
    {
     "name": "stderr",
     "output_type": "stream",
     "text": [
      "100%|██████████| 1000/1000 [00:02<00:00, 346.94it/s]\n"
     ]
    },
    {
     "name": "stdout",
     "output_type": "stream",
     "text": [
      "\t\tTotal time for config: 2.899127960205078\n",
      "Instance 1866, T = 1.0, Proposal = MALA_MC, Acceptance = metropolis, Gap = 0.6034\n",
      "Starting problem instance 1867 of 2000 with n = 5\n"
     ]
    },
    {
     "name": "stderr",
     "output_type": "stream",
     "text": [
      "100%|██████████| 1000/1000 [00:03<00:00, 280.14it/s]\n"
     ]
    },
    {
     "name": "stdout",
     "output_type": "stream",
     "text": [
      "\t\tTotal time for config: 3.5908329486846924\n",
      "Instance 1867, T = 1.0, Proposal = MALA_MC, Acceptance = metropolis, Gap = 0.0000\n",
      "Warning: Gap is very small, may be inaccurate.\n",
      "Starting problem instance 1868 of 2000 with n = 6\n"
     ]
    },
    {
     "name": "stderr",
     "output_type": "stream",
     "text": [
      "100%|██████████| 1000/1000 [00:03<00:00, 260.06it/s]\n"
     ]
    },
    {
     "name": "stdout",
     "output_type": "stream",
     "text": [
      "\t\tTotal time for config: 3.8661322593688965\n",
      "Instance 1868, T = 1.0, Proposal = MALA_MC, Acceptance = metropolis, Gap = 0.6141\n",
      "Starting problem instance 1869 of 2000 with n = 7\n"
     ]
    },
    {
     "name": "stderr",
     "output_type": "stream",
     "text": [
      "100%|██████████| 1000/1000 [00:05<00:00, 194.64it/s]\n"
     ]
    },
    {
     "name": "stdout",
     "output_type": "stream",
     "text": [
      "\t\tTotal time for config: 5.142956972122192\n",
      "Instance 1869, T = 1.0, Proposal = MALA_MC, Acceptance = metropolis, Gap = 0.0000\n",
      "Warning: Gap is very small, may be inaccurate.\n",
      "Starting problem instance 1870 of 2000 with n = 8\n"
     ]
    },
    {
     "name": "stderr",
     "output_type": "stream",
     "text": [
      "100%|██████████| 1000/1000 [00:06<00:00, 149.50it/s]\n"
     ]
    },
    {
     "name": "stdout",
     "output_type": "stream",
     "text": [
      "\t\tTotal time for config: 6.695284366607666\n",
      "Instance 1870, T = 1.0, Proposal = MALA_MC, Acceptance = metropolis, Gap = 0.0000\n",
      "Warning: Gap is very small, may be inaccurate.\n",
      "Starting problem instance 1871 of 2000 with n = 9\n"
     ]
    },
    {
     "name": "stderr",
     "output_type": "stream",
     "text": [
      "100%|██████████| 1000/1000 [00:09<00:00, 101.34it/s]\n"
     ]
    },
    {
     "name": "stdout",
     "output_type": "stream",
     "text": [
      "\t\tTotal time for config: 9.875995635986328\n",
      "Instance 1871, T = 1.0, Proposal = MALA_MC, Acceptance = metropolis, Gap = 0.0000\n",
      "Warning: Gap is very small, may be inaccurate.\n",
      "Starting problem instance 1872 of 2000 with n = 10\n"
     ]
    },
    {
     "name": "stderr",
     "output_type": "stream",
     "text": [
      "100%|██████████| 1000/1000 [00:18<00:00, 53.54it/s]\n"
     ]
    },
    {
     "name": "stdout",
     "output_type": "stream",
     "text": [
      "\t\tTotal time for config: 18.686381816864014\n",
      "Instance 1872, T = 1.0, Proposal = MALA_MC, Acceptance = metropolis, Gap = 0.0000\n",
      "Warning: Gap is very small, may be inaccurate.\n",
      "Starting problem instance 1873 of 2000 with n = 3\n"
     ]
    },
    {
     "name": "stderr",
     "output_type": "stream",
     "text": [
      "100%|██████████| 1000/1000 [00:02<00:00, 469.82it/s]\n"
     ]
    },
    {
     "name": "stdout",
     "output_type": "stream",
     "text": [
      "\t\tTotal time for config: 2.1450743675231934\n",
      "Instance 1873, T = 1.0, Proposal = MALA_MC, Acceptance = metropolis, Gap = 0.6742\n",
      "Starting problem instance 1874 of 2000 with n = 4\n"
     ]
    },
    {
     "name": "stderr",
     "output_type": "stream",
     "text": [
      "100%|██████████| 1000/1000 [00:03<00:00, 275.16it/s]\n"
     ]
    },
    {
     "name": "stdout",
     "output_type": "stream",
     "text": [
      "\t\tTotal time for config: 3.6441516876220703\n",
      "Instance 1874, T = 1.0, Proposal = MALA_MC, Acceptance = metropolis, Gap = 0.7423\n",
      "Starting problem instance 1875 of 2000 with n = 5\n"
     ]
    },
    {
     "name": "stderr",
     "output_type": "stream",
     "text": [
      "100%|██████████| 1000/1000 [00:04<00:00, 236.05it/s]\n"
     ]
    },
    {
     "name": "stdout",
     "output_type": "stream",
     "text": [
      "\t\tTotal time for config: 4.258910894393921\n",
      "Instance 1875, T = 1.0, Proposal = MALA_MC, Acceptance = metropolis, Gap = 0.0000\n",
      "Warning: Gap is very small, may be inaccurate.\n",
      "Starting problem instance 1876 of 2000 with n = 6\n"
     ]
    },
    {
     "name": "stderr",
     "output_type": "stream",
     "text": [
      "100%|██████████| 1000/1000 [00:04<00:00, 203.50it/s]\n"
     ]
    },
    {
     "name": "stdout",
     "output_type": "stream",
     "text": [
      "\t\tTotal time for config: 4.9139244556427\n",
      "Instance 1876, T = 1.0, Proposal = MALA_MC, Acceptance = metropolis, Gap = 0.0000\n",
      "Warning: Gap is very small, may be inaccurate.\n",
      "Starting problem instance 1877 of 2000 with n = 7\n"
     ]
    },
    {
     "name": "stderr",
     "output_type": "stream",
     "text": [
      "100%|██████████| 1000/1000 [00:05<00:00, 188.36it/s]\n"
     ]
    },
    {
     "name": "stdout",
     "output_type": "stream",
     "text": [
      "\t\tTotal time for config: 5.317183494567871\n",
      "Instance 1877, T = 1.0, Proposal = MALA_MC, Acceptance = metropolis, Gap = 0.0000\n",
      "Warning: Gap is very small, may be inaccurate.\n",
      "Starting problem instance 1878 of 2000 with n = 8\n"
     ]
    },
    {
     "name": "stderr",
     "output_type": "stream",
     "text": [
      "100%|██████████| 1000/1000 [00:06<00:00, 144.91it/s]\n"
     ]
    },
    {
     "name": "stdout",
     "output_type": "stream",
     "text": [
      "\t\tTotal time for config: 6.914485692977905\n",
      "Instance 1878, T = 1.0, Proposal = MALA_MC, Acceptance = metropolis, Gap = 0.0000\n",
      "Warning: Gap is very small, may be inaccurate.\n",
      "Starting problem instance 1879 of 2000 with n = 9\n"
     ]
    },
    {
     "name": "stderr",
     "output_type": "stream",
     "text": [
      "100%|██████████| 1000/1000 [00:10<00:00, 94.68it/s]\n"
     ]
    },
    {
     "name": "stdout",
     "output_type": "stream",
     "text": [
      "\t\tTotal time for config: 10.56863808631897\n",
      "Instance 1879, T = 1.0, Proposal = MALA_MC, Acceptance = metropolis, Gap = 0.0000\n",
      "Warning: Gap is very small, may be inaccurate.\n",
      "Starting problem instance 1880 of 2000 with n = 10\n"
     ]
    },
    {
     "name": "stderr",
     "output_type": "stream",
     "text": [
      "100%|██████████| 1000/1000 [00:18<00:00, 52.80it/s]\n"
     ]
    },
    {
     "name": "stdout",
     "output_type": "stream",
     "text": [
      "\t\tTotal time for config: 18.941591024398804\n",
      "Instance 1880, T = 1.0, Proposal = MALA_MC, Acceptance = metropolis, Gap = 0.0000\n",
      "Warning: Gap is very small, may be inaccurate.\n",
      "Starting problem instance 1881 of 2000 with n = 3\n"
     ]
    },
    {
     "name": "stderr",
     "output_type": "stream",
     "text": [
      "100%|██████████| 1000/1000 [00:02<00:00, 433.58it/s]\n"
     ]
    },
    {
     "name": "stdout",
     "output_type": "stream",
     "text": [
      "\t\tTotal time for config: 2.319728374481201\n",
      "Instance 1881, T = 1.0, Proposal = MALA_MC, Acceptance = metropolis, Gap = 0.0555\n",
      "Starting problem instance 1882 of 2000 with n = 4\n"
     ]
    },
    {
     "name": "stderr",
     "output_type": "stream",
     "text": [
      "100%|██████████| 1000/1000 [00:02<00:00, 336.00it/s]\n"
     ]
    },
    {
     "name": "stdout",
     "output_type": "stream",
     "text": [
      "\t\tTotal time for config: 2.983689785003662\n",
      "Instance 1882, T = 1.0, Proposal = MALA_MC, Acceptance = metropolis, Gap = 0.2256\n",
      "Starting problem instance 1883 of 2000 with n = 5\n"
     ]
    },
    {
     "name": "stderr",
     "output_type": "stream",
     "text": [
      "100%|██████████| 1000/1000 [00:03<00:00, 275.51it/s]\n"
     ]
    },
    {
     "name": "stdout",
     "output_type": "stream",
     "text": [
      "\t\tTotal time for config: 3.6368978023529053\n",
      "Instance 1883, T = 1.0, Proposal = MALA_MC, Acceptance = metropolis, Gap = 0.0000\n",
      "Warning: Gap is very small, may be inaccurate.\n",
      "Starting problem instance 1884 of 2000 with n = 6\n"
     ]
    },
    {
     "name": "stderr",
     "output_type": "stream",
     "text": [
      "100%|██████████| 1000/1000 [00:04<00:00, 245.22it/s]\n"
     ]
    },
    {
     "name": "stdout",
     "output_type": "stream",
     "text": [
      "\t\tTotal time for config: 4.0863847732543945\n",
      "Instance 1884, T = 1.0, Proposal = MALA_MC, Acceptance = metropolis, Gap = 0.7058\n",
      "Starting problem instance 1885 of 2000 with n = 7\n"
     ]
    },
    {
     "name": "stderr",
     "output_type": "stream",
     "text": [
      "100%|██████████| 1000/1000 [00:05<00:00, 187.24it/s]\n"
     ]
    },
    {
     "name": "stdout",
     "output_type": "stream",
     "text": [
      "\t\tTotal time for config: 5.3600013256073\n",
      "Instance 1885, T = 1.0, Proposal = MALA_MC, Acceptance = metropolis, Gap = 0.0000\n",
      "Warning: Gap is very small, may be inaccurate.\n",
      "Starting problem instance 1886 of 2000 with n = 8\n"
     ]
    },
    {
     "name": "stderr",
     "output_type": "stream",
     "text": [
      "100%|██████████| 1000/1000 [00:06<00:00, 156.26it/s]\n"
     ]
    },
    {
     "name": "stdout",
     "output_type": "stream",
     "text": [
      "\t\tTotal time for config: 6.421028137207031\n",
      "Instance 1886, T = 1.0, Proposal = MALA_MC, Acceptance = metropolis, Gap = 0.0000\n",
      "Warning: Gap is very small, may be inaccurate.\n",
      "Starting problem instance 1887 of 2000 with n = 9\n"
     ]
    },
    {
     "name": "stderr",
     "output_type": "stream",
     "text": [
      "100%|██████████| 1000/1000 [00:10<00:00, 97.40it/s]\n"
     ]
    },
    {
     "name": "stdout",
     "output_type": "stream",
     "text": [
      "\t\tTotal time for config: 10.282702684402466\n",
      "Instance 1887, T = 1.0, Proposal = MALA_MC, Acceptance = metropolis, Gap = 0.0000\n",
      "Warning: Gap is very small, may be inaccurate.\n",
      "Starting problem instance 1888 of 2000 with n = 10\n"
     ]
    },
    {
     "name": "stderr",
     "output_type": "stream",
     "text": [
      "100%|██████████| 1000/1000 [00:19<00:00, 51.69it/s]\n"
     ]
    },
    {
     "name": "stdout",
     "output_type": "stream",
     "text": [
      "\t\tTotal time for config: 19.360946893692017\n",
      "Instance 1888, T = 1.0, Proposal = MALA_MC, Acceptance = metropolis, Gap = 0.0000\n",
      "Warning: Gap is very small, may be inaccurate.\n",
      "Starting problem instance 1889 of 2000 with n = 3\n"
     ]
    },
    {
     "name": "stderr",
     "output_type": "stream",
     "text": [
      "100%|██████████| 1000/1000 [00:02<00:00, 441.15it/s]\n"
     ]
    },
    {
     "name": "stdout",
     "output_type": "stream",
     "text": [
      "\t\tTotal time for config: 2.266820192337036\n",
      "Instance 1889, T = 1.0, Proposal = MALA_MC, Acceptance = metropolis, Gap = 0.2035\n",
      "Starting problem instance 1890 of 2000 with n = 4\n"
     ]
    },
    {
     "name": "stderr",
     "output_type": "stream",
     "text": [
      "100%|██████████| 1000/1000 [00:02<00:00, 341.63it/s]\n"
     ]
    },
    {
     "name": "stdout",
     "output_type": "stream",
     "text": [
      "\t\tTotal time for config: 2.9345874786376953\n",
      "Instance 1890, T = 1.0, Proposal = MALA_MC, Acceptance = metropolis, Gap = 0.7541\n",
      "Starting problem instance 1891 of 2000 with n = 5\n"
     ]
    },
    {
     "name": "stderr",
     "output_type": "stream",
     "text": [
      "100%|██████████| 1000/1000 [00:03<00:00, 274.55it/s]\n"
     ]
    },
    {
     "name": "stdout",
     "output_type": "stream",
     "text": [
      "\t\tTotal time for config: 3.6608850955963135\n",
      "Instance 1891, T = 1.0, Proposal = MALA_MC, Acceptance = metropolis, Gap = 0.3049\n",
      "Starting problem instance 1892 of 2000 with n = 6\n"
     ]
    },
    {
     "name": "stderr",
     "output_type": "stream",
     "text": [
      "100%|██████████| 1000/1000 [00:03<00:00, 251.05it/s]\n"
     ]
    },
    {
     "name": "stdout",
     "output_type": "stream",
     "text": [
      "\t\tTotal time for config: 3.991421937942505\n",
      "Instance 1892, T = 1.0, Proposal = MALA_MC, Acceptance = metropolis, Gap = 0.0079\n",
      "Starting problem instance 1893 of 2000 with n = 7\n"
     ]
    },
    {
     "name": "stderr",
     "output_type": "stream",
     "text": [
      "100%|██████████| 1000/1000 [00:04<00:00, 203.48it/s]\n"
     ]
    },
    {
     "name": "stdout",
     "output_type": "stream",
     "text": [
      "\t\tTotal time for config: 4.936936140060425\n",
      "Instance 1893, T = 1.0, Proposal = MALA_MC, Acceptance = metropolis, Gap = 0.0000\n",
      "Warning: Gap is very small, may be inaccurate.\n",
      "Starting problem instance 1894 of 2000 with n = 8\n"
     ]
    },
    {
     "name": "stderr",
     "output_type": "stream",
     "text": [
      "100%|██████████| 1000/1000 [00:06<00:00, 151.21it/s]\n"
     ]
    },
    {
     "name": "stdout",
     "output_type": "stream",
     "text": [
      "\t\tTotal time for config: 6.6252601146698\n",
      "Instance 1894, T = 1.0, Proposal = MALA_MC, Acceptance = metropolis, Gap = 0.0000\n",
      "Warning: Gap is very small, may be inaccurate.\n",
      "Starting problem instance 1895 of 2000 with n = 9\n"
     ]
    },
    {
     "name": "stderr",
     "output_type": "stream",
     "text": [
      "100%|██████████| 1000/1000 [00:10<00:00, 97.01it/s]\n"
     ]
    },
    {
     "name": "stdout",
     "output_type": "stream",
     "text": [
      "\t\tTotal time for config: 10.31674861907959\n",
      "Instance 1895, T = 1.0, Proposal = MALA_MC, Acceptance = metropolis, Gap = 0.0276\n",
      "Starting problem instance 1896 of 2000 with n = 10\n"
     ]
    },
    {
     "name": "stderr",
     "output_type": "stream",
     "text": [
      "100%|██████████| 1000/1000 [00:19<00:00, 50.94it/s]\n"
     ]
    },
    {
     "name": "stdout",
     "output_type": "stream",
     "text": [
      "\t\tTotal time for config: 19.63491153717041\n",
      "Instance 1896, T = 1.0, Proposal = MALA_MC, Acceptance = metropolis, Gap = 0.0000\n",
      "Warning: Gap is very small, may be inaccurate.\n",
      "Starting problem instance 1897 of 2000 with n = 3\n"
     ]
    },
    {
     "name": "stderr",
     "output_type": "stream",
     "text": [
      "100%|██████████| 1000/1000 [00:02<00:00, 459.92it/s]\n"
     ]
    },
    {
     "name": "stdout",
     "output_type": "stream",
     "text": [
      "\t\tTotal time for config: 2.1885006427764893\n",
      "Instance 1897, T = 1.0, Proposal = MALA_MC, Acceptance = metropolis, Gap = 0.6771\n",
      "Starting problem instance 1898 of 2000 with n = 4\n"
     ]
    },
    {
     "name": "stderr",
     "output_type": "stream",
     "text": [
      "100%|██████████| 1000/1000 [00:02<00:00, 355.06it/s]\n"
     ]
    },
    {
     "name": "stdout",
     "output_type": "stream",
     "text": [
      "\t\tTotal time for config: 2.8385097980499268\n",
      "Instance 1898, T = 1.0, Proposal = MALA_MC, Acceptance = metropolis, Gap = 0.7524\n",
      "Starting problem instance 1899 of 2000 with n = 5\n"
     ]
    },
    {
     "name": "stderr",
     "output_type": "stream",
     "text": [
      "100%|██████████| 1000/1000 [00:03<00:00, 262.10it/s]\n"
     ]
    },
    {
     "name": "stdout",
     "output_type": "stream",
     "text": [
      "\t\tTotal time for config: 3.8223483562469482\n",
      "Instance 1899, T = 1.0, Proposal = MALA_MC, Acceptance = metropolis, Gap = 0.0000\n",
      "Warning: Gap is very small, may be inaccurate.\n",
      "Starting problem instance 1900 of 2000 with n = 6\n"
     ]
    },
    {
     "name": "stderr",
     "output_type": "stream",
     "text": [
      "100%|██████████| 1000/1000 [00:04<00:00, 230.14it/s]\n"
     ]
    },
    {
     "name": "stdout",
     "output_type": "stream",
     "text": [
      "\t\tTotal time for config: 4.353501081466675\n",
      "Instance 1900, T = 1.0, Proposal = MALA_MC, Acceptance = metropolis, Gap = 0.0487\n",
      "Starting problem instance 1901 of 2000 with n = 7\n"
     ]
    },
    {
     "name": "stderr",
     "output_type": "stream",
     "text": [
      "100%|██████████| 1000/1000 [00:05<00:00, 188.88it/s]\n"
     ]
    },
    {
     "name": "stdout",
     "output_type": "stream",
     "text": [
      "\t\tTotal time for config: 5.29636812210083\n",
      "Instance 1901, T = 1.0, Proposal = MALA_MC, Acceptance = metropolis, Gap = 0.0000\n",
      "Warning: Gap is very small, may be inaccurate.\n",
      "Starting problem instance 1902 of 2000 with n = 8\n"
     ]
    },
    {
     "name": "stderr",
     "output_type": "stream",
     "text": [
      "100%|██████████| 1000/1000 [00:06<00:00, 155.03it/s]\n"
     ]
    },
    {
     "name": "stdout",
     "output_type": "stream",
     "text": [
      "\t\tTotal time for config: 6.461233854293823\n",
      "Instance 1902, T = 1.0, Proposal = MALA_MC, Acceptance = metropolis, Gap = 0.0000\n",
      "Warning: Gap is very small, may be inaccurate.\n",
      "Starting problem instance 1903 of 2000 with n = 9\n"
     ]
    },
    {
     "name": "stderr",
     "output_type": "stream",
     "text": [
      "100%|██████████| 1000/1000 [00:10<00:00, 95.98it/s]\n"
     ]
    },
    {
     "name": "stdout",
     "output_type": "stream",
     "text": [
      "\t\tTotal time for config: 10.43426251411438\n",
      "Instance 1903, T = 1.0, Proposal = MALA_MC, Acceptance = metropolis, Gap = 0.0000\n",
      "Warning: Gap is very small, may be inaccurate.\n",
      "Starting problem instance 1904 of 2000 with n = 10\n"
     ]
    },
    {
     "name": "stderr",
     "output_type": "stream",
     "text": [
      "100%|██████████| 1000/1000 [00:18<00:00, 53.23it/s]\n"
     ]
    },
    {
     "name": "stdout",
     "output_type": "stream",
     "text": [
      "\t\tTotal time for config: 18.785061597824097\n",
      "Instance 1904, T = 1.0, Proposal = MALA_MC, Acceptance = metropolis, Gap = 0.0000\n",
      "Warning: Gap is very small, may be inaccurate.\n",
      "Starting problem instance 1905 of 2000 with n = 3\n"
     ]
    },
    {
     "name": "stderr",
     "output_type": "stream",
     "text": [
      "100%|██████████| 1000/1000 [00:02<00:00, 442.13it/s]\n"
     ]
    },
    {
     "name": "stdout",
     "output_type": "stream",
     "text": [
      "\t\tTotal time for config: 2.277439832687378\n",
      "Instance 1905, T = 1.0, Proposal = MALA_MC, Acceptance = metropolis, Gap = 0.6044\n",
      "Starting problem instance 1906 of 2000 with n = 4\n"
     ]
    },
    {
     "name": "stderr",
     "output_type": "stream",
     "text": [
      "100%|██████████| 1000/1000 [00:03<00:00, 321.96it/s]\n"
     ]
    },
    {
     "name": "stdout",
     "output_type": "stream",
     "text": [
      "\t\tTotal time for config: 3.1137077808380127\n",
      "Instance 1906, T = 1.0, Proposal = MALA_MC, Acceptance = metropolis, Gap = 0.0000\n",
      "Warning: Gap is very small, may be inaccurate.\n",
      "Starting problem instance 1907 of 2000 with n = 5\n"
     ]
    },
    {
     "name": "stderr",
     "output_type": "stream",
     "text": [
      "100%|██████████| 1000/1000 [00:02<00:00, 402.68it/s]\n"
     ]
    },
    {
     "name": "stdout",
     "output_type": "stream",
     "text": [
      "\t\tTotal time for config: 2.491734504699707\n",
      "Instance 1907, T = 1.0, Proposal = MALA_MC, Acceptance = metropolis, Gap = 0.5063\n",
      "Starting problem instance 1908 of 2000 with n = 6\n"
     ]
    },
    {
     "name": "stderr",
     "output_type": "stream",
     "text": [
      "100%|██████████| 1000/1000 [00:02<00:00, 406.78it/s]\n"
     ]
    },
    {
     "name": "stdout",
     "output_type": "stream",
     "text": [
      "\t\tTotal time for config: 2.461751937866211\n",
      "Instance 1908, T = 1.0, Proposal = MALA_MC, Acceptance = metropolis, Gap = 0.0000\n",
      "Warning: Gap is very small, may be inaccurate.\n",
      "Starting problem instance 1909 of 2000 with n = 7\n"
     ]
    },
    {
     "name": "stderr",
     "output_type": "stream",
     "text": [
      "100%|██████████| 1000/1000 [00:04<00:00, 226.02it/s]\n"
     ]
    },
    {
     "name": "stdout",
     "output_type": "stream",
     "text": [
      "\t\tTotal time for config: 4.424370050430298\n",
      "Instance 1909, T = 1.0, Proposal = MALA_MC, Acceptance = metropolis, Gap = 0.6043\n",
      "Starting problem instance 1910 of 2000 with n = 8\n"
     ]
    },
    {
     "name": "stderr",
     "output_type": "stream",
     "text": [
      "100%|██████████| 1000/1000 [00:06<00:00, 154.89it/s]\n"
     ]
    },
    {
     "name": "stdout",
     "output_type": "stream",
     "text": [
      "\t\tTotal time for config: 6.469013452529907\n",
      "Instance 1910, T = 1.0, Proposal = MALA_MC, Acceptance = metropolis, Gap = 0.0000\n",
      "Warning: Gap is very small, may be inaccurate.\n",
      "Starting problem instance 1911 of 2000 with n = 9\n"
     ]
    },
    {
     "name": "stderr",
     "output_type": "stream",
     "text": [
      "100%|██████████| 1000/1000 [00:10<00:00, 98.75it/s]\n"
     ]
    },
    {
     "name": "stdout",
     "output_type": "stream",
     "text": [
      "\t\tTotal time for config: 10.12621259689331\n",
      "Instance 1911, T = 1.0, Proposal = MALA_MC, Acceptance = metropolis, Gap = 0.0000\n",
      "Warning: Gap is very small, may be inaccurate.\n",
      "Starting problem instance 1912 of 2000 with n = 10\n"
     ]
    },
    {
     "name": "stderr",
     "output_type": "stream",
     "text": [
      "100%|██████████| 1000/1000 [00:18<00:00, 52.98it/s]\n"
     ]
    },
    {
     "name": "stdout",
     "output_type": "stream",
     "text": [
      "\t\tTotal time for config: 18.873793125152588\n",
      "Instance 1912, T = 1.0, Proposal = MALA_MC, Acceptance = metropolis, Gap = 0.0000\n",
      "Warning: Gap is very small, may be inaccurate.\n",
      "Starting problem instance 1913 of 2000 with n = 3\n"
     ]
    },
    {
     "name": "stderr",
     "output_type": "stream",
     "text": [
      "100%|██████████| 1000/1000 [00:02<00:00, 401.78it/s]\n"
     ]
    },
    {
     "name": "stdout",
     "output_type": "stream",
     "text": [
      "\t\tTotal time for config: 2.4997000694274902\n",
      "Instance 1913, T = 1.0, Proposal = MALA_MC, Acceptance = metropolis, Gap = 0.0109\n",
      "Starting problem instance 1914 of 2000 with n = 4\n"
     ]
    },
    {
     "name": "stderr",
     "output_type": "stream",
     "text": [
      "100%|██████████| 1000/1000 [00:03<00:00, 307.63it/s]\n"
     ]
    },
    {
     "name": "stdout",
     "output_type": "stream",
     "text": [
      "\t\tTotal time for config: 3.258429527282715\n",
      "Instance 1914, T = 1.0, Proposal = MALA_MC, Acceptance = metropolis, Gap = 0.8929\n",
      "Starting problem instance 1915 of 2000 with n = 5\n"
     ]
    },
    {
     "name": "stderr",
     "output_type": "stream",
     "text": [
      "100%|██████████| 1000/1000 [00:04<00:00, 236.47it/s]\n"
     ]
    },
    {
     "name": "stdout",
     "output_type": "stream",
     "text": [
      "\t\tTotal time for config: 4.228919982910156\n",
      "Instance 1915, T = 1.0, Proposal = MALA_MC, Acceptance = metropolis, Gap = 0.0000\n",
      "Starting problem instance 1916 of 2000 with n = 6\n"
     ]
    },
    {
     "name": "stderr",
     "output_type": "stream",
     "text": [
      "100%|██████████| 1000/1000 [00:04<00:00, 221.08it/s]\n"
     ]
    },
    {
     "name": "stdout",
     "output_type": "stream",
     "text": [
      "\t\tTotal time for config: 4.5272910594940186\n",
      "Instance 1916, T = 1.0, Proposal = MALA_MC, Acceptance = metropolis, Gap = 0.0041\n",
      "Starting problem instance 1917 of 2000 with n = 7\n"
     ]
    },
    {
     "name": "stderr",
     "output_type": "stream",
     "text": [
      "100%|██████████| 1000/1000 [00:05<00:00, 195.63it/s]\n"
     ]
    },
    {
     "name": "stdout",
     "output_type": "stream",
     "text": [
      "\t\tTotal time for config: 5.113856554031372\n",
      "Instance 1917, T = 1.0, Proposal = MALA_MC, Acceptance = metropolis, Gap = 0.0644\n",
      "Starting problem instance 1918 of 2000 with n = 8\n"
     ]
    },
    {
     "name": "stderr",
     "output_type": "stream",
     "text": [
      "100%|██████████| 1000/1000 [00:06<00:00, 159.94it/s]\n"
     ]
    },
    {
     "name": "stdout",
     "output_type": "stream",
     "text": [
      "\t\tTotal time for config: 6.254083871841431\n",
      "Instance 1918, T = 1.0, Proposal = MALA_MC, Acceptance = metropolis, Gap = 0.0000\n",
      "Warning: Gap is very small, may be inaccurate.\n",
      "Starting problem instance 1919 of 2000 with n = 9\n"
     ]
    },
    {
     "name": "stderr",
     "output_type": "stream",
     "text": [
      "100%|██████████| 1000/1000 [00:10<00:00, 99.41it/s]\n"
     ]
    },
    {
     "name": "stdout",
     "output_type": "stream",
     "text": [
      "\t\tTotal time for config: 10.066545963287354\n",
      "Instance 1919, T = 1.0, Proposal = MALA_MC, Acceptance = metropolis, Gap = 0.0000\n",
      "Warning: Gap is very small, may be inaccurate.\n",
      "Starting problem instance 1920 of 2000 with n = 10\n"
     ]
    },
    {
     "name": "stderr",
     "output_type": "stream",
     "text": [
      "100%|██████████| 1000/1000 [00:18<00:00, 54.45it/s]\n"
     ]
    },
    {
     "name": "stdout",
     "output_type": "stream",
     "text": [
      "\t\tTotal time for config: 18.373485803604126\n",
      "Instance 1920, T = 1.0, Proposal = MALA_MC, Acceptance = metropolis, Gap = 0.0000\n",
      "Warning: Gap is very small, may be inaccurate.\n",
      "Starting problem instance 1921 of 2000 with n = 3\n"
     ]
    },
    {
     "name": "stderr",
     "output_type": "stream",
     "text": [
      "100%|██████████| 1000/1000 [00:02<00:00, 470.90it/s]\n"
     ]
    },
    {
     "name": "stdout",
     "output_type": "stream",
     "text": [
      "\t\tTotal time for config: 2.1266872882843018\n",
      "Instance 1921, T = 1.0, Proposal = MALA_MC, Acceptance = metropolis, Gap = 0.7673\n",
      "Starting problem instance 1922 of 2000 with n = 4\n"
     ]
    },
    {
     "name": "stderr",
     "output_type": "stream",
     "text": [
      "100%|██████████| 1000/1000 [00:02<00:00, 367.18it/s]\n"
     ]
    },
    {
     "name": "stdout",
     "output_type": "stream",
     "text": [
      "\t\tTotal time for config: 2.737957000732422\n",
      "Instance 1922, T = 1.0, Proposal = MALA_MC, Acceptance = metropolis, Gap = 0.2354\n",
      "Starting problem instance 1923 of 2000 with n = 5\n"
     ]
    },
    {
     "name": "stderr",
     "output_type": "stream",
     "text": [
      "100%|██████████| 1000/1000 [00:03<00:00, 288.98it/s]\n"
     ]
    },
    {
     "name": "stdout",
     "output_type": "stream",
     "text": [
      "\t\tTotal time for config: 3.482008695602417\n",
      "Instance 1923, T = 1.0, Proposal = MALA_MC, Acceptance = metropolis, Gap = 0.7499\n",
      "Starting problem instance 1924 of 2000 with n = 6\n"
     ]
    },
    {
     "name": "stderr",
     "output_type": "stream",
     "text": [
      "100%|██████████| 1000/1000 [00:04<00:00, 244.98it/s]\n"
     ]
    },
    {
     "name": "stdout",
     "output_type": "stream",
     "text": [
      "\t\tTotal time for config: 4.095787286758423\n",
      "Instance 1924, T = 1.0, Proposal = MALA_MC, Acceptance = metropolis, Gap = 0.0000\n",
      "Warning: Gap is very small, may be inaccurate.\n",
      "Starting problem instance 1925 of 2000 with n = 7\n"
     ]
    },
    {
     "name": "stderr",
     "output_type": "stream",
     "text": [
      "100%|██████████| 1000/1000 [00:04<00:00, 202.96it/s]\n"
     ]
    },
    {
     "name": "stdout",
     "output_type": "stream",
     "text": [
      "\t\tTotal time for config: 4.93571400642395\n",
      "Instance 1925, T = 1.0, Proposal = MALA_MC, Acceptance = metropolis, Gap = 0.0006\n",
      "Starting problem instance 1926 of 2000 with n = 8\n"
     ]
    },
    {
     "name": "stderr",
     "output_type": "stream",
     "text": [
      "100%|██████████| 1000/1000 [00:06<00:00, 152.36it/s]\n"
     ]
    },
    {
     "name": "stdout",
     "output_type": "stream",
     "text": [
      "\t\tTotal time for config: 6.566391706466675\n",
      "Instance 1926, T = 1.0, Proposal = MALA_MC, Acceptance = metropolis, Gap = 0.0000\n",
      "Warning: Gap is very small, may be inaccurate.\n",
      "Starting problem instance 1927 of 2000 with n = 9\n"
     ]
    },
    {
     "name": "stderr",
     "output_type": "stream",
     "text": [
      "100%|██████████| 1000/1000 [00:10<00:00, 98.41it/s]\n"
     ]
    },
    {
     "name": "stdout",
     "output_type": "stream",
     "text": [
      "\t\tTotal time for config: 10.177749872207642\n",
      "Instance 1927, T = 1.0, Proposal = MALA_MC, Acceptance = metropolis, Gap = 0.0000\n",
      "Warning: Gap is very small, may be inaccurate.\n",
      "Starting problem instance 1928 of 2000 with n = 10\n"
     ]
    },
    {
     "name": "stderr",
     "output_type": "stream",
     "text": [
      "100%|██████████| 1000/1000 [00:18<00:00, 54.58it/s]\n"
     ]
    },
    {
     "name": "stdout",
     "output_type": "stream",
     "text": [
      "\t\tTotal time for config: 18.337098598480225\n",
      "Instance 1928, T = 1.0, Proposal = MALA_MC, Acceptance = metropolis, Gap = 0.0000\n",
      "Warning: Gap is very small, may be inaccurate.\n",
      "Starting problem instance 1929 of 2000 with n = 3\n"
     ]
    },
    {
     "name": "stderr",
     "output_type": "stream",
     "text": [
      "100%|██████████| 1000/1000 [00:02<00:00, 483.71it/s]\n"
     ]
    },
    {
     "name": "stdout",
     "output_type": "stream",
     "text": [
      "\t\tTotal time for config: 2.0754895210266113\n",
      "Instance 1929, T = 1.0, Proposal = MALA_MC, Acceptance = metropolis, Gap = 0.5124\n",
      "Starting problem instance 1930 of 2000 with n = 4\n"
     ]
    },
    {
     "name": "stderr",
     "output_type": "stream",
     "text": [
      "100%|██████████| 1000/1000 [00:02<00:00, 367.13it/s]\n"
     ]
    },
    {
     "name": "stdout",
     "output_type": "stream",
     "text": [
      "\t\tTotal time for config: 2.723830223083496\n",
      "Instance 1930, T = 1.0, Proposal = MALA_MC, Acceptance = metropolis, Gap = 0.6695\n",
      "Starting problem instance 1931 of 2000 with n = 5\n"
     ]
    },
    {
     "name": "stderr",
     "output_type": "stream",
     "text": [
      "100%|██████████| 1000/1000 [00:03<00:00, 292.47it/s]\n"
     ]
    },
    {
     "name": "stdout",
     "output_type": "stream",
     "text": [
      "\t\tTotal time for config: 3.426910877227783\n",
      "Instance 1931, T = 1.0, Proposal = MALA_MC, Acceptance = metropolis, Gap = 0.0000\n",
      "Warning: Gap is very small, may be inaccurate.\n",
      "Starting problem instance 1932 of 2000 with n = 6\n"
     ]
    },
    {
     "name": "stderr",
     "output_type": "stream",
     "text": [
      "100%|██████████| 1000/1000 [00:03<00:00, 265.23it/s]\n"
     ]
    },
    {
     "name": "stdout",
     "output_type": "stream",
     "text": [
      "\t\tTotal time for config: 3.7787206172943115\n",
      "Instance 1932, T = 1.0, Proposal = MALA_MC, Acceptance = metropolis, Gap = 0.0356\n",
      "Starting problem instance 1933 of 2000 with n = 7\n"
     ]
    },
    {
     "name": "stderr",
     "output_type": "stream",
     "text": [
      "100%|██████████| 1000/1000 [00:04<00:00, 209.54it/s]\n"
     ]
    },
    {
     "name": "stdout",
     "output_type": "stream",
     "text": [
      "\t\tTotal time for config: 4.787943124771118\n",
      "Instance 1933, T = 1.0, Proposal = MALA_MC, Acceptance = metropolis, Gap = 0.0000\n",
      "Warning: Gap is very small, may be inaccurate.\n",
      "Starting problem instance 1934 of 2000 with n = 8\n"
     ]
    },
    {
     "name": "stderr",
     "output_type": "stream",
     "text": [
      "100%|██████████| 1000/1000 [00:06<00:00, 159.92it/s]\n"
     ]
    },
    {
     "name": "stdout",
     "output_type": "stream",
     "text": [
      "\t\tTotal time for config: 6.275860786437988\n",
      "Instance 1934, T = 1.0, Proposal = MALA_MC, Acceptance = metropolis, Gap = 0.0000\n",
      "Warning: Gap is very small, may be inaccurate.\n",
      "Starting problem instance 1935 of 2000 with n = 9\n"
     ]
    },
    {
     "name": "stderr",
     "output_type": "stream",
     "text": [
      "100%|██████████| 1000/1000 [00:10<00:00, 98.33it/s]\n"
     ]
    },
    {
     "name": "stdout",
     "output_type": "stream",
     "text": [
      "\t\tTotal time for config: 10.178482055664062\n",
      "Instance 1935, T = 1.0, Proposal = MALA_MC, Acceptance = metropolis, Gap = 0.0000\n",
      "Warning: Gap is very small, may be inaccurate.\n",
      "Starting problem instance 1936 of 2000 with n = 10\n"
     ]
    },
    {
     "name": "stderr",
     "output_type": "stream",
     "text": [
      "100%|██████████| 1000/1000 [00:18<00:00, 53.45it/s]\n"
     ]
    },
    {
     "name": "stdout",
     "output_type": "stream",
     "text": [
      "\t\tTotal time for config: 18.724323749542236\n",
      "Instance 1936, T = 1.0, Proposal = MALA_MC, Acceptance = metropolis, Gap = 0.0000\n",
      "Warning: Gap is very small, may be inaccurate.\n",
      "Starting problem instance 1937 of 2000 with n = 3\n"
     ]
    },
    {
     "name": "stderr",
     "output_type": "stream",
     "text": [
      "100%|██████████| 1000/1000 [00:02<00:00, 452.20it/s]\n"
     ]
    },
    {
     "name": "stdout",
     "output_type": "stream",
     "text": [
      "\t\tTotal time for config: 2.211405038833618\n",
      "Instance 1937, T = 1.0, Proposal = MALA_MC, Acceptance = metropolis, Gap = 0.6779\n",
      "Starting problem instance 1938 of 2000 with n = 4\n"
     ]
    },
    {
     "name": "stderr",
     "output_type": "stream",
     "text": [
      "100%|██████████| 1000/1000 [00:02<00:00, 349.88it/s]\n"
     ]
    },
    {
     "name": "stdout",
     "output_type": "stream",
     "text": [
      "\t\tTotal time for config: 2.8580875396728516\n",
      "Instance 1938, T = 1.0, Proposal = MALA_MC, Acceptance = metropolis, Gap = 0.5479\n",
      "Starting problem instance 1939 of 2000 with n = 5\n"
     ]
    },
    {
     "name": "stderr",
     "output_type": "stream",
     "text": [
      "100%|██████████| 1000/1000 [00:03<00:00, 281.24it/s]\n"
     ]
    },
    {
     "name": "stdout",
     "output_type": "stream",
     "text": [
      "\t\tTotal time for config: 3.573136329650879\n",
      "Instance 1939, T = 1.0, Proposal = MALA_MC, Acceptance = metropolis, Gap = 0.2262\n",
      "Starting problem instance 1940 of 2000 with n = 6\n"
     ]
    },
    {
     "name": "stderr",
     "output_type": "stream",
     "text": [
      "100%|██████████| 1000/1000 [00:03<00:00, 255.99it/s]\n"
     ]
    },
    {
     "name": "stdout",
     "output_type": "stream",
     "text": [
      "\t\tTotal time for config: 3.9148712158203125\n",
      "Instance 1940, T = 1.0, Proposal = MALA_MC, Acceptance = metropolis, Gap = 0.0001\n",
      "Starting problem instance 1941 of 2000 with n = 7\n"
     ]
    },
    {
     "name": "stderr",
     "output_type": "stream",
     "text": [
      "100%|██████████| 1000/1000 [00:05<00:00, 198.62it/s]\n"
     ]
    },
    {
     "name": "stdout",
     "output_type": "stream",
     "text": [
      "\t\tTotal time for config: 5.0461649894714355\n",
      "Instance 1941, T = 1.0, Proposal = MALA_MC, Acceptance = metropolis, Gap = 0.0150\n",
      "Starting problem instance 1942 of 2000 with n = 8\n"
     ]
    },
    {
     "name": "stderr",
     "output_type": "stream",
     "text": [
      "100%|██████████| 1000/1000 [00:06<00:00, 154.75it/s]\n"
     ]
    },
    {
     "name": "stdout",
     "output_type": "stream",
     "text": [
      "\t\tTotal time for config: 6.4703381061553955\n",
      "Instance 1942, T = 1.0, Proposal = MALA_MC, Acceptance = metropolis, Gap = 0.0000\n",
      "Warning: Gap is very small, may be inaccurate.\n",
      "Starting problem instance 1943 of 2000 with n = 9\n"
     ]
    },
    {
     "name": "stderr",
     "output_type": "stream",
     "text": [
      "100%|██████████| 1000/1000 [00:10<00:00, 99.95it/s]\n"
     ]
    },
    {
     "name": "stdout",
     "output_type": "stream",
     "text": [
      "\t\tTotal time for config: 10.017883062362671\n",
      "Instance 1943, T = 1.0, Proposal = MALA_MC, Acceptance = metropolis, Gap = 0.0000\n",
      "Warning: Gap is very small, may be inaccurate.\n",
      "Starting problem instance 1944 of 2000 with n = 10\n"
     ]
    },
    {
     "name": "stderr",
     "output_type": "stream",
     "text": [
      "100%|██████████| 1000/1000 [00:19<00:00, 52.07it/s]\n"
     ]
    },
    {
     "name": "stdout",
     "output_type": "stream",
     "text": [
      "\t\tTotal time for config: 19.215689420700073\n",
      "Instance 1944, T = 1.0, Proposal = MALA_MC, Acceptance = metropolis, Gap = 0.0000\n",
      "Warning: Gap is very small, may be inaccurate.\n",
      "Starting problem instance 1945 of 2000 with n = 3\n"
     ]
    },
    {
     "name": "stderr",
     "output_type": "stream",
     "text": [
      "100%|██████████| 1000/1000 [00:02<00:00, 387.76it/s]\n"
     ]
    },
    {
     "name": "stdout",
     "output_type": "stream",
     "text": [
      "\t\tTotal time for config: 2.5789053440093994\n",
      "Instance 1945, T = 1.0, Proposal = MALA_MC, Acceptance = metropolis, Gap = 0.7954\n",
      "Starting problem instance 1946 of 2000 with n = 4\n"
     ]
    },
    {
     "name": "stderr",
     "output_type": "stream",
     "text": [
      "100%|██████████| 1000/1000 [00:03<00:00, 332.73it/s]\n"
     ]
    },
    {
     "name": "stdout",
     "output_type": "stream",
     "text": [
      "\t\tTotal time for config: 3.0288171768188477\n",
      "Instance 1946, T = 1.0, Proposal = MALA_MC, Acceptance = metropolis, Gap = 0.0001\n",
      "Starting problem instance 1947 of 2000 with n = 5\n"
     ]
    },
    {
     "name": "stderr",
     "output_type": "stream",
     "text": [
      "100%|██████████| 1000/1000 [00:03<00:00, 255.15it/s]\n"
     ]
    },
    {
     "name": "stdout",
     "output_type": "stream",
     "text": [
      "\t\tTotal time for config: 3.936215400695801\n",
      "Instance 1947, T = 1.0, Proposal = MALA_MC, Acceptance = metropolis, Gap = 0.8125\n",
      "Starting problem instance 1948 of 2000 with n = 6\n"
     ]
    },
    {
     "name": "stderr",
     "output_type": "stream",
     "text": [
      "100%|██████████| 1000/1000 [00:04<00:00, 215.88it/s]\n"
     ]
    },
    {
     "name": "stdout",
     "output_type": "stream",
     "text": [
      "\t\tTotal time for config: 4.642234563827515\n",
      "Instance 1948, T = 1.0, Proposal = MALA_MC, Acceptance = metropolis, Gap = 0.5689\n",
      "Starting problem instance 1949 of 2000 with n = 7\n"
     ]
    },
    {
     "name": "stderr",
     "output_type": "stream",
     "text": [
      "100%|██████████| 1000/1000 [00:05<00:00, 192.56it/s]\n"
     ]
    },
    {
     "name": "stdout",
     "output_type": "stream",
     "text": [
      "\t\tTotal time for config: 5.205797910690308\n",
      "Instance 1949, T = 1.0, Proposal = MALA_MC, Acceptance = metropolis, Gap = 0.0000\n",
      "Warning: Gap is very small, may be inaccurate.\n",
      "Starting problem instance 1950 of 2000 with n = 8\n"
     ]
    },
    {
     "name": "stderr",
     "output_type": "stream",
     "text": [
      "100%|██████████| 1000/1000 [00:06<00:00, 148.88it/s]\n"
     ]
    },
    {
     "name": "stdout",
     "output_type": "stream",
     "text": [
      "\t\tTotal time for config: 6.729787588119507\n",
      "Instance 1950, T = 1.0, Proposal = MALA_MC, Acceptance = metropolis, Gap = 0.0000\n",
      "Warning: Gap is very small, may be inaccurate.\n",
      "Starting problem instance 1951 of 2000 with n = 9\n"
     ]
    },
    {
     "name": "stderr",
     "output_type": "stream",
     "text": [
      "100%|██████████| 1000/1000 [00:10<00:00, 97.60it/s]\n"
     ]
    },
    {
     "name": "stdout",
     "output_type": "stream",
     "text": [
      "\t\tTotal time for config: 10.245835065841675\n",
      "Instance 1951, T = 1.0, Proposal = MALA_MC, Acceptance = metropolis, Gap = 0.0000\n",
      "Warning: Gap is very small, may be inaccurate.\n",
      "Starting problem instance 1952 of 2000 with n = 10\n"
     ]
    },
    {
     "name": "stderr",
     "output_type": "stream",
     "text": [
      "100%|██████████| 1000/1000 [00:18<00:00, 52.81it/s]\n"
     ]
    },
    {
     "name": "stdout",
     "output_type": "stream",
     "text": [
      "\t\tTotal time for config: 18.942151308059692\n",
      "Instance 1952, T = 1.0, Proposal = MALA_MC, Acceptance = metropolis, Gap = 0.0000\n",
      "Warning: Gap is very small, may be inaccurate.\n",
      "Starting problem instance 1953 of 2000 with n = 3\n"
     ]
    },
    {
     "name": "stderr",
     "output_type": "stream",
     "text": [
      "100%|██████████| 1000/1000 [00:02<00:00, 406.05it/s]\n"
     ]
    },
    {
     "name": "stdout",
     "output_type": "stream",
     "text": [
      "\t\tTotal time for config: 2.4667439460754395\n",
      "Instance 1953, T = 1.0, Proposal = MALA_MC, Acceptance = metropolis, Gap = 0.5495\n",
      "Starting problem instance 1954 of 2000 with n = 4\n"
     ]
    },
    {
     "name": "stderr",
     "output_type": "stream",
     "text": [
      "100%|██████████| 1000/1000 [00:03<00:00, 309.75it/s]\n"
     ]
    },
    {
     "name": "stdout",
     "output_type": "stream",
     "text": [
      "\t\tTotal time for config: 3.252211332321167\n",
      "Instance 1954, T = 1.0, Proposal = MALA_MC, Acceptance = metropolis, Gap = 0.6346\n",
      "Starting problem instance 1955 of 2000 with n = 5\n"
     ]
    },
    {
     "name": "stderr",
     "output_type": "stream",
     "text": [
      "100%|██████████| 1000/1000 [00:03<00:00, 271.23it/s]\n"
     ]
    },
    {
     "name": "stdout",
     "output_type": "stream",
     "text": [
      "\t\tTotal time for config: 3.711945056915283\n",
      "Instance 1955, T = 1.0, Proposal = MALA_MC, Acceptance = metropolis, Gap = 0.3010\n",
      "Starting problem instance 1956 of 2000 with n = 6\n"
     ]
    },
    {
     "name": "stderr",
     "output_type": "stream",
     "text": [
      "100%|██████████| 1000/1000 [00:04<00:00, 244.94it/s]\n"
     ]
    },
    {
     "name": "stdout",
     "output_type": "stream",
     "text": [
      "\t\tTotal time for config: 4.0859692096710205\n",
      "Instance 1956, T = 1.0, Proposal = MALA_MC, Acceptance = metropolis, Gap = 0.0000\n",
      "Warning: Gap is very small, may be inaccurate.\n",
      "Starting problem instance 1957 of 2000 with n = 7\n"
     ]
    },
    {
     "name": "stderr",
     "output_type": "stream",
     "text": [
      "100%|██████████| 1000/1000 [00:04<00:00, 203.50it/s]\n"
     ]
    },
    {
     "name": "stdout",
     "output_type": "stream",
     "text": [
      "\t\tTotal time for config: 4.9197893142700195\n",
      "Instance 1957, T = 1.0, Proposal = MALA_MC, Acceptance = metropolis, Gap = 0.0000\n",
      "Warning: Gap is very small, may be inaccurate.\n",
      "Starting problem instance 1958 of 2000 with n = 8\n"
     ]
    },
    {
     "name": "stderr",
     "output_type": "stream",
     "text": [
      "100%|██████████| 1000/1000 [00:06<00:00, 149.87it/s]\n"
     ]
    },
    {
     "name": "stdout",
     "output_type": "stream",
     "text": [
      "\t\tTotal time for config: 6.672234058380127\n",
      "Instance 1958, T = 1.0, Proposal = MALA_MC, Acceptance = metropolis, Gap = 0.0000\n",
      "Warning: Gap is very small, may be inaccurate.\n",
      "Starting problem instance 1959 of 2000 with n = 9\n"
     ]
    },
    {
     "name": "stderr",
     "output_type": "stream",
     "text": [
      "100%|██████████| 1000/1000 [00:10<00:00, 96.48it/s]\n"
     ]
    },
    {
     "name": "stdout",
     "output_type": "stream",
     "text": [
      "\t\tTotal time for config: 10.373149394989014\n",
      "Instance 1959, T = 1.0, Proposal = MALA_MC, Acceptance = metropolis, Gap = 0.0000\n",
      "Warning: Gap is very small, may be inaccurate.\n",
      "Starting problem instance 1960 of 2000 with n = 10\n"
     ]
    },
    {
     "name": "stderr",
     "output_type": "stream",
     "text": [
      "100%|██████████| 1000/1000 [00:18<00:00, 53.46it/s]\n"
     ]
    },
    {
     "name": "stdout",
     "output_type": "stream",
     "text": [
      "\t\tTotal time for config: 18.71109938621521\n",
      "Instance 1960, T = 1.0, Proposal = MALA_MC, Acceptance = metropolis, Gap = 0.0000\n",
      "Warning: Gap is very small, may be inaccurate.\n",
      "Starting problem instance 1961 of 2000 with n = 3\n"
     ]
    },
    {
     "name": "stderr",
     "output_type": "stream",
     "text": [
      "100%|██████████| 1000/1000 [00:02<00:00, 464.14it/s]\n"
     ]
    },
    {
     "name": "stdout",
     "output_type": "stream",
     "text": [
      "\t\tTotal time for config: 2.1652274131774902\n",
      "Instance 1961, T = 1.0, Proposal = MALA_MC, Acceptance = metropolis, Gap = 0.6922\n",
      "Starting problem instance 1962 of 2000 with n = 4\n"
     ]
    },
    {
     "name": "stderr",
     "output_type": "stream",
     "text": [
      "100%|██████████| 1000/1000 [00:02<00:00, 366.94it/s]\n"
     ]
    },
    {
     "name": "stdout",
     "output_type": "stream",
     "text": [
      "\t\tTotal time for config: 2.7252554893493652\n",
      "Instance 1962, T = 1.0, Proposal = MALA_MC, Acceptance = metropolis, Gap = 0.0193\n",
      "Starting problem instance 1963 of 2000 with n = 5\n"
     ]
    },
    {
     "name": "stderr",
     "output_type": "stream",
     "text": [
      "100%|██████████| 1000/1000 [00:03<00:00, 252.26it/s]\n"
     ]
    },
    {
     "name": "stdout",
     "output_type": "stream",
     "text": [
      "\t\tTotal time for config: 3.9746642112731934\n",
      "Instance 1963, T = 1.0, Proposal = MALA_MC, Acceptance = metropolis, Gap = 0.3179\n",
      "Starting problem instance 1964 of 2000 with n = 6\n"
     ]
    },
    {
     "name": "stderr",
     "output_type": "stream",
     "text": [
      "100%|██████████| 1000/1000 [00:03<00:00, 252.29it/s]\n"
     ]
    },
    {
     "name": "stdout",
     "output_type": "stream",
     "text": [
      "\t\tTotal time for config: 3.9820449352264404\n",
      "Instance 1964, T = 1.0, Proposal = MALA_MC, Acceptance = metropolis, Gap = 0.5180\n",
      "Starting problem instance 1965 of 2000 with n = 7\n"
     ]
    },
    {
     "name": "stderr",
     "output_type": "stream",
     "text": [
      "100%|██████████| 1000/1000 [00:05<00:00, 198.08it/s]\n"
     ]
    },
    {
     "name": "stdout",
     "output_type": "stream",
     "text": [
      "\t\tTotal time for config: 5.0604729652404785\n",
      "Instance 1965, T = 1.0, Proposal = MALA_MC, Acceptance = metropolis, Gap = 0.0000\n",
      "Warning: Gap is very small, may be inaccurate.\n",
      "Starting problem instance 1966 of 2000 with n = 8\n"
     ]
    },
    {
     "name": "stderr",
     "output_type": "stream",
     "text": [
      "100%|██████████| 1000/1000 [00:06<00:00, 150.70it/s]\n"
     ]
    },
    {
     "name": "stdout",
     "output_type": "stream",
     "text": [
      "\t\tTotal time for config: 6.647977113723755\n",
      "Instance 1966, T = 1.0, Proposal = MALA_MC, Acceptance = metropolis, Gap = 0.0000\n",
      "Warning: Gap is very small, may be inaccurate.\n",
      "Starting problem instance 1967 of 2000 with n = 9\n"
     ]
    },
    {
     "name": "stderr",
     "output_type": "stream",
     "text": [
      "100%|██████████| 1000/1000 [00:10<00:00, 94.38it/s]\n"
     ]
    },
    {
     "name": "stdout",
     "output_type": "stream",
     "text": [
      "\t\tTotal time for config: 10.595441341400146\n",
      "Instance 1967, T = 1.0, Proposal = MALA_MC, Acceptance = metropolis, Gap = 0.0000\n",
      "Warning: Gap is very small, may be inaccurate.\n",
      "Starting problem instance 1968 of 2000 with n = 10\n"
     ]
    },
    {
     "name": "stderr",
     "output_type": "stream",
     "text": [
      "100%|██████████| 1000/1000 [00:19<00:00, 50.68it/s]\n"
     ]
    },
    {
     "name": "stdout",
     "output_type": "stream",
     "text": [
      "\t\tTotal time for config: 19.735182523727417\n",
      "Instance 1968, T = 1.0, Proposal = MALA_MC, Acceptance = metropolis, Gap = 0.0000\n",
      "Warning: Gap is very small, may be inaccurate.\n",
      "Starting problem instance 1969 of 2000 with n = 3\n"
     ]
    },
    {
     "name": "stderr",
     "output_type": "stream",
     "text": [
      "100%|██████████| 1000/1000 [00:02<00:00, 421.72it/s]\n"
     ]
    },
    {
     "name": "stdout",
     "output_type": "stream",
     "text": [
      "\t\tTotal time for config: 2.3712668418884277\n",
      "Instance 1969, T = 1.0, Proposal = MALA_MC, Acceptance = metropolis, Gap = 0.9011\n",
      "Starting problem instance 1970 of 2000 with n = 4\n"
     ]
    },
    {
     "name": "stderr",
     "output_type": "stream",
     "text": [
      "100%|██████████| 1000/1000 [00:03<00:00, 327.81it/s]\n"
     ]
    },
    {
     "name": "stdout",
     "output_type": "stream",
     "text": [
      "\t\tTotal time for config: 3.060838222503662\n",
      "Instance 1970, T = 1.0, Proposal = MALA_MC, Acceptance = metropolis, Gap = 0.4757\n",
      "Starting problem instance 1971 of 2000 with n = 5\n"
     ]
    },
    {
     "name": "stderr",
     "output_type": "stream",
     "text": [
      "100%|██████████| 1000/1000 [00:03<00:00, 266.63it/s]\n"
     ]
    },
    {
     "name": "stdout",
     "output_type": "stream",
     "text": [
      "\t\tTotal time for config: 3.777062177658081\n",
      "Instance 1971, T = 1.0, Proposal = MALA_MC, Acceptance = metropolis, Gap = 0.5649\n",
      "Starting problem instance 1972 of 2000 with n = 6\n"
     ]
    },
    {
     "name": "stderr",
     "output_type": "stream",
     "text": [
      "100%|██████████| 1000/1000 [00:04<00:00, 224.71it/s]\n"
     ]
    },
    {
     "name": "stdout",
     "output_type": "stream",
     "text": [
      "\t\tTotal time for config: 4.456925868988037\n",
      "Instance 1972, T = 1.0, Proposal = MALA_MC, Acceptance = metropolis, Gap = 0.0045\n",
      "Starting problem instance 1973 of 2000 with n = 7\n"
     ]
    },
    {
     "name": "stderr",
     "output_type": "stream",
     "text": [
      "100%|██████████| 1000/1000 [00:05<00:00, 188.51it/s]\n"
     ]
    },
    {
     "name": "stdout",
     "output_type": "stream",
     "text": [
      "\t\tTotal time for config: 5.319708347320557\n",
      "Instance 1973, T = 1.0, Proposal = MALA_MC, Acceptance = metropolis, Gap = 0.0000\n",
      "Warning: Gap is very small, may be inaccurate.\n",
      "Starting problem instance 1974 of 2000 with n = 8\n"
     ]
    },
    {
     "name": "stderr",
     "output_type": "stream",
     "text": [
      "100%|██████████| 1000/1000 [00:07<00:00, 129.90it/s]\n"
     ]
    },
    {
     "name": "stdout",
     "output_type": "stream",
     "text": [
      "\t\tTotal time for config: 7.715890884399414\n",
      "Instance 1974, T = 1.0, Proposal = MALA_MC, Acceptance = metropolis, Gap = 0.0000\n",
      "Warning: Gap is very small, may be inaccurate.\n",
      "Starting problem instance 1975 of 2000 with n = 9\n"
     ]
    },
    {
     "name": "stderr",
     "output_type": "stream",
     "text": [
      "100%|██████████| 1000/1000 [00:10<00:00, 93.91it/s]\n"
     ]
    },
    {
     "name": "stdout",
     "output_type": "stream",
     "text": [
      "\t\tTotal time for config: 10.648314476013184\n",
      "Instance 1975, T = 1.0, Proposal = MALA_MC, Acceptance = metropolis, Gap = 0.0000\n",
      "Warning: Gap is very small, may be inaccurate.\n",
      "Starting problem instance 1976 of 2000 with n = 10\n"
     ]
    },
    {
     "name": "stderr",
     "output_type": "stream",
     "text": [
      "100%|██████████| 1000/1000 [00:18<00:00, 54.39it/s]\n"
     ]
    },
    {
     "name": "stdout",
     "output_type": "stream",
     "text": [
      "\t\tTotal time for config: 18.392507791519165\n",
      "Instance 1976, T = 1.0, Proposal = MALA_MC, Acceptance = metropolis, Gap = 0.0000\n",
      "Warning: Gap is very small, may be inaccurate.\n",
      "Starting problem instance 1977 of 2000 with n = 3\n"
     ]
    },
    {
     "name": "stderr",
     "output_type": "stream",
     "text": [
      "100%|██████████| 1000/1000 [00:02<00:00, 451.62it/s]\n"
     ]
    },
    {
     "name": "stdout",
     "output_type": "stream",
     "text": [
      "\t\tTotal time for config: 2.2185144424438477\n",
      "Instance 1977, T = 1.0, Proposal = MALA_MC, Acceptance = metropolis, Gap = 0.7533\n",
      "Starting problem instance 1978 of 2000 with n = 4\n"
     ]
    },
    {
     "name": "stderr",
     "output_type": "stream",
     "text": [
      "100%|██████████| 1000/1000 [00:02<00:00, 351.93it/s]\n"
     ]
    },
    {
     "name": "stdout",
     "output_type": "stream",
     "text": [
      "\t\tTotal time for config: 2.8499817848205566\n",
      "Instance 1978, T = 1.0, Proposal = MALA_MC, Acceptance = metropolis, Gap = 0.1665\n",
      "Starting problem instance 1979 of 2000 with n = 5\n"
     ]
    },
    {
     "name": "stderr",
     "output_type": "stream",
     "text": [
      "100%|██████████| 1000/1000 [00:03<00:00, 287.53it/s]\n"
     ]
    },
    {
     "name": "stdout",
     "output_type": "stream",
     "text": [
      "\t\tTotal time for config: 3.494126796722412\n",
      "Instance 1979, T = 1.0, Proposal = MALA_MC, Acceptance = metropolis, Gap = 0.3206\n",
      "Starting problem instance 1980 of 2000 with n = 6\n"
     ]
    },
    {
     "name": "stderr",
     "output_type": "stream",
     "text": [
      "100%|██████████| 1000/1000 [00:04<00:00, 241.37it/s]\n"
     ]
    },
    {
     "name": "stdout",
     "output_type": "stream",
     "text": [
      "\t\tTotal time for config: 4.151825189590454\n",
      "Instance 1980, T = 1.0, Proposal = MALA_MC, Acceptance = metropolis, Gap = 0.0000\n",
      "Warning: Gap is very small, may be inaccurate.\n",
      "Starting problem instance 1981 of 2000 with n = 7\n"
     ]
    },
    {
     "name": "stderr",
     "output_type": "stream",
     "text": [
      "100%|██████████| 1000/1000 [00:04<00:00, 207.05it/s]\n"
     ]
    },
    {
     "name": "stdout",
     "output_type": "stream",
     "text": [
      "\t\tTotal time for config: 4.829858064651489\n",
      "Instance 1981, T = 1.0, Proposal = MALA_MC, Acceptance = metropolis, Gap = 0.6350\n",
      "Starting problem instance 1982 of 2000 with n = 8\n"
     ]
    },
    {
     "name": "stderr",
     "output_type": "stream",
     "text": [
      "100%|██████████| 1000/1000 [00:06<00:00, 153.08it/s]\n"
     ]
    },
    {
     "name": "stdout",
     "output_type": "stream",
     "text": [
      "\t\tTotal time for config: 6.5437538623809814\n",
      "Instance 1982, T = 1.0, Proposal = MALA_MC, Acceptance = metropolis, Gap = 0.0000\n",
      "Warning: Gap is very small, may be inaccurate.\n",
      "Starting problem instance 1983 of 2000 with n = 9\n"
     ]
    },
    {
     "name": "stderr",
     "output_type": "stream",
     "text": [
      "100%|██████████| 1000/1000 [00:10<00:00, 97.26it/s]\n"
     ]
    },
    {
     "name": "stdout",
     "output_type": "stream",
     "text": [
      "\t\tTotal time for config: 10.285757541656494\n",
      "Instance 1983, T = 1.0, Proposal = MALA_MC, Acceptance = metropolis, Gap = 0.0000\n",
      "Warning: Gap is very small, may be inaccurate.\n",
      "Starting problem instance 1984 of 2000 with n = 10\n"
     ]
    },
    {
     "name": "stderr",
     "output_type": "stream",
     "text": [
      "100%|██████████| 1000/1000 [00:18<00:00, 53.31it/s]\n"
     ]
    },
    {
     "name": "stdout",
     "output_type": "stream",
     "text": [
      "\t\tTotal time for config: 18.762589931488037\n",
      "Instance 1984, T = 1.0, Proposal = MALA_MC, Acceptance = metropolis, Gap = 0.0000\n",
      "Warning: Gap is very small, may be inaccurate.\n",
      "Starting problem instance 1985 of 2000 with n = 3\n"
     ]
    },
    {
     "name": "stderr",
     "output_type": "stream",
     "text": [
      "100%|██████████| 1000/1000 [00:02<00:00, 468.07it/s]\n"
     ]
    },
    {
     "name": "stdout",
     "output_type": "stream",
     "text": [
      "\t\tTotal time for config: 2.1454579830169678\n",
      "Instance 1985, T = 1.0, Proposal = MALA_MC, Acceptance = metropolis, Gap = 0.3666\n",
      "Starting problem instance 1986 of 2000 with n = 4\n"
     ]
    },
    {
     "name": "stderr",
     "output_type": "stream",
     "text": [
      "100%|██████████| 1000/1000 [00:02<00:00, 342.95it/s]\n"
     ]
    },
    {
     "name": "stdout",
     "output_type": "stream",
     "text": [
      "\t\tTotal time for config: 2.932260751724243\n",
      "Instance 1986, T = 1.0, Proposal = MALA_MC, Acceptance = metropolis, Gap = 0.7483\n",
      "Starting problem instance 1987 of 2000 with n = 5\n"
     ]
    },
    {
     "name": "stderr",
     "output_type": "stream",
     "text": [
      "100%|██████████| 1000/1000 [00:03<00:00, 263.77it/s]\n"
     ]
    },
    {
     "name": "stdout",
     "output_type": "stream",
     "text": [
      "\t\tTotal time for config: 3.791206121444702\n",
      "Instance 1987, T = 1.0, Proposal = MALA_MC, Acceptance = metropolis, Gap = 0.8664\n",
      "Starting problem instance 1988 of 2000 with n = 6\n"
     ]
    },
    {
     "name": "stderr",
     "output_type": "stream",
     "text": [
      "100%|██████████| 1000/1000 [00:03<00:00, 251.06it/s]\n"
     ]
    },
    {
     "name": "stdout",
     "output_type": "stream",
     "text": [
      "\t\tTotal time for config: 3.989823579788208\n",
      "Instance 1988, T = 1.0, Proposal = MALA_MC, Acceptance = metropolis, Gap = 0.0007\n",
      "Starting problem instance 1989 of 2000 with n = 7\n"
     ]
    },
    {
     "name": "stderr",
     "output_type": "stream",
     "text": [
      "100%|██████████| 1000/1000 [00:05<00:00, 194.83it/s]\n"
     ]
    },
    {
     "name": "stdout",
     "output_type": "stream",
     "text": [
      "\t\tTotal time for config: 5.132748126983643\n",
      "Instance 1989, T = 1.0, Proposal = MALA_MC, Acceptance = metropolis, Gap = 0.0000\n",
      "Warning: Gap is very small, may be inaccurate.\n",
      "Starting problem instance 1990 of 2000 with n = 8\n"
     ]
    },
    {
     "name": "stderr",
     "output_type": "stream",
     "text": [
      "100%|██████████| 1000/1000 [00:06<00:00, 155.17it/s]\n"
     ]
    },
    {
     "name": "stdout",
     "output_type": "stream",
     "text": [
      "\t\tTotal time for config: 6.452463626861572\n",
      "Instance 1990, T = 1.0, Proposal = MALA_MC, Acceptance = metropolis, Gap = 0.0000\n",
      "Warning: Gap is very small, may be inaccurate.\n",
      "Starting problem instance 1991 of 2000 with n = 9\n"
     ]
    },
    {
     "name": "stderr",
     "output_type": "stream",
     "text": [
      "100%|██████████| 1000/1000 [00:10<00:00, 96.45it/s]\n"
     ]
    },
    {
     "name": "stdout",
     "output_type": "stream",
     "text": [
      "\t\tTotal time for config: 10.373173952102661\n",
      "Instance 1991, T = 1.0, Proposal = MALA_MC, Acceptance = metropolis, Gap = 0.0000\n",
      "Warning: Gap is very small, may be inaccurate.\n",
      "Starting problem instance 1992 of 2000 with n = 10\n"
     ]
    },
    {
     "name": "stderr",
     "output_type": "stream",
     "text": [
      "100%|██████████| 1000/1000 [00:18<00:00, 54.32it/s]\n"
     ]
    },
    {
     "name": "stdout",
     "output_type": "stream",
     "text": [
      "\t\tTotal time for config: 18.42203116416931\n",
      "Instance 1992, T = 1.0, Proposal = MALA_MC, Acceptance = metropolis, Gap = 0.0000\n",
      "Warning: Gap is very small, may be inaccurate.\n",
      "Starting problem instance 1993 of 2000 with n = 3\n"
     ]
    },
    {
     "name": "stderr",
     "output_type": "stream",
     "text": [
      "100%|██████████| 1000/1000 [00:02<00:00, 452.82it/s]\n"
     ]
    },
    {
     "name": "stdout",
     "output_type": "stream",
     "text": [
      "\t\tTotal time for config: 2.2111294269561768\n",
      "Instance 1993, T = 1.0, Proposal = MALA_MC, Acceptance = metropolis, Gap = 0.8042\n",
      "Starting problem instance 1994 of 2000 with n = 4\n"
     ]
    },
    {
     "name": "stderr",
     "output_type": "stream",
     "text": [
      "100%|██████████| 1000/1000 [00:02<00:00, 370.46it/s]\n"
     ]
    },
    {
     "name": "stdout",
     "output_type": "stream",
     "text": [
      "\t\tTotal time for config: 2.706590175628662\n",
      "Instance 1994, T = 1.0, Proposal = MALA_MC, Acceptance = metropolis, Gap = 0.8468\n",
      "Starting problem instance 1995 of 2000 with n = 5\n"
     ]
    },
    {
     "name": "stderr",
     "output_type": "stream",
     "text": [
      "100%|██████████| 1000/1000 [00:03<00:00, 298.75it/s]\n"
     ]
    },
    {
     "name": "stdout",
     "output_type": "stream",
     "text": [
      "\t\tTotal time for config: 3.3503031730651855\n",
      "Instance 1995, T = 1.0, Proposal = MALA_MC, Acceptance = metropolis, Gap = 0.0001\n",
      "Starting problem instance 1996 of 2000 with n = 6\n"
     ]
    },
    {
     "name": "stderr",
     "output_type": "stream",
     "text": [
      "100%|██████████| 1000/1000 [00:03<00:00, 252.24it/s]\n"
     ]
    },
    {
     "name": "stdout",
     "output_type": "stream",
     "text": [
      "\t\tTotal time for config: 3.971078634262085\n",
      "Instance 1996, T = 1.0, Proposal = MALA_MC, Acceptance = metropolis, Gap = 0.0000\n",
      "Warning: Gap is very small, may be inaccurate.\n",
      "Starting problem instance 1997 of 2000 with n = 7\n"
     ]
    },
    {
     "name": "stderr",
     "output_type": "stream",
     "text": [
      "100%|██████████| 1000/1000 [00:04<00:00, 213.49it/s]\n"
     ]
    },
    {
     "name": "stdout",
     "output_type": "stream",
     "text": [
      "\t\tTotal time for config: 4.69402813911438\n",
      "Instance 1997, T = 1.0, Proposal = MALA_MC, Acceptance = metropolis, Gap = 0.0000\n",
      "Warning: Gap is very small, may be inaccurate.\n",
      "Starting problem instance 1998 of 2000 with n = 8\n"
     ]
    },
    {
     "name": "stderr",
     "output_type": "stream",
     "text": [
      "100%|██████████| 1000/1000 [00:06<00:00, 157.95it/s]\n"
     ]
    },
    {
     "name": "stdout",
     "output_type": "stream",
     "text": [
      "\t\tTotal time for config: 6.330924987792969\n",
      "Instance 1998, T = 1.0, Proposal = MALA_MC, Acceptance = metropolis, Gap = 0.0000\n",
      "Starting problem instance 1999 of 2000 with n = 9\n"
     ]
    },
    {
     "name": "stderr",
     "output_type": "stream",
     "text": [
      "100%|██████████| 1000/1000 [00:09<00:00, 101.12it/s]\n"
     ]
    },
    {
     "name": "stdout",
     "output_type": "stream",
     "text": [
      "\t\tTotal time for config: 9.896101713180542\n",
      "Instance 1999, T = 1.0, Proposal = MALA_MC, Acceptance = metropolis, Gap = 0.0000\n",
      "Warning: Gap is very small, may be inaccurate.\n",
      "Starting problem instance 2000 of 2000 with n = 10\n"
     ]
    },
    {
     "name": "stderr",
     "output_type": "stream",
     "text": [
      "100%|██████████| 1000/1000 [00:18<00:00, 55.19it/s]\n"
     ]
    },
    {
     "name": "stdout",
     "output_type": "stream",
     "text": [
      "\t\tTotal time for config: 18.139246940612793\n",
      "Instance 2000, T = 1.0, Proposal = MALA_MC, Acceptance = metropolis, Gap = 0.0000\n",
      "Warning: Gap is very small, may be inaccurate.\n"
     ]
    }
   ],
   "source": [
    "\n",
    "from tqdm import tqdm\n",
    "instances = pd.read_pickle('instances_new.pkl')\n",
    "tot_instances = np.max(instances['Instance Number'].values)\n",
    "print(tot_instances)\n",
    "#tot_instances = 1\n",
    "# results = pd.DataFrame(columns = [\n",
    "#     'Instance Number',\n",
    "#     'Spins', \n",
    "#     'Temperature', \n",
    "#     'Connectivity',\n",
    "#     'Proposal',\n",
    "#     'Acceptance',\n",
    "#     'Gap',\n",
    "#     'Gap Lazy'\n",
    "#         ])\n",
    "T_logmesh = np.logspace(-3, 3, 50)\n",
    "T_round = np.sort( np.kron(np.array([1,5]), 10.**np.arange(-3,4)))\n",
    "T_lim = np.array([0, np.inf]) \n",
    "T_arr = np.unique( np.concatenate((T_logmesh, T_round, T_lim))) \n",
    "#T_arr = np.delete(T_arr, -2) \n",
    "T_arr = [1]\n",
    "delta_step = 0.2\n",
    "\n",
    "for instance_num in range(1, tot_instances+1):\n",
    "    cond  = (instances['Instance Number']==instance_num)\n",
    "    n            = instances[cond]['Spins'].values[0]\n",
    "    connectivity = instances[cond]['Connectivity'].values[0]\n",
    "    J            = instances[cond]['J'].values[0]\n",
    "    h            = instances[cond]['h'].values[0]\n",
    "\n",
    "    print('Starting problem instance', instance_num, 'of', tot_instances, 'with n =', n)\n",
    "\n",
    "    problem_inst = ProblemInstance(J, h)\n",
    "    J_Q = problem_inst.J_quantum\n",
    "    if np.linalg.norm(J_Q - J_Q.T) > 1e-8:\n",
    "        #print(\"Warning: J_Q is not symmetric, correcting...\")\n",
    "        problem_inst.J_quantum = (problem_inst.J_quantum + problem_inst.J_quantum.T)  # Ensure symmetry\n",
    "\n",
    "    problem_inst.T = 1.0\n",
    "\n",
    "    proposal_mats = {}\n",
    "\n",
    "    T = 1.0\n",
    "    prop_type = \"MALA_MC\"\n",
    "    accept_type = 'metropolis'\n",
    "\n",
    "\n",
    "    #transition_mat = adaptive_MALA_T_matrix(problem_inst, alpha=3.0, epsilon=0.2, num_samples=1000)\n",
    "    transition_mat = adaptive_MALA_T_matrix_vec(problem_inst, alpha=3.0, epsilon=0.2, num_samples=1000)\n",
    "\n",
    "    gap, _ = abs_spectral_gap(transition_mat)\n",
    "\n",
    "    results_datum = {\n",
    "        'Instance Number': instance_num,\n",
    "        'Spins': n, \n",
    "        'Temperature': T, \n",
    "        'Connectivity': connectivity,\n",
    "        'Proposal': prop_type,\n",
    "        'Acceptance': accept_type,\n",
    "        'Gap': gap,\n",
    "        \"delta_time_step_Trotter\": delta_step\n",
    "    }\n",
    "\n",
    "    print(\"Instance {}, T = {}, Proposal = {}, Acceptance = {}, Gap = {:.4f}\".format(\n",
    "        instance_num, T, prop_type, accept_type, gap))\n",
    "    \n",
    "    if gap < 1e-6:\n",
    "        print(\"Warning: Gap is very small, may be inaccurate.\")\n",
    "        # plt.imshow(transition_mat, cmap='hot', interpolation='nearest')\n",
    "        # plt.colorbar()\n",
    "        # plt.show()\n",
    "        # break\n",
    "\n",
    "    #results = pd.concat([results,pd.DataFrame([results_datum])], ignore_index=True)\n",
    "\n",
    "    results_row = pd.DataFrame([results_datum])\n",
    "    results_row.to_csv('results_MALA.csv', mode='a', header=not os.path.exists('results_MALA.csv'), index=False)\n"
   ]
  },
  {
   "cell_type": "code",
   "execution_count": null,
   "id": "da14880a",
   "metadata": {},
   "outputs": [],
   "source": []
  },
  {
   "cell_type": "code",
   "execution_count": null,
   "id": "e050cfc0",
   "metadata": {},
   "outputs": [],
   "source": []
  },
  {
   "cell_type": "code",
   "execution_count": null,
   "id": "111ad986",
   "metadata": {},
   "outputs": [],
   "source": []
  },
  {
   "cell_type": "code",
   "execution_count": null,
   "id": "1138dc6a",
   "metadata": {},
   "outputs": [],
   "source": []
  },
  {
   "cell_type": "code",
   "execution_count": 7,
   "id": "1d0e8cd8",
   "metadata": {},
   "outputs": [
    {
     "name": "stdout",
     "output_type": "stream",
     "text": [
      "Batch gradient test passed.\n",
      "Batch logpdf test passed.\n",
      "Spin to index mapping test passed.\n"
     ]
    },
    {
     "ename": "AssertionError",
     "evalue": "MALA step x mismatch for seed 11 (max diff 1.6065971449874539e-06)",
     "output_type": "error",
     "traceback": [
      "\u001b[1;31m---------------------------------------------------------------------------\u001b[0m",
      "\u001b[1;31mAssertionError\u001b[0m                            Traceback (most recent call last)",
      "Cell \u001b[1;32mIn[7], line 137\u001b[0m\n\u001b[0;32m    134\u001b[0m     test_mala_step_equivalence_B1()\n\u001b[0;32m    135\u001b[0m     \u001b[38;5;28mprint\u001b[39m(\u001b[38;5;124m\"\u001b[39m\u001b[38;5;124m✅ All tests passed!\u001b[39m\u001b[38;5;124m\"\u001b[39m)\n\u001b[1;32m--> 137\u001b[0m \u001b[43mrun_all\u001b[49m\u001b[43m(\u001b[49m\u001b[43m)\u001b[49m\n",
      "Cell \u001b[1;32mIn[7], line 134\u001b[0m, in \u001b[0;36mrun_all\u001b[1;34m()\u001b[0m\n\u001b[0;32m    132\u001b[0m test_logpdf_agrees()\n\u001b[0;32m    133\u001b[0m test_spin_index_mapping()\n\u001b[1;32m--> 134\u001b[0m \u001b[43mtest_mala_step_equivalence_B1\u001b[49m\u001b[43m(\u001b[49m\u001b[43m)\u001b[49m\n\u001b[0;32m    135\u001b[0m \u001b[38;5;28mprint\u001b[39m(\u001b[38;5;124m\"\u001b[39m\u001b[38;5;124m✅ All tests passed!\u001b[39m\u001b[38;5;124m\"\u001b[39m)\n",
      "Cell \u001b[1;32mIn[7], line 125\u001b[0m, in \u001b[0;36mtest_mala_step_equivalence_B1\u001b[1;34m()\u001b[0m\n\u001b[0;32m    122\u001b[0m x2, v2 \u001b[38;5;241m=\u001b[39m X2[\u001b[38;5;241m0\u001b[39m], V2[\u001b[38;5;241m0\u001b[39m]\n\u001b[0;32m    124\u001b[0m \u001b[38;5;28;01mif\u001b[39;00m \u001b[38;5;129;01mnot\u001b[39;00m np\u001b[38;5;241m.\u001b[39mallclose(x1, x2, atol\u001b[38;5;241m=\u001b[39m\u001b[38;5;241m1e-12\u001b[39m, rtol\u001b[38;5;241m=\u001b[39m\u001b[38;5;241m0\u001b[39m):\n\u001b[1;32m--> 125\u001b[0m     \u001b[38;5;28;01mraise\u001b[39;00m \u001b[38;5;167;01mAssertionError\u001b[39;00m(\u001b[38;5;124mf\u001b[39m\u001b[38;5;124m\"\u001b[39m\u001b[38;5;124mMALA step x mismatch for seed \u001b[39m\u001b[38;5;132;01m{\u001b[39;00ms\u001b[38;5;132;01m}\u001b[39;00m\u001b[38;5;124m (max diff \u001b[39m\u001b[38;5;132;01m{\u001b[39;00mnp\u001b[38;5;241m.\u001b[39mmax(np\u001b[38;5;241m.\u001b[39mabs(x1\u001b[38;5;241m-\u001b[39mx2))\u001b[38;5;132;01m}\u001b[39;00m\u001b[38;5;124m)\u001b[39m\u001b[38;5;124m\"\u001b[39m)\n\u001b[0;32m    126\u001b[0m \u001b[38;5;28;01mif\u001b[39;00m \u001b[38;5;129;01mnot\u001b[39;00m np\u001b[38;5;241m.\u001b[39marray_equal(v1, v2):\n\u001b[0;32m    127\u001b[0m     \u001b[38;5;28;01mraise\u001b[39;00m \u001b[38;5;167;01mAssertionError\u001b[39;00m(\u001b[38;5;124mf\u001b[39m\u001b[38;5;124m\"\u001b[39m\u001b[38;5;124mMALA step v mismatch for seed \u001b[39m\u001b[38;5;132;01m{\u001b[39;00ms\u001b[38;5;132;01m}\u001b[39;00m\u001b[38;5;124m\"\u001b[39m)\n",
      "\u001b[1;31mAssertionError\u001b[0m: MALA step x mismatch for seed 11 (max diff 1.6065971449874539e-06)"
     ]
    }
   ],
   "source": [
    "class ProblemInst:\n",
    "    n: int\n",
    "    T: float                     # inverse temperature (as used in your code)\n",
    "    J_quantum: np.ndarray        # shape (n, n), symmetric\n",
    "    h_quantum: np.ndarray        # shape (n,)\n",
    "    E_arr: np.ndarray            # length 2^n\n",
    "\n",
    "# def build_problem(n: int, seed: int = 0) -> ProblemInst:\n",
    "#     rng = np.random.default_rng(seed)\n",
    "#     # Symmetric J with small entries:\n",
    "#     A = rng.normal(0, 0.2, size=(n, n))\n",
    "#     J = 0.5 * (A + A.T)\n",
    "#     h = rng.normal(0, 0.2, size=n)\n",
    "\n",
    "#     V = all_configs(n)  # (2^n, n) in {-1,+1}\n",
    "#     # Classical Ising energy (sign convention chosen to be consistent)\n",
    "#     # E(v) = - v^T J v - h^T v\n",
    "#     E = np.einsum('bi,ij,bj->b', V, -J, V) - V @ h\n",
    "\n",
    "#     return ProblemInst(n=n, T=1.0, J_quantum=J, h_quantum=h, E_arr=E.astype(float))\n",
    "\n",
    "\n",
    "def assert_allclose(a, b, tol=1e-10, msg=\"\"):\n",
    "    if not np.allclose(a, b, atol=tol, rtol=0):\n",
    "        raise AssertionError(msg or f\"Arrays differ. Max abs diff: {np.max(np.abs(a-b))}\")\n",
    "\n",
    "def test_grad_agrees():\n",
    "    prob = problem_inst #build_problem(n, seed=1)\n",
    "    n = prob.n\n",
    "    x = np.linspace(-1.0, 1.0, n)\n",
    "    \n",
    "    alpha = 3.0\n",
    "    g1 = grad_U_mala(x, prob.J_quantum, prob.h_quantum, alpha)\n",
    "    g2 = grad_U_mala_batch(x[None, :], prob.J_quantum, prob.h_quantum, alpha)[0]\n",
    "    assert_allclose(g1, g2, 1e-12, \"grad_U_mala vs grad_U_mala_batch disagree (B=1)\")\n",
    "\n",
    "    # Also check a real batch\n",
    "    X = np.vstack([x, -x, 0.3 * x])\n",
    "    G = grad_U_mala_batch(X, prob.J_quantum, prob.h_quantum, alpha)\n",
    "    # spot check row 0 equals g1\n",
    "    assert_allclose(G[0], g1, 1e-12, \"Batch gradient first row mismatch\")\n",
    "    print(\"Batch gradient test passed.\")\n",
    "\n",
    "def test_logpdf_agrees():\n",
    "    n = 4\n",
    "    rng = np.random.default_rng(2)\n",
    "    y = rng.normal(size=n)\n",
    "    mean = rng.normal(size=n)\n",
    "    # SPD cov and its cholesky P\n",
    "    A = rng.normal(size=(n, n))\n",
    "    cov = A @ A.T + 0.1 * np.eye(n)\n",
    "    P = np.linalg.cholesky(cov)\n",
    "    eps = 0.7\n",
    "\n",
    "    lp1 = normal_dist_logpdf(y, mean, P, eps)\n",
    "    lp2 = normal_dist_logpdf_batch(y[None, :], mean[None, :], P, eps)[0]\n",
    "    assert_allclose(lp1, lp2, 1e-12, \"normal_dist_logpdf vs batch disagree (B=1)\")\n",
    "\n",
    "    # multi-B should equal element-wise\n",
    "    Y = np.vstack([y, y + 0.2, y - 0.1])\n",
    "    M = np.vstack([mean, mean + 0.1, mean - 0.2])\n",
    "    lpB = normal_dist_logpdf_batch(Y, M, P, eps)\n",
    "    for i in range(3):\n",
    "        lpi = normal_dist_logpdf(Y[i], M[i], P, eps)\n",
    "        assert_allclose(lpB[i], lpi, 1e-12, f\"logpdf row {i} mismatch\")\n",
    "    print(\"Batch logpdf test passed.\")\n",
    "\n",
    "def test_spin_index_mapping():\n",
    "    for n in range(1, 6):\n",
    "        V = all_configs(n)\n",
    "        idx_batch = spins_to_index(V)\n",
    "        idx_scalar = np.array([spinconf2int(v) for v in V])\n",
    "        if not np.array_equal(idx_batch, idx_scalar):\n",
    "            raise AssertionError(f\"spins_to_index disagrees with spinconf2int for n={n}\")\n",
    "    print(\"Spin to index mapping test passed.\") \n",
    "\n",
    "class RNGPatch:\n",
    "    \"\"\"Context manager to patch np.random.multivariate_normal to use randn, so\n",
    "    both single-step and batched-step draw from the SAME primitive RNG calls.\n",
    "    This allows exact equality tests for B=1 when seeding identically.\n",
    "    \"\"\"\n",
    "    def __enter__(self):\n",
    "        self._orig_mvn = np.random.multivariate_normal\n",
    "        def mvn(mean=None, cov=None, size=None, check_valid=None, tol=None):\n",
    "            mean = np.asarray(mean)\n",
    "            n = mean.size\n",
    "            if size is None:\n",
    "                z = np.random.randn(n)\n",
    "                P = np.linalg.cholesky(cov)  # cov is eps^2 P P^T in the call sites\n",
    "                return mean + z @ P.T\n",
    "            else:\n",
    "                if size != 1:\n",
    "                    raise NotImplementedError(\"This test patch only supports size=1 for the single-step function.\")\n",
    "                z = np.random.randn(n)\n",
    "                P = np.linalg.cholesky(cov)\n",
    "                return np.array([mean + z @ P.T])\n",
    "        np.random.multivariate_normal = mvn\n",
    "        return self\n",
    "    def __exit__(self, exc_type, exc, tb):\n",
    "        np.random.multivariate_normal = self._orig_mvn\n",
    "\n",
    "def test_mala_step_equivalence_B1():\n",
    "    prob = problem_inst #build_problem(n, seed=3)\n",
    "    n = prob.n\n",
    "    alpha = 3.0\n",
    "    eps = 0.3\n",
    "\n",
    "    rng = np.random.default_rng(123)\n",
    "    x0 = rng.normal(size=n)\n",
    "    cov = np.eye(n)\n",
    "    cov_jit = cov + 1e-5 * np.eye(n)  # to mirror single-step jitter inside adaptive_MALA_step_new\n",
    "    P = np.linalg.cholesky(cov)\n",
    "\n",
    "    seeds = [7, 11, 19, 23, 29]\n",
    "    with RNGPatch():\n",
    "        for s in seeds:\n",
    "            np.random.seed(s)\n",
    "            x1, v1 = adaptive_MALA_step_new(x0.copy(), P, cov.copy(), eps, prob, alpha=alpha)\n",
    "\n",
    "            np.random.seed(s)\n",
    "            X2, V2 = adaptive_MALA_step_new_batch(x0[None, :].copy(), P, cov_jit.copy(), eps, prob, alpha=alpha)\n",
    "            x2, v2 = X2[0], V2[0]\n",
    "\n",
    "            if not np.allclose(x1, x2, atol=1e-12, rtol=0):\n",
    "                raise AssertionError(f\"MALA step x mismatch for seed {s} (max diff {np.max(np.abs(x1-x2))})\")\n",
    "            if not np.array_equal(v1, v2):\n",
    "                raise AssertionError(f\"MALA step v mismatch for seed {s}\")\n",
    "    print(\"Batched MALA step matches single-step for B=1.\")\n",
    "\n",
    "def run_all():\n",
    "    test_grad_agrees()\n",
    "    test_logpdf_agrees()\n",
    "    test_spin_index_mapping()\n",
    "    test_mala_step_equivalence_B1()\n",
    "    print(\"✅ All tests passed!\")\n",
    "\n",
    "run_all()"
   ]
  },
  {
   "cell_type": "code",
   "execution_count": null,
   "id": "23bb751c",
   "metadata": {},
   "outputs": [],
   "source": []
  }
 ],
 "metadata": {
  "kernelspec": {
   "display_name": "Python 3",
   "language": "python",
   "name": "python3"
  },
  "language_info": {
   "codemirror_mode": {
    "name": "ipython",
    "version": 3
   },
   "file_extension": ".py",
   "mimetype": "text/x-python",
   "name": "python",
   "nbconvert_exporter": "python",
   "pygments_lexer": "ipython3",
   "version": "3.11.9"
  }
 },
 "nbformat": 4,
 "nbformat_minor": 5
}
