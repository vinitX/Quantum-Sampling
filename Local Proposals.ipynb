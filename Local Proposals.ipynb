{
 "cells": [
  {
   "cell_type": "markdown",
   "id": "2fcb98ba",
   "metadata": {},
   "source": [
    "Here we study various global local update proposals to Markov Chain Monte Carlo. \n",
    "1. Local Update\n",
    "2. Uniform Update\n",
    "3. Exchange Update\n",
    "4. Hamiltonian Update\n",
    "5. Tempering\n",
    "\n",
    "First we compute the proposal matrix. \n",
    "Then we compute the transition matrix.\n",
    "Then we find the eigenvalues of the transition matrix\n",
    "And we compare the spectral gaps for varying system sizes and temperature. "
   ]
  },
  {
   "cell_type": "code",
   "execution_count": 55,
   "id": "703cbe76",
   "metadata": {},
   "outputs": [],
   "source": [
    "import numpy as np\n",
    "import math\n",
    "import scipy\n",
    "import matplotlib.pyplot as plt"
   ]
  },
  {
   "cell_type": "code",
   "execution_count": 19,
   "id": "0b13af82",
   "metadata": {},
   "outputs": [],
   "source": [
    "def spin_x(n, qubit_index):\n",
    "  X = np.array([[0, 1], [1, 0]])\n",
    "  I = np.eye(2)\n",
    "  ops = [I] * n\n",
    "  ops[qubit_index] = X\n",
    "  result = ops[0]\n",
    "  for op in ops[1:]:\n",
    "    result = np.kron(result, op)\n",
    "  return result"
   ]
  },
  {
   "cell_type": "code",
   "execution_count": null,
   "id": "83ef4024",
   "metadata": {},
   "outputs": [],
   "source": []
  },
  {
   "cell_type": "code",
   "execution_count": 43,
   "id": "6ecaedc0",
   "metadata": {},
   "outputs": [],
   "source": [
    "def get_int_to_spinconfig(number:int, n:int):\n",
    "    # Let i be the input for number entry above. This number is between 0 to 2^(n)-1 where n is the positive integer power deciding the number of slots in the binary rep of i\n",
    "    # The output of this function will be [1,-1]^n which will be achieved by converting i to binary first and replacing every 0 bit with -1\n",
    "    #Thus if i=0 === [-1,-1,-1....-1_n]\n",
    "    #        i=1 === [-1,-1,-1....1_n]   # least sig bit flipped to 1\n",
    "    #      i=2^n -1 == [1,1,1....1_n]    # all bits flipped\n",
    "    if number < 0 or number > (2**n-1):\n",
    "        raise ValueError('number out of range')\n",
    "\n",
    "    bin_list = list( np.binary_repr(number,n))\n",
    "    return np.array([-1 if bit=='0' else 1 for bit in bin_list])\n",
    "\n",
    "\n",
    "def get_spinconfig_to_int(spinconfig:np.ndarray):\n",
    "    #The inverse of int_to_spinconfig. Example: if spinconfig is int(np.array([-1,-1,1])) then output is 1. Given a config it first\n",
    "    # undo the array as -1 is changed to 0 and 1 is left alone.\n",
    "    bit_string = ''.join(['0' if spin==-1 else '1' for spin in spinconfig])\n",
    "\n",
    "    return int(bit_string, 2)  #the base is binary hence 2\n"
   ]
  },
  {
   "cell_type": "code",
   "execution_count": null,
   "id": "e12599ef",
   "metadata": {},
   "outputs": [],
   "source": [
    "def get_uniform_proposal_matrix(no_spins):\n",
    "    Proposal_mat = np.multiply(1.0/2**no_spins, np.ones((2**no_spins, 2**no_spins)))\n",
    "    return Proposal_mat\n",
    "\n",
    "def get_local_proposal_matrix(no_spins):\n",
    "    Sum_Pauli_x = 0\n",
    "    for qubit_index in range(no_spins):\n",
    "        Sum_Pauli_x += spin_x(no_spins, qubit_index)\n",
    "    Proposal_mat = Sum_Pauli_x / no_spins\n",
    "    return Proposal_mat\n"
   ]
  },
  {
   "cell_type": "code",
   "execution_count": 45,
   "id": "a478278b",
   "metadata": {},
   "outputs": [],
   "source": [
    "def get_transition_matrix_from_proposal(N, Proposal_mat, Energy, acceptance_criteria='metropolis', beta=1):\n",
    "    # This function gets the full transition matrix P(s'|s) = Q(s'|s) * Acceptance(s'|s) where Q(s'|s)\n",
    "    #can be a quantum circuit proposal, a local flip proposal, uniform proposal or Haar random proposal\n",
    "    import math\n",
    "    \n",
    "    E_rowstack = np.tile(Energy, (2**N,1))  # E_rowstack[i,j] = E_j for all i\n",
    "    E_diff = E_rowstack.T - E_rowstack # E_diff[i,j] = E_i - E_j (new E minus old E)\n",
    "    \n",
    "    downhill_moves = (E_diff <= 0) \n",
    "    \n",
    "    if acceptance_criteria =='metropolis':\n",
    "        if beta > 0:\n",
    "            A_s_sp = np.exp(E_diff*beta, where=downhill_moves, out=np.ones_like(E_diff)) #only compute exp for uphill moves, downhill ones are filled with 1 anyway\n",
    "        if beta == math.inf:\n",
    "        # reject all downhill, accept all others \n",
    "            A_s_sp = np.where(downhill_moves, 0.0, 1.)\n",
    "\n",
    "    Transition_mat = np.multiply(A_s_sp, Proposal_mat)  #note not np.dot but elem wise multiplication\n",
    "\n",
    "    np.fill_diagonal(Transition_mat, 0)\n",
    "    diag = np.ones(2**N) - np.sum(Transition_mat, axis=0) # This step just fills the diag elems with 1-row_sum. This ensures that row_sum=1 for Transition mat\n",
    "    Transition_mat = Transition_mat + np.diag(diag)\n",
    "    return Transition_mat\n"
   ]
  },
  {
   "cell_type": "code",
   "execution_count": 46,
   "id": "6db464fc",
   "metadata": {},
   "outputs": [],
   "source": [
    "def get_abs_spectral_gap_from_transition_mat(Transition_mat):\n",
    "    #Returns the absolute spectral gap of transition_mat\n",
    "    dist = np.sort(1-np.abs(scipy.linalg.eigvals(Transition_mat)))\n",
    "    delta = np.min(dist[1:])\n",
    "\n",
    "    return delta\n",
    "\n",
    "def get_hamming_dist(spinconfig1:np.ndarray,spinconfig2:np.ndarray):\n",
    "    #config1 and config2 will have to have same number of slots n\n",
    "    #Computes the Hamming distance between the binary representations of configs given . They are first converted to integers\n",
    "    int1 = get_spinconfig_to_int(spinconfig1)\n",
    "    int2 = get_spinconfig_to_int(spinconfig2)\n",
    "    diff_int = np.bitwise_xor(int1, int2)\n",
    "    diff_bin = [int(bit) for bit in np.binary_repr(diff_int)]\n",
    "    return np.sum(diff_bin)"
   ]
  },
  {
   "cell_type": "code",
   "execution_count": 47,
   "id": "32544da3",
   "metadata": {},
   "outputs": [
    {
     "data": {
      "text/plain": [
       "array([-1.24961679, -2.58946083, -1.01872854, -1.30886426, -1.47236796,\n",
       "       -3.05529743, -1.25190468, -1.78512584])"
      ]
     },
     "execution_count": 47,
     "metadata": {},
     "output_type": "execute_result"
    }
   ],
   "source": [
    "def TFIM_Energy_vec(J, h):\n",
    "    \"\"\"\n",
    "    Compute the energy vector for the classical Ising Hamiltonian with transverse field along Z:\n",
    "    \n",
    "    E(s) = -sum_{i<j} J[i,j] * s_i * s_j - sum_i h[i] * s_i\n",
    "    where s_i in {±1} are eigenvalues of sigma^z\n",
    "\n",
    "    Parameters:\n",
    "        J: (n, n) symmetric numpy array for ZZ couplings\n",
    "        h: (n,) numpy array for local fields in the Z direction\n",
    "    \n",
    "    Returns:\n",
    "        energies: numpy array of shape (2^n,) with energy of each bitstring in z-basis\n",
    "    \"\"\"\n",
    "    n = len(h)\n",
    "    assert J.shape == (n, n), \"J must be square matrix with shape (n, n)\"\n",
    "    energies = []\n",
    "\n",
    "    for idx in range(2**n):\n",
    "        bits = np.array(list(np.binary_repr(idx, width=n))).astype(int)\n",
    "        spins = 1 - 2 * bits  # Convert {0,1} -> {+1,-1}\n",
    "\n",
    "        zz_term = -np.sum(J * np.outer(spins, spins)) / 2\n",
    "        hz_term = -np.dot(h, spins)\n",
    "\n",
    "        energy = zz_term + hz_term\n",
    "        energies.append(energy)\n",
    "\n",
    "    return np.array(energies)\n",
    "\n",
    "# Recompute energy with same J, h\n",
    "J = np.random.randn(3, 3)  # Example J matrix for 3 spins\n",
    "h = np.random.randn(3)  # Example h vector for 3 spins\n",
    "energy_vec_z_basis = TFIM_Energy_vec(J, h)\n",
    "energy_vec_z_basis\n"
   ]
  },
  {
   "cell_type": "code",
   "execution_count": 48,
   "id": "5a83d34a",
   "metadata": {},
   "outputs": [],
   "source": [
    "Local_proposal = get_local_proposal_matrix(3)\n",
    "Uniform_proposal = get_uniform_proposal_matrix(3)\n",
    "Energy = TFIM_Energy_vec(J, h)"
   ]
  },
  {
   "cell_type": "code",
   "execution_count": null,
   "id": "1276e185",
   "metadata": {},
   "outputs": [],
   "source": []
  },
  {
   "cell_type": "code",
   "execution_count": 52,
   "id": "3d7ab368",
   "metadata": {},
   "outputs": [],
   "source": [
    "Transition_mat = get_transition_matrix_from_proposal(3, Uniform_proposal, Energy, acceptance_criteria='metropolis', beta=1)"
   ]
  },
  {
   "cell_type": "code",
   "execution_count": 53,
   "id": "3ea2f9ee",
   "metadata": {},
   "outputs": [
    {
     "data": {
      "text/plain": [
       "array([[0.406, 0.125, 0.099, 0.125, 0.125, 0.125, 0.125, 0.125],\n",
       "       [0.033, 0.172, 0.026, 0.035, 0.041, 0.125, 0.033, 0.056],\n",
       "       [0.125, 0.125, 0.528, 0.125, 0.125, 0.125, 0.125, 0.125],\n",
       "       [0.118, 0.125, 0.094, 0.385, 0.125, 0.125, 0.118, 0.125],\n",
       "       [0.1  , 0.125, 0.079, 0.106, 0.342, 0.125, 0.1  , 0.125],\n",
       "       [0.021, 0.078, 0.016, 0.022, 0.026, 0.125, 0.021, 0.035],\n",
       "       [0.125, 0.125, 0.099, 0.125, 0.125, 0.125, 0.405, 0.125],\n",
       "       [0.073, 0.125, 0.058, 0.078, 0.091, 0.125, 0.073, 0.284]])"
      ]
     },
     "execution_count": 53,
     "metadata": {},
     "output_type": "execute_result"
    }
   ],
   "source": [
    "np.round(Transition_mat,3)"
   ]
  },
  {
   "cell_type": "code",
   "execution_count": 51,
   "id": "15b3be69",
   "metadata": {},
   "outputs": [
    {
     "data": {
      "text/plain": [
       "0.4156560057573845"
      ]
     },
     "execution_count": 51,
     "metadata": {},
     "output_type": "execute_result"
    }
   ],
   "source": [
    "get_abs_spectral_gap_from_transition_mat(Transition_mat)"
   ]
  },
  {
   "cell_type": "code",
   "execution_count": 63,
   "id": "51f8da29",
   "metadata": {},
   "outputs": [],
   "source": [
    "num_trials = 20"
   ]
  },
  {
   "cell_type": "code",
   "execution_count": null,
   "id": "de192bc2",
   "metadata": {},
   "outputs": [],
   "source": [
    "# Varying system size, beta fixed\n",
    "system_sizes = np.arange(2, 11)\n",
    "beta_fixed = 1\n",
    "gaps_local_N = []\n",
    "gaps_uniform_N = []\n",
    "std_local_N = []\n",
    "std_uniform_N = []\n",
    "\n",
    "for n in system_sizes:\n",
    "    Local_proposal = get_local_proposal_matrix(n)\n",
    "    Uniform_proposal = get_uniform_proposal_matrix(n)\n",
    "    \n",
    "    trial_local = []\n",
    "    trial_uniform = []\n",
    "    for _ in range(num_trials):\n",
    "        J = np.random.randn(n, n)\n",
    "        J = (J + J.T) / 2\n",
    "        h = np.random.randn(n)\n",
    "        Energy = TFIM_Energy_vec(J, h)\n",
    "        \n",
    "        T_local = get_transition_matrix_from_proposal(n, Local_proposal, Energy, beta=beta_fixed)\n",
    "        T_uniform = get_transition_matrix_from_proposal(n, Uniform_proposal, Energy, beta=beta_fixed)\n",
    "        trial_local.append(get_abs_spectral_gap_from_transition_mat(T_local))\n",
    "        trial_uniform.append(get_abs_spectral_gap_from_transition_mat(T_uniform))\n",
    "    gaps_local_N.append(np.mean(trial_local))\n",
    "    gaps_uniform_N.append(np.mean(trial_uniform))\n",
    "    std_local_N.append(np.std(trial_local))\n",
    "    std_uniform_N.append(np.std(trial_uniform))\n"
   ]
  },
  {
   "cell_type": "code",
   "execution_count": 65,
   "id": "b4229530",
   "metadata": {},
   "outputs": [
    {
     "data": {
      "image/png": "[encoded data removed]",
      "text/plain": [
       "<Figure size 800x500 with 1 Axes>"
      ]
     },
     "metadata": {},
     "output_type": "display_data"
    }
   ],
   "source": [
    "plt.figure(figsize=(8,5))\n",
    "plt.errorbar(system_sizes, gaps_local_N, yerr=std_local_N, label='Local Proposal', marker='o', capsize=4)\n",
    "plt.errorbar(system_sizes, gaps_uniform_N, yerr=std_uniform_N, label='Uniform Proposal', marker='x', capsize=4)\n",
    "plt.semilogy()\n",
    "plt.xlabel('System size (N)')\n",
    "plt.ylabel('Spectral gap')\n",
    "plt.title(f'Spectral gap vs System size (β={beta_fixed}), mean ± std over {num_trials} trials')\n",
    "plt.legend()\n",
    "plt.grid(True)\n",
    "plt.show()"
   ]
  },
  {
   "cell_type": "code",
   "execution_count": 82,
   "id": "80283b10",
   "metadata": {},
   "outputs": [],
   "source": [
    "# Varying beta, system size fixed\n",
    "N_fixed = 8\n",
    "betas = np.logspace(-1, 1, 10)\n",
    "gaps_local_beta = []\n",
    "gaps_uniform_beta = []\n",
    "std_local_beta = []\n",
    "std_uniform_beta = []\n",
    "\n",
    "Local_proposal = get_local_proposal_matrix(N_fixed)\n",
    "Uniform_proposal = get_uniform_proposal_matrix(N_fixed)\n",
    "\n",
    "for beta in betas:\n",
    "    trial_local = []\n",
    "    trial_uniform = []\n",
    "    for _ in range(num_trials):\n",
    "        J = np.random.randn(N_fixed, N_fixed)\n",
    "        J = (J + J.T) / 2\n",
    "        h = np.random.randn(N_fixed)\n",
    "        Energy = TFIM_Energy_vec(J, h)\n",
    "        T_local = get_transition_matrix_from_proposal(N_fixed, Local_proposal, Energy, beta=beta)\n",
    "        T_uniform = get_transition_matrix_from_proposal(N_fixed, Uniform_proposal, Energy, beta=beta)\n",
    "        trial_local.append(get_abs_spectral_gap_from_transition_mat(T_local))\n",
    "        trial_uniform.append(get_abs_spectral_gap_from_transition_mat(T_uniform))\n",
    "    gaps_local_beta.append(np.mean(trial_local))\n",
    "    gaps_uniform_beta.append(np.mean(trial_uniform))\n",
    "    std_local_beta.append(np.std(trial_local))\n",
    "    std_uniform_beta.append(np.std(trial_uniform))\n"
   ]
  }
 ],
 "metadata": {
  "kernelspec": {
   "display_name": "Python 3",
   "language": "python",
   "name": "python3"
  },
  "language_info": {
   "codemirror_mode": {
    "name": "ipython",
    "version": 3
   },
   "file_extension": ".py",
   "mimetype": "text/x-python",
   "name": "python",
   "nbconvert_exporter": "python",
   "pygments_lexer": "ipython3",
   "version": "3.11.9"
  }
 },
 "nbformat": 4,
 "nbformat_minor": 5
}
