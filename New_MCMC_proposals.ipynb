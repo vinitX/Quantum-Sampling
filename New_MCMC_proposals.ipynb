{
 "cells": [
  {
   "cell_type": "code",
   "execution_count": 1,
   "id": "Gpuedw-4zq11",
   "metadata": {
    "id": "Gpuedw-4zq11"
   },
   "outputs": [],
   "source": [
    "import numpy as np\n",
    "import scipy\n",
    "import itertools\n",
    "import time\n",
    "\n",
    "import matplotlib\n",
    "import matplotlib.pyplot as plt\n",
    "plt.rcParams.update({\"font.size\": 16})  # enlarge matplotlib fonts\n",
    "matplotlib.rcParams['mathtext.fontset'] ='stix'\n",
    "matplotlib.rcParams['font.family'] = 'STIXGeneral'\n",
    "plt.rcParams[\"font.weight\"] = \"bold\""
   ]
  },
  {
   "cell_type": "code",
   "execution_count": 2,
   "id": "b2896661-07ee-4c19-9a78-4c911294704c",
   "metadata": {
    "id": "b2896661-07ee-4c19-9a78-4c911294704c"
   },
   "outputs": [],
   "source": [
    "import cudaq\n",
    "from cudaq import spin\n",
    "from Sampling_Circuits import *\n",
    "from MCMC_Proposals import *\n",
    "from qiskit_circuits import *"
   ]
  },
  {
   "cell_type": "code",
   "execution_count": 44,
   "id": "ea1c379d",
   "metadata": {},
   "outputs": [],
   "source": [
    "N = 20\n",
    "k=4\n",
    "J = np.random.randn(N*N)\n",
    "l = np.random.randn(N)\n",
    "\n",
    "alpha = 0.5\n",
    "gamma = 1.0\n",
    "time_delta = 0.5\n",
    "\n",
    "angle_list = []\n",
    "for qubit in range(N):\n",
    "    coeff = -alpha*(1-gamma)*l[N-1-qubit]\n",
    "    one_body_Ham = gamma * spin.x(0) + coeff * spin.z(0)\n",
    "    angle_list.append(list(Euler_angle_decomposition(scipy.linalg.expm(-1.0j*time_delta*one_body_Ham.to_matrix()))))   # always 2*2 so no problem of exponentiation, storage\n",
    "\n",
    "theta = np.zeros(N)\n",
    "phi = np.zeros(N)\n",
    "lam = np.zeros(N)\n",
    "for qubit in range(N):\n",
    "    theta[qubit], phi[qubit], lam[qubit] = angle_list[qubit]\n"
   ]
  },
  {
   "cell_type": "code",
   "execution_count": 45,
   "id": "0aab8c76",
   "metadata": {},
   "outputs": [
    {
     "name": "stdout",
     "output_type": "stream",
     "text": [
      "2.3447368144989014\n"
     ]
    }
   ],
   "source": [
    "\n",
    "# tm = time.time()\n",
    "# for i in range(100):\n",
    "#     init_config = np.random.choice([1.0,-1.0], size=N)\n",
    "#     counts = cudaq.sample(Trotter_circuit, N, k, alpha, gamma, time_delta, theta, phi, lam, J, init_config, shots_count=1)\n",
    "# print(time.time()-tm)\n",
    "\n",
    "# tm = time.time()\n",
    "# for i in range(100):\n",
    "#     init_config = np.random.choice([1.0,-1.0], size=N)\n",
    "#     count_build = Trotter_circuit_builder(N, k, alpha, gamma, time_delta, theta, phi, lam, J, init_config, shots_count=1)\n",
    "# print(time.time()-tm)\n",
    "\n",
    "\n",
    "\n",
    "from qiskit_aer import AerSimulator  \n",
    "\n",
    "tm = time.time()\n",
    "for i in range(100):\n",
    "    init_config = np.random.choice([1.0,-1.0], size=N)\n",
    "    circuit = Trotter_circuit_qiskit(N, k, alpha, gamma, time_delta, theta, phi, lam, J.reshape((N,N)), init_config)\n",
    "    circuit.measure_all()\n",
    "\n",
    "    simulator = AerSimulator(method=\"matrix_product_state\")\n",
    "    simulator.set_options(matrix_product_state_max_bond_dimension=16)  \n",
    "\n",
    "    #simulator = AerSimulator(method='tensor_network', device='GPU')\n",
    "    #simulator = AerSimulator()\n",
    "\n",
    "    result = simulator.run(circuit, shots=1).result()\n",
    "    counts = result.get_counts(circuit)\n",
    "\n",
    "print(time.time()-tm)"
   ]
  },
  {
   "cell_type": "code",
   "execution_count": null,
   "id": "b0ca14b6",
   "metadata": {},
   "outputs": [],
   "source": []
  },
  {
   "cell_type": "code",
   "execution_count": null,
   "id": "23db4778",
   "metadata": {},
   "outputs": [],
   "source": []
  },
  {
   "cell_type": "code",
   "execution_count": 7,
   "id": "f0214df8",
   "metadata": {},
   "outputs": [
    {
     "ename": "NameError",
     "evalue": "name 'count_build' is not defined",
     "output_type": "error",
     "traceback": [
      "\u001b[0;31m---------------------------------------------------------------------------\u001b[0m",
      "\u001b[0;31mNameError\u001b[0m                                 Traceback (most recent call last)",
      "Cell \u001b[0;32mIn[7], line 17\u001b[0m\n\u001b[1;32m     14\u001b[0m bitstrings \u001b[38;5;241m=\u001b[39m []\n\u001b[1;32m     15\u001b[0m frequencies \u001b[38;5;241m=\u001b[39m []\n\u001b[0;32m---> 17\u001b[0m \u001b[38;5;28;01mfor\u001b[39;00m key, value \u001b[38;5;129;01min\u001b[39;00m \u001b[43mcount_build\u001b[49m\u001b[38;5;241m.\u001b[39mitems():  \u001b[38;5;66;03m# CUDA-Q result is an iterable\u001b[39;00m\n\u001b[1;32m     18\u001b[0m     bitstrings\u001b[38;5;241m.\u001b[39mappend(\u001b[38;5;28mint\u001b[39m(key,\u001b[38;5;241m2\u001b[39m))\n\u001b[1;32m     19\u001b[0m     frequencies\u001b[38;5;241m.\u001b[39mappend(value)\n",
      "\u001b[0;31mNameError\u001b[0m: name 'count_build' is not defined"
     ]
    },
    {
     "data": {
      "image/png": "[encoded data removed]",
      "text/plain": [
       "<Figure size 1000x500 with 1 Axes>"
      ]
     },
     "metadata": {},
     "output_type": "display_data"
    }
   ],
   "source": [
    "plt.figure(figsize=(10, 5))\n",
    "\n",
    "bitstrings = []\n",
    "frequencies = []\n",
    "\n",
    "for key, value in counts.items():  # CUDA-Q result is an iterable\n",
    "    bitstrings.append(int(key,2))\n",
    "    frequencies.append(value)\n",
    "\n",
    "plt.bar(bitstrings, frequencies, alpha=0.5)\n",
    "#plt.show()\n",
    "\n",
    "#plt.figure(figsize=(10, 5))\n",
    "bitstrings = []\n",
    "frequencies = []\n",
    "\n",
    "for key, value in count_build.items():  # CUDA-Q result is an iterable\n",
    "    bitstrings.append(int(key,2))\n",
    "    frequencies.append(value)\n",
    "\n",
    "plt.bar(bitstrings, frequencies,alpha=0.5)\n",
    "\n"
   ]
  },
  {
   "cell_type": "code",
   "execution_count": null,
   "id": "a5822d70",
   "metadata": {},
   "outputs": [],
   "source": [
    "# for key, value in counts.items():\n",
    "#     print(key,value)"
   ]
  },
  {
   "cell_type": "code",
   "execution_count": null,
   "id": "806e6277",
   "metadata": {},
   "outputs": [],
   "source": [
    "def get_operator(kernel):\n",
    "    num_qubits = 2\n",
    "    N = 2**num_qubits\n",
    "    U = np.zeros((N, N), dtype=np.complex128)\n",
    "    params = [1 ,2]\n",
    "\n",
    "    for j in range(N):\n",
    "        state_j    = np.zeros((N), dtype=np.complex128)\n",
    "        state_j[j] = 1.0\n",
    "        U[:, j] = np.array(cudaq.get_state(kernel, params, state_j), copy=False)\n",
    "    print(U)\n",
    "\n",
    "#get_operator()"
   ]
  },
  {
   "cell_type": "code",
   "execution_count": null,
   "id": "e17e3c03",
   "metadata": {},
   "outputs": [],
   "source": []
  },
  {
   "cell_type": "code",
   "execution_count": null,
   "id": "73127d77",
   "metadata": {},
   "outputs": [],
   "source": []
  },
  {
   "cell_type": "code",
   "execution_count": null,
   "id": "d2316774",
   "metadata": {},
   "outputs": [],
   "source": []
  },
  {
   "cell_type": "code",
   "execution_count": null,
   "id": "45e9def6",
   "metadata": {},
   "outputs": [],
   "source": [
    "n=no_spins=4\n",
    "seed=10\n",
    "np.random.seed(seed)\n",
    "inverse_temp=beta=1.0\n",
    "one_body_coeffs = np.random.rand(n)\n",
    "two_body_coeffs = np.random.rand(n**2)\n",
    "\n",
    "Proposal_object = All_proposals(inverse_temp=beta, one_body_coeffs=one_body_coeffs,\n",
    "                                two_body_coeffs = 0.5*two_body_coeffs + 0.5*np.reshape((np.reshape(two_body_coeffs, (n,n)).T), n**2))\n",
    "\n",
    "alpha = Proposal_object.computing_norm_ratio()\n",
    "#time_array, time_delta_step = self.scalar_time_sampling(sampling_type=\"discrete\")\n",
    "time_delta_step = 0.5\n",
    "#gamma_array, gamma_step = self.scalar_gamma_sampling(sampling_type=\"discrete\")\n",
    "gamma = 0.42\n",
    "time = 12\n",
    "    \n",
    "counts = cudaq.sample(Trotter_circuit, N, k, alpha, gamma, time_delta, theta, phi, lam, J, init_config, shots_count=1)"
   ]
  },
  {
   "cell_type": "code",
   "execution_count": null,
   "id": "966c973b-101a-47c9-ad29-1d39c6172d67",
   "metadata": {
    "colab": {
     "base_uri": "https://localhost:8080/"
    },
    "id": "966c973b-101a-47c9-ad29-1d39c6172d67",
    "outputId": "4202faa4-ad02-4357-c45e-664fdd5c9a6b"
   },
   "outputs": [
    {
     "name": "stdout",
     "output_type": "stream",
     "text": [
      "1.0709543791732428\n"
     ]
    },
    {
     "data": {
      "image/png": "[encoded data removed]",
      "text/plain": [
       "<Figure size 640x480 with 2 Axes>"
      ]
     },
     "metadata": {},
     "output_type": "display_data"
    },
    {
     "name": "stdout",
     "output_type": "stream",
     "text": [
      "abs spectral gap of quantum T matrix 0.13909005487381298\n"
     ]
    }
   ],
   "source": [
    "n=no_spins=4\n",
    "seed=10\n",
    "np.random.seed(seed)\n",
    "inverse_temp=beta=1.0\n",
    "one_body_coeffs = np.random.rand(n)\n",
    "two_body_coeffs = np.random.rand(n**2)\n",
    "\n",
    "Proposal_object = All_proposals(inverse_temp=beta, one_body_coeffs=one_body_coeffs,\n",
    "                                two_body_coeffs = 0.5*two_body_coeffs + 0.5*np.reshape((np.reshape(two_body_coeffs, (n,n)).T), n**2))\n",
    "\n",
    "#print(Proposal_object.model_instance_one_body, Proposal_object.model_instance_two_body)\n",
    "Proposal_object.get_energy_array().Energy_array\n",
    "\n",
    "alpha = Proposal_object.computing_norm_ratio()\n",
    "print(alpha)\n",
    "\n",
    "#print(Proposal_object.scalar_gamma_sampling(gamma_limits=(0.25,0.6), seed=10, sampling_type=\"continuous\"))\n",
    "#print(Proposal_object.scalar_gamma_sampling(gamma_limits=(0.25,0.6), seed=10, sampling_type=\"discrete\"))\n",
    "# print(Proposal_object.scalar_time_sampling(time_limits=(4,20), seed=10, time_delta=0.5, sampling_type=\"continuous\"))\n",
    "#print(Proposal_object.scalar_time_sampling(time_limits=(4,20), seed=10, time_delta=0.2, sampling_type=\"discrete\"))\n",
    "prop_exact = Proposal_object.get_quantum_circuit_proposal_matrix(mode=\"Exact-no Trotter error/no Sampling error\")\n",
    "#print(prop_exact)\n",
    "\n",
    "plt.imshow(np.real(prop_exact))\n",
    "plt.colorbar()\n",
    "plt.show()\n",
    "\n",
    "#prop_Trotter = Proposal_object.get_quantum_circuit_proposal_matrix(mode=\"Trotter error/no Sampling error\")\n",
    "#print(prop_Trotter)\n",
    "#print(\"norm diff between exact and Trotter\", np.linalg.norm(prop_exact - prop_Trotter))\n",
    "Transition_mat=Proposal_object.get_transition_matrix_from_proposal(prop_exact, acceptance_criteria='metropolis')\n",
    "print(\"abs spectral gap of quantum T matrix\",Proposal_object.get_abs_spectral_gap_from_transition_mat(Transition_mat))"
   ]
  },
  {
   "cell_type": "code",
   "execution_count": null,
   "id": "ca4f3da7-1922-49a7-87c0-f3cbb7246a01",
   "metadata": {
    "colab": {
     "base_uri": "https://localhost:8080/"
    },
    "id": "ca4f3da7-1922-49a7-87c0-f3cbb7246a01",
    "outputId": "c06015c9-ac71-4355-e6bb-866ea04069f1"
   },
   "outputs": [
    {
     "name": "stdout",
     "output_type": "stream",
     "text": [
      "[0.77132064 0.02075195 0.63364823 0.74880388] [[0.49850701 0.19695374 0.10100557 0.74114301]\n",
      " [0.19695374 0.08833981 0.59877604 0.62263471]\n",
      " [0.10100557 0.59877604 0.81262096 0.76515009]\n",
      " [0.74114301 0.62263471 0.76515009 0.71457578]]\n"
     ]
    },
    {
     "data": {
      "image/png": "[encoded data removed]",
      "text/plain": [
       "<Figure size 640x480 with 2 Axes>"
      ]
     },
     "metadata": {},
     "output_type": "display_data"
    },
    {
     "name": "stdout",
     "output_type": "stream",
     "text": [
      "1.0709543791732428\n",
      "E_array [ 5.99084519 -1.02725831  1.39841486  0.50151211  0.35889113 -1.67813471\n",
      "  0.55666912  4.64084404  3.37707719  2.28811781 -0.40730862  4.62493275\n",
      " -0.67924694  3.21287134  0.32657558 10.33989461]\n",
      "(0.7997720916201615, -1.5285178425412336, 1.6130748110485595)\n"
     ]
    }
   ],
   "source": [
    "n=no_spins=4\n",
    "seed=10\n",
    "np.random.seed(seed)\n",
    "inverse_temp=beta=1.0\n",
    "one_body_coeffs = np.random.rand(n)\n",
    "two_body_coeffs = np.random.rand(n**2)\n",
    "\n",
    "Proposal_object = All_proposals(inverse_temp=beta, one_body_coeffs=one_body_coeffs,\n",
    "                                two_body_coeffs = 0.5*two_body_coeffs + 0.5*np.reshape((np.reshape(two_body_coeffs, (n,n)).T), n**2))\n",
    "\n",
    "print(Proposal_object.model_instance_one_body, Proposal_object.model_instance_two_body)\n",
    "\n",
    "H = Proposal_object.Learner_Ham_maker_w_wo_mixer(gamma=0.1, alpha=5.0, type_of_Ham=\"with_mixer\").Learner_Ham_w_wo_mixer\n",
    "H = np.array(H.to_matrix())\n",
    "np.fill_diagonal(H, 0)\n",
    "\n",
    "plt.imshow(np.real(H))\n",
    "plt.colorbar()\n",
    "plt.show()\n",
    "\n",
    "alpha = Proposal_object.computing_norm_ratio()\n",
    "print(alpha)\n",
    "# print(Proposal_object.scalar_gamma_sampling(gamma_limits=(0.25,0.6), seed=10, sampling_type=\"continuous\"))\n",
    "# print(Proposal_object.scalar_gamma_sampling(gamma_limits=(0.25,0.6), seed=10, sampling_type=\"discrete\"))\n",
    "# print(Proposal_object.scalar_time_sampling(time_limits=(4,20), seed=10, time_delta=0.5, sampling_type=\"continuous\"))\n",
    "# print(Proposal_object.scalar_time_sampling(time_limits=(4,20), seed=10, time_delta=0.5, sampling_type=\"discrete\"))\n",
    "\n",
    "print(\"E_array\",Proposal_object.get_energy_array().Energy_array)\n",
    "\n",
    "mat = 0.5 * spin.x(0) + 0.05 * spin.z(0)\n",
    "mat = np.array(mat.to_matrix())\n",
    "print(Euler_angle_decomposition(scipy.linalg.expm(-1.0j*0.8*mat)))\n",
    "\n",
    "#circuit = Proposal_object.Trotter_circuit(Trotter_repeat_length=6, alpha=alpha, gamma=0.1, time_delta=0.8, initial_config=None)\n",
    "# circuit = QuantumCircuit(5, 1)\n",
    "# circuit = Proposal_object.two_qubit_gate(circuit, angle=0.1, qubit_1=2, qubit_2=4, mode=\"CNOT_decomposition\")\n",
    "#circuit.draw(\"mpl\")\n",
    "Local_prop=Proposal_object.get_local_proposal_matrix()\n",
    "#print(Proposal_object.get_quantum_circuit_proposal_matrix(mode=\"Exact-no Trotter error/no Sampling error\"))\n",
    "#print(Proposal_object.get_Haar_random_proposal_matrix())\n",
    "# print(Proposal_object.get_int_to_spinconfig(2,4))\n",
    "# print(Proposal_object.get_spinconfig_to_int([1,-1,1,-1]))\n",
    "# print(Proposal_object.get_hamming_dist([1,-1,1,-1], [1,-1,-1,-1]))\n",
    "# print(Proposal_object.get_transition_matrix_from_proposal(Local_prop, acceptance_criteria='metropolis'))"
   ]
  },
  {
   "cell_type": "code",
   "execution_count": null,
   "id": "d6946bce",
   "metadata": {},
   "outputs": [],
   "source": [
    "init_config = np.random.choice([1.0,-1.0], size=N)\n",
    "final_conf = Proposal_object.generate_MCMC_trajectories(init_config)"
   ]
  },
  {
   "cell_type": "code",
   "execution_count": null,
   "id": "83234594",
   "metadata": {},
   "outputs": [
    {
     "data": {
      "text/plain": [
       "array([-1., -1., -1.,  1.])"
      ]
     },
     "execution_count": 19,
     "metadata": {},
     "output_type": "execute_result"
    }
   ],
   "source": [
    "final_conf"
   ]
  },
  {
   "cell_type": "code",
   "execution_count": null,
   "id": "4662355f",
   "metadata": {},
   "outputs": [],
   "source": []
  }
 ],
 "metadata": {
  "colab": {
   "provenance": []
  },
  "kernelspec": {
   "display_name": "Python 3",
   "language": "python",
   "name": "python3"
  },
  "language_info": {
   "codemirror_mode": {
    "name": "ipython",
    "version": 3
   },
   "file_extension": ".py",
   "mimetype": "text/x-python",
   "name": "python",
   "nbconvert_exporter": "python",
   "pygments_lexer": "ipython3",
   "version": "3.10.12"
  }
 },
 "nbformat": 4,
 "nbformat_minor": 5
}
