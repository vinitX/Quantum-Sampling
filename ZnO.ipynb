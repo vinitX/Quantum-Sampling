{
 "cells": [
  {
   "cell_type": "code",
   "execution_count": 1,
   "id": "23385dfc",
   "metadata": {},
   "outputs": [],
   "source": [
    "from RBM_surrogate import *\n",
    "from Sampling_Quantum import *"
   ]
  },
  {
   "cell_type": "code",
   "execution_count": 2,
   "id": "a64abf70",
   "metadata": {},
   "outputs": [
    {
     "name": "stdout",
     "output_type": "stream",
     "text": [
      "[[-1.46643493e-01+0.06430189j -1.15523859e-01+0.05902916j\n",
      "  -4.30047557e-02-0.21085432j -8.41683593e-03-0.47771876j\n",
      "   3.92138377e-02-0.16898919j  9.81787935e-02-0.22688114j\n",
      "   2.16339617e-02+0.22344724j  5.44001957e-01+0.49537029j]\n",
      " [ 3.53956333e-02-0.00779165j -2.64293031e-01-0.09139169j\n",
      "  -7.85913365e-02-0.09526628j  5.49188930e-01-0.56825653j\n",
      "  -1.31846253e-02+0.05781169j -1.55335538e-01+0.04286186j\n",
      "  -4.53810636e-02-0.14449629j -8.41683593e-03-0.47771876j]\n",
      " [-2.05636671e-01-0.08610303j -2.80534582e-01-0.35263244j\n",
      "  -8.18251765e-02+0.0581995j  -1.55335538e-01+0.04286186j\n",
      "   2.34284013e-01-0.16170854j  7.23249683e-01+0.07723857j\n",
      "   7.92923480e-02-0.18359131j  9.81787935e-02-0.22688114j]\n",
      " [ 3.19834844e-01-0.24699789j -1.17438200e-01-0.70136936j\n",
      "   1.54785311e-01-0.06624057j -2.64293031e-01-0.09139169j\n",
      "  -1.48425759e-04-0.03975992j -2.80534582e-01-0.35263244j\n",
      "   1.88097387e-02+0.05121801j -1.15523859e-01+0.05902916j]\n",
      " [-1.20901274e-01-0.14716432j  1.88097387e-02+0.05121801j\n",
      "   8.75071591e-02+0.12554525j -4.53810636e-02-0.14449629j\n",
      "  -2.90345879e-01+0.49747157j  7.92923480e-02-0.18359131j\n",
      "   3.72819577e-01-0.59432975j  2.16339617e-02+0.22344724j]\n",
      " [-5.67225174e-01+0.00951674j  1.54785311e-01-0.06624057j\n",
      "   7.10220133e-01-0.11886192j -7.85913365e-02-0.09526628j\n",
      "  -1.39310232e-01-0.12964461j -8.18251765e-02+0.0581995j\n",
      "   8.75071591e-02+0.12554525j -4.30047557e-02-0.21085432j]\n",
      " [-1.50558385e-01-0.25082324j -1.48425759e-04-0.03975992j\n",
      "  -1.39310232e-01-0.12964461j -1.31846253e-02+0.05781169j\n",
      "  -2.69224291e-01+0.59809178j  2.34284013e-01-0.16170854j\n",
      "  -2.90345879e-01+0.49747157j  3.92138377e-02-0.16898919j]\n",
      " [-5.50498122e-01-0.11535687j  3.19834844e-01-0.24699789j\n",
      "  -5.67225174e-01+0.00951674j  3.53956333e-02-0.00779165j\n",
      "  -1.50558385e-01-0.25082324j -2.05636671e-01-0.08610303j\n",
      "  -1.20901274e-01-0.14716432j -1.46643493e-01+0.06430189j]]\n",
      "Burn Complete!\n",
      "Sampling Time:  0.0017113685607910156\n"
     ]
    }
   ],
   "source": [
    "N = 3\n",
    "M = 2\n",
    "sample_size = 100\n",
    "rbm = RBM_surrogate(N,M)\n",
    "rbm.build_surrogate()\n",
    "\n",
    "tm = time.time()\n",
    "prob_dist = Sampling_Quantum(N=N, poly=rbm.poly, sample_size=sample_size, burn=sample_size//10, compute_proposal_matrix=True, mode='Trotter')"
   ]
  },
  {
   "cell_type": "code",
   "execution_count": null,
   "id": "8f2d49ec",
   "metadata": {},
   "outputs": [],
   "source": []
  },
  {
   "cell_type": "code",
   "execution_count": null,
   "id": "abfe4e97",
   "metadata": {},
   "outputs": [],
   "source": [
    "import cudaq\n",
    "from cudaq import spin"
   ]
  },
  {
   "cell_type": "code",
   "execution_count": null,
   "id": "f0edc880",
   "metadata": {},
   "outputs": [],
   "source": [
    "from RBM_surrogate import *\n",
    "#from New_MCMC_Proposal import *\n",
    "from get_conn import get_conn\n",
    "#from Sampling import *\n",
    "from Sampling_Quantum import *"
   ]
  },
  {
   "cell_type": "code",
   "execution_count": null,
   "id": "5b20b27d",
   "metadata": {},
   "outputs": [],
   "source": [
    "import os\n",
    "import numpy as np\n",
    "#import netket as nk\n",
    "import scipy as sp\n",
    "import numpy.linalg as la\n",
    "import scipy.linalg as spla\n",
    "import time\n",
    "import matplotlib.pyplot as plt\n",
    "import json"
   ]
  },
  {
   "cell_type": "code",
   "execution_count": null,
   "id": "c427931c",
   "metadata": {},
   "outputs": [],
   "source": [
    "N=8\n",
    "M=8\n",
    "D=0\n",
    "beta=1"
   ]
  },
  {
   "cell_type": "code",
   "execution_count": null,
   "id": "5c0717e4",
   "metadata": {},
   "outputs": [],
   "source": [
    "def string_to_spin(str):\n",
    "    Op = 1\n",
    "    for i in range(len(str)):\n",
    "        if str[i]=='X': Op*=spin.x(i)\n",
    "        elif str[i]=='Y': Op*=spin.y(i)\n",
    "        elif str[i]=='Z': Op*=spin.z(i)\n",
    "        elif str[i]=='I': Op*=spin.i(i)\n",
    "    #print(str, Op)\n",
    "    return Op\n",
    "\n",
    "def string_to_ops(str):\n",
    "    Pauli_Ops = []\n",
    "    Coeffs = []\n",
    "    H = 0\n",
    "\n",
    "    for line in str.strip().split('\\n'):\n",
    "        coeff_str, pauli_op = line.split('] ')\n",
    "        coeff = complex(coeff_str.strip('['))  \n",
    "        Coeffs.append(coeff)\n",
    "        Pauli_Ops.append(pauli_op.strip())\n",
    "        H += coeff * string_to_spin(pauli_op)\n",
    "\n",
    "    #print(\"Pauli_Ops =\", Pauli_Ops)\n",
    "    #print(\"Coeffs =\", Coeffs)\n",
    "\n",
    "    return H, Pauli_Ops, Coeffs\n",
    "\n"
   ]
  },
  {
   "cell_type": "code",
   "execution_count": null,
   "id": "dbc7bd0a",
   "metadata": {},
   "outputs": [],
   "source": [
    "with open(\"ZnO.txt\", \"r\") as file:\n",
    "    Ham_str = file.read()\n",
    "\n",
    "Ham, _, _ = string_to_ops(Ham_str)"
   ]
  },
  {
   "cell_type": "code",
   "execution_count": null,
   "id": "7f502279",
   "metadata": {},
   "outputs": [
    {
     "name": "stdout",
     "output_type": "stream",
     "text": [
      "185\n"
     ]
    }
   ],
   "source": [
    "print(Ham.get_term_count())"
   ]
  },
  {
   "cell_type": "code",
   "execution_count": null,
   "id": "639d05e0",
   "metadata": {},
   "outputs": [],
   "source": [
    "# Adam optimizer hyperparameters\n",
    "learning_rate = 0.01\n",
    "beta1 = 0.9\n",
    "beta2 = 0.999\n",
    "epsilon = 1e-8"
   ]
  },
  {
   "cell_type": "code",
   "execution_count": null,
   "id": "233643bc",
   "metadata": {},
   "outputs": [],
   "source": [
    "file = \"Data/\""
   ]
  },
  {
   "cell_type": "code",
   "execution_count": null,
   "id": "9e112236",
   "metadata": {},
   "outputs": [
    {
     "name": "stdout",
     "output_type": "stream",
     "text": [
      "Smallest eigenvalue: [-1852.22917156]\n"
     ]
    }
   ],
   "source": [
    "from scipy.sparse import csr_array, coo_matrix\n",
    "from scipy.sparse.linalg import eigsh\n",
    "\n",
    "Ham_sp = Ham.to_sparse_matrix()\n",
    "data, row, col = Ham_sp\n",
    "Ham_coo = coo_matrix((data, (row, col)), shape=(2**8, 2**8))\n",
    "Ham_csr = csr_array(Ham_coo)\n",
    "\n",
    "lmbd, _ = eigsh(Ham_csr, k=1, which='SA')\n",
    "\n",
    "print(\"Smallest eigenvalue:\", lmbd)"
   ]
  },
  {
   "cell_type": "code",
   "execution_count": null,
   "id": "defa4cb1",
   "metadata": {},
   "outputs": [],
   "source": []
  },
  {
   "cell_type": "code",
   "execution_count": null,
   "id": "a4348d75",
   "metadata": {},
   "outputs": [],
   "source": [
    "def plot_log(E_hist, E_smpl_hist):\n",
    "    #ya, iter = smpl.median_filter(np.real(E_hist))\n",
    "    ya = np.real(E_hist)\n",
    "    xa = np.arange(len(ya))\n",
    "    ci = np.abs(np.array(E_smpl_hist) - ya)\n",
    "    fig, ax = plt.subplots()\n",
    "    ax.plot(ya)\n",
    "    ax.fill_between(xa, (ya-ci), (ya+ci), color='r', alpha=.5)\n",
    "    ax.set_ylabel(\"Energy\")\n",
    "    ax.set_xlabel(\"Epochs\")\n",
    "    plt.hlines(lmbd[0],0,len(xa)-1,color='r',linestyles='dashed')\n",
    "    plt.show()"
   ]
  },
  {
   "cell_type": "code",
   "execution_count": null,
   "id": "86849d2b",
   "metadata": {},
   "outputs": [],
   "source": [
    "def save_data(X,smpl,g,seed,E,E_smpl,prob_dist,sample_list):\n",
    "  with open(file+\"X_N=\"+str(N)+\"_g=\"+str(g)+\"_seed=\"+str(seed)+\".txt\", \"ab\") as f:\n",
    "    np.savetxt(f, np.reshape(X,(1,-1)))\n",
    "  with open(file+\"Poly_N=\"+str(N)+\"_g=\"+str(g)+\"_seed=\"+str(seed)+\".txt\", \"ab\") as f:\n",
    "    np.savetxt(f, np.reshape(smpl.poly,(1,-1)))\n",
    "  with open(file+\"E_N=\"+str(N)+\"_g=\"+str(g)+\"_seed=\"+str(seed)+\".txt\", \"ab\") as f:\n",
    "    np.savetxt(f, [E])\n",
    "  with open(file+\"E_smpl_N=\"+str(N)+\"_g=\"+str(g)+\"_seed=\"+str(seed)+\".txt\", \"ab\") as f:\n",
    "    np.savetxt(f, [E_smpl])\n",
    "  with open(file+\"prob_dist_N=\"+str(N)+\"_g=\"+str(g)+\"_seed=\"+str(seed)+\".txt\", \"ab\") as f:\n",
    "    np.savetxt(f, np.reshape(prob_dist,(1,-1)))\n",
    "  with open(file+\"prob_dist_N=\"+str(N)+\"_g=\"+str(g)+\"_seed=\"+str(seed)+\".txt\", \"ab\") as f:\n",
    "    np.savetxt(f, np.reshape(sample_list,(1,-1)))"
   ]
  },
  {
   "cell_type": "code",
   "execution_count": null,
   "id": "1f9df4d9",
   "metadata": {},
   "outputs": [],
   "source": []
  },
  {
   "cell_type": "code",
   "execution_count": null,
   "id": "0203c0c6",
   "metadata": {},
   "outputs": [
    {
     "name": "stderr",
     "output_type": "stream",
     "text": [
      "2025-04-25 17:59:17.425806: I tensorflow/core/util/port.cc:153] oneDNN custom operations are on. You may see slightly different numerical results due to floating-point round-off errors from different computation orders. To turn them off, set the environment variable `TF_ENABLE_ONEDNN_OPTS=0`.\n",
      "2025-04-25 17:59:17.595868: E external/local_xla/xla/stream_executor/cuda/cuda_fft.cc:477] Unable to register cuFFT factory: Attempting to register factory for plugin cuFFT when one has already been registered\n",
      "WARNING: All log messages before absl::InitializeLog() is called are written to STDERR\n",
      "E0000 00:00:1745603957.654009   15750 cuda_dnn.cc:8310] Unable to register cuDNN factory: Attempting to register factory for plugin cuDNN when one has already been registered\n",
      "E0000 00:00:1745603957.670397   15750 cuda_blas.cc:1418] Unable to register cuBLAS factory: Attempting to register factory for plugin cuBLAS when one has already been registered\n",
      "2025-04-25 17:59:17.818132: I tensorflow/core/platform/cpu_feature_guard.cc:210] This TensorFlow binary is optimized to use available CPU instructions in performance-critical operations.\n",
      "To enable the following instructions: AVX2 AVX_VNNI FMA, in other operations, rebuild TensorFlow with the appropriate compiler flags.\n"
     ]
    }
   ],
   "source": [
    "import tensorflow as tf"
   ]
  },
  {
   "cell_type": "code",
   "execution_count": null,
   "id": "84bdf880",
   "metadata": {},
   "outputs": [],
   "source": []
  },
  {
   "cell_type": "code",
   "execution_count": null,
   "id": "3ddcb1ce",
   "metadata": {},
   "outputs": [],
   "source": []
  },
  {
   "cell_type": "code",
   "execution_count": null,
   "id": "e336afca",
   "metadata": {},
   "outputs": [
    {
     "name": "stderr",
     "output_type": "stream",
     "text": [
      "2025-04-25 17:59:20.454214: E external/local_xla/xla/stream_executor/cuda/cuda_driver.cc:152] failed call to cuInit: INTERNAL: CUDA error: Failed call to cuInit: UNKNOWN ERROR (303)\n"
     ]
    },
    {
     "ename": "TypeError",
     "evalue": "computing_norm_ratio() missing 3 required positional arguments: 'N', 'model_instance_one_body', and 'model_instance_two_body'",
     "output_type": "error",
     "traceback": [
      "\u001b[0;31m---------------------------------------------------------------------------\u001b[0m",
      "\u001b[0;31mTypeError\u001b[0m                                 Traceback (most recent call last)",
      "Cell \u001b[0;32mIn[14], line 24\u001b[0m\n\u001b[1;32m     22\u001b[0m prob_func \u001b[38;5;241m=\u001b[39m partial(prob_Ising_nv, N\u001b[38;5;241m=\u001b[39mN, poly\u001b[38;5;241m=\u001b[39mrbm\u001b[38;5;241m.\u001b[39mpoly, log_rho_max\u001b[38;5;241m=\u001b[39mrbm\u001b[38;5;241m.\u001b[39mlog_rho_max)\n\u001b[1;32m     23\u001b[0m \u001b[38;5;66;03m#prob_dist = Sampling(N=N, prob_func=prob_func, sample_size=sample_size, burn=sample_size//10)\u001b[39;00m\n\u001b[0;32m---> 24\u001b[0m prob_dist \u001b[38;5;241m=\u001b[39m \u001b[43mSampling_Quantum\u001b[49m\u001b[43m(\u001b[49m\u001b[43mN\u001b[49m\u001b[38;5;241;43m=\u001b[39;49m\u001b[43mN\u001b[49m\u001b[43m,\u001b[49m\u001b[43m \u001b[49m\u001b[43mpoly\u001b[49m\u001b[38;5;241;43m=\u001b[39;49m\u001b[43mrbm\u001b[49m\u001b[38;5;241;43m.\u001b[39;49m\u001b[43mpoly\u001b[49m\u001b[43m,\u001b[49m\u001b[43m \u001b[49m\u001b[43msample_size\u001b[49m\u001b[38;5;241;43m=\u001b[39;49m\u001b[43msample_size\u001b[49m\u001b[43m,\u001b[49m\u001b[43m \u001b[49m\u001b[43mburn\u001b[49m\u001b[38;5;241;43m=\u001b[39;49m\u001b[43msample_size\u001b[49m\u001b[38;5;241;43m/\u001b[39;49m\u001b[38;5;241;43m/\u001b[39;49m\u001b[38;5;241;43m10\u001b[39;49m\u001b[43m)\u001b[49m\n\u001b[1;32m     26\u001b[0m \u001b[38;5;28mprint\u001b[39m(\u001b[38;5;124m\"\u001b[39m\u001b[38;5;124mSampling Time: \u001b[39m\u001b[38;5;124m\"\u001b[39m, time\u001b[38;5;241m.\u001b[39mtime()\u001b[38;5;241m-\u001b[39mtm)\n\u001b[1;32m     29\u001b[0m E \u001b[38;5;241m=\u001b[39m rbm\u001b[38;5;241m.\u001b[39mEnergy_exact(Ham)\n",
      "File \u001b[0;32m~/Quantum-Sampling/Sampling_Quantum.py:184\u001b[0m, in \u001b[0;36mSampling_Quantum\u001b[0;34m(N, poly, sample_size, tot_time, time_delta, gamma, beta, burn, init_config, compute_proposal_matrix, mode)\u001b[0m\n\u001b[1;32m    183\u001b[0m \u001b[38;5;28;01mdef\u001b[39;00m\u001b[38;5;250m \u001b[39m\u001b[38;5;21mSampling_Quantum\u001b[39m(N, poly, sample_size, tot_time\u001b[38;5;241m=\u001b[39m\u001b[38;5;241m12\u001b[39m, time_delta\u001b[38;5;241m=\u001b[39m\u001b[38;5;241m0.5\u001b[39m, gamma\u001b[38;5;241m=\u001b[39m\u001b[38;5;241m0.42\u001b[39m, beta\u001b[38;5;241m=\u001b[39m\u001b[38;5;241m1\u001b[39m, burn\u001b[38;5;241m=\u001b[39m\u001b[38;5;241m1000\u001b[39m, init_config\u001b[38;5;241m=\u001b[39m\u001b[38;5;28;01mNone\u001b[39;00m, compute_proposal_matrix\u001b[38;5;241m=\u001b[39m\u001b[38;5;28;01mFalse\u001b[39;00m, mode\u001b[38;5;241m=\u001b[39m\u001b[38;5;124m'\u001b[39m\u001b[38;5;124mExact\u001b[39m\u001b[38;5;124m'\u001b[39m):\n\u001b[0;32m--> 184\u001b[0m   angles_u3, angles_2q \u001b[38;5;241m=\u001b[39m \u001b[43mcompute_angles\u001b[49m\u001b[43m(\u001b[49m\u001b[43mpoly\u001b[49m\u001b[43m,\u001b[49m\u001b[43m \u001b[49m\u001b[43mN\u001b[49m\u001b[43m,\u001b[49m\u001b[43m \u001b[49m\u001b[43mtime_delta\u001b[49m\u001b[43m,\u001b[49m\u001b[43m \u001b[49m\u001b[43mgamma\u001b[49m\u001b[43m)\u001b[49m\n\u001b[1;32m    185\u001b[0m   k \u001b[38;5;241m=\u001b[39m \u001b[38;5;28mint\u001b[39m(tot_time \u001b[38;5;241m/\u001b[39m time_delta)\n\u001b[1;32m    187\u001b[0m   \u001b[38;5;28;01mif\u001b[39;00m \u001b[38;5;28mlen\u001b[39m(init_config)\u001b[38;5;241m==\u001b[39m\u001b[38;5;241m0\u001b[39m:\n",
      "File \u001b[0;32m~/Quantum-Sampling/Sampling_Quantum.py:75\u001b[0m, in \u001b[0;36mcompute_angles\u001b[0;34m(poly, N, time_delta, gamma)\u001b[0m\n\u001b[1;32m     72\u001b[0m l \u001b[38;5;241m=\u001b[39m poly[\u001b[38;5;241m1\u001b[39m:\u001b[38;5;241m1\u001b[39m\u001b[38;5;241m+\u001b[39mN]\n\u001b[1;32m     73\u001b[0m J \u001b[38;5;241m=\u001b[39m poly[\u001b[38;5;241m1\u001b[39m\u001b[38;5;241m+\u001b[39mN:]\n\u001b[0;32m---> 75\u001b[0m alpha \u001b[38;5;241m=\u001b[39m \u001b[43mcomputing_norm_ratio\u001b[49m\u001b[43m(\u001b[49m\u001b[43m)\u001b[49m\n\u001b[1;32m     76\u001b[0m \u001b[38;5;66;03m#time_array, time_delta_step = self.scalar_time_sampling(sampling_type=\"discrete\")\u001b[39;00m\n\u001b[1;32m     77\u001b[0m \u001b[38;5;66;03m#gamma_array, gamma_step = self.scalar_gamma_sampling(sampling_type=\"discrete\")\u001b[39;00m\n\u001b[1;32m     80\u001b[0m angle_list \u001b[38;5;241m=\u001b[39m []\n",
      "\u001b[0;31mTypeError\u001b[0m: computing_norm_ratio() missing 3 required positional arguments: 'N', 'model_instance_one_body', and 'model_instance_two_body'"
     ]
    }
   ],
   "source": [
    "from functools import partial\n",
    "\n",
    "sample_size = 20000\n",
    "\n",
    "seed = 1\n",
    "\n",
    "E_hist=[]\n",
    "E_smpl_hist=[]\n",
    "\n",
    "rbm = RBM_surrogate(N=N,M=M,seed=seed,)\n",
    "x = tf.Variable(rbm.X)\n",
    "\n",
    "tm=time.time()\n",
    "\n",
    "optimizer = tf.keras.optimizers.Adam(learning_rate=learning_rate, beta_1=beta1, beta_2=beta2, epsilon=epsilon)\n",
    "\n",
    "for epoch in range(40):\n",
    "  rbm = RBM_surrogate(N,M,X=x.numpy())\n",
    "  rbm.build_surrogate()\n",
    "\n",
    "  tm = time.time()\n",
    "  #prob_func = partial(prob_Ising_nv, N=N, poly=rbm.poly, log_rho_max=rbm.log_rho_max)\n",
    "  #prob_dist = Sampling(N=N, prob_func=prob_func, sample_size=sample_size, burn=sample_size//10)\n",
    "  prob_dist = Sampling_Quantum(N=N, poly=rbm.poly, sample_size=sample_size, burn=sample_size//10)\n",
    "\n",
    "  print(\"Sampling Time: \", time.time()-tm)\n",
    "\n",
    "\n",
    "  E = rbm.Energy_exact(Ham)\n",
    "\n",
    "  tm = time.time()\n",
    "  E_smpl = rbm.Energy_sampling(Ham,prob_mat=prob_dist)\n",
    "  print(\"Energy: \", time.time()-tm)\n",
    "  print(epoch, \"Energy Time: \", E, \"\\t +/- \\t\", np.abs(E_smpl - E))\n",
    "\n",
    "  tm = time.time()\n",
    "  #grad_exact = np.real(rbm.grad_exact(Ham))\n",
    "  grad = np.real(rbm.grad_Sampling(Ham,prob_mat=prob_dist))\n",
    "  print(\"Gradient Time: \", time.time()-tm)\n",
    "\n",
    "  optimizer.apply_gradients([(grad, x)])\n",
    "\n",
    "  E_hist.append(E)\n",
    "  E_smpl_hist.append(E_smpl)\n",
    "\n",
    "print(\"\\n\\n\\nEnergy: \",E,\"\\n Time\",time.time()-tm, lmbd[0])\n",
    "\n",
    "plot_log(E_hist, E_smpl_hist)"
   ]
  },
  {
   "cell_type": "code",
   "execution_count": null,
   "id": "2f61ec2d",
   "metadata": {},
   "outputs": [
    {
     "data": {
      "image/png": "[encoded data removed]",
      "text/plain": [
       "<Figure size 640x480 with 1 Axes>"
      ]
     },
     "metadata": {},
     "output_type": "display_data"
    }
   ],
   "source": [
    "plot_log(E_hist, E_smpl_hist)"
   ]
  },
  {
   "cell_type": "code",
   "execution_count": null,
   "id": "b58d1202",
   "metadata": {},
   "outputs": [],
   "source": []
  },
  {
   "cell_type": "code",
   "execution_count": null,
   "id": "4d829bb1",
   "metadata": {},
   "outputs": [
    {
     "data": {
      "text/plain": [
       "<matplotlib.collections.LineCollection at 0x7fa0bed3a1a0>"
      ]
     },
     "execution_count": 24,
     "metadata": {},
     "output_type": "execute_result"
    },
    {
     "data": {
      "image/png": "[encoded data removed]",
      "text/plain": [
       "<Figure size 640x480 with 1 Axes>"
      ]
     },
     "metadata": {},
     "output_type": "display_data"
    }
   ],
   "source": [
    "ya = np.real(E_hist)\n",
    "xa = np.arange(len(ya))\n",
    "fig, ax = plt.subplots()\n",
    "ax.plot(ya)\n",
    "#ax.fill_between(xa, (ya-ci), (ya+ci), color='r', alpha=.5)\n",
    "ax.set_ylabel(\"Energy\")\n",
    "ax.set_xlabel(\"Epochs\")\n",
    "plt.hlines(lmbd[0],0,len(xa)-1,color='r',linestyles='dashed')"
   ]
  },
  {
   "cell_type": "code",
   "execution_count": null,
   "id": "382731b1",
   "metadata": {},
   "outputs": [],
   "source": []
  }
 ],
 "metadata": {
  "kernelspec": {
   "display_name": "Python 3",
   "language": "python",
   "name": "python3"
  },
  "language_info": {
   "codemirror_mode": {
    "name": "ipython",
    "version": 3
   },
   "file_extension": ".py",
   "mimetype": "text/x-python",
   "name": "python",
   "nbconvert_exporter": "python",
   "pygments_lexer": "ipython3",
   "version": "3.10.12"
  }
 },
 "nbformat": 4,
 "nbformat_minor": 5
}
