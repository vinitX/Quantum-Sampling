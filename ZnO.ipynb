{
 "cells": [
  {
   "cell_type": "code",
   "execution_count": 8,
   "id": "abfe4e97",
   "metadata": {},
   "outputs": [],
   "source": [
    "import cudaq\n",
    "from cudaq import spin"
   ]
  },
  {
   "cell_type": "code",
   "execution_count": null,
   "id": "f0edc880",
   "metadata": {},
   "outputs": [],
   "source": [
    "from RBM_surrogate import *\n",
    "#from New_MCMC_Proposal import *\n",
    "from get_conn import get_conn\n",
    "from Sampling import *"
   ]
  },
  {
   "cell_type": "code",
   "execution_count": null,
   "id": "5b20b27d",
   "metadata": {},
   "outputs": [],
   "source": [
    "import os\n",
    "import numpy as np\n",
    "#import netket as nk\n",
    "import scipy as sp\n",
    "import numpy.linalg as la\n",
    "import scipy.linalg as spla\n",
    "import time\n",
    "import matplotlib.pyplot as plt\n",
    "import json"
   ]
  },
  {
   "cell_type": "code",
   "execution_count": null,
   "id": "c427931c",
   "metadata": {},
   "outputs": [],
   "source": [
    "N=10\n",
    "M=10\n",
    "D=0\n",
    "beta=1"
   ]
  },
  {
   "cell_type": "code",
   "execution_count": 11,
   "id": "29b73ae5",
   "metadata": {},
   "outputs": [],
   "source": [
    "H = spin.x(1)"
   ]
  },
  {
   "cell_type": "code",
   "execution_count": null,
   "id": "81859a3b",
   "metadata": {},
   "outputs": [],
   "source": [
    "cudaq.SpinOperator()"
   ]
  },
  {
   "cell_type": "code",
   "execution_count": 3,
   "id": "5c0717e4",
   "metadata": {},
   "outputs": [],
   "source": [
    "def string_to_ops(str):\n",
    "    Pauli_Ops = []\n",
    "    Coeffs = []\n",
    "\n",
    "    for line in str.strip().split('\\n'):\n",
    "        coeff_str, pauli_op = line.split('] ')\n",
    "        coeff = complex(coeff_str.strip('['))  \n",
    "        Coeffs.append(coeff)\n",
    "        Pauli_Ops.append(pauli_op.strip())\n",
    "\n",
    "    print(\"Pauli_Ops =\", Pauli_Ops)\n",
    "    print(\"Coeffs =\", Coeffs)\n",
    "\n",
    "    return Pauli_Ops, Coeffs"
   ]
  },
  {
   "cell_type": "code",
   "execution_count": 4,
   "id": "dbc7bd0a",
   "metadata": {},
   "outputs": [
    {
     "name": "stdout",
     "output_type": "stream",
     "text": [
      "Pauli_Ops = ['XZXIIXZX', 'YIZZZZYI', 'IYZYYZYI', 'XZXIYZYI', 'XZZYYZZX', 'XZZIZZXI', 'XZYIYZXI', 'YZYYZZZY', 'IIZIZIII', 'IIIIYXXY', 'ZIXZXIII', 'IIIZIIZI', 'XYIIIIYX', 'YXIIIIXY', 'YZZZZZYZ', 'YZYXZZZX', 'IIYZZYXX', 'YXXZZYII', 'XZZZIZXI', 'XZZXIXXI', 'XXIIYYII', 'XZXIXZXI', 'IYZZZZZY', 'XYIIYXII', 'IIIYYIYY', 'XZXIIYZY', 'IIZIIIZI', 'IIZIIIIZ', 'XZZYIYXI', 'IIIZIIIZ', 'IIXYIIYX', 'IIYZYIII', 'IYXIIXYI', 'IIIXZXZI', 'XZZZZIXI', 'IIXXYYII', 'YYIIIIXX', 'YZZZYXZX', 'YZYIXZXI', 'IYIZZZZY', 'IXXYZZYI', 'XZXYZZZY', 'IXZXYZYI', 'IYXXZZYI', 'IXZIZZZX', 'IYXIXZZY', 'IIZZIIII', 'IIIIZIZI', 'XYYXIIII', 'IXXIIYYI', 'IYZYIYZY', 'IZIZIIII', 'XZZXYZZY', 'IXYIYZZX', 'IYYIYZZY', 'IXIZZZZX', 'IYZIZZZY', 'XZZZXXZX', 'IXZZXYYI', 'ZIIIIIIZ', 'YZZIZZYI', 'IIIYXIXY', 'IIIIIIIZ', 'IXZXIYZY', 'IYZZZZIY', 'YXIIXYII', 'IXZXXZXI', 'IXZZYYXI', 'IZYZYIII', 'ZIIIIZII', 'IZIYZYII', 'ZIIYZYII', 'IIXZZXYY', 'IIXZZYYX', 'IIXZXIZI', 'IXXIXZZX', 'IZIXZXII', 'YZZZZIYI', 'IIIXZXIZ', 'IYZZYXXI', 'IIIXXIXX', 'YZZZIZYI', 'IIIYZYIZ', 'IIIYIYII', 'XXIIIIYY', 'IIYZYIZI', 'IIIIIZIZ', 'IIYYIIXX', 'IYYIIXXI', 'IIIXYIYX', 'IIIZIIII', 'XZZZXYZY', 'IIIZZIII', 'IIYZZXXY', 'IIXZXIIZ', 'IIYXIIXY', 'IXZZZZZX', 'IIYXXYII', 'IXYIIYXI', 'IZIIIIIZ', 'XZXXZZZX', 'IXZXIXZX', 'IXZYIYZX', 'IIZYZYII', 'IIYZYZII', 'IIXZXZII', 'IIXIXIII', 'YZZXXZZY', 'XZZZZZXI', 'IIZXZXII', 'IIYYXXII', 'YZZXIXYI', 'IXZZZZIX', 'IYYXZZXI', 'IYZZXXYI', 'IYZZIZZY', 'IXZZZIZX', 'IIIXZXII', 'IIZIIZII', 'IIIIIZZI', 'IYZYXZXI', 'IIIIZIIZ', 'YXIXYIII', 'IIXXIIYY', 'YZYIYZYI', 'IXZZIZZX', 'XYYZZXII', 'XXYYIIII', 'IIYIYIII', 'IIXYYXII', 'IIIIYYXX', 'ZIIZIIII', 'IIIIXXYY', 'YYIYYIII', 'IZIIIZII', 'ZIYZYIII', 'YXXYIIII', 'IIIYZYII', 'YYXXIIII', 'YZIZZZYI', 'IIIIZIII', 'IYZYIXZX', 'ZIIIIIII', 'YZZYIYYI', 'IYZZZIZY', 'XYIYXIII', 'YZZYXZZX', 'ZXZZZZZX', 'ZYZZZZZY', 'XXYZZYII', 'YZXIXZYI', 'YZYIIXZX', 'IXYYZZXI', 'YZYIIYZY', 'XZZZZZXZ', 'IZIIZIII', 'XXIXXIII', 'IZZIIIII', 'YYIIXXII', 'YYXZZXII', 'ZIIIIIZI', 'IZIIIIII', 'XIZZZZXI', 'IZIIIIZI', 'IIIIZZII', 'IIIIXYYX', 'IIIIIIZZ', 'IIZIIIII', 'YZZZYYZY', 'IIIIIIZI', 'IZXZXIII', 'IIIXIXII', 'IIIZIZII', 'ZZIIIIII', 'XZIZZZXI', 'YZZZZZYI', 'ZIZIIIII', 'ZIIIZIII', 'IIIYZYZI', 'IIIIIZII', 'IIIIIIII', 'ZIIXZXII', 'IYZXIXZY', 'IIYZYIIZ', 'IIXZXIII']\n",
      "Coeffs = [(-0.0002994175582559632+0j), (0.003968049324995211+0j), (-0.0002994175582559632+0j), (-9.461179420648165e-05+0j), (-0.00020480576404948163+0j), (0.0017907031220664531+0j), (0.0013567985418781736+0j), (4.096584891408475e-05+0j), (0.0509634789330711+0j), (0.0056436929661327195+0j), (-0.04119863628744728+0j), (0.05548507828184361+0j), (0.0007206492658627443+0j), (0.0007206492658627443+0j), (-9.800605214997685e-06+0j), (4.096584891408475e-05+0j), (0.0038876416863400914+0j), (0.0032281701014476825+0j), (0.0008873162566754989+0j), (0.0015616043059276552+0j), (-0.002851621669446524+0j), (0.0012621867476716921+0j), (0.0058758680392725065+0j), (0.002851621669446524+0j), (0.0038876416863400914+0j), (-0.0002994175582559632+0j), (0.051324623190589204+0j), (0.05548507828184361+0j), (0.0015616043059276552+0j), (0.051324623190589204+0j), (0.00416045509125441+0j), (-0.1019000613458991+0j), (-0.00020480576404948163+0j), (0.0007045361116006638+0j), (0.0008369467930247954+0j), (-0.02649869319580489+0j), (-0.0007206492658627443+0j), (5.036946365070342e-05+0j), (-9.461179420648165e-05+0j), (0.0017907031220664531+0j), (-4.096584891408475e-05+0j), (4.096584891408475e-05+0j), (-0.0002994175582559632+0j), (4.096584891408475e-05+0j), (0.0018316689709805378+0j), (0.0015616043059276552+0j), (0.10198182030325316+0j), (0.0469517155134751+0j), (0.005726143886329103+0j), (0.00020480576404948163+0j), (0.0012621867476716921+0j), (0.10829266752210892+0j), (0.00020480576404948163+0j), (0.0015616043059276552+0j), (0.0015616043059276552+0j), (0.0017907031220664531+0j), (0.0018316689709805378+0j), (5.036946365070342e-05+0j), (-5.036946365070342e-05+0j), (0.0533319220693404+0j), (0.0017907031220664531+0j), (0.0038876416863400914+0j), (0.022133837257015523+0j), (-9.461179420648165e-05+0j), (-9.800605214997687e-06+0j), (0.002851621669446524+0j), (-0.0002994175582559632+0j), (5.036946365070342e-05+0j), (-0.04442680638889496+0j), (0.07968440554213341+0j), (-0.04119863628744728+0j), (-0.04442680638889496+0j), (0.0038876416863400914+0j), (-0.0038876416863400914+0j), (-0.0031831055747394274+0j), (0.0015616043059276552+0j), (-0.04119863628744728+0j), (0.0008369467930247954+0j), (-0.0031831055747394274+0j), (-5.036946365070342e-05+0j), (0.0038876416863400914+0j), (0.0008873162566754989+0j), (-0.0031831055747394274+0j), (-0.006773459408848079+0j), (-0.0007206492658627443+0j), (-0.0031831055747394274+0j), (0.0469517155134751+0j), (-0.00416045509125441+0j), (0.00020480576404948163+0j), (0.0038876416863400914+0j), (0.2633794974942263+0j), (5.036946365070342e-05+0j), (0.07746217212887599+0j), (-0.0038876416863400914+0j), (0.0007045361116006638+0j), (0.00416045509125441+0j), (0.0058758680392725065+0j), (0.02649869319580489+0j), (-0.00020480576404948163+0j), (0.05261127280347765+0j), (4.096584891408475e-05+0j), (0.0012621867476716921+0j), (0.0013567985418781736+0j), (-0.02552723726749953+0j), (-0.006773459408848079+0j), (-0.006773459408848079+0j), (-0.02552723726749953+0j), (-0.00020480576404948163+0j), (0.005875868039272507+0j), (-0.02552723726749953+0j), (-0.02649869319580489+0j), (0.0015616043059276552+0j), (-9.800605214997687e-06+0j), (-4.096584891408475e-05+0j), (5.036946365070342e-05+0j), (0.0008369467930247954+0j), (0.0008873162566754989+0j), (-0.1019000613458991+0j), (0.07746217212887599+0j), (0.05259540847960782+0j), (-0.0002994175582559632+0j), (0.05259540847960782+0j), (-0.003228170101447683+0j), (-0.00416045509125441+0j), (0.0012621867476716921+0j), (0.0008369467930247954+0j), (0.0032281701014476825+0j), (-0.005726143886329103+0j), (-0.02552723726749953+0j), (0.02649869319580489+0j), (-0.0056436929661327195+0j), (0.11401881140843803+0j), (-0.0056436929661327195+0j), (-0.003228170101447683+0j), (0.07683278387268688+0j), (-0.04119863628744728+0j), (0.005726143886329103+0j), (-0.1019000613458991+0j), (-0.005726143886329103+0j), (0.0018316689709805378+0j), (0.12813725281196714+0j), (-9.461179420648165e-05+0j), (0.3360615782898551+0j), (0.0015616043059276552+0j), (0.0008873162566754989+0j), (-0.003228170101447683+0j), (0.00020480576404948163+0j), (0.003968049324995211+0j), (0.003968049324995211+0j), (-0.0032281701014476825+0j), (0.0013567985418781736+0j), (-0.0002994175582559632+0j), (4.096584891408475e-05+0j), (-0.0002994175582559632+0j), (-9.800605214997685e-06+0j), (0.07968440554213341+0j), (-0.003228170101447683+0j), (0.11401881140843803+0j), (-0.002851621669446524+0j), (-0.0032281701014476825+0j), (0.05261127280347765+0j), (0.3360615782898551+0j), (0.003968049324995211+0j), (0.0533319220693404+0j), (0.07229374389692468+0j), (0.0056436929661327195+0j), (0.05273479794160388+0j), (0.2633794974942264+0j), (5.036946365070342e-05+0j), (0.022133837257015523+0j), (-0.04442680638889496+0j), (-0.006773459408848079+0j), (0.0509634789330711+0j), (0.1738781256601925+0j), (0.0018316689709805378+0j), (0.005875868039272507+0j), (0.10829266752210892+0j), (0.07683278387268688+0j), (0.0007045361116006638+0j), (0.12813725281196714+0j), (-1851.339501424354+0j), (-0.04442680638889496+0j), (0.0013567985418781736+0j), (0.0007045361116006638+0j), (-0.1019000613458991+0j)]\n"
     ]
    }
   ],
   "source": [
    "with open(\"ZnO.txt\", \"r\") as file:\n",
    "    Ham_str = file.read()\n",
    "\n",
    "Pauli_Ops, Coeffs = string_to_ops(Ham_str)"
   ]
  },
  {
   "cell_type": "code",
   "execution_count": null,
   "id": "639d05e0",
   "metadata": {},
   "outputs": [],
   "source": [
    "# Adam optimizer hyperparameters\n",
    "learning_rate = 0.01\n",
    "beta1 = 0.9\n",
    "beta2 = 0.999\n",
    "epsilon = 1e-8"
   ]
  },
  {
   "cell_type": "code",
   "execution_count": null,
   "id": "233643bc",
   "metadata": {},
   "outputs": [],
   "source": [
    "file = \"Data/\""
   ]
  },
  {
   "cell_type": "code",
   "execution_count": null,
   "id": "a4348d75",
   "metadata": {},
   "outputs": [],
   "source": [
    "def plot_log(E_hist, E_err_hist):\n",
    "    #ya, iter = smpl.median_filter(np.real(E_hist))\n",
    "    ya = np.real(E_hist)\n",
    "    xa = np.arange(len(ya))\n",
    "    ci = np.array(E_err_hist) #[iter]\n",
    "    fig, ax = plt.subplots()\n",
    "    ax.plot(ya)\n",
    "    ax.fill_between(xa, (ya-ci), (ya+ci), color='r', alpha=.5)\n",
    "    ax.set_ylabel(\"Energy\")\n",
    "    ax.set_xlabel(\"Epochs\")\n",
    "    plt.hlines(lmbd[0],0,len(xa)-1,color='r',linestyles='dashed')\n",
    "    plt.show()"
   ]
  },
  {
   "cell_type": "code",
   "execution_count": null,
   "id": "86849d2b",
   "metadata": {},
   "outputs": [],
   "source": [
    "# #Calculating quantities\n",
    "# def calc_quants(smpl,grad,H):\n",
    "#   s = smpl.enum(N)\n",
    "#   local_energies = smpl.local_energy(H,s)\n",
    "#   kernels = smpl.kernel(s)\n",
    "#   phi = smpl.prob(s)\n",
    "\n",
    "#   derivative_op_diag = np.zeros((12,2**N),dtype=complex)\n",
    "#   local_gradients = np.zeros((12,2**N),dtype=complex)\n",
    "#   s_vec = np.reshape(s, (len(s),1,N))\n",
    "\n",
    "#   da,db,dw,du,dd,dc = get_params(grad)\n",
    "#   dw = np.reshape(dw,-1)\n",
    "\n",
    "#   idx_list = np.array([np.argmin(np.abs(da)), np.argmax(np.abs(da)), N+np.argmin(np.abs(db)), N+np.argmax(np.abs(db)), N+M+np.argmin(np.abs(dw)), N+M+np.argmax(np.abs(dw))])\n",
    "#   idx_list = np.concatenate((idx_list,idx_list+N+M+N*M+N*D+D+N*N))\n",
    "\n",
    "#   for i in range(12):\n",
    "#     idx = idx_list[i]\n",
    "#     var, _, _ = smpl.map_idx_to_var(idx)\n",
    "#     local_gradients[i] = smpl.local_gradient(H,s,idx)\n",
    "#     derivative_op_diag[i] = smpl.derivative_operator(s,s_vec,idx)[:,0]\n",
    "\n",
    "\n",
    "def save_data(X,smpl,g,seed,E,E_smpl,prob_dist,sample_list):\n",
    "  with open(file+\"X_N=\"+str(N)+\"_g=\"+str(g)+\"_seed=\"+str(seed)+\".txt\", \"ab\") as f:\n",
    "    np.savetxt(f, np.reshape(X,(1,-1)))\n",
    "  with open(file+\"Poly_N=\"+str(N)+\"_g=\"+str(g)+\"_seed=\"+str(seed)+\".txt\", \"ab\") as f:\n",
    "    np.savetxt(f, np.reshape(smpl.poly,(1,-1)))\n",
    "  with open(file+\"E_N=\"+str(N)+\"_g=\"+str(g)+\"_seed=\"+str(seed)+\".txt\", \"ab\") as f:\n",
    "    np.savetxt(f, [E])\n",
    "  with open(file+\"E_smpl_N=\"+str(N)+\"_g=\"+str(g)+\"_seed=\"+str(seed)+\".txt\", \"ab\") as f:\n",
    "    np.savetxt(f, [E_smpl])\n",
    "  with open(file+\"prob_dist_N=\"+str(N)+\"_g=\"+str(g)+\"_seed=\"+str(seed)+\".txt\", \"ab\") as f:\n",
    "    np.savetxt(f, np.reshape(prob_dist,(1,-1)))\n",
    "  with open(file+\"prob_dist_N=\"+str(N)+\"_g=\"+str(g)+\"_seed=\"+str(seed)+\".txt\", \"ab\") as f:\n",
    "    np.savetxt(f, np.reshape(sample_list,(1,-1)))\n"
   ]
  },
  {
   "cell_type": "code",
   "execution_count": null,
   "id": "1f9df4d9",
   "metadata": {},
   "outputs": [],
   "source": [
    "def jac(rbm,H,prob_dist=[],exact=False):\n",
    "  if exact == True:\n",
    "    grad_exact = rbm.grad_exact(H)\n",
    "    return grad_exact\n",
    "    \n",
    "  else:\n",
    "    grad = rbm.grad_Sampling(H,prob_dist)\n",
    "    return grad"
   ]
  },
  {
   "cell_type": "code",
   "execution_count": null,
   "id": "0203c0c6",
   "metadata": {},
   "outputs": [],
   "source": [
    "import tensorflow as tf"
   ]
  },
  {
   "cell_type": "code",
   "execution_count": null,
   "id": "e336afca",
   "metadata": {},
   "outputs": [],
   "source": [
    "sample_size = 20000\n",
    "\n",
    "seed = 1\n",
    "\n",
    "E_hist=[]\n",
    "E_smpl_hist=[]\n",
    "\n",
    "rbm = RBM_surrogate(N=N,M=M,seed=seed)\n",
    "x = tf.Variable(rbm.X)\n",
    "\n",
    "tm=time.time()\n",
    "\n",
    "optimizer = tf.keras.optimizers.Adam(learning_rate=learning_rate, beta_1=beta1, beta_2=beta2, epsilon=epsilon)\n",
    "\n",
    "for epoch in range(40):\n",
    "  rbm = RBM_surrogate(x.numpy(),N,M,D,beta=beta)\n",
    "  prob_dist, sample_list = Sampling(rbm, sample_size, burn=sample_size//10)\n",
    "\n",
    "  E = rbm.Energy_exact(H)\n",
    "  E_smpl = rbm.Energy_sampling(H,prob_dist)\n",
    "  print(\"Energy: \", E, \"\\t +/- \\t\", np.abs(E_smpl - E))\n",
    "\n",
    "  grad = jac(rbm,H,prob_dist)\n",
    "\n",
    "  optimizer.apply_gradients([(grad, x)])\n",
    "\n",
    "  E_hist.append(E)\n",
    "  E_smpl_hist.append(E_smpl)\n",
    "\n",
    "print(\"\\n\\n\\nEnergy: \",E,\"\\n Time\",time.time()-tm, lmbd[0])\n",
    "\n",
    "plot_log()"
   ]
  }
 ],
 "metadata": {
  "kernelspec": {
   "display_name": "Python 3",
   "language": "python",
   "name": "python3"
  },
  "language_info": {
   "codemirror_mode": {
    "name": "ipython",
    "version": 3
   },
   "file_extension": ".py",
   "mimetype": "text/x-python",
   "name": "python",
   "nbconvert_exporter": "python",
   "pygments_lexer": "ipython3",
   "version": "3.10.12"
  }
 },
 "nbformat": 4,
 "nbformat_minor": 5
}
