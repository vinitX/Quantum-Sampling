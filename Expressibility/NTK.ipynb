{
 "cells": [
  {
   "cell_type": "code",
   "execution_count": 1,
   "id": "0c4ae9d9",
   "metadata": {},
   "outputs": [
    {
     "name": "stdout",
     "output_type": "stream",
     "text": [
      "Relative error (closed-form vs autodiff): 2.620699166650282e-16\n"
     ]
    }
   ],
   "source": [
    "import netket as nk\n",
    "import jax\n",
    "import jax.numpy as jnp\n",
    "from jax.flatten_util import ravel_pytree\n",
    "\n",
    "n = 16          # number of visible units\n",
    "alpha = 2        # hidden density => m = alpha * n\n",
    "m = alpha * n\n",
    "\n",
    "model = nk.models.RBM(alpha=alpha, param_dtype=jnp.float32)  \n",
    "\n",
    "key = jax.random.PRNGKey(0)\n",
    "key_W, key_b, key_a = jax.random.split(key, 3)\n",
    "\n",
    "tau = 1.0         # weight scale (preactivation contribution)\n",
    "sigma_b = 0.5     # hidden-bias scale\n",
    "\n",
    "params = {\n",
    "    \"a\": jnp.zeros((n,)),                                   # visible bias a\n",
    "    \"b\": sigma_b * jax.random.normal(key_b, (m,)),           # hidden bias b\n",
    "    \"W\": (tau / jnp.sqrt(n)) * jax.random.normal(key_W, (n, m)),  # weights W\n",
    "}\n",
    "\n",
    "def Energy(params, v):\n",
    "    \"\"\"\n",
    "    Energy for a single configuration v in {-1,+1}^n:\n",
    "    E(v) = -a^T v - sum_j log(2 cosh(b_j + (W^T v)_j))\n",
    "    \"\"\"\n",
    "    a, b, W = params[\"a\"], params[\"b\"], params[\"W\"]\n",
    "    u = b + v @ W\n",
    "    return - jnp.dot(a, v) - jnp.sum(jnp.log(2.0 * jnp.cosh(u)))\n",
    "\n",
    "\n",
    "def ntk_closed_form(params, V):\n",
    "    \"\"\"\n",
    "    Computes K = B + T T^T + B ⊙ (T T^T)\n",
    "    where:\n",
    "      B = V V^T\n",
    "      U = V W + 1 b^T, T = tanh(U)\n",
    "    \"\"\"\n",
    "    a, b, W = params[\"a\"], params[\"b\"], params[\"W\"]\n",
    "    U = V @ W + b  # (N, m)\n",
    "    T = jnp.tanh(U)  # (N, m)\n",
    "    B = V @ V.T      # (N, N)\n",
    "    TT = T @ T.T     # (N, N)\n",
    "    K = B + TT + B * TT\n",
    "    return K\n",
    "\n",
    "def ntk_autodiff(params, V):\n",
    "    \"\"\"\n",
    "    K_ij = <∇_θ E(v_i), ∇_θ E(v_j)>\n",
    "    Uses JAX to flatten params and build the Jacobian.\n",
    "    \"\"\"\n",
    "    theta0, unravel = ravel_pytree(params)\n",
    "\n",
    "    def E_flat(theta, v):\n",
    "        p = unravel(theta)\n",
    "        return Energy(p, v)\n",
    "\n",
    "    # Gradient wrt flat theta\n",
    "    grad_E = jax.grad(E_flat)\n",
    "\n",
    "    # Stack gradients for all samples -> J (N x P)\n",
    "    J = jax.vmap(lambda v: grad_E(theta0, v))(V)\n",
    "    # NTK = J J^T\n",
    "    K = J @ J.T\n",
    "    return K\n",
    "\n",
    "key_data = jax.random.PRNGKey(123)\n",
    "V = jnp.where(jax.random.normal(key_data, (32, n)) > 0, 1.0, -1.0)  # (N=32, n)\n",
    "\n",
    "K_fast = ntk_closed_form(params, V)\n",
    "K_auto = ntk_autodiff(params, V)\n",
    "\n",
    "rel_err = jnp.linalg.norm(K_fast - K_auto) / (1e-9 + jnp.linalg.norm(K_fast))\n",
    "print(\"Relative error (closed-form vs autodiff):\", float(rel_err))\n"
   ]
  },
  {
   "cell_type": "code",
   "execution_count": 13,
   "id": "633f4e09",
   "metadata": {},
   "outputs": [
    {
     "data": {
      "text/plain": [
       "<matplotlib.colorbar.Colorbar at 0x1c33d68d7d0>"
      ]
     },
     "execution_count": 13,
     "metadata": {},
     "output_type": "execute_result"
    },
    {
     "data": {
      "image/png": "[encoded data removed]",
      "text/plain": [
       "<Figure size 640x480 with 2 Axes>"
      ]
     },
     "metadata": {},
     "output_type": "display_data"
    }
   ],
   "source": [
    "import matplotlib.pyplot as plt\n",
    "import numpy as np\n",
    "\n",
    "plt.imshow(K_fast, cmap='coolwarm')\n",
    "plt.colorbar()"
   ]
  },
  {
   "cell_type": "code",
   "execution_count": null,
   "id": "41cce2aa",
   "metadata": {},
   "outputs": [],
   "source": []
  },
  {
   "cell_type": "code",
   "execution_count": null,
   "id": "e96eb81d",
   "metadata": {},
   "outputs": [],
   "source": []
  }
 ],
 "metadata": {
  "kernelspec": {
   "display_name": "Python 3",
   "language": "python",
   "name": "python3"
  },
  "language_info": {
   "codemirror_mode": {
    "name": "ipython",
    "version": 3
   },
   "file_extension": ".py",
   "mimetype": "text/x-python",
   "name": "python",
   "nbconvert_exporter": "python",
   "pygments_lexer": "ipython3",
   "version": "3.11.9"
  }
 },
 "nbformat": 4,
 "nbformat_minor": 5
}
