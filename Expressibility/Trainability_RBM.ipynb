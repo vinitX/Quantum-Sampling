{
 "cells": [
  {
   "cell_type": "code",
   "execution_count": null,
   "id": "68eb5d06",
   "metadata": {},
   "outputs": [],
   "source": [
    "# import sys\n",
    "# sys.path.append(\"c:/Users/vinit/Downloads/Research/Quantum-Sampling\")\n",
    "# from spin_utils import *"
   ]
  },
  {
   "cell_type": "code",
   "execution_count": 8,
   "id": "a05d32bf",
   "metadata": {},
   "outputs": [],
   "source": [
    "import matplotlib.pyplot as plt\n",
    "\n",
    "# pip install netket jax jaxlib  (if you haven't already; on GPU, install the right jaxlib)\n",
    "import netket as nk\n",
    "import jax\n",
    "import jax.numpy as jnp\n",
    "import numpy as np\n",
    "from jax.flatten_util import ravel_pytree"
   ]
  },
  {
   "cell_type": "code",
   "execution_count": null,
   "id": "8e1d271a",
   "metadata": {},
   "outputs": [
    {
     "name": "stdout",
     "output_type": "stream",
     "text": [
      "Total number of parameters: 168\n"
     ]
    }
   ],
   "source": [
    "L = 12                 # number of spins\n",
    "h = 1.0                # transverse field\n",
    "J = 1.0                # interaction strength\n",
    "\n",
    "graph = nk.graph.Chain(L, pbc=True)\n",
    "hi = nk.hilbert.Spin(s=0.5, N=L)\n",
    "\n",
    "# Built-in fast TFIM Hamiltonian:  H = -h Σ σ^x_i + J Σ⟨i,j⟩ σ^z_i σ^z_j\n",
    "H = nk.operator.Ising(hilbert=hi, graph=graph, h=h, J=J)\n",
    "\n",
    "# ----------------------------\n",
    "# Ansatz + Sampler + VState\n",
    "# ----------------------------\n",
    "alpha = 1              # hidden unit density (M = alpha * N)\n",
    "sigma = 1          # stddev for normal initialization of RBM params\n",
    "normal_init = jax.nn.initializers.normal(sigma)\n",
    "\n",
    "model = nk.models.RBM(\n",
    "    alpha=alpha,\n",
    "    param_dtype=jnp.float64,          # use float64 for good numerical stability\n",
    ")\n",
    "\n",
    "sampler = nk.sampler.MetropolisLocal(hi)               # local spin flips\n",
    "vstate = nk.vqs.MCState(\n",
    "    sampler,\n",
    "    model,\n",
    "    n_samples=4096,           # total MC samples per gradient estimate\n",
    "    seed=12345,               # base seed; we will re-init params with different seeds below\n",
    ")\n",
    "\n",
    "# We'll flatten parameter/gradient PyTrees to vectors so we can stack and take variances.\n",
    "# The ravel function depends on the parameter structure, so build it once now.\n",
    "flat_params, unravel = ravel_pytree(vstate.parameters)\n",
    "n_params = flat_params.size\n",
    "print(f\"Total number of parameters: {n_params}\")\n",
    "\n",
    "# ----------------------------\n",
    "# Repeat experiment many times\n",
    "# ----------------------------\n",
    "n_trials = 100\n",
    "all_grads = np.empty((n_trials, n_params), dtype=np.float64)\n",
    "\n",
    "for t in range(n_trials):\n",
    "    # Re-initialize the RBM parameters with a fresh random seed\n",
    "    vstate.init_parameters(normal_init, seed=1000 + t)   # re-draws parameters from a small normal dist\n",
    "\n",
    "    # (Optional) refresh cached samples; MCState will resample if needed,\n",
    "    # but calling reset() makes it explicit.\n",
    "    vstate.reset()\n",
    "\n",
    "    # Estimate <H> and its gradient wrt parameters\n",
    "    # expect_and_grad returns (Stats, grad_pytree)\n",
    "    E_stats, grad_tree = vstate.expect_and_grad(H)\n",
    "\n",
    "    # Flatten gradient PyTree to a 1D vector and store\n",
    "    grad_vec, _ = ravel_pytree(grad_tree)\n",
    "    all_grads[t] = np.asarray(grad_vec)"
   ]
  },
  {
   "cell_type": "code",
   "execution_count": null,
   "id": "8cadeffe",
   "metadata": {},
   "outputs": [],
   "source": []
  },
  {
   "cell_type": "code",
   "execution_count": 53,
   "id": "36ed7806",
   "metadata": {},
   "outputs": [],
   "source": [
    "def remove_outliers_iqr(all_grads, k=5):\n",
    "    \"\"\"\n",
    "    Removes outliers from all_grads (n_trials × n_params) per parameter column.\n",
    "    Outliers are defined as values outside [Q1 - k*IQR, Q3 + k*IQR].\n",
    "    \n",
    "    Returns a masked array where outliers are masked (NaN).\n",
    "    \"\"\"\n",
    "    # Q1 = np.percentile(all_grads, 25, axis=0, keepdims=True)\n",
    "    # Q3 = np.percentile(all_grads, 75, axis=0, keepdims=True)\n",
    "    # IQR = Q3 - Q1\n",
    "    \n",
    "    # lower = Q1 - k * IQR\n",
    "    # upper = Q3 + k * IQR\n",
    "\n",
    "    lower = np.percentile(all_grads, 1, axis=0, keepdims=True)\n",
    "    upper = np.percentile(all_grads, 99, axis=0, keepdims=True)\n",
    "    \n",
    "    mask = (all_grads >= lower) & (all_grads <= upper)\n",
    "    \n",
    "    cleaned = np.where(mask, all_grads, np.nan)\n",
    "    \n",
    "    return cleaned\n",
    "\n",
    "all_grads_no_outliers = remove_outliers_iqr(all_grads, k=1.5)"
   ]
  },
  {
   "cell_type": "code",
   "execution_count": 56,
   "id": "1648582e",
   "metadata": {},
   "outputs": [
    {
     "data": {
      "text/plain": [
       "2.0"
      ]
     },
     "execution_count": 56,
     "metadata": {},
     "output_type": "execute_result"
    }
   ],
   "source": [
    "nan_count = np.isnan(all_grads_no_outliers).sum()\n",
    "nan_count / all_grads_no_outliers.size * 100"
   ]
  },
  {
   "cell_type": "code",
   "execution_count": 57,
   "id": "7ec391be",
   "metadata": {},
   "outputs": [
    {
     "name": "stdout",
     "output_type": "stream",
     "text": [
      "Variance of gradient components (over 100 trials):\n",
      "  Visible biases (b):      4.511720e+00\n",
      "  Weights (W):             3.054538e+00\n",
      "  Hidden biases (a):       4.356068e+00\n"
     ]
    }
   ],
   "source": [
    "# ----------------------------\n",
    "# Variance calculations\n",
    "# ----------------------------\n",
    "N = L               # number of visible units\n",
    "M = alpha * N      # number of hidden units\n",
    "\n",
    "b_var = np.nanvar(all_grads_no_outliers[:, :N], ddof=1)  \n",
    "W_var = np.nanvar(all_grads_no_outliers[:, N: N + M * N], ddof=1)\n",
    "a_var = np.nanvar(all_grads_no_outliers[:, N + M * N:], ddof=1)\n",
    "\n",
    "print(f\"Variance of gradient components (over {n_trials} trials):\")\n",
    "print(f\"  Visible biases (b):      {b_var:.6e}\")\n",
    "print(f\"  Weights (W):             {W_var:.6e}\")\n",
    "print(f\"  Hidden biases (a):       {a_var:.6e}\")"
   ]
  },
  {
   "cell_type": "code",
   "execution_count": 64,
   "id": "c4b168b2",
   "metadata": {},
   "outputs": [
    {
     "data": {
      "image/png": "[encoded data removed]",
      "text/plain": [
       "<Figure size 640x480 with 1 Axes>"
      ]
     },
     "metadata": {},
     "output_type": "display_data"
    }
   ],
   "source": [
    "import seaborn as sns\n",
    "plt.figure()\n",
    "sns.kdeplot(all_grads_no_outliers.reshape(-1), fill=True, bw_adjust=1)\n",
    "plt.title(r\"Initial Gradient Distribution; N=%d, $\\sigma$=%.1f, alpha=%d\" % (N, sigma, alpha))\n",
    "plt.xlabel(\"Gradient values\")\n",
    "plt.xlim(-6, 6)\n",
    "plt.show()\n"
   ]
  },
  {
   "cell_type": "code",
   "execution_count": null,
   "id": "96aba375",
   "metadata": {},
   "outputs": [],
   "source": []
  }
 ],
 "metadata": {
  "kernelspec": {
   "display_name": "Python 3",
   "language": "python",
   "name": "python3"
  },
  "language_info": {
   "codemirror_mode": {
    "name": "ipython",
    "version": 3
   },
   "file_extension": ".py",
   "mimetype": "text/x-python",
   "name": "python",
   "nbconvert_exporter": "python",
   "pygments_lexer": "ipython3",
   "version": "3.11.9"
  }
 },
 "nbformat": 4,
 "nbformat_minor": 5
}
